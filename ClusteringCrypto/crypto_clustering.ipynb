{
 "cells": [
  {
   "cell_type": "markdown",
   "metadata": {},
   "source": [
    "# Clustering Crypto\n",
    "\n",
    "### Unit 13 - Option 2 - Gregory Terrinoni"
   ]
  },
  {
   "cell_type": "code",
   "execution_count": 201,
   "metadata": {
    "scrolled": true
   },
   "outputs": [],
   "source": [
    "# Initial imports\n",
    "import requests\n",
    "import numpy as np\n",
    "from pathlib import Path\n",
    "import pandas as pd\n",
    "import matplotlib.pyplot as plt\n",
    "import hvplot.pandas\n",
    "import plotly.express as px\n",
    "from sklearn.preprocessing import StandardScaler, MinMaxScaler\n",
    "from sklearn.decomposition import PCA\n",
    "from sklearn.cluster import KMeans"
   ]
  },
  {
   "cell_type": "markdown",
   "metadata": {},
   "source": [
    "### Fetching Cryptocurrency Data"
   ]
  },
  {
   "cell_type": "code",
   "execution_count": 202,
   "metadata": {},
   "outputs": [],
   "source": [
    "# Fetching coin data from CryptoCompare\n",
    "#url = \"https://min-api.cryptocompare.com/data/all/coinlist\"\n",
    "#response = requests.get(url)\n",
    "#data = response.json()"
   ]
  },
  {
   "cell_type": "code",
   "execution_count": 203,
   "metadata": {},
   "outputs": [],
   "source": [
    "# Creating a DataFrame from raw data\n",
    "#raw_data = data['Data']\n",
    "#crypto_df = pd.DataFrame.from_dict(raw_data).T"
   ]
  },
  {
   "cell_type": "code",
   "execution_count": 204,
   "metadata": {},
   "outputs": [],
   "source": [
    " # Reading in csv file:\n",
    "file_path = Path(\"Resources/crypto_data.csv\")\n",
    "\n",
    "# Create a DataFrame\n",
    "crypto_df = pd.read_csv(file_path, index_col=0)"
   ]
  },
  {
   "cell_type": "markdown",
   "metadata": {},
   "source": [
    "### Data Preprocessing"
   ]
  },
  {
   "cell_type": "code",
   "execution_count": 205,
   "metadata": {},
   "outputs": [],
   "source": [
    "# Selecting relevant columns\n",
    "crypto_df = crypto_df[['CoinName','Algorithm','IsTrading','ProofType','TotalCoinsMined','TotalCoinSupply']]\n",
    "# Further cleaning of data and changing dtypes\n",
    "crypto_df[\"TotalCoinSupply\"] = crypto_df[\"TotalCoinSupply\"].str.replace(\" \",\"\")\n",
    "crypto_df[\"TotalCoinSupply\"] = crypto_df[\"TotalCoinSupply\"].str.replace(\"10.500.000\",\"10500000\")\n",
    "crypto_df[\"TotalCoinSupply\"] = crypto_df[\"TotalCoinSupply\"].str.replace(\"1.000.000\",\"1000000\")\n",
    "crypto_df[\"TotalCoinSupply\"] = crypto_df[\"TotalCoinSupply\"].astype(float)"
   ]
  },
  {
   "cell_type": "code",
   "execution_count": 206,
   "metadata": {},
   "outputs": [
    {
     "data": {
      "text/html": [
       "<div>\n",
       "<style scoped>\n",
       "    .dataframe tbody tr th:only-of-type {\n",
       "        vertical-align: middle;\n",
       "    }\n",
       "\n",
       "    .dataframe tbody tr th {\n",
       "        vertical-align: top;\n",
       "    }\n",
       "\n",
       "    .dataframe thead th {\n",
       "        text-align: right;\n",
       "    }\n",
       "</style>\n",
       "<table border=\"1\" class=\"dataframe\">\n",
       "  <thead>\n",
       "    <tr style=\"text-align: right;\">\n",
       "      <th></th>\n",
       "      <th>CoinName</th>\n",
       "      <th>Algorithm</th>\n",
       "      <th>IsTrading</th>\n",
       "      <th>ProofType</th>\n",
       "      <th>TotalCoinsMined</th>\n",
       "      <th>TotalCoinSupply</th>\n",
       "    </tr>\n",
       "  </thead>\n",
       "  <tbody>\n",
       "    <tr>\n",
       "      <th>42</th>\n",
       "      <td>42 Coin</td>\n",
       "      <td>Scrypt</td>\n",
       "      <td>True</td>\n",
       "      <td>PoW/PoS</td>\n",
       "      <td>4.199995e+01</td>\n",
       "      <td>4.200000e+01</td>\n",
       "    </tr>\n",
       "    <tr>\n",
       "      <th>365</th>\n",
       "      <td>365Coin</td>\n",
       "      <td>X11</td>\n",
       "      <td>True</td>\n",
       "      <td>PoW/PoS</td>\n",
       "      <td>NaN</td>\n",
       "      <td>2.300000e+09</td>\n",
       "    </tr>\n",
       "    <tr>\n",
       "      <th>404</th>\n",
       "      <td>404Coin</td>\n",
       "      <td>Scrypt</td>\n",
       "      <td>True</td>\n",
       "      <td>PoW/PoS</td>\n",
       "      <td>1.055185e+09</td>\n",
       "      <td>5.320000e+08</td>\n",
       "    </tr>\n",
       "    <tr>\n",
       "      <th>611</th>\n",
       "      <td>SixEleven</td>\n",
       "      <td>SHA-256</td>\n",
       "      <td>True</td>\n",
       "      <td>PoW</td>\n",
       "      <td>NaN</td>\n",
       "      <td>6.110000e+05</td>\n",
       "    </tr>\n",
       "    <tr>\n",
       "      <th>808</th>\n",
       "      <td>808</td>\n",
       "      <td>SHA-256</td>\n",
       "      <td>True</td>\n",
       "      <td>PoW/PoS</td>\n",
       "      <td>0.000000e+00</td>\n",
       "      <td>0.000000e+00</td>\n",
       "    </tr>\n",
       "  </tbody>\n",
       "</table>\n",
       "</div>"
      ],
      "text/plain": [
       "      CoinName Algorithm  IsTrading ProofType  TotalCoinsMined  \\\n",
       "42     42 Coin    Scrypt       True   PoW/PoS     4.199995e+01   \n",
       "365    365Coin       X11       True   PoW/PoS              NaN   \n",
       "404    404Coin    Scrypt       True   PoW/PoS     1.055185e+09   \n",
       "611  SixEleven   SHA-256       True       PoW              NaN   \n",
       "808        808   SHA-256       True   PoW/PoS     0.000000e+00   \n",
       "\n",
       "     TotalCoinSupply  \n",
       "42      4.200000e+01  \n",
       "365     2.300000e+09  \n",
       "404     5.320000e+08  \n",
       "611     6.110000e+05  \n",
       "808     0.000000e+00  "
      ]
     },
     "execution_count": 206,
     "metadata": {},
     "output_type": "execute_result"
    }
   ],
   "source": [
    "# Selecting only cryptocurrencies that are trading\n",
    "crypto_df = crypto_df[crypto_df['IsTrading'] == True] \n",
    "crypto_df.head()"
   ]
  },
  {
   "cell_type": "code",
   "execution_count": 207,
   "metadata": {},
   "outputs": [
    {
     "data": {
      "text/html": [
       "<div>\n",
       "<style scoped>\n",
       "    .dataframe tbody tr th:only-of-type {\n",
       "        vertical-align: middle;\n",
       "    }\n",
       "\n",
       "    .dataframe tbody tr th {\n",
       "        vertical-align: top;\n",
       "    }\n",
       "\n",
       "    .dataframe thead th {\n",
       "        text-align: right;\n",
       "    }\n",
       "</style>\n",
       "<table border=\"1\" class=\"dataframe\">\n",
       "  <thead>\n",
       "    <tr style=\"text-align: right;\">\n",
       "      <th></th>\n",
       "      <th>CoinName</th>\n",
       "      <th>Algorithm</th>\n",
       "      <th>IsTrading</th>\n",
       "      <th>ProofType</th>\n",
       "      <th>TotalCoinsMined</th>\n",
       "      <th>TotalCoinSupply</th>\n",
       "    </tr>\n",
       "  </thead>\n",
       "  <tbody>\n",
       "    <tr>\n",
       "      <th>42</th>\n",
       "      <td>42 Coin</td>\n",
       "      <td>Scrypt</td>\n",
       "      <td>True</td>\n",
       "      <td>PoW/PoS</td>\n",
       "      <td>4.199995e+01</td>\n",
       "      <td>4.200000e+01</td>\n",
       "    </tr>\n",
       "    <tr>\n",
       "      <th>365</th>\n",
       "      <td>365Coin</td>\n",
       "      <td>X11</td>\n",
       "      <td>True</td>\n",
       "      <td>PoW/PoS</td>\n",
       "      <td>NaN</td>\n",
       "      <td>2.300000e+09</td>\n",
       "    </tr>\n",
       "    <tr>\n",
       "      <th>404</th>\n",
       "      <td>404Coin</td>\n",
       "      <td>Scrypt</td>\n",
       "      <td>True</td>\n",
       "      <td>PoW/PoS</td>\n",
       "      <td>1.055185e+09</td>\n",
       "      <td>5.320000e+08</td>\n",
       "    </tr>\n",
       "    <tr>\n",
       "      <th>611</th>\n",
       "      <td>SixEleven</td>\n",
       "      <td>SHA-256</td>\n",
       "      <td>True</td>\n",
       "      <td>PoW</td>\n",
       "      <td>NaN</td>\n",
       "      <td>6.110000e+05</td>\n",
       "    </tr>\n",
       "    <tr>\n",
       "      <th>808</th>\n",
       "      <td>808</td>\n",
       "      <td>SHA-256</td>\n",
       "      <td>True</td>\n",
       "      <td>PoW/PoS</td>\n",
       "      <td>0.000000e+00</td>\n",
       "      <td>0.000000e+00</td>\n",
       "    </tr>\n",
       "  </tbody>\n",
       "</table>\n",
       "</div>"
      ],
      "text/plain": [
       "      CoinName Algorithm  IsTrading ProofType  TotalCoinsMined  \\\n",
       "42     42 Coin    Scrypt       True   PoW/PoS     4.199995e+01   \n",
       "365    365Coin       X11       True   PoW/PoS              NaN   \n",
       "404    404Coin    Scrypt       True   PoW/PoS     1.055185e+09   \n",
       "611  SixEleven   SHA-256       True       PoW              NaN   \n",
       "808        808   SHA-256       True   PoW/PoS     0.000000e+00   \n",
       "\n",
       "     TotalCoinSupply  \n",
       "42      4.200000e+01  \n",
       "365     2.300000e+09  \n",
       "404     5.320000e+08  \n",
       "611     6.110000e+05  \n",
       "808     0.000000e+00  "
      ]
     },
     "execution_count": 207,
     "metadata": {},
     "output_type": "execute_result"
    }
   ],
   "source": [
    "# Selecting only cryptocurrencies with a working algorithm\n",
    "crypto_df = crypto_df[crypto_df['Algorithm'] != 'N/A']\n",
    "crypto_df.head()"
   ]
  },
  {
   "cell_type": "code",
   "execution_count": 208,
   "metadata": {},
   "outputs": [
    {
     "data": {
      "text/html": [
       "<div>\n",
       "<style scoped>\n",
       "    .dataframe tbody tr th:only-of-type {\n",
       "        vertical-align: middle;\n",
       "    }\n",
       "\n",
       "    .dataframe tbody tr th {\n",
       "        vertical-align: top;\n",
       "    }\n",
       "\n",
       "    .dataframe thead th {\n",
       "        text-align: right;\n",
       "    }\n",
       "</style>\n",
       "<table border=\"1\" class=\"dataframe\">\n",
       "  <thead>\n",
       "    <tr style=\"text-align: right;\">\n",
       "      <th></th>\n",
       "      <th>CoinName</th>\n",
       "      <th>Algorithm</th>\n",
       "      <th>ProofType</th>\n",
       "      <th>TotalCoinsMined</th>\n",
       "      <th>TotalCoinSupply</th>\n",
       "    </tr>\n",
       "  </thead>\n",
       "  <tbody>\n",
       "    <tr>\n",
       "      <th>42</th>\n",
       "      <td>42 Coin</td>\n",
       "      <td>Scrypt</td>\n",
       "      <td>PoW/PoS</td>\n",
       "      <td>4.199995e+01</td>\n",
       "      <td>4.200000e+01</td>\n",
       "    </tr>\n",
       "    <tr>\n",
       "      <th>365</th>\n",
       "      <td>365Coin</td>\n",
       "      <td>X11</td>\n",
       "      <td>PoW/PoS</td>\n",
       "      <td>NaN</td>\n",
       "      <td>2.300000e+09</td>\n",
       "    </tr>\n",
       "    <tr>\n",
       "      <th>404</th>\n",
       "      <td>404Coin</td>\n",
       "      <td>Scrypt</td>\n",
       "      <td>PoW/PoS</td>\n",
       "      <td>1.055185e+09</td>\n",
       "      <td>5.320000e+08</td>\n",
       "    </tr>\n",
       "    <tr>\n",
       "      <th>611</th>\n",
       "      <td>SixEleven</td>\n",
       "      <td>SHA-256</td>\n",
       "      <td>PoW</td>\n",
       "      <td>NaN</td>\n",
       "      <td>6.110000e+05</td>\n",
       "    </tr>\n",
       "    <tr>\n",
       "      <th>808</th>\n",
       "      <td>808</td>\n",
       "      <td>SHA-256</td>\n",
       "      <td>PoW/PoS</td>\n",
       "      <td>0.000000e+00</td>\n",
       "      <td>0.000000e+00</td>\n",
       "    </tr>\n",
       "  </tbody>\n",
       "</table>\n",
       "</div>"
      ],
      "text/plain": [
       "      CoinName Algorithm ProofType  TotalCoinsMined  TotalCoinSupply\n",
       "42     42 Coin    Scrypt   PoW/PoS     4.199995e+01     4.200000e+01\n",
       "365    365Coin       X11   PoW/PoS              NaN     2.300000e+09\n",
       "404    404Coin    Scrypt   PoW/PoS     1.055185e+09     5.320000e+08\n",
       "611  SixEleven   SHA-256       PoW              NaN     6.110000e+05\n",
       "808        808   SHA-256   PoW/PoS     0.000000e+00     0.000000e+00"
      ]
     },
     "execution_count": 208,
     "metadata": {},
     "output_type": "execute_result"
    }
   ],
   "source": [
    "# Removing the \"IsTrading\" column\n",
    "crypto_df = crypto_df.drop(\"IsTrading\", 1)\n",
    "crypto_df.head()"
   ]
  },
  {
   "cell_type": "code",
   "execution_count": 209,
   "metadata": {},
   "outputs": [
    {
     "data": {
      "text/html": [
       "<div>\n",
       "<style scoped>\n",
       "    .dataframe tbody tr th:only-of-type {\n",
       "        vertical-align: middle;\n",
       "    }\n",
       "\n",
       "    .dataframe tbody tr th {\n",
       "        vertical-align: top;\n",
       "    }\n",
       "\n",
       "    .dataframe thead th {\n",
       "        text-align: right;\n",
       "    }\n",
       "</style>\n",
       "<table border=\"1\" class=\"dataframe\">\n",
       "  <thead>\n",
       "    <tr style=\"text-align: right;\">\n",
       "      <th></th>\n",
       "      <th>CoinName</th>\n",
       "      <th>Algorithm</th>\n",
       "      <th>ProofType</th>\n",
       "      <th>TotalCoinsMined</th>\n",
       "      <th>TotalCoinSupply</th>\n",
       "    </tr>\n",
       "  </thead>\n",
       "  <tbody>\n",
       "    <tr>\n",
       "      <th>42</th>\n",
       "      <td>42 Coin</td>\n",
       "      <td>Scrypt</td>\n",
       "      <td>PoW/PoS</td>\n",
       "      <td>4.199995e+01</td>\n",
       "      <td>4.200000e+01</td>\n",
       "    </tr>\n",
       "    <tr>\n",
       "      <th>365</th>\n",
       "      <td>365Coin</td>\n",
       "      <td>X11</td>\n",
       "      <td>PoW/PoS</td>\n",
       "      <td>NaN</td>\n",
       "      <td>2.300000e+09</td>\n",
       "    </tr>\n",
       "    <tr>\n",
       "      <th>404</th>\n",
       "      <td>404Coin</td>\n",
       "      <td>Scrypt</td>\n",
       "      <td>PoW/PoS</td>\n",
       "      <td>1.055185e+09</td>\n",
       "      <td>5.320000e+08</td>\n",
       "    </tr>\n",
       "    <tr>\n",
       "      <th>611</th>\n",
       "      <td>SixEleven</td>\n",
       "      <td>SHA-256</td>\n",
       "      <td>PoW</td>\n",
       "      <td>NaN</td>\n",
       "      <td>6.110000e+05</td>\n",
       "    </tr>\n",
       "    <tr>\n",
       "      <th>808</th>\n",
       "      <td>808</td>\n",
       "      <td>SHA-256</td>\n",
       "      <td>PoW/PoS</td>\n",
       "      <td>0.000000e+00</td>\n",
       "      <td>0.000000e+00</td>\n",
       "    </tr>\n",
       "  </tbody>\n",
       "</table>\n",
       "</div>"
      ],
      "text/plain": [
       "      CoinName Algorithm ProofType  TotalCoinsMined  TotalCoinSupply\n",
       "42     42 Coin    Scrypt   PoW/PoS     4.199995e+01     4.200000e+01\n",
       "365    365Coin       X11   PoW/PoS              NaN     2.300000e+09\n",
       "404    404Coin    Scrypt   PoW/PoS     1.055185e+09     5.320000e+08\n",
       "611  SixEleven   SHA-256       PoW              NaN     6.110000e+05\n",
       "808        808   SHA-256   PoW/PoS     0.000000e+00     0.000000e+00"
      ]
     },
     "execution_count": 209,
     "metadata": {},
     "output_type": "execute_result"
    }
   ],
   "source": [
    "# Removing rows with at least 1 null value\n",
    "crypto_df = crypto_df.dropna(thresh=1)\n",
    "crypto_df.head()"
   ]
  },
  {
   "cell_type": "code",
   "execution_count": 210,
   "metadata": {},
   "outputs": [
    {
     "data": {
      "text/html": [
       "<div>\n",
       "<style scoped>\n",
       "    .dataframe tbody tr th:only-of-type {\n",
       "        vertical-align: middle;\n",
       "    }\n",
       "\n",
       "    .dataframe tbody tr th {\n",
       "        vertical-align: top;\n",
       "    }\n",
       "\n",
       "    .dataframe thead th {\n",
       "        text-align: right;\n",
       "    }\n",
       "</style>\n",
       "<table border=\"1\" class=\"dataframe\">\n",
       "  <thead>\n",
       "    <tr style=\"text-align: right;\">\n",
       "      <th></th>\n",
       "      <th>CoinName</th>\n",
       "      <th>Algorithm</th>\n",
       "      <th>ProofType</th>\n",
       "      <th>TotalCoinsMined</th>\n",
       "      <th>TotalCoinSupply</th>\n",
       "    </tr>\n",
       "  </thead>\n",
       "  <tbody>\n",
       "    <tr>\n",
       "      <th>42</th>\n",
       "      <td>42 Coin</td>\n",
       "      <td>Scrypt</td>\n",
       "      <td>PoW/PoS</td>\n",
       "      <td>4.199995e+01</td>\n",
       "      <td>4.200000e+01</td>\n",
       "    </tr>\n",
       "    <tr>\n",
       "      <th>404</th>\n",
       "      <td>404Coin</td>\n",
       "      <td>Scrypt</td>\n",
       "      <td>PoW/PoS</td>\n",
       "      <td>1.055185e+09</td>\n",
       "      <td>5.320000e+08</td>\n",
       "    </tr>\n",
       "    <tr>\n",
       "      <th>1337</th>\n",
       "      <td>EliteCoin</td>\n",
       "      <td>X13</td>\n",
       "      <td>PoW/PoS</td>\n",
       "      <td>2.927942e+10</td>\n",
       "      <td>3.141593e+11</td>\n",
       "    </tr>\n",
       "    <tr>\n",
       "      <th>BTC</th>\n",
       "      <td>Bitcoin</td>\n",
       "      <td>SHA-256</td>\n",
       "      <td>PoW</td>\n",
       "      <td>1.792718e+07</td>\n",
       "      <td>2.100000e+07</td>\n",
       "    </tr>\n",
       "    <tr>\n",
       "      <th>ETH</th>\n",
       "      <td>Ethereum</td>\n",
       "      <td>Ethash</td>\n",
       "      <td>PoW</td>\n",
       "      <td>1.076842e+08</td>\n",
       "      <td>0.000000e+00</td>\n",
       "    </tr>\n",
       "  </tbody>\n",
       "</table>\n",
       "</div>"
      ],
      "text/plain": [
       "       CoinName Algorithm ProofType  TotalCoinsMined  TotalCoinSupply\n",
       "42      42 Coin    Scrypt   PoW/PoS     4.199995e+01     4.200000e+01\n",
       "404     404Coin    Scrypt   PoW/PoS     1.055185e+09     5.320000e+08\n",
       "1337  EliteCoin       X13   PoW/PoS     2.927942e+10     3.141593e+11\n",
       "BTC     Bitcoin   SHA-256       PoW     1.792718e+07     2.100000e+07\n",
       "ETH    Ethereum    Ethash       PoW     1.076842e+08     0.000000e+00"
      ]
     },
     "execution_count": 210,
     "metadata": {},
     "output_type": "execute_result"
    }
   ],
   "source": [
    "# Removing rows with cryptocurrencies having no coins mined\n",
    "crypto_df = crypto_df[crypto_df['TotalCoinsMined'] > 0]\n",
    "crypto_df.head()"
   ]
  },
  {
   "cell_type": "code",
   "execution_count": 211,
   "metadata": {},
   "outputs": [],
   "source": [
    "# Dropping rows where there are 'N/A' text values\n",
    "crypto_df = crypto_df[(crypto_df != 'N/A').all(axis=1)]"
   ]
  },
  {
   "cell_type": "code",
   "execution_count": 212,
   "metadata": {},
   "outputs": [
    {
     "data": {
      "text/html": [
       "<div>\n",
       "<style scoped>\n",
       "    .dataframe tbody tr th:only-of-type {\n",
       "        vertical-align: middle;\n",
       "    }\n",
       "\n",
       "    .dataframe tbody tr th {\n",
       "        vertical-align: top;\n",
       "    }\n",
       "\n",
       "    .dataframe thead th {\n",
       "        text-align: right;\n",
       "    }\n",
       "</style>\n",
       "<table border=\"1\" class=\"dataframe\">\n",
       "  <thead>\n",
       "    <tr style=\"text-align: right;\">\n",
       "      <th></th>\n",
       "      <th>CoinName</th>\n",
       "    </tr>\n",
       "  </thead>\n",
       "  <tbody>\n",
       "    <tr>\n",
       "      <th>42</th>\n",
       "      <td>42 Coin</td>\n",
       "    </tr>\n",
       "    <tr>\n",
       "      <th>404</th>\n",
       "      <td>404Coin</td>\n",
       "    </tr>\n",
       "    <tr>\n",
       "      <th>1337</th>\n",
       "      <td>EliteCoin</td>\n",
       "    </tr>\n",
       "    <tr>\n",
       "      <th>BTC</th>\n",
       "      <td>Bitcoin</td>\n",
       "    </tr>\n",
       "    <tr>\n",
       "      <th>ETH</th>\n",
       "      <td>Ethereum</td>\n",
       "    </tr>\n",
       "  </tbody>\n",
       "</table>\n",
       "</div>"
      ],
      "text/plain": [
       "       CoinName\n",
       "42      42 Coin\n",
       "404     404Coin\n",
       "1337  EliteCoin\n",
       "BTC     Bitcoin\n",
       "ETH    Ethereum"
      ]
     },
     "execution_count": 212,
     "metadata": {},
     "output_type": "execute_result"
    }
   ],
   "source": [
    "# Storing the 'CoinName'column in its own DataFrame prior to dropping it from crypto_df\n",
    "coins_name = crypto_df[[\"CoinName\"]]\n",
    "coins_name.head()"
   ]
  },
  {
   "cell_type": "code",
   "execution_count": 213,
   "metadata": {},
   "outputs": [
    {
     "data": {
      "text/html": [
       "<div>\n",
       "<style scoped>\n",
       "    .dataframe tbody tr th:only-of-type {\n",
       "        vertical-align: middle;\n",
       "    }\n",
       "\n",
       "    .dataframe tbody tr th {\n",
       "        vertical-align: top;\n",
       "    }\n",
       "\n",
       "    .dataframe thead th {\n",
       "        text-align: right;\n",
       "    }\n",
       "</style>\n",
       "<table border=\"1\" class=\"dataframe\">\n",
       "  <thead>\n",
       "    <tr style=\"text-align: right;\">\n",
       "      <th></th>\n",
       "      <th>Algorithm</th>\n",
       "      <th>ProofType</th>\n",
       "      <th>TotalCoinsMined</th>\n",
       "      <th>TotalCoinSupply</th>\n",
       "    </tr>\n",
       "  </thead>\n",
       "  <tbody>\n",
       "    <tr>\n",
       "      <th>42</th>\n",
       "      <td>Scrypt</td>\n",
       "      <td>PoW/PoS</td>\n",
       "      <td>4.199995e+01</td>\n",
       "      <td>4.200000e+01</td>\n",
       "    </tr>\n",
       "    <tr>\n",
       "      <th>404</th>\n",
       "      <td>Scrypt</td>\n",
       "      <td>PoW/PoS</td>\n",
       "      <td>1.055185e+09</td>\n",
       "      <td>5.320000e+08</td>\n",
       "    </tr>\n",
       "    <tr>\n",
       "      <th>1337</th>\n",
       "      <td>X13</td>\n",
       "      <td>PoW/PoS</td>\n",
       "      <td>2.927942e+10</td>\n",
       "      <td>3.141593e+11</td>\n",
       "    </tr>\n",
       "    <tr>\n",
       "      <th>BTC</th>\n",
       "      <td>SHA-256</td>\n",
       "      <td>PoW</td>\n",
       "      <td>1.792718e+07</td>\n",
       "      <td>2.100000e+07</td>\n",
       "    </tr>\n",
       "    <tr>\n",
       "      <th>ETH</th>\n",
       "      <td>Ethash</td>\n",
       "      <td>PoW</td>\n",
       "      <td>1.076842e+08</td>\n",
       "      <td>0.000000e+00</td>\n",
       "    </tr>\n",
       "  </tbody>\n",
       "</table>\n",
       "</div>"
      ],
      "text/plain": [
       "     Algorithm ProofType  TotalCoinsMined  TotalCoinSupply\n",
       "42      Scrypt   PoW/PoS     4.199995e+01     4.200000e+01\n",
       "404     Scrypt   PoW/PoS     1.055185e+09     5.320000e+08\n",
       "1337       X13   PoW/PoS     2.927942e+10     3.141593e+11\n",
       "BTC    SHA-256       PoW     1.792718e+07     2.100000e+07\n",
       "ETH     Ethash       PoW     1.076842e+08     0.000000e+00"
      ]
     },
     "execution_count": 213,
     "metadata": {},
     "output_type": "execute_result"
    }
   ],
   "source": [
    "# Dropping the 'CoinName' column since it's not going to be used on the clustering algorithm\n",
    "crypto_df = crypto_df.drop(\"CoinName\", 1)\n",
    "crypto_df.head()"
   ]
  },
  {
   "cell_type": "code",
   "execution_count": 214,
   "metadata": {},
   "outputs": [
    {
     "data": {
      "text/html": [
       "<div>\n",
       "<style scoped>\n",
       "    .dataframe tbody tr th:only-of-type {\n",
       "        vertical-align: middle;\n",
       "    }\n",
       "\n",
       "    .dataframe tbody tr th {\n",
       "        vertical-align: top;\n",
       "    }\n",
       "\n",
       "    .dataframe thead th {\n",
       "        text-align: right;\n",
       "    }\n",
       "</style>\n",
       "<table border=\"1\" class=\"dataframe\">\n",
       "  <thead>\n",
       "    <tr style=\"text-align: right;\">\n",
       "      <th></th>\n",
       "      <th>TotalCoinsMined</th>\n",
       "      <th>TotalCoinSupply</th>\n",
       "      <th>Algorithm_1GB AES Pattern Search</th>\n",
       "      <th>Algorithm_536</th>\n",
       "      <th>Algorithm_Argon2d</th>\n",
       "      <th>Algorithm_BLAKE256</th>\n",
       "      <th>Algorithm_Blake</th>\n",
       "      <th>Algorithm_Blake2S</th>\n",
       "      <th>Algorithm_Blake2b</th>\n",
       "      <th>Algorithm_C11</th>\n",
       "      <th>...</th>\n",
       "      <th>ProofType_PoW/PoS</th>\n",
       "      <th>ProofType_PoW/PoS</th>\n",
       "      <th>ProofType_PoW/PoW</th>\n",
       "      <th>ProofType_PoW/nPoS</th>\n",
       "      <th>ProofType_Pos</th>\n",
       "      <th>ProofType_Proof of Authority</th>\n",
       "      <th>ProofType_Proof of Trust</th>\n",
       "      <th>ProofType_TPoS</th>\n",
       "      <th>ProofType_Zero-Knowledge Proof</th>\n",
       "      <th>ProofType_dPoW/PoW</th>\n",
       "    </tr>\n",
       "  </thead>\n",
       "  <tbody>\n",
       "    <tr>\n",
       "      <th>42</th>\n",
       "      <td>4.199995e+01</td>\n",
       "      <td>4.200000e+01</td>\n",
       "      <td>0</td>\n",
       "      <td>0</td>\n",
       "      <td>0</td>\n",
       "      <td>0</td>\n",
       "      <td>0</td>\n",
       "      <td>0</td>\n",
       "      <td>0</td>\n",
       "      <td>0</td>\n",
       "      <td>...</td>\n",
       "      <td>1</td>\n",
       "      <td>0</td>\n",
       "      <td>0</td>\n",
       "      <td>0</td>\n",
       "      <td>0</td>\n",
       "      <td>0</td>\n",
       "      <td>0</td>\n",
       "      <td>0</td>\n",
       "      <td>0</td>\n",
       "      <td>0</td>\n",
       "    </tr>\n",
       "    <tr>\n",
       "      <th>404</th>\n",
       "      <td>1.055185e+09</td>\n",
       "      <td>5.320000e+08</td>\n",
       "      <td>0</td>\n",
       "      <td>0</td>\n",
       "      <td>0</td>\n",
       "      <td>0</td>\n",
       "      <td>0</td>\n",
       "      <td>0</td>\n",
       "      <td>0</td>\n",
       "      <td>0</td>\n",
       "      <td>...</td>\n",
       "      <td>1</td>\n",
       "      <td>0</td>\n",
       "      <td>0</td>\n",
       "      <td>0</td>\n",
       "      <td>0</td>\n",
       "      <td>0</td>\n",
       "      <td>0</td>\n",
       "      <td>0</td>\n",
       "      <td>0</td>\n",
       "      <td>0</td>\n",
       "    </tr>\n",
       "    <tr>\n",
       "      <th>1337</th>\n",
       "      <td>2.927942e+10</td>\n",
       "      <td>3.141593e+11</td>\n",
       "      <td>0</td>\n",
       "      <td>0</td>\n",
       "      <td>0</td>\n",
       "      <td>0</td>\n",
       "      <td>0</td>\n",
       "      <td>0</td>\n",
       "      <td>0</td>\n",
       "      <td>0</td>\n",
       "      <td>...</td>\n",
       "      <td>1</td>\n",
       "      <td>0</td>\n",
       "      <td>0</td>\n",
       "      <td>0</td>\n",
       "      <td>0</td>\n",
       "      <td>0</td>\n",
       "      <td>0</td>\n",
       "      <td>0</td>\n",
       "      <td>0</td>\n",
       "      <td>0</td>\n",
       "    </tr>\n",
       "    <tr>\n",
       "      <th>BTC</th>\n",
       "      <td>1.792718e+07</td>\n",
       "      <td>2.100000e+07</td>\n",
       "      <td>0</td>\n",
       "      <td>0</td>\n",
       "      <td>0</td>\n",
       "      <td>0</td>\n",
       "      <td>0</td>\n",
       "      <td>0</td>\n",
       "      <td>0</td>\n",
       "      <td>0</td>\n",
       "      <td>...</td>\n",
       "      <td>0</td>\n",
       "      <td>0</td>\n",
       "      <td>0</td>\n",
       "      <td>0</td>\n",
       "      <td>0</td>\n",
       "      <td>0</td>\n",
       "      <td>0</td>\n",
       "      <td>0</td>\n",
       "      <td>0</td>\n",
       "      <td>0</td>\n",
       "    </tr>\n",
       "    <tr>\n",
       "      <th>ETH</th>\n",
       "      <td>1.076842e+08</td>\n",
       "      <td>0.000000e+00</td>\n",
       "      <td>0</td>\n",
       "      <td>0</td>\n",
       "      <td>0</td>\n",
       "      <td>0</td>\n",
       "      <td>0</td>\n",
       "      <td>0</td>\n",
       "      <td>0</td>\n",
       "      <td>0</td>\n",
       "      <td>...</td>\n",
       "      <td>0</td>\n",
       "      <td>0</td>\n",
       "      <td>0</td>\n",
       "      <td>0</td>\n",
       "      <td>0</td>\n",
       "      <td>0</td>\n",
       "      <td>0</td>\n",
       "      <td>0</td>\n",
       "      <td>0</td>\n",
       "      <td>0</td>\n",
       "    </tr>\n",
       "  </tbody>\n",
       "</table>\n",
       "<p>5 rows × 98 columns</p>\n",
       "</div>"
      ],
      "text/plain": [
       "      TotalCoinsMined  TotalCoinSupply  Algorithm_1GB AES Pattern Search  \\\n",
       "42       4.199995e+01     4.200000e+01                                 0   \n",
       "404      1.055185e+09     5.320000e+08                                 0   \n",
       "1337     2.927942e+10     3.141593e+11                                 0   \n",
       "BTC      1.792718e+07     2.100000e+07                                 0   \n",
       "ETH      1.076842e+08     0.000000e+00                                 0   \n",
       "\n",
       "      Algorithm_536  Algorithm_Argon2d  Algorithm_BLAKE256  Algorithm_Blake  \\\n",
       "42                0                  0                   0                0   \n",
       "404               0                  0                   0                0   \n",
       "1337              0                  0                   0                0   \n",
       "BTC               0                  0                   0                0   \n",
       "ETH               0                  0                   0                0   \n",
       "\n",
       "      Algorithm_Blake2S  Algorithm_Blake2b  Algorithm_C11  ...  \\\n",
       "42                    0                  0              0  ...   \n",
       "404                   0                  0              0  ...   \n",
       "1337                  0                  0              0  ...   \n",
       "BTC                   0                  0              0  ...   \n",
       "ETH                   0                  0              0  ...   \n",
       "\n",
       "      ProofType_PoW/PoS  ProofType_PoW/PoS   ProofType_PoW/PoW  \\\n",
       "42                    1                   0                  0   \n",
       "404                   1                   0                  0   \n",
       "1337                  1                   0                  0   \n",
       "BTC                   0                   0                  0   \n",
       "ETH                   0                   0                  0   \n",
       "\n",
       "      ProofType_PoW/nPoS  ProofType_Pos  ProofType_Proof of Authority  \\\n",
       "42                     0              0                             0   \n",
       "404                    0              0                             0   \n",
       "1337                   0              0                             0   \n",
       "BTC                    0              0                             0   \n",
       "ETH                    0              0                             0   \n",
       "\n",
       "      ProofType_Proof of Trust  ProofType_TPoS  \\\n",
       "42                           0               0   \n",
       "404                          0               0   \n",
       "1337                         0               0   \n",
       "BTC                          0               0   \n",
       "ETH                          0               0   \n",
       "\n",
       "      ProofType_Zero-Knowledge Proof  ProofType_dPoW/PoW  \n",
       "42                                 0                   0  \n",
       "404                                0                   0  \n",
       "1337                               0                   0  \n",
       "BTC                                0                   0  \n",
       "ETH                                0                   0  \n",
       "\n",
       "[5 rows x 98 columns]"
      ]
     },
     "execution_count": 214,
     "metadata": {},
     "output_type": "execute_result"
    }
   ],
   "source": [
    "# Creating dummy variables for text features\n",
    "X = pd.get_dummies(crypto_df)\n",
    "X.head()"
   ]
  },
  {
   "cell_type": "code",
   "execution_count": 215,
   "metadata": {},
   "outputs": [],
   "source": [
    "# Standardizing data\n",
    "from sklearn.preprocessing import StandardScaler\n",
    "\n",
    "X_scaled = StandardScaler().fit_transform(X)"
   ]
  },
  {
   "cell_type": "markdown",
   "metadata": {},
   "source": [
    "### Reducing Dimensions Using PCA"
   ]
  },
  {
   "cell_type": "code",
   "execution_count": 216,
   "metadata": {},
   "outputs": [],
   "source": [
    "# Using PCA to reduce dimensions to 3 principal components\n",
    "pca = PCA(n_components=3)\n",
    "crypto_pca = pca.fit_transform(X_scaled)"
   ]
  },
  {
   "cell_type": "code",
   "execution_count": 217,
   "metadata": {},
   "outputs": [
    {
     "data": {
      "text/html": [
       "<div>\n",
       "<style scoped>\n",
       "    .dataframe tbody tr th:only-of-type {\n",
       "        vertical-align: middle;\n",
       "    }\n",
       "\n",
       "    .dataframe tbody tr th {\n",
       "        vertical-align: top;\n",
       "    }\n",
       "\n",
       "    .dataframe thead th {\n",
       "        text-align: right;\n",
       "    }\n",
       "</style>\n",
       "<table border=\"1\" class=\"dataframe\">\n",
       "  <thead>\n",
       "    <tr style=\"text-align: right;\">\n",
       "      <th></th>\n",
       "      <th>PC 1</th>\n",
       "      <th>PC 2</th>\n",
       "      <th>PC 3</th>\n",
       "    </tr>\n",
       "  </thead>\n",
       "  <tbody>\n",
       "    <tr>\n",
       "      <th>42</th>\n",
       "      <td>-0.249655</td>\n",
       "      <td>1.180023</td>\n",
       "      <td>-0.443155</td>\n",
       "    </tr>\n",
       "    <tr>\n",
       "      <th>404</th>\n",
       "      <td>-0.231506</td>\n",
       "      <td>1.179958</td>\n",
       "      <td>-0.443171</td>\n",
       "    </tr>\n",
       "    <tr>\n",
       "      <th>1337</th>\n",
       "      <td>3.367898</td>\n",
       "      <td>1.925363</td>\n",
       "      <td>-0.481329</td>\n",
       "    </tr>\n",
       "    <tr>\n",
       "      <th>BTC</th>\n",
       "      <td>-0.206276</td>\n",
       "      <td>-1.362730</td>\n",
       "      <td>0.155050</td>\n",
       "    </tr>\n",
       "    <tr>\n",
       "      <th>ETH</th>\n",
       "      <td>-0.240556</td>\n",
       "      <td>-2.035828</td>\n",
       "      <td>0.276871</td>\n",
       "    </tr>\n",
       "    <tr>\n",
       "      <th>LTC</th>\n",
       "      <td>-0.198322</td>\n",
       "      <td>-1.072354</td>\n",
       "      <td>-0.018851</td>\n",
       "    </tr>\n",
       "    <tr>\n",
       "      <th>DASH</th>\n",
       "      <td>-0.324650</td>\n",
       "      <td>1.339539</td>\n",
       "      <td>-0.399158</td>\n",
       "    </tr>\n",
       "    <tr>\n",
       "      <th>XMR</th>\n",
       "      <td>-0.237356</td>\n",
       "      <td>-2.278097</td>\n",
       "      <td>0.277219</td>\n",
       "    </tr>\n",
       "    <tr>\n",
       "      <th>ETC</th>\n",
       "      <td>-0.238360</td>\n",
       "      <td>-2.035843</td>\n",
       "      <td>0.276860</td>\n",
       "    </tr>\n",
       "    <tr>\n",
       "      <th>ZEC</th>\n",
       "      <td>-0.235844</td>\n",
       "      <td>-2.091083</td>\n",
       "      <td>0.280992</td>\n",
       "    </tr>\n",
       "  </tbody>\n",
       "</table>\n",
       "</div>"
      ],
      "text/plain": [
       "          PC 1      PC 2      PC 3\n",
       "42   -0.249655  1.180023 -0.443155\n",
       "404  -0.231506  1.179958 -0.443171\n",
       "1337  3.367898  1.925363 -0.481329\n",
       "BTC  -0.206276 -1.362730  0.155050\n",
       "ETH  -0.240556 -2.035828  0.276871\n",
       "LTC  -0.198322 -1.072354 -0.018851\n",
       "DASH -0.324650  1.339539 -0.399158\n",
       "XMR  -0.237356 -2.278097  0.277219\n",
       "ETC  -0.238360 -2.035843  0.276860\n",
       "ZEC  -0.235844 -2.091083  0.280992"
      ]
     },
     "execution_count": 217,
     "metadata": {},
     "output_type": "execute_result"
    }
   ],
   "source": [
    "# Creating a DataFrame with the principal components data\n",
    "df_crypto_pca = pd.DataFrame(\n",
    "                        data=crypto_pca, \n",
    "                        columns=[\"PC 1\", \"PC 2\", \"PC 3\"],\n",
    "                        index = crypto_df.index\n",
    "                        )\n",
    "df_crypto_pca.head(10)"
   ]
  },
  {
   "cell_type": "markdown",
   "metadata": {},
   "source": [
    "### Clustering Crytocurrencies Using K-Means\n",
    "\n",
    "#### Find the Best Value for `k` Using the Elbow Curve"
   ]
  },
  {
   "cell_type": "code",
   "execution_count": 218,
   "metadata": {},
   "outputs": [
    {
     "data": {
      "application/vnd.holoviews_exec.v0+json": "",
      "text/html": [
       "<div id='2594'>\n",
       "\n",
       "\n",
       "\n",
       "\n",
       "\n",
       "  <div class=\"bk-root\" id=\"0f7e3910-5454-4867-bf23-78bf01b516c9\" data-root-id=\"2594\"></div>\n",
       "</div>\n",
       "<script type=\"application/javascript\">(function(root) {\n",
       "  function embed_document(root) {\n",
       "    var docs_json = {\"7597ee95-d15c-462b-a050-f4bdaebae30f\":{\"roots\":{\"references\":[{\"attributes\":{\"active_drag\":\"auto\",\"active_inspect\":\"auto\",\"active_multi\":null,\"active_scroll\":\"auto\",\"active_tap\":\"auto\",\"tools\":[{\"id\":\"2598\"},{\"id\":\"2616\"},{\"id\":\"2617\"},{\"id\":\"2618\"},{\"id\":\"2619\"},{\"id\":\"2620\"}]},\"id\":\"2622\",\"type\":\"Toolbar\"},{\"attributes\":{},\"id\":\"2630\",\"type\":\"Selection\"},{\"attributes\":{\"below\":[{\"id\":\"2608\"}],\"center\":[{\"id\":\"2611\"},{\"id\":\"2615\"}],\"left\":[{\"id\":\"2612\"}],\"margin\":[5,5,5,5],\"min_border_bottom\":10,\"min_border_left\":10,\"min_border_right\":10,\"min_border_top\":10,\"plot_height\":300,\"plot_width\":700,\"renderers\":[{\"id\":\"2635\"}],\"sizing_mode\":\"fixed\",\"title\":{\"id\":\"2600\"},\"toolbar\":{\"id\":\"2622\"},\"x_range\":{\"id\":\"2596\"},\"x_scale\":{\"id\":\"2604\"},\"y_range\":{\"id\":\"2597\"},\"y_scale\":{\"id\":\"2606\"}},\"id\":\"2599\",\"subtype\":\"Figure\",\"type\":\"Plot\"},{\"attributes\":{},\"id\":\"2643\",\"type\":\"BasicTickFormatter\"},{\"attributes\":{},\"id\":\"2620\",\"type\":\"ResetTool\"},{\"attributes\":{\"children\":[{\"id\":\"2595\"},{\"id\":\"2599\"},{\"id\":\"2658\"}],\"margin\":[0,0,0,0],\"name\":\"Row04420\",\"tags\":[\"embedded\"]},\"id\":\"2594\",\"type\":\"Row\"},{\"attributes\":{\"text\":\"Elbow Curve\",\"text_color\":{\"value\":\"black\"},\"text_font_size\":{\"value\":\"12pt\"}},\"id\":\"2600\",\"type\":\"Title\"},{\"attributes\":{\"data_source\":{\"id\":\"2629\"},\"glyph\":{\"id\":\"2632\"},\"hover_glyph\":null,\"muted_glyph\":{\"id\":\"2634\"},\"nonselection_glyph\":{\"id\":\"2633\"},\"selection_glyph\":null,\"view\":{\"id\":\"2636\"}},\"id\":\"2635\",\"type\":\"GlyphRenderer\"},{\"attributes\":{\"line_alpha\":0.1,\"line_color\":\"#1f77b3\",\"line_width\":2,\"x\":{\"field\":\"k\"},\"y\":{\"field\":\"inertia\"}},\"id\":\"2633\",\"type\":\"Line\"},{\"attributes\":{\"axis\":{\"id\":\"2612\"},\"dimension\":1,\"grid_line_color\":null,\"ticker\":null},\"id\":\"2615\",\"type\":\"Grid\"},{\"attributes\":{\"line_alpha\":0.2,\"line_color\":\"#1f77b3\",\"line_width\":2,\"x\":{\"field\":\"k\"},\"y\":{\"field\":\"inertia\"}},\"id\":\"2634\",\"type\":\"Line\"},{\"attributes\":{},\"id\":\"2617\",\"type\":\"PanTool\"},{\"attributes\":{\"data\":{\"inertia\":{\"__ndarray__\":\"GtqgHnVRrUBQBf3QpcqiQExA8OzoF5ZATHuidXuve0DR8pMUKPtwQDMsR370jGlAX80Cpps6Y0CufkiX97RfQHZiBfnT+1lAPfUm9xg9VkA=\",\"dtype\":\"float64\",\"order\":\"little\",\"shape\":[10]},\"k\":[1,2,3,4,5,6,7,8,9,10]},\"selected\":{\"id\":\"2630\"},\"selection_policy\":{\"id\":\"2648\"}},\"id\":\"2629\",\"type\":\"ColumnDataSource\"},{\"attributes\":{\"bottom_units\":\"screen\",\"fill_alpha\":0.5,\"fill_color\":\"lightgrey\",\"left_units\":\"screen\",\"level\":\"overlay\",\"line_alpha\":1.0,\"line_color\":\"black\",\"line_dash\":[4,4],\"line_width\":2,\"right_units\":\"screen\",\"top_units\":\"screen\"},\"id\":\"2621\",\"type\":\"BoxAnnotation\"},{\"attributes\":{},\"id\":\"2613\",\"type\":\"BasicTicker\"},{\"attributes\":{\"end\":4119.106159353715,\"reset_end\":4119.106159353715,\"reset_start\":-277.4227612836962,\"start\":-277.4227612836962,\"tags\":[[[\"inertia\",\"inertia\",null]]]},\"id\":\"2597\",\"type\":\"Range1d\"},{\"attributes\":{\"end\":10.0,\"reset_end\":10.0,\"reset_start\":1.0,\"start\":1.0,\"tags\":[[[\"k\",\"k\",null]]]},\"id\":\"2596\",\"type\":\"Range1d\"},{\"attributes\":{\"axis\":{\"id\":\"2608\"},\"grid_line_color\":null,\"ticker\":null},\"id\":\"2611\",\"type\":\"Grid\"},{\"attributes\":{\"source\":{\"id\":\"2629\"}},\"id\":\"2636\",\"type\":\"CDSView\"},{\"attributes\":{},\"id\":\"2648\",\"type\":\"UnionRenderers\"},{\"attributes\":{},\"id\":\"2606\",\"type\":\"LinearScale\"},{\"attributes\":{\"line_color\":\"#1f77b3\",\"line_width\":2,\"x\":{\"field\":\"k\"},\"y\":{\"field\":\"inertia\"}},\"id\":\"2632\",\"type\":\"Line\"},{\"attributes\":{\"axis_label\":\"inertia\",\"bounds\":\"auto\",\"formatter\":{\"id\":\"2643\"},\"major_label_orientation\":\"horizontal\",\"ticker\":{\"id\":\"2613\"}},\"id\":\"2612\",\"type\":\"LinearAxis\"},{\"attributes\":{\"ticks\":[1,2,3,4,5,6,7,8,9,10]},\"id\":\"2637\",\"type\":\"FixedTicker\"},{\"attributes\":{\"callback\":null,\"renderers\":[{\"id\":\"2635\"}],\"tags\":[\"hv_created\"],\"tooltips\":[[\"k\",\"@{k}\"],[\"inertia\",\"@{inertia}\"]]},\"id\":\"2598\",\"type\":\"HoverTool\"},{\"attributes\":{},\"id\":\"2604\",\"type\":\"LinearScale\"},{\"attributes\":{\"margin\":[5,5,5,5],\"name\":\"HSpacer04425\",\"sizing_mode\":\"stretch_width\"},\"id\":\"2658\",\"type\":\"Spacer\"},{\"attributes\":{},\"id\":\"2618\",\"type\":\"WheelZoomTool\"},{\"attributes\":{\"axis_label\":\"k\",\"bounds\":\"auto\",\"formatter\":{\"id\":\"2639\"},\"major_label_orientation\":\"horizontal\",\"ticker\":{\"id\":\"2637\"}},\"id\":\"2608\",\"type\":\"LinearAxis\"},{\"attributes\":{\"overlay\":{\"id\":\"2621\"}},\"id\":\"2619\",\"type\":\"BoxZoomTool\"},{\"attributes\":{},\"id\":\"2639\",\"type\":\"BasicTickFormatter\"},{\"attributes\":{},\"id\":\"2616\",\"type\":\"SaveTool\"},{\"attributes\":{\"margin\":[5,5,5,5],\"name\":\"HSpacer04424\",\"sizing_mode\":\"stretch_width\"},\"id\":\"2595\",\"type\":\"Spacer\"}],\"root_ids\":[\"2594\"]},\"title\":\"Bokeh Application\",\"version\":\"2.2.3\"}};\n",
       "    var render_items = [{\"docid\":\"7597ee95-d15c-462b-a050-f4bdaebae30f\",\"root_ids\":[\"2594\"],\"roots\":{\"2594\":\"0f7e3910-5454-4867-bf23-78bf01b516c9\"}}];\n",
       "    root.Bokeh.embed.embed_items_notebook(docs_json, render_items);\n",
       "  }\n",
       "  if (root.Bokeh !== undefined && root.Bokeh.Panel !== undefined) {\n",
       "    embed_document(root);\n",
       "  } else {\n",
       "    var attempts = 0;\n",
       "    var timer = setInterval(function(root) {\n",
       "      if (root.Bokeh !== undefined && root.Bokeh.Panel !== undefined) {\n",
       "        clearInterval(timer);\n",
       "        embed_document(root);\n",
       "      } else if (document.readyState == \"complete\") {\n",
       "        attempts++;\n",
       "        if (attempts > 100) {\n",
       "          clearInterval(timer);\n",
       "          console.log(\"Bokeh: ERROR: Unable to run BokehJS code because BokehJS library is missing\");\n",
       "        }\n",
       "      }\n",
       "    }, 10, root)\n",
       "  }\n",
       "})(window);</script>"
      ],
      "text/plain": [
       ":Curve   [k]   (inertia)"
      ]
     },
     "execution_count": 218,
     "metadata": {
      "application/vnd.holoviews_exec.v0+json": {
       "id": "2594"
      }
     },
     "output_type": "execute_result"
    }
   ],
   "source": [
    "# Initializing inertia list and setting a range\n",
    "inertia = []\n",
    "k = list(range(1, 11))\n",
    "\n",
    "# Calculating the inertia for the range of k values\n",
    "for i in k:\n",
    "    km = KMeans(n_clusters=i, random_state=0)\n",
    "    km.fit(df_crypto_pca)\n",
    "    inertia.append(km.inertia_)\n",
    "\n",
    "# Creating the Elbow Curve using hvPlot\n",
    "elbow_data = {\"k\": k, \"inertia\": inertia}\n",
    "df_elbow = pd.DataFrame(elbow_data)\n",
    "df_elbow.hvplot.line(x=\"k\", y=\"inertia\", xticks=k, title=\"Elbow Curve\")"
   ]
  },
  {
   "cell_type": "markdown",
   "metadata": {},
   "source": [
    "Running K-Means with `k=<your best value for k here>`"
   ]
  },
  {
   "cell_type": "code",
   "execution_count": 219,
   "metadata": {},
   "outputs": [
    {
     "data": {
      "text/html": [
       "<div>\n",
       "<style scoped>\n",
       "    .dataframe tbody tr th:only-of-type {\n",
       "        vertical-align: middle;\n",
       "    }\n",
       "\n",
       "    .dataframe tbody tr th {\n",
       "        vertical-align: top;\n",
       "    }\n",
       "\n",
       "    .dataframe thead th {\n",
       "        text-align: right;\n",
       "    }\n",
       "</style>\n",
       "<table border=\"1\" class=\"dataframe\">\n",
       "  <thead>\n",
       "    <tr style=\"text-align: right;\">\n",
       "      <th></th>\n",
       "      <th>Algorithm</th>\n",
       "      <th>ProofType</th>\n",
       "      <th>TotalCoinsMined</th>\n",
       "      <th>TotalCoinSupply</th>\n",
       "      <th>PC 1</th>\n",
       "      <th>PC 2</th>\n",
       "      <th>PC 3</th>\n",
       "      <th>class</th>\n",
       "      <th>CoinName</th>\n",
       "    </tr>\n",
       "  </thead>\n",
       "  <tbody>\n",
       "    <tr>\n",
       "      <th>42</th>\n",
       "      <td>Scrypt</td>\n",
       "      <td>PoW/PoS</td>\n",
       "      <td>4.199995e+01</td>\n",
       "      <td>4.200000e+01</td>\n",
       "      <td>-0.249655</td>\n",
       "      <td>1.180023</td>\n",
       "      <td>-0.443155</td>\n",
       "      <td>0</td>\n",
       "      <td>42 Coin</td>\n",
       "    </tr>\n",
       "    <tr>\n",
       "      <th>404</th>\n",
       "      <td>Scrypt</td>\n",
       "      <td>PoW/PoS</td>\n",
       "      <td>1.055185e+09</td>\n",
       "      <td>5.320000e+08</td>\n",
       "      <td>-0.231506</td>\n",
       "      <td>1.179958</td>\n",
       "      <td>-0.443171</td>\n",
       "      <td>0</td>\n",
       "      <td>404Coin</td>\n",
       "    </tr>\n",
       "    <tr>\n",
       "      <th>1337</th>\n",
       "      <td>X13</td>\n",
       "      <td>PoW/PoS</td>\n",
       "      <td>2.927942e+10</td>\n",
       "      <td>3.141593e+11</td>\n",
       "      <td>3.367898</td>\n",
       "      <td>1.925363</td>\n",
       "      <td>-0.481329</td>\n",
       "      <td>0</td>\n",
       "      <td>EliteCoin</td>\n",
       "    </tr>\n",
       "    <tr>\n",
       "      <th>BTC</th>\n",
       "      <td>SHA-256</td>\n",
       "      <td>PoW</td>\n",
       "      <td>1.792718e+07</td>\n",
       "      <td>2.100000e+07</td>\n",
       "      <td>-0.206276</td>\n",
       "      <td>-1.362730</td>\n",
       "      <td>0.155050</td>\n",
       "      <td>1</td>\n",
       "      <td>Bitcoin</td>\n",
       "    </tr>\n",
       "    <tr>\n",
       "      <th>ETH</th>\n",
       "      <td>Ethash</td>\n",
       "      <td>PoW</td>\n",
       "      <td>1.076842e+08</td>\n",
       "      <td>0.000000e+00</td>\n",
       "      <td>-0.240556</td>\n",
       "      <td>-2.035828</td>\n",
       "      <td>0.276871</td>\n",
       "      <td>1</td>\n",
       "      <td>Ethereum</td>\n",
       "    </tr>\n",
       "  </tbody>\n",
       "</table>\n",
       "</div>"
      ],
      "text/plain": [
       "     Algorithm ProofType  TotalCoinsMined  TotalCoinSupply      PC 1  \\\n",
       "42      Scrypt   PoW/PoS     4.199995e+01     4.200000e+01 -0.249655   \n",
       "404     Scrypt   PoW/PoS     1.055185e+09     5.320000e+08 -0.231506   \n",
       "1337       X13   PoW/PoS     2.927942e+10     3.141593e+11  3.367898   \n",
       "BTC    SHA-256       PoW     1.792718e+07     2.100000e+07 -0.206276   \n",
       "ETH     Ethash       PoW     1.076842e+08     0.000000e+00 -0.240556   \n",
       "\n",
       "          PC 2      PC 3  class   CoinName  \n",
       "42    1.180023 -0.443155      0    42 Coin  \n",
       "404   1.179958 -0.443171      0    404Coin  \n",
       "1337  1.925363 -0.481329      0  EliteCoin  \n",
       "BTC  -1.362730  0.155050      1    Bitcoin  \n",
       "ETH  -2.035828  0.276871      1   Ethereum  "
      ]
     },
     "execution_count": 219,
     "metadata": {},
     "output_type": "execute_result"
    }
   ],
   "source": [
    "# Initializing the K-Means model\n",
    "model = KMeans(n_clusters=4, random_state=0)\n",
    "# Fitting the model\n",
    "model.fit(df_crypto_pca)\n",
    "# Predicting clusters\n",
    "predictions = model.predict(df_crypto_pca)\n",
    "# Creating a new DataFrame including predicted clusters and cryptocurrencies features\n",
    "df_crypto_pca[\"class\"] = model.labels_\n",
    "clustered_df = crypto_df.join(df_crypto_pca)\n",
    "clustered_df[\"CoinName\"] = coins_name\n",
    "clustered_df.head()"
   ]
  },
  {
   "cell_type": "markdown",
   "metadata": {},
   "source": [
    "### Visualizing Results\n",
    "\n",
    "#### 3D-Scatter with Clusters"
   ]
  },
  {
   "cell_type": "code",
   "execution_count": 220,
   "metadata": {},
   "outputs": [
    {
     "data": {
      "application/vnd.plotly.v1+json": {
       "config": {
        "plotlyServerURL": "https://plot.ly"
       },
       "data": [
        {
         "customdata": [
          [
           "Scrypt"
          ],
          [
           "Scrypt"
          ],
          [
           "X13"
          ],
          [
           "SHA-256"
          ],
          [
           "Ethash"
          ],
          [
           "Scrypt"
          ],
          [
           "X11"
          ],
          [
           "CryptoNight-V7"
          ],
          [
           "Ethash"
          ],
          [
           "Equihash"
          ],
          [
           "SHA-512"
          ],
          [
           "Multiple"
          ],
          [
           "SHA-256"
          ],
          [
           "SHA-256"
          ],
          [
           "Scrypt"
          ],
          [
           "X15"
          ],
          [
           "X11"
          ],
          [
           "Scrypt"
          ],
          [
           "Scrypt"
          ],
          [
           "Scrypt"
          ],
          [
           "Multiple"
          ],
          [
           "Scrypt"
          ],
          [
           "SHA-256"
          ],
          [
           "Scrypt"
          ],
          [
           "Scrypt"
          ],
          [
           "Scrypt"
          ],
          [
           "Quark"
          ],
          [
           "Groestl"
          ],
          [
           "Scrypt"
          ],
          [
           "Scrypt"
          ],
          [
           "Scrypt"
          ],
          [
           "Scrypt"
          ],
          [
           "Scrypt"
          ],
          [
           "X11"
          ],
          [
           "Scrypt"
          ],
          [
           "Groestl"
          ],
          [
           "Multiple"
          ],
          [
           "SHA-256"
          ],
          [
           "Scrypt"
          ],
          [
           "Scrypt"
          ],
          [
           "Scrypt"
          ],
          [
           "Scrypt"
          ],
          [
           "PoS"
          ],
          [
           "Scrypt"
          ],
          [
           "Scrypt"
          ],
          [
           "NeoScrypt"
          ],
          [
           "Scrypt"
          ],
          [
           "Scrypt"
          ],
          [
           "Scrypt"
          ],
          [
           "Scrypt"
          ],
          [
           "X11"
          ],
          [
           "Scrypt"
          ],
          [
           "X11"
          ],
          [
           "SHA-256"
          ],
          [
           "Scrypt"
          ],
          [
           "Scrypt"
          ],
          [
           "Scrypt"
          ],
          [
           "SHA3"
          ],
          [
           "Scrypt"
          ],
          [
           "HybridScryptHash256"
          ],
          [
           "Scrypt"
          ],
          [
           "Scrypt"
          ],
          [
           "SHA-256"
          ],
          [
           "Scrypt"
          ],
          [
           "X13"
          ],
          [
           "Scrypt"
          ],
          [
           "SHA-256"
          ],
          [
           "Scrypt"
          ],
          [
           "X13"
          ],
          [
           "NeoScrypt"
          ],
          [
           "Scrypt"
          ],
          [
           "Scrypt"
          ],
          [
           "Scrypt"
          ],
          [
           "Scrypt"
          ],
          [
           "Scrypt"
          ],
          [
           "Scrypt"
          ],
          [
           "X11"
          ],
          [
           "X11"
          ],
          [
           "SHA-256"
          ],
          [
           "Multiple"
          ],
          [
           "SHA-256"
          ],
          [
           "PHI1612"
          ],
          [
           "X11"
          ],
          [
           "SHA-256"
          ],
          [
           "SHA-256"
          ],
          [
           "SHA-256"
          ],
          [
           "X11"
          ],
          [
           "Scrypt"
          ],
          [
           "Scrypt"
          ],
          [
           "Scrypt"
          ],
          [
           "Scrypt"
          ],
          [
           "Lyra2REv2"
          ],
          [
           "Scrypt"
          ],
          [
           "X11"
          ],
          [
           "Multiple"
          ],
          [
           "SHA-256"
          ],
          [
           "X13"
          ],
          [
           "Scrypt"
          ],
          [
           "CryptoNight"
          ],
          [
           "CryptoNight"
          ],
          [
           "Shabal256"
          ],
          [
           "Counterparty"
          ],
          [
           "Scrypt"
          ],
          [
           "SHA-256"
          ],
          [
           "Groestl"
          ],
          [
           "Scrypt"
          ],
          [
           "Scrypt"
          ],
          [
           "Scrypt"
          ],
          [
           "X13"
          ],
          [
           "Scrypt"
          ],
          [
           "Scrypt"
          ],
          [
           "Scrypt"
          ],
          [
           "Scrypt"
          ],
          [
           "X13"
          ],
          [
           "Scrypt"
          ],
          [
           "Stanford Folding"
          ],
          [
           "X11"
          ],
          [
           "Multiple"
          ],
          [
           "QuBit"
          ],
          [
           "Scrypt"
          ],
          [
           "Scrypt"
          ],
          [
           "Scrypt"
          ],
          [
           "M7 POW"
          ],
          [
           "Scrypt"
          ],
          [
           "SHA-256"
          ],
          [
           "Scrypt"
          ],
          [
           "X11"
          ],
          [
           "SHA3"
          ],
          [
           "X11"
          ],
          [
           "Lyra2RE"
          ],
          [
           "SHA-256"
          ],
          [
           "QUAIT"
          ],
          [
           "X11"
          ],
          [
           "X11"
          ],
          [
           "Scrypt"
          ],
          [
           "Scrypt"
          ],
          [
           "Scrypt"
          ],
          [
           "Ethash"
          ],
          [
           "X13"
          ],
          [
           "Blake2b"
          ],
          [
           "SHA-256"
          ],
          [
           "X15"
          ],
          [
           "X11"
          ],
          [
           "SHA-256"
          ],
          [
           "BLAKE256"
          ],
          [
           "Scrypt"
          ],
          [
           "1GB AES Pattern Search"
          ],
          [
           "SHA-256"
          ],
          [
           "X11"
          ],
          [
           "Scrypt"
          ],
          [
           "SHA-256"
          ],
          [
           "SHA-256"
          ],
          [
           "NIST5"
          ],
          [
           "Scrypt"
          ],
          [
           "Scrypt"
          ],
          [
           "X11"
          ],
          [
           "Dagger"
          ],
          [
           "Scrypt"
          ],
          [
           "X11GOST"
          ],
          [
           "X11"
          ],
          [
           "Scrypt"
          ],
          [
           "SHA-256"
          ],
          [
           "Scrypt"
          ],
          [
           "PoS"
          ],
          [
           "Scrypt"
          ],
          [
           "X11"
          ],
          [
           "X11"
          ],
          [
           "SHA-256"
          ],
          [
           "SHA-256"
          ],
          [
           "NIST5"
          ],
          [
           "X11"
          ],
          [
           "Scrypt"
          ],
          [
           "POS 3.0"
          ],
          [
           "Scrypt"
          ],
          [
           "Scrypt"
          ],
          [
           "Scrypt"
          ],
          [
           "X13"
          ],
          [
           "X11"
          ],
          [
           "X11"
          ],
          [
           "Equihash"
          ],
          [
           "X11"
          ],
          [
           "Scrypt"
          ],
          [
           "CryptoNight"
          ],
          [
           "SHA-256"
          ],
          [
           "SHA-256"
          ],
          [
           "X11"
          ],
          [
           "Scrypt"
          ],
          [
           "Multiple"
          ],
          [
           "Scrypt"
          ],
          [
           "Scrypt"
          ],
          [
           "Scrypt"
          ],
          [
           "SHA-256"
          ],
          [
           "Scrypt"
          ],
          [
           "Scrypt"
          ],
          [
           "SHA-256D"
          ],
          [
           "PoS"
          ],
          [
           "Scrypt"
          ],
          [
           "X11"
          ],
          [
           "Lyra2Z"
          ],
          [
           "PoS"
          ],
          [
           "X13"
          ],
          [
           "X14"
          ],
          [
           "PoS"
          ],
          [
           "SHA-256D"
          ],
          [
           "Ethash"
          ],
          [
           "Equihash"
          ],
          [
           "DPoS"
          ],
          [
           "X11"
          ],
          [
           "Scrypt"
          ],
          [
           "X11"
          ],
          [
           "X13"
          ],
          [
           "X11"
          ],
          [
           "PoS"
          ],
          [
           "Scrypt"
          ],
          [
           "Scrypt"
          ],
          [
           "X11"
          ],
          [
           "PoS"
          ],
          [
           "X11"
          ],
          [
           "SHA-256"
          ],
          [
           "Scrypt"
          ],
          [
           "X11"
          ],
          [
           "Scrypt"
          ],
          [
           "Scrypt"
          ],
          [
           "X11"
          ],
          [
           "CryptoNight"
          ],
          [
           "Scrypt"
          ],
          [
           "Scrypt"
          ],
          [
           "Scrypt"
          ],
          [
           "Scrypt"
          ],
          [
           "Quark"
          ],
          [
           "QuBit"
          ],
          [
           "Scrypt"
          ],
          [
           "CryptoNight"
          ],
          [
           "Lyra2RE"
          ],
          [
           "Scrypt"
          ],
          [
           "SHA-256"
          ],
          [
           "X11"
          ],
          [
           "Scrypt"
          ],
          [
           "X11"
          ],
          [
           "Scrypt"
          ],
          [
           "CryptoNight-V7"
          ],
          [
           "Scrypt"
          ],
          [
           "Scrypt"
          ],
          [
           "Scrypt"
          ],
          [
           "X13"
          ],
          [
           "X11"
          ],
          [
           "Equihash"
          ],
          [
           "Scrypt"
          ],
          [
           "Scrypt"
          ],
          [
           "Lyra2RE"
          ],
          [
           "Scrypt"
          ],
          [
           "Dagger-Hashimoto"
          ],
          [
           "X11"
          ],
          [
           "Blake2S"
          ],
          [
           "X11"
          ],
          [
           "Scrypt"
          ],
          [
           "PoS"
          ],
          [
           "X11"
          ],
          [
           "NIST5"
          ],
          [
           "PoS"
          ],
          [
           "X11"
          ],
          [
           "Scrypt"
          ],
          [
           "Scrypt"
          ],
          [
           "Scrypt"
          ],
          [
           "SHA-256"
          ],
          [
           "X11"
          ],
          [
           "Scrypt"
          ],
          [
           "Scrypt"
          ],
          [
           "SHA-256"
          ],
          [
           "PoS"
          ],
          [
           "Scrypt"
          ],
          [
           "X15"
          ],
          [
           "SHA-256"
          ],
          [
           "Scrypt"
          ],
          [
           "POS 3.0"
          ],
          [
           "CryptoNight-V7"
          ],
          [
           "536"
          ],
          [
           "Argon2d"
          ],
          [
           "Blake2b"
          ],
          [
           "Cloverhash"
          ],
          [
           "CryptoNight"
          ],
          [
           "NIST5"
          ],
          [
           "X11"
          ],
          [
           "NIST5"
          ],
          [
           "Skein"
          ],
          [
           "Scrypt"
          ],
          [
           "X13"
          ],
          [
           "Scrypt"
          ],
          [
           "X11"
          ],
          [
           "X11"
          ],
          [
           "Scrypt"
          ],
          [
           "CryptoNight"
          ],
          [
           "X13"
          ],
          [
           "Time Travel"
          ],
          [
           "Scrypt"
          ],
          [
           "Keccak"
          ],
          [
           "SkunkHash v2 Raptor"
          ],
          [
           "X11"
          ],
          [
           "Skein"
          ],
          [
           "SHA-256"
          ],
          [
           "X11"
          ],
          [
           "Scrypt"
          ],
          [
           "VeChainThor Authority"
          ],
          [
           "Scrypt"
          ],
          [
           "PoS"
          ],
          [
           "Scrypt"
          ],
          [
           "Scrypt"
          ],
          [
           "Scrypt"
          ],
          [
           "Scrypt"
          ],
          [
           "Scrypt"
          ],
          [
           "Scrypt"
          ],
          [
           "Scrypt"
          ],
          [
           "CryptoNight"
          ],
          [
           "SHA-512"
          ],
          [
           "Ouroboros"
          ],
          [
           "X11"
          ],
          [
           "Equihash"
          ],
          [
           "NeoScrypt"
          ],
          [
           "X11"
          ],
          [
           "Scrypt"
          ],
          [
           "NeoScrypt"
          ],
          [
           "Lyra2REv2"
          ],
          [
           "Equihash"
          ],
          [
           "Scrypt"
          ],
          [
           "SHA-256"
          ],
          [
           "NIST5"
          ],
          [
           "PHI1612"
          ],
          [
           "Dagger"
          ],
          [
           "Scrypt"
          ],
          [
           "Quark"
          ],
          [
           "Scrypt"
          ],
          [
           "POS 2.0"
          ],
          [
           "Scrypt"
          ],
          [
           "SHA-256"
          ],
          [
           "X11"
          ],
          [
           "NeoScrypt"
          ],
          [
           "Ethash"
          ],
          [
           "NeoScrypt"
          ],
          [
           "X11"
          ],
          [
           "DPoS"
          ],
          [
           "NIST5"
          ],
          [
           "X13"
          ],
          [
           "Multiple"
          ],
          [
           "Scrypt"
          ],
          [
           "CryptoNight"
          ],
          [
           "CryptoNight"
          ],
          [
           "Ethash"
          ],
          [
           "NIST5"
          ],
          [
           "Quark"
          ],
          [
           "X11"
          ],
          [
           "CryptoNight-V7"
          ],
          [
           "Scrypt"
          ],
          [
           "Scrypt"
          ],
          [
           "Scrypt"
          ],
          [
           "X11"
          ],
          [
           "BLAKE256"
          ],
          [
           "X11"
          ],
          [
           "NeoScrypt"
          ],
          [
           "Quark"
          ],
          [
           "NeoScrypt"
          ],
          [
           "Scrypt"
          ],
          [
           "Scrypt"
          ],
          [
           "Scrypt"
          ],
          [
           "X11"
          ],
          [
           "X11"
          ],
          [
           "SHA-256"
          ],
          [
           "C11"
          ],
          [
           "POS 3.0"
          ],
          [
           "Ethash"
          ],
          [
           "Scrypt"
          ],
          [
           "CryptoNight"
          ],
          [
           "SkunkHash"
          ],
          [
           "Scrypt"
          ],
          [
           "CryptoNight"
          ],
          [
           "Scrypt"
          ],
          [
           "Dagger"
          ],
          [
           "Lyra2REv2"
          ],
          [
           "X13"
          ],
          [
           "Proof-of-BibleHash"
          ],
          [
           "SHA-256 + Hive"
          ],
          [
           "Scrypt"
          ],
          [
           "Scrypt"
          ],
          [
           "X11"
          ],
          [
           "C11"
          ],
          [
           "Proof-of-Authority"
          ],
          [
           "X11"
          ],
          [
           "XEVAN"
          ],
          [
           "Scrypt"
          ],
          [
           "VBFT"
          ],
          [
           "Ethash"
          ],
          [
           "CryptoNight"
          ],
          [
           "Scrypt"
          ],
          [
           "IMesh"
          ],
          [
           "NIST5"
          ],
          [
           "Scrypt"
          ],
          [
           "Scrypt"
          ],
          [
           "Equihash"
          ],
          [
           "Scrypt"
          ],
          [
           "Lyra2Z"
          ],
          [
           "Green Protocol"
          ],
          [
           "PoS"
          ],
          [
           "Scrypt"
          ],
          [
           "Semux BFT consensus"
          ],
          [
           "X11"
          ],
          [
           "Quark"
          ],
          [
           "PoS"
          ],
          [
           "CryptoNight"
          ],
          [
           "X16R"
          ],
          [
           "Scrypt"
          ],
          [
           "NIST5"
          ],
          [
           "Lyra2RE"
          ],
          [
           "XEVAN"
          ],
          [
           "Tribus"
          ],
          [
           "Scrypt"
          ],
          [
           "Lyra2Z"
          ],
          [
           "CryptoNight"
          ],
          [
           "CryptoNight Heavy"
          ],
          [
           "CryptoNight"
          ],
          [
           "Scrypt"
          ],
          [
           "Scrypt"
          ],
          [
           "Jump Consistent Hash"
          ],
          [
           "SHA-256D"
          ],
          [
           "CryptoNight"
          ],
          [
           "Scrypt"
          ],
          [
           "X15"
          ],
          [
           "Scrypt"
          ],
          [
           "Quark"
          ],
          [
           "SHA-256"
          ],
          [
           "DPoS"
          ],
          [
           "X16R"
          ],
          [
           "HMQ1725"
          ],
          [
           "X11"
          ],
          [
           "X16R"
          ],
          [
           "Quark"
          ],
          [
           "Quark"
          ],
          [
           "Scrypt"
          ],
          [
           "Lyra2REv2"
          ],
          [
           "Quark"
          ],
          [
           "Scrypt"
          ],
          [
           "Scrypt"
          ],
          [
           "CryptoNight-V7"
          ],
          [
           "Cryptonight-GPU"
          ],
          [
           "XEVAN"
          ],
          [
           "CryptoNight Heavy"
          ],
          [
           "X11"
          ],
          [
           "X11"
          ],
          [
           "Scrypt"
          ],
          [
           "PoS"
          ],
          [
           "SHA-256"
          ],
          [
           "Keccak"
          ],
          [
           "X11"
          ],
          [
           "X11"
          ],
          [
           "Scrypt"
          ],
          [
           "SHA-512"
          ],
          [
           "X16R"
          ],
          [
           "ECC 256K1"
          ],
          [
           "Equihash"
          ],
          [
           "XEVAN"
          ],
          [
           "Lyra2Z"
          ],
          [
           "SHA-256"
          ],
          [
           "XEVAN"
          ],
          [
           "X11"
          ],
          [
           "CryptoNight"
          ],
          [
           "Quark"
          ],
          [
           "Blake"
          ],
          [
           "Blake"
          ],
          [
           "Equihash"
          ],
          [
           "Exosis"
          ],
          [
           "Scrypt"
          ],
          [
           "Scrypt"
          ],
          [
           "Equihash"
          ],
          [
           "Quark"
          ],
          [
           "Equihash"
          ],
          [
           "Quark"
          ],
          [
           "Scrypt"
          ],
          [
           "QuBit"
          ],
          [
           "X11"
          ],
          [
           "Scrypt"
          ],
          [
           "XEVAN"
          ],
          [
           "SHA-256D"
          ],
          [
           "X11"
          ],
          [
           "SHA-256"
          ],
          [
           "X13"
          ],
          [
           "SHA-256"
          ],
          [
           "X11"
          ],
          [
           "DPoS"
          ],
          [
           "Scrypt"
          ],
          [
           "Scrypt"
          ],
          [
           "X11"
          ],
          [
           "NeoScrypt"
          ],
          [
           "Scrypt"
          ],
          [
           "Blake"
          ],
          [
           "Scrypt"
          ],
          [
           "SHA-256"
          ],
          [
           "Scrypt"
          ],
          [
           "X11"
          ],
          [
           "Scrypt"
          ],
          [
           "Scrypt"
          ],
          [
           "SHA-256"
          ],
          [
           "X11"
          ],
          [
           "SHA-256"
          ],
          [
           "Scrypt"
          ],
          [
           "Scrypt"
          ],
          [
           "Scrypt"
          ],
          [
           "Groestl"
          ],
          [
           "X11"
          ],
          [
           "Scrypt"
          ],
          [
           "PoS"
          ],
          [
           "Scrypt"
          ],
          [
           "Scrypt"
          ],
          [
           "X11"
          ],
          [
           "SHA-256"
          ],
          [
           "DPoS"
          ],
          [
           "Scrypt"
          ],
          [
           "Scrypt"
          ],
          [
           "NeoScrypt"
          ],
          [
           "Multiple"
          ],
          [
           "X13"
          ],
          [
           "Equihash+Scrypt"
          ],
          [
           "DPoS"
          ],
          [
           "Ethash"
          ],
          [
           "DPoS"
          ],
          [
           "SHA-256"
          ],
          [
           "Leased POS"
          ],
          [
           "PoS"
          ],
          [
           "TRC10"
          ],
          [
           "PoS"
          ],
          [
           "SHA-256"
          ],
          [
           "Scrypt"
          ],
          [
           "CryptoNight"
          ],
          [
           "Equihash"
          ],
          [
           "Scrypt"
          ]
         ],
         "hovertemplate": "<b>%{hovertext}</b><br><br>PC 1=%{x}<br>PC 2=%{y}<br>PC 3=%{z}<br>Algorithm=%{customdata[0]}<br>class=%{marker.color}<extra></extra>",
         "hovertext": [
          "42 Coin",
          "404Coin",
          "EliteCoin",
          "Bitcoin",
          "Ethereum",
          "Litecoin",
          "Dash",
          "Monero",
          "Ethereum Classic",
          "ZCash",
          "Bitshares",
          "DigiByte",
          "BitcoinDark",
          "PayCoin",
          "ProsperCoin",
          "KoboCoin",
          "Spreadcoin",
          "Argentum",
          "Aurora Coin",
          "BlueCoin",
          "MyriadCoin",
          "MoonCoin",
          "ZetaCoin",
          "SexCoin",
          "Quatloo",
          "EnergyCoin",
          "QuarkCoin",
          "Riecoin",
          "Digitalcoin ",
          "BitBar",
          "Catcoin",
          "CryptoBullion",
          "CannaCoin",
          "CryptCoin",
          "CasinoCoin",
          "Diamond",
          "Verge",
          "DevCoin",
          "EarthCoin",
          "E-Gulden",
          "Einsteinium",
          "Emerald",
          "Exclusive Coin",
          "FlutterCoin",
          "Franko",
          "FeatherCoin",
          "GrandCoin",
          "GlobalCoin",
          "GoldCoin",
          "HoboNickels",
          "HyperStake",
          "Infinite Coin",
          "IOCoin",
          "IXcoin",
          "KrugerCoin",
          "LuckyCoin",
          "Litebar ",
          "MaxCoin",
          "MegaCoin",
          "MediterraneanCoin",
          "MintCoin",
          "MinCoin",
          "MazaCoin",
          "Nautilus Coin",
          "NavCoin",
          "NobleCoin",
          "Namecoin",
          "NyanCoin",
          "OpalCoin",
          "Orbitcoin",
          "PotCoin",
          "PhoenixCoin",
          "Reddcoin",
          "RonPaulCoin",
          "StableCoin",
          "SmartCoin",
          "SuperCoin",
          "SyncCoin",
          "SysCoin",
          "TeslaCoin",
          "TigerCoin",
          "TittieCoin",
          "TorCoin",
          "TerraCoin",
          "UnbreakableCoin",
          "Unobtanium",
          "UroCoin",
          "UnitaryStatus Dollar",
          "UltraCoin",
          "ViaCoin",
          "VeriCoin",
          "Vertcoin",
          "WorldCoin",
          "X11 Coin",
          "Crypti",
          "JouleCoin",
          "StealthCoin",
          "ZCC Coin",
          "ByteCoin",
          "DigitalNote ",
          "BurstCoin",
          "StorjCoin",
          "MonaCoin",
          "Neutron",
          "FairCoin",
          "Gulden",
          "RubyCoin",
          "PesetaCoin",
          "Kore",
          "Wild Beast Coin",
          "Dnotes",
          "Flo",
          "8BIT Coin",
          "Sativa Coin",
          "ArtByte",
          "Folding Coin",
          "Ucoin",
          "Unitus",
          "CypherPunkCoin",
          "OmniCron",
          "Vtorrent",
          "GreenCoin",
          "Cryptonite",
          "MasterCoin",
          "SoonCoin",
          "1Credit",
          "IslaCoin",
          "Nexus",
          "MarsCoin ",
          "Crypto",
          "Anarchists Prime",
          "Droidz",
          "BowsCoin",
          "Squall Coin",
          "Song Coin",
          "BitZeny",
          "Diggits",
          "Expanse",
          "Paycon",
          "Siacoin",
          "Emercoin",
          "EverGreenCoin",
          "MindCoin",
          "I0coin",
          "Decred",
          "Revolution VR",
          "HOdlcoin",
          "EDRCoin",
          "Hitcoin",
          "Gamecredits",
          "DubaiCoin",
          "CarpeDiemCoin",
          "PWR Coin",
          "BillaryCoin",
          "GPU Coin",
          "Adzcoin",
          "SoilCoin",
          "YoCoin",
          "SibCoin",
          "EuropeCoin",
          "ZeitCoin",
          "SwingCoin",
          "SafeExchangeCoin",
          "Nebuchadnezzar",
          "Francs",
          "BolivarCoin",
          "Ratecoin",
          "Revenu",
          "Clockcoin",
          "VIP Tokens",
          "BitSend",
          "Omni",
          "Let it Ride",
          "PutinCoin",
          "iBankCoin",
          "Frankywillcoin",
          "MudraCoin",
          "PizzaCoin",
          "Lutetium Coin",
          "Komodo",
          "GoldBlocks",
          "CarterCoin",
          "Karbo",
          "BitTokens",
          "ZayedCoin",
          "MustangCoin",
          "ZoneCoin",
          "Circuits of Value",
          "RootCoin",
          "DopeCoin",
          "BitCurrency",
          "DollarCoin",
          "Swiscoin",
          "Shilling",
          "BuzzCoin",
          "Opair",
          "PesoBit",
          "Halloween Coin",
          "ZCoin",
          "CoffeeCoin",
          "RoyalCoin",
          "GanjaCoin V2",
          "TeamUP",
          "LanaCoin",
          "Elementrem",
          "ZClassic",
          "ARK",
          "InsaneCoin",
          "KiloCoin",
          "ArtexCoin",
          "EmberCoin",
          "XenixCoin",
          "FreeCoin",
          "PLNCoin",
          "AquariusCoin",
          "Kurrent",
          "Creatio",
          "Eternity",
          "Eurocoin",
          "BitcoinFast",
          "Stakenet",
          "BitConnect Coin",
          "MoneyCoin",
          "Enigma",
          "Cannabis Industry Coin",
          "Russiacoin",
          "PandaCoin",
          "GameUnits",
          "GAKHcoin",
          "Allsafe",
          "LiteCreed",
          "OsmiumCoin",
          "Bikercoins",
          "HexxCoin",
          "Klingon Empire Darsek",
          "Internet of People",
          "KushCoin",
          "Printerium",
          "PacCoin",
          "Impeach",
          "Citadel",
          "Zilbercoin",
          "FirstCoin",
          "BeaverCoin",
          "FindCoin",
          "VaultCoin",
          "Zero",
          "OpenChat",
          "Canada eCoin",
          "Zoin",
          "RenosCoin",
          "DubaiCoin",
          "VirtacoinPlus",
          "TajCoin",
          "Impact",
          "EB3coin",
          "Atmos",
          "HappyCoin",
          "Coinonat",
          "MacronCoin",
          "Condensate",
          "Independent Money System",
          "ArgusCoin",
          "LomoCoin",
          "ProCurrency",
          "GoldReserve",
          "BenjiRolls",
          "GrowthCoin",
          "ILCoin",
          "Phreak",
          "Degas Coin",
          "HTML5 Coin",
          "Ultimate Secure Cash",
          "EquiTrader",
          "QTUM",
          "Quantum Resistant Ledger",
          "Espers",
          "Dynamic",
          "Nano",
          "ChanCoin",
          "Dinastycoin",
          "Denarius",
          "DigitalPrice",
          "Virta Unique Coin",
          "Bitcoin Planet",
          "Unify",
          "BritCoin",
          "SocialCoin",
          "ArcticCoin",
          "DAS",
          "Linda",
          "LeviarCoin",
          "DeepOnion",
          "Bitcore",
          "gCn Coin",
          "SmartCash",
          "Signatum",
          "Onix",
          "Cream",
          "Bitcoin Cash",
          "Monoeci",
          "Draftcoin",
          "Vechain",
          "Sojourn Coin",
          "Stakecoin",
          "NewYorkCoin",
          "FrazCoin",
          "Kronecoin",
          "AdCoin",
          "Linx",
          "CoinonatX",
          "Ethereum Dark",
          "Sumokoin",
          "Obsidian",
          "Cardano",
          "Regalcoin",
          "BitcoinZ",
          "TrezarCoin",
          "Elements",
          "TerraNovaCoin",
          "VIVO Coin",
          "Rupee",
          "Bitcoin Gold",
          "WomenCoin",
          "Theresa May Coin",
          "NamoCoin",
          "LUXCoin",
          "Pirl",
          "Xios",
          "Bitcloud 2.0",
          "eBoost",
          "KekCoin",
          "BlackholeCoin",
          "Infinity Economics",
          "Pura",
          "Innova",
          "Ellaism",
          "GoByte",
          "Magnet",
          "Lamden Tau",
          "Electra",
          "Bitcoin Diamond",
          "SHIELD",
          "Cash & Back Coin",
          "UltraNote",
          "BitCoal",
          "DaxxCoin",
          "Bulwark",
          "Kalkulus",
          "AC3",
          "Lethean",
          "GermanCoin",
          "LiteCoin Ultra",
          "PopularCoin",
          "PhantomX",
          "Photon",
          "Sucre",
          "SparksPay",
          "Digiwage",
          "GunCoin",
          "IrishCoin",
          "Trollcoin",
          "Litecoin Plus",
          "Monkey Project",
          "Pioneer Coin",
          "UnitedBitcoin",
          "Interzone",
          "TokenPay",
          "1717 Masonic Commemorative Token",
          "My Big Coin",
          "TurtleCoin",
          "MUNcoin",
          "Unified Society USDEX",
          "Niobio Cash",
          "ShareChain",
          "Travelflex",
          "KREDS",
          "Tokyo Coin",
          "BiblePay",
          "LitecoinCash",
          "BitFlip",
          "LottoCoin",
          "Crypto Improvement Fund",
          "Stipend",
          "Poa Network",
          "Pushi",
          "Ellerium",
          "Velox",
          "Ontology",
          "Callisto Network",
          "BitTube",
          "Poseidon",
          "Aidos Kuneen",
          "Bitspace",
          "Briacoin",
          "Ignition",
          "Bitrolium",
          "MedicCoin",
          "Alpenschillling",
          "Bitcoin Green",
          "Deviant Coin",
          "Abjcoin",
          "Semux",
          "FuturoCoin",
          "Carebit",
          "Zealium",
          "Monero Classic",
          "Proton",
          "iDealCash",
          "Jumpcoin",
          "Infinex",
          "Bitcoin Incognito",
          "KEYCO",
          "HollyWoodCoin",
          "GINcoin",
          "PlatinCoin",
          "Loki",
          "Newton Coin",
          "Swisscoin",
          "Xt3ch",
          "MassGrid",
          "TheVig",
          "PluraCoin",
          "EmaratCoin",
          "Dekado",
          "Lynx",
          "Poseidon Quark",
          "BitcoinWSpectrum",
          "Muse",
          "Motion",
          "PlusOneCoin",
          "Axe",
          "Trivechain",
          "Dystem",
          "Giant",
          "Peony Coin",
          "Absolute Coin",
          "Vitae",
          "HexCoin",
          "TPCash",
          "Webchain",
          "Ryo",
          "Urals Coin",
          "Qwertycoin",
          "ARENON",
          "EUNO",
          "MMOCoin",
          "Ketan",
          "Project Pai",
          "XDNA",
          "PAXEX",
          "Azart",
          "ThunderStake",
          "Kcash",
          "Xchange",
          "Acute Angle Cloud",
          "CrypticCoin",
          "Bettex coin",
          "Actinium",
          "Bitcoin SV",
          "BitMoney",
          "Junson Ming Chan Coin",
          "FREDEnergy",
          "HerbCoin",
          "Universal Molecule",
          "Lithium",
          "PirateCash",
          "Exosis",
          "Block-Logic",
          "Oduwa",
          "Beam",
          "Galilel",
          "Bithereum",
          "Crypto Sports",
          "Credit",
          "SLICE",
          "Dash Platinum",
          "Nasdacoin",
          "Beetle Coin",
          "Titan Coin",
          "Award",
          "BLAST",
          "Bitcoin Rhodium",
          "GlobalToken",
          "Insane Coin",
          "ALAX",
          "LiteDoge",
          "SolarCoin",
          "TruckCoin",
          "UFO Coin",
          "OrangeCoin",
          "BlakeCoin",
          "BitstarCoin",
          "NeosCoin",
          "HyperCoin",
          "PinkCoin",
          "Crypto Escudo",
          "AudioCoin",
          "IncaKoin",
          "Piggy Coin",
          "Crown Coin",
          "Genstake",
          "SmileyCoin",
          "XiaoMiCoin",
          "Groestlcoin",
          "CapriCoin",
          " ClubCoin",
          "Radium",
          "Bata",
          "Pakcoin",
          "Creditbit ",
          "OKCash",
          "Lisk",
          "HiCoin",
          "WhiteCoin",
          "FriendshipCoin",
          "JoinCoin",
          "Triangles Coin",
          "Vollar",
          "EOS",
          "Reality Clash",
          "Oxycoin",
          "TigerCash",
          "Waves",
          "Particl",
          "BitTorrent",
          "Nxt",
          "ZEPHYR",
          "Gapcoin",
          "Beldex",
          "Horizen",
          "BitcoinPlus"
         ],
         "legendgroup": "",
         "marker": {
          "color": [
           0,
           0,
           0,
           1,
           1,
           1,
           0,
           1,
           1,
           1,
           0,
           1,
           0,
           0,
           1,
           0,
           1,
           1,
           0,
           0,
           1,
           1,
           1,
           1,
           1,
           0,
           1,
           1,
           1,
           0,
           1,
           0,
           1,
           1,
           0,
           0,
           1,
           1,
           1,
           1,
           1,
           1,
           0,
           0,
           1,
           1,
           1,
           1,
           1,
           0,
           0,
           1,
           0,
           1,
           1,
           1,
           1,
           0,
           1,
           1,
           0,
           1,
           0,
           0,
           0,
           1,
           1,
           1,
           0,
           0,
           0,
           0,
           0,
           1,
           1,
           1,
           0,
           0,
           1,
           0,
           1,
           0,
           0,
           1,
           1,
           1,
           1,
           0,
           0,
           1,
           0,
           1,
           1,
           0,
           0,
           1,
           0,
           0,
           1,
           1,
           1,
           0,
           1,
           0,
           0,
           1,
           0,
           1,
           0,
           1,
           0,
           1,
           0,
           0,
           1,
           1,
           0,
           1,
           1,
           1,
           0,
           1,
           1,
           1,
           1,
           1,
           0,
           0,
           1,
           1,
           1,
           0,
           1,
           0,
           1,
           1,
           0,
           1,
           0,
           1,
           0,
           0,
           1,
           1,
           0,
           1,
           1,
           0,
           0,
           1,
           0,
           1,
           0,
           0,
           0,
           1,
           1,
           1,
           1,
           0,
           0,
           0,
           0,
           0,
           1,
           1,
           0,
           0,
           0,
           0,
           0,
           1,
           0,
           0,
           0,
           0,
           0,
           1,
           0,
           1,
           0,
           0,
           1,
           0,
           1,
           0,
           0,
           1,
           0,
           1,
           0,
           1,
           0,
           1,
           0,
           0,
           0,
           0,
           1,
           0,
           0,
           0,
           0,
           0,
           1,
           1,
           0,
           0,
           1,
           1,
           0,
           0,
           0,
           0,
           0,
           1,
           0,
           0,
           0,
           0,
           0,
           0,
           0,
           0,
           1,
           0,
           0,
           0,
           0,
           0,
           0,
           1,
           1,
           1,
           0,
           0,
           0,
           0,
           1,
           0,
           1,
           0,
           0,
           1,
           0,
           1,
           1,
           0,
           1,
           1,
           0,
           1,
           0,
           0,
           0,
           1,
           0,
           0,
           1,
           0,
           0,
           0,
           0,
           0,
           0,
           0,
           1,
           0,
           1,
           0,
           0,
           0,
           0,
           1,
           0,
           1,
           0,
           1,
           1,
           1,
           1,
           0,
           1,
           0,
           0,
           1,
           0,
           1,
           1,
           1,
           0,
           1,
           0,
           1,
           1,
           1,
           0,
           1,
           0,
           1,
           0,
           0,
           0,
           1,
           0,
           1,
           1,
           1,
           1,
           1,
           0,
           0,
           1,
           0,
           0,
           0,
           1,
           0,
           1,
           0,
           1,
           0,
           1,
           0,
           0,
           0,
           0,
           1,
           0,
           0,
           1,
           0,
           0,
           0,
           1,
           1,
           1,
           1,
           0,
           0,
           0,
           0,
           1,
           0,
           1,
           1,
           1,
           0,
           0,
           1,
           1,
           0,
           0,
           1,
           0,
           1,
           1,
           1,
           0,
           1,
           1,
           0,
           0,
           0,
           1,
           1,
           1,
           0,
           1,
           0,
           1,
           1,
           0,
           1,
           1,
           1,
           1,
           0,
           3,
           3,
           1,
           1,
           1,
           0,
           0,
           0,
           0,
           0,
           0,
           1,
           1,
           1,
           1,
           0,
           0,
           0,
           1,
           0,
           1,
           0,
           0,
           0,
           0,
           1,
           0,
           0,
           1,
           0,
           0,
           1,
           1,
           0,
           1,
           0,
           1,
           1,
           1,
           1,
           0,
           0,
           1,
           0,
           1,
           0,
           0,
           0,
           0,
           0,
           0,
           1,
           1,
           1,
           0,
           0,
           0,
           0,
           0,
           0,
           1,
           0,
           1,
           1,
           1,
           1,
           0,
           0,
           0,
           0,
           1,
           0,
           0,
           1,
           0,
           0,
           1,
           3,
           1,
           0,
           1,
           1,
           0,
           0,
           1,
           0,
           1,
           1,
           1,
           1,
           1,
           0,
           1,
           0,
           1,
           0,
           0,
           1,
           0,
           0,
           0,
           0,
           0,
           1,
           1,
           1,
           0,
           0,
           0,
           1,
           0,
           1,
           0,
           1,
           0,
           0,
           0,
           0,
           1,
           0,
           0,
           0,
           1,
           0,
           1,
           0,
           1,
           0,
           0,
           0,
           1,
           1,
           0,
           0,
           0,
           0,
           0,
           0,
           1,
           0,
           1,
           0,
           1,
           0,
           0,
           3,
           0,
           2,
           0,
           0,
           0,
           1,
           1,
           0
          ],
          "coloraxis": "coloraxis",
          "symbol": "circle"
         },
         "mode": "markers",
         "name": "",
         "scene": "scene",
         "showlegend": false,
         "type": "scatter3d",
         "x": [
          -0.24965474479039762,
          -0.2315060570909191,
          3.3678975022505506,
          -0.20627570903687006,
          -0.24055571974086598,
          -0.19832175726261922,
          -0.3246497350511904,
          -0.23735643541761592,
          -0.2383601023903268,
          -0.23584368616772255,
          -0.2169480525602712,
          -0.07114076770458697,
          -0.2561866499479241,
          -0.23856689715292803,
          -0.19965242865385743,
          -0.12938007661017487,
          -0.27492451116692795,
          -0.19913905500259976,
          -0.24926559781614055,
          -0.24197057748305975,
          -0.1705299131086854,
          3.6894070755628694,
          -0.20292714846829532,
          -0.19584347913851172,
          -0.19983577694036064,
          -0.24816654978389155,
          -0.2535043910243929,
          -0.25458984475337576,
          -0.1990426086475414,
          -0.24964916656361646,
          -0.19963487392062212,
          -0.24963205121258386,
          -0.19974491075812092,
          -0.2750191732096335,
          0.8132316276170317,
          -0.3056753670514464,
          0.14910979175609695,
          0.02245365868417865,
          0.08843384957487367,
          -0.19946931471584628,
          -0.19425162340811342,
          -0.19937499702882427,
          -0.2958874747619164,
          -0.21571226128894708,
          -0.19980726218840109,
          -0.238901850376662,
          -0.17485453091721606,
          -0.19843170960253237,
          -0.1986993657297967,
          -0.2485651140237434,
          -0.28709696769132403,
          1.813279325356569,
          -0.32454549816748723,
          -0.20623746893130376,
          -0.19541511660118055,
          -0.19949860042096088,
          -0.19990785481712053,
          -0.2966258509676109,
          -0.1990481149640814,
          -0.242269320453155,
          0.025438759978742155,
          -0.19976340801920447,
          -0.2124061216941473,
          -0.23170870193371326,
          -0.16733923986107377,
          -0.17030924213343673,
          -0.2063142950137545,
          -0.19247394858827743,
          -0.16795514416112006,
          -0.29447118702282055,
          -0.2427079468128089,
          -0.24776776524792826,
          0.10485780911899224,
          -0.19970883215569574,
          -0.19710992572896296,
          -0.1991067996291787,
          -0.3067820701383869,
          -0.32498175283061687,
          -0.1908986798245811,
          -0.24235557227155927,
          -0.20570255028542575,
          -0.23623855606160324,
          -0.3248631769008462,
          -0.20600244633433032,
          -0.20586737119028237,
          -0.20670023864032727,
          -0.27524731459082696,
          -0.23626384952678073,
          -0.24903712384701354,
          -0.19942196445347335,
          -0.22951389509572856,
          -0.24342728605555672,
          -0.19580016564217587,
          -0.3248420142133541,
          -0.24212699095745482,
          -0.20577542485021666,
          -0.1677382280200292,
          -0.24776381785253862,
          4.093313148114702,
          0.0835533278420231,
          -0.004975577288104274,
          -0.2781887337769199,
          -0.19804549892628948,
          -0.25526322752815667,
          -0.3051164190494625,
          -0.17790003345694178,
          -0.23173950390017486,
          -0.19658664519584398,
          -0.16799243020258486,
          -0.1999060654674253,
          -0.22489200615877392,
          -0.19808334856327578,
          -0.24963699515247717,
          -0.16795132294993567,
          -0.19024946137805163,
          -0.23441676527824304,
          -0.30716017912075,
          -0.21041551279366894,
          -0.24969885816026116,
          -0.1997781131779877,
          -0.24931184016402136,
          -0.14316927845052205,
          -0.1983042692392888,
          -0.1999211173827178,
          -0.2063417917888398,
          0.7318876943348641,
          -0.32496347200100206,
          -0.2858331985853797,
          -0.2745380193955039,
          -0.23841874090392104,
          -0.20598235492381523,
          -0.3229691430900906,
          -0.27485737511490416,
          -0.351289358559777,
          -0.19741165686778697,
          -0.19648835482317964,
          -0.2308488189354629,
          -0.24155978731124236,
          -0.16735335129185683,
          0.25828669021870343,
          -0.2558030568470939,
          -0.13280395121417432,
          -0.2749079709396417,
          -0.20623857993914294,
          0.02561655319817836,
          -0.1952683735044985,
          -0.2520148784105843,
          -0.2561578586212509,
          0.07690800670475542,
          -0.19823956301340945,
          -0.25625668875707885,
          0.27523749794666114,
          -0.148997005266037,
          -0.24912052732892276,
          -0.22933982693766564,
          -0.2738656027862633,
          -0.2397508899634921,
          -0.19822204112178127,
          -0.2508829241600255,
          -0.3209665803340302,
          1.2177451302270226,
          -0.2559669912670177,
          -0.027907057192252612,
          -0.29551172983342794,
          -0.19965285256077078,
          -0.2748435836582622,
          -0.3225949699371452,
          -0.25415473657546656,
          -0.2509061001632652,
          -0.26884591814489556,
          -0.32327899617771905,
          -0.1999211847137849,
          -0.29324578728798195,
          -0.2195650473227494,
          -0.24915097905255257,
          -0.24843531927207493,
          -0.14846576559461094,
          -0.27499203907683034,
          -0.29279576827323234,
          -0.28096249558283476,
          -0.3242871388602759,
          -0.2482211816927847,
          -0.0007848630271608869,
          -0.2562051641137071,
          -0.2065310827324163,
          -0.32494343892561434,
          -0.24941082362493633,
          -0.19900866210819004,
          -0.2496312866856573,
          -0.19649617720590393,
          -0.23001729278879413,
          -0.20648732313513038,
          -0.23033712760030625,
          -0.19949656399827792,
          0.19847247149105532,
          -0.2943113613990099,
          -0.2492493532895927,
          -0.3216797410571776,
          -0.24306867128530968,
          -0.2937525911467764,
          -0.1504963729876165,
          -0.31128512636459804,
          -0.2926920014600079,
          -0.15174015175214287,
          -0.2412756171356515,
          -0.23586508477065177,
          3.2284925072290314,
          -0.32445610308925604,
          -0.19654820627619193,
          -0.2602330520601428,
          0.955356712353099,
          -0.32489615059079213,
          -0.2948450856059073,
          -0.2490577293550362,
          -0.24919972625745185,
          -0.27221053434877607,
          -0.29551172983342794,
          -0.324300669388917,
          -0.25607233998527545,
          -0.2490756948349297,
          -0.34270852617866554,
          -0.24923714892330726,
          -0.2429325532319784,
          -0.3249212829193833,
          -0.0007562174172857925,
          -0.2480949290425784,
          0.5061605748916188,
          -0.2494810765803812,
          -0.2495810640038171,
          -0.2909991923619543,
          -0.29833167058120263,
          -0.19989658002767682,
          -0.0006143770520483287,
          -0.23912730296592127,
          -0.2443006856291115,
          -0.25618181680904717,
          -0.3248185999094139,
          -0.2493092159148969,
          -0.2586397066347076,
          -0.24942886727471825,
          -0.23555802522942051,
          -0.2314758350686623,
          -0.2301327249125389,
          -0.1998631786036672,
          -0.15022916581548817,
          -0.2747931779047517,
          -0.23588977987564164,
          -0.23746048120743685,
          -0.19871735030555443,
          -0.2388143042483634,
          -0.2312836012174236,
          -0.23946619086438764,
          -0.32481247184209455,
          -0.3148154289440813,
          -0.3236337976778308,
          -0.1586457921248686,
          -0.2934951239312607,
          -0.3247113917904936,
          -0.22043564428205462,
          -0.2870503806449122,
          -0.31844623203089134,
          -0.2493749724598033,
          -0.24935118411714677,
          -0.24954741428710422,
          0.5220144360568827,
          -0.32436898423359367,
          -0.1993299164619413,
          -0.20824218885967613,
          -0.1654484700878932,
          -0.29551456270800613,
          -0.24833296268549035,
          1.2700192843758438,
          -0.23668693186643985,
          -0.1990402792554612,
          -0.29283233117596175,
          -0.23566610540757849,
          0.8772029281896239,
          -0.24231065178630234,
          -0.13691241642469168,
          -0.2414108033038543,
          0.0411580940612792,
          -0.270614917300634,
          -0.2748268511645431,
          -0.2699953609630336,
          -0.3194628258500439,
          -0.1995203537742085,
          -0.1675773803228434,
          -0.19911275219855631,
          -0.27433927510480677,
          -0.27503876750970435,
          0.36615015344199237,
          -0.0002625473859603858,
          -0.16768197752101363,
          -0.23581379301878005,
          3.7975860159132147,
          -0.15108505589220864,
          -0.2813214041346293,
          -0.2736795342263756,
          -0.3189727283403484,
          -0.20627488169994146,
          -0.32473348301374166,
          -0.2316662550371379,
          4.4204133841424404,
          -0.09357982126114399,
          -0.295283872482297,
          1.5294418523844726,
          -0.19961496242187193,
          -0.1988730217089636,
          -0.19952995835070778,
          -0.19951702134239163,
          -0.24892973375986252,
          -0.24956141553184844,
          2.775782818034414e-05,
          -0.2853422047947067,
          0.8782551996560684,
          -0.32462048375662805,
          -0.17099547674707075,
          -0.2882882779823414,
          -0.2424750512365626,
          -0.24948159586004953,
          -0.24450460735091198,
          -0.27649696931331746,
          -0.2357249415149183,
          0.5895770316399287,
          -0.2553017660743123,
          -0.26388648217108995,
          -0.296031204017119,
          -0.23812954378823484,
          -0.24941605120233062,
          -0.3064677182402895,
          -0.1987155775572525,
          -0.29325097136616163,
          -0.2493070908266896,
          -0.03884529454084131,
          -0.26959805962442596,
          -0.24429557753010034,
          -0.23886770184950706,
          -0.24443583956933124,
          -0.32306133913153806,
          3.234466080490168,
          0.3765185370075733,
          -0.16379197266896603,
          -0.1986925622353713,
          -0.2461857195215528,
          1.0931159758274254,
          -0.0007997199015147954,
          -0.23454595972420608,
          -0.25273922590044623,
          -0.290870695380854,
          -0.2687199802409623,
          -0.22210517521419187,
          0.31616466075158983,
          -0.24954280156876532,
          -0.10135340498927975,
          -0.3239290616102139,
          1.3504366775173557,
          -0.27501022867088987,
          -0.24452085862228315,
          -0.29093804802585,
          -0.23613875780686477,
          -0.19873663385112167,
          -0.2333918744939406,
          -0.24958394504419262,
          -0.30712928165923703,
          -0.27492643364575464,
          -0.20625708213644822,
          -0.25263025110960335,
          -0.29355129387474155,
          -0.2739553500570648,
          -0.23407537592689426,
          0.7429231438834732,
          -0.2455090825689305,
          -0.24446494386358816,
          0.004042072316282095,
          -0.07799223793449826,
          -0.23881568880985607,
          -0.23701022665342464,
          -0.13966413348882298,
          -0.12930305207919668,
          -0.31287042449163904,
          -0.19937923287684123,
          0.1617396556437623,
          -0.2676424491999114,
          -0.3023952228155282,
          -0.37405132027815613,
          -0.3247023493366869,
          -0.23947213101852655,
          -0.2305030944001859,
          -0.278699682948308,
          -0.17302835508244008,
          8.857237785177121e-05,
          -0.1996729637164729,
          -0.24611974255812397,
          -0.27009348570636643,
          -0.2496141339588561,
          -0.24958980749217172,
          -0.23457377275120359,
          -0.22377157270786072,
          -0.24000776760975337,
          -0.2775611159685309,
          -0.2948002986686293,
          -0.24923140616994627,
          3.3862657038280664,
          -0.2748672116508991,
          -0.3051492443077888,
          -0.2950119469224696,
          -0.0006006885818393934,
          -0.2813674947943371,
          -0.18079664171830961,
          -0.220579294496115,
          -0.23892345300547008,
          -0.26605190148011904,
          -0.2445230469631405,
          -0.23133682386929974,
          -0.24318610855897377,
          0.005097377000388518,
          0.5519863937637716,
          2.3620360637508213,
          -0.02299570836664996,
          -0.23153032218681371,
          -0.2438437830465024,
          -0.24043912630053155,
          0.00589364843328578,
          -0.2485427517971005,
          -0.11436964408373611,
          2.5916494309168256,
          -0.2846619417136362,
          -0.23712395021206828,
          0.7952126477936471,
          -0.2494213102987577,
          -0.2374424560211442,
          -0.27498883555947196,
          -0.29818044947729894,
          -0.2909799653799665,
          -0.3087410551847051,
          -0.061086654132475986,
          -0.2939238079848083,
          -0.29046939430573293,
          -0.19969385838090697,
          -0.2494881127037086,
          -0.21965117176614152,
          -0.2407258074641413,
          -0.1880597395502659,
          3.624041786337034,
          -0.30660518385845037,
          -0.32410323786072864,
          -0.22813165051691364,
          -0.29371638262353633,
          -0.1810972449020323,
          -0.27478433611367503,
          -0.3073306738538603,
          -0.27494804524799143,
          -0.23582389321632696,
          -0.31091407271634136,
          -0.24961508939060043,
          -0.3171722744465511,
          -0.10795399123477846,
          -0.22190990596515855,
          -0.24236126462630833,
          -0.20627491888585342,
          0.8171368695880452,
          -0.09927602081745258,
          0.10343574896898855,
          -0.30789084307609726,
          -0.22198645803087783,
          -0.22262308768712036,
          -0.26705257402759586,
          -0.24032917900350925,
          -0.19949805723856423,
          -0.24926334273248624,
          -0.23305233085194582,
          -0.30845112690714693,
          -0.23552869105830196,
          -0.291119496711304,
          0.880731337677202,
          -0.24960939360753806,
          -0.3071870910557006,
          -0.2485554834246589,
          -0.23261490873201424,
          -0.17936905277422555,
          -0.3205413328451923,
          -0.2054245884286402,
          -0.11838314497663693,
          -0.20398038879013153,
          -0.3243904001497081,
          3.2381122243189586,
          0.29009355661712316,
          -0.18932688248133306,
          -0.3220483334939983,
          -0.1580626392334144,
          -0.2475862721047694,
          -0.15188833557527362,
          -0.24885638132989898,
          -0.23857274879858892,
          -0.24953827581895546,
          -0.314640714385911,
          -0.19039852609536345,
          -0.13144557313464122,
          -0.03947020606325076,
          -0.3189036499690601,
          -0.2060018231457812,
          -0.24877723952931569,
          0.6642484294297912,
          -0.24071395697284162,
          -0.25408994271079116,
          -0.32043995560125327,
          -0.2483915199975836,
          -0.2958187926196286,
          -0.1998231401682257,
          -0.19724880436922965,
          -0.3556188810174375,
          -0.2544585149434615,
          3.2289889968236314,
          -0.009761052315643793,
          -0.24356869918016058,
          -0.29392535676504633,
          -0.21113426187564804,
          -0.16813551192346077,
          -0.22818316089738605,
          3.238259383869922,
          -0.24131378462755831,
          3.2394909058246006,
          -0.22664429815986892,
          -0.37364097422121584,
          -0.29575644768457116,
          36.6644876324653,
          -0.3303736919041112,
          2.236712870242741,
          -0.24694206121729276,
          0.0250552145796932,
          -0.23584473243719867,
          -0.23205656503666325
         ],
         "y": [
          1.1800231512857482,
          1.1799581124770053,
          1.92536340429679,
          -1.3627295463546218,
          -2.035827880410527,
          -1.0723544647765566,
          1.3395390423878215,
          -2.278096543399854,
          -2.0358425765813455,
          -2.0910830639966074,
          1.4754535920968461,
          -1.9379542654373034,
          0.8896409428888368,
          0.4955425443426318,
          -1.0723485712394063,
          2.0410273060325177,
          -0.9128309896507588,
          -1.0723517214036642,
          1.1800215053654457,
          1.1800061738927141,
          -1.9378185935111605,
          -1.0989426784507181,
          -1.3627439204654077,
          -1.0723677226593473,
          -1.0723472285140845,
          1.1800198632704957,
          -0.5097915793118515,
          -1.1702982339852621,
          -1.0723511921659887,
          1.180023115522298,
          -1.0723486100248243,
          1.1800230542667578,
          -1.0723479984186586,
          -0.9128306867409223,
          -0.09828024347294223,
          1.0820786299872542,
          -1.9392071696932458,
          -1.3632437615509752,
          -1.0736169884964086,
          -1.07234897581124,
          -1.0723735740638773,
          -1.072349699896331,
          1.438811772953127,
          0.21034646919076164,
          -1.0723477713877558,
          -1.61224629010345,
          -1.0724689758993236,
          -1.0723535655029168,
          -1.072353079426043,
          1.1800206969763214,
          0.9453971898725646,
          -1.0810424468357365,
          1.33953881208691,
          -1.3627296308422963,
          -1.0723693920379453,
          -1.0723488642256334,
          -1.0723470856738886,
          2.613860010435891,
          -1.0723508909272441,
          -2.2307291521437627,
          0.785355444999045,
          -1.0723478103420125,
          0.8894318291965855,
          0.7859228279121715,
          1.947902501837932,
          -1.0724171057206,
          -1.362729461102792,
          -1.072379246013663,
          1.9479038626165526,
          0.6401523232139626,
          1.1799881126860035,
          1.1800143877811389,
          1.1792398914467785,
          -1.0723484466215403,
          -1.072364924572949,
          -1.0723511925818079,
          0.9454406821270468,
          1.3395408073001316,
          -1.3628041668629056,
          -0.07936583718044751,
          -1.362732032178773,
          1.369724364512808,
          1.3395400765475596,
          -1.362731134618597,
          -1.3627332145614117,
          -1.362727635602098,
          -0.9128293388133331,
          1.1799930966332581,
          1.1800217398345647,
          -1.0723491741904554,
          0.28881638837217855,
          -1.417828666267281,
          -1.0723685413108068,
          1.3395402407587662,
          -0.07936629532609078,
          -1.3627317768450966,
          1.9479033833621497,
          1.1800185046569298,
          -2.387781608355698,
          -2.370278972328288,
          -0.8336184951160569,
          1.1191223470116252,
          -1.0723560652848945,
          0.8896367461176983,
          1.0820776003900694,
          -1.0724744078522481,
          0.785923654513316,
          -1.0723621607350193,
          1.947903382414881,
          -1.072347149542199,
          0.7858850847626084,
          -1.0723511003283734,
          1.180023112071682,
          1.947903385356111,
          -1.0723688304504702,
          -2.0721270878210376,
          0.9454405798851043,
          -1.9376367067173217,
          -1.5390902280303829,
          -1.0723474670888828,
          1.1800214560387101,
          -1.0724770687413818,
          -2.32309821259451,
          -1.072347022123407,
          -1.3627294003514325,
          -1.07871885526334,
          1.3395407669573587,
          3.380890349639937,
          -0.9128324530286828,
          -2.2039398611405354,
          -1.3627317303383515,
          2.3183143657855854,
          -0.9128311848629012,
          0.8616962863609965,
          -1.072362393908528,
          -1.0723662978713653,
          0.7859216397526607,
          -2.0358264546262816,
          1.9479001889264211,
          -2.244145030368162,
          0.8896406579598832,
          2.041050046467054,
          -0.9128308386675842,
          -1.3627296283876362,
          1.1611718700009632,
          -1.072367118025979,
          -2.0456598338687986,
          0.8896408792772954,
          1.3374081609170068,
          -1.072354646376488,
          0.8896416367730817,
          -1.3648062954808329,
          1.6867806568179193,
          1.1800200019529474,
          0.7859079893261813,
          -0.912836329636652,
          -2.2731956634729094,
          -1.072358639628937,
          -2.055341926118096,
          1.3395139336213089,
          0.7780798671531503,
          0.8896396137029212,
          -0.09464723855745515,
          1.4388100051467703,
          -1.0723485234210406,
          -0.9128314028608815,
          1.3395320178562593,
          0.8896270432340674,
          0.8896056945067216,
          1.68704123157915,
          1.3395305287091561,
          -1.072347021832594,
          1.3589496653514606,
          1.1798629075548346,
          1.1800199598421501,
          1.180020410207869,
          1.553791511586042,
          -0.9128310748635619,
          0.9453789794660529,
          -1.6064664749760844,
          1.339536928577993,
          1.1800157646134695,
          -2.3700884162151943,
          0.8896410306758105,
          -1.362728454055689,
          1.3395405820509345,
          1.1800216278509288,
          -1.9376623778247892,
          1.1800230994593985,
          -1.0723639364992994,
          0.7859198494610371,
          -1.3627285930394617,
          0.6037042874481359,
          -1.072349337542764,
          2.1169374380691908,
          1.4388048214369722,
          1.1800222556159636,
          1.3395330430661634,
          -2.1269658647701646,
          1.4388051808757891,
          1.5538052571558085,
          2.1341861698439106,
          1.4387906014586045,
          2.118296938679413,
          -2.0358275184320958,
          -2.091083016718546,
          0.8058883095529502,
          1.3395382395231867,
          -1.0723591333677043,
          -0.912885952209659,
          1.9453821685026915,
          1.3395404375666302,
          1.4388071258098039,
          1.1800200254181183,
          1.1800201769350167,
          -0.9128467373211218,
          1.4388100051467703,
          1.339536489654476,
          0.8896407840960403,
          1.1800203248361334,
          0.48393752204942525,
          1.1800209159616375,
          1.179977795186383,
          1.3395404393358952,
          -2.370088995204434,
          1.180012954054492,
          0.7827689811121463,
          1.180022158122057,
          1.180022833047323,
          1.3485024863247486,
          0.7132737882635146,
          -1.072347174544566,
          -2.370089496113603,
          -2.2039356801512135,
          1.1799878811393887,
          0.8896409790922885,
          1.3395400083448137,
          1.1800214502406963,
          -0.9129129134391403,
          1.1800216239602406,
          -2.2781091899367314,
          0.785920493465318,
          0.5242587519335181,
          -1.0723472786138795,
          1.5538041030477299,
          -0.9128308110005363,
          -2.0910827746300504,
          1.1799957404706327,
          -1.0723496995652742,
          -2.203936887390101,
          0.7859210332699863,
          -2.124464789778068,
          1.339540386455905,
          2.045158127238876,
          1.3395377822938563,
          -1.0726257139058355,
          1.4388013167009424,
          1.3395401631296948,
          -0.5653240317523526,
          1.4387734955678801,
          1.339502926877988,
          1.1800215386967727,
          1.18002113978186,
          1.1800224453339074,
          0.49034656844053104,
          1.3395375782249754,
          -1.0723499645399504,
          0.7857779759865245,
          -1.3629359699812107,
          1.4388095425878626,
          1.1800153083555442,
          2.033732521745864,
          0.4955295964660523,
          -1.072352314693033,
          1.3589502755197986,
          -2.278105200601569,
          1.9800166111544706,
          -1.9814279025822472,
          -2.243287830725158,
          -2.1944059500842847,
          -2.3702743797154864,
          1.6870488905477845,
          -0.9128303146667812,
          1.6870479436364285,
          2.2210087428490994,
          -1.0723487822588789,
          1.9479016215317586,
          -1.0723522952167104,
          -0.9128341579424297,
          -0.9128306856428935,
          1.1763185029877024,
          -2.370091633017666,
          1.9479023731015417,
          -2.193611863513104,
          -1.090555440326127,
          -1.1750873334480116,
          1.3792591064476607,
          -0.9128332714842649,
          2.221007660027932,
          -1.362729548182546,
          1.3395398131019727,
          0.7859226766580532,
          -0.3567062625630492,
          -1.0730742022346567,
          1.4388075514382093,
          -1.0761678466720985,
          -1.0723486071354926,
          -1.0723532468131955,
          -1.0723479041895074,
          -1.0723479327725267,
          1.1800192873088153,
          1.1800227481826084,
          -2.3700939100712253,
          1.4757692187976297,
          1.1499876407296434,
          1.3395387433510995,
          -2.0912352002522554,
          0.6401200867280922,
          -0.9129022146517597,
          1.1800220311258205,
          -1.612219424903423,
          0.44044755884869197,
          -2.0910833263509776,
          1.1769969084151979,
          0.8896399723444001,
          1.687034024746923,
          1.76402140040781,
          -2.273205167159462,
          1.180021639400735,
          1.7425879041979564,
          -1.0723497034819829,
          1.3400487330595645,
          1.180021689880457,
          0.4946799294927823,
          -0.9128582288992223,
          -1.6122207306059415,
          -2.0358447368163968,
          -1.6122198018714944,
          1.3395298134088685,
          0.8058575308737501,
          1.6842131294902185,
          1.9478848193327047,
          -1.9376935493765448,
          1.180005641650157,
          -2.376489763113113,
          -2.370088500594889,
          -2.035845846549592,
          1.2929486505906074,
          1.34850196801466,
          -0.9128695452845184,
          -2.2781770970042268,
          1.1764289409076638,
          1.180022857078644,
          -1.0727991774602594,
          1.3395361374423147,
          -1.0982338259888889,
          -0.9128307908901958,
          -1.6122191077071573,
          1.3485030075774902,
          -1.6122600834915455,
          -1.0723526105127343,
          1.1799450265037055,
          1.1800228073356578,
          0.9454404647384841,
          -0.9128311260485933,
          -1.3627295484094823,
          -1.2640379872337903,
          1.3589507388327249,
          -0.17755381507314494,
          0.27255523828386824,
          -2.3721999133168805,
          -2.1410541129892655,
          1.1800008083700768,
          -2.370114364305699,
          -1.0726210708587252,
          -2.2731963701340296,
          -1.417839374862621,
          1.5537439361933523,
          3.67401577757561,
          1.7718431648367348,
          -1.0723500655919385,
          -1.0740089982824221,
          -0.9128695818917077,
          0.9883323979466676,
          0.9622926837162686,
          1.3395390179884388,
          1.5785735776270138,
          0.7859151094493909,
          1.279157084100596,
          -2.036281806941445,
          -2.370090345982896,
          -1.0723485258692502,
          -2.0114633739983914,
          1.6870458632256697,
          1.1800229209168154,
          1.180022773406362,
          -2.09108816695012,
          0.7858826092775599,
          -2.126985688794623,
          1.2367726818896747,
          1.438805245349702,
          1.1800208095100289,
          0.6737157303545891,
          -0.9128302254943449,
          1.7425849911623779,
          1.4388060880195248,
          -2.370089216937114,
          0.5739118233464341,
          1.1796308900120318,
          -0.5653224367492179,
          -2.2039368937727266,
          1.1007314863512596,
          -1.9912794423597204,
          0.7859215459058431,
          -2.12696509429285,
          -2.370129072711063,
          -2.1882877624584505,
          -2.383934611264554,
          1.1790441767210065,
          0.7859211295487719,
          -2.2132534473697825,
          2.1188447579484166,
          -2.370103171714729,
          1.1800167563809967,
          1.6469464164044543,
          0.417424259968324,
          1.3484587148725828,
          0.4955352418475472,
          1.065009109445575,
          -1.284358031872711,
          -2.1714541636157123,
          -0.9128308944142675,
          0.9680071244803254,
          1.3485021625539495,
          1.7426020617764586,
          0.7847552496543087,
          0.8345446404166056,
          1.3485019721342197,
          -1.0723485315212933,
          1.1800223143130226,
          -2.278217704525013,
          -2.1461838772956443,
          -0.6738073080701626,
          -2.203723396120567,
          0.9454377128163699,
          1.3395365222672264,
          0.7859034940596941,
          1.438797130968304,
          -1.3627851756393907,
          1.077663480789501,
          0.9454418473300068,
          -0.9128311720635028,
          1.1799879052332922,
          1.8155243958872254,
          -1.2843566156708361,
          2.9055200625837005,
          -2.091720940473758,
          1.1844753296234627,
          -2.1269703625138474,
          -1.3627295481003874,
          1.1724425043392068,
          0.9449822183762046,
          -2.3706970171904724,
          1.7425978931899329,
          -2.252540725189786,
          -2.2525355731783687,
          -0.23281770109813674,
          -2.2868652643730183,
          -1.0723479746718074,
          1.1800213020067267,
          -2.0911005672313445,
          1.7426007702555315,
          -2.091084223419964,
          1.3485028285424228,
          1.174018919311582,
          -1.5390904725751027,
          0.9454406534088544,
          1.1800167845102472,
          1.5785377992980583,
          2.1184754677136857,
          1.3395113063354478,
          -1.3627334427368254,
          -0.30446602310278525,
          -1.3627415092564492,
          1.339538094359148,
          0.8058724471607058,
          1.177189769180072,
          -1.072416391009938,
          1.3395343262519497,
          -1.6125966710756712,
          1.1800092048481212,
          -2.253018844231128,
          1.1800188437601757,
          0.4955421587760738,
          1.1800228939612407,
          1.339494518969404,
          -1.0723685011069666,
          1.179269721256582,
          0.8891631142148343,
          1.3395269095720466,
          -1.3627311359954695,
          1.1800205093012928,
          -1.0766003780986866,
          1.1799846448016704,
          -1.1703003229860647,
          1.3395210212912425,
          1.1800203134377762,
          1.438811199270766,
          -1.0723474439609055,
          -1.072361429773113,
          0.628711356217142,
          0.8896332335600775,
          0.8058855755721582,
          0.784963983355003,
          1.1799956402461231,
          0.6401484732111303,
          -1.9376352499824971,
          1.9479042554951727,
          -2.053070012373775,
          0.805872590844335,
          -2.0358273535809386,
          0.8058698699204079,
          0.49551631976346183,
          2.616285720560814,
          1.4388110786780703,
          0.7441416020649682,
          1.9754089947729145,
          0.23624078484283903,
          1.180005437439644,
          -2.370210683387229,
          -2.0910830616849796,
          0.78592430814623
         ],
         "z": [
          -0.4431550561277543,
          -0.4431711804152694,
          -0.4813290383345937,
          0.15505005539961342,
          0.2768711276333816,
          -0.018850974526656895,
          -0.39915826631120604,
          0.2772194798140301,
          0.2768599122658698,
          0.28099235561769464,
          -0.1303294734891147,
          0.2623676784162397,
          -0.26925804505602235,
          -0.039389481374797176,
          -0.018848265966704206,
          -0.49416097464755904,
          0.0251497164455022,
          -0.018850500164727543,
          -0.4431557429214169,
          -0.44314755418480656,
          0.2621567773846652,
          -0.03947783140303122,
          0.1550438590843848,
          -0.018859114925478117,
          -0.018847172689181534,
          -0.4431536032220418,
          0.03250175967693759,
          0.0691425040452983,
          -0.018849398743244875,
          -0.44315508248608776,
          -0.018848248828274572,
          -0.4431550975835648,
          -0.01884785625046537,
          0.02514975125611048,
          -0.435287209554412,
          -0.35516161458527,
          0.26154293680700175,
          0.15526133751464335,
          -0.019424463149442062,
          -0.01884808719524159,
          -0.01886072831187212,
          -0.018848694867038773,
          -0.11300742777812083,
          -0.26825043525624703,
          -0.018847795990515788,
          0.156667668937682,
          -0.018913090751800463,
          -0.01885019127708061,
          -0.0188505954435575,
          -0.44315405594837526,
          -0.16926944714546538,
          -0.022645152538448125,
          -0.3991581645462566,
          0.15505009273287057,
          -0.018859677698447905,
          -0.01884805217255901,
          -0.018847265322620377,
          -0.2538488671187588,
          -0.018849011875743046,
          0.2407009969031821,
          -0.21303572891339193,
          -0.0188476745614604,
          -0.26936779798017174,
          -0.2132878074963036,
          -0.46479554574119075,
          -0.018824644139618874,
          0.15505001772868882,
          -0.018861359710356608,
          -0.46479614703956024,
          -0.267624757670874,
          -0.44317499190101095,
          -0.44315944805562923,
          -0.4428089506980624,
          -0.018848321032619075,
          -0.0188603513387818,
          -0.01884965441650076,
          -0.16928866542338886,
          -0.3991571910133705,
          0.15500991452697932,
          0.06780526712944099,
          0.15504896024368933,
          -0.2651593198660685,
          -0.39915771132469713,
          0.15504898629033328,
          0.15504670083444824,
          0.15505096092575746,
          0.02515067357501175,
          -0.44314261892856516,
          -0.4431545167646695,
          -0.018848168195650102,
          -0.26565645883958494,
          0.18034689705603116,
          -0.018860053616201175,
          -0.3991574044013745,
          0.0678055539039274,
          0.155049017086425,
          -0.4647959352675006,
          -0.44315384617962933,
          0.3138411575816666,
          0.32165481752629455,
          -0.6776852818682818,
          -0.07165130201794909,
          -0.018852048345014975,
          -0.26926006977109024,
          -0.35516079026366865,
          -0.01893256486260974,
          -0.21328680829509256,
          -0.018854521455943348,
          -0.4647969468080436,
          -0.018847344874254393,
          -0.21331193012749364,
          -0.018845461818959675,
          -0.4431550387963724,
          -0.4647967794478556,
          -0.01883838623435144,
          0.2822391538772907,
          -0.1692903068434406,
          0.2622450654340364,
          0.10320543310195222,
          -0.01884726724286102,
          -0.4431559936300839,
          -0.018798147789584496,
          0.31709421245717995,
          -0.018847231799324266,
          0.15504999088398908,
          -0.02378995883322889,
          -0.3991571731024498,
          0.20343073356699465,
          0.02514926679121752,
          0.25743939690873796,
          0.1550482578059513,
          -0.49089303927360683,
          0.025149718375560248,
          -0.30026489323462113,
          -0.018858116626265613,
          -0.018859744508187743,
          -0.21328600234626302,
          0.2768690718952224,
          -0.4647987402124145,
          0.3180475522745597,
          -0.26925690719301637,
          -0.4941437253832769,
          0.02514998704903971,
          0.15505009164820993,
          -0.2933416745251125,
          -0.018856008902697344,
          0.29421107066177815,
          -0.2692580169474707,
          -0.40045378059699466,
          -0.018850894281616428,
          -0.2692573818741672,
          0.15414575382911982,
          -0.43067284544240736,
          -0.44315720635971173,
          -0.2132985275430864,
          0.025146678953399802,
          0.25453351224717646,
          -0.018856243089468767,
          0.21449894083905857,
          -0.39917769872881265,
          -0.2181694726158059,
          -0.26925897565645995,
          -0.4337004551970093,
          -0.11300833322161297,
          -0.018848202766669507,
          0.02514947738440246,
          -0.39915963181014913,
          -0.2692688302265142,
          -0.2692848875184876,
          -0.43079557743507463,
          -0.39916437090385803,
          -0.018847231672308635,
          -0.07949121204520342,
          -0.44325290777067433,
          -0.4431573845216707,
          -0.4431539292316554,
          -0.23493908517971523,
          0.02514933244954623,
          -0.1693168051261642,
          0.2893929707289245,
          -0.3991596935027261,
          -0.4431593818083694,
          0.3215782046327064,
          -0.26925799951724294,
          0.15505052262884966,
          -0.39915734438611716,
          -0.4431561538800793,
          0.26225556563682034,
          -0.4431550332232795,
          -0.018856571450625106,
          -0.21328512692554563,
          0.15505050795202074,
          -0.2905251993346403,
          -0.018848686323317605,
          -0.6141932066365343,
          -0.11301059646944286,
          -0.44315466034728485,
          -0.399154603382792,
          0.3250970617117317,
          -0.11300788807150094,
          -0.23492850389689413,
          -0.5727316157359632,
          -0.11302345586475375,
          -0.6137403221772593,
          0.27686875777182807,
          0.2809923347265496,
          0.21086140602785933,
          -0.3991585861822582,
          -0.01885026085696503,
          0.025133524835759334,
          -0.4637535458909031,
          -0.39915735250264156,
          -0.113009590803257,
          -0.44315692494691217,
          -0.44315728368046875,
          0.025139134372546303,
          -0.11300833322161297,
          -0.3991603428512715,
          -0.2692578062290983,
          -0.4431565900654036,
          -0.2356978398057019,
          -0.4431564296212273,
          -0.4431898843499465,
          -0.3991574499833099,
          0.32157753284621987,
          -0.4431626936997473,
          -0.2146348075370042,
          -0.44315571355590266,
          -0.4431551951218419,
          -0.16192863960488899,
          -0.3211063709352712,
          -0.018847341102746242,
          0.3215774168673411,
          0.2574422541116165,
          -0.44318163597975285,
          -0.2692579767236106,
          -0.39915762671025923,
          -0.44315599106806763,
          0.02510327345121414,
          -0.44315623086877276,
          0.2772094670061948,
          -0.21329004964294898,
          -0.2678434071694519,
          -0.01884734956980266,
          -0.23492900796611296,
          0.02515048080313549,
          0.28099256507263476,
          -0.44314378718259245,
          -0.01884608078559784,
          0.2574418599348511,
          -0.21328855320260884,
          0.2824550522187104,
          -0.39915708929708954,
          -0.495432923165868,
          -0.3991559385747231,
          -0.019061351450140426,
          -0.11301210813866187,
          -0.3991569906141118,
          -0.00648634992001177,
          -0.11302424580776714,
          -0.3991826173606883,
          -0.4431561323729525,
          -0.4431565791204541,
          -0.4431555874787704,
          -0.04341718341837017,
          -0.3991591372682804,
          -0.018848874801874242,
          -0.21339109598733239,
          0.1549322156061586,
          -0.11300897212619482,
          -0.44316044514685166,
          -0.49849774662831836,
          -0.03939957895259519,
          -0.018850912642519375,
          -0.07948874094265528,
          0.2772144506002005,
          -0.588860780980962,
          0.38229076846684545,
          0.31764007847586784,
          0.30794344094743387,
          0.32149256129019865,
          -0.4307922153720007,
          0.025151020453423188,
          -0.4307910379832009,
          -0.5678941072767191,
          -0.01884802740447569,
          -0.46479768665090837,
          -0.018851174238461256,
          0.02514774324736689,
          0.025149674873981696,
          -0.4457345492402974,
          0.3215759155507281,
          -0.46479708253816626,
          0.23649609110515282,
          -0.02766726234275356,
          0.03649968872594461,
          0.043322692540430884,
          0.02515156803718845,
          -0.5678936288016806,
          0.15505005620733123,
          -0.3991575533620418,
          -0.21328784403972487,
          -2.178245844637459,
          -0.019411318770660956,
          -0.11301075710335808,
          -0.01715884059019297,
          -0.018848165775080486,
          -0.018851512718086185,
          -0.018846874122960437,
          -0.018846861492748064,
          -0.44315741780477047,
          -0.44315523218742603,
          0.32157397955362577,
          -0.1301730130153936,
          -0.1694171502532644,
          -0.39915855582303555,
          0.28104364295214557,
          -0.2676439271182727,
          0.025182032518039885,
          -0.44315588794080957,
          0.15668185573954607,
          -0.014090123636539277,
          0.28099247154636287,
          -0.4439260736230526,
          -0.26925584526515944,
          -0.43078564649908485,
          -0.49492595688581936,
          0.2545270602813088,
          -0.4431561589836867,
          -0.39180626731219054,
          -0.018846079054889647,
          -0.14999672373339726,
          -0.4431556574553437,
          -0.039766225917752675,
          0.02513392399901699,
          0.1566809147623073,
          0.27685496373171964,
          0.15668161752985993,
          -0.39916447647790787,
          0.21084338273185704,
          -0.4320682089605058,
          -0.4648054415127059,
          0.2622145252127809,
          -0.4431650282830467,
          0.31723961962992553,
          0.3215780310934348,
          0.2768706334854029,
          -0.20092513314494947,
          -0.16192883222460733,
          0.02512205847732827,
          0.27717078849052346,
          -0.4457833493465327,
          -0.4431550104504416,
          -0.019069031618358066,
          -0.39915934391713825,
          0.12648712342486504,
          0.02514964548353311,
          0.15668222155699976,
          -0.16192768931612345,
          0.1566599338268248,
          -0.0188501072868366,
          -0.44319643142234166,
          -0.44315524145988205,
          -0.16929034029258913,
          0.025149523726947898,
          0.1550501266387682,
          0.181117606506653,
          -0.0794909695887658,
          0.08242986505561793,
          -0.2578577920454769,
          0.3216687731451984,
          0.2865048995695389,
          -0.4431647478204659,
          0.32156217897140926,
          -0.018734516397152755,
          0.2545362700731751,
          0.1803578693651454,
          -0.2349686606081673,
          21.219252673408985,
          13.149899428937553,
          -0.018849207913545905,
          -0.019665047831902028,
          0.025126291149581644,
          -0.2431900550384459,
          -1.618893901646046,
          -0.39915850851942786,
          -0.47283709361715076,
          -0.21329348932877404,
          -0.05972831185771094,
          0.2765235633356616,
          0.3215790573549316,
          -0.018848286014786005,
          0.334335036239191,
          -0.43079425086150563,
          -0.4431552073189896,
          -0.443155310797193,
          0.2809904783350567,
          -0.21331083626468506,
          0.3250823271978481,
          -0.03200381210464572,
          -0.11301196440619934,
          -0.4431565512424388,
          0.27905150316151317,
          0.025150981050069958,
          -0.3918049801053532,
          -0.11301166212418719,
          0.32157785008286055,
          -0.03931794622754376,
          -0.4434136582004651,
          -0.0064847565579191895,
          0.25744141749318133,
          -0.37394258067080377,
          0.25273004085397904,
          -0.21328806912557038,
          0.3250976404508248,
          0.3215464151503561,
          0.3528211268204542,
          0.3121806727807665,
          -0.44358263388514424,
          -0.21328940308514943,
          0.322710869697037,
          -0.613349495454707,
          0.32158472476587335,
          -0.44315931406923154,
          -0.26427902312844354,
          -0.2351316846958753,
          -0.16196284745906198,
          -0.039393655541930486,
          0.0350718240554395,
          0.15512325274679936,
          0.36575407865967624,
          0.025149590032648633,
          -0.26918750639456335,
          -0.1619290025172,
          -0.39179609163521556,
          -0.21419400485420467,
          -0.24395970764241184,
          -0.16192723177634336,
          -0.018848376724018862,
          -0.44315552958350085,
          0.2771254408988451,
          0.23725725710862863,
          -0.04853713301448179,
          0.3440855391629516,
          -0.16929199149578283,
          -0.3991595139628672,
          -0.2132998256116355,
          -0.11301866708923555,
          0.15507463676629654,
          -0.38758559983268687,
          -0.16928926463106997,
          0.02514937540007861,
          -0.4431479146556399,
          -0.1605431424649254,
          0.15512440427033936,
          16.68589062801581,
          0.28063508279511123,
          -0.24296855429247474,
          0.32509377011307805,
          0.15505005617102716,
          -0.4220687331517307,
          -0.16908608029905972,
          0.32116658961084804,
          -0.3917983690604097,
          0.28375359020097357,
          0.28375805085874634,
          0.08654799119249505,
          0.2973992548477243,
          -0.018846842978370505,
          -0.44315600989663884,
          0.28097969893879204,
          -0.3917966918612562,
          0.2809920342559116,
          -0.1619286533656288,
          -0.44680979559058115,
          0.1032054568309991,
          -0.16929031403300276,
          -0.4431593264989333,
          -0.4728583891222919,
          -0.6136078794643129,
          -0.39917957366589935,
          0.15504815093901028,
          -0.04048857469083491,
          0.1550429450455815,
          -0.39915852203743835,
          0.2108781132143256,
          -0.44485459385243525,
          -0.018899254620089182,
          -0.39915432709531495,
          0.15651350978987127,
          -0.4431657594831837,
          0.2833834158442111,
          -0.4431577281372235,
          -0.03939002780572838,
          -0.44315494241812925,
          -0.39917890208940926,
          -0.01883853176405725,
          -0.4437075960703292,
          -0.2690451320663779,
          -0.3991518931256209,
          0.15504898689874314,
          -0.4431551536378506,
          -0.021184210729282928,
          -0.4431717729200861,
          0.0691416562006941,
          -0.399165988548349,
          -0.44315388647106374,
          -0.1130079332497482,
          -0.018847414807640437,
          -0.01885616117953022,
          -0.12450513028700255,
          -0.2692616378558366,
          0.2108596694481809,
          -0.21370679493308847,
          -0.4431681985743145,
          -0.2676278124900929,
          0.2622441856109197,
          -0.464796330763638,
          0.33518988572116,
          0.2108788930229329,
          0.2768688297723606,
          0.21088009533982485,
          -0.039377682480865005,
          10.704140731118772,
          -0.11300784910952136,
          0.183774831318189,
          -0.18209105939604672,
          0.1363214733722457,
          -0.44316831124394684,
          0.3215149944564203,
          0.2809923545962356,
          -0.21328718145113695
         ]
        }
       ],
       "layout": {
        "autosize": true,
        "coloraxis": {
         "colorbar": {
          "title": {
           "text": "class"
          }
         },
         "colorscale": [
          [
           0,
           "#0d0887"
          ],
          [
           0.1111111111111111,
           "#46039f"
          ],
          [
           0.2222222222222222,
           "#7201a8"
          ],
          [
           0.3333333333333333,
           "#9c179e"
          ],
          [
           0.4444444444444444,
           "#bd3786"
          ],
          [
           0.5555555555555556,
           "#d8576b"
          ],
          [
           0.6666666666666666,
           "#ed7953"
          ],
          [
           0.7777777777777778,
           "#fb9f3a"
          ],
          [
           0.8888888888888888,
           "#fdca26"
          ],
          [
           1,
           "#f0f921"
          ]
         ]
        },
        "legend": {
         "tracegroupgap": 0
        },
        "margin": {
         "t": 60
        },
        "scene": {
         "aspectmode": "auto",
         "aspectratio": {
          "x": 1,
          "y": 1,
          "z": 1
         },
         "domain": {
          "x": [
           0,
           1
          ],
          "y": [
           0,
           1
          ]
         },
         "xaxis": {
          "title": {
           "text": "PC 1"
          },
          "type": "linear"
         },
         "yaxis": {
          "title": {
           "text": "PC 2"
          },
          "type": "linear"
         },
         "zaxis": {
          "title": {
           "text": "PC 3"
          },
          "type": "linear"
         }
        },
        "template": {
         "data": {
          "bar": [
           {
            "error_x": {
             "color": "#2a3f5f"
            },
            "error_y": {
             "color": "#2a3f5f"
            },
            "marker": {
             "line": {
              "color": "#E5ECF6",
              "width": 0.5
             }
            },
            "type": "bar"
           }
          ],
          "barpolar": [
           {
            "marker": {
             "line": {
              "color": "#E5ECF6",
              "width": 0.5
             }
            },
            "type": "barpolar"
           }
          ],
          "carpet": [
           {
            "aaxis": {
             "endlinecolor": "#2a3f5f",
             "gridcolor": "white",
             "linecolor": "white",
             "minorgridcolor": "white",
             "startlinecolor": "#2a3f5f"
            },
            "baxis": {
             "endlinecolor": "#2a3f5f",
             "gridcolor": "white",
             "linecolor": "white",
             "minorgridcolor": "white",
             "startlinecolor": "#2a3f5f"
            },
            "type": "carpet"
           }
          ],
          "choropleth": [
           {
            "colorbar": {
             "outlinewidth": 0,
             "ticks": ""
            },
            "type": "choropleth"
           }
          ],
          "contour": [
           {
            "colorbar": {
             "outlinewidth": 0,
             "ticks": ""
            },
            "colorscale": [
             [
              0,
              "#0d0887"
             ],
             [
              0.1111111111111111,
              "#46039f"
             ],
             [
              0.2222222222222222,
              "#7201a8"
             ],
             [
              0.3333333333333333,
              "#9c179e"
             ],
             [
              0.4444444444444444,
              "#bd3786"
             ],
             [
              0.5555555555555556,
              "#d8576b"
             ],
             [
              0.6666666666666666,
              "#ed7953"
             ],
             [
              0.7777777777777778,
              "#fb9f3a"
             ],
             [
              0.8888888888888888,
              "#fdca26"
             ],
             [
              1,
              "#f0f921"
             ]
            ],
            "type": "contour"
           }
          ],
          "contourcarpet": [
           {
            "colorbar": {
             "outlinewidth": 0,
             "ticks": ""
            },
            "type": "contourcarpet"
           }
          ],
          "heatmap": [
           {
            "colorbar": {
             "outlinewidth": 0,
             "ticks": ""
            },
            "colorscale": [
             [
              0,
              "#0d0887"
             ],
             [
              0.1111111111111111,
              "#46039f"
             ],
             [
              0.2222222222222222,
              "#7201a8"
             ],
             [
              0.3333333333333333,
              "#9c179e"
             ],
             [
              0.4444444444444444,
              "#bd3786"
             ],
             [
              0.5555555555555556,
              "#d8576b"
             ],
             [
              0.6666666666666666,
              "#ed7953"
             ],
             [
              0.7777777777777778,
              "#fb9f3a"
             ],
             [
              0.8888888888888888,
              "#fdca26"
             ],
             [
              1,
              "#f0f921"
             ]
            ],
            "type": "heatmap"
           }
          ],
          "heatmapgl": [
           {
            "colorbar": {
             "outlinewidth": 0,
             "ticks": ""
            },
            "colorscale": [
             [
              0,
              "#0d0887"
             ],
             [
              0.1111111111111111,
              "#46039f"
             ],
             [
              0.2222222222222222,
              "#7201a8"
             ],
             [
              0.3333333333333333,
              "#9c179e"
             ],
             [
              0.4444444444444444,
              "#bd3786"
             ],
             [
              0.5555555555555556,
              "#d8576b"
             ],
             [
              0.6666666666666666,
              "#ed7953"
             ],
             [
              0.7777777777777778,
              "#fb9f3a"
             ],
             [
              0.8888888888888888,
              "#fdca26"
             ],
             [
              1,
              "#f0f921"
             ]
            ],
            "type": "heatmapgl"
           }
          ],
          "histogram": [
           {
            "marker": {
             "colorbar": {
              "outlinewidth": 0,
              "ticks": ""
             }
            },
            "type": "histogram"
           }
          ],
          "histogram2d": [
           {
            "colorbar": {
             "outlinewidth": 0,
             "ticks": ""
            },
            "colorscale": [
             [
              0,
              "#0d0887"
             ],
             [
              0.1111111111111111,
              "#46039f"
             ],
             [
              0.2222222222222222,
              "#7201a8"
             ],
             [
              0.3333333333333333,
              "#9c179e"
             ],
             [
              0.4444444444444444,
              "#bd3786"
             ],
             [
              0.5555555555555556,
              "#d8576b"
             ],
             [
              0.6666666666666666,
              "#ed7953"
             ],
             [
              0.7777777777777778,
              "#fb9f3a"
             ],
             [
              0.8888888888888888,
              "#fdca26"
             ],
             [
              1,
              "#f0f921"
             ]
            ],
            "type": "histogram2d"
           }
          ],
          "histogram2dcontour": [
           {
            "colorbar": {
             "outlinewidth": 0,
             "ticks": ""
            },
            "colorscale": [
             [
              0,
              "#0d0887"
             ],
             [
              0.1111111111111111,
              "#46039f"
             ],
             [
              0.2222222222222222,
              "#7201a8"
             ],
             [
              0.3333333333333333,
              "#9c179e"
             ],
             [
              0.4444444444444444,
              "#bd3786"
             ],
             [
              0.5555555555555556,
              "#d8576b"
             ],
             [
              0.6666666666666666,
              "#ed7953"
             ],
             [
              0.7777777777777778,
              "#fb9f3a"
             ],
             [
              0.8888888888888888,
              "#fdca26"
             ],
             [
              1,
              "#f0f921"
             ]
            ],
            "type": "histogram2dcontour"
           }
          ],
          "mesh3d": [
           {
            "colorbar": {
             "outlinewidth": 0,
             "ticks": ""
            },
            "type": "mesh3d"
           }
          ],
          "parcoords": [
           {
            "line": {
             "colorbar": {
              "outlinewidth": 0,
              "ticks": ""
             }
            },
            "type": "parcoords"
           }
          ],
          "pie": [
           {
            "automargin": true,
            "type": "pie"
           }
          ],
          "scatter": [
           {
            "marker": {
             "colorbar": {
              "outlinewidth": 0,
              "ticks": ""
             }
            },
            "type": "scatter"
           }
          ],
          "scatter3d": [
           {
            "line": {
             "colorbar": {
              "outlinewidth": 0,
              "ticks": ""
             }
            },
            "marker": {
             "colorbar": {
              "outlinewidth": 0,
              "ticks": ""
             }
            },
            "type": "scatter3d"
           }
          ],
          "scattercarpet": [
           {
            "marker": {
             "colorbar": {
              "outlinewidth": 0,
              "ticks": ""
             }
            },
            "type": "scattercarpet"
           }
          ],
          "scattergeo": [
           {
            "marker": {
             "colorbar": {
              "outlinewidth": 0,
              "ticks": ""
             }
            },
            "type": "scattergeo"
           }
          ],
          "scattergl": [
           {
            "marker": {
             "colorbar": {
              "outlinewidth": 0,
              "ticks": ""
             }
            },
            "type": "scattergl"
           }
          ],
          "scattermapbox": [
           {
            "marker": {
             "colorbar": {
              "outlinewidth": 0,
              "ticks": ""
             }
            },
            "type": "scattermapbox"
           }
          ],
          "scatterpolar": [
           {
            "marker": {
             "colorbar": {
              "outlinewidth": 0,
              "ticks": ""
             }
            },
            "type": "scatterpolar"
           }
          ],
          "scatterpolargl": [
           {
            "marker": {
             "colorbar": {
              "outlinewidth": 0,
              "ticks": ""
             }
            },
            "type": "scatterpolargl"
           }
          ],
          "scatterternary": [
           {
            "marker": {
             "colorbar": {
              "outlinewidth": 0,
              "ticks": ""
             }
            },
            "type": "scatterternary"
           }
          ],
          "surface": [
           {
            "colorbar": {
             "outlinewidth": 0,
             "ticks": ""
            },
            "colorscale": [
             [
              0,
              "#0d0887"
             ],
             [
              0.1111111111111111,
              "#46039f"
             ],
             [
              0.2222222222222222,
              "#7201a8"
             ],
             [
              0.3333333333333333,
              "#9c179e"
             ],
             [
              0.4444444444444444,
              "#bd3786"
             ],
             [
              0.5555555555555556,
              "#d8576b"
             ],
             [
              0.6666666666666666,
              "#ed7953"
             ],
             [
              0.7777777777777778,
              "#fb9f3a"
             ],
             [
              0.8888888888888888,
              "#fdca26"
             ],
             [
              1,
              "#f0f921"
             ]
            ],
            "type": "surface"
           }
          ],
          "table": [
           {
            "cells": {
             "fill": {
              "color": "#EBF0F8"
             },
             "line": {
              "color": "white"
             }
            },
            "header": {
             "fill": {
              "color": "#C8D4E3"
             },
             "line": {
              "color": "white"
             }
            },
            "type": "table"
           }
          ]
         },
         "layout": {
          "annotationdefaults": {
           "arrowcolor": "#2a3f5f",
           "arrowhead": 0,
           "arrowwidth": 1
          },
          "coloraxis": {
           "colorbar": {
            "outlinewidth": 0,
            "ticks": ""
           }
          },
          "colorscale": {
           "diverging": [
            [
             0,
             "#8e0152"
            ],
            [
             0.1,
             "#c51b7d"
            ],
            [
             0.2,
             "#de77ae"
            ],
            [
             0.3,
             "#f1b6da"
            ],
            [
             0.4,
             "#fde0ef"
            ],
            [
             0.5,
             "#f7f7f7"
            ],
            [
             0.6,
             "#e6f5d0"
            ],
            [
             0.7,
             "#b8e186"
            ],
            [
             0.8,
             "#7fbc41"
            ],
            [
             0.9,
             "#4d9221"
            ],
            [
             1,
             "#276419"
            ]
           ],
           "sequential": [
            [
             0,
             "#0d0887"
            ],
            [
             0.1111111111111111,
             "#46039f"
            ],
            [
             0.2222222222222222,
             "#7201a8"
            ],
            [
             0.3333333333333333,
             "#9c179e"
            ],
            [
             0.4444444444444444,
             "#bd3786"
            ],
            [
             0.5555555555555556,
             "#d8576b"
            ],
            [
             0.6666666666666666,
             "#ed7953"
            ],
            [
             0.7777777777777778,
             "#fb9f3a"
            ],
            [
             0.8888888888888888,
             "#fdca26"
            ],
            [
             1,
             "#f0f921"
            ]
           ],
           "sequentialminus": [
            [
             0,
             "#0d0887"
            ],
            [
             0.1111111111111111,
             "#46039f"
            ],
            [
             0.2222222222222222,
             "#7201a8"
            ],
            [
             0.3333333333333333,
             "#9c179e"
            ],
            [
             0.4444444444444444,
             "#bd3786"
            ],
            [
             0.5555555555555556,
             "#d8576b"
            ],
            [
             0.6666666666666666,
             "#ed7953"
            ],
            [
             0.7777777777777778,
             "#fb9f3a"
            ],
            [
             0.8888888888888888,
             "#fdca26"
            ],
            [
             1,
             "#f0f921"
            ]
           ]
          },
          "colorway": [
           "#636efa",
           "#EF553B",
           "#00cc96",
           "#ab63fa",
           "#FFA15A",
           "#19d3f3",
           "#FF6692",
           "#B6E880",
           "#FF97FF",
           "#FECB52"
          ],
          "font": {
           "color": "#2a3f5f"
          },
          "geo": {
           "bgcolor": "white",
           "lakecolor": "white",
           "landcolor": "#E5ECF6",
           "showlakes": true,
           "showland": true,
           "subunitcolor": "white"
          },
          "hoverlabel": {
           "align": "left"
          },
          "hovermode": "closest",
          "mapbox": {
           "style": "light"
          },
          "paper_bgcolor": "white",
          "plot_bgcolor": "#E5ECF6",
          "polar": {
           "angularaxis": {
            "gridcolor": "white",
            "linecolor": "white",
            "ticks": ""
           },
           "bgcolor": "#E5ECF6",
           "radialaxis": {
            "gridcolor": "white",
            "linecolor": "white",
            "ticks": ""
           }
          },
          "scene": {
           "xaxis": {
            "backgroundcolor": "#E5ECF6",
            "gridcolor": "white",
            "gridwidth": 2,
            "linecolor": "white",
            "showbackground": true,
            "ticks": "",
            "zerolinecolor": "white"
           },
           "yaxis": {
            "backgroundcolor": "#E5ECF6",
            "gridcolor": "white",
            "gridwidth": 2,
            "linecolor": "white",
            "showbackground": true,
            "ticks": "",
            "zerolinecolor": "white"
           },
           "zaxis": {
            "backgroundcolor": "#E5ECF6",
            "gridcolor": "white",
            "gridwidth": 2,
            "linecolor": "white",
            "showbackground": true,
            "ticks": "",
            "zerolinecolor": "white"
           }
          },
          "shapedefaults": {
           "line": {
            "color": "#2a3f5f"
           }
          },
          "ternary": {
           "aaxis": {
            "gridcolor": "white",
            "linecolor": "white",
            "ticks": ""
           },
           "baxis": {
            "gridcolor": "white",
            "linecolor": "white",
            "ticks": ""
           },
           "bgcolor": "#E5ECF6",
           "caxis": {
            "gridcolor": "white",
            "linecolor": "white",
            "ticks": ""
           }
          },
          "title": {
           "x": 0.05
          },
          "xaxis": {
           "automargin": true,
           "gridcolor": "white",
           "linecolor": "white",
           "ticks": "",
           "title": {
            "standoff": 15
           },
           "zerolinecolor": "white",
           "zerolinewidth": 2
          },
          "yaxis": {
           "automargin": true,
           "gridcolor": "white",
           "linecolor": "white",
           "ticks": "",
           "title": {
            "standoff": 15
           },
           "zerolinecolor": "white",
           "zerolinewidth": 2
          }
         }
        }
       }
      },
      "image/png": "[encoded data removed]",
      "text/html": [
       "<div>                            <div id=\"bee3a6c5-09e8-40c0-88ea-df097c1de917\" class=\"plotly-graph-div\" style=\"height:525px; width:100%;\"></div>            <script type=\"text/javascript\">                require([\"plotly\"], function(Plotly) {                    window.PLOTLYENV=window.PLOTLYENV || {};                                    if (document.getElementById(\"bee3a6c5-09e8-40c0-88ea-df097c1de917\")) {                    Plotly.newPlot(                        \"bee3a6c5-09e8-40c0-88ea-df097c1de917\",                        [{\"customdata\": [[\"Scrypt\"], [\"Scrypt\"], [\"X13\"], [\"SHA-256\"], [\"Ethash\"], [\"Scrypt\"], [\"X11\"], [\"CryptoNight-V7\"], [\"Ethash\"], [\"Equihash\"], [\"SHA-512\"], [\"Multiple\"], [\"SHA-256\"], [\"SHA-256\"], [\"Scrypt\"], [\"X15\"], [\"X11\"], [\"Scrypt\"], [\"Scrypt\"], [\"Scrypt\"], [\"Multiple\"], [\"Scrypt\"], [\"SHA-256\"], [\"Scrypt\"], [\"Scrypt\"], [\"Scrypt\"], [\"Quark\"], [\"Groestl\"], [\"Scrypt\"], [\"Scrypt\"], [\"Scrypt\"], [\"Scrypt\"], [\"Scrypt\"], [\"X11\"], [\"Scrypt\"], [\"Groestl\"], [\"Multiple\"], [\"SHA-256\"], [\"Scrypt\"], [\"Scrypt\"], [\"Scrypt\"], [\"Scrypt\"], [\"PoS\"], [\"Scrypt\"], [\"Scrypt\"], [\"NeoScrypt\"], [\"Scrypt\"], [\"Scrypt\"], [\"Scrypt\"], [\"Scrypt\"], [\"X11\"], [\"Scrypt\"], [\"X11\"], [\"SHA-256\"], [\"Scrypt\"], [\"Scrypt\"], [\"Scrypt\"], [\"SHA3\"], [\"Scrypt\"], [\"HybridScryptHash256\"], [\"Scrypt\"], [\"Scrypt\"], [\"SHA-256\"], [\"Scrypt\"], [\"X13\"], [\"Scrypt\"], [\"SHA-256\"], [\"Scrypt\"], [\"X13\"], [\"NeoScrypt\"], [\"Scrypt\"], [\"Scrypt\"], [\"Scrypt\"], [\"Scrypt\"], [\"Scrypt\"], [\"Scrypt\"], [\"X11\"], [\"X11\"], [\"SHA-256\"], [\"Multiple\"], [\"SHA-256\"], [\"PHI1612\"], [\"X11\"], [\"SHA-256\"], [\"SHA-256\"], [\"SHA-256\"], [\"X11\"], [\"Scrypt\"], [\"Scrypt\"], [\"Scrypt\"], [\"Scrypt\"], [\"Lyra2REv2\"], [\"Scrypt\"], [\"X11\"], [\"Multiple\"], [\"SHA-256\"], [\"X13\"], [\"Scrypt\"], [\"CryptoNight\"], [\"CryptoNight\"], [\"Shabal256\"], [\"Counterparty\"], [\"Scrypt\"], [\"SHA-256\"], [\"Groestl\"], [\"Scrypt\"], [\"Scrypt\"], [\"Scrypt\"], [\"X13\"], [\"Scrypt\"], [\"Scrypt\"], [\"Scrypt\"], [\"Scrypt\"], [\"X13\"], [\"Scrypt\"], [\"Stanford Folding\"], [\"X11\"], [\"Multiple\"], [\"QuBit\"], [\"Scrypt\"], [\"Scrypt\"], [\"Scrypt\"], [\"M7 POW\"], [\"Scrypt\"], [\"SHA-256\"], [\"Scrypt\"], [\"X11\"], [\"SHA3\"], [\"X11\"], [\"Lyra2RE\"], [\"SHA-256\"], [\"QUAIT\"], [\"X11\"], [\"X11\"], [\"Scrypt\"], [\"Scrypt\"], [\"Scrypt\"], [\"Ethash\"], [\"X13\"], [\"Blake2b\"], [\"SHA-256\"], [\"X15\"], [\"X11\"], [\"SHA-256\"], [\"BLAKE256\"], [\"Scrypt\"], [\"1GB AES Pattern Search\"], [\"SHA-256\"], [\"X11\"], [\"Scrypt\"], [\"SHA-256\"], [\"SHA-256\"], [\"NIST5\"], [\"Scrypt\"], [\"Scrypt\"], [\"X11\"], [\"Dagger\"], [\"Scrypt\"], [\"X11GOST\"], [\"X11\"], [\"Scrypt\"], [\"SHA-256\"], [\"Scrypt\"], [\"PoS\"], [\"Scrypt\"], [\"X11\"], [\"X11\"], [\"SHA-256\"], [\"SHA-256\"], [\"NIST5\"], [\"X11\"], [\"Scrypt\"], [\"POS 3.0\"], [\"Scrypt\"], [\"Scrypt\"], [\"Scrypt\"], [\"X13\"], [\"X11\"], [\"X11\"], [\"Equihash\"], [\"X11\"], [\"Scrypt\"], [\"CryptoNight\"], [\"SHA-256\"], [\"SHA-256\"], [\"X11\"], [\"Scrypt\"], [\"Multiple\"], [\"Scrypt\"], [\"Scrypt\"], [\"Scrypt\"], [\"SHA-256\"], [\"Scrypt\"], [\"Scrypt\"], [\"SHA-256D\"], [\"PoS\"], [\"Scrypt\"], [\"X11\"], [\"Lyra2Z\"], [\"PoS\"], [\"X13\"], [\"X14\"], [\"PoS\"], [\"SHA-256D\"], [\"Ethash\"], [\"Equihash\"], [\"DPoS\"], [\"X11\"], [\"Scrypt\"], [\"X11\"], [\"X13\"], [\"X11\"], [\"PoS\"], [\"Scrypt\"], [\"Scrypt\"], [\"X11\"], [\"PoS\"], [\"X11\"], [\"SHA-256\"], [\"Scrypt\"], [\"X11\"], [\"Scrypt\"], [\"Scrypt\"], [\"X11\"], [\"CryptoNight\"], [\"Scrypt\"], [\"Scrypt\"], [\"Scrypt\"], [\"Scrypt\"], [\"Quark\"], [\"QuBit\"], [\"Scrypt\"], [\"CryptoNight\"], [\"Lyra2RE\"], [\"Scrypt\"], [\"SHA-256\"], [\"X11\"], [\"Scrypt\"], [\"X11\"], [\"Scrypt\"], [\"CryptoNight-V7\"], [\"Scrypt\"], [\"Scrypt\"], [\"Scrypt\"], [\"X13\"], [\"X11\"], [\"Equihash\"], [\"Scrypt\"], [\"Scrypt\"], [\"Lyra2RE\"], [\"Scrypt\"], [\"Dagger-Hashimoto\"], [\"X11\"], [\"Blake2S\"], [\"X11\"], [\"Scrypt\"], [\"PoS\"], [\"X11\"], [\"NIST5\"], [\"PoS\"], [\"X11\"], [\"Scrypt\"], [\"Scrypt\"], [\"Scrypt\"], [\"SHA-256\"], [\"X11\"], [\"Scrypt\"], [\"Scrypt\"], [\"SHA-256\"], [\"PoS\"], [\"Scrypt\"], [\"X15\"], [\"SHA-256\"], [\"Scrypt\"], [\"POS 3.0\"], [\"CryptoNight-V7\"], [\"536\"], [\"Argon2d\"], [\"Blake2b\"], [\"Cloverhash\"], [\"CryptoNight\"], [\"NIST5\"], [\"X11\"], [\"NIST5\"], [\"Skein\"], [\"Scrypt\"], [\"X13\"], [\"Scrypt\"], [\"X11\"], [\"X11\"], [\"Scrypt\"], [\"CryptoNight\"], [\"X13\"], [\"Time Travel\"], [\"Scrypt\"], [\"Keccak\"], [\"SkunkHash v2 Raptor\"], [\"X11\"], [\"Skein\"], [\"SHA-256\"], [\"X11\"], [\"Scrypt\"], [\"VeChainThor Authority\"], [\"Scrypt\"], [\"PoS\"], [\"Scrypt\"], [\"Scrypt\"], [\"Scrypt\"], [\"Scrypt\"], [\"Scrypt\"], [\"Scrypt\"], [\"Scrypt\"], [\"CryptoNight\"], [\"SHA-512\"], [\"Ouroboros\"], [\"X11\"], [\"Equihash\"], [\"NeoScrypt\"], [\"X11\"], [\"Scrypt\"], [\"NeoScrypt\"], [\"Lyra2REv2\"], [\"Equihash\"], [\"Scrypt\"], [\"SHA-256\"], [\"NIST5\"], [\"PHI1612\"], [\"Dagger\"], [\"Scrypt\"], [\"Quark\"], [\"Scrypt\"], [\"POS 2.0\"], [\"Scrypt\"], [\"SHA-256\"], [\"X11\"], [\"NeoScrypt\"], [\"Ethash\"], [\"NeoScrypt\"], [\"X11\"], [\"DPoS\"], [\"NIST5\"], [\"X13\"], [\"Multiple\"], [\"Scrypt\"], [\"CryptoNight\"], [\"CryptoNight\"], [\"Ethash\"], [\"NIST5\"], [\"Quark\"], [\"X11\"], [\"CryptoNight-V7\"], [\"Scrypt\"], [\"Scrypt\"], [\"Scrypt\"], [\"X11\"], [\"BLAKE256\"], [\"X11\"], [\"NeoScrypt\"], [\"Quark\"], [\"NeoScrypt\"], [\"Scrypt\"], [\"Scrypt\"], [\"Scrypt\"], [\"X11\"], [\"X11\"], [\"SHA-256\"], [\"C11\"], [\"POS 3.0\"], [\"Ethash\"], [\"Scrypt\"], [\"CryptoNight\"], [\"SkunkHash\"], [\"Scrypt\"], [\"CryptoNight\"], [\"Scrypt\"], [\"Dagger\"], [\"Lyra2REv2\"], [\"X13\"], [\"Proof-of-BibleHash\"], [\"SHA-256 + Hive\"], [\"Scrypt\"], [\"Scrypt\"], [\"X11\"], [\"C11\"], [\"Proof-of-Authority\"], [\"X11\"], [\"XEVAN\"], [\"Scrypt\"], [\"VBFT\"], [\"Ethash\"], [\"CryptoNight\"], [\"Scrypt\"], [\"IMesh\"], [\"NIST5\"], [\"Scrypt\"], [\"Scrypt\"], [\"Equihash\"], [\"Scrypt\"], [\"Lyra2Z\"], [\"Green Protocol\"], [\"PoS\"], [\"Scrypt\"], [\"Semux BFT consensus\"], [\"X11\"], [\"Quark\"], [\"PoS\"], [\"CryptoNight\"], [\"X16R\"], [\"Scrypt\"], [\"NIST5\"], [\"Lyra2RE\"], [\"XEVAN\"], [\"Tribus\"], [\"Scrypt\"], [\"Lyra2Z\"], [\"CryptoNight\"], [\"CryptoNight Heavy\"], [\"CryptoNight\"], [\"Scrypt\"], [\"Scrypt\"], [\"Jump Consistent Hash\"], [\"SHA-256D\"], [\"CryptoNight\"], [\"Scrypt\"], [\"X15\"], [\"Scrypt\"], [\"Quark\"], [\"SHA-256\"], [\"DPoS\"], [\"X16R\"], [\"HMQ1725\"], [\"X11\"], [\"X16R\"], [\"Quark\"], [\"Quark\"], [\"Scrypt\"], [\"Lyra2REv2\"], [\"Quark\"], [\"Scrypt\"], [\"Scrypt\"], [\"CryptoNight-V7\"], [\"Cryptonight-GPU\"], [\"XEVAN\"], [\"CryptoNight Heavy\"], [\"X11\"], [\"X11\"], [\"Scrypt\"], [\"PoS\"], [\"SHA-256\"], [\"Keccak\"], [\"X11\"], [\"X11\"], [\"Scrypt\"], [\"SHA-512\"], [\"X16R\"], [\"ECC 256K1\"], [\"Equihash\"], [\"XEVAN\"], [\"Lyra2Z\"], [\"SHA-256\"], [\"XEVAN\"], [\"X11\"], [\"CryptoNight\"], [\"Quark\"], [\"Blake\"], [\"Blake\"], [\"Equihash\"], [\"Exosis\"], [\"Scrypt\"], [\"Scrypt\"], [\"Equihash\"], [\"Quark\"], [\"Equihash\"], [\"Quark\"], [\"Scrypt\"], [\"QuBit\"], [\"X11\"], [\"Scrypt\"], [\"XEVAN\"], [\"SHA-256D\"], [\"X11\"], [\"SHA-256\"], [\"X13\"], [\"SHA-256\"], [\"X11\"], [\"DPoS\"], [\"Scrypt\"], [\"Scrypt\"], [\"X11\"], [\"NeoScrypt\"], [\"Scrypt\"], [\"Blake\"], [\"Scrypt\"], [\"SHA-256\"], [\"Scrypt\"], [\"X11\"], [\"Scrypt\"], [\"Scrypt\"], [\"SHA-256\"], [\"X11\"], [\"SHA-256\"], [\"Scrypt\"], [\"Scrypt\"], [\"Scrypt\"], [\"Groestl\"], [\"X11\"], [\"Scrypt\"], [\"PoS\"], [\"Scrypt\"], [\"Scrypt\"], [\"X11\"], [\"SHA-256\"], [\"DPoS\"], [\"Scrypt\"], [\"Scrypt\"], [\"NeoScrypt\"], [\"Multiple\"], [\"X13\"], [\"Equihash+Scrypt\"], [\"DPoS\"], [\"Ethash\"], [\"DPoS\"], [\"SHA-256\"], [\"Leased POS\"], [\"PoS\"], [\"TRC10\"], [\"PoS\"], [\"SHA-256\"], [\"Scrypt\"], [\"CryptoNight\"], [\"Equihash\"], [\"Scrypt\"]], \"hovertemplate\": \"<b>%{hovertext}</b><br><br>PC 1=%{x}<br>PC 2=%{y}<br>PC 3=%{z}<br>Algorithm=%{customdata[0]}<br>class=%{marker.color}<extra></extra>\", \"hovertext\": [\"42 Coin\", \"404Coin\", \"EliteCoin\", \"Bitcoin\", \"Ethereum\", \"Litecoin\", \"Dash\", \"Monero\", \"Ethereum Classic\", \"ZCash\", \"Bitshares\", \"DigiByte\", \"BitcoinDark\", \"PayCoin\", \"ProsperCoin\", \"KoboCoin\", \"Spreadcoin\", \"Argentum\", \"Aurora Coin\", \"BlueCoin\", \"MyriadCoin\", \"MoonCoin\", \"ZetaCoin\", \"SexCoin\", \"Quatloo\", \"EnergyCoin\", \"QuarkCoin\", \"Riecoin\", \"Digitalcoin \", \"BitBar\", \"Catcoin\", \"CryptoBullion\", \"CannaCoin\", \"CryptCoin\", \"CasinoCoin\", \"Diamond\", \"Verge\", \"DevCoin\", \"EarthCoin\", \"E-Gulden\", \"Einsteinium\", \"Emerald\", \"Exclusive Coin\", \"FlutterCoin\", \"Franko\", \"FeatherCoin\", \"GrandCoin\", \"GlobalCoin\", \"GoldCoin\", \"HoboNickels\", \"HyperStake\", \"Infinite Coin\", \"IOCoin\", \"IXcoin\", \"KrugerCoin\", \"LuckyCoin\", \"Litebar \", \"MaxCoin\", \"MegaCoin\", \"MediterraneanCoin\", \"MintCoin\", \"MinCoin\", \"MazaCoin\", \"Nautilus Coin\", \"NavCoin\", \"NobleCoin\", \"Namecoin\", \"NyanCoin\", \"OpalCoin\", \"Orbitcoin\", \"PotCoin\", \"PhoenixCoin\", \"Reddcoin\", \"RonPaulCoin\", \"StableCoin\", \"SmartCoin\", \"SuperCoin\", \"SyncCoin\", \"SysCoin\", \"TeslaCoin\", \"TigerCoin\", \"TittieCoin\", \"TorCoin\", \"TerraCoin\", \"UnbreakableCoin\", \"Unobtanium\", \"UroCoin\", \"UnitaryStatus Dollar\", \"UltraCoin\", \"ViaCoin\", \"VeriCoin\", \"Vertcoin\", \"WorldCoin\", \"X11 Coin\", \"Crypti\", \"JouleCoin\", \"StealthCoin\", \"ZCC Coin\", \"ByteCoin\", \"DigitalNote \", \"BurstCoin\", \"StorjCoin\", \"MonaCoin\", \"Neutron\", \"FairCoin\", \"Gulden\", \"RubyCoin\", \"PesetaCoin\", \"Kore\", \"Wild Beast Coin\", \"Dnotes\", \"Flo\", \"8BIT Coin\", \"Sativa Coin\", \"ArtByte\", \"Folding Coin\", \"Ucoin\", \"Unitus\", \"CypherPunkCoin\", \"OmniCron\", \"Vtorrent\", \"GreenCoin\", \"Cryptonite\", \"MasterCoin\", \"SoonCoin\", \"1Credit\", \"IslaCoin\", \"Nexus\", \"MarsCoin \", \"Crypto\", \"Anarchists Prime\", \"Droidz\", \"BowsCoin\", \"Squall Coin\", \"Song Coin\", \"BitZeny\", \"Diggits\", \"Expanse\", \"Paycon\", \"Siacoin\", \"Emercoin\", \"EverGreenCoin\", \"MindCoin\", \"I0coin\", \"Decred\", \"Revolution VR\", \"HOdlcoin\", \"EDRCoin\", \"Hitcoin\", \"Gamecredits\", \"DubaiCoin\", \"CarpeDiemCoin\", \"PWR Coin\", \"BillaryCoin\", \"GPU Coin\", \"Adzcoin\", \"SoilCoin\", \"YoCoin\", \"SibCoin\", \"EuropeCoin\", \"ZeitCoin\", \"SwingCoin\", \"SafeExchangeCoin\", \"Nebuchadnezzar\", \"Francs\", \"BolivarCoin\", \"Ratecoin\", \"Revenu\", \"Clockcoin\", \"VIP Tokens\", \"BitSend\", \"Omni\", \"Let it Ride\", \"PutinCoin\", \"iBankCoin\", \"Frankywillcoin\", \"MudraCoin\", \"PizzaCoin\", \"Lutetium Coin\", \"Komodo\", \"GoldBlocks\", \"CarterCoin\", \"Karbo\", \"BitTokens\", \"ZayedCoin\", \"MustangCoin\", \"ZoneCoin\", \"Circuits of Value\", \"RootCoin\", \"DopeCoin\", \"BitCurrency\", \"DollarCoin\", \"Swiscoin\", \"Shilling\", \"BuzzCoin\", \"Opair\", \"PesoBit\", \"Halloween Coin\", \"ZCoin\", \"CoffeeCoin\", \"RoyalCoin\", \"GanjaCoin V2\", \"TeamUP\", \"LanaCoin\", \"Elementrem\", \"ZClassic\", \"ARK\", \"InsaneCoin\", \"KiloCoin\", \"ArtexCoin\", \"EmberCoin\", \"XenixCoin\", \"FreeCoin\", \"PLNCoin\", \"AquariusCoin\", \"Kurrent\", \"Creatio\", \"Eternity\", \"Eurocoin\", \"BitcoinFast\", \"Stakenet\", \"BitConnect Coin\", \"MoneyCoin\", \"Enigma\", \"Cannabis Industry Coin\", \"Russiacoin\", \"PandaCoin\", \"GameUnits\", \"GAKHcoin\", \"Allsafe\", \"LiteCreed\", \"OsmiumCoin\", \"Bikercoins\", \"HexxCoin\", \"Klingon Empire Darsek\", \"Internet of People\", \"KushCoin\", \"Printerium\", \"PacCoin\", \"Impeach\", \"Citadel\", \"Zilbercoin\", \"FirstCoin\", \"BeaverCoin\", \"FindCoin\", \"VaultCoin\", \"Zero\", \"OpenChat\", \"Canada eCoin\", \"Zoin\", \"RenosCoin\", \"DubaiCoin\", \"VirtacoinPlus\", \"TajCoin\", \"Impact\", \"EB3coin\", \"Atmos\", \"HappyCoin\", \"Coinonat\", \"MacronCoin\", \"Condensate\", \"Independent Money System\", \"ArgusCoin\", \"LomoCoin\", \"ProCurrency\", \"GoldReserve\", \"BenjiRolls\", \"GrowthCoin\", \"ILCoin\", \"Phreak\", \"Degas Coin\", \"HTML5 Coin\", \"Ultimate Secure Cash\", \"EquiTrader\", \"QTUM\", \"Quantum Resistant Ledger\", \"Espers\", \"Dynamic\", \"Nano\", \"ChanCoin\", \"Dinastycoin\", \"Denarius\", \"DigitalPrice\", \"Virta Unique Coin\", \"Bitcoin Planet\", \"Unify\", \"BritCoin\", \"SocialCoin\", \"ArcticCoin\", \"DAS\", \"Linda\", \"LeviarCoin\", \"DeepOnion\", \"Bitcore\", \"gCn Coin\", \"SmartCash\", \"Signatum\", \"Onix\", \"Cream\", \"Bitcoin Cash\", \"Monoeci\", \"Draftcoin\", \"Vechain\", \"Sojourn Coin\", \"Stakecoin\", \"NewYorkCoin\", \"FrazCoin\", \"Kronecoin\", \"AdCoin\", \"Linx\", \"CoinonatX\", \"Ethereum Dark\", \"Sumokoin\", \"Obsidian\", \"Cardano\", \"Regalcoin\", \"BitcoinZ\", \"TrezarCoin\", \"Elements\", \"TerraNovaCoin\", \"VIVO Coin\", \"Rupee\", \"Bitcoin Gold\", \"WomenCoin\", \"Theresa May Coin\", \"NamoCoin\", \"LUXCoin\", \"Pirl\", \"Xios\", \"Bitcloud 2.0\", \"eBoost\", \"KekCoin\", \"BlackholeCoin\", \"Infinity Economics\", \"Pura\", \"Innova\", \"Ellaism\", \"GoByte\", \"Magnet\", \"Lamden Tau\", \"Electra\", \"Bitcoin Diamond\", \"SHIELD\", \"Cash & Back Coin\", \"UltraNote\", \"BitCoal\", \"DaxxCoin\", \"Bulwark\", \"Kalkulus\", \"AC3\", \"Lethean\", \"GermanCoin\", \"LiteCoin Ultra\", \"PopularCoin\", \"PhantomX\", \"Photon\", \"Sucre\", \"SparksPay\", \"Digiwage\", \"GunCoin\", \"IrishCoin\", \"Trollcoin\", \"Litecoin Plus\", \"Monkey Project\", \"Pioneer Coin\", \"UnitedBitcoin\", \"Interzone\", \"TokenPay\", \"1717 Masonic Commemorative Token\", \"My Big Coin\", \"TurtleCoin\", \"MUNcoin\", \"Unified Society USDEX\", \"Niobio Cash\", \"ShareChain\", \"Travelflex\", \"KREDS\", \"Tokyo Coin\", \"BiblePay\", \"LitecoinCash\", \"BitFlip\", \"LottoCoin\", \"Crypto Improvement Fund\", \"Stipend\", \"Poa Network\", \"Pushi\", \"Ellerium\", \"Velox\", \"Ontology\", \"Callisto Network\", \"BitTube\", \"Poseidon\", \"Aidos Kuneen\", \"Bitspace\", \"Briacoin\", \"Ignition\", \"Bitrolium\", \"MedicCoin\", \"Alpenschillling\", \"Bitcoin Green\", \"Deviant Coin\", \"Abjcoin\", \"Semux\", \"FuturoCoin\", \"Carebit\", \"Zealium\", \"Monero Classic\", \"Proton\", \"iDealCash\", \"Jumpcoin\", \"Infinex\", \"Bitcoin Incognito\", \"KEYCO\", \"HollyWoodCoin\", \"GINcoin\", \"PlatinCoin\", \"Loki\", \"Newton Coin\", \"Swisscoin\", \"Xt3ch\", \"MassGrid\", \"TheVig\", \"PluraCoin\", \"EmaratCoin\", \"Dekado\", \"Lynx\", \"Poseidon Quark\", \"BitcoinWSpectrum\", \"Muse\", \"Motion\", \"PlusOneCoin\", \"Axe\", \"Trivechain\", \"Dystem\", \"Giant\", \"Peony Coin\", \"Absolute Coin\", \"Vitae\", \"HexCoin\", \"TPCash\", \"Webchain\", \"Ryo\", \"Urals Coin\", \"Qwertycoin\", \"ARENON\", \"EUNO\", \"MMOCoin\", \"Ketan\", \"Project Pai\", \"XDNA\", \"PAXEX\", \"Azart\", \"ThunderStake\", \"Kcash\", \"Xchange\", \"Acute Angle Cloud\", \"CrypticCoin\", \"Bettex coin\", \"Actinium\", \"Bitcoin SV\", \"BitMoney\", \"Junson Ming Chan Coin\", \"FREDEnergy\", \"HerbCoin\", \"Universal Molecule\", \"Lithium\", \"PirateCash\", \"Exosis\", \"Block-Logic\", \"Oduwa\", \"Beam\", \"Galilel\", \"Bithereum\", \"Crypto Sports\", \"Credit\", \"SLICE\", \"Dash Platinum\", \"Nasdacoin\", \"Beetle Coin\", \"Titan Coin\", \"Award\", \"BLAST\", \"Bitcoin Rhodium\", \"GlobalToken\", \"Insane Coin\", \"ALAX\", \"LiteDoge\", \"SolarCoin\", \"TruckCoin\", \"UFO Coin\", \"OrangeCoin\", \"BlakeCoin\", \"BitstarCoin\", \"NeosCoin\", \"HyperCoin\", \"PinkCoin\", \"Crypto Escudo\", \"AudioCoin\", \"IncaKoin\", \"Piggy Coin\", \"Crown Coin\", \"Genstake\", \"SmileyCoin\", \"XiaoMiCoin\", \"Groestlcoin\", \"CapriCoin\", \" ClubCoin\", \"Radium\", \"Bata\", \"Pakcoin\", \"Creditbit \", \"OKCash\", \"Lisk\", \"HiCoin\", \"WhiteCoin\", \"FriendshipCoin\", \"JoinCoin\", \"Triangles Coin\", \"Vollar\", \"EOS\", \"Reality Clash\", \"Oxycoin\", \"TigerCash\", \"Waves\", \"Particl\", \"BitTorrent\", \"Nxt\", \"ZEPHYR\", \"Gapcoin\", \"Beldex\", \"Horizen\", \"BitcoinPlus\"], \"legendgroup\": \"\", \"marker\": {\"color\": [0, 0, 0, 1, 1, 1, 0, 1, 1, 1, 0, 1, 0, 0, 1, 0, 1, 1, 0, 0, 1, 1, 1, 1, 1, 0, 1, 1, 1, 0, 1, 0, 1, 1, 0, 0, 1, 1, 1, 1, 1, 1, 0, 0, 1, 1, 1, 1, 1, 0, 0, 1, 0, 1, 1, 1, 1, 0, 1, 1, 0, 1, 0, 0, 0, 1, 1, 1, 0, 0, 0, 0, 0, 1, 1, 1, 0, 0, 1, 0, 1, 0, 0, 1, 1, 1, 1, 0, 0, 1, 0, 1, 1, 0, 0, 1, 0, 0, 1, 1, 1, 0, 1, 0, 0, 1, 0, 1, 0, 1, 0, 1, 0, 0, 1, 1, 0, 1, 1, 1, 0, 1, 1, 1, 1, 1, 0, 0, 1, 1, 1, 0, 1, 0, 1, 1, 0, 1, 0, 1, 0, 0, 1, 1, 0, 1, 1, 0, 0, 1, 0, 1, 0, 0, 0, 1, 1, 1, 1, 0, 0, 0, 0, 0, 1, 1, 0, 0, 0, 0, 0, 1, 0, 0, 0, 0, 0, 1, 0, 1, 0, 0, 1, 0, 1, 0, 0, 1, 0, 1, 0, 1, 0, 1, 0, 0, 0, 0, 1, 0, 0, 0, 0, 0, 1, 1, 0, 0, 1, 1, 0, 0, 0, 0, 0, 1, 0, 0, 0, 0, 0, 0, 0, 0, 1, 0, 0, 0, 0, 0, 0, 1, 1, 1, 0, 0, 0, 0, 1, 0, 1, 0, 0, 1, 0, 1, 1, 0, 1, 1, 0, 1, 0, 0, 0, 1, 0, 0, 1, 0, 0, 0, 0, 0, 0, 0, 1, 0, 1, 0, 0, 0, 0, 1, 0, 1, 0, 1, 1, 1, 1, 0, 1, 0, 0, 1, 0, 1, 1, 1, 0, 1, 0, 1, 1, 1, 0, 1, 0, 1, 0, 0, 0, 1, 0, 1, 1, 1, 1, 1, 0, 0, 1, 0, 0, 0, 1, 0, 1, 0, 1, 0, 1, 0, 0, 0, 0, 1, 0, 0, 1, 0, 0, 0, 1, 1, 1, 1, 0, 0, 0, 0, 1, 0, 1, 1, 1, 0, 0, 1, 1, 0, 0, 1, 0, 1, 1, 1, 0, 1, 1, 0, 0, 0, 1, 1, 1, 0, 1, 0, 1, 1, 0, 1, 1, 1, 1, 0, 3, 3, 1, 1, 1, 0, 0, 0, 0, 0, 0, 1, 1, 1, 1, 0, 0, 0, 1, 0, 1, 0, 0, 0, 0, 1, 0, 0, 1, 0, 0, 1, 1, 0, 1, 0, 1, 1, 1, 1, 0, 0, 1, 0, 1, 0, 0, 0, 0, 0, 0, 1, 1, 1, 0, 0, 0, 0, 0, 0, 1, 0, 1, 1, 1, 1, 0, 0, 0, 0, 1, 0, 0, 1, 0, 0, 1, 3, 1, 0, 1, 1, 0, 0, 1, 0, 1, 1, 1, 1, 1, 0, 1, 0, 1, 0, 0, 1, 0, 0, 0, 0, 0, 1, 1, 1, 0, 0, 0, 1, 0, 1, 0, 1, 0, 0, 0, 0, 1, 0, 0, 0, 1, 0, 1, 0, 1, 0, 0, 0, 1, 1, 0, 0, 0, 0, 0, 0, 1, 0, 1, 0, 1, 0, 0, 3, 0, 2, 0, 0, 0, 1, 1, 0], \"coloraxis\": \"coloraxis\", \"symbol\": \"circle\"}, \"mode\": \"markers\", \"name\": \"\", \"scene\": \"scene\", \"showlegend\": false, \"type\": \"scatter3d\", \"x\": [-0.24965474479039762, -0.2315060570909191, 3.3678975022505506, -0.20627570903687006, -0.24055571974086598, -0.19832175726261922, -0.3246497350511904, -0.23735643541761592, -0.2383601023903268, -0.23584368616772255, -0.2169480525602712, -0.07114076770458697, -0.2561866499479241, -0.23856689715292803, -0.19965242865385743, -0.12938007661017487, -0.27492451116692795, -0.19913905500259976, -0.24926559781614055, -0.24197057748305975, -0.1705299131086854, 3.6894070755628694, -0.20292714846829532, -0.19584347913851172, -0.19983577694036064, -0.24816654978389155, -0.2535043910243929, -0.25458984475337576, -0.1990426086475414, -0.24964916656361646, -0.19963487392062212, -0.24963205121258386, -0.19974491075812092, -0.2750191732096335, 0.8132316276170317, -0.3056753670514464, 0.14910979175609695, 0.02245365868417865, 0.08843384957487367, -0.19946931471584628, -0.19425162340811342, -0.19937499702882427, -0.2958874747619164, -0.21571226128894708, -0.19980726218840109, -0.238901850376662, -0.17485453091721606, -0.19843170960253237, -0.1986993657297967, -0.2485651140237434, -0.28709696769132403, 1.813279325356569, -0.32454549816748723, -0.20623746893130376, -0.19541511660118055, -0.19949860042096088, -0.19990785481712053, -0.2966258509676109, -0.1990481149640814, -0.242269320453155, 0.025438759978742155, -0.19976340801920447, -0.2124061216941473, -0.23170870193371326, -0.16733923986107377, -0.17030924213343673, -0.2063142950137545, -0.19247394858827743, -0.16795514416112006, -0.29447118702282055, -0.2427079468128089, -0.24776776524792826, 0.10485780911899224, -0.19970883215569574, -0.19710992572896296, -0.1991067996291787, -0.3067820701383869, -0.32498175283061687, -0.1908986798245811, -0.24235557227155927, -0.20570255028542575, -0.23623855606160324, -0.3248631769008462, -0.20600244633433032, -0.20586737119028237, -0.20670023864032727, -0.27524731459082696, -0.23626384952678073, -0.24903712384701354, -0.19942196445347335, -0.22951389509572856, -0.24342728605555672, -0.19580016564217587, -0.3248420142133541, -0.24212699095745482, -0.20577542485021666, -0.1677382280200292, -0.24776381785253862, 4.093313148114702, 0.0835533278420231, -0.004975577288104274, -0.2781887337769199, -0.19804549892628948, -0.25526322752815667, -0.3051164190494625, -0.17790003345694178, -0.23173950390017486, -0.19658664519584398, -0.16799243020258486, -0.1999060654674253, -0.22489200615877392, -0.19808334856327578, -0.24963699515247717, -0.16795132294993567, -0.19024946137805163, -0.23441676527824304, -0.30716017912075, -0.21041551279366894, -0.24969885816026116, -0.1997781131779877, -0.24931184016402136, -0.14316927845052205, -0.1983042692392888, -0.1999211173827178, -0.2063417917888398, 0.7318876943348641, -0.32496347200100206, -0.2858331985853797, -0.2745380193955039, -0.23841874090392104, -0.20598235492381523, -0.3229691430900906, -0.27485737511490416, -0.351289358559777, -0.19741165686778697, -0.19648835482317964, -0.2308488189354629, -0.24155978731124236, -0.16735335129185683, 0.25828669021870343, -0.2558030568470939, -0.13280395121417432, -0.2749079709396417, -0.20623857993914294, 0.02561655319817836, -0.1952683735044985, -0.2520148784105843, -0.2561578586212509, 0.07690800670475542, -0.19823956301340945, -0.25625668875707885, 0.27523749794666114, -0.148997005266037, -0.24912052732892276, -0.22933982693766564, -0.2738656027862633, -0.2397508899634921, -0.19822204112178127, -0.2508829241600255, -0.3209665803340302, 1.2177451302270226, -0.2559669912670177, -0.027907057192252612, -0.29551172983342794, -0.19965285256077078, -0.2748435836582622, -0.3225949699371452, -0.25415473657546656, -0.2509061001632652, -0.26884591814489556, -0.32327899617771905, -0.1999211847137849, -0.29324578728798195, -0.2195650473227494, -0.24915097905255257, -0.24843531927207493, -0.14846576559461094, -0.27499203907683034, -0.29279576827323234, -0.28096249558283476, -0.3242871388602759, -0.2482211816927847, -0.0007848630271608869, -0.2562051641137071, -0.2065310827324163, -0.32494343892561434, -0.24941082362493633, -0.19900866210819004, -0.2496312866856573, -0.19649617720590393, -0.23001729278879413, -0.20648732313513038, -0.23033712760030625, -0.19949656399827792, 0.19847247149105532, -0.2943113613990099, -0.2492493532895927, -0.3216797410571776, -0.24306867128530968, -0.2937525911467764, -0.1504963729876165, -0.31128512636459804, -0.2926920014600079, -0.15174015175214287, -0.2412756171356515, -0.23586508477065177, 3.2284925072290314, -0.32445610308925604, -0.19654820627619193, -0.2602330520601428, 0.955356712353099, -0.32489615059079213, -0.2948450856059073, -0.2490577293550362, -0.24919972625745185, -0.27221053434877607, -0.29551172983342794, -0.324300669388917, -0.25607233998527545, -0.2490756948349297, -0.34270852617866554, -0.24923714892330726, -0.2429325532319784, -0.3249212829193833, -0.0007562174172857925, -0.2480949290425784, 0.5061605748916188, -0.2494810765803812, -0.2495810640038171, -0.2909991923619543, -0.29833167058120263, -0.19989658002767682, -0.0006143770520483287, -0.23912730296592127, -0.2443006856291115, -0.25618181680904717, -0.3248185999094139, -0.2493092159148969, -0.2586397066347076, -0.24942886727471825, -0.23555802522942051, -0.2314758350686623, -0.2301327249125389, -0.1998631786036672, -0.15022916581548817, -0.2747931779047517, -0.23588977987564164, -0.23746048120743685, -0.19871735030555443, -0.2388143042483634, -0.2312836012174236, -0.23946619086438764, -0.32481247184209455, -0.3148154289440813, -0.3236337976778308, -0.1586457921248686, -0.2934951239312607, -0.3247113917904936, -0.22043564428205462, -0.2870503806449122, -0.31844623203089134, -0.2493749724598033, -0.24935118411714677, -0.24954741428710422, 0.5220144360568827, -0.32436898423359367, -0.1993299164619413, -0.20824218885967613, -0.1654484700878932, -0.29551456270800613, -0.24833296268549035, 1.2700192843758438, -0.23668693186643985, -0.1990402792554612, -0.29283233117596175, -0.23566610540757849, 0.8772029281896239, -0.24231065178630234, -0.13691241642469168, -0.2414108033038543, 0.0411580940612792, -0.270614917300634, -0.2748268511645431, -0.2699953609630336, -0.3194628258500439, -0.1995203537742085, -0.1675773803228434, -0.19911275219855631, -0.27433927510480677, -0.27503876750970435, 0.36615015344199237, -0.0002625473859603858, -0.16768197752101363, -0.23581379301878005, 3.7975860159132147, -0.15108505589220864, -0.2813214041346293, -0.2736795342263756, -0.3189727283403484, -0.20627488169994146, -0.32473348301374166, -0.2316662550371379, 4.4204133841424404, -0.09357982126114399, -0.295283872482297, 1.5294418523844726, -0.19961496242187193, -0.1988730217089636, -0.19952995835070778, -0.19951702134239163, -0.24892973375986252, -0.24956141553184844, 2.775782818034414e-05, -0.2853422047947067, 0.8782551996560684, -0.32462048375662805, -0.17099547674707075, -0.2882882779823414, -0.2424750512365626, -0.24948159586004953, -0.24450460735091198, -0.27649696931331746, -0.2357249415149183, 0.5895770316399287, -0.2553017660743123, -0.26388648217108995, -0.296031204017119, -0.23812954378823484, -0.24941605120233062, -0.3064677182402895, -0.1987155775572525, -0.29325097136616163, -0.2493070908266896, -0.03884529454084131, -0.26959805962442596, -0.24429557753010034, -0.23886770184950706, -0.24443583956933124, -0.32306133913153806, 3.234466080490168, 0.3765185370075733, -0.16379197266896603, -0.1986925622353713, -0.2461857195215528, 1.0931159758274254, -0.0007997199015147954, -0.23454595972420608, -0.25273922590044623, -0.290870695380854, -0.2687199802409623, -0.22210517521419187, 0.31616466075158983, -0.24954280156876532, -0.10135340498927975, -0.3239290616102139, 1.3504366775173557, -0.27501022867088987, -0.24452085862228315, -0.29093804802585, -0.23613875780686477, -0.19873663385112167, -0.2333918744939406, -0.24958394504419262, -0.30712928165923703, -0.27492643364575464, -0.20625708213644822, -0.25263025110960335, -0.29355129387474155, -0.2739553500570648, -0.23407537592689426, 0.7429231438834732, -0.2455090825689305, -0.24446494386358816, 0.004042072316282095, -0.07799223793449826, -0.23881568880985607, -0.23701022665342464, -0.13966413348882298, -0.12930305207919668, -0.31287042449163904, -0.19937923287684123, 0.1617396556437623, -0.2676424491999114, -0.3023952228155282, -0.37405132027815613, -0.3247023493366869, -0.23947213101852655, -0.2305030944001859, -0.278699682948308, -0.17302835508244008, 8.857237785177121e-05, -0.1996729637164729, -0.24611974255812397, -0.27009348570636643, -0.2496141339588561, -0.24958980749217172, -0.23457377275120359, -0.22377157270786072, -0.24000776760975337, -0.2775611159685309, -0.2948002986686293, -0.24923140616994627, 3.3862657038280664, -0.2748672116508991, -0.3051492443077888, -0.2950119469224696, -0.0006006885818393934, -0.2813674947943371, -0.18079664171830961, -0.220579294496115, -0.23892345300547008, -0.26605190148011904, -0.2445230469631405, -0.23133682386929974, -0.24318610855897377, 0.005097377000388518, 0.5519863937637716, 2.3620360637508213, -0.02299570836664996, -0.23153032218681371, -0.2438437830465024, -0.24043912630053155, 0.00589364843328578, -0.2485427517971005, -0.11436964408373611, 2.5916494309168256, -0.2846619417136362, -0.23712395021206828, 0.7952126477936471, -0.2494213102987577, -0.2374424560211442, -0.27498883555947196, -0.29818044947729894, -0.2909799653799665, -0.3087410551847051, -0.061086654132475986, -0.2939238079848083, -0.29046939430573293, -0.19969385838090697, -0.2494881127037086, -0.21965117176614152, -0.2407258074641413, -0.1880597395502659, 3.624041786337034, -0.30660518385845037, -0.32410323786072864, -0.22813165051691364, -0.29371638262353633, -0.1810972449020323, -0.27478433611367503, -0.3073306738538603, -0.27494804524799143, -0.23582389321632696, -0.31091407271634136, -0.24961508939060043, -0.3171722744465511, -0.10795399123477846, -0.22190990596515855, -0.24236126462630833, -0.20627491888585342, 0.8171368695880452, -0.09927602081745258, 0.10343574896898855, -0.30789084307609726, -0.22198645803087783, -0.22262308768712036, -0.26705257402759586, -0.24032917900350925, -0.19949805723856423, -0.24926334273248624, -0.23305233085194582, -0.30845112690714693, -0.23552869105830196, -0.291119496711304, 0.880731337677202, -0.24960939360753806, -0.3071870910557006, -0.2485554834246589, -0.23261490873201424, -0.17936905277422555, -0.3205413328451923, -0.2054245884286402, -0.11838314497663693, -0.20398038879013153, -0.3243904001497081, 3.2381122243189586, 0.29009355661712316, -0.18932688248133306, -0.3220483334939983, -0.1580626392334144, -0.2475862721047694, -0.15188833557527362, -0.24885638132989898, -0.23857274879858892, -0.24953827581895546, -0.314640714385911, -0.19039852609536345, -0.13144557313464122, -0.03947020606325076, -0.3189036499690601, -0.2060018231457812, -0.24877723952931569, 0.6642484294297912, -0.24071395697284162, -0.25408994271079116, -0.32043995560125327, -0.2483915199975836, -0.2958187926196286, -0.1998231401682257, -0.19724880436922965, -0.3556188810174375, -0.2544585149434615, 3.2289889968236314, -0.009761052315643793, -0.24356869918016058, -0.29392535676504633, -0.21113426187564804, -0.16813551192346077, -0.22818316089738605, 3.238259383869922, -0.24131378462755831, 3.2394909058246006, -0.22664429815986892, -0.37364097422121584, -0.29575644768457116, 36.6644876324653, -0.3303736919041112, 2.236712870242741, -0.24694206121729276, 0.0250552145796932, -0.23584473243719867, -0.23205656503666325], \"y\": [1.1800231512857482, 1.1799581124770053, 1.92536340429679, -1.3627295463546218, -2.035827880410527, -1.0723544647765566, 1.3395390423878215, -2.278096543399854, -2.0358425765813455, -2.0910830639966074, 1.4754535920968461, -1.9379542654373034, 0.8896409428888368, 0.4955425443426318, -1.0723485712394063, 2.0410273060325177, -0.9128309896507588, -1.0723517214036642, 1.1800215053654457, 1.1800061738927141, -1.9378185935111605, -1.0989426784507181, -1.3627439204654077, -1.0723677226593473, -1.0723472285140845, 1.1800198632704957, -0.5097915793118515, -1.1702982339852621, -1.0723511921659887, 1.180023115522298, -1.0723486100248243, 1.1800230542667578, -1.0723479984186586, -0.9128306867409223, -0.09828024347294223, 1.0820786299872542, -1.9392071696932458, -1.3632437615509752, -1.0736169884964086, -1.07234897581124, -1.0723735740638773, -1.072349699896331, 1.438811772953127, 0.21034646919076164, -1.0723477713877558, -1.61224629010345, -1.0724689758993236, -1.0723535655029168, -1.072353079426043, 1.1800206969763214, 0.9453971898725646, -1.0810424468357365, 1.33953881208691, -1.3627296308422963, -1.0723693920379453, -1.0723488642256334, -1.0723470856738886, 2.613860010435891, -1.0723508909272441, -2.2307291521437627, 0.785355444999045, -1.0723478103420125, 0.8894318291965855, 0.7859228279121715, 1.947902501837932, -1.0724171057206, -1.362729461102792, -1.072379246013663, 1.9479038626165526, 0.6401523232139626, 1.1799881126860035, 1.1800143877811389, 1.1792398914467785, -1.0723484466215403, -1.072364924572949, -1.0723511925818079, 0.9454406821270468, 1.3395408073001316, -1.3628041668629056, -0.07936583718044751, -1.362732032178773, 1.369724364512808, 1.3395400765475596, -1.362731134618597, -1.3627332145614117, -1.362727635602098, -0.9128293388133331, 1.1799930966332581, 1.1800217398345647, -1.0723491741904554, 0.28881638837217855, -1.417828666267281, -1.0723685413108068, 1.3395402407587662, -0.07936629532609078, -1.3627317768450966, 1.9479033833621497, 1.1800185046569298, -2.387781608355698, -2.370278972328288, -0.8336184951160569, 1.1191223470116252, -1.0723560652848945, 0.8896367461176983, 1.0820776003900694, -1.0724744078522481, 0.785923654513316, -1.0723621607350193, 1.947903382414881, -1.072347149542199, 0.7858850847626084, -1.0723511003283734, 1.180023112071682, 1.947903385356111, -1.0723688304504702, -2.0721270878210376, 0.9454405798851043, -1.9376367067173217, -1.5390902280303829, -1.0723474670888828, 1.1800214560387101, -1.0724770687413818, -2.32309821259451, -1.072347022123407, -1.3627294003514325, -1.07871885526334, 1.3395407669573587, 3.380890349639937, -0.9128324530286828, -2.2039398611405354, -1.3627317303383515, 2.3183143657855854, -0.9128311848629012, 0.8616962863609965, -1.072362393908528, -1.0723662978713653, 0.7859216397526607, -2.0358264546262816, 1.9479001889264211, -2.244145030368162, 0.8896406579598832, 2.041050046467054, -0.9128308386675842, -1.3627296283876362, 1.1611718700009632, -1.072367118025979, -2.0456598338687986, 0.8896408792772954, 1.3374081609170068, -1.072354646376488, 0.8896416367730817, -1.3648062954808329, 1.6867806568179193, 1.1800200019529474, 0.7859079893261813, -0.912836329636652, -2.2731956634729094, -1.072358639628937, -2.055341926118096, 1.3395139336213089, 0.7780798671531503, 0.8896396137029212, -0.09464723855745515, 1.4388100051467703, -1.0723485234210406, -0.9128314028608815, 1.3395320178562593, 0.8896270432340674, 0.8896056945067216, 1.68704123157915, 1.3395305287091561, -1.072347021832594, 1.3589496653514606, 1.1798629075548346, 1.1800199598421501, 1.180020410207869, 1.553791511586042, -0.9128310748635619, 0.9453789794660529, -1.6064664749760844, 1.339536928577993, 1.1800157646134695, -2.3700884162151943, 0.8896410306758105, -1.362728454055689, 1.3395405820509345, 1.1800216278509288, -1.9376623778247892, 1.1800230994593985, -1.0723639364992994, 0.7859198494610371, -1.3627285930394617, 0.6037042874481359, -1.072349337542764, 2.1169374380691908, 1.4388048214369722, 1.1800222556159636, 1.3395330430661634, -2.1269658647701646, 1.4388051808757891, 1.5538052571558085, 2.1341861698439106, 1.4387906014586045, 2.118296938679413, -2.0358275184320958, -2.091083016718546, 0.8058883095529502, 1.3395382395231867, -1.0723591333677043, -0.912885952209659, 1.9453821685026915, 1.3395404375666302, 1.4388071258098039, 1.1800200254181183, 1.1800201769350167, -0.9128467373211218, 1.4388100051467703, 1.339536489654476, 0.8896407840960403, 1.1800203248361334, 0.48393752204942525, 1.1800209159616375, 1.179977795186383, 1.3395404393358952, -2.370088995204434, 1.180012954054492, 0.7827689811121463, 1.180022158122057, 1.180022833047323, 1.3485024863247486, 0.7132737882635146, -1.072347174544566, -2.370089496113603, -2.2039356801512135, 1.1799878811393887, 0.8896409790922885, 1.3395400083448137, 1.1800214502406963, -0.9129129134391403, 1.1800216239602406, -2.2781091899367314, 0.785920493465318, 0.5242587519335181, -1.0723472786138795, 1.5538041030477299, -0.9128308110005363, -2.0910827746300504, 1.1799957404706327, -1.0723496995652742, -2.203936887390101, 0.7859210332699863, -2.124464789778068, 1.339540386455905, 2.045158127238876, 1.3395377822938563, -1.0726257139058355, 1.4388013167009424, 1.3395401631296948, -0.5653240317523526, 1.4387734955678801, 1.339502926877988, 1.1800215386967727, 1.18002113978186, 1.1800224453339074, 0.49034656844053104, 1.3395375782249754, -1.0723499645399504, 0.7857779759865245, -1.3629359699812107, 1.4388095425878626, 1.1800153083555442, 2.033732521745864, 0.4955295964660523, -1.072352314693033, 1.3589502755197986, -2.278105200601569, 1.9800166111544706, -1.9814279025822472, -2.243287830725158, -2.1944059500842847, -2.3702743797154864, 1.6870488905477845, -0.9128303146667812, 1.6870479436364285, 2.2210087428490994, -1.0723487822588789, 1.9479016215317586, -1.0723522952167104, -0.9128341579424297, -0.9128306856428935, 1.1763185029877024, -2.370091633017666, 1.9479023731015417, -2.193611863513104, -1.090555440326127, -1.1750873334480116, 1.3792591064476607, -0.9128332714842649, 2.221007660027932, -1.362729548182546, 1.3395398131019727, 0.7859226766580532, -0.3567062625630492, -1.0730742022346567, 1.4388075514382093, -1.0761678466720985, -1.0723486071354926, -1.0723532468131955, -1.0723479041895074, -1.0723479327725267, 1.1800192873088153, 1.1800227481826084, -2.3700939100712253, 1.4757692187976297, 1.1499876407296434, 1.3395387433510995, -2.0912352002522554, 0.6401200867280922, -0.9129022146517597, 1.1800220311258205, -1.612219424903423, 0.44044755884869197, -2.0910833263509776, 1.1769969084151979, 0.8896399723444001, 1.687034024746923, 1.76402140040781, -2.273205167159462, 1.180021639400735, 1.7425879041979564, -1.0723497034819829, 1.3400487330595645, 1.180021689880457, 0.4946799294927823, -0.9128582288992223, -1.6122207306059415, -2.0358447368163968, -1.6122198018714944, 1.3395298134088685, 0.8058575308737501, 1.6842131294902185, 1.9478848193327047, -1.9376935493765448, 1.180005641650157, -2.376489763113113, -2.370088500594889, -2.035845846549592, 1.2929486505906074, 1.34850196801466, -0.9128695452845184, -2.2781770970042268, 1.1764289409076638, 1.180022857078644, -1.0727991774602594, 1.3395361374423147, -1.0982338259888889, -0.9128307908901958, -1.6122191077071573, 1.3485030075774902, -1.6122600834915455, -1.0723526105127343, 1.1799450265037055, 1.1800228073356578, 0.9454404647384841, -0.9128311260485933, -1.3627295484094823, -1.2640379872337903, 1.3589507388327249, -0.17755381507314494, 0.27255523828386824, -2.3721999133168805, -2.1410541129892655, 1.1800008083700768, -2.370114364305699, -1.0726210708587252, -2.2731963701340296, -1.417839374862621, 1.5537439361933523, 3.67401577757561, 1.7718431648367348, -1.0723500655919385, -1.0740089982824221, -0.9128695818917077, 0.9883323979466676, 0.9622926837162686, 1.3395390179884388, 1.5785735776270138, 0.7859151094493909, 1.279157084100596, -2.036281806941445, -2.370090345982896, -1.0723485258692502, -2.0114633739983914, 1.6870458632256697, 1.1800229209168154, 1.180022773406362, -2.09108816695012, 0.7858826092775599, -2.126985688794623, 1.2367726818896747, 1.438805245349702, 1.1800208095100289, 0.6737157303545891, -0.9128302254943449, 1.7425849911623779, 1.4388060880195248, -2.370089216937114, 0.5739118233464341, 1.1796308900120318, -0.5653224367492179, -2.2039368937727266, 1.1007314863512596, -1.9912794423597204, 0.7859215459058431, -2.12696509429285, -2.370129072711063, -2.1882877624584505, -2.383934611264554, 1.1790441767210065, 0.7859211295487719, -2.2132534473697825, 2.1188447579484166, -2.370103171714729, 1.1800167563809967, 1.6469464164044543, 0.417424259968324, 1.3484587148725828, 0.4955352418475472, 1.065009109445575, -1.284358031872711, -2.1714541636157123, -0.9128308944142675, 0.9680071244803254, 1.3485021625539495, 1.7426020617764586, 0.7847552496543087, 0.8345446404166056, 1.3485019721342197, -1.0723485315212933, 1.1800223143130226, -2.278217704525013, -2.1461838772956443, -0.6738073080701626, -2.203723396120567, 0.9454377128163699, 1.3395365222672264, 0.7859034940596941, 1.438797130968304, -1.3627851756393907, 1.077663480789501, 0.9454418473300068, -0.9128311720635028, 1.1799879052332922, 1.8155243958872254, -1.2843566156708361, 2.9055200625837005, -2.091720940473758, 1.1844753296234627, -2.1269703625138474, -1.3627295481003874, 1.1724425043392068, 0.9449822183762046, -2.3706970171904724, 1.7425978931899329, -2.252540725189786, -2.2525355731783687, -0.23281770109813674, -2.2868652643730183, -1.0723479746718074, 1.1800213020067267, -2.0911005672313445, 1.7426007702555315, -2.091084223419964, 1.3485028285424228, 1.174018919311582, -1.5390904725751027, 0.9454406534088544, 1.1800167845102472, 1.5785377992980583, 2.1184754677136857, 1.3395113063354478, -1.3627334427368254, -0.30446602310278525, -1.3627415092564492, 1.339538094359148, 0.8058724471607058, 1.177189769180072, -1.072416391009938, 1.3395343262519497, -1.6125966710756712, 1.1800092048481212, -2.253018844231128, 1.1800188437601757, 0.4955421587760738, 1.1800228939612407, 1.339494518969404, -1.0723685011069666, 1.179269721256582, 0.8891631142148343, 1.3395269095720466, -1.3627311359954695, 1.1800205093012928, -1.0766003780986866, 1.1799846448016704, -1.1703003229860647, 1.3395210212912425, 1.1800203134377762, 1.438811199270766, -1.0723474439609055, -1.072361429773113, 0.628711356217142, 0.8896332335600775, 0.8058855755721582, 0.784963983355003, 1.1799956402461231, 0.6401484732111303, -1.9376352499824971, 1.9479042554951727, -2.053070012373775, 0.805872590844335, -2.0358273535809386, 0.8058698699204079, 0.49551631976346183, 2.616285720560814, 1.4388110786780703, 0.7441416020649682, 1.9754089947729145, 0.23624078484283903, 1.180005437439644, -2.370210683387229, -2.0910830616849796, 0.78592430814623], \"z\": [-0.4431550561277543, -0.4431711804152694, -0.4813290383345937, 0.15505005539961342, 0.2768711276333816, -0.018850974526656895, -0.39915826631120604, 0.2772194798140301, 0.2768599122658698, 0.28099235561769464, -0.1303294734891147, 0.2623676784162397, -0.26925804505602235, -0.039389481374797176, -0.018848265966704206, -0.49416097464755904, 0.0251497164455022, -0.018850500164727543, -0.4431557429214169, -0.44314755418480656, 0.2621567773846652, -0.03947783140303122, 0.1550438590843848, -0.018859114925478117, -0.018847172689181534, -0.4431536032220418, 0.03250175967693759, 0.0691425040452983, -0.018849398743244875, -0.44315508248608776, -0.018848248828274572, -0.4431550975835648, -0.01884785625046537, 0.02514975125611048, -0.435287209554412, -0.35516161458527, 0.26154293680700175, 0.15526133751464335, -0.019424463149442062, -0.01884808719524159, -0.01886072831187212, -0.018848694867038773, -0.11300742777812083, -0.26825043525624703, -0.018847795990515788, 0.156667668937682, -0.018913090751800463, -0.01885019127708061, -0.0188505954435575, -0.44315405594837526, -0.16926944714546538, -0.022645152538448125, -0.3991581645462566, 0.15505009273287057, -0.018859677698447905, -0.01884805217255901, -0.018847265322620377, -0.2538488671187588, -0.018849011875743046, 0.2407009969031821, -0.21303572891339193, -0.0188476745614604, -0.26936779798017174, -0.2132878074963036, -0.46479554574119075, -0.018824644139618874, 0.15505001772868882, -0.018861359710356608, -0.46479614703956024, -0.267624757670874, -0.44317499190101095, -0.44315944805562923, -0.4428089506980624, -0.018848321032619075, -0.0188603513387818, -0.01884965441650076, -0.16928866542338886, -0.3991571910133705, 0.15500991452697932, 0.06780526712944099, 0.15504896024368933, -0.2651593198660685, -0.39915771132469713, 0.15504898629033328, 0.15504670083444824, 0.15505096092575746, 0.02515067357501175, -0.44314261892856516, -0.4431545167646695, -0.018848168195650102, -0.26565645883958494, 0.18034689705603116, -0.018860053616201175, -0.3991574044013745, 0.0678055539039274, 0.155049017086425, -0.4647959352675006, -0.44315384617962933, 0.3138411575816666, 0.32165481752629455, -0.6776852818682818, -0.07165130201794909, -0.018852048345014975, -0.26926006977109024, -0.35516079026366865, -0.01893256486260974, -0.21328680829509256, -0.018854521455943348, -0.4647969468080436, -0.018847344874254393, -0.21331193012749364, -0.018845461818959675, -0.4431550387963724, -0.4647967794478556, -0.01883838623435144, 0.2822391538772907, -0.1692903068434406, 0.2622450654340364, 0.10320543310195222, -0.01884726724286102, -0.4431559936300839, -0.018798147789584496, 0.31709421245717995, -0.018847231799324266, 0.15504999088398908, -0.02378995883322889, -0.3991571731024498, 0.20343073356699465, 0.02514926679121752, 0.25743939690873796, 0.1550482578059513, -0.49089303927360683, 0.025149718375560248, -0.30026489323462113, -0.018858116626265613, -0.018859744508187743, -0.21328600234626302, 0.2768690718952224, -0.4647987402124145, 0.3180475522745597, -0.26925690719301637, -0.4941437253832769, 0.02514998704903971, 0.15505009164820993, -0.2933416745251125, -0.018856008902697344, 0.29421107066177815, -0.2692580169474707, -0.40045378059699466, -0.018850894281616428, -0.2692573818741672, 0.15414575382911982, -0.43067284544240736, -0.44315720635971173, -0.2132985275430864, 0.025146678953399802, 0.25453351224717646, -0.018856243089468767, 0.21449894083905857, -0.39917769872881265, -0.2181694726158059, -0.26925897565645995, -0.4337004551970093, -0.11300833322161297, -0.018848202766669507, 0.02514947738440246, -0.39915963181014913, -0.2692688302265142, -0.2692848875184876, -0.43079557743507463, -0.39916437090385803, -0.018847231672308635, -0.07949121204520342, -0.44325290777067433, -0.4431573845216707, -0.4431539292316554, -0.23493908517971523, 0.02514933244954623, -0.1693168051261642, 0.2893929707289245, -0.3991596935027261, -0.4431593818083694, 0.3215782046327064, -0.26925799951724294, 0.15505052262884966, -0.39915734438611716, -0.4431561538800793, 0.26225556563682034, -0.4431550332232795, -0.018856571450625106, -0.21328512692554563, 0.15505050795202074, -0.2905251993346403, -0.018848686323317605, -0.6141932066365343, -0.11301059646944286, -0.44315466034728485, -0.399154603382792, 0.3250970617117317, -0.11300788807150094, -0.23492850389689413, -0.5727316157359632, -0.11302345586475375, -0.6137403221772593, 0.27686875777182807, 0.2809923347265496, 0.21086140602785933, -0.3991585861822582, -0.01885026085696503, 0.025133524835759334, -0.4637535458909031, -0.39915735250264156, -0.113009590803257, -0.44315692494691217, -0.44315728368046875, 0.025139134372546303, -0.11300833322161297, -0.3991603428512715, -0.2692578062290983, -0.4431565900654036, -0.2356978398057019, -0.4431564296212273, -0.4431898843499465, -0.3991574499833099, 0.32157753284621987, -0.4431626936997473, -0.2146348075370042, -0.44315571355590266, -0.4431551951218419, -0.16192863960488899, -0.3211063709352712, -0.018847341102746242, 0.3215774168673411, 0.2574422541116165, -0.44318163597975285, -0.2692579767236106, -0.39915762671025923, -0.44315599106806763, 0.02510327345121414, -0.44315623086877276, 0.2772094670061948, -0.21329004964294898, -0.2678434071694519, -0.01884734956980266, -0.23492900796611296, 0.02515048080313549, 0.28099256507263476, -0.44314378718259245, -0.01884608078559784, 0.2574418599348511, -0.21328855320260884, 0.2824550522187104, -0.39915708929708954, -0.495432923165868, -0.3991559385747231, -0.019061351450140426, -0.11301210813866187, -0.3991569906141118, -0.00648634992001177, -0.11302424580776714, -0.3991826173606883, -0.4431561323729525, -0.4431565791204541, -0.4431555874787704, -0.04341718341837017, -0.3991591372682804, -0.018848874801874242, -0.21339109598733239, 0.1549322156061586, -0.11300897212619482, -0.44316044514685166, -0.49849774662831836, -0.03939957895259519, -0.018850912642519375, -0.07948874094265528, 0.2772144506002005, -0.588860780980962, 0.38229076846684545, 0.31764007847586784, 0.30794344094743387, 0.32149256129019865, -0.4307922153720007, 0.025151020453423188, -0.4307910379832009, -0.5678941072767191, -0.01884802740447569, -0.46479768665090837, -0.018851174238461256, 0.02514774324736689, 0.025149674873981696, -0.4457345492402974, 0.3215759155507281, -0.46479708253816626, 0.23649609110515282, -0.02766726234275356, 0.03649968872594461, 0.043322692540430884, 0.02515156803718845, -0.5678936288016806, 0.15505005620733123, -0.3991575533620418, -0.21328784403972487, -2.178245844637459, -0.019411318770660956, -0.11301075710335808, -0.01715884059019297, -0.018848165775080486, -0.018851512718086185, -0.018846874122960437, -0.018846861492748064, -0.44315741780477047, -0.44315523218742603, 0.32157397955362577, -0.1301730130153936, -0.1694171502532644, -0.39915855582303555, 0.28104364295214557, -0.2676439271182727, 0.025182032518039885, -0.44315588794080957, 0.15668185573954607, -0.014090123636539277, 0.28099247154636287, -0.4439260736230526, -0.26925584526515944, -0.43078564649908485, -0.49492595688581936, 0.2545270602813088, -0.4431561589836867, -0.39180626731219054, -0.018846079054889647, -0.14999672373339726, -0.4431556574553437, -0.039766225917752675, 0.02513392399901699, 0.1566809147623073, 0.27685496373171964, 0.15668161752985993, -0.39916447647790787, 0.21084338273185704, -0.4320682089605058, -0.4648054415127059, 0.2622145252127809, -0.4431650282830467, 0.31723961962992553, 0.3215780310934348, 0.2768706334854029, -0.20092513314494947, -0.16192883222460733, 0.02512205847732827, 0.27717078849052346, -0.4457833493465327, -0.4431550104504416, -0.019069031618358066, -0.39915934391713825, 0.12648712342486504, 0.02514964548353311, 0.15668222155699976, -0.16192768931612345, 0.1566599338268248, -0.0188501072868366, -0.44319643142234166, -0.44315524145988205, -0.16929034029258913, 0.025149523726947898, 0.1550501266387682, 0.181117606506653, -0.0794909695887658, 0.08242986505561793, -0.2578577920454769, 0.3216687731451984, 0.2865048995695389, -0.4431647478204659, 0.32156217897140926, -0.018734516397152755, 0.2545362700731751, 0.1803578693651454, -0.2349686606081673, 21.219252673408985, 13.149899428937553, -0.018849207913545905, -0.019665047831902028, 0.025126291149581644, -0.2431900550384459, -1.618893901646046, -0.39915850851942786, -0.47283709361715076, -0.21329348932877404, -0.05972831185771094, 0.2765235633356616, 0.3215790573549316, -0.018848286014786005, 0.334335036239191, -0.43079425086150563, -0.4431552073189896, -0.443155310797193, 0.2809904783350567, -0.21331083626468506, 0.3250823271978481, -0.03200381210464572, -0.11301196440619934, -0.4431565512424388, 0.27905150316151317, 0.025150981050069958, -0.3918049801053532, -0.11301166212418719, 0.32157785008286055, -0.03931794622754376, -0.4434136582004651, -0.0064847565579191895, 0.25744141749318133, -0.37394258067080377, 0.25273004085397904, -0.21328806912557038, 0.3250976404508248, 0.3215464151503561, 0.3528211268204542, 0.3121806727807665, -0.44358263388514424, -0.21328940308514943, 0.322710869697037, -0.613349495454707, 0.32158472476587335, -0.44315931406923154, -0.26427902312844354, -0.2351316846958753, -0.16196284745906198, -0.039393655541930486, 0.0350718240554395, 0.15512325274679936, 0.36575407865967624, 0.025149590032648633, -0.26918750639456335, -0.1619290025172, -0.39179609163521556, -0.21419400485420467, -0.24395970764241184, -0.16192723177634336, -0.018848376724018862, -0.44315552958350085, 0.2771254408988451, 0.23725725710862863, -0.04853713301448179, 0.3440855391629516, -0.16929199149578283, -0.3991595139628672, -0.2132998256116355, -0.11301866708923555, 0.15507463676629654, -0.38758559983268687, -0.16928926463106997, 0.02514937540007861, -0.4431479146556399, -0.1605431424649254, 0.15512440427033936, 16.68589062801581, 0.28063508279511123, -0.24296855429247474, 0.32509377011307805, 0.15505005617102716, -0.4220687331517307, -0.16908608029905972, 0.32116658961084804, -0.3917983690604097, 0.28375359020097357, 0.28375805085874634, 0.08654799119249505, 0.2973992548477243, -0.018846842978370505, -0.44315600989663884, 0.28097969893879204, -0.3917966918612562, 0.2809920342559116, -0.1619286533656288, -0.44680979559058115, 0.1032054568309991, -0.16929031403300276, -0.4431593264989333, -0.4728583891222919, -0.6136078794643129, -0.39917957366589935, 0.15504815093901028, -0.04048857469083491, 0.1550429450455815, -0.39915852203743835, 0.2108781132143256, -0.44485459385243525, -0.018899254620089182, -0.39915432709531495, 0.15651350978987127, -0.4431657594831837, 0.2833834158442111, -0.4431577281372235, -0.03939002780572838, -0.44315494241812925, -0.39917890208940926, -0.01883853176405725, -0.4437075960703292, -0.2690451320663779, -0.3991518931256209, 0.15504898689874314, -0.4431551536378506, -0.021184210729282928, -0.4431717729200861, 0.0691416562006941, -0.399165988548349, -0.44315388647106374, -0.1130079332497482, -0.018847414807640437, -0.01885616117953022, -0.12450513028700255, -0.2692616378558366, 0.2108596694481809, -0.21370679493308847, -0.4431681985743145, -0.2676278124900929, 0.2622441856109197, -0.464796330763638, 0.33518988572116, 0.2108788930229329, 0.2768688297723606, 0.21088009533982485, -0.039377682480865005, 10.704140731118772, -0.11300784910952136, 0.183774831318189, -0.18209105939604672, 0.1363214733722457, -0.44316831124394684, 0.3215149944564203, 0.2809923545962356, -0.21328718145113695]}],                        {\"coloraxis\": {\"colorbar\": {\"title\": {\"text\": \"class\"}}, \"colorscale\": [[0.0, \"#0d0887\"], [0.1111111111111111, \"#46039f\"], [0.2222222222222222, \"#7201a8\"], [0.3333333333333333, \"#9c179e\"], [0.4444444444444444, \"#bd3786\"], [0.5555555555555556, \"#d8576b\"], [0.6666666666666666, \"#ed7953\"], [0.7777777777777778, \"#fb9f3a\"], [0.8888888888888888, \"#fdca26\"], [1.0, \"#f0f921\"]]}, \"legend\": {\"tracegroupgap\": 0}, \"margin\": {\"t\": 60}, \"scene\": {\"domain\": {\"x\": [0.0, 1.0], \"y\": [0.0, 1.0]}, \"xaxis\": {\"title\": {\"text\": \"PC 1\"}}, \"yaxis\": {\"title\": {\"text\": \"PC 2\"}}, \"zaxis\": {\"title\": {\"text\": \"PC 3\"}}}, \"template\": {\"data\": {\"bar\": [{\"error_x\": {\"color\": \"#2a3f5f\"}, \"error_y\": {\"color\": \"#2a3f5f\"}, \"marker\": {\"line\": {\"color\": \"#E5ECF6\", \"width\": 0.5}}, \"type\": \"bar\"}], \"barpolar\": [{\"marker\": {\"line\": {\"color\": \"#E5ECF6\", \"width\": 0.5}}, \"type\": \"barpolar\"}], \"carpet\": [{\"aaxis\": {\"endlinecolor\": \"#2a3f5f\", \"gridcolor\": \"white\", \"linecolor\": \"white\", \"minorgridcolor\": \"white\", \"startlinecolor\": \"#2a3f5f\"}, \"baxis\": {\"endlinecolor\": \"#2a3f5f\", \"gridcolor\": \"white\", \"linecolor\": \"white\", \"minorgridcolor\": \"white\", \"startlinecolor\": \"#2a3f5f\"}, \"type\": \"carpet\"}], \"choropleth\": [{\"colorbar\": {\"outlinewidth\": 0, \"ticks\": \"\"}, \"type\": \"choropleth\"}], \"contour\": [{\"colorbar\": {\"outlinewidth\": 0, \"ticks\": \"\"}, \"colorscale\": [[0.0, \"#0d0887\"], [0.1111111111111111, \"#46039f\"], [0.2222222222222222, \"#7201a8\"], [0.3333333333333333, \"#9c179e\"], [0.4444444444444444, \"#bd3786\"], [0.5555555555555556, \"#d8576b\"], [0.6666666666666666, \"#ed7953\"], [0.7777777777777778, \"#fb9f3a\"], [0.8888888888888888, \"#fdca26\"], [1.0, \"#f0f921\"]], \"type\": \"contour\"}], \"contourcarpet\": [{\"colorbar\": {\"outlinewidth\": 0, \"ticks\": \"\"}, \"type\": \"contourcarpet\"}], \"heatmap\": [{\"colorbar\": {\"outlinewidth\": 0, \"ticks\": \"\"}, \"colorscale\": [[0.0, \"#0d0887\"], [0.1111111111111111, \"#46039f\"], [0.2222222222222222, \"#7201a8\"], [0.3333333333333333, \"#9c179e\"], [0.4444444444444444, \"#bd3786\"], [0.5555555555555556, \"#d8576b\"], [0.6666666666666666, \"#ed7953\"], [0.7777777777777778, \"#fb9f3a\"], [0.8888888888888888, \"#fdca26\"], [1.0, \"#f0f921\"]], \"type\": \"heatmap\"}], \"heatmapgl\": [{\"colorbar\": {\"outlinewidth\": 0, \"ticks\": \"\"}, \"colorscale\": [[0.0, \"#0d0887\"], [0.1111111111111111, \"#46039f\"], [0.2222222222222222, \"#7201a8\"], [0.3333333333333333, \"#9c179e\"], [0.4444444444444444, \"#bd3786\"], [0.5555555555555556, \"#d8576b\"], [0.6666666666666666, \"#ed7953\"], [0.7777777777777778, \"#fb9f3a\"], [0.8888888888888888, \"#fdca26\"], [1.0, \"#f0f921\"]], \"type\": \"heatmapgl\"}], \"histogram\": [{\"marker\": {\"colorbar\": {\"outlinewidth\": 0, \"ticks\": \"\"}}, \"type\": \"histogram\"}], \"histogram2d\": [{\"colorbar\": {\"outlinewidth\": 0, \"ticks\": \"\"}, \"colorscale\": [[0.0, \"#0d0887\"], [0.1111111111111111, \"#46039f\"], [0.2222222222222222, \"#7201a8\"], [0.3333333333333333, \"#9c179e\"], [0.4444444444444444, \"#bd3786\"], [0.5555555555555556, \"#d8576b\"], [0.6666666666666666, \"#ed7953\"], [0.7777777777777778, \"#fb9f3a\"], [0.8888888888888888, \"#fdca26\"], [1.0, \"#f0f921\"]], \"type\": \"histogram2d\"}], \"histogram2dcontour\": [{\"colorbar\": {\"outlinewidth\": 0, \"ticks\": \"\"}, \"colorscale\": [[0.0, \"#0d0887\"], [0.1111111111111111, \"#46039f\"], [0.2222222222222222, \"#7201a8\"], [0.3333333333333333, \"#9c179e\"], [0.4444444444444444, \"#bd3786\"], [0.5555555555555556, \"#d8576b\"], [0.6666666666666666, \"#ed7953\"], [0.7777777777777778, \"#fb9f3a\"], [0.8888888888888888, \"#fdca26\"], [1.0, \"#f0f921\"]], \"type\": \"histogram2dcontour\"}], \"mesh3d\": [{\"colorbar\": {\"outlinewidth\": 0, \"ticks\": \"\"}, \"type\": \"mesh3d\"}], \"parcoords\": [{\"line\": {\"colorbar\": {\"outlinewidth\": 0, \"ticks\": \"\"}}, \"type\": \"parcoords\"}], \"pie\": [{\"automargin\": true, \"type\": \"pie\"}], \"scatter\": [{\"marker\": {\"colorbar\": {\"outlinewidth\": 0, \"ticks\": \"\"}}, \"type\": \"scatter\"}], \"scatter3d\": [{\"line\": {\"colorbar\": {\"outlinewidth\": 0, \"ticks\": \"\"}}, \"marker\": {\"colorbar\": {\"outlinewidth\": 0, \"ticks\": \"\"}}, \"type\": \"scatter3d\"}], \"scattercarpet\": [{\"marker\": {\"colorbar\": {\"outlinewidth\": 0, \"ticks\": \"\"}}, \"type\": \"scattercarpet\"}], \"scattergeo\": [{\"marker\": {\"colorbar\": {\"outlinewidth\": 0, \"ticks\": \"\"}}, \"type\": \"scattergeo\"}], \"scattergl\": [{\"marker\": {\"colorbar\": {\"outlinewidth\": 0, \"ticks\": \"\"}}, \"type\": \"scattergl\"}], \"scattermapbox\": [{\"marker\": {\"colorbar\": {\"outlinewidth\": 0, \"ticks\": \"\"}}, \"type\": \"scattermapbox\"}], \"scatterpolar\": [{\"marker\": {\"colorbar\": {\"outlinewidth\": 0, \"ticks\": \"\"}}, \"type\": \"scatterpolar\"}], \"scatterpolargl\": [{\"marker\": {\"colorbar\": {\"outlinewidth\": 0, \"ticks\": \"\"}}, \"type\": \"scatterpolargl\"}], \"scatterternary\": [{\"marker\": {\"colorbar\": {\"outlinewidth\": 0, \"ticks\": \"\"}}, \"type\": \"scatterternary\"}], \"surface\": [{\"colorbar\": {\"outlinewidth\": 0, \"ticks\": \"\"}, \"colorscale\": [[0.0, \"#0d0887\"], [0.1111111111111111, \"#46039f\"], [0.2222222222222222, \"#7201a8\"], [0.3333333333333333, \"#9c179e\"], [0.4444444444444444, \"#bd3786\"], [0.5555555555555556, \"#d8576b\"], [0.6666666666666666, \"#ed7953\"], [0.7777777777777778, \"#fb9f3a\"], [0.8888888888888888, \"#fdca26\"], [1.0, \"#f0f921\"]], \"type\": \"surface\"}], \"table\": [{\"cells\": {\"fill\": {\"color\": \"#EBF0F8\"}, \"line\": {\"color\": \"white\"}}, \"header\": {\"fill\": {\"color\": \"#C8D4E3\"}, \"line\": {\"color\": \"white\"}}, \"type\": \"table\"}]}, \"layout\": {\"annotationdefaults\": {\"arrowcolor\": \"#2a3f5f\", \"arrowhead\": 0, \"arrowwidth\": 1}, \"coloraxis\": {\"colorbar\": {\"outlinewidth\": 0, \"ticks\": \"\"}}, \"colorscale\": {\"diverging\": [[0, \"#8e0152\"], [0.1, \"#c51b7d\"], [0.2, \"#de77ae\"], [0.3, \"#f1b6da\"], [0.4, \"#fde0ef\"], [0.5, \"#f7f7f7\"], [0.6, \"#e6f5d0\"], [0.7, \"#b8e186\"], [0.8, \"#7fbc41\"], [0.9, \"#4d9221\"], [1, \"#276419\"]], \"sequential\": [[0.0, \"#0d0887\"], [0.1111111111111111, \"#46039f\"], [0.2222222222222222, \"#7201a8\"], [0.3333333333333333, \"#9c179e\"], [0.4444444444444444, \"#bd3786\"], [0.5555555555555556, \"#d8576b\"], [0.6666666666666666, \"#ed7953\"], [0.7777777777777778, \"#fb9f3a\"], [0.8888888888888888, \"#fdca26\"], [1.0, \"#f0f921\"]], \"sequentialminus\": [[0.0, \"#0d0887\"], [0.1111111111111111, \"#46039f\"], [0.2222222222222222, \"#7201a8\"], [0.3333333333333333, \"#9c179e\"], [0.4444444444444444, \"#bd3786\"], [0.5555555555555556, \"#d8576b\"], [0.6666666666666666, \"#ed7953\"], [0.7777777777777778, \"#fb9f3a\"], [0.8888888888888888, \"#fdca26\"], [1.0, \"#f0f921\"]]}, \"colorway\": [\"#636efa\", \"#EF553B\", \"#00cc96\", \"#ab63fa\", \"#FFA15A\", \"#19d3f3\", \"#FF6692\", \"#B6E880\", \"#FF97FF\", \"#FECB52\"], \"font\": {\"color\": \"#2a3f5f\"}, \"geo\": {\"bgcolor\": \"white\", \"lakecolor\": \"white\", \"landcolor\": \"#E5ECF6\", \"showlakes\": true, \"showland\": true, \"subunitcolor\": \"white\"}, \"hoverlabel\": {\"align\": \"left\"}, \"hovermode\": \"closest\", \"mapbox\": {\"style\": \"light\"}, \"paper_bgcolor\": \"white\", \"plot_bgcolor\": \"#E5ECF6\", \"polar\": {\"angularaxis\": {\"gridcolor\": \"white\", \"linecolor\": \"white\", \"ticks\": \"\"}, \"bgcolor\": \"#E5ECF6\", \"radialaxis\": {\"gridcolor\": \"white\", \"linecolor\": \"white\", \"ticks\": \"\"}}, \"scene\": {\"xaxis\": {\"backgroundcolor\": \"#E5ECF6\", \"gridcolor\": \"white\", \"gridwidth\": 2, \"linecolor\": \"white\", \"showbackground\": true, \"ticks\": \"\", \"zerolinecolor\": \"white\"}, \"yaxis\": {\"backgroundcolor\": \"#E5ECF6\", \"gridcolor\": \"white\", \"gridwidth\": 2, \"linecolor\": \"white\", \"showbackground\": true, \"ticks\": \"\", \"zerolinecolor\": \"white\"}, \"zaxis\": {\"backgroundcolor\": \"#E5ECF6\", \"gridcolor\": \"white\", \"gridwidth\": 2, \"linecolor\": \"white\", \"showbackground\": true, \"ticks\": \"\", \"zerolinecolor\": \"white\"}}, \"shapedefaults\": {\"line\": {\"color\": \"#2a3f5f\"}}, \"ternary\": {\"aaxis\": {\"gridcolor\": \"white\", \"linecolor\": \"white\", \"ticks\": \"\"}, \"baxis\": {\"gridcolor\": \"white\", \"linecolor\": \"white\", \"ticks\": \"\"}, \"bgcolor\": \"#E5ECF6\", \"caxis\": {\"gridcolor\": \"white\", \"linecolor\": \"white\", \"ticks\": \"\"}}, \"title\": {\"x\": 0.05}, \"xaxis\": {\"automargin\": true, \"gridcolor\": \"white\", \"linecolor\": \"white\", \"ticks\": \"\", \"title\": {\"standoff\": 15}, \"zerolinecolor\": \"white\", \"zerolinewidth\": 2}, \"yaxis\": {\"automargin\": true, \"gridcolor\": \"white\", \"linecolor\": \"white\", \"ticks\": \"\", \"title\": {\"standoff\": 15}, \"zerolinecolor\": \"white\", \"zerolinewidth\": 2}}}},                        {\"responsive\": true}                    ).then(function(){\n",
       "                            \n",
       "var gd = document.getElementById('bee3a6c5-09e8-40c0-88ea-df097c1de917');\n",
       "var x = new MutationObserver(function (mutations, observer) {{\n",
       "        var display = window.getComputedStyle(gd).display;\n",
       "        if (!display || display === 'none') {{\n",
       "            console.log([gd, 'removed!']);\n",
       "            Plotly.purge(gd);\n",
       "            observer.disconnect();\n",
       "        }}\n",
       "}});\n",
       "\n",
       "// Listen for the removal of the full notebook cells\n",
       "var notebookContainer = gd.closest('#notebook-container');\n",
       "if (notebookContainer) {{\n",
       "    x.observe(notebookContainer, {childList: true});\n",
       "}}\n",
       "\n",
       "// Listen for the clearing of the current output cell\n",
       "var outputEl = gd.closest('.output');\n",
       "if (outputEl) {{\n",
       "    x.observe(outputEl, {childList: true});\n",
       "}}\n",
       "\n",
       "                        })                };                });            </script>        </div>"
      ]
     },
     "metadata": {},
     "output_type": "display_data"
    }
   ],
   "source": [
    "# Creating a 3D-Scatter with the PCA data and the clusters\n",
    "px.scatter_3d(\n",
    "    clustered_df,\n",
    "    x=\"PC 1\",\n",
    "    y=\"PC 2\",\n",
    "    z=\"PC 3\",\n",
    "    color = 'class',\n",
    "    hover_name=\"CoinName\",\n",
    "    hover_data=[\"Algorithm\"]\n",
    ")"
   ]
  },
  {
   "cell_type": "markdown",
   "metadata": {},
   "source": [
    "#### Table of Tradable Cryptocurrencies"
   ]
  },
  {
   "cell_type": "code",
   "execution_count": 221,
   "metadata": {},
   "outputs": [
    {
     "data": {
      "application/vnd.holoviews_exec.v0+json": "",
      "text/html": [
       "<div id='2695'>\n",
       "\n",
       "\n",
       "\n",
       "\n",
       "\n",
       "  <div class=\"bk-root\" id=\"81eb5ac5-9808-47b1-9a36-bed31058b936\" data-root-id=\"2695\"></div>\n",
       "</div>\n",
       "<script type=\"application/javascript\">(function(root) {\n",
       "  function embed_document(root) {\n",
       "    var docs_json = {\"a6dcf5c8-510b-4da5-bb89-9d0fd809ded6\":{\"roots\":{\"references\":[{\"attributes\":{\"margin\":[5,5,5,5],\"name\":\"HSpacer04593\",\"sizing_mode\":\"stretch_width\"},\"id\":\"2696\",\"type\":\"Spacer\"},{\"attributes\":{\"data\":{\"Algorithm\":[\"Scrypt\",\"Scrypt\",\"X13\",\"SHA-256\",\"Ethash\",\"Scrypt\",\"X11\",\"CryptoNight-V7\",\"Ethash\",\"Equihash\",\"SHA-512\",\"Multiple\",\"SHA-256\",\"SHA-256\",\"Scrypt\",\"X15\",\"X11\",\"Scrypt\",\"Scrypt\",\"Scrypt\",\"Multiple\",\"Scrypt\",\"SHA-256\",\"Scrypt\",\"Scrypt\",\"Scrypt\",\"Quark\",\"Groestl\",\"Scrypt\",\"Scrypt\",\"Scrypt\",\"Scrypt\",\"Scrypt\",\"X11\",\"Scrypt\",\"Groestl\",\"Multiple\",\"SHA-256\",\"Scrypt\",\"Scrypt\",\"Scrypt\",\"Scrypt\",\"PoS\",\"Scrypt\",\"Scrypt\",\"NeoScrypt\",\"Scrypt\",\"Scrypt\",\"Scrypt\",\"Scrypt\",\"X11\",\"Scrypt\",\"X11\",\"SHA-256\",\"Scrypt\",\"Scrypt\",\"Scrypt\",\"SHA3\",\"Scrypt\",\"HybridScryptHash256\",\"Scrypt\",\"Scrypt\",\"SHA-256\",\"Scrypt\",\"X13\",\"Scrypt\",\"SHA-256\",\"Scrypt\",\"X13\",\"NeoScrypt\",\"Scrypt\",\"Scrypt\",\"Scrypt\",\"Scrypt\",\"Scrypt\",\"Scrypt\",\"X11\",\"X11\",\"SHA-256\",\"Multiple\",\"SHA-256\",\"PHI1612\",\"X11\",\"SHA-256\",\"SHA-256\",\"SHA-256\",\"X11\",\"Scrypt\",\"Scrypt\",\"Scrypt\",\"Scrypt\",\"Lyra2REv2\",\"Scrypt\",\"X11\",\"Multiple\",\"SHA-256\",\"X13\",\"Scrypt\",\"CryptoNight\",\"CryptoNight\",\"Shabal256\",\"Counterparty\",\"Scrypt\",\"SHA-256\",\"Groestl\",\"Scrypt\",\"Scrypt\",\"Scrypt\",\"X13\",\"Scrypt\",\"Scrypt\",\"Scrypt\",\"Scrypt\",\"X13\",\"Scrypt\",\"Stanford Folding\",\"X11\",\"Multiple\",\"QuBit\",\"Scrypt\",\"Scrypt\",\"Scrypt\",\"M7 POW\",\"Scrypt\",\"SHA-256\",\"Scrypt\",\"X11\",\"SHA3\",\"X11\",\"Lyra2RE\",\"SHA-256\",\"QUAIT\",\"X11\",\"X11\",\"Scrypt\",\"Scrypt\",\"Scrypt\",\"Ethash\",\"X13\",\"Blake2b\",\"SHA-256\",\"X15\",\"X11\",\"SHA-256\",\"BLAKE256\",\"Scrypt\",\"1GB AES Pattern Search\",\"SHA-256\",\"X11\",\"Scrypt\",\"SHA-256\",\"SHA-256\",\"NIST5\",\"Scrypt\",\"Scrypt\",\"X11\",\"Dagger\",\"Scrypt\",\"X11GOST\",\"X11\",\"Scrypt\",\"SHA-256\",\"Scrypt\",\"PoS\",\"Scrypt\",\"X11\",\"X11\",\"SHA-256\",\"SHA-256\",\"NIST5\",\"X11\",\"Scrypt\",\"POS 3.0\",\"Scrypt\",\"Scrypt\",\"Scrypt\",\"X13\",\"X11\",\"X11\",\"Equihash\",\"X11\",\"Scrypt\",\"CryptoNight\",\"SHA-256\",\"SHA-256\",\"X11\",\"Scrypt\",\"Multiple\",\"Scrypt\",\"Scrypt\",\"Scrypt\",\"SHA-256\",\"Scrypt\",\"Scrypt\",\"SHA-256D\",\"PoS\",\"Scrypt\",\"X11\",\"Lyra2Z\",\"PoS\",\"X13\",\"X14\",\"PoS\",\"SHA-256D\",\"Ethash\",\"Equihash\",\"DPoS\",\"X11\",\"Scrypt\",\"X11\",\"X13\",\"X11\",\"PoS\",\"Scrypt\",\"Scrypt\",\"X11\",\"PoS\",\"X11\",\"SHA-256\",\"Scrypt\",\"X11\",\"Scrypt\",\"Scrypt\",\"X11\",\"CryptoNight\",\"Scrypt\",\"Scrypt\",\"Scrypt\",\"Scrypt\",\"Quark\",\"QuBit\",\"Scrypt\",\"CryptoNight\",\"Lyra2RE\",\"Scrypt\",\"SHA-256\",\"X11\",\"Scrypt\",\"X11\",\"Scrypt\",\"CryptoNight-V7\",\"Scrypt\",\"Scrypt\",\"Scrypt\",\"X13\",\"X11\",\"Equihash\",\"Scrypt\",\"Scrypt\",\"Lyra2RE\",\"Scrypt\",\"Dagger-Hashimoto\",\"X11\",\"Blake2S\",\"X11\",\"Scrypt\",\"PoS\",\"X11\",\"NIST5\",\"PoS\",\"X11\",\"Scrypt\",\"Scrypt\",\"Scrypt\",\"SHA-256\",\"X11\",\"Scrypt\",\"Scrypt\",\"SHA-256\",\"PoS\",\"Scrypt\",\"X15\",\"SHA-256\",\"Scrypt\",\"POS 3.0\",\"CryptoNight-V7\",\"536\",\"Argon2d\",\"Blake2b\",\"Cloverhash\",\"CryptoNight\",\"NIST5\",\"X11\",\"NIST5\",\"Skein\",\"Scrypt\",\"X13\",\"Scrypt\",\"X11\",\"X11\",\"Scrypt\",\"CryptoNight\",\"X13\",\"Time Travel\",\"Scrypt\",\"Keccak\",\"SkunkHash v2 Raptor\",\"X11\",\"Skein\",\"SHA-256\",\"X11\",\"Scrypt\",\"VeChainThor Authority\",\"Scrypt\",\"PoS\",\"Scrypt\",\"Scrypt\",\"Scrypt\",\"Scrypt\",\"Scrypt\",\"Scrypt\",\"Scrypt\",\"CryptoNight\",\"SHA-512\",\"Ouroboros\",\"X11\",\"Equihash\",\"NeoScrypt\",\"X11\",\"Scrypt\",\"NeoScrypt\",\"Lyra2REv2\",\"Equihash\",\"Scrypt\",\"SHA-256\",\"NIST5\",\"PHI1612\",\"Dagger\",\"Scrypt\",\"Quark\",\"Scrypt\",\"POS 2.0\",\"Scrypt\",\"SHA-256\",\"X11\",\"NeoScrypt\",\"Ethash\",\"NeoScrypt\",\"X11\",\"DPoS\",\"NIST5\",\"X13\",\"Multiple\",\"Scrypt\",\"CryptoNight\",\"CryptoNight\",\"Ethash\",\"NIST5\",\"Quark\",\"X11\",\"CryptoNight-V7\",\"Scrypt\",\"Scrypt\",\"Scrypt\",\"X11\",\"BLAKE256\",\"X11\",\"NeoScrypt\",\"Quark\",\"NeoScrypt\",\"Scrypt\",\"Scrypt\",\"Scrypt\",\"X11\",\"X11\",\"SHA-256\",\"C11\",\"POS 3.0\",\"Ethash\",\"Scrypt\",\"CryptoNight\",\"SkunkHash\",\"Scrypt\",\"CryptoNight\",\"Scrypt\",\"Dagger\",\"Lyra2REv2\",\"X13\",\"Proof-of-BibleHash\",\"SHA-256 + Hive\",\"Scrypt\",\"Scrypt\",\"X11\",\"C11\",\"Proof-of-Authority\",\"X11\",\"XEVAN\",\"Scrypt\",\"VBFT\",\"Ethash\",\"CryptoNight\",\"Scrypt\",\"IMesh\",\"NIST5\",\"Scrypt\",\"Scrypt\",\"Equihash\",\"Scrypt\",\"Lyra2Z\",\"Green Protocol\",\"PoS\",\"Scrypt\",\"Semux BFT consensus\",\"X11\",\"Quark\",\"PoS\",\"CryptoNight\",\"X16R\",\"Scrypt\",\"NIST5\",\"Lyra2RE\",\"XEVAN\",\"Tribus\",\"Scrypt\",\"Lyra2Z\",\"CryptoNight\",\"CryptoNight Heavy\",\"CryptoNight\",\"Scrypt\",\"Scrypt\",\"Jump Consistent Hash\",\"SHA-256D\",\"CryptoNight\",\"Scrypt\",\"X15\",\"Scrypt\",\"Quark\",\"SHA-256\",\"DPoS\",\"X16R\",\"HMQ1725\",\"X11\",\"X16R\",\"Quark\",\"Quark\",\"Scrypt\",\"Lyra2REv2\",\"Quark\",\"Scrypt\",\"Scrypt\",\"CryptoNight-V7\",\"Cryptonight-GPU\",\"XEVAN\",\"CryptoNight Heavy\",\"X11\",\"X11\",\"Scrypt\",\"PoS\",\"SHA-256\",\"Keccak\",\"X11\",\"X11\",\"Scrypt\",\"SHA-512\",\"X16R\",\"ECC 256K1\",\"Equihash\",\"XEVAN\",\"Lyra2Z\",\"SHA-256\",\"XEVAN\",\"X11\",\"CryptoNight\",\"Quark\",\"Blake\",\"Blake\",\"Equihash\",\"Exosis\",\"Scrypt\",\"Scrypt\",\"Equihash\",\"Quark\",\"Equihash\",\"Quark\",\"Scrypt\",\"QuBit\",\"X11\",\"Scrypt\",\"XEVAN\",\"SHA-256D\",\"X11\",\"SHA-256\",\"X13\",\"SHA-256\",\"X11\",\"DPoS\",\"Scrypt\",\"Scrypt\",\"X11\",\"NeoScrypt\",\"Scrypt\",\"Blake\",\"Scrypt\",\"SHA-256\",\"Scrypt\",\"X11\",\"Scrypt\",\"Scrypt\",\"SHA-256\",\"X11\",\"SHA-256\",\"Scrypt\",\"Scrypt\",\"Scrypt\",\"Groestl\",\"X11\",\"Scrypt\",\"PoS\",\"Scrypt\",\"Scrypt\",\"X11\",\"SHA-256\",\"DPoS\",\"Scrypt\",\"Scrypt\",\"NeoScrypt\",\"Multiple\",\"X13\",\"Equihash+Scrypt\",\"DPoS\",\"Ethash\",\"DPoS\",\"SHA-256\",\"Leased POS\",\"PoS\",\"TRC10\",\"PoS\",\"SHA-256\",\"Scrypt\",\"CryptoNight\",\"Equihash\",\"Scrypt\"],\"CoinName\":[\"42 Coin\",\"404Coin\",\"EliteCoin\",\"Bitcoin\",\"Ethereum\",\"Litecoin\",\"Dash\",\"Monero\",\"Ethereum Classic\",\"ZCash\",\"Bitshares\",\"DigiByte\",\"BitcoinDark\",\"PayCoin\",\"ProsperCoin\",\"KoboCoin\",\"Spreadcoin\",\"Argentum\",\"Aurora Coin\",\"BlueCoin\",\"MyriadCoin\",\"MoonCoin\",\"ZetaCoin\",\"SexCoin\",\"Quatloo\",\"EnergyCoin\",\"QuarkCoin\",\"Riecoin\",\"Digitalcoin \",\"BitBar\",\"Catcoin\",\"CryptoBullion\",\"CannaCoin\",\"CryptCoin\",\"CasinoCoin\",\"Diamond\",\"Verge\",\"DevCoin\",\"EarthCoin\",\"E-Gulden\",\"Einsteinium\",\"Emerald\",\"Exclusive Coin\",\"FlutterCoin\",\"Franko\",\"FeatherCoin\",\"GrandCoin\",\"GlobalCoin\",\"GoldCoin\",\"HoboNickels\",\"HyperStake\",\"Infinite Coin\",\"IOCoin\",\"IXcoin\",\"KrugerCoin\",\"LuckyCoin\",\"Litebar \",\"MaxCoin\",\"MegaCoin\",\"MediterraneanCoin\",\"MintCoin\",\"MinCoin\",\"MazaCoin\",\"Nautilus Coin\",\"NavCoin\",\"NobleCoin\",\"Namecoin\",\"NyanCoin\",\"OpalCoin\",\"Orbitcoin\",\"PotCoin\",\"PhoenixCoin\",\"Reddcoin\",\"RonPaulCoin\",\"StableCoin\",\"SmartCoin\",\"SuperCoin\",\"SyncCoin\",\"SysCoin\",\"TeslaCoin\",\"TigerCoin\",\"TittieCoin\",\"TorCoin\",\"TerraCoin\",\"UnbreakableCoin\",\"Unobtanium\",\"UroCoin\",\"UnitaryStatus Dollar\",\"UltraCoin\",\"ViaCoin\",\"VeriCoin\",\"Vertcoin\",\"WorldCoin\",\"X11 Coin\",\"Crypti\",\"JouleCoin\",\"StealthCoin\",\"ZCC Coin\",\"ByteCoin\",\"DigitalNote \",\"BurstCoin\",\"StorjCoin\",\"MonaCoin\",\"Neutron\",\"FairCoin\",\"Gulden\",\"RubyCoin\",\"PesetaCoin\",\"Kore\",\"Wild Beast Coin\",\"Dnotes\",\"Flo\",\"8BIT Coin\",\"Sativa Coin\",\"ArtByte\",\"Folding Coin\",\"Ucoin\",\"Unitus\",\"CypherPunkCoin\",\"OmniCron\",\"Vtorrent\",\"GreenCoin\",\"Cryptonite\",\"MasterCoin\",\"SoonCoin\",\"1Credit\",\"IslaCoin\",\"Nexus\",\"MarsCoin \",\"Crypto\",\"Anarchists Prime\",\"Droidz\",\"BowsCoin\",\"Squall Coin\",\"Song Coin\",\"BitZeny\",\"Diggits\",\"Expanse\",\"Paycon\",\"Siacoin\",\"Emercoin\",\"EverGreenCoin\",\"MindCoin\",\"I0coin\",\"Decred\",\"Revolution VR\",\"HOdlcoin\",\"EDRCoin\",\"Hitcoin\",\"Gamecredits\",\"DubaiCoin\",\"CarpeDiemCoin\",\"PWR Coin\",\"BillaryCoin\",\"GPU Coin\",\"Adzcoin\",\"SoilCoin\",\"YoCoin\",\"SibCoin\",\"EuropeCoin\",\"ZeitCoin\",\"SwingCoin\",\"SafeExchangeCoin\",\"Nebuchadnezzar\",\"Francs\",\"BolivarCoin\",\"Ratecoin\",\"Revenu\",\"Clockcoin\",\"VIP Tokens\",\"BitSend\",\"Omni\",\"Let it Ride\",\"PutinCoin\",\"iBankCoin\",\"Frankywillcoin\",\"MudraCoin\",\"PizzaCoin\",\"Lutetium Coin\",\"Komodo\",\"GoldBlocks\",\"CarterCoin\",\"Karbo\",\"BitTokens\",\"ZayedCoin\",\"MustangCoin\",\"ZoneCoin\",\"Circuits of Value\",\"RootCoin\",\"DopeCoin\",\"BitCurrency\",\"DollarCoin\",\"Swiscoin\",\"Shilling\",\"BuzzCoin\",\"Opair\",\"PesoBit\",\"Halloween Coin\",\"ZCoin\",\"CoffeeCoin\",\"RoyalCoin\",\"GanjaCoin V2\",\"TeamUP\",\"LanaCoin\",\"Elementrem\",\"ZClassic\",\"ARK\",\"InsaneCoin\",\"KiloCoin\",\"ArtexCoin\",\"EmberCoin\",\"XenixCoin\",\"FreeCoin\",\"PLNCoin\",\"AquariusCoin\",\"Kurrent\",\"Creatio\",\"Eternity\",\"Eurocoin\",\"BitcoinFast\",\"Stakenet\",\"BitConnect Coin\",\"MoneyCoin\",\"Enigma\",\"Cannabis Industry Coin\",\"Russiacoin\",\"PandaCoin\",\"GameUnits\",\"GAKHcoin\",\"Allsafe\",\"LiteCreed\",\"OsmiumCoin\",\"Bikercoins\",\"HexxCoin\",\"Klingon Empire Darsek\",\"Internet of People\",\"KushCoin\",\"Printerium\",\"PacCoin\",\"Impeach\",\"Citadel\",\"Zilbercoin\",\"FirstCoin\",\"BeaverCoin\",\"FindCoin\",\"VaultCoin\",\"Zero\",\"OpenChat\",\"Canada eCoin\",\"Zoin\",\"RenosCoin\",\"DubaiCoin\",\"VirtacoinPlus\",\"TajCoin\",\"Impact\",\"EB3coin\",\"Atmos\",\"HappyCoin\",\"Coinonat\",\"MacronCoin\",\"Condensate\",\"Independent Money System\",\"ArgusCoin\",\"LomoCoin\",\"ProCurrency\",\"GoldReserve\",\"BenjiRolls\",\"GrowthCoin\",\"ILCoin\",\"Phreak\",\"Degas Coin\",\"HTML5 Coin\",\"Ultimate Secure Cash\",\"EquiTrader\",\"QTUM\",\"Quantum Resistant Ledger\",\"Espers\",\"Dynamic\",\"Nano\",\"ChanCoin\",\"Dinastycoin\",\"Denarius\",\"DigitalPrice\",\"Virta Unique Coin\",\"Bitcoin Planet\",\"Unify\",\"BritCoin\",\"SocialCoin\",\"ArcticCoin\",\"DAS\",\"Linda\",\"LeviarCoin\",\"DeepOnion\",\"Bitcore\",\"gCn Coin\",\"SmartCash\",\"Signatum\",\"Onix\",\"Cream\",\"Bitcoin Cash\",\"Monoeci\",\"Draftcoin\",\"Vechain\",\"Sojourn Coin\",\"Stakecoin\",\"NewYorkCoin\",\"FrazCoin\",\"Kronecoin\",\"AdCoin\",\"Linx\",\"CoinonatX\",\"Ethereum Dark\",\"Sumokoin\",\"Obsidian\",\"Cardano\",\"Regalcoin\",\"BitcoinZ\",\"TrezarCoin\",\"Elements\",\"TerraNovaCoin\",\"VIVO Coin\",\"Rupee\",\"Bitcoin Gold\",\"WomenCoin\",\"Theresa May Coin\",\"NamoCoin\",\"LUXCoin\",\"Pirl\",\"Xios\",\"Bitcloud 2.0\",\"eBoost\",\"KekCoin\",\"BlackholeCoin\",\"Infinity Economics\",\"Pura\",\"Innova\",\"Ellaism\",\"GoByte\",\"Magnet\",\"Lamden Tau\",\"Electra\",\"Bitcoin Diamond\",\"SHIELD\",\"Cash & Back Coin\",\"UltraNote\",\"BitCoal\",\"DaxxCoin\",\"Bulwark\",\"Kalkulus\",\"AC3\",\"Lethean\",\"GermanCoin\",\"LiteCoin Ultra\",\"PopularCoin\",\"PhantomX\",\"Photon\",\"Sucre\",\"SparksPay\",\"Digiwage\",\"GunCoin\",\"IrishCoin\",\"Trollcoin\",\"Litecoin Plus\",\"Monkey Project\",\"Pioneer Coin\",\"UnitedBitcoin\",\"Interzone\",\"TokenPay\",\"1717 Masonic Commemorative Token\",\"My Big Coin\",\"TurtleCoin\",\"MUNcoin\",\"Unified Society USDEX\",\"Niobio Cash\",\"ShareChain\",\"Travelflex\",\"KREDS\",\"Tokyo Coin\",\"BiblePay\",\"LitecoinCash\",\"BitFlip\",\"LottoCoin\",\"Crypto Improvement Fund\",\"Stipend\",\"Poa Network\",\"Pushi\",\"Ellerium\",\"Velox\",\"Ontology\",\"Callisto Network\",\"BitTube\",\"Poseidon\",\"Aidos Kuneen\",\"Bitspace\",\"Briacoin\",\"Ignition\",\"Bitrolium\",\"MedicCoin\",\"Alpenschillling\",\"Bitcoin Green\",\"Deviant Coin\",\"Abjcoin\",\"Semux\",\"FuturoCoin\",\"Carebit\",\"Zealium\",\"Monero Classic\",\"Proton\",\"iDealCash\",\"Jumpcoin\",\"Infinex\",\"Bitcoin Incognito\",\"KEYCO\",\"HollyWoodCoin\",\"GINcoin\",\"PlatinCoin\",\"Loki\",\"Newton Coin\",\"Swisscoin\",\"Xt3ch\",\"MassGrid\",\"TheVig\",\"PluraCoin\",\"EmaratCoin\",\"Dekado\",\"Lynx\",\"Poseidon Quark\",\"BitcoinWSpectrum\",\"Muse\",\"Motion\",\"PlusOneCoin\",\"Axe\",\"Trivechain\",\"Dystem\",\"Giant\",\"Peony Coin\",\"Absolute Coin\",\"Vitae\",\"HexCoin\",\"TPCash\",\"Webchain\",\"Ryo\",\"Urals Coin\",\"Qwertycoin\",\"ARENON\",\"EUNO\",\"MMOCoin\",\"Ketan\",\"Project Pai\",\"XDNA\",\"PAXEX\",\"Azart\",\"ThunderStake\",\"Kcash\",\"Xchange\",\"Acute Angle Cloud\",\"CrypticCoin\",\"Bettex coin\",\"Actinium\",\"Bitcoin SV\",\"BitMoney\",\"Junson Ming Chan Coin\",\"FREDEnergy\",\"HerbCoin\",\"Universal Molecule\",\"Lithium\",\"PirateCash\",\"Exosis\",\"Block-Logic\",\"Oduwa\",\"Beam\",\"Galilel\",\"Bithereum\",\"Crypto Sports\",\"Credit\",\"SLICE\",\"Dash Platinum\",\"Nasdacoin\",\"Beetle Coin\",\"Titan Coin\",\"Award\",\"BLAST\",\"Bitcoin Rhodium\",\"GlobalToken\",\"Insane Coin\",\"ALAX\",\"LiteDoge\",\"SolarCoin\",\"TruckCoin\",\"UFO Coin\",\"OrangeCoin\",\"BlakeCoin\",\"BitstarCoin\",\"NeosCoin\",\"HyperCoin\",\"PinkCoin\",\"Crypto Escudo\",\"AudioCoin\",\"IncaKoin\",\"Piggy Coin\",\"Crown Coin\",\"Genstake\",\"SmileyCoin\",\"XiaoMiCoin\",\"Groestlcoin\",\"CapriCoin\",\" ClubCoin\",\"Radium\",\"Bata\",\"Pakcoin\",\"Creditbit \",\"OKCash\",\"Lisk\",\"HiCoin\",\"WhiteCoin\",\"FriendshipCoin\",\"JoinCoin\",\"Triangles Coin\",\"Vollar\",\"EOS\",\"Reality Clash\",\"Oxycoin\",\"TigerCash\",\"Waves\",\"Particl\",\"BitTorrent\",\"Nxt\",\"ZEPHYR\",\"Gapcoin\",\"Beldex\",\"Horizen\",\"BitcoinPlus\"],\"ProofType\":[\"PoW/PoS\",\"PoW/PoS\",\"PoW/PoS\",\"PoW\",\"PoW\",\"PoW\",\"PoW/PoS\",\"PoW\",\"PoW\",\"PoW\",\"PoS\",\"PoW\",\"PoW/PoS\",\"PoS\",\"PoW\",\"PoW/PoS\",\"PoW\",\"PoW\",\"PoW/PoS\",\"PoW/PoS\",\"PoW\",\"PoW\",\"PoW\",\"PoW\",\"PoW\",\"PoW/PoS\",\"PoW\",\"PoW\",\"PoW\",\"PoW/PoS\",\"PoW\",\"PoW/PoS\",\"PoW\",\"PoW\",\"PoC\",\"PoW/PoS\",\"PoW\",\"PoW\",\"PoW\",\"PoW\",\"PoW\",\"PoW\",\"PoS\",\"PoS/PoW/PoT\",\"PoW\",\"PoW\",\"PoW\",\"PoW\",\"PoW\",\"PoW/PoS\",\"PoS\",\"PoW\",\"PoW/PoS\",\"PoW\",\"PoW\",\"PoW\",\"PoW\",\"PoW/PoS\",\"PoW\",\"PoW\",\"PoS\",\"PoW\",\"PoW/PoS\",\"PoS\",\"PoW/PoS\",\"PoW\",\"PoW\",\"PoW\",\"PoW/PoS\",\"PoW/PoS\",\"PoW/PoS\",\"PoW/PoS\",\"PoW/PoS\",\"PoW\",\"PoW\",\"PoW\",\"PoS\",\"PoW/PoS\",\"PoW\",\"PoS\",\"PoW\",\"PoS\",\"PoW/PoS\",\"PoW\",\"PoW\",\"PoW\",\"PoW\",\"PoW/PoS\",\"PoW/PoS\",\"PoW\",\"PoST\",\"PoW\",\"PoW\",\"PoW/PoS\",\"PoS\",\"PoW\",\"PoW/PoS\",\"PoW/PoS\",\"PoW\",\"PoW\",\"PoC\",\"PoS\",\"PoW\",\"PoW/PoS\",\"PoW/PoS\",\"PoW\",\"PoS\",\"PoW\",\"PoW/PoS\",\"PoW\",\"PoS\",\"PoW\",\"PoW/PoS\",\"PoW/PoS\",\"PoW\",\"PoW\",\"PoS\",\"PoW\",\"PoW\",\"PoW\",\"PoW/PoS\",\"PoW\",\"PoW\",\"PoW\",\"PoW\",\"PoW\",\"PoW/PoS\",\"PoW/nPoS\",\"PoW\",\"PoW\",\"PoW\",\"PoW/PoS\",\"PoW\",\"PoS/PoW\",\"PoW\",\"PoW\",\"PoS\",\"PoW\",\"PoW/PoS\",\"PoW\",\"PoW/PoS\",\"PoW/PoS\",\"PoW\",\"PoW\",\"PoW/PoS\",\"PoW\",\"PoW\",\"PoW/PoS\",\"PoW/PoS\",\"PoW\",\"PoW/PoS\",\"PoW\",\"PoW/PoS\",\"PoW/PoS\",\"PoS\",\"PoW\",\"PoW\",\"PoW\",\"PoW\",\"PoW/PoS\",\"PoS\",\"PoW/PoS\",\"PoC\",\"PoS\",\"PoW\",\"PoW\",\"PoW/PoS\",\"PoW/PoS\",\"PoW/PoS\",\"PoW/PoS\",\"PoW/PoS\",\"PoW\",\"PoS\",\"PoW/PoS\",\"PoW/PoS\",\"PoW/PoS\",\"PoS\",\"PoW\",\"PoS\",\"dPoW/PoW\",\"PoW/PoS\",\"PoW/PoS\",\"PoW\",\"PoW/PoS\",\"PoW\",\"PoW/PoS\",\"PoW/PoS\",\"PoW\",\"PoW/PoS\",\"PoW\",\"PoS\",\"PoW\",\"PoW/PoW\",\"PoW\",\"PoW/PoS\",\"PoS\",\"PoW/PoS\",\"PoW/PoS\",\"PoW\",\"PoS\",\"PoS\",\"PoW/PoS\",\"PoS\",\"PoW/PoS\",\"PoW\",\"PoW\",\"DPoS\",\"PoW/PoS\",\"PoW\",\"PoW\",\"PoW/PoS\",\"PoW/PoS\",\"PoS\",\"PoW/PoS\",\"PoW/PoS\",\"PoW\",\"PoS\",\"PoW/PoS\",\"PoW/PoS\",\"PoW/PoS\",\"TPoS\",\"PoW/PoS\",\"PoW/PoS\",\"PoW/PoS\",\"PoW\",\"PoW/PoS\",\"PoS\",\"PoW/PoS\",\"PoW/PoS\",\"PoS\",\"PoW/PoS\",\"PoW\",\"PoW\",\"PoW\",\"PoW/PoS\",\"PoW/PoS\",\"PoW/PoS\",\"PoW/PoS\",\"PoW\",\"PoW/PoS\",\"PoW\",\"PoS\",\"PoW/PoS \",\"PoW\",\"PoS\",\"PoW\",\"PoW\",\"PoW/PoS\",\"PoW\",\"PoW\",\"PoS\",\"PoW\",\"PoW/PoS\",\"PoW/PoS\",\"PoW/PoS\",\"PoW\",\"PoS\",\"PoW/PoS\",\"PoW\",\"PoS\",\"PoW/PoS\",\"PoW/PoS\",\"PoW/PoS\",\"PoW/PoS\",\"PoS\",\"PoW/PoS\",\"PoW\",\"PoS\",\"PoW\",\"PoS\",\"PoW/PoS\",\"PoW/PoS\",\"PoS\",\"PoW\",\"PoS\",\"PoW\",\"PoW/PoS\",\"PoW\",\"PoW\",\"PoW\",\"PoW\",\"PoW/PoS\",\"PoW\",\"PoW/PoS\",\"PoW/PoS\",\"PoW\",\"PoW/PoS\",\"PoW\",\"PoW\",\"PoW\",\"PoW/PoS\",\"PoW\",\"PoW/PoS\",\"PoW\",\"PoW\",\"PoW\",\"PoS\",\"PoW\",\"PoW/PoS\",\"PoW\",\"PoW/PoS\",\"PoS\",\"Proof of Authority\",\"PoW\",\"PoS\",\"PoW\",\"PoW\",\"PoW\",\"PoW\",\"PoW\",\"PoW/PoS\",\"PoW/PoS\",\"PoW\",\"PoS\",\"PoS\",\"PoW/PoS\",\"PoW\",\"PoW/PoS\",\"PoW\",\"PoW/PoS\",\"PoW\",\"PoS\",\"PoW\",\"PoW/PoS\",\"PoW/PoS\",\"PoW/PoS\",\"PoW/PoS\",\"PoW\",\"PoW/PoS\",\"PoW/PoS\",\"PoW\",\"PoS\",\"PoW/PoS\",\"PoS\",\"PoW\",\"PoW\",\"PoW\",\"PoW\",\"PoW/PoS\",\"DPoS\",\"PoW/PoS\",\"PoW/PoS\",\"PoW\",\"PoW/PoS\",\"PoW\",\"PoW\",\"PoW\",\"PoS\",\"PoS\",\"PoW\",\"PoW\",\"PoW/PoS\",\"PoW/PoS\",\"PoW\",\"PoW/PoS\",\"PoW\",\"PoW\",\"PoW\",\"PoS\",\"PoW\",\"PoW\",\"PoW/PoS\",\"PoW/PoS\",\"PoS\",\"PoW\",\"PoW\",\"PoW\",\"PoS\",\"PoS\",\"PoW and PoS\",\"PoW\",\"PoW\",\"PoW/PoS\",\"PoW\",\"PoW\",\"PoW\",\"PoW\",\"PoS\",\"POBh\",\"PoW + Hive\",\"PoW\",\"PoW\",\"PoW\",\"PoW/PoS\",\"PoA\",\"PoW/PoS\",\"PoW/PoS\",\"PoS\",\"PoS\",\"PoW\",\"PoW\",\"PoW\",\"PoW\",\"PoW/PoS\",\"PoW/PoS\",\"PoW/PoS\",\"PoW\",\"PoS\",\"PoW\",\"PoS\",\"PoS\",\"PoW/PoS\",\"DPoS\",\"PoW\",\"PoW/PoS\",\"PoS\",\"PoW\",\"PoS\",\"PoW/PoS\",\"PoW\",\"PoW\",\"PoS/PoW\",\"PoW\",\"PoS\",\"PoW\",\"PoW\",\"PoW\",\"PoW\",\"PoW/PoS\",\"PoS\",\"PoW\",\"PoW/PoS\",\"PoW\",\"PoW/PoS\",\"PoS\",\"HPoW\",\"PoS\",\"PoS\",\"PoS\",\"PoW\",\"PoW\",\"PoW\",\"PoW/PoS\",\"PoS\",\"PoW/PoS\",\"PoS\",\"PoW/PoS\",\"PoS\",\"PoW\",\"PoW/PoS\",\"PoW\",\"PoW\",\"PoW\",\"PoW\",\"PoS\",\"PoW/PoS\",\"PoS\",\"PoS\",\"PoW\",\"PoW/PoS\",\"PoS\",\"PoW\",\"PoW/PoS\",\"Zero-Knowledge Proof\",\"PoW\",\"DPOS\",\"PoW\",\"PoS\",\"PoW\",\"PoW\",\"Pos\",\"PoS\",\"PoW\",\"PoW/PoS\",\"PoW\",\"PoW\",\"PoS\",\"PoW\",\"PoW\",\"PoW/PoS\",\"PoW\",\"PoW/PoS\",\"PoW\",\"PoS\",\"PoW/PoS\",\"PoW\",\"PoS\",\"PoW/PoS\",\"PoW/PoS\",\"PoW/PoS\",\"PoW/PoS\",\"PoW\",\"PoW\",\"PoW\",\"PoW/PoS\",\"DPoS\",\"PoW/PoS\",\"PoW\",\"PoW/PoS\",\"PoW\",\"PoW/PoS\",\"PoW\",\"PoW/PoS\",\"PoS\",\"PoW/PoS\",\"PoW/PoS\",\"PoW\",\"PoW/PoS\",\"PoW/PoS\",\"PoW/PoS\",\"PoW\",\"PoW/PoS\",\"PoW\",\"PoW/PoS\",\"PoW\",\"PoW/PoS\",\"PoW/PoS\",\"PoS\",\"PoW\",\"PoW\",\"Proof of Trust\",\"PoW/PoS\",\"DPoS\",\"PoS\",\"PoW/PoS\",\"PoW/PoS\",\"PoW\",\"PoW/PoS\",\"PoW\",\"DPoS\",\"PoW\",\"DPoS\",\"PoS\",\"LPoS\",\"PoS\",\"DPoS\",\"PoS/LPoS\",\"DPoS\",\"PoW/PoS\",\"PoW\",\"PoW\",\"PoS\"],\"TotalCoinSupply\":{\"__ndarray__\":\"AAAAAAAARUAAAAAArbW/QQDAk31WSVJCAAAAAPQGdEEAAAAAAAAAAAAAAAD0BpRBAAAAABj7dEEAAAAAAAAAAAAAAACxCKlBAAAAAPQGdEEAAMAQi9PqQQAAAACxCKlBAAAAABj7dEEAAAAAhNdnQQAAAAD0BnRBAAAAgJPctEEAAAAA0BJzQQAAAACAhI5BAAAAAMn7b0EAAAAAAAAAAAAAAABlzd1BAAAAwAtaVkIAAAAIwD2kQQAAAABlza1BAAAAAICELkEAAAAAAAAAAAAAAIDXca1BAAAAAPQGlEEAAACAo/eGQQAAAACAhB5BAAAAAPQGdEEAAAAAgIQuQQAAAAAEEGlBAAAAAIgqcUEAAAAgX6AiQgAAAABYtVBBAAAABgrWDkIAAAAAsQipQQAAADhNJQlCAAAAAPQGdEEAAABKeN6xQQAAAACAhH5BAAAAAAAAAAAAAAAAAAAAAAAAAKA8bmVBAAAAAPQGtEEAAIATMivVQQAAAAB2sJBBAAAAEIc5kUEAAAAAgIQuQQAAAAAAAAAAAAAASi4YNUIAAAAAGPt0QQAAAAD0BnRBAAAAAACkr0EAAAAA0BJzQQAAAABwmTRBAAAAAICELkEAAAAA9AaEQQAAAACE16dBAAAAAAAAAAAAAAAA0BJjQQAAAABCBuJBAAAAAGTcbkEAAAAAAAAAAAAAAACE15dBAAAAAPQGdEEAAABANha0QQAAAAAAAAAAAAAAAEjDTEEAAAAAsQi5QQAAAAByXZdBAAAAAAAAAAAAAAAA9AZ0QQAAAABlza1BAAAAAABqiEEAAAAAAAAAAAAAAAAAQI9AAAAAAOd2ykEAAAAAgIQuQQAAAADEaoZBAAAA4OYi4UEAAAAA0BJjQQAAAAD0BoRBAAAAANASk0EAAAAAgIQOQQAAAAAAAAAAAAAAANASY0EAAAAAgIQuQQAAAAA873VBAAAAAAAAAAAAAAAA9AaUQQAAAAAApK9BAAAAABj7VEEAAAAAAAAAAAAAAAAqdYVBAAAAAAAAAAAAAAAA0BJjQQCAL+KOeUVCAAAAAITXl0EAAADQmxXgQQAAAABlzb1BAAAAAAQQmUEAAAAAZDaQQQAAAAAAAAAAAAAAALEI2UEAAAAAAAAAAAAAAKCy1aNBAAAAAGDjZkEAAAAA0AxEQQAAAABlzb1BAAAAAICELkEAAAAAAAAAAAAAAADQEmNBAAAAANASY0EAAAAA0BJjQQAAAADQEnNBAAAAAAAAAAAAAAAAAAAAAAAAAICkuElBAAAAANASc0EAAAAAhNeXQQAAAAALa9tBAAAAAKznIkEAAAAA9AZ0QQAAAJigazVCAAAAAAAAAAAAAAAAvpiSQQAAAACkeH9BAAAAYOVej0EAAAAAgKKJQQAAAABoTVNBAAAAAPQGdEEAAAAAAAAAAAAAAAAEEKlBAAAAAGXNrUEAAAAAgIQuQQAAANCJH3BBAAAAAITXh0EAAAAAAAAAAAAAAADQEmNBAAAAAGkUeUEAAAAAgIRuQQAAAAD0BnRBAAAAAPQGdEEAAAAAsQipQQAAANCRipNBAAAAABj7dEEAAABmA7oYQgAAAAD0BpRBAAAAAPQGZEEAAABhGyQUQgAAAAAAAAAAAAAAAPQGhEEAAACw/VmqQQAAAAD0BpRBAAAAADicfEEAAACIrBGkQQAAAABg43ZBAAAAAGDjtkEAAAAe3Aw3QgAAAADQEoNBAADA////30EAAAAA0BJzQQAAAADQEnNBAAAAAITXd0EAAAAAo+GRQQAAABAHjapBAAAAQN1Kv0EAAAAAKnWVQQAAAIDxkaBBAAAAAADQIkEAAAAAtvJ/QQAAAABlzd1BAAAAqMgjhUEAAAAAgIQuQQAAAACE16dBAAAAAITXd0EAAAAgg5TDQQAAAACE16dBAAAAAITXh0EAAAAAKnWVQQAAAADQEmNBAAAAAPQGdEEAAAAA6JFiQQAAAABg40ZBAAAAAPQGdEEAAAAA0BJjQQAAAAAAAAAAAAAAAITXp0EAAAAAAAAAAAAAAEB7SmRBAAAAAFyQfUEAAAAAOJx8QQAAACBfoBJCAAAAAJqkkUEAAAAAAAAAAAAAAADQEmNBAAAAAJxodEEAAADQzBKDQQAAAAAOE0NBAAAAAICELkEAAABA5fCxQQAAAIhH9vtBAAAAMNb9eEEAAAAA9AZ0QQAAAABlzZ1BAAAAADicfEEAAAAAhNeXQQAAAABlzb1BAAAAQPxUyUH1IXdjB2ZNQQAAAACE14dBAAAAAJdggkEAAAAA9AaEQQAAAAACLqtBAAAAANASc0EAAAAAOJyMQQAAAADQEnNBAAAAAKR4f0EAAACAMD2SQQAAAADws3pBAACA/CNkw0EAAAAA0BJTQQAAAAD0BnRBAAAAAIgqoUEAAIgIKUgeQgAAAACoy2hBAAAAgCZMSUEAAAAAOJxsQQAAAAC4y5JBAAAAAFe1REEAAAAAhNd3QQAAAODPEmNBAAAAAGXNvUEAAAAA9AZ0QQAAAABi12FBAAAAANASc0EAAAAAZc3NQQAAAFDR6nRBAAAAgMANpkEAAAAA3jmKQQAAAACAhC5BAAAAAICiSUFFR3JvNrRrQQAAAADQEmNBAAAAAGQ2cEEAAAAA0BJjQQAAAACAhC5BAAAAAPQGdEEAAAC4cWqAQQAAAIAiCUFBAAAAAICELkEAAAAAZZiBQQAAAACAhC5BAAAAAGXN7UEAAAC4kUuaQQAAAACAhC5BAAAAACMCh0EAAAAAhNe3QQAAAABlzb1BAAAAkL06dEEAAAAAbEZ7QQAAAADQEmNBAAAALll2MUIAAAAA0BKDQQAAAID874BBAAAAAGXN3UEAAAAgX6DiQQAAAAA4nHxBAAAAALEImUEAAAAEa/Q0QgAAANAV2qdBAAAAAIgqkUEAAAAAgIQuQQAAAACxCJlBAAAA6HZIJ0IAAAAAAAAAAAAAAP9LSLRBAAAAADicfEEAAAAAZc3dQQAAAADQEmNBAAAAAICELkEAAAAAgIQuQQAAAACAhC5BAAAAAEBickEAAAAAOJx8QQAAAACj4ZFBAAAAADicjEEAAAAAQgZyQQAAAOh2SCdCAAAAAMy/iUH5T/K50AVyQQAAAAD0BnRBAAAA6HZIR0IAAAAgX6DyQQAAAMAqZKBBAAAAANASY0EAAAAAgIQuQQAAAAD0BnRBAAAA4DgiYkEXNCczfJlwQQAAYsx5MDRCAAAASMqOA0IAAADohl+NQQAAAAAAAAAAAAAAANASc0EAAAAA9AaUQQAAAACAhC5BAAAAAICELkEAAAAAIwKHQQAAAACQBVBBAAAA4FgxlUEAAABI8MmVQQAAAARr9CRCAAAAAMy/eUEAAAAAsQipQQAAAACE17dBAAAAANASY0EAAACgSgJuQQAAAADMv3lBAAAAAGDjdkEAAAAA9AZ0QQAAAOh2SBdCAAAAAICELkEAAAAA0BJjQQAAAAA4nIxBH4VrWRqiokEAAAAA9AZ0QQAAAACE16dBAAAAAICELkEAAAAA9AZ0QaJFtn/WNGxBAAAA0IjDAEIAAACAk9y0QQAAAAAqdYVBAAAAAHawsEEAAAAArFN+QQAAAACIKqFBAAAAAGXNvUEAAACwjvAbQgAAAACxCKlBAAAAgGarw0EAAAAAsQipQQAAABJlyjNCAAAAAITXZ0EAAAAAhNeXQQAAAJChbnpBAAAAANASc0EAAADAKmTAQQAAAFZwyc1BAAAA6HZIJ0IAAAAAgIQuQQAA8B9foPJBAAAAAITXh0EAAAAEa/Q0QgAAAAD84XJBAAAAAPQGdEEAAAAAgIQuQQAAAABlzb1BAAAAAICEjkEAAACAdNLKQQAAAACAhE5BAAAAAPQGdEEAAAAAPO91QQAAAABXO3NBAAAAADzvdUEAAAAAhNd3QQAAAABxsDhBAAAAADicfEEAAAAgX6ACQgAAAAB4qW9BAAAAABSoq0EAAAAA9Aa0QQAAAACE15dBAAAAAICELkEAAAAA0BJjQQAAAACE18dBAAAAQBtf80EAAAAAsQjJQQAAAADQEoNBAAAA5JAkEUIAAAAAZc29QQAAACDTcXJBAAAAAH4YrkEAAAAAhNd3QQAAAAA4nIxBAAAAAFyQnUEAAAAA0BJjQQAAABDiNvhBAAAAANASY0EAAAAA9AZ0QQAAAACE13dBAAAAAITXh0EAAAAAYONGQQAAAADQElNBAAAAAHawkEEAAAAAZc29QQAAAACj4bFBAAAAAPQGdEEAAAAAGPuUQQAAAAA4nHxBAAAAAICELkEAAAAAgIQuQQAAAACE16dBAAAAANASk0EAAAAAMIxxQQAAAAAqdYVBAABAX6wU80EAAAAA9AZ0QQAAAAAEEHlBAAAAAPQGdEEAAAAAiCpxQQAAAACoy3hBAAAAAPQGZEEAAAADpOHBQQAAAACAhC5BAAAAmKBrRUIAAAAwvf8CQgAAAAAY+4RBAAAAAPQGpEEAAAAAgIQuQQAAAADQEmNBAAAAAPQGlEEAAAAAKnWVQQAAAJigazVCAAAAQBtfw0EAAAD0hOeXQQAAAOCAPnFBAAAAQJMNdUEAAAAA9AZ0QQAAAAD0BnRBAAAAED6uk0EAAAAA9AZ0QQAAAABGplNBAAAA4AJxD0IAAAAAsQiJQQAAAACAhC5BAAAA8MoUdUEAAAAA0BJjQQAAAGC4E9pBAAAAYJ8GlUEAAAAAsQipQQAAwGiieUVCAAAAAN45ikEAAAAAhNeHQQAAAACS/q5BAAAAALEIqUEAAAAA9AZ0QQAAAIC30LVBAAAAAICELkEAAAAAhNd3QQAAAACE15dBAAAAANASY0EAAAAAgIQuQQAAAADQEmNBAAAAwOxP/EEAAAAAhNeHQQAAAAD0BpRBAAAAAPQGdEEAAAA8U0wwQgAAAAAAAAAAAAAAQLAZ/kEAAAAAzL+JQVyPwgUEEJlBAAAAAGAPeEEAAAAAsQiZQQAAAAD0BnRBAAAAAICELkEAAAAA9AZ0QQAAAAAFVK9BAAAA8HUnckEAAAAAh3R9QQAAAABSgGlBAAAAbG1qMUIAAAAAgIQuQQAAAACSyXJBAAAAAPQGlEEAAAAAZc29QQAAACBfoPJBAAAAALEIuUEAAAAAgISOQQAAAACQBUBBAAAAAPQGpEEAAAAAOJx8QQAAAADQEmNBAAAAPFNMIEIAAACgbzzNQQAAAAAAAAAAAAAAAGXN7UEAAAAAhNenQQAAAGC4E/pBAAAAuA/fiUEAAAAA9AZ0QQAAAAAAAAAAAAAAAGXNvUEAAAAA0BJjQQAAAEjKjgNCAAAAAICELkEAAAAA0BJjQQAAAAD0BoRBAAAAADicbEEAAADodkgnQgAAAACE17dBAAAAALEImUEAAAAAqMuoQQAAAACAhC5BAAAAAIgqYUEAAAAA0BJTQQAAAAAzsqVBAAAAoMF6b0EAAAAAsQiZQQAAAIBSEKNBAACYsZWkAkIAAAAAo+GxQQAAAIi+sIxBAAAAAMBcRUEAAAAAAEz9QAAAAAD0BnRBAAAAAAAAAAAAAACAgFp3QQAAAAAAAAAAAAAAANASY0EAAAAAgIQuQQAAAIDjd2BBAACAJRPQbEIAAAAA0BJjQQAAAABlzd1BAAAAAGXNrUEAAIDkbN3UQQAAAAD0BnRBAAAAAICELkE=\",\"dtype\":\"float64\",\"order\":\"little\",\"shape\":[532]},\"TotalCoinsMined\":{\"__ndarray__\":\"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\",\"dtype\":\"float64\",\"order\":\"little\",\"shape\":[532]},\"class\":{\"__ndarray__\":\"AAAAAAAAAAAAAAAAAQAAAAEAAAABAAAAAAAAAAEAAAABAAAAAQAAAAAAAAABAAAAAAAAAAAAAAABAAAAAAAAAAEAAAABAAAAAAAAAAAAAAABAAAAAQAAAAEAAAABAAAAAQAAAAAAAAABAAAAAQAAAAEAAAAAAAAAAQAAAAAAAAABAAAAAQAAAAAAAAAAAAAAAQAAAAEAAAABAAAAAQAAAAEAAAABAAAAAAAAAAAAAAABAAAAAQAAAAEAAAABAAAAAQAAAAAAAAAAAAAAAQAAAAAAAAABAAAAAQAAAAEAAAABAAAAAAAAAAEAAAABAAAAAAAAAAEAAAAAAAAAAAAAAAAAAAABAAAAAQAAAAEAAAAAAAAAAAAAAAAAAAAAAAAAAAAAAAEAAAABAAAAAQAAAAAAAAAAAAAAAQAAAAAAAAABAAAAAAAAAAAAAAABAAAAAQAAAAEAAAABAAAAAAAAAAAAAAABAAAAAAAAAAEAAAABAAAAAAAAAAAAAAABAAAAAAAAAAAAAAABAAAAAQAAAAEAAAAAAAAAAQAAAAAAAAAAAAAAAQAAAAAAAAABAAAAAAAAAAEAAAAAAAAAAQAAAAAAAAAAAAAAAQAAAAEAAAAAAAAAAQAAAAEAAAABAAAAAAAAAAEAAAABAAAAAQAAAAEAAAABAAAAAAAAAAAAAAABAAAAAQAAAAEAAAAAAAAAAQAAAAAAAAABAAAAAQAAAAAAAAABAAAAAAAAAAEAAAAAAAAAAAAAAAEAAAABAAAAAAAAAAEAAAABAAAAAAAAAAAAAAABAAAAAAAAAAEAAAAAAAAAAAAAAAAAAAABAAAAAQAAAAEAAAABAAAAAAAAAAAAAAAAAAAAAAAAAAAAAAABAAAAAQAAAAAAAAAAAAAAAAAAAAAAAAAAAAAAAQAAAAAAAAAAAAAAAAAAAAAAAAAAAAAAAQAAAAAAAAABAAAAAAAAAAAAAAABAAAAAAAAAAEAAAAAAAAAAAAAAAEAAAAAAAAAAQAAAAAAAAABAAAAAAAAAAEAAAAAAAAAAAAAAAAAAAAAAAAAAQAAAAAAAAAAAAAAAAAAAAAAAAAAAAAAAQAAAAEAAAAAAAAAAAAAAAEAAAABAAAAAAAAAAAAAAAAAAAAAAAAAAAAAAABAAAAAAAAAAAAAAAAAAAAAAAAAAAAAAAAAAAAAAAAAAAAAAABAAAAAAAAAAAAAAAAAAAAAAAAAAAAAAAAAAAAAQAAAAEAAAABAAAAAAAAAAAAAAAAAAAAAAAAAAEAAAAAAAAAAQAAAAAAAAAAAAAAAQAAAAAAAAABAAAAAQAAAAAAAAABAAAAAQAAAAAAAAABAAAAAAAAAAAAAAAAAAAAAQAAAAAAAAAAAAAAAQAAAAAAAAAAAAAAAAAAAAAAAAAAAAAAAAAAAAAAAAABAAAAAAAAAAEAAAAAAAAAAAAAAAAAAAAAAAAAAQAAAAAAAAABAAAAAAAAAAEAAAABAAAAAQAAAAEAAAAAAAAAAQAAAAAAAAAAAAAAAQAAAAAAAAABAAAAAQAAAAEAAAAAAAAAAQAAAAAAAAABAAAAAQAAAAEAAAAAAAAAAQAAAAAAAAABAAAAAAAAAAAAAAAAAAAAAQAAAAAAAAABAAAAAQAAAAEAAAABAAAAAQAAAAAAAAAAAAAAAQAAAAAAAAAAAAAAAAAAAAEAAAAAAAAAAQAAAAAAAAABAAAAAAAAAAEAAAAAAAAAAAAAAAAAAAAAAAAAAQAAAAAAAAAAAAAAAQAAAAAAAAAAAAAAAAAAAAEAAAABAAAAAQAAAAEAAAAAAAAAAAAAAAAAAAAAAAAAAQAAAAAAAAABAAAAAQAAAAEAAAAAAAAAAAAAAAEAAAABAAAAAAAAAAAAAAABAAAAAAAAAAEAAAABAAAAAQAAAAAAAAABAAAAAQAAAAAAAAAAAAAAAAAAAAEAAAABAAAAAQAAAAAAAAABAAAAAAAAAAEAAAABAAAAAAAAAAEAAAABAAAAAQAAAAEAAAAAAAAAAwAAAAMAAAABAAAAAQAAAAEAAAAAAAAAAAAAAAAAAAAAAAAAAAAAAAAAAAABAAAAAQAAAAEAAAABAAAAAAAAAAAAAAAAAAAAAQAAAAAAAAABAAAAAAAAAAAAAAAAAAAAAAAAAAEAAAAAAAAAAAAAAAEAAAAAAAAAAAAAAAEAAAABAAAAAAAAAAEAAAAAAAAAAQAAAAEAAAABAAAAAQAAAAAAAAAAAAAAAQAAAAAAAAABAAAAAAAAAAAAAAAAAAAAAAAAAAAAAAAAAAAAAQAAAAEAAAABAAAAAAAAAAAAAAAAAAAAAAAAAAAAAAAAAAAAAQAAAAAAAAABAAAAAQAAAAEAAAABAAAAAAAAAAAAAAAAAAAAAAAAAAEAAAAAAAAAAAAAAAEAAAAAAAAAAAAAAAEAAAADAAAAAQAAAAAAAAABAAAAAQAAAAAAAAAAAAAAAQAAAAAAAAABAAAAAQAAAAEAAAABAAAAAQAAAAAAAAABAAAAAAAAAAEAAAAAAAAAAAAAAAEAAAAAAAAAAAAAAAAAAAAAAAAAAAAAAAEAAAABAAAAAQAAAAAAAAAAAAAAAAAAAAEAAAAAAAAAAQAAAAAAAAABAAAAAAAAAAAAAAAAAAAAAAAAAAEAAAAAAAAAAAAAAAAAAAABAAAAAAAAAAEAAAAAAAAAAQAAAAAAAAAAAAAAAAAAAAEAAAABAAAAAAAAAAAAAAAAAAAAAAAAAAAAAAAAAAAAAQAAAAAAAAABAAAAAAAAAAEAAAAAAAAAAAAAAAMAAAAAAAAAAgAAAAAAAAAAAAAAAAAAAAEAAAABAAAAAAAAAA==\",\"dtype\":\"int32\",\"order\":\"little\",\"shape\":[532]}},\"selected\":{\"id\":\"2698\"},\"selection_policy\":{\"id\":\"2731\"}},\"id\":\"2697\",\"type\":\"ColumnDataSource\"},{\"attributes\":{\"editor\":{\"id\":\"2710\"},\"field\":\"ProofType\",\"formatter\":{\"id\":\"2709\"},\"title\":\"ProofType\"},\"id\":\"2711\",\"type\":\"TableColumn\"},{\"attributes\":{},\"id\":\"2724\",\"type\":\"NumberFormatter\"},{\"attributes\":{\"format\":\"0,0.0[00000]\"},\"id\":\"2714\",\"type\":\"NumberFormatter\"},{\"attributes\":{},\"id\":\"2705\",\"type\":\"StringEditor\"},{\"attributes\":{\"editor\":{\"id\":\"2700\"},\"field\":\"CoinName\",\"formatter\":{\"id\":\"2699\"},\"title\":\"CoinName\"},\"id\":\"2701\",\"type\":\"TableColumn\"},{\"attributes\":{\"source\":{\"id\":\"2697\"}},\"id\":\"2730\",\"type\":\"CDSView\"},{\"attributes\":{},\"id\":\"2715\",\"type\":\"NumberEditor\"},{\"attributes\":{},\"id\":\"2699\",\"type\":\"StringFormatter\"},{\"attributes\":{},\"id\":\"2725\",\"type\":\"IntEditor\"},{\"attributes\":{},\"id\":\"2731\",\"type\":\"UnionRenderers\"},{\"attributes\":{},\"id\":\"2720\",\"type\":\"NumberEditor\"},{\"attributes\":{\"format\":\"0,0.0[00000]\"},\"id\":\"2719\",\"type\":\"NumberFormatter\"},{\"attributes\":{\"margin\":[5,5,5,5],\"name\":\"HSpacer04594\",\"sizing_mode\":\"stretch_width\"},\"id\":\"2735\",\"type\":\"Spacer\"},{\"attributes\":{},\"id\":\"2698\",\"type\":\"Selection\"},{\"attributes\":{},\"id\":\"2700\",\"type\":\"StringEditor\"},{\"attributes\":{\"columns\":[{\"id\":\"2701\"},{\"id\":\"2706\"},{\"id\":\"2711\"},{\"id\":\"2716\"},{\"id\":\"2721\"},{\"id\":\"2726\"}],\"height\":300,\"reorderable\":false,\"source\":{\"id\":\"2697\"},\"view\":{\"id\":\"2730\"},\"width\":700},\"id\":\"2729\",\"type\":\"DataTable\"},{\"attributes\":{},\"id\":\"2709\",\"type\":\"StringFormatter\"},{\"attributes\":{\"children\":[{\"id\":\"2696\"},{\"id\":\"2729\"},{\"id\":\"2735\"}],\"margin\":[0,0,0,0],\"name\":\"Row04589\",\"tags\":[\"embedded\"]},\"id\":\"2695\",\"type\":\"Row\"},{\"attributes\":{\"editor\":{\"id\":\"2720\"},\"field\":\"TotalCoinsMined\",\"formatter\":{\"id\":\"2719\"},\"title\":\"TotalCoinsMined\"},\"id\":\"2721\",\"type\":\"TableColumn\"},{\"attributes\":{},\"id\":\"2710\",\"type\":\"StringEditor\"},{\"attributes\":{\"editor\":{\"id\":\"2725\"},\"field\":\"class\",\"formatter\":{\"id\":\"2724\"},\"title\":\"class\"},\"id\":\"2726\",\"type\":\"TableColumn\"},{\"attributes\":{\"editor\":{\"id\":\"2715\"},\"field\":\"TotalCoinSupply\",\"formatter\":{\"id\":\"2714\"},\"title\":\"TotalCoinSupply\"},\"id\":\"2716\",\"type\":\"TableColumn\"},{\"attributes\":{\"editor\":{\"id\":\"2705\"},\"field\":\"Algorithm\",\"formatter\":{\"id\":\"2704\"},\"title\":\"Algorithm\"},\"id\":\"2706\",\"type\":\"TableColumn\"},{\"attributes\":{},\"id\":\"2704\",\"type\":\"StringFormatter\"}],\"root_ids\":[\"2695\"]},\"title\":\"Bokeh Application\",\"version\":\"2.2.3\"}};\n",
       "    var render_items = [{\"docid\":\"a6dcf5c8-510b-4da5-bb89-9d0fd809ded6\",\"root_ids\":[\"2695\"],\"roots\":{\"2695\":\"81eb5ac5-9808-47b1-9a36-bed31058b936\"}}];\n",
       "    root.Bokeh.embed.embed_items_notebook(docs_json, render_items);\n",
       "  }\n",
       "  if (root.Bokeh !== undefined && root.Bokeh.Panel !== undefined) {\n",
       "    embed_document(root);\n",
       "  } else {\n",
       "    var attempts = 0;\n",
       "    var timer = setInterval(function(root) {\n",
       "      if (root.Bokeh !== undefined && root.Bokeh.Panel !== undefined) {\n",
       "        clearInterval(timer);\n",
       "        embed_document(root);\n",
       "      } else if (document.readyState == \"complete\") {\n",
       "        attempts++;\n",
       "        if (attempts > 100) {\n",
       "          clearInterval(timer);\n",
       "          console.log(\"Bokeh: ERROR: Unable to run BokehJS code because BokehJS library is missing\");\n",
       "        }\n",
       "      }\n",
       "    }, 10, root)\n",
       "  }\n",
       "})(window);</script>"
      ],
      "text/plain": [
       ":Table   [CoinName,Algorithm,ProofType,TotalCoinSupply,TotalCoinsMined,class]"
      ]
     },
     "execution_count": 221,
     "metadata": {
      "application/vnd.holoviews_exec.v0+json": {
       "id": "2695"
      }
     },
     "output_type": "execute_result"
    }
   ],
   "source": [
    "# Creating a table with tradable cryptos\n",
    "clustered_df.hvplot.table(columns=[\"CoinName\", \"Algorithm\", \"ProofType\", \"TotalCoinSupply\", \"TotalCoinsMined\", \"class\"], sortable=True, selectable=True)"
   ]
  },
  {
   "cell_type": "code",
   "execution_count": 222,
   "metadata": {},
   "outputs": [
    {
     "name": "stdout",
     "output_type": "stream",
     "text": [
      "The number of tradeable cryptocurrencies is 532!\n"
     ]
    }
   ],
   "source": [
    "# Printing the total number of tradable cryptocurrencies\n",
    "tradeable_crypto = (len(clustered_df))\n",
    "print(f'The number of tradeable cryptocurrencies is {tradeable_crypto}!')"
   ]
  },
  {
   "cell_type": "markdown",
   "metadata": {},
   "source": [
    "#### Scatter Plot with Tradable Cryptocurrencies"
   ]
  },
  {
   "cell_type": "code",
   "execution_count": 227,
   "metadata": {},
   "outputs": [
    {
     "data": {
      "text/html": [
       "<div>\n",
       "<style scoped>\n",
       "    .dataframe tbody tr th:only-of-type {\n",
       "        vertical-align: middle;\n",
       "    }\n",
       "\n",
       "    .dataframe tbody tr th {\n",
       "        vertical-align: top;\n",
       "    }\n",
       "\n",
       "    .dataframe thead th {\n",
       "        text-align: right;\n",
       "    }\n",
       "</style>\n",
       "<table border=\"1\" class=\"dataframe\">\n",
       "  <thead>\n",
       "    <tr style=\"text-align: right;\">\n",
       "      <th></th>\n",
       "      <th>TotalCoinsMined</th>\n",
       "      <th>TotalCoinSupply</th>\n",
       "      <th>CoinName</th>\n",
       "    </tr>\n",
       "  </thead>\n",
       "  <tbody>\n",
       "    <tr>\n",
       "      <th>0</th>\n",
       "      <td>0.000000</td>\n",
       "      <td>4.242424e-11</td>\n",
       "      <td>42</td>\n",
       "    </tr>\n",
       "    <tr>\n",
       "      <th>1</th>\n",
       "      <td>0.001066</td>\n",
       "      <td>5.373737e-04</td>\n",
       "      <td>404</td>\n",
       "    </tr>\n",
       "    <tr>\n",
       "      <th>2</th>\n",
       "      <td>0.029576</td>\n",
       "      <td>3.173326e-01</td>\n",
       "      <td>1337</td>\n",
       "    </tr>\n",
       "    <tr>\n",
       "      <th>3</th>\n",
       "      <td>0.000018</td>\n",
       "      <td>2.121212e-05</td>\n",
       "      <td>BTC</td>\n",
       "    </tr>\n",
       "    <tr>\n",
       "      <th>4</th>\n",
       "      <td>0.000109</td>\n",
       "      <td>0.000000e+00</td>\n",
       "      <td>ETH</td>\n",
       "    </tr>\n",
       "  </tbody>\n",
       "</table>\n",
       "</div>"
      ],
      "text/plain": [
       "   TotalCoinsMined  TotalCoinSupply CoinName\n",
       "0         0.000000     4.242424e-11       42\n",
       "1         0.001066     5.373737e-04      404\n",
       "2         0.029576     3.173326e-01     1337\n",
       "3         0.000018     2.121212e-05      BTC\n",
       "4         0.000109     0.000000e+00      ETH"
      ]
     },
     "execution_count": 227,
     "metadata": {},
     "output_type": "execute_result"
    }
   ],
   "source": [
    "# Scaling data to create the scatter plot\n",
    "from sklearn import preprocessing\n",
    "\n",
    "scaler = preprocessing.MinMaxScaler()\n",
    "data_scaled = scaler.fit_transform(crypto_df[[\"TotalCoinsMined\", \"TotalCoinSupply\"]])\n",
    "\n",
    "# Creating dataframe for plotting\n",
    "scaled_data = pd.DataFrame(data_scaled, columns=[\"TotalCoinsMined\", \"TotalCoinSupply\"])\n",
    "scaled_data[\"CoinName\"] = clustered_df.index\n",
    "scaled_data.head()"
   ]
  },
  {
   "cell_type": "code",
   "execution_count": 228,
   "metadata": {},
   "outputs": [
    {
     "data": {
      "application/vnd.holoviews_exec.v0+json": "",
      "text/html": [
       "<div id='2957'>\n",
       "\n",
       "\n",
       "\n",
       "\n",
       "\n",
       "  <div class=\"bk-root\" id=\"cd225a41-83a2-453f-8a88-9bbb0a4e8889\" data-root-id=\"2957\"></div>\n",
       "</div>\n",
       "<script type=\"application/javascript\">(function(root) {\n",
       "  function embed_document(root) {\n",
       "    var docs_json = {\"8a35b176-db01-49a1-9fde-7fc3d92a687b\":{\"roots\":{\"references\":[{\"attributes\":{\"active_drag\":\"auto\",\"active_inspect\":\"auto\",\"active_multi\":null,\"active_scroll\":\"auto\",\"active_tap\":\"auto\",\"tools\":[{\"id\":\"2961\"},{\"id\":\"2979\"},{\"id\":\"2980\"},{\"id\":\"2981\"},{\"id\":\"2982\"},{\"id\":\"2983\"}]},\"id\":\"2985\",\"type\":\"Toolbar\"},{\"attributes\":{},\"id\":\"2976\",\"type\":\"BasicTicker\"},{\"attributes\":{\"source\":{\"id\":\"2992\"}},\"id\":\"2999\",\"type\":\"CDSView\"},{\"attributes\":{\"end\":1.1,\"reset_end\":1.1,\"reset_start\":-0.1,\"start\":-0.1,\"tags\":[[[\"TotalCoinSupply\",\"TotalCoinSupply\",null]]]},\"id\":\"2960\",\"type\":\"Range1d\"},{\"attributes\":{\"fill_alpha\":{\"value\":0.2},\"fill_color\":{\"value\":\"#1f77b3\"},\"line_alpha\":{\"value\":0.2},\"line_color\":{\"value\":\"#1f77b3\"},\"size\":{\"units\":\"screen\",\"value\":5.477225575051661},\"x\":{\"field\":\"TotalCoinsMined\"},\"y\":{\"field\":\"TotalCoinSupply\"}},\"id\":\"2997\",\"type\":\"Scatter\"},{\"attributes\":{\"below\":[{\"id\":\"2971\"}],\"center\":[{\"id\":\"2974\"},{\"id\":\"2978\"}],\"left\":[{\"id\":\"2975\"}],\"margin\":[5,5,5,5],\"min_border_bottom\":10,\"min_border_left\":10,\"min_border_right\":10,\"min_border_top\":10,\"plot_height\":300,\"plot_width\":700,\"renderers\":[{\"id\":\"2998\"}],\"sizing_mode\":\"fixed\",\"title\":{\"id\":\"2963\"},\"toolbar\":{\"id\":\"2985\"},\"x_range\":{\"id\":\"2959\"},\"x_scale\":{\"id\":\"2967\"},\"y_range\":{\"id\":\"2960\"},\"y_scale\":{\"id\":\"2969\"}},\"id\":\"2962\",\"subtype\":\"Figure\",\"type\":\"Plot\"},{\"attributes\":{\"children\":[{\"id\":\"2958\"},{\"id\":\"2962\"},{\"id\":\"3020\"}],\"margin\":[0,0,0,0],\"name\":\"Row05078\",\"tags\":[\"embedded\"]},\"id\":\"2957\",\"type\":\"Row\"},{\"attributes\":{},\"id\":\"3001\",\"type\":\"BasicTickFormatter\"},{\"attributes\":{},\"id\":\"2979\",\"type\":\"SaveTool\"},{\"attributes\":{},\"id\":\"2980\",\"type\":\"PanTool\"},{\"attributes\":{\"data\":{\"CoinName\":[\"42\",\"404\",\"1337\",\"BTC\",\"ETH\",\"LTC\",\"DASH\",\"XMR\",\"ETC\",\"ZEC\",\"BTS\",\"DGB\",\"BTCD\",\"XPY\",\"PRC\",\"KOBO\",\"SPR\",\"ARG\",\"AUR\",\"BLU\",\"XMY\",\"MOON\",\"ZET\",\"SXC\",\"QTL\",\"ENRG\",\"QRK\",\"RIC\",\"DGC\",\"BTB\",\"CAT\",\"CBX\",\"CCN\",\"CRYPT\",\"CSC\",\"DMD\",\"XVG\",\"DVC\",\"EAC\",\"EFL\",\"EMC2\",\"EMD\",\"EXCL\",\"FLT\",\"FRK\",\"FTC\",\"GDC\",\"GLC\",\"GLD\",\"HBN\",\"HYP\",\"IFC\",\"IOC\",\"IXC\",\"KGC\",\"LKY\",\"LTB\",\"MAX\",\"MEC\",\"MED\",\"MINT\",\"MINC\",\"MZC\",\"NAUT\",\"NAV\",\"NOBL\",\"NMC\",\"NYAN\",\"OPAL\",\"ORB\",\"POT\",\"PXC\",\"RDD\",\"RPC\",\"SBC\",\"SMC\",\"SUPER\",\"SYNC\",\"SYS\",\"TES\",\"TGC\",\"TIT\",\"TOR\",\"TRC\",\"UNB\",\"UNO\",\"URO\",\"USDE\",\"UTC\",\"VIA\",\"VRC\",\"VTC\",\"WDC\",\"XC\",\"XCR\",\"XJO\",\"XST\",\"ZCC\",\"BCN\",\"XDN\",\"BURST\",\"SJCX\",\"MONA\",\"NTRN\",\"FAIR\",\"NLG\",\"RBY\",\"PTC\",\"KORE\",\"WBB\",\"NOTE\",\"FLO\",\"8BIT\",\"STV\",\"ABY\",\"FLDC\",\"U\",\"UIS\",\"CYP\",\"OMC\",\"VTR\",\"GRE\",\"XCN\",\"MSC\",\"SOON\",\"1CR\",\"ISL\",\"NXS\",\"MARS\",\"CTO\",\"ACP\",\"DRZ\",\"BSC\",\"SQL\",\"SONG\",\"ZNY\",\"DIGS\",\"EXP\",\"CON\",\"SC\",\"EMC\",\"EGC\",\"MND\",\"I0C\",\"DCR\",\"RVR\",\"HODL\",\"EDRC\",\"HTC\",\"GAME\",\"DBIC\",\"DIEM\",\"PWR\",\"BLRY\",\"GPU\",\"ADZ\",\"SOIL\",\"YOC\",\"SIB\",\"ERC\",\"ZEIT\",\"SWING\",\"SAFEX\",\"NEBU\",\"FRN\",\"BOLI\",\"XRA\",\"REV\",\"CKC\",\"VIP\",\"BSD\",\"OMNI\",\"LIR\",\"PUT\",\"IBANK\",\"FRWC\",\"MUDRA\",\"PIZZA\",\"LC\",\"KMD\",\"GB\",\"CTC\",\"KRB\",\"BXT\",\"ZYD\",\"MST\",\"ZNE\",\"COVAL\",\"ROOT\",\"DOPE\",\"BTCR\",\"DLC\",\"SCN\",\"SH\",\"BUZZ\",\"XPO\",\"PSB\",\"HALLO\",\"XZC\",\"CFC\",\"ROYAL\",\"GNJ\",\"TEAM\",\"LANA\",\"ELE\",\"ZCL\",\"ARK\",\"INSANE\",\"KLC\",\"ATX\",\"EMB\",\"XEN\",\"FRE\",\"PLNC\",\"ARCO\",\"KURT\",\"XCRE\",\"ENT\",\"EUC\",\"BCF\",\"XSN\",\"BCCOIN\",\"MONEY\",\"XNG\",\"XCI\",\"RC\",\"PND\",\"UNITS\",\"GAKH\",\"ASAFE2\",\"LTCR\",\"OS76\",\"BIC\",\"HXX\",\"KED\",\"IOP\",\"KUSH\",\"PRX\",\"PAC\",\"IMPCH\",\"CTL\",\"ZBC\",\"FRST\",\"BVC\",\"FIND\",\"VLTC\",\"ZER\",\"CHAT\",\"CDN\",\"ZOI\",\"RNS\",\"DBIX\",\"XVP\",\"TAJ\",\"IMX\",\"EB3\",\"ATMOS\",\"HPC\",\"CXT\",\"MCRN\",\"RAIN\",\"IMS\",\"ARGUS\",\"LMC\",\"PROC\",\"XGR\",\"BENJI\",\"GRW\",\"ILC\",\"PHR\",\"DEA\",\"HTML5\",\"USC\",\"EQT\",\"QTUM\",\"QRL\",\"ESP\",\"DYN\",\"NANO\",\"CHAN\",\"DCY\",\"DNR\",\"DP\",\"VUC\",\"BTPL\",\"UNIFY\",\"BRIT\",\"SOCC\",\"ARC\",\"DAS\",\"LINDA\",\"XLC\",\"ONION\",\"BTX\",\"GCN\",\"SMART\",\"SIGT\",\"ONX\",\"CRM\",\"BCH\",\"XMCC\",\"DFT\",\"VET\",\"SOJ\",\"STCN\",\"NYC\",\"FRAZ\",\"KRONE\",\"ACC\",\"LINX\",\"XCXT\",\"ETHD\",\"SUMO\",\"ODN\",\"ADA\",\"REC\",\"BTCZ\",\"TZC\",\"ELM\",\"TER\",\"VIVO\",\"RUP\",\"BTG\",\"WOMEN\",\"MAY\",\"NAMO\",\"LUX\",\"PIRL\",\"XIOS\",\"BTDX\",\"EBST\",\"KEK\",\"BLHC\",\"XIN\",\"PURA\",\"INN\",\"ELLA\",\"GBX\",\"MAG\",\"TAU\",\"ECA\",\"BCD\",\"XSH\",\"CNBC\",\"XUN\",\"COAL\",\"DAXX\",\"BWK\",\"KLKS\",\"AC3\",\"LTHN\",\"GER\",\"LTCU\",\"POP\",\"PNX\",\"PHO\",\"SUCR\",\"SPK\",\"WAGE\",\"GUN\",\"IRL\",\"TROLL\",\"LCP\",\"MONK\",\"PCOIN\",\"UBTC\",\"ITZ\",\"TPAY\",\"MCT\",\"MBC\",\"TRTL\",\"MUN\",\"USX\",\"NBR\",\"SSS\",\"TRF\",\"KREDS\",\"TOKC\",\"BBP\",\"LCC\",\"FLIP\",\"LOT\",\"CIF\",\"SPD\",\"POA\",\"PUSHI\",\"ELP\",\"VLX\",\"ONT\",\"CLO\",\"TUBE\",\"PSD\",\"ADK\",\"BSX\",\"BRIA\",\"IC\",\"BTL\",\"MEDIC\",\"ALPS\",\"BITG\",\"DEV\",\"ABJ\",\"SEM\",\"FTO\",\"CARE\",\"NZL\",\"XMC\",\"PROTON\",\"DEAL\",\"JUMP\",\"INFX\",\"XBI\",\"KEC\",\"HWC\",\"GIN\",\"PLTC\",\"LOKI\",\"NCP\",\"SIC\",\"XT3\",\"MGD\",\"VIG\",\"PLURA\",\"EMAR\",\"DKD\",\"LYNX\",\"POSQ\",\"BWS\",\"MUSE\",\"XMN\",\"PLUS1\",\"AXE\",\"TRVC\",\"DTEM\",\"GIC\",\"PNY\",\"ABS\",\"VITAE\",\"HEX\",\"TPC\",\"WEBC\",\"RYO\",\"URALS\",\"QWC\",\"ARE\",\"EUNO\",\"MMO\",\"KETAN\",\"PPAI\",\"XDNA\",\"PAXEX\",\"AZART\",\"TSC\",\"KCASH\",\"XCG\",\"AAC\",\"CRYP\",\"BTXC\",\"ACM\",\"BSV\",\"BITM\",\"JMC\",\"FRED\",\"HERB\",\"UMO\",\"LIT\",\"PIRATE\",\"EXO\",\"BLTG\",\"OWC\",\"BEAM\",\"GALI\",\"BTH\",\"CSPN\",\"CREDIT\",\"SLC\",\"DASHP\",\"NSD\",\"BEET\",\"TTN\",\"AWR\",\"BLAST\",\"XRC\",\"GLT\",\"INSN\",\"ALX\",\"LDOGE\",\"SLR\",\"TRK\",\"UFO\",\"OC\",\"BLC\",\"BITS\",\"NEOS\",\"HYPER\",\"PINK\",\"CESC\",\"ADC\",\"NKA\",\"PIGGY\",\"CRW\",\"GEN\",\"SMLY\",\"MI\",\"GRS\",\"CPC\",\"CLUB\",\"RADS\",\"BTA\",\"PAK\",\"CRB\",\"OK\",\"LSK\",\"XHI\",\"XWC\",\"FSC\",\"J\",\"TRI\",\"VOLLAR\",\"EOS\",\"RCC\",\"OXY\",\"TCH\",\"WAVES\",\"PART\",\"BTT\",\"NXT\",\"ZEPH\",\"GAP\",\"BDX\",\"ZEN\",\"XBC\"],\"TotalCoinSupply\":{\"__ndarray__\":\"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\",\"dtype\":\"float64\",\"order\":\"little\",\"shape\":[532]},\"TotalCoinsMined\":{\"__ndarray__\":\"AAAAAAAAAADVQ6eRhXZRP0gFXx0LSZ4/r6i7QfH88j5vitZPpIMcP2oafiZFsRA/fb2YAaYh4z4IECcwFDjyPvAMQlVeBB4/AW9zJJ5H3z6ruJV6oa9mP0unpD+emIc/h/FpwmrXtT5bs+U3DGnpPg7R8otDcNg+1tKZ+dgN+z7p6Gp0ep7nPkD0BzUu2+k+gUAMP1I18z5jYEyEOQhFPwjjJ6Co8Fs/imT2FGaLyT1wyrMs3YgmPy/uioxKEiE/6EU2Gzgs3z6TanQDD0sgPyAs0bCuLjE/EW8kTYs9Cj+fTR0ZB7YBP35ukl9tEWc+NhWLS7iW3j7tL1b365uxPgeM01DI7dM+F/e9nq8r1T49x1z95a+kP28YHhABAMw+zGWKHw96kD/YQKTwOGuTP/MR9hSJ8Ik/vuNbg90l9j7UJEJsY/osP53eB+SKpvQ+ye+KsSkQ2D75DhvNkpI+P+ziq35yXbM+4fJtu5OgKz8zhSq3lUNNP7Gfa3bJYxE/GvyFqN0PBj9XnKUGLqMXP2Kcs/Rqx1s/F9ar/lJttz/8kyPDCLLyPtoNVa5dVvY+Ghr3riANJD/pq5EDUnj0PsOmmLPntrI+k7z+QUFFED90k5i3czQEP8Q38CuLaQU/0/9nDoYGlj93DCUJMpfYPvyL+LFetVo/vHgiJTIj8T6Oq7Ff4H8RP78aJNAtlGM/aRywBYc37z5X9sVmRig2P3JQvRWjDfA+/F+C9RFKyz5y+Q2CXXstP4vMewSDlRM/BrK0IJ1Snj/9tCw6GLayPlG7VH/vpfk+lXaTGbsb+z7wOIGbr9oKP12jEDVDshM+EyTYm2WlQj9DkuhWp0AVP11sMg9/Dgc/dL+NX1fZWj+VBQyzwkO4PrG8Ce/rSvg+bL2nE6xNwz6yOWnioDuLPgZ+n5+cdbQ+VwNQAvQvUj99MjEropoKP0qNy3hahfg+5OW8n0H1AD8231tR3xkLP2V9tGjaqx8/G45UidNy3T77RX5gv3oaPz5Vi/30wQQ/RWqwKK2GAT8x8CVp8ZcjP1hQT91+zMc/EkNUVVGTfD8v9/epUAFeP5OnqTHLGQs/LDcAdL4OEj/GZEMV67cEP4m2C5a/Kww/vHcWlIB5Oz876RpKEMv8PldPYuT8NCI/pcwKPQojwT68Wu9Dc6iIPmPUGyFpHyc//S8r0gUpJD/NWTdK5t+4PhEtw1ouEd4+u43+0IM7Sj+Fn7ZW789HP0rkrkGmysY+Re2gid09ET9Fe9kzvvfaPq5c/HTseuU+XTih5TeV6D5Eb/ntLRNzP2iQg1h8c0c/8Dkn/bj+pD5ULKfadGbqPiVbYWJW6Hc+P3KSIt+muT4hen9FKdsQP1EjiUBvEAE/0L1ZHKoc7T5yrZVfYj3vPnJGublsJuI+csvZ6XfN8D721dyvE1CWPjtGyf0IPwE/zcFpI7cFFD/7RX5gv3oaP6kiwRuRO+Y+rrGTtv1n+D4u6Xh0IR6hPzQmLIvTzQY/1efNMZmp7D4Jlvatg87wPr1leW50PfY+feesSPH05T4A2yO/r80rP7dp9B2+QOg+5oM5djQYzz64w1Tpib+GP/rxCBcDfhI/CNeOJOK61T7FWSJvonyWP4sWSaGt1IQ/AkyV+P4P4z7jP4drq28FP6nww6zT4wc/yB/NZWUo2D5m880gGJKlPoqNQpbySPI+PRSCCNcL5j7svR7o5R6jP2tOHmNWi9I++f8SbiTFYT+RAFIr/S71PoRXNiKn1ts+8H9TLJbs7D7ujyYFktAhP3lc7dd7QrQ+QPXFzhym8T4+Nd5F5BgWP9J6jnO41Pk+VIp4kW7kpD45sM3Uzm8EP4dD0Oqv6Uo/dgJ1rDQt0z77RX5gv3oaP8KwSmz0LtU+Wbaq9MVZtz5UvVBlDL9FP/BZKjNxsB4/pqRxDiJ88D7oqXRGKNwGP4tqAC8VkuA+ng944g0upD4AgcASBnTaPvRYj6HQSaY+QgF987fgxT56Q0MFuIxQP8R5KJfqb8A+1DtNvqTwHj9P/h//VHQmP9YUPmyMSuM+cMvi9YcERj+4vcx0643nPoIw9VQZQJQ/QFxHa5CaEz9q4x6W3sABP+WnRel4hTE/2DMeo0EI4D7+NIbIkbAjP1rd2J4tL8U++0V+YL96Gj/QJpJKht/yPumb2J7R6FE/YwA79p7B+z6FMP5AacjXPoyfDBK/phw/2bdahaRt8z6i/2L5Rf0pP1o9XtEcRks/aYtMVgzXtz86BVneRVPQPqlU6KW+ego/Cpe1fNUZ8j51sP5UiMHEPjuCQ8HDPxA/kQBSK/0u9T4WN5ZE6rbZPjz585B5Teo+mJbD7Cdx9T4t+OpgFAQUP+s1WKcNeec+4Jew0N0e5z5bwhuTX5yrPrXDDf5mk7A+/nKUS0y/4T6qCNVPxnyhP15IKAuBbc0+tkwa0oQYzD6BYbgGxEfmPtvAySsfAgA/1Kx1vOtMrj4McAKMU9LjPsX/dMFKy78+/uCpGjNi+T7JxDaJemfFPhLCp7bP+dc+ZajWlOYK6T6OM6x+FcZBPzTIpVxJ45Q+0p/hlqM85z75z9m7pMPIPrZ+M2OfIB0/Ck3M5oZlyj6ghV7+zcTuPqsP156DFwA/84jwQy5T3T56Q0MFuIxQP+n5gvIhcBo/1qPfyquk8z7A48DYhRcDP8ujJZ6E68I+YYjc8CLi6z6/xleSd8/pPjWSA+NaSx0/XGxBluj4ED9HFGw/nm0dPxPMhtR+y/Y+gYeI9slx5T71oLCH1pI6P71/oX2yGyA/aiIdwhm/1j7c24n5tHWzPgpcwiwJ8qA+B3WXBL6fGj+E/gBWAjDyPjTeTm3aefU+MqZkmp+JMz/Je+X67M5VP1aTWKvlIOg+QCN49mqf9j4SJeC9JgelPwDbBzkM6eU+c9ZP5BD37D77RX5gv3oaP/9UEsTGRxI/PAT7udKVlz9hKn9Ae/T0PrWHiodIpCE/L438AR5/8z6ErCojNPJdP+Qq5FI8rNE+5uK8DPabAj/81THurqoQPy0rqEb309w+yQQoA8408z741RgF1Yb2PudvAG7s5NU++PDXSmCV+z7UGa86eTnGPjQa6ZQatoI/CdfFZ+z/7T5wTMPVyTb3PvRo7PL22vI+GB33QgUVxT+BzRtQQ4tiP0ym0ZMzlxw/S8HMUSg3ID+9UTX6ABEJPyRl/jd+D/M+AfIJ6Umg6j450UXAisTzPs2g4AcRrqw//Y1TnL1xoD6Y71vOWvLQPgM10iZufcI/+PHfwXqO5D7X33qzknzyPqndVzwTSgE/eBUn0xzbAT+EUc3xJbL0PqB8WFRGy9E+uBZMWL/z4j4HcrwwvXr6Pnv8+2Vb0Zo/wuYrlcHE3j4pupu9+I91PwYf7plMLig/ewwfsp5dZj8wD8hOyFSzPrjWqvdcptE+vMFAyZZr+T7bHSC7aDjyPq6e2lfpD6k/QlKjIeRfGD++L0e45Y1CPzHGVg8zmOE+XtPFhsf/AT+jQtQrAzfCPh9wp4i2QwA/Esjo3RF6Gj/ENOBQ+R7qPhCznGWxVPE+SDE8EU+egj88xJCxuDInP9pcGpKPAts+LsltZsEF6z491TfErLXYPn4izOTEOgQ/uooRAzwSMz+5S1yC81+dP2O6gsKnTCg/eJjN1dPjPz/hujF22WIdP+WDv4u68ZM/LVBTnacQ0z6ZH0xtvj1BP2qlizrsD+w+yIlPZ4v18T5jNZevbkQVP7+wa/LPNT0/cKEqXilSdD+HGerC0dXhPkryBjnNZnA/fhwrH33sBz/Ao/i6lx+fPygNh6XF6tE+VPZhxKGf4D5y9oQbTOr8PjPTG1aj2DM/6Zi27VsWCD93OzGI/o9DPwhHMQikOMU+4aYHbQ+s0j5lDu5Kp/XhPsGv1/X/W/U+mKoz5Vc+6T683Mph4qf1Pm5x4hl+a7s+RIhXsT3p4z6tX+xllHurP5umGNzsadQ+EWC21tEXLz8O1FrxeLshP1CfshPmr4Q/1/EHH09rHD9QMtgVKk9FP+7nRXixfS4/j1gNkdpTXT+QpMXySiFFP3y2D2d/Xeo+ZkXpZEv6jT9nddkYq/krP+c6R5mU1ec+nBkleI8SKz+75foWXF7CPr3GtnU1a5w+0BICUEwV+z4YmxHV7IpFP9gv1r9BZDA/Fan1HlMyFT/ZQYC+gT7RPgdyvDC9evo+2hcymSE17T7w5ZzyEKmsPnSoVAx5CLQ+92CWwAHlEj+4Z5wg3LExP1ld1rdd9fw+2g6h9YTE5D7nUt5T0yv3PpDfXIos7uQ+mhHUuAbdtD428IRIetcAP1Upjj1MgCI/om+TfxZ25z7KmyQo9vbwPsNzqfNQqNI+RjXBTQU9Vz/708Uz8VD2PvZNHrfomNU+khOeM70Z5z78fO4NkvWqPqAkCZqrfwQ/yzphbmeZ3T6Pmy8IuNh2PhjZ6gl/SfQ+g1nCOEpbpT8u8B4U0RmFP/TH2vq5KeA+kYALuOL8IT8qKRjnQpoBP4LOT27aiUI/vKQ4Yabg9j5yMj9ExgkAP3wmmCQII7Q/K8r/+wcExz42SXejuJ0OP8CrILqLRfM+9ZfpU6I24T4f5SubYVDiPs9e0ldlJ9U+hj+ewNiNAz816e99hAHePqwxxcI7FNk+RoR7IXyosT45rbWhQT7sPoehaumffRE/eNZihN4BuD59KAFD6+TWPurwYFaPgPA+0YDfJJ+41D6WvW8I0TzvPriw3DhKvrk/Vm0Mo+po9D6Kjxo7yksAP5v6hHEKiRw/xGg1vBTC4z6/lPALjmBhP+6Jv2XDy9M+i5sRq68V0z7bWtoBLkDVPuxtXDi6ilE/ekNDBbiMUD8bDmApcKnkPnpDQwW4jFA/T6v8ir6FcT+PpPcVk8HcPlor9CUo4uw+15j5xKgO8z7k66IyYpsrP6sg48UZzZE/rRUfyy/mXj/It8W1cbMCP7REtqoIv7o+dWqPzNPI8D6YRvIV+IvsPmrMMqxthps+Gw5UWrivAj8jaVq+103vPpubDoNU5gI/5Pds9YtY8z5xb80DoKP6PgfZcP2pZMA+iirv8H3inz+UzYNAomHrPuLWzRFFQag+QFZaGS7D9T6ibFc7wlYqPyMwTKxCq00/KMFsei9V8D6xea5Mu7ELP7JfNdwD1bM+fja4QLVnFj8Lko001y75PnpDQwW4jFA/YPWlPLqwjz8aiAbhOm0NP8wjSmHfDjA/sNggyQ6mbz+tHcn0sfjNPpcn8MEuvfg+Y6xly1DL9T5/YchLzJvSPmRjNDD6ZuQ+JBhnf9TiPD8gof8PEdNJP5zTLIUWO1A/nEPLLlmOkj+JwbXT6ltAP1hseRLlWPg+H8ZSq37GDz9ls63LsJmePzi4r4Xmwzo/7ARGD7NoEz9jAAG9/agqPxgklPhDcBs/S/YcU3ow0D4VmXb59GfVPlY5wYK7cxI/w+lGFrPm8T6YkizpGcYTPzLjHxJSxx8/8bDGPwewhD9cofnStK4wP6T0YBN//LI+IDF0UK89zD6rSTdTixSDPvtFfmC/eho/RW+UnMLjUD+Bx4Ui5e/5PhHCato3k1I/ekNDBbiMUD/7RX5gv3oaP7NFSRg5quM+AAAAAAAA8D96Q0MFuIxQPwcccQq4jGA/OcIUhBWh7z6pGh9y7ThQP37YbI3H6d4+Qg7lzWlkgT4=\",\"dtype\":\"float64\",\"order\":\"little\",\"shape\":[532]}},\"selected\":{\"id\":\"2993\"},\"selection_policy\":{\"id\":\"3009\"}},\"id\":\"2992\",\"type\":\"ColumnDataSource\"},{\"attributes\":{},\"id\":\"2983\",\"type\":\"ResetTool\"},{\"attributes\":{\"text\":\"\",\"text_color\":{\"value\":\"black\"},\"text_font_size\":{\"value\":\"12pt\"}},\"id\":\"2963\",\"type\":\"Title\"},{\"attributes\":{},\"id\":\"2981\",\"type\":\"WheelZoomTool\"},{\"attributes\":{\"margin\":[5,5,5,5],\"name\":\"HSpacer05083\",\"sizing_mode\":\"stretch_width\"},\"id\":\"3020\",\"type\":\"Spacer\"},{\"attributes\":{\"margin\":[5,5,5,5],\"name\":\"HSpacer05082\",\"sizing_mode\":\"stretch_width\"},\"id\":\"2958\",\"type\":\"Spacer\"},{\"attributes\":{\"overlay\":{\"id\":\"2984\"}},\"id\":\"2982\",\"type\":\"BoxZoomTool\"},{\"attributes\":{},\"id\":\"3009\",\"type\":\"UnionRenderers\"},{\"attributes\":{\"fill_alpha\":{\"value\":0.1},\"fill_color\":{\"value\":\"#1f77b3\"},\"line_alpha\":{\"value\":0.1},\"line_color\":{\"value\":\"#1f77b3\"},\"size\":{\"units\":\"screen\",\"value\":5.477225575051661},\"x\":{\"field\":\"TotalCoinsMined\"},\"y\":{\"field\":\"TotalCoinSupply\"}},\"id\":\"2996\",\"type\":\"Scatter\"},{\"attributes\":{},\"id\":\"2967\",\"type\":\"LinearScale\"},{\"attributes\":{\"callback\":null,\"renderers\":[{\"id\":\"2998\"}],\"tags\":[\"hv_created\"],\"tooltips\":[[\"TotalCoinsMined\",\"@{TotalCoinsMined}\"],[\"TotalCoinSupply\",\"@{TotalCoinSupply}\"],[\"CoinName\",\"@{CoinName}\"]]},\"id\":\"2961\",\"type\":\"HoverTool\"},{\"attributes\":{\"axis_label\":\"TotalCoinsMined\",\"bounds\":\"auto\",\"formatter\":{\"id\":\"3001\"},\"major_label_orientation\":\"horizontal\",\"ticker\":{\"id\":\"2972\"}},\"id\":\"2971\",\"type\":\"LinearAxis\"},{\"attributes\":{\"bottom_units\":\"screen\",\"fill_alpha\":0.5,\"fill_color\":\"lightgrey\",\"left_units\":\"screen\",\"level\":\"overlay\",\"line_alpha\":1.0,\"line_color\":\"black\",\"line_dash\":[4,4],\"line_width\":2,\"right_units\":\"screen\",\"top_units\":\"screen\"},\"id\":\"2984\",\"type\":\"BoxAnnotation\"},{\"attributes\":{},\"id\":\"2969\",\"type\":\"LinearScale\"},{\"attributes\":{},\"id\":\"2972\",\"type\":\"BasicTicker\"},{\"attributes\":{\"end\":1.042857142857143,\"reset_end\":1.042857142857143,\"reset_start\":-0.04285714285714286,\"start\":-0.04285714285714286,\"tags\":[[[\"TotalCoinsMined\",\"TotalCoinsMined\",null]]]},\"id\":\"2959\",\"type\":\"Range1d\"},{\"attributes\":{\"fill_color\":{\"value\":\"#1f77b3\"},\"line_color\":{\"value\":\"#1f77b3\"},\"size\":{\"units\":\"screen\",\"value\":5.477225575051661},\"x\":{\"field\":\"TotalCoinsMined\"},\"y\":{\"field\":\"TotalCoinSupply\"}},\"id\":\"2995\",\"type\":\"Scatter\"},{\"attributes\":{\"axis\":{\"id\":\"2971\"},\"grid_line_color\":null,\"ticker\":null},\"id\":\"2974\",\"type\":\"Grid\"},{\"attributes\":{},\"id\":\"2993\",\"type\":\"Selection\"},{\"attributes\":{},\"id\":\"3003\",\"type\":\"BasicTickFormatter\"},{\"attributes\":{\"axis\":{\"id\":\"2975\"},\"dimension\":1,\"grid_line_color\":null,\"ticker\":null},\"id\":\"2978\",\"type\":\"Grid\"},{\"attributes\":{\"axis_label\":\"TotalCoinSupply\",\"bounds\":\"auto\",\"formatter\":{\"id\":\"3003\"},\"major_label_orientation\":\"horizontal\",\"ticker\":{\"id\":\"2976\"}},\"id\":\"2975\",\"type\":\"LinearAxis\"},{\"attributes\":{\"data_source\":{\"id\":\"2992\"},\"glyph\":{\"id\":\"2995\"},\"hover_glyph\":null,\"muted_glyph\":{\"id\":\"2997\"},\"nonselection_glyph\":{\"id\":\"2996\"},\"selection_glyph\":null,\"view\":{\"id\":\"2999\"}},\"id\":\"2998\",\"type\":\"GlyphRenderer\"}],\"root_ids\":[\"2957\"]},\"title\":\"Bokeh Application\",\"version\":\"2.2.3\"}};\n",
       "    var render_items = [{\"docid\":\"8a35b176-db01-49a1-9fde-7fc3d92a687b\",\"root_ids\":[\"2957\"],\"roots\":{\"2957\":\"cd225a41-83a2-453f-8a88-9bbb0a4e8889\"}}];\n",
       "    root.Bokeh.embed.embed_items_notebook(docs_json, render_items);\n",
       "  }\n",
       "  if (root.Bokeh !== undefined && root.Bokeh.Panel !== undefined) {\n",
       "    embed_document(root);\n",
       "  } else {\n",
       "    var attempts = 0;\n",
       "    var timer = setInterval(function(root) {\n",
       "      if (root.Bokeh !== undefined && root.Bokeh.Panel !== undefined) {\n",
       "        clearInterval(timer);\n",
       "        embed_document(root);\n",
       "      } else if (document.readyState == \"complete\") {\n",
       "        attempts++;\n",
       "        if (attempts > 100) {\n",
       "          clearInterval(timer);\n",
       "          console.log(\"Bokeh: ERROR: Unable to run BokehJS code because BokehJS library is missing\");\n",
       "        }\n",
       "      }\n",
       "    }, 10, root)\n",
       "  }\n",
       "})(window);</script>"
      ],
      "text/plain": [
       ":Scatter   [TotalCoinsMined]   (TotalCoinSupply,CoinName)"
      ]
     },
     "execution_count": 228,
     "metadata": {
      "application/vnd.holoviews_exec.v0+json": {
       "id": "2957"
      }
     },
     "output_type": "execute_result"
    }
   ],
   "source": [
    "# Plotting the scatter with x=\"TotalCoinsMined\" and y=\"TotalCoinSupply\"\n",
    "scaled_data.hvplot.scatter(\n",
    "    x=\"TotalCoinsMined\",\n",
    "    y=\"TotalCoinSupply\",\n",
    "    hover_cols=[\"CoinName\"]\n",
    ")"
   ]
  },
  {
   "cell_type": "code",
   "execution_count": null,
   "metadata": {},
   "outputs": [],
   "source": []
  }
 ],
 "metadata": {
  "file_extension": ".py",
  "kernelspec": {
   "display_name": "Python [conda env:pyvizenv] *",
   "language": "python",
   "name": "conda-env-pyvizenv-py"
  },
  "language_info": {
   "codemirror_mode": {
    "name": "ipython",
    "version": 3
   },
   "file_extension": ".py",
   "mimetype": "text/x-python",
   "name": "python",
   "nbconvert_exporter": "python",
   "pygments_lexer": "ipython3",
   "version": "3.7.7"
  },
  "mimetype": "text/x-python",
  "name": "python",
  "npconvert_exporter": "python",
  "pygments_lexer": "ipython3",
  "version": 3
 },
 "nbformat": 4,
 "nbformat_minor": 4
}
