{
 "cells": [
  {
   "cell_type": "markdown",
   "metadata": {},
   "source": [
    "# Clustering Crypto"
   ]
  },
  {
   "cell_type": "code",
   "execution_count": 100,
   "metadata": {
    "scrolled": true
   },
   "outputs": [],
   "source": [
    "# Initial imports\n",
    "import requests\n",
    "import numpy as np\n",
    "from pathlib import Path\n",
    "import pandas as pd\n",
    "import matplotlib.pyplot as plt\n",
    "import hvplot.pandas\n",
    "import plotly.express as px\n",
    "from sklearn.preprocessing import StandardScaler, MinMaxScaler\n",
    "from sklearn.decomposition import PCA\n",
    "from sklearn.cluster import KMeans"
   ]
  },
  {
   "cell_type": "markdown",
   "metadata": {},
   "source": [
    "### Fetching Cryptocurrency Data"
   ]
  },
  {
   "cell_type": "code",
   "execution_count": 101,
   "metadata": {},
   "outputs": [],
   "source": [
    "# Fetching coin data from CryptoCompare\n",
    "#url = \"https://min-api.cryptocompare.com/data/all/coinlist\"\n",
    "#response = requests.get(url)\n",
    "#data = response.json()"
   ]
  },
  {
   "cell_type": "code",
   "execution_count": 102,
   "metadata": {},
   "outputs": [],
   "source": [
    "# Creating a DataFrame from raw data\n",
    "#raw_data = data['Data']\n",
    "#crypto_df = pd.DataFrame.from_dict(raw_data).T"
   ]
  },
  {
   "cell_type": "code",
   "execution_count": 103,
   "metadata": {},
   "outputs": [],
   "source": [
    " # Alternatively, use the provided csv file:\n",
    "file_path = Path(\"Resources/crypto_data.csv\")\n",
    "\n",
    "# Create a DataFrame\n",
    "crypto_df = pd.read_csv(file_path, index_col=0)"
   ]
  },
  {
   "cell_type": "markdown",
   "metadata": {},
   "source": [
    "### Data Preprocessing"
   ]
  },
  {
   "cell_type": "code",
   "execution_count": 104,
   "metadata": {},
   "outputs": [],
   "source": [
    "# Keep only necessary columns:\n",
    "# 'CoinName','Algorithm','IsTrading','ProofType','TotalCoinsMined','TotalCoinSupply'\n",
    "crypto_df = crypto_df[['CoinName','Algorithm','IsTrading','ProofType','TotalCoinsMined','TotalCoinSupply']]\n",
    "crypto_df[\"TotalCoinSupply\"] = crypto_df[\"TotalCoinSupply\"].str.replace(\" \",\"\")\n",
    "crypto_df[\"TotalCoinSupply\"] = crypto_df[\"TotalCoinSupply\"].str.replace(\"10.500.000\",\"10500000\")\n",
    "crypto_df[\"TotalCoinSupply\"] = crypto_df[\"TotalCoinSupply\"].str.replace(\"1.000.000\",\"1000000\")\n",
    "crypto_df = crypto_df[crypto_df[\"CoinName\"] != 'BitTorrent']\n",
    "crypto_df[\"TotalCoinSupply\"] = crypto_df[\"TotalCoinSupply\"].astype(float)"
   ]
  },
  {
   "cell_type": "code",
   "execution_count": 105,
   "metadata": {},
   "outputs": [
    {
     "data": {
      "text/html": [
       "<div>\n",
       "<style scoped>\n",
       "    .dataframe tbody tr th:only-of-type {\n",
       "        vertical-align: middle;\n",
       "    }\n",
       "\n",
       "    .dataframe tbody tr th {\n",
       "        vertical-align: top;\n",
       "    }\n",
       "\n",
       "    .dataframe thead th {\n",
       "        text-align: right;\n",
       "    }\n",
       "</style>\n",
       "<table border=\"1\" class=\"dataframe\">\n",
       "  <thead>\n",
       "    <tr style=\"text-align: right;\">\n",
       "      <th></th>\n",
       "      <th>CoinName</th>\n",
       "      <th>Algorithm</th>\n",
       "      <th>IsTrading</th>\n",
       "      <th>ProofType</th>\n",
       "      <th>TotalCoinsMined</th>\n",
       "      <th>TotalCoinSupply</th>\n",
       "    </tr>\n",
       "  </thead>\n",
       "  <tbody>\n",
       "    <tr>\n",
       "      <th>42</th>\n",
       "      <td>42 Coin</td>\n",
       "      <td>Scrypt</td>\n",
       "      <td>True</td>\n",
       "      <td>PoW/PoS</td>\n",
       "      <td>4.199995e+01</td>\n",
       "      <td>4.200000e+01</td>\n",
       "    </tr>\n",
       "    <tr>\n",
       "      <th>365</th>\n",
       "      <td>365Coin</td>\n",
       "      <td>X11</td>\n",
       "      <td>True</td>\n",
       "      <td>PoW/PoS</td>\n",
       "      <td>NaN</td>\n",
       "      <td>2.300000e+09</td>\n",
       "    </tr>\n",
       "    <tr>\n",
       "      <th>404</th>\n",
       "      <td>404Coin</td>\n",
       "      <td>Scrypt</td>\n",
       "      <td>True</td>\n",
       "      <td>PoW/PoS</td>\n",
       "      <td>1.055185e+09</td>\n",
       "      <td>5.320000e+08</td>\n",
       "    </tr>\n",
       "    <tr>\n",
       "      <th>611</th>\n",
       "      <td>SixEleven</td>\n",
       "      <td>SHA-256</td>\n",
       "      <td>True</td>\n",
       "      <td>PoW</td>\n",
       "      <td>NaN</td>\n",
       "      <td>6.110000e+05</td>\n",
       "    </tr>\n",
       "    <tr>\n",
       "      <th>808</th>\n",
       "      <td>808</td>\n",
       "      <td>SHA-256</td>\n",
       "      <td>True</td>\n",
       "      <td>PoW/PoS</td>\n",
       "      <td>0.000000e+00</td>\n",
       "      <td>0.000000e+00</td>\n",
       "    </tr>\n",
       "  </tbody>\n",
       "</table>\n",
       "</div>"
      ],
      "text/plain": [
       "      CoinName Algorithm  IsTrading ProofType  TotalCoinsMined  \\\n",
       "42     42 Coin    Scrypt       True   PoW/PoS     4.199995e+01   \n",
       "365    365Coin       X11       True   PoW/PoS              NaN   \n",
       "404    404Coin    Scrypt       True   PoW/PoS     1.055185e+09   \n",
       "611  SixEleven   SHA-256       True       PoW              NaN   \n",
       "808        808   SHA-256       True   PoW/PoS     0.000000e+00   \n",
       "\n",
       "     TotalCoinSupply  \n",
       "42      4.200000e+01  \n",
       "365     2.300000e+09  \n",
       "404     5.320000e+08  \n",
       "611     6.110000e+05  \n",
       "808     0.000000e+00  "
      ]
     },
     "execution_count": 105,
     "metadata": {},
     "output_type": "execute_result"
    }
   ],
   "source": [
    "# Keep only cryptocurrencies that are trading\n",
    "crypto_df = crypto_df[crypto_df['IsTrading'] == True] \n",
    "crypto_df.head()"
   ]
  },
  {
   "cell_type": "code",
   "execution_count": 106,
   "metadata": {},
   "outputs": [
    {
     "data": {
      "text/html": [
       "<div>\n",
       "<style scoped>\n",
       "    .dataframe tbody tr th:only-of-type {\n",
       "        vertical-align: middle;\n",
       "    }\n",
       "\n",
       "    .dataframe tbody tr th {\n",
       "        vertical-align: top;\n",
       "    }\n",
       "\n",
       "    .dataframe thead th {\n",
       "        text-align: right;\n",
       "    }\n",
       "</style>\n",
       "<table border=\"1\" class=\"dataframe\">\n",
       "  <thead>\n",
       "    <tr style=\"text-align: right;\">\n",
       "      <th></th>\n",
       "      <th>CoinName</th>\n",
       "      <th>Algorithm</th>\n",
       "      <th>IsTrading</th>\n",
       "      <th>ProofType</th>\n",
       "      <th>TotalCoinsMined</th>\n",
       "      <th>TotalCoinSupply</th>\n",
       "    </tr>\n",
       "  </thead>\n",
       "  <tbody>\n",
       "    <tr>\n",
       "      <th>42</th>\n",
       "      <td>42 Coin</td>\n",
       "      <td>Scrypt</td>\n",
       "      <td>True</td>\n",
       "      <td>PoW/PoS</td>\n",
       "      <td>4.199995e+01</td>\n",
       "      <td>4.200000e+01</td>\n",
       "    </tr>\n",
       "    <tr>\n",
       "      <th>365</th>\n",
       "      <td>365Coin</td>\n",
       "      <td>X11</td>\n",
       "      <td>True</td>\n",
       "      <td>PoW/PoS</td>\n",
       "      <td>NaN</td>\n",
       "      <td>2.300000e+09</td>\n",
       "    </tr>\n",
       "    <tr>\n",
       "      <th>404</th>\n",
       "      <td>404Coin</td>\n",
       "      <td>Scrypt</td>\n",
       "      <td>True</td>\n",
       "      <td>PoW/PoS</td>\n",
       "      <td>1.055185e+09</td>\n",
       "      <td>5.320000e+08</td>\n",
       "    </tr>\n",
       "    <tr>\n",
       "      <th>611</th>\n",
       "      <td>SixEleven</td>\n",
       "      <td>SHA-256</td>\n",
       "      <td>True</td>\n",
       "      <td>PoW</td>\n",
       "      <td>NaN</td>\n",
       "      <td>6.110000e+05</td>\n",
       "    </tr>\n",
       "    <tr>\n",
       "      <th>808</th>\n",
       "      <td>808</td>\n",
       "      <td>SHA-256</td>\n",
       "      <td>True</td>\n",
       "      <td>PoW/PoS</td>\n",
       "      <td>0.000000e+00</td>\n",
       "      <td>0.000000e+00</td>\n",
       "    </tr>\n",
       "  </tbody>\n",
       "</table>\n",
       "</div>"
      ],
      "text/plain": [
       "      CoinName Algorithm  IsTrading ProofType  TotalCoinsMined  \\\n",
       "42     42 Coin    Scrypt       True   PoW/PoS     4.199995e+01   \n",
       "365    365Coin       X11       True   PoW/PoS              NaN   \n",
       "404    404Coin    Scrypt       True   PoW/PoS     1.055185e+09   \n",
       "611  SixEleven   SHA-256       True       PoW              NaN   \n",
       "808        808   SHA-256       True   PoW/PoS     0.000000e+00   \n",
       "\n",
       "     TotalCoinSupply  \n",
       "42      4.200000e+01  \n",
       "365     2.300000e+09  \n",
       "404     5.320000e+08  \n",
       "611     6.110000e+05  \n",
       "808     0.000000e+00  "
      ]
     },
     "execution_count": 106,
     "metadata": {},
     "output_type": "execute_result"
    }
   ],
   "source": [
    "# Keep only cryptocurrencies with a working algorithm\n",
    "crypto_df = crypto_df[crypto_df['Algorithm'] != 'N/A']\n",
    "crypto_df.head()"
   ]
  },
  {
   "cell_type": "code",
   "execution_count": 107,
   "metadata": {},
   "outputs": [
    {
     "data": {
      "text/html": [
       "<div>\n",
       "<style scoped>\n",
       "    .dataframe tbody tr th:only-of-type {\n",
       "        vertical-align: middle;\n",
       "    }\n",
       "\n",
       "    .dataframe tbody tr th {\n",
       "        vertical-align: top;\n",
       "    }\n",
       "\n",
       "    .dataframe thead th {\n",
       "        text-align: right;\n",
       "    }\n",
       "</style>\n",
       "<table border=\"1\" class=\"dataframe\">\n",
       "  <thead>\n",
       "    <tr style=\"text-align: right;\">\n",
       "      <th></th>\n",
       "      <th>CoinName</th>\n",
       "      <th>Algorithm</th>\n",
       "      <th>ProofType</th>\n",
       "      <th>TotalCoinsMined</th>\n",
       "      <th>TotalCoinSupply</th>\n",
       "    </tr>\n",
       "  </thead>\n",
       "  <tbody>\n",
       "    <tr>\n",
       "      <th>42</th>\n",
       "      <td>42 Coin</td>\n",
       "      <td>Scrypt</td>\n",
       "      <td>PoW/PoS</td>\n",
       "      <td>4.199995e+01</td>\n",
       "      <td>4.200000e+01</td>\n",
       "    </tr>\n",
       "    <tr>\n",
       "      <th>365</th>\n",
       "      <td>365Coin</td>\n",
       "      <td>X11</td>\n",
       "      <td>PoW/PoS</td>\n",
       "      <td>NaN</td>\n",
       "      <td>2.300000e+09</td>\n",
       "    </tr>\n",
       "    <tr>\n",
       "      <th>404</th>\n",
       "      <td>404Coin</td>\n",
       "      <td>Scrypt</td>\n",
       "      <td>PoW/PoS</td>\n",
       "      <td>1.055185e+09</td>\n",
       "      <td>5.320000e+08</td>\n",
       "    </tr>\n",
       "    <tr>\n",
       "      <th>611</th>\n",
       "      <td>SixEleven</td>\n",
       "      <td>SHA-256</td>\n",
       "      <td>PoW</td>\n",
       "      <td>NaN</td>\n",
       "      <td>6.110000e+05</td>\n",
       "    </tr>\n",
       "    <tr>\n",
       "      <th>808</th>\n",
       "      <td>808</td>\n",
       "      <td>SHA-256</td>\n",
       "      <td>PoW/PoS</td>\n",
       "      <td>0.000000e+00</td>\n",
       "      <td>0.000000e+00</td>\n",
       "    </tr>\n",
       "  </tbody>\n",
       "</table>\n",
       "</div>"
      ],
      "text/plain": [
       "      CoinName Algorithm ProofType  TotalCoinsMined  TotalCoinSupply\n",
       "42     42 Coin    Scrypt   PoW/PoS     4.199995e+01     4.200000e+01\n",
       "365    365Coin       X11   PoW/PoS              NaN     2.300000e+09\n",
       "404    404Coin    Scrypt   PoW/PoS     1.055185e+09     5.320000e+08\n",
       "611  SixEleven   SHA-256       PoW              NaN     6.110000e+05\n",
       "808        808   SHA-256   PoW/PoS     0.000000e+00     0.000000e+00"
      ]
     },
     "execution_count": 107,
     "metadata": {},
     "output_type": "execute_result"
    }
   ],
   "source": [
    "# Remove the \"IsTrading\" column\n",
    "crypto_df = crypto_df.drop(\"IsTrading\", 1)\n",
    "crypto_df.head()"
   ]
  },
  {
   "cell_type": "code",
   "execution_count": 108,
   "metadata": {},
   "outputs": [
    {
     "data": {
      "text/html": [
       "<div>\n",
       "<style scoped>\n",
       "    .dataframe tbody tr th:only-of-type {\n",
       "        vertical-align: middle;\n",
       "    }\n",
       "\n",
       "    .dataframe tbody tr th {\n",
       "        vertical-align: top;\n",
       "    }\n",
       "\n",
       "    .dataframe thead th {\n",
       "        text-align: right;\n",
       "    }\n",
       "</style>\n",
       "<table border=\"1\" class=\"dataframe\">\n",
       "  <thead>\n",
       "    <tr style=\"text-align: right;\">\n",
       "      <th></th>\n",
       "      <th>CoinName</th>\n",
       "      <th>Algorithm</th>\n",
       "      <th>ProofType</th>\n",
       "      <th>TotalCoinsMined</th>\n",
       "      <th>TotalCoinSupply</th>\n",
       "    </tr>\n",
       "  </thead>\n",
       "  <tbody>\n",
       "    <tr>\n",
       "      <th>42</th>\n",
       "      <td>42 Coin</td>\n",
       "      <td>Scrypt</td>\n",
       "      <td>PoW/PoS</td>\n",
       "      <td>4.199995e+01</td>\n",
       "      <td>4.200000e+01</td>\n",
       "    </tr>\n",
       "    <tr>\n",
       "      <th>365</th>\n",
       "      <td>365Coin</td>\n",
       "      <td>X11</td>\n",
       "      <td>PoW/PoS</td>\n",
       "      <td>NaN</td>\n",
       "      <td>2.300000e+09</td>\n",
       "    </tr>\n",
       "    <tr>\n",
       "      <th>404</th>\n",
       "      <td>404Coin</td>\n",
       "      <td>Scrypt</td>\n",
       "      <td>PoW/PoS</td>\n",
       "      <td>1.055185e+09</td>\n",
       "      <td>5.320000e+08</td>\n",
       "    </tr>\n",
       "    <tr>\n",
       "      <th>611</th>\n",
       "      <td>SixEleven</td>\n",
       "      <td>SHA-256</td>\n",
       "      <td>PoW</td>\n",
       "      <td>NaN</td>\n",
       "      <td>6.110000e+05</td>\n",
       "    </tr>\n",
       "    <tr>\n",
       "      <th>808</th>\n",
       "      <td>808</td>\n",
       "      <td>SHA-256</td>\n",
       "      <td>PoW/PoS</td>\n",
       "      <td>0.000000e+00</td>\n",
       "      <td>0.000000e+00</td>\n",
       "    </tr>\n",
       "  </tbody>\n",
       "</table>\n",
       "</div>"
      ],
      "text/plain": [
       "      CoinName Algorithm ProofType  TotalCoinsMined  TotalCoinSupply\n",
       "42     42 Coin    Scrypt   PoW/PoS     4.199995e+01     4.200000e+01\n",
       "365    365Coin       X11   PoW/PoS              NaN     2.300000e+09\n",
       "404    404Coin    Scrypt   PoW/PoS     1.055185e+09     5.320000e+08\n",
       "611  SixEleven   SHA-256       PoW              NaN     6.110000e+05\n",
       "808        808   SHA-256   PoW/PoS     0.000000e+00     0.000000e+00"
      ]
     },
     "execution_count": 108,
     "metadata": {},
     "output_type": "execute_result"
    }
   ],
   "source": [
    "# Remove rows with at least 1 null value\n",
    "crypto_df = crypto_df.dropna(thresh=1)\n",
    "crypto_df.head()"
   ]
  },
  {
   "cell_type": "code",
   "execution_count": 109,
   "metadata": {},
   "outputs": [
    {
     "data": {
      "text/html": [
       "<div>\n",
       "<style scoped>\n",
       "    .dataframe tbody tr th:only-of-type {\n",
       "        vertical-align: middle;\n",
       "    }\n",
       "\n",
       "    .dataframe tbody tr th {\n",
       "        vertical-align: top;\n",
       "    }\n",
       "\n",
       "    .dataframe thead th {\n",
       "        text-align: right;\n",
       "    }\n",
       "</style>\n",
       "<table border=\"1\" class=\"dataframe\">\n",
       "  <thead>\n",
       "    <tr style=\"text-align: right;\">\n",
       "      <th></th>\n",
       "      <th>CoinName</th>\n",
       "      <th>Algorithm</th>\n",
       "      <th>ProofType</th>\n",
       "      <th>TotalCoinsMined</th>\n",
       "      <th>TotalCoinSupply</th>\n",
       "    </tr>\n",
       "  </thead>\n",
       "  <tbody>\n",
       "    <tr>\n",
       "      <th>42</th>\n",
       "      <td>42 Coin</td>\n",
       "      <td>Scrypt</td>\n",
       "      <td>PoW/PoS</td>\n",
       "      <td>4.199995e+01</td>\n",
       "      <td>4.200000e+01</td>\n",
       "    </tr>\n",
       "    <tr>\n",
       "      <th>404</th>\n",
       "      <td>404Coin</td>\n",
       "      <td>Scrypt</td>\n",
       "      <td>PoW/PoS</td>\n",
       "      <td>1.055185e+09</td>\n",
       "      <td>5.320000e+08</td>\n",
       "    </tr>\n",
       "    <tr>\n",
       "      <th>1337</th>\n",
       "      <td>EliteCoin</td>\n",
       "      <td>X13</td>\n",
       "      <td>PoW/PoS</td>\n",
       "      <td>2.927942e+10</td>\n",
       "      <td>3.141593e+11</td>\n",
       "    </tr>\n",
       "    <tr>\n",
       "      <th>BTC</th>\n",
       "      <td>Bitcoin</td>\n",
       "      <td>SHA-256</td>\n",
       "      <td>PoW</td>\n",
       "      <td>1.792718e+07</td>\n",
       "      <td>2.100000e+07</td>\n",
       "    </tr>\n",
       "    <tr>\n",
       "      <th>ETH</th>\n",
       "      <td>Ethereum</td>\n",
       "      <td>Ethash</td>\n",
       "      <td>PoW</td>\n",
       "      <td>1.076842e+08</td>\n",
       "      <td>0.000000e+00</td>\n",
       "    </tr>\n",
       "  </tbody>\n",
       "</table>\n",
       "</div>"
      ],
      "text/plain": [
       "       CoinName Algorithm ProofType  TotalCoinsMined  TotalCoinSupply\n",
       "42      42 Coin    Scrypt   PoW/PoS     4.199995e+01     4.200000e+01\n",
       "404     404Coin    Scrypt   PoW/PoS     1.055185e+09     5.320000e+08\n",
       "1337  EliteCoin       X13   PoW/PoS     2.927942e+10     3.141593e+11\n",
       "BTC     Bitcoin   SHA-256       PoW     1.792718e+07     2.100000e+07\n",
       "ETH    Ethereum    Ethash       PoW     1.076842e+08     0.000000e+00"
      ]
     },
     "execution_count": 109,
     "metadata": {},
     "output_type": "execute_result"
    }
   ],
   "source": [
    "# Remove rows with cryptocurrencies having no coins mined\n",
    "crypto_df = crypto_df[crypto_df['TotalCoinsMined'] > 0]\n",
    "crypto_df.head()"
   ]
  },
  {
   "cell_type": "code",
   "execution_count": 110,
   "metadata": {},
   "outputs": [],
   "source": [
    "# Drop rows where there are 'N/A' text values\n",
    "crypto_df = crypto_df[(crypto_df != 'N/A').all(axis=1)]"
   ]
  },
  {
   "cell_type": "code",
   "execution_count": 111,
   "metadata": {},
   "outputs": [
    {
     "data": {
      "text/html": [
       "<div>\n",
       "<style scoped>\n",
       "    .dataframe tbody tr th:only-of-type {\n",
       "        vertical-align: middle;\n",
       "    }\n",
       "\n",
       "    .dataframe tbody tr th {\n",
       "        vertical-align: top;\n",
       "    }\n",
       "\n",
       "    .dataframe thead th {\n",
       "        text-align: right;\n",
       "    }\n",
       "</style>\n",
       "<table border=\"1\" class=\"dataframe\">\n",
       "  <thead>\n",
       "    <tr style=\"text-align: right;\">\n",
       "      <th></th>\n",
       "      <th>CoinName</th>\n",
       "    </tr>\n",
       "  </thead>\n",
       "  <tbody>\n",
       "    <tr>\n",
       "      <th>42</th>\n",
       "      <td>42 Coin</td>\n",
       "    </tr>\n",
       "    <tr>\n",
       "      <th>404</th>\n",
       "      <td>404Coin</td>\n",
       "    </tr>\n",
       "    <tr>\n",
       "      <th>1337</th>\n",
       "      <td>EliteCoin</td>\n",
       "    </tr>\n",
       "    <tr>\n",
       "      <th>BTC</th>\n",
       "      <td>Bitcoin</td>\n",
       "    </tr>\n",
       "    <tr>\n",
       "      <th>ETH</th>\n",
       "      <td>Ethereum</td>\n",
       "    </tr>\n",
       "  </tbody>\n",
       "</table>\n",
       "</div>"
      ],
      "text/plain": [
       "       CoinName\n",
       "42      42 Coin\n",
       "404     404Coin\n",
       "1337  EliteCoin\n",
       "BTC     Bitcoin\n",
       "ETH    Ethereum"
      ]
     },
     "execution_count": 111,
     "metadata": {},
     "output_type": "execute_result"
    }
   ],
   "source": [
    "# Store the 'CoinName'column in its own DataFrame prior to dropping it from crypto_df\n",
    "coins_name = crypto_df[[\"CoinName\"]]\n",
    "coins_name.head()"
   ]
  },
  {
   "cell_type": "code",
   "execution_count": 112,
   "metadata": {},
   "outputs": [
    {
     "data": {
      "text/html": [
       "<div>\n",
       "<style scoped>\n",
       "    .dataframe tbody tr th:only-of-type {\n",
       "        vertical-align: middle;\n",
       "    }\n",
       "\n",
       "    .dataframe tbody tr th {\n",
       "        vertical-align: top;\n",
       "    }\n",
       "\n",
       "    .dataframe thead th {\n",
       "        text-align: right;\n",
       "    }\n",
       "</style>\n",
       "<table border=\"1\" class=\"dataframe\">\n",
       "  <thead>\n",
       "    <tr style=\"text-align: right;\">\n",
       "      <th></th>\n",
       "      <th>Algorithm</th>\n",
       "      <th>ProofType</th>\n",
       "      <th>TotalCoinsMined</th>\n",
       "      <th>TotalCoinSupply</th>\n",
       "    </tr>\n",
       "  </thead>\n",
       "  <tbody>\n",
       "    <tr>\n",
       "      <th>42</th>\n",
       "      <td>Scrypt</td>\n",
       "      <td>PoW/PoS</td>\n",
       "      <td>4.199995e+01</td>\n",
       "      <td>4.200000e+01</td>\n",
       "    </tr>\n",
       "    <tr>\n",
       "      <th>404</th>\n",
       "      <td>Scrypt</td>\n",
       "      <td>PoW/PoS</td>\n",
       "      <td>1.055185e+09</td>\n",
       "      <td>5.320000e+08</td>\n",
       "    </tr>\n",
       "    <tr>\n",
       "      <th>1337</th>\n",
       "      <td>X13</td>\n",
       "      <td>PoW/PoS</td>\n",
       "      <td>2.927942e+10</td>\n",
       "      <td>3.141593e+11</td>\n",
       "    </tr>\n",
       "    <tr>\n",
       "      <th>BTC</th>\n",
       "      <td>SHA-256</td>\n",
       "      <td>PoW</td>\n",
       "      <td>1.792718e+07</td>\n",
       "      <td>2.100000e+07</td>\n",
       "    </tr>\n",
       "    <tr>\n",
       "      <th>ETH</th>\n",
       "      <td>Ethash</td>\n",
       "      <td>PoW</td>\n",
       "      <td>1.076842e+08</td>\n",
       "      <td>0.000000e+00</td>\n",
       "    </tr>\n",
       "  </tbody>\n",
       "</table>\n",
       "</div>"
      ],
      "text/plain": [
       "     Algorithm ProofType  TotalCoinsMined  TotalCoinSupply\n",
       "42      Scrypt   PoW/PoS     4.199995e+01     4.200000e+01\n",
       "404     Scrypt   PoW/PoS     1.055185e+09     5.320000e+08\n",
       "1337       X13   PoW/PoS     2.927942e+10     3.141593e+11\n",
       "BTC    SHA-256       PoW     1.792718e+07     2.100000e+07\n",
       "ETH     Ethash       PoW     1.076842e+08     0.000000e+00"
      ]
     },
     "execution_count": 112,
     "metadata": {},
     "output_type": "execute_result"
    }
   ],
   "source": [
    "# Drop the 'CoinName' column since it's not going to be used on the clustering algorithm\n",
    "crypto_df = crypto_df.drop(\"CoinName\", 1)\n",
    "crypto_df.head()"
   ]
  },
  {
   "cell_type": "code",
   "execution_count": 113,
   "metadata": {},
   "outputs": [
    {
     "data": {
      "text/html": [
       "<div>\n",
       "<style scoped>\n",
       "    .dataframe tbody tr th:only-of-type {\n",
       "        vertical-align: middle;\n",
       "    }\n",
       "\n",
       "    .dataframe tbody tr th {\n",
       "        vertical-align: top;\n",
       "    }\n",
       "\n",
       "    .dataframe thead th {\n",
       "        text-align: right;\n",
       "    }\n",
       "</style>\n",
       "<table border=\"1\" class=\"dataframe\">\n",
       "  <thead>\n",
       "    <tr style=\"text-align: right;\">\n",
       "      <th></th>\n",
       "      <th>TotalCoinsMined</th>\n",
       "      <th>TotalCoinSupply</th>\n",
       "      <th>Algorithm_1GB AES Pattern Search</th>\n",
       "      <th>Algorithm_536</th>\n",
       "      <th>Algorithm_Argon2d</th>\n",
       "      <th>Algorithm_BLAKE256</th>\n",
       "      <th>Algorithm_Blake</th>\n",
       "      <th>Algorithm_Blake2S</th>\n",
       "      <th>Algorithm_Blake2b</th>\n",
       "      <th>Algorithm_C11</th>\n",
       "      <th>...</th>\n",
       "      <th>ProofType_PoW/PoS</th>\n",
       "      <th>ProofType_PoW/PoS</th>\n",
       "      <th>ProofType_PoW/PoW</th>\n",
       "      <th>ProofType_PoW/nPoS</th>\n",
       "      <th>ProofType_Pos</th>\n",
       "      <th>ProofType_Proof of Authority</th>\n",
       "      <th>ProofType_Proof of Trust</th>\n",
       "      <th>ProofType_TPoS</th>\n",
       "      <th>ProofType_Zero-Knowledge Proof</th>\n",
       "      <th>ProofType_dPoW/PoW</th>\n",
       "    </tr>\n",
       "  </thead>\n",
       "  <tbody>\n",
       "    <tr>\n",
       "      <th>42</th>\n",
       "      <td>4.199995e+01</td>\n",
       "      <td>4.200000e+01</td>\n",
       "      <td>0</td>\n",
       "      <td>0</td>\n",
       "      <td>0</td>\n",
       "      <td>0</td>\n",
       "      <td>0</td>\n",
       "      <td>0</td>\n",
       "      <td>0</td>\n",
       "      <td>0</td>\n",
       "      <td>...</td>\n",
       "      <td>1</td>\n",
       "      <td>0</td>\n",
       "      <td>0</td>\n",
       "      <td>0</td>\n",
       "      <td>0</td>\n",
       "      <td>0</td>\n",
       "      <td>0</td>\n",
       "      <td>0</td>\n",
       "      <td>0</td>\n",
       "      <td>0</td>\n",
       "    </tr>\n",
       "    <tr>\n",
       "      <th>404</th>\n",
       "      <td>1.055185e+09</td>\n",
       "      <td>5.320000e+08</td>\n",
       "      <td>0</td>\n",
       "      <td>0</td>\n",
       "      <td>0</td>\n",
       "      <td>0</td>\n",
       "      <td>0</td>\n",
       "      <td>0</td>\n",
       "      <td>0</td>\n",
       "      <td>0</td>\n",
       "      <td>...</td>\n",
       "      <td>1</td>\n",
       "      <td>0</td>\n",
       "      <td>0</td>\n",
       "      <td>0</td>\n",
       "      <td>0</td>\n",
       "      <td>0</td>\n",
       "      <td>0</td>\n",
       "      <td>0</td>\n",
       "      <td>0</td>\n",
       "      <td>0</td>\n",
       "    </tr>\n",
       "    <tr>\n",
       "      <th>1337</th>\n",
       "      <td>2.927942e+10</td>\n",
       "      <td>3.141593e+11</td>\n",
       "      <td>0</td>\n",
       "      <td>0</td>\n",
       "      <td>0</td>\n",
       "      <td>0</td>\n",
       "      <td>0</td>\n",
       "      <td>0</td>\n",
       "      <td>0</td>\n",
       "      <td>0</td>\n",
       "      <td>...</td>\n",
       "      <td>1</td>\n",
       "      <td>0</td>\n",
       "      <td>0</td>\n",
       "      <td>0</td>\n",
       "      <td>0</td>\n",
       "      <td>0</td>\n",
       "      <td>0</td>\n",
       "      <td>0</td>\n",
       "      <td>0</td>\n",
       "      <td>0</td>\n",
       "    </tr>\n",
       "    <tr>\n",
       "      <th>BTC</th>\n",
       "      <td>1.792718e+07</td>\n",
       "      <td>2.100000e+07</td>\n",
       "      <td>0</td>\n",
       "      <td>0</td>\n",
       "      <td>0</td>\n",
       "      <td>0</td>\n",
       "      <td>0</td>\n",
       "      <td>0</td>\n",
       "      <td>0</td>\n",
       "      <td>0</td>\n",
       "      <td>...</td>\n",
       "      <td>0</td>\n",
       "      <td>0</td>\n",
       "      <td>0</td>\n",
       "      <td>0</td>\n",
       "      <td>0</td>\n",
       "      <td>0</td>\n",
       "      <td>0</td>\n",
       "      <td>0</td>\n",
       "      <td>0</td>\n",
       "      <td>0</td>\n",
       "    </tr>\n",
       "    <tr>\n",
       "      <th>ETH</th>\n",
       "      <td>1.076842e+08</td>\n",
       "      <td>0.000000e+00</td>\n",
       "      <td>0</td>\n",
       "      <td>0</td>\n",
       "      <td>0</td>\n",
       "      <td>0</td>\n",
       "      <td>0</td>\n",
       "      <td>0</td>\n",
       "      <td>0</td>\n",
       "      <td>0</td>\n",
       "      <td>...</td>\n",
       "      <td>0</td>\n",
       "      <td>0</td>\n",
       "      <td>0</td>\n",
       "      <td>0</td>\n",
       "      <td>0</td>\n",
       "      <td>0</td>\n",
       "      <td>0</td>\n",
       "      <td>0</td>\n",
       "      <td>0</td>\n",
       "      <td>0</td>\n",
       "    </tr>\n",
       "  </tbody>\n",
       "</table>\n",
       "<p>5 rows × 97 columns</p>\n",
       "</div>"
      ],
      "text/plain": [
       "      TotalCoinsMined  TotalCoinSupply  Algorithm_1GB AES Pattern Search  \\\n",
       "42       4.199995e+01     4.200000e+01                                 0   \n",
       "404      1.055185e+09     5.320000e+08                                 0   \n",
       "1337     2.927942e+10     3.141593e+11                                 0   \n",
       "BTC      1.792718e+07     2.100000e+07                                 0   \n",
       "ETH      1.076842e+08     0.000000e+00                                 0   \n",
       "\n",
       "      Algorithm_536  Algorithm_Argon2d  Algorithm_BLAKE256  Algorithm_Blake  \\\n",
       "42                0                  0                   0                0   \n",
       "404               0                  0                   0                0   \n",
       "1337              0                  0                   0                0   \n",
       "BTC               0                  0                   0                0   \n",
       "ETH               0                  0                   0                0   \n",
       "\n",
       "      Algorithm_Blake2S  Algorithm_Blake2b  Algorithm_C11  ...  \\\n",
       "42                    0                  0              0  ...   \n",
       "404                   0                  0              0  ...   \n",
       "1337                  0                  0              0  ...   \n",
       "BTC                   0                  0              0  ...   \n",
       "ETH                   0                  0              0  ...   \n",
       "\n",
       "      ProofType_PoW/PoS  ProofType_PoW/PoS   ProofType_PoW/PoW  \\\n",
       "42                    1                   0                  0   \n",
       "404                   1                   0                  0   \n",
       "1337                  1                   0                  0   \n",
       "BTC                   0                   0                  0   \n",
       "ETH                   0                   0                  0   \n",
       "\n",
       "      ProofType_PoW/nPoS  ProofType_Pos  ProofType_Proof of Authority  \\\n",
       "42                     0              0                             0   \n",
       "404                    0              0                             0   \n",
       "1337                   0              0                             0   \n",
       "BTC                    0              0                             0   \n",
       "ETH                    0              0                             0   \n",
       "\n",
       "      ProofType_Proof of Trust  ProofType_TPoS  \\\n",
       "42                           0               0   \n",
       "404                          0               0   \n",
       "1337                         0               0   \n",
       "BTC                          0               0   \n",
       "ETH                          0               0   \n",
       "\n",
       "      ProofType_Zero-Knowledge Proof  ProofType_dPoW/PoW  \n",
       "42                                 0                   0  \n",
       "404                                0                   0  \n",
       "1337                               0                   0  \n",
       "BTC                                0                   0  \n",
       "ETH                                0                   0  \n",
       "\n",
       "[5 rows x 97 columns]"
      ]
     },
     "execution_count": 113,
     "metadata": {},
     "output_type": "execute_result"
    }
   ],
   "source": [
    "# Create dummy variables for text features\n",
    "X = pd.get_dummies(crypto_df)\n",
    "X.head()"
   ]
  },
  {
   "cell_type": "code",
   "execution_count": 114,
   "metadata": {},
   "outputs": [],
   "source": [
    "# Standardize data\n",
    "from sklearn.preprocessing import StandardScaler\n",
    "\n",
    "X_scaled = StandardScaler().fit_transform(X)"
   ]
  },
  {
   "cell_type": "markdown",
   "metadata": {},
   "source": [
    "### Reducing Dimensions Using PCA"
   ]
  },
  {
   "cell_type": "code",
   "execution_count": 115,
   "metadata": {},
   "outputs": [],
   "source": [
    "# Use PCA to reduce dimensions to 3 principal components\n",
    "pca = PCA(n_components=3)\n",
    "crypto_pca = pca.fit_transform(X_scaled)"
   ]
  },
  {
   "cell_type": "code",
   "execution_count": 116,
   "metadata": {},
   "outputs": [
    {
     "data": {
      "text/html": [
       "<div>\n",
       "<style scoped>\n",
       "    .dataframe tbody tr th:only-of-type {\n",
       "        vertical-align: middle;\n",
       "    }\n",
       "\n",
       "    .dataframe tbody tr th {\n",
       "        vertical-align: top;\n",
       "    }\n",
       "\n",
       "    .dataframe thead th {\n",
       "        text-align: right;\n",
       "    }\n",
       "</style>\n",
       "<table border=\"1\" class=\"dataframe\">\n",
       "  <thead>\n",
       "    <tr style=\"text-align: right;\">\n",
       "      <th></th>\n",
       "      <th>PC 1</th>\n",
       "      <th>PC 2</th>\n",
       "      <th>PC 3</th>\n",
       "    </tr>\n",
       "  </thead>\n",
       "  <tbody>\n",
       "    <tr>\n",
       "      <th>42</th>\n",
       "      <td>-0.556913</td>\n",
       "      <td>0.830353</td>\n",
       "      <td>-0.582728</td>\n",
       "    </tr>\n",
       "    <tr>\n",
       "      <th>404</th>\n",
       "      <td>-0.524538</td>\n",
       "      <td>0.841661</td>\n",
       "      <td>-0.583054</td>\n",
       "    </tr>\n",
       "    <tr>\n",
       "      <th>1337</th>\n",
       "      <td>3.706674</td>\n",
       "      <td>3.271319</td>\n",
       "      <td>-0.739229</td>\n",
       "    </tr>\n",
       "    <tr>\n",
       "      <th>BTC</th>\n",
       "      <td>0.366561</td>\n",
       "      <td>-1.219971</td>\n",
       "      <td>0.206993</td>\n",
       "    </tr>\n",
       "    <tr>\n",
       "      <th>ETH</th>\n",
       "      <td>0.644856</td>\n",
       "      <td>-1.816504</td>\n",
       "      <td>0.449174</td>\n",
       "    </tr>\n",
       "    <tr>\n",
       "      <th>LTC</th>\n",
       "      <td>0.514080</td>\n",
       "      <td>-0.980266</td>\n",
       "      <td>-0.011598</td>\n",
       "    </tr>\n",
       "    <tr>\n",
       "      <th>DASH</th>\n",
       "      <td>-0.952093</td>\n",
       "      <td>0.903535</td>\n",
       "      <td>-0.538688</td>\n",
       "    </tr>\n",
       "    <tr>\n",
       "      <th>XMR</th>\n",
       "      <td>0.771163</td>\n",
       "      <td>-2.017792</td>\n",
       "      <td>0.406502</td>\n",
       "    </tr>\n",
       "    <tr>\n",
       "      <th>ETC</th>\n",
       "      <td>0.647566</td>\n",
       "      <td>-1.815463</td>\n",
       "      <td>0.449133</td>\n",
       "    </tr>\n",
       "    <tr>\n",
       "      <th>ZEC</th>\n",
       "      <td>0.773005</td>\n",
       "      <td>-1.925705</td>\n",
       "      <td>0.484675</td>\n",
       "    </tr>\n",
       "  </tbody>\n",
       "</table>\n",
       "</div>"
      ],
      "text/plain": [
       "          PC 1      PC 2      PC 3\n",
       "42   -0.556913  0.830353 -0.582728\n",
       "404  -0.524538  0.841661 -0.583054\n",
       "1337  3.706674  3.271319 -0.739229\n",
       "BTC   0.366561 -1.219971  0.206993\n",
       "ETH   0.644856 -1.816504  0.449174\n",
       "LTC   0.514080 -0.980266 -0.011598\n",
       "DASH -0.952093  0.903535 -0.538688\n",
       "XMR   0.771163 -2.017792  0.406502\n",
       "ETC   0.647566 -1.815463  0.449133\n",
       "ZEC   0.773005 -1.925705  0.484675"
      ]
     },
     "execution_count": 116,
     "metadata": {},
     "output_type": "execute_result"
    }
   ],
   "source": [
    "# Create a DataFrame with the principal components data\n",
    "df_crypto_pca = pd.DataFrame(\n",
    "                        data=crypto_pca, \n",
    "                        columns=[\"PC 1\", \"PC 2\", \"PC 3\"],\n",
    "                        index = crypto_df.index\n",
    "                        )\n",
    "df_crypto_pca.head(10)"
   ]
  },
  {
   "cell_type": "markdown",
   "metadata": {},
   "source": [
    "### Clustering Crytocurrencies Using K-Means\n",
    "\n",
    "#### Find the Best Value for `k` Using the Elbow Curve"
   ]
  },
  {
   "cell_type": "code",
   "execution_count": 117,
   "metadata": {},
   "outputs": [
    {
     "data": {
      "application/vnd.holoviews_exec.v0+json": "",
      "text/html": [
       "<div id='1562'>\n",
       "\n",
       "\n",
       "\n",
       "\n",
       "\n",
       "  <div class=\"bk-root\" id=\"bb29a4ce-3130-4b8d-b6ce-f038d46b0111\" data-root-id=\"1562\"></div>\n",
       "</div>\n",
       "<script type=\"application/javascript\">(function(root) {\n",
       "  function embed_document(root) {\n",
       "    var docs_json = {\"d00e7e7a-587e-45bd-b59b-0a976e5ddc10\":{\"roots\":{\"references\":[{\"attributes\":{\"end\":3656.8042162222882,\"reset_end\":3656.8042162222882,\"reset_start\":-166.38011406309002,\"start\":-166.38011406309002,\"tags\":[[[\"inertia\",\"inertia\",null]]]},\"id\":\"1565\",\"type\":\"Range1d\"},{\"attributes\":{\"line_alpha\":0.1,\"line_color\":\"#1f77b3\",\"line_width\":2,\"x\":{\"field\":\"k\"},\"y\":{\"field\":\"inertia\"}},\"id\":\"1601\",\"type\":\"Line\"},{\"attributes\":{},\"id\":\"1584\",\"type\":\"SaveTool\"},{\"attributes\":{\"margin\":[5,5,5,5],\"name\":\"HSpacer02565\",\"sizing_mode\":\"stretch_width\"},\"id\":\"1626\",\"type\":\"Spacer\"},{\"attributes\":{\"bottom_units\":\"screen\",\"fill_alpha\":0.5,\"fill_color\":\"lightgrey\",\"left_units\":\"screen\",\"level\":\"overlay\",\"line_alpha\":1.0,\"line_color\":\"black\",\"line_dash\":[4,4],\"line_width\":2,\"right_units\":\"screen\",\"top_units\":\"screen\"},\"id\":\"1589\",\"type\":\"BoxAnnotation\"},{\"attributes\":{\"data\":{\"inertia\":{\"__ndarray__\":\"uAovOmkUqkDKpl38eGqiQBGPoZAIp5VAg8fFNpHAg0C7HxcTQAh4QMlpFTFmR3RAfGFg5iDccEAZeGlRUB5rQOnybWB4XGZA41HAm/4GY0A=\",\"dtype\":\"float64\",\"order\":\"little\",\"shape\":[10]},\"k\":[1,2,3,4,5,6,7,8,9,10]},\"selected\":{\"id\":\"1598\"},\"selection_policy\":{\"id\":\"1616\"}},\"id\":\"1597\",\"type\":\"ColumnDataSource\"},{\"attributes\":{},\"id\":\"1574\",\"type\":\"LinearScale\"},{\"attributes\":{\"axis_label\":\"k\",\"bounds\":\"auto\",\"formatter\":{\"id\":\"1606\"},\"major_label_orientation\":\"horizontal\",\"ticker\":{\"id\":\"1605\"}},\"id\":\"1576\",\"type\":\"LinearAxis\"},{\"attributes\":{},\"id\":\"1588\",\"type\":\"ResetTool\"},{\"attributes\":{\"ticks\":[1,2,3,4,5,6,7,8,9,10]},\"id\":\"1605\",\"type\":\"FixedTicker\"},{\"attributes\":{},\"id\":\"1585\",\"type\":\"PanTool\"},{\"attributes\":{},\"id\":\"1586\",\"type\":\"WheelZoomTool\"},{\"attributes\":{\"end\":10.0,\"reset_end\":10.0,\"reset_start\":1.0,\"start\":1.0,\"tags\":[[[\"k\",\"k\",null]]]},\"id\":\"1564\",\"type\":\"Range1d\"},{\"attributes\":{\"line_color\":\"#1f77b3\",\"line_width\":2,\"x\":{\"field\":\"k\"},\"y\":{\"field\":\"inertia\"}},\"id\":\"1600\",\"type\":\"Line\"},{\"attributes\":{\"line_alpha\":0.2,\"line_color\":\"#1f77b3\",\"line_width\":2,\"x\":{\"field\":\"k\"},\"y\":{\"field\":\"inertia\"}},\"id\":\"1602\",\"type\":\"Line\"},{\"attributes\":{\"below\":[{\"id\":\"1576\"}],\"center\":[{\"id\":\"1579\"},{\"id\":\"1583\"}],\"left\":[{\"id\":\"1580\"}],\"margin\":[5,5,5,5],\"min_border_bottom\":10,\"min_border_left\":10,\"min_border_right\":10,\"min_border_top\":10,\"plot_height\":300,\"plot_width\":700,\"renderers\":[{\"id\":\"1603\"}],\"sizing_mode\":\"fixed\",\"title\":{\"id\":\"1568\"},\"toolbar\":{\"id\":\"1590\"},\"x_range\":{\"id\":\"1564\"},\"x_scale\":{\"id\":\"1572\"},\"y_range\":{\"id\":\"1565\"},\"y_scale\":{\"id\":\"1574\"}},\"id\":\"1567\",\"subtype\":\"Figure\",\"type\":\"Plot\"},{\"attributes\":{\"callback\":null,\"renderers\":[{\"id\":\"1603\"}],\"tags\":[\"hv_created\"],\"tooltips\":[[\"k\",\"@{k}\"],[\"inertia\",\"@{inertia}\"]]},\"id\":\"1566\",\"type\":\"HoverTool\"},{\"attributes\":{\"margin\":[5,5,5,5],\"name\":\"HSpacer02564\",\"sizing_mode\":\"stretch_width\"},\"id\":\"1563\",\"type\":\"Spacer\"},{\"attributes\":{},\"id\":\"1616\",\"type\":\"UnionRenderers\"},{\"attributes\":{\"text\":\"Elbow Curve\",\"text_color\":{\"value\":\"black\"},\"text_font_size\":{\"value\":\"12pt\"}},\"id\":\"1568\",\"type\":\"Title\"},{\"attributes\":{},\"id\":\"1572\",\"type\":\"LinearScale\"},{\"attributes\":{\"children\":[{\"id\":\"1563\"},{\"id\":\"1567\"},{\"id\":\"1626\"}],\"margin\":[0,0,0,0],\"name\":\"Row02560\",\"tags\":[\"embedded\"]},\"id\":\"1562\",\"type\":\"Row\"},{\"attributes\":{},\"id\":\"1610\",\"type\":\"BasicTickFormatter\"},{\"attributes\":{\"source\":{\"id\":\"1597\"}},\"id\":\"1604\",\"type\":\"CDSView\"},{\"attributes\":{},\"id\":\"1606\",\"type\":\"BasicTickFormatter\"},{\"attributes\":{\"axis\":{\"id\":\"1576\"},\"grid_line_color\":null,\"ticker\":null},\"id\":\"1579\",\"type\":\"Grid\"},{\"attributes\":{\"active_drag\":\"auto\",\"active_inspect\":\"auto\",\"active_multi\":null,\"active_scroll\":\"auto\",\"active_tap\":\"auto\",\"tools\":[{\"id\":\"1566\"},{\"id\":\"1584\"},{\"id\":\"1585\"},{\"id\":\"1586\"},{\"id\":\"1587\"},{\"id\":\"1588\"}]},\"id\":\"1590\",\"type\":\"Toolbar\"},{\"attributes\":{},\"id\":\"1598\",\"type\":\"Selection\"},{\"attributes\":{\"axis_label\":\"inertia\",\"bounds\":\"auto\",\"formatter\":{\"id\":\"1610\"},\"major_label_orientation\":\"horizontal\",\"ticker\":{\"id\":\"1581\"}},\"id\":\"1580\",\"type\":\"LinearAxis\"},{\"attributes\":{\"axis\":{\"id\":\"1580\"},\"dimension\":1,\"grid_line_color\":null,\"ticker\":null},\"id\":\"1583\",\"type\":\"Grid\"},{\"attributes\":{\"data_source\":{\"id\":\"1597\"},\"glyph\":{\"id\":\"1600\"},\"hover_glyph\":null,\"muted_glyph\":{\"id\":\"1602\"},\"nonselection_glyph\":{\"id\":\"1601\"},\"selection_glyph\":null,\"view\":{\"id\":\"1604\"}},\"id\":\"1603\",\"type\":\"GlyphRenderer\"},{\"attributes\":{},\"id\":\"1581\",\"type\":\"BasicTicker\"},{\"attributes\":{\"overlay\":{\"id\":\"1589\"}},\"id\":\"1587\",\"type\":\"BoxZoomTool\"}],\"root_ids\":[\"1562\"]},\"title\":\"Bokeh Application\",\"version\":\"2.2.3\"}};\n",
       "    var render_items = [{\"docid\":\"d00e7e7a-587e-45bd-b59b-0a976e5ddc10\",\"root_ids\":[\"1562\"],\"roots\":{\"1562\":\"bb29a4ce-3130-4b8d-b6ce-f038d46b0111\"}}];\n",
       "    root.Bokeh.embed.embed_items_notebook(docs_json, render_items);\n",
       "  }\n",
       "  if (root.Bokeh !== undefined && root.Bokeh.Panel !== undefined) {\n",
       "    embed_document(root);\n",
       "  } else {\n",
       "    var attempts = 0;\n",
       "    var timer = setInterval(function(root) {\n",
       "      if (root.Bokeh !== undefined && root.Bokeh.Panel !== undefined) {\n",
       "        clearInterval(timer);\n",
       "        embed_document(root);\n",
       "      } else if (document.readyState == \"complete\") {\n",
       "        attempts++;\n",
       "        if (attempts > 100) {\n",
       "          clearInterval(timer);\n",
       "          console.log(\"Bokeh: ERROR: Unable to run BokehJS code because BokehJS library is missing\");\n",
       "        }\n",
       "      }\n",
       "    }, 10, root)\n",
       "  }\n",
       "})(window);</script>"
      ],
      "text/plain": [
       ":Curve   [k]   (inertia)"
      ]
     },
     "execution_count": 117,
     "metadata": {
      "application/vnd.holoviews_exec.v0+json": {
       "id": "1562"
      }
     },
     "output_type": "execute_result"
    }
   ],
   "source": [
    "inertia = []\n",
    "k = list(range(1, 11))\n",
    "\n",
    "# Calculate the inertia for the range of k values\n",
    "for i in k:\n",
    "    km = KMeans(n_clusters=i, random_state=0)\n",
    "    km.fit(df_crypto_pca)\n",
    "    inertia.append(km.inertia_)\n",
    "\n",
    "# Create the Elbow Curve using hvPlot\n",
    "elbow_data = {\"k\": k, \"inertia\": inertia}\n",
    "df_elbow = pd.DataFrame(elbow_data)\n",
    "df_elbow.hvplot.line(x=\"k\", y=\"inertia\", xticks=k, title=\"Elbow Curve\")"
   ]
  },
  {
   "cell_type": "markdown",
   "metadata": {},
   "source": [
    "Running K-Means with `k=<your best value for k here>`"
   ]
  },
  {
   "cell_type": "code",
   "execution_count": 118,
   "metadata": {},
   "outputs": [
    {
     "data": {
      "text/html": [
       "<div>\n",
       "<style scoped>\n",
       "    .dataframe tbody tr th:only-of-type {\n",
       "        vertical-align: middle;\n",
       "    }\n",
       "\n",
       "    .dataframe tbody tr th {\n",
       "        vertical-align: top;\n",
       "    }\n",
       "\n",
       "    .dataframe thead th {\n",
       "        text-align: right;\n",
       "    }\n",
       "</style>\n",
       "<table border=\"1\" class=\"dataframe\">\n",
       "  <thead>\n",
       "    <tr style=\"text-align: right;\">\n",
       "      <th></th>\n",
       "      <th>Algorithm</th>\n",
       "      <th>ProofType</th>\n",
       "      <th>TotalCoinsMined</th>\n",
       "      <th>TotalCoinSupply</th>\n",
       "      <th>PC 1</th>\n",
       "      <th>PC 2</th>\n",
       "      <th>PC 3</th>\n",
       "      <th>class</th>\n",
       "      <th>CoinName</th>\n",
       "    </tr>\n",
       "  </thead>\n",
       "  <tbody>\n",
       "    <tr>\n",
       "      <th>42</th>\n",
       "      <td>Scrypt</td>\n",
       "      <td>PoW/PoS</td>\n",
       "      <td>4.199995e+01</td>\n",
       "      <td>4.200000e+01</td>\n",
       "      <td>-0.556913</td>\n",
       "      <td>0.830353</td>\n",
       "      <td>-0.582728</td>\n",
       "      <td>0</td>\n",
       "      <td>42 Coin</td>\n",
       "    </tr>\n",
       "    <tr>\n",
       "      <th>404</th>\n",
       "      <td>Scrypt</td>\n",
       "      <td>PoW/PoS</td>\n",
       "      <td>1.055185e+09</td>\n",
       "      <td>5.320000e+08</td>\n",
       "      <td>-0.524538</td>\n",
       "      <td>0.841661</td>\n",
       "      <td>-0.583054</td>\n",
       "      <td>0</td>\n",
       "      <td>404Coin</td>\n",
       "    </tr>\n",
       "    <tr>\n",
       "      <th>1337</th>\n",
       "      <td>X13</td>\n",
       "      <td>PoW/PoS</td>\n",
       "      <td>2.927942e+10</td>\n",
       "      <td>3.141593e+11</td>\n",
       "      <td>3.706674</td>\n",
       "      <td>3.271319</td>\n",
       "      <td>-0.739229</td>\n",
       "      <td>0</td>\n",
       "      <td>EliteCoin</td>\n",
       "    </tr>\n",
       "    <tr>\n",
       "      <th>BTC</th>\n",
       "      <td>SHA-256</td>\n",
       "      <td>PoW</td>\n",
       "      <td>1.792718e+07</td>\n",
       "      <td>2.100000e+07</td>\n",
       "      <td>0.366561</td>\n",
       "      <td>-1.219971</td>\n",
       "      <td>0.206993</td>\n",
       "      <td>1</td>\n",
       "      <td>Bitcoin</td>\n",
       "    </tr>\n",
       "    <tr>\n",
       "      <th>ETH</th>\n",
       "      <td>Ethash</td>\n",
       "      <td>PoW</td>\n",
       "      <td>1.076842e+08</td>\n",
       "      <td>0.000000e+00</td>\n",
       "      <td>0.644856</td>\n",
       "      <td>-1.816504</td>\n",
       "      <td>0.449174</td>\n",
       "      <td>1</td>\n",
       "      <td>Ethereum</td>\n",
       "    </tr>\n",
       "    <tr>\n",
       "      <th>LTC</th>\n",
       "      <td>Scrypt</td>\n",
       "      <td>PoW</td>\n",
       "      <td>6.303924e+07</td>\n",
       "      <td>8.400000e+07</td>\n",
       "      <td>0.514080</td>\n",
       "      <td>-0.980266</td>\n",
       "      <td>-0.011598</td>\n",
       "      <td>1</td>\n",
       "      <td>Litecoin</td>\n",
       "    </tr>\n",
       "    <tr>\n",
       "      <th>DASH</th>\n",
       "      <td>X11</td>\n",
       "      <td>PoW/PoS</td>\n",
       "      <td>9.031294e+06</td>\n",
       "      <td>2.200000e+07</td>\n",
       "      <td>-0.952093</td>\n",
       "      <td>0.903535</td>\n",
       "      <td>-0.538688</td>\n",
       "      <td>0</td>\n",
       "      <td>Dash</td>\n",
       "    </tr>\n",
       "    <tr>\n",
       "      <th>XMR</th>\n",
       "      <td>CryptoNight-V7</td>\n",
       "      <td>PoW</td>\n",
       "      <td>1.720114e+07</td>\n",
       "      <td>0.000000e+00</td>\n",
       "      <td>0.771163</td>\n",
       "      <td>-2.017792</td>\n",
       "      <td>0.406502</td>\n",
       "      <td>1</td>\n",
       "      <td>Monero</td>\n",
       "    </tr>\n",
       "    <tr>\n",
       "      <th>ETC</th>\n",
       "      <td>Ethash</td>\n",
       "      <td>PoW</td>\n",
       "      <td>1.133597e+08</td>\n",
       "      <td>2.100000e+08</td>\n",
       "      <td>0.647566</td>\n",
       "      <td>-1.815463</td>\n",
       "      <td>0.449133</td>\n",
       "      <td>1</td>\n",
       "      <td>Ethereum Classic</td>\n",
       "    </tr>\n",
       "    <tr>\n",
       "      <th>ZEC</th>\n",
       "      <td>Equihash</td>\n",
       "      <td>PoW</td>\n",
       "      <td>7.383056e+06</td>\n",
       "      <td>2.100000e+07</td>\n",
       "      <td>0.773005</td>\n",
       "      <td>-1.925705</td>\n",
       "      <td>0.484675</td>\n",
       "      <td>1</td>\n",
       "      <td>ZCash</td>\n",
       "    </tr>\n",
       "    <tr>\n",
       "      <th>BTS</th>\n",
       "      <td>SHA-512</td>\n",
       "      <td>PoS</td>\n",
       "      <td>2.741570e+09</td>\n",
       "      <td>3.600571e+09</td>\n",
       "      <td>-1.091730</td>\n",
       "      <td>1.034149</td>\n",
       "      <td>0.239667</td>\n",
       "      <td>0</td>\n",
       "      <td>Bitshares</td>\n",
       "    </tr>\n",
       "    <tr>\n",
       "      <th>DGB</th>\n",
       "      <td>Multiple</td>\n",
       "      <td>PoW</td>\n",
       "      <td>1.140622e+10</td>\n",
       "      <td>2.100000e+08</td>\n",
       "      <td>0.922219</td>\n",
       "      <td>-1.554304</td>\n",
       "      <td>0.370883</td>\n",
       "      <td>1</td>\n",
       "      <td>DigiByte</td>\n",
       "    </tr>\n",
       "    <tr>\n",
       "      <th>BTCD</th>\n",
       "      <td>SHA-256</td>\n",
       "      <td>PoW/PoS</td>\n",
       "      <td>1.288862e+06</td>\n",
       "      <td>2.200000e+07</td>\n",
       "      <td>-0.702254</td>\n",
       "      <td>0.591437</td>\n",
       "      <td>-0.364162</td>\n",
       "      <td>0</td>\n",
       "      <td>BitcoinDark</td>\n",
       "    </tr>\n",
       "    <tr>\n",
       "      <th>XPY</th>\n",
       "      <td>SHA-256</td>\n",
       "      <td>PoS</td>\n",
       "      <td>1.199533e+07</td>\n",
       "      <td>1.250000e+07</td>\n",
       "      <td>-0.746167</td>\n",
       "      <td>0.340137</td>\n",
       "      <td>-0.045630</td>\n",
       "      <td>0</td>\n",
       "      <td>PayCoin</td>\n",
       "    </tr>\n",
       "    <tr>\n",
       "      <th>PRC</th>\n",
       "      <td>Scrypt</td>\n",
       "      <td>PoW</td>\n",
       "      <td>5.768310e+06</td>\n",
       "      <td>2.100000e+07</td>\n",
       "      <td>0.511905</td>\n",
       "      <td>-0.981042</td>\n",
       "      <td>-0.011574</td>\n",
       "      <td>1</td>\n",
       "      <td>ProsperCoin</td>\n",
       "    </tr>\n",
       "    <tr>\n",
       "      <th>KOBO</th>\n",
       "      <td>X15</td>\n",
       "      <td>PoW/PoS</td>\n",
       "      <td>2.554254e+07</td>\n",
       "      <td>3.500000e+08</td>\n",
       "      <td>-0.754945</td>\n",
       "      <td>1.657419</td>\n",
       "      <td>-0.661721</td>\n",
       "      <td>0</td>\n",
       "      <td>KoboCoin</td>\n",
       "    </tr>\n",
       "    <tr>\n",
       "      <th>SPR</th>\n",
       "      <td>X11</td>\n",
       "      <td>PoW</td>\n",
       "      <td>1.114973e+07</td>\n",
       "      <td>2.000000e+07</td>\n",
       "      <td>0.116354</td>\n",
       "      <td>-0.907999</td>\n",
       "      <td>0.032471</td>\n",
       "      <td>1</td>\n",
       "      <td>Spreadcoin</td>\n",
       "    </tr>\n",
       "    <tr>\n",
       "      <th>ARG</th>\n",
       "      <td>Scrypt</td>\n",
       "      <td>PoW</td>\n",
       "      <td>1.220580e+07</td>\n",
       "      <td>6.400000e+07</td>\n",
       "      <td>0.512589</td>\n",
       "      <td>-0.980784</td>\n",
       "      <td>-0.011584</td>\n",
       "      <td>1</td>\n",
       "      <td>Argentum</td>\n",
       "    </tr>\n",
       "    <tr>\n",
       "      <th>AUR</th>\n",
       "      <td>Scrypt</td>\n",
       "      <td>PoW/PoS</td>\n",
       "      <td>1.813510e+07</td>\n",
       "      <td>1.676858e+07</td>\n",
       "      <td>-0.556264</td>\n",
       "      <td>0.830584</td>\n",
       "      <td>-0.582735</td>\n",
       "      <td>0</td>\n",
       "      <td>Aurora Coin</td>\n",
       "    </tr>\n",
       "    <tr>\n",
       "      <th>BLU</th>\n",
       "      <td>Scrypt</td>\n",
       "      <td>PoW/PoS</td>\n",
       "      <td>6.354239e+08</td>\n",
       "      <td>0.000000e+00</td>\n",
       "      <td>-0.541339</td>\n",
       "      <td>0.835645</td>\n",
       "      <td>-0.582863</td>\n",
       "      <td>0</td>\n",
       "      <td>BlueCoin</td>\n",
       "    </tr>\n",
       "    <tr>\n",
       "      <th>XMY</th>\n",
       "      <td>Multiple</td>\n",
       "      <td>PoW</td>\n",
       "      <td>1.688254e+09</td>\n",
       "      <td>2.000000e+09</td>\n",
       "      <td>0.705934</td>\n",
       "      <td>-1.626766</td>\n",
       "      <td>0.372612</td>\n",
       "      <td>1</td>\n",
       "      <td>MyriadCoin</td>\n",
       "    </tr>\n",
       "    <tr>\n",
       "      <th>MOON</th>\n",
       "      <td>Scrypt</td>\n",
       "      <td>PoW</td>\n",
       "      <td>8.800000e+01</td>\n",
       "      <td>3.840000e+11</td>\n",
       "      <td>5.211646</td>\n",
       "      <td>0.837344</td>\n",
       "      <td>-0.084606</td>\n",
       "      <td>1</td>\n",
       "      <td>MoonCoin</td>\n",
       "    </tr>\n",
       "    <tr>\n",
       "      <th>ZET</th>\n",
       "      <td>SHA-256</td>\n",
       "      <td>PoW</td>\n",
       "      <td>1.702044e+08</td>\n",
       "      <td>1.697956e+08</td>\n",
       "      <td>0.372115</td>\n",
       "      <td>-1.217999</td>\n",
       "      <td>0.206933</td>\n",
       "      <td>1</td>\n",
       "      <td>ZetaCoin</td>\n",
       "    </tr>\n",
       "    <tr>\n",
       "      <th>SXC</th>\n",
       "      <td>Scrypt</td>\n",
       "      <td>PoW</td>\n",
       "      <td>1.289410e+08</td>\n",
       "      <td>2.500000e+08</td>\n",
       "      <td>0.517727</td>\n",
       "      <td>-0.978931</td>\n",
       "      <td>-0.011644</td>\n",
       "      <td>1</td>\n",
       "      <td>SexCoin</td>\n",
       "    </tr>\n",
       "    <tr>\n",
       "      <th>QTL</th>\n",
       "      <td>Scrypt</td>\n",
       "      <td>PoW</td>\n",
       "      <td>7.357795e+06</td>\n",
       "      <td>1.000000e+06</td>\n",
       "      <td>0.511699</td>\n",
       "      <td>-0.981123</td>\n",
       "      <td>-0.011571</td>\n",
       "      <td>1</td>\n",
       "      <td>Quatloo</td>\n",
       "    </tr>\n",
       "    <tr>\n",
       "      <th>ENRG</th>\n",
       "      <td>Scrypt</td>\n",
       "      <td>PoW/PoS</td>\n",
       "      <td>1.230628e+08</td>\n",
       "      <td>0.000000e+00</td>\n",
       "      <td>-0.553897</td>\n",
       "      <td>0.831378</td>\n",
       "      <td>-0.582754</td>\n",
       "      <td>0</td>\n",
       "      <td>EnergyCoin</td>\n",
       "    </tr>\n",
       "    <tr>\n",
       "      <th>QRK</th>\n",
       "      <td>Quark</td>\n",
       "      <td>PoW</td>\n",
       "      <td>2.595572e+08</td>\n",
       "      <td>2.470000e+08</td>\n",
       "      <td>-0.109360</td>\n",
       "      <td>-0.570394</td>\n",
       "      <td>0.022170</td>\n",
       "      <td>1</td>\n",
       "      <td>QuarkCoin</td>\n",
       "    </tr>\n",
       "    <tr>\n",
       "      <th>RIC</th>\n",
       "      <td>Groestl</td>\n",
       "      <td>PoW</td>\n",
       "      <td>4.954859e+07</td>\n",
       "      <td>8.400000e+07</td>\n",
       "      <td>0.275858</td>\n",
       "      <td>-1.164930</td>\n",
       "      <td>0.062907</td>\n",
       "      <td>1</td>\n",
       "      <td>Riecoin</td>\n",
       "    </tr>\n",
       "    <tr>\n",
       "      <th>DGC</th>\n",
       "      <td>Scrypt</td>\n",
       "      <td>PoW</td>\n",
       "      <td>3.344299e+07</td>\n",
       "      <td>4.816600e+07</td>\n",
       "      <td>0.512916</td>\n",
       "      <td>-0.980682</td>\n",
       "      <td>-0.011585</td>\n",
       "      <td>1</td>\n",
       "      <td>Digitalcoin</td>\n",
       "    </tr>\n",
       "    <tr>\n",
       "      <th>BTB</th>\n",
       "      <td>Scrypt</td>\n",
       "      <td>PoW/PoS</td>\n",
       "      <td>4.257948e+04</td>\n",
       "      <td>5.000000e+05</td>\n",
       "      <td>-0.556906</td>\n",
       "      <td>0.830356</td>\n",
       "      <td>-0.582728</td>\n",
       "      <td>0</td>\n",
       "      <td>BitBar</td>\n",
       "    </tr>\n",
       "    <tr>\n",
       "      <th>...</th>\n",
       "      <td>...</td>\n",
       "      <td>...</td>\n",
       "      <td>...</td>\n",
       "      <td>...</td>\n",
       "      <td>...</td>\n",
       "      <td>...</td>\n",
       "      <td>...</td>\n",
       "      <td>...</td>\n",
       "      <td>...</td>\n",
       "    </tr>\n",
       "    <tr>\n",
       "      <th>GEN</th>\n",
       "      <td>Scrypt</td>\n",
       "      <td>PoW/PoS</td>\n",
       "      <td>6.000000e+07</td>\n",
       "      <td>1.500000e+07</td>\n",
       "      <td>-0.555259</td>\n",
       "      <td>0.830924</td>\n",
       "      <td>-0.582744</td>\n",
       "      <td>0</td>\n",
       "      <td>Genstake</td>\n",
       "    </tr>\n",
       "    <tr>\n",
       "      <th>SMLY</th>\n",
       "      <td>Scrypt</td>\n",
       "      <td>PoW</td>\n",
       "      <td>2.958399e+10</td>\n",
       "      <td>5.000000e+10</td>\n",
       "      <td>1.848630</td>\n",
       "      <td>-0.498001</td>\n",
       "      <td>-0.027379</td>\n",
       "      <td>1</td>\n",
       "      <td>SmileyCoin</td>\n",
       "    </tr>\n",
       "    <tr>\n",
       "      <th>MI</th>\n",
       "      <td>Scrypt</td>\n",
       "      <td>PoW/PoS</td>\n",
       "      <td>4.043165e+08</td>\n",
       "      <td>4.000000e+08</td>\n",
       "      <td>-0.542107</td>\n",
       "      <td>0.835615</td>\n",
       "      <td>-0.582890</td>\n",
       "      <td>0</td>\n",
       "      <td>XiaoMiCoin</td>\n",
       "    </tr>\n",
       "    <tr>\n",
       "      <th>GRS</th>\n",
       "      <td>Groestl</td>\n",
       "      <td>PoW</td>\n",
       "      <td>7.329820e+07</td>\n",
       "      <td>1.050000e+08</td>\n",
       "      <td>0.276697</td>\n",
       "      <td>-1.164633</td>\n",
       "      <td>0.062898</td>\n",
       "      <td>1</td>\n",
       "      <td>Groestlcoin</td>\n",
       "    </tr>\n",
       "    <tr>\n",
       "      <th>CPC</th>\n",
       "      <td>X11</td>\n",
       "      <td>PoW/PoS</td>\n",
       "      <td>2.013643e+08</td>\n",
       "      <td>2.080000e+08</td>\n",
       "      <td>-0.945102</td>\n",
       "      <td>0.906018</td>\n",
       "      <td>-0.538764</td>\n",
       "      <td>0</td>\n",
       "      <td>CapriCoin</td>\n",
       "    </tr>\n",
       "    <tr>\n",
       "      <th>CLUB</th>\n",
       "      <td>Scrypt</td>\n",
       "      <td>PoW/PoS</td>\n",
       "      <td>1.036219e+08</td>\n",
       "      <td>1.000000e+06</td>\n",
       "      <td>-0.554361</td>\n",
       "      <td>0.831221</td>\n",
       "      <td>-0.582750</td>\n",
       "      <td>0</td>\n",
       "      <td>ClubCoin</td>\n",
       "    </tr>\n",
       "    <tr>\n",
       "      <th>RADS</th>\n",
       "      <td>PoS</td>\n",
       "      <td>PoS</td>\n",
       "      <td>3.821246e+06</td>\n",
       "      <td>9.000000e+06</td>\n",
       "      <td>-1.381349</td>\n",
       "      <td>1.052922</td>\n",
       "      <td>-0.054243</td>\n",
       "      <td>0</td>\n",
       "      <td>Radium</td>\n",
       "    </tr>\n",
       "    <tr>\n",
       "      <th>BTA</th>\n",
       "      <td>Scrypt</td>\n",
       "      <td>PoW</td>\n",
       "      <td>5.052556e+06</td>\n",
       "      <td>5.000000e+06</td>\n",
       "      <td>0.511691</td>\n",
       "      <td>-0.981123</td>\n",
       "      <td>-0.011571</td>\n",
       "      <td>1</td>\n",
       "      <td>Bata</td>\n",
       "    </tr>\n",
       "    <tr>\n",
       "      <th>PAK</th>\n",
       "      <td>Scrypt</td>\n",
       "      <td>PoW</td>\n",
       "      <td>6.968446e+07</td>\n",
       "      <td>1.820000e+08</td>\n",
       "      <td>0.515442</td>\n",
       "      <td>-0.979747</td>\n",
       "      <td>-0.011618</td>\n",
       "      <td>1</td>\n",
       "      <td>Pakcoin</td>\n",
       "    </tr>\n",
       "    <tr>\n",
       "      <th>CRB</th>\n",
       "      <td>X11</td>\n",
       "      <td>Proof of Trust</td>\n",
       "      <td>1.690102e+07</td>\n",
       "      <td>1.650433e+07</td>\n",
       "      <td>-0.931496</td>\n",
       "      <td>0.385133</td>\n",
       "      <td>-0.207722</td>\n",
       "      <td>0</td>\n",
       "      <td>Creditbit</td>\n",
       "    </tr>\n",
       "    <tr>\n",
       "      <th>OK</th>\n",
       "      <td>SHA-256</td>\n",
       "      <td>PoW/PoS</td>\n",
       "      <td>7.467606e+07</td>\n",
       "      <td>1.050000e+08</td>\n",
       "      <td>-0.699439</td>\n",
       "      <td>0.592441</td>\n",
       "      <td>-0.364194</td>\n",
       "      <td>0</td>\n",
       "      <td>OKCash</td>\n",
       "    </tr>\n",
       "    <tr>\n",
       "      <th>LSK</th>\n",
       "      <td>DPoS</td>\n",
       "      <td>DPoS</td>\n",
       "      <td>1.200121e+08</td>\n",
       "      <td>1.599184e+08</td>\n",
       "      <td>-1.714824</td>\n",
       "      <td>1.465091</td>\n",
       "      <td>0.744340</td>\n",
       "      <td>0</td>\n",
       "      <td>Lisk</td>\n",
       "    </tr>\n",
       "    <tr>\n",
       "      <th>XHI</th>\n",
       "      <td>Scrypt</td>\n",
       "      <td>PoS</td>\n",
       "      <td>1.000024e+10</td>\n",
       "      <td>1.000884e+10</td>\n",
       "      <td>-0.233351</td>\n",
       "      <td>0.709699</td>\n",
       "      <td>-0.268229</td>\n",
       "      <td>0</td>\n",
       "      <td>HiCoin</td>\n",
       "    </tr>\n",
       "    <tr>\n",
       "      <th>XWC</th>\n",
       "      <td>Scrypt</td>\n",
       "      <td>PoW/PoS</td>\n",
       "      <td>2.520056e+08</td>\n",
       "      <td>3.000000e+08</td>\n",
       "      <td>-0.547064</td>\n",
       "      <td>0.833873</td>\n",
       "      <td>-0.582839</td>\n",
       "      <td>0</td>\n",
       "      <td>WhiteCoin</td>\n",
       "    </tr>\n",
       "    <tr>\n",
       "      <th>FSC</th>\n",
       "      <td>NeoScrypt</td>\n",
       "      <td>PoW/PoS</td>\n",
       "      <td>1.120385e+06</td>\n",
       "      <td>6.016814e+07</td>\n",
       "      <td>-0.610503</td>\n",
       "      <td>0.296341</td>\n",
       "      <td>-0.350004</td>\n",
       "      <td>0</td>\n",
       "      <td>FriendshipCoin</td>\n",
       "    </tr>\n",
       "    <tr>\n",
       "      <th>J</th>\n",
       "      <td>Multiple</td>\n",
       "      <td>PoW</td>\n",
       "      <td>3.332922e+06</td>\n",
       "      <td>2.800000e+06</td>\n",
       "      <td>0.640189</td>\n",
       "      <td>-1.650258</td>\n",
       "      <td>0.373351</td>\n",
       "      <td>1</td>\n",
       "      <td>JoinCoin</td>\n",
       "    </tr>\n",
       "    <tr>\n",
       "      <th>TRI</th>\n",
       "      <td>X13</td>\n",
       "      <td>PoW/PoS</td>\n",
       "      <td>1.407778e+05</td>\n",
       "      <td>1.200000e+05</td>\n",
       "      <td>-0.856275</td>\n",
       "      <td>1.539673</td>\n",
       "      <td>-0.673240</td>\n",
       "      <td>0</td>\n",
       "      <td>Triangles Coin</td>\n",
       "    </tr>\n",
       "    <tr>\n",
       "      <th>VOLLAR</th>\n",
       "      <td>Equihash+Scrypt</td>\n",
       "      <td>PoW</td>\n",
       "      <td>1.000000e+08</td>\n",
       "      <td>2.100000e+07</td>\n",
       "      <td>0.821439</td>\n",
       "      <td>-2.038251</td>\n",
       "      <td>0.439636</td>\n",
       "      <td>1</td>\n",
       "      <td>Vollar</td>\n",
       "    </tr>\n",
       "    <tr>\n",
       "      <th>EOS</th>\n",
       "      <td>DPoS</td>\n",
       "      <td>DPoS</td>\n",
       "      <td>1.020545e+09</td>\n",
       "      <td>0.000000e+00</td>\n",
       "      <td>-1.694709</td>\n",
       "      <td>1.471834</td>\n",
       "      <td>0.744179</td>\n",
       "      <td>0</td>\n",
       "      <td>EOS</td>\n",
       "    </tr>\n",
       "    <tr>\n",
       "      <th>RCC</th>\n",
       "      <td>Ethash</td>\n",
       "      <td>PoW</td>\n",
       "      <td>2.448794e+07</td>\n",
       "      <td>2.448794e+07</td>\n",
       "      <td>0.643117</td>\n",
       "      <td>-1.817081</td>\n",
       "      <td>0.449187</td>\n",
       "      <td>1</td>\n",
       "      <td>Reality Clash</td>\n",
       "    </tr>\n",
       "    <tr>\n",
       "      <th>OXY</th>\n",
       "      <td>DPoS</td>\n",
       "      <td>DPoS</td>\n",
       "      <td>1.122382e+09</td>\n",
       "      <td>0.000000e+00</td>\n",
       "      <td>-1.692213</td>\n",
       "      <td>1.472682</td>\n",
       "      <td>0.744157</td>\n",
       "      <td>0</td>\n",
       "      <td>Oxycoin</td>\n",
       "    </tr>\n",
       "    <tr>\n",
       "      <th>TCH</th>\n",
       "      <td>SHA-256</td>\n",
       "      <td>PoS</td>\n",
       "      <td>1.000000e+09</td>\n",
       "      <td>1.000000e+07</td>\n",
       "      <td>-0.721981</td>\n",
       "      <td>0.348354</td>\n",
       "      <td>-0.045840</td>\n",
       "      <td>0</td>\n",
       "      <td>TigerCash</td>\n",
       "    </tr>\n",
       "    <tr>\n",
       "      <th>WAVES</th>\n",
       "      <td>Leased POS</td>\n",
       "      <td>LPoS</td>\n",
       "      <td>1.000000e+08</td>\n",
       "      <td>1.000000e+06</td>\n",
       "      <td>-2.898771</td>\n",
       "      <td>1.376119</td>\n",
       "      <td>11.735386</td>\n",
       "      <td>3</td>\n",
       "      <td>Waves</td>\n",
       "    </tr>\n",
       "    <tr>\n",
       "      <th>PART</th>\n",
       "      <td>PoS</td>\n",
       "      <td>PoS</td>\n",
       "      <td>9.283138e+06</td>\n",
       "      <td>8.634140e+06</td>\n",
       "      <td>-1.381220</td>\n",
       "      <td>1.052966</td>\n",
       "      <td>-0.054245</td>\n",
       "      <td>0</td>\n",
       "      <td>Particl</td>\n",
       "    </tr>\n",
       "    <tr>\n",
       "      <th>NXT</th>\n",
       "      <td>PoS</td>\n",
       "      <td>PoS/LPoS</td>\n",
       "      <td>1.000000e+09</td>\n",
       "      <td>1.000000e+07</td>\n",
       "      <td>-1.758495</td>\n",
       "      <td>1.149757</td>\n",
       "      <td>0.261263</td>\n",
       "      <td>0</td>\n",
       "      <td>Nxt</td>\n",
       "    </tr>\n",
       "    <tr>\n",
       "      <th>ZEPH</th>\n",
       "      <td>SHA-256</td>\n",
       "      <td>DPoS</td>\n",
       "      <td>2.000000e+09</td>\n",
       "      <td>2.000000e+09</td>\n",
       "      <td>-0.931479</td>\n",
       "      <td>0.589353</td>\n",
       "      <td>0.399237</td>\n",
       "      <td>0</td>\n",
       "      <td>ZEPHYR</td>\n",
       "    </tr>\n",
       "    <tr>\n",
       "      <th>GAP</th>\n",
       "      <td>Scrypt</td>\n",
       "      <td>PoW/PoS</td>\n",
       "      <td>1.493105e+07</td>\n",
       "      <td>2.500000e+08</td>\n",
       "      <td>-0.553487</td>\n",
       "      <td>0.831661</td>\n",
       "      <td>-0.582779</td>\n",
       "      <td>0</td>\n",
       "      <td>Gapcoin</td>\n",
       "    </tr>\n",
       "    <tr>\n",
       "      <th>BDX</th>\n",
       "      <td>CryptoNight</td>\n",
       "      <td>PoW</td>\n",
       "      <td>9.802226e+08</td>\n",
       "      <td>1.400223e+09</td>\n",
       "      <td>1.460140</td>\n",
       "      <td>-1.777001</td>\n",
       "      <td>0.439916</td>\n",
       "      <td>1</td>\n",
       "      <td>Beldex</td>\n",
       "    </tr>\n",
       "    <tr>\n",
       "      <th>ZEN</th>\n",
       "      <td>Equihash</td>\n",
       "      <td>PoW</td>\n",
       "      <td>7.296538e+06</td>\n",
       "      <td>2.100000e+07</td>\n",
       "      <td>0.773003</td>\n",
       "      <td>-1.925706</td>\n",
       "      <td>0.484675</td>\n",
       "      <td>1</td>\n",
       "      <td>Horizen</td>\n",
       "    </tr>\n",
       "    <tr>\n",
       "      <th>XBC</th>\n",
       "      <td>Scrypt</td>\n",
       "      <td>PoS</td>\n",
       "      <td>1.283270e+05</td>\n",
       "      <td>1.000000e+06</td>\n",
       "      <td>-0.600957</td>\n",
       "      <td>0.579015</td>\n",
       "      <td>-0.264195</td>\n",
       "      <td>0</td>\n",
       "      <td>BitcoinPlus</td>\n",
       "    </tr>\n",
       "  </tbody>\n",
       "</table>\n",
       "<p>531 rows × 9 columns</p>\n",
       "</div>"
      ],
      "text/plain": [
       "              Algorithm       ProofType  TotalCoinsMined  TotalCoinSupply  \\\n",
       "42               Scrypt         PoW/PoS     4.199995e+01     4.200000e+01   \n",
       "404              Scrypt         PoW/PoS     1.055185e+09     5.320000e+08   \n",
       "1337                X13         PoW/PoS     2.927942e+10     3.141593e+11   \n",
       "BTC             SHA-256             PoW     1.792718e+07     2.100000e+07   \n",
       "ETH              Ethash             PoW     1.076842e+08     0.000000e+00   \n",
       "LTC              Scrypt             PoW     6.303924e+07     8.400000e+07   \n",
       "DASH                X11         PoW/PoS     9.031294e+06     2.200000e+07   \n",
       "XMR      CryptoNight-V7             PoW     1.720114e+07     0.000000e+00   \n",
       "ETC              Ethash             PoW     1.133597e+08     2.100000e+08   \n",
       "ZEC            Equihash             PoW     7.383056e+06     2.100000e+07   \n",
       "BTS             SHA-512             PoS     2.741570e+09     3.600571e+09   \n",
       "DGB            Multiple             PoW     1.140622e+10     2.100000e+08   \n",
       "BTCD            SHA-256         PoW/PoS     1.288862e+06     2.200000e+07   \n",
       "XPY             SHA-256             PoS     1.199533e+07     1.250000e+07   \n",
       "PRC              Scrypt             PoW     5.768310e+06     2.100000e+07   \n",
       "KOBO                X15         PoW/PoS     2.554254e+07     3.500000e+08   \n",
       "SPR                 X11             PoW     1.114973e+07     2.000000e+07   \n",
       "ARG              Scrypt             PoW     1.220580e+07     6.400000e+07   \n",
       "AUR              Scrypt         PoW/PoS     1.813510e+07     1.676858e+07   \n",
       "BLU              Scrypt         PoW/PoS     6.354239e+08     0.000000e+00   \n",
       "XMY            Multiple             PoW     1.688254e+09     2.000000e+09   \n",
       "MOON             Scrypt             PoW     8.800000e+01     3.840000e+11   \n",
       "ZET             SHA-256             PoW     1.702044e+08     1.697956e+08   \n",
       "SXC              Scrypt             PoW     1.289410e+08     2.500000e+08   \n",
       "QTL              Scrypt             PoW     7.357795e+06     1.000000e+06   \n",
       "ENRG             Scrypt         PoW/PoS     1.230628e+08     0.000000e+00   \n",
       "QRK               Quark             PoW     2.595572e+08     2.470000e+08   \n",
       "RIC             Groestl             PoW     4.954859e+07     8.400000e+07   \n",
       "DGC              Scrypt             PoW     3.344299e+07     4.816600e+07   \n",
       "BTB              Scrypt         PoW/PoS     4.257948e+04     5.000000e+05   \n",
       "...                 ...             ...              ...              ...   \n",
       "GEN              Scrypt         PoW/PoS     6.000000e+07     1.500000e+07   \n",
       "SMLY             Scrypt             PoW     2.958399e+10     5.000000e+10   \n",
       "MI               Scrypt         PoW/PoS     4.043165e+08     4.000000e+08   \n",
       "GRS             Groestl             PoW     7.329820e+07     1.050000e+08   \n",
       "CPC                 X11         PoW/PoS     2.013643e+08     2.080000e+08   \n",
       "CLUB             Scrypt         PoW/PoS     1.036219e+08     1.000000e+06   \n",
       "RADS                PoS             PoS     3.821246e+06     9.000000e+06   \n",
       "BTA              Scrypt             PoW     5.052556e+06     5.000000e+06   \n",
       "PAK              Scrypt             PoW     6.968446e+07     1.820000e+08   \n",
       "CRB                 X11  Proof of Trust     1.690102e+07     1.650433e+07   \n",
       "OK              SHA-256         PoW/PoS     7.467606e+07     1.050000e+08   \n",
       "LSK                DPoS            DPoS     1.200121e+08     1.599184e+08   \n",
       "XHI              Scrypt             PoS     1.000024e+10     1.000884e+10   \n",
       "XWC              Scrypt         PoW/PoS     2.520056e+08     3.000000e+08   \n",
       "FSC           NeoScrypt         PoW/PoS     1.120385e+06     6.016814e+07   \n",
       "J              Multiple             PoW     3.332922e+06     2.800000e+06   \n",
       "TRI                 X13         PoW/PoS     1.407778e+05     1.200000e+05   \n",
       "VOLLAR  Equihash+Scrypt             PoW     1.000000e+08     2.100000e+07   \n",
       "EOS                DPoS            DPoS     1.020545e+09     0.000000e+00   \n",
       "RCC              Ethash             PoW     2.448794e+07     2.448794e+07   \n",
       "OXY                DPoS            DPoS     1.122382e+09     0.000000e+00   \n",
       "TCH             SHA-256             PoS     1.000000e+09     1.000000e+07   \n",
       "WAVES        Leased POS            LPoS     1.000000e+08     1.000000e+06   \n",
       "PART                PoS             PoS     9.283138e+06     8.634140e+06   \n",
       "NXT                 PoS        PoS/LPoS     1.000000e+09     1.000000e+07   \n",
       "ZEPH            SHA-256            DPoS     2.000000e+09     2.000000e+09   \n",
       "GAP              Scrypt         PoW/PoS     1.493105e+07     2.500000e+08   \n",
       "BDX         CryptoNight             PoW     9.802226e+08     1.400223e+09   \n",
       "ZEN            Equihash             PoW     7.296538e+06     2.100000e+07   \n",
       "XBC              Scrypt             PoS     1.283270e+05     1.000000e+06   \n",
       "\n",
       "            PC 1      PC 2       PC 3  class          CoinName  \n",
       "42     -0.556913  0.830353  -0.582728      0           42 Coin  \n",
       "404    -0.524538  0.841661  -0.583054      0           404Coin  \n",
       "1337    3.706674  3.271319  -0.739229      0         EliteCoin  \n",
       "BTC     0.366561 -1.219971   0.206993      1           Bitcoin  \n",
       "ETH     0.644856 -1.816504   0.449174      1          Ethereum  \n",
       "LTC     0.514080 -0.980266  -0.011598      1          Litecoin  \n",
       "DASH   -0.952093  0.903535  -0.538688      0              Dash  \n",
       "XMR     0.771163 -2.017792   0.406502      1            Monero  \n",
       "ETC     0.647566 -1.815463   0.449133      1  Ethereum Classic  \n",
       "ZEC     0.773005 -1.925705   0.484675      1             ZCash  \n",
       "BTS    -1.091730  1.034149   0.239667      0         Bitshares  \n",
       "DGB     0.922219 -1.554304   0.370883      1          DigiByte  \n",
       "BTCD   -0.702254  0.591437  -0.364162      0       BitcoinDark  \n",
       "XPY    -0.746167  0.340137  -0.045630      0           PayCoin  \n",
       "PRC     0.511905 -0.981042  -0.011574      1       ProsperCoin  \n",
       "KOBO   -0.754945  1.657419  -0.661721      0          KoboCoin  \n",
       "SPR     0.116354 -0.907999   0.032471      1        Spreadcoin  \n",
       "ARG     0.512589 -0.980784  -0.011584      1          Argentum  \n",
       "AUR    -0.556264  0.830584  -0.582735      0       Aurora Coin  \n",
       "BLU    -0.541339  0.835645  -0.582863      0          BlueCoin  \n",
       "XMY     0.705934 -1.626766   0.372612      1        MyriadCoin  \n",
       "MOON    5.211646  0.837344  -0.084606      1          MoonCoin  \n",
       "ZET     0.372115 -1.217999   0.206933      1          ZetaCoin  \n",
       "SXC     0.517727 -0.978931  -0.011644      1           SexCoin  \n",
       "QTL     0.511699 -0.981123  -0.011571      1           Quatloo  \n",
       "ENRG   -0.553897  0.831378  -0.582754      0        EnergyCoin  \n",
       "QRK    -0.109360 -0.570394   0.022170      1         QuarkCoin  \n",
       "RIC     0.275858 -1.164930   0.062907      1           Riecoin  \n",
       "DGC     0.512916 -0.980682  -0.011585      1      Digitalcoin   \n",
       "BTB    -0.556906  0.830356  -0.582728      0            BitBar  \n",
       "...          ...       ...        ...    ...               ...  \n",
       "GEN    -0.555259  0.830924  -0.582744      0          Genstake  \n",
       "SMLY    1.848630 -0.498001  -0.027379      1        SmileyCoin  \n",
       "MI     -0.542107  0.835615  -0.582890      0        XiaoMiCoin  \n",
       "GRS     0.276697 -1.164633   0.062898      1       Groestlcoin  \n",
       "CPC    -0.945102  0.906018  -0.538764      0         CapriCoin  \n",
       "CLUB   -0.554361  0.831221  -0.582750      0          ClubCoin  \n",
       "RADS   -1.381349  1.052922  -0.054243      0            Radium  \n",
       "BTA     0.511691 -0.981123  -0.011571      1              Bata  \n",
       "PAK     0.515442 -0.979747  -0.011618      1           Pakcoin  \n",
       "CRB    -0.931496  0.385133  -0.207722      0        Creditbit   \n",
       "OK     -0.699439  0.592441  -0.364194      0            OKCash  \n",
       "LSK    -1.714824  1.465091   0.744340      0              Lisk  \n",
       "XHI    -0.233351  0.709699  -0.268229      0            HiCoin  \n",
       "XWC    -0.547064  0.833873  -0.582839      0         WhiteCoin  \n",
       "FSC    -0.610503  0.296341  -0.350004      0    FriendshipCoin  \n",
       "J       0.640189 -1.650258   0.373351      1          JoinCoin  \n",
       "TRI    -0.856275  1.539673  -0.673240      0    Triangles Coin  \n",
       "VOLLAR  0.821439 -2.038251   0.439636      1            Vollar  \n",
       "EOS    -1.694709  1.471834   0.744179      0               EOS  \n",
       "RCC     0.643117 -1.817081   0.449187      1     Reality Clash  \n",
       "OXY    -1.692213  1.472682   0.744157      0           Oxycoin  \n",
       "TCH    -0.721981  0.348354  -0.045840      0         TigerCash  \n",
       "WAVES  -2.898771  1.376119  11.735386      3             Waves  \n",
       "PART   -1.381220  1.052966  -0.054245      0           Particl  \n",
       "NXT    -1.758495  1.149757   0.261263      0               Nxt  \n",
       "ZEPH   -0.931479  0.589353   0.399237      0            ZEPHYR  \n",
       "GAP    -0.553487  0.831661  -0.582779      0           Gapcoin  \n",
       "BDX     1.460140 -1.777001   0.439916      1            Beldex  \n",
       "ZEN     0.773003 -1.925706   0.484675      1           Horizen  \n",
       "XBC    -0.600957  0.579015  -0.264195      0       BitcoinPlus  \n",
       "\n",
       "[531 rows x 9 columns]"
      ]
     },
     "execution_count": 118,
     "metadata": {},
     "output_type": "execute_result"
    }
   ],
   "source": [
    "# Initialize the K-Means model\n",
    "model = KMeans(n_clusters=4, random_state=0)\n",
    "# Fit the model\n",
    "model.fit(df_crypto_pca)\n",
    "# Predict clusters\n",
    "predictions = model.predict(df_crypto_pca)\n",
    "# Create a new DataFrame including predicted clusters and cryptocurrencies features\n",
    "df_crypto_pca[\"class\"] = model.labels_\n",
    "clustered_df = crypto_df.join(df_crypto_pca)\n",
    "clustered_df[\"CoinName\"] = coins_name\n",
    "clustered_df"
   ]
  },
  {
   "cell_type": "markdown",
   "metadata": {},
   "source": [
    "### Visualizing Results\n",
    "\n",
    "#### 3D-Scatter with Clusters"
   ]
  },
  {
   "cell_type": "code",
   "execution_count": 120,
   "metadata": {},
   "outputs": [
    {
     "data": {
      "application/vnd.plotly.v1+json": {
       "config": {
        "plotlyServerURL": "https://plot.ly"
       },
       "data": [
        {
         "customdata": [
          [
           "Scrypt"
          ],
          [
           "Scrypt"
          ],
          [
           "X13"
          ],
          [
           "SHA-256"
          ],
          [
           "Ethash"
          ],
          [
           "Scrypt"
          ],
          [
           "X11"
          ],
          [
           "CryptoNight-V7"
          ],
          [
           "Ethash"
          ],
          [
           "Equihash"
          ],
          [
           "SHA-512"
          ],
          [
           "Multiple"
          ],
          [
           "SHA-256"
          ],
          [
           "SHA-256"
          ],
          [
           "Scrypt"
          ],
          [
           "X15"
          ],
          [
           "X11"
          ],
          [
           "Scrypt"
          ],
          [
           "Scrypt"
          ],
          [
           "Scrypt"
          ],
          [
           "Multiple"
          ],
          [
           "Scrypt"
          ],
          [
           "SHA-256"
          ],
          [
           "Scrypt"
          ],
          [
           "Scrypt"
          ],
          [
           "Scrypt"
          ],
          [
           "Quark"
          ],
          [
           "Groestl"
          ],
          [
           "Scrypt"
          ],
          [
           "Scrypt"
          ],
          [
           "Scrypt"
          ],
          [
           "Scrypt"
          ],
          [
           "Scrypt"
          ],
          [
           "X11"
          ],
          [
           "Scrypt"
          ],
          [
           "Groestl"
          ],
          [
           "Multiple"
          ],
          [
           "SHA-256"
          ],
          [
           "Scrypt"
          ],
          [
           "Scrypt"
          ],
          [
           "Scrypt"
          ],
          [
           "Scrypt"
          ],
          [
           "PoS"
          ],
          [
           "Scrypt"
          ],
          [
           "Scrypt"
          ],
          [
           "NeoScrypt"
          ],
          [
           "Scrypt"
          ],
          [
           "Scrypt"
          ],
          [
           "Scrypt"
          ],
          [
           "Scrypt"
          ],
          [
           "X11"
          ],
          [
           "Scrypt"
          ],
          [
           "X11"
          ],
          [
           "SHA-256"
          ],
          [
           "Scrypt"
          ],
          [
           "Scrypt"
          ],
          [
           "Scrypt"
          ],
          [
           "SHA3"
          ],
          [
           "Scrypt"
          ],
          [
           "HybridScryptHash256"
          ],
          [
           "Scrypt"
          ],
          [
           "Scrypt"
          ],
          [
           "SHA-256"
          ],
          [
           "Scrypt"
          ],
          [
           "X13"
          ],
          [
           "Scrypt"
          ],
          [
           "SHA-256"
          ],
          [
           "Scrypt"
          ],
          [
           "X13"
          ],
          [
           "NeoScrypt"
          ],
          [
           "Scrypt"
          ],
          [
           "Scrypt"
          ],
          [
           "Scrypt"
          ],
          [
           "Scrypt"
          ],
          [
           "Scrypt"
          ],
          [
           "Scrypt"
          ],
          [
           "X11"
          ],
          [
           "X11"
          ],
          [
           "SHA-256"
          ],
          [
           "Multiple"
          ],
          [
           "SHA-256"
          ],
          [
           "PHI1612"
          ],
          [
           "X11"
          ],
          [
           "SHA-256"
          ],
          [
           "SHA-256"
          ],
          [
           "SHA-256"
          ],
          [
           "X11"
          ],
          [
           "Scrypt"
          ],
          [
           "Scrypt"
          ],
          [
           "Scrypt"
          ],
          [
           "Scrypt"
          ],
          [
           "Lyra2REv2"
          ],
          [
           "Scrypt"
          ],
          [
           "X11"
          ],
          [
           "Multiple"
          ],
          [
           "SHA-256"
          ],
          [
           "X13"
          ],
          [
           "Scrypt"
          ],
          [
           "CryptoNight"
          ],
          [
           "CryptoNight"
          ],
          [
           "Shabal256"
          ],
          [
           "Counterparty"
          ],
          [
           "Scrypt"
          ],
          [
           "SHA-256"
          ],
          [
           "Groestl"
          ],
          [
           "Scrypt"
          ],
          [
           "Scrypt"
          ],
          [
           "Scrypt"
          ],
          [
           "X13"
          ],
          [
           "Scrypt"
          ],
          [
           "Scrypt"
          ],
          [
           "Scrypt"
          ],
          [
           "Scrypt"
          ],
          [
           "X13"
          ],
          [
           "Scrypt"
          ],
          [
           "Stanford Folding"
          ],
          [
           "X11"
          ],
          [
           "Multiple"
          ],
          [
           "QuBit"
          ],
          [
           "Scrypt"
          ],
          [
           "Scrypt"
          ],
          [
           "Scrypt"
          ],
          [
           "M7 POW"
          ],
          [
           "Scrypt"
          ],
          [
           "SHA-256"
          ],
          [
           "Scrypt"
          ],
          [
           "X11"
          ],
          [
           "SHA3"
          ],
          [
           "X11"
          ],
          [
           "Lyra2RE"
          ],
          [
           "SHA-256"
          ],
          [
           "QUAIT"
          ],
          [
           "X11"
          ],
          [
           "X11"
          ],
          [
           "Scrypt"
          ],
          [
           "Scrypt"
          ],
          [
           "Scrypt"
          ],
          [
           "Ethash"
          ],
          [
           "X13"
          ],
          [
           "Blake2b"
          ],
          [
           "SHA-256"
          ],
          [
           "X15"
          ],
          [
           "X11"
          ],
          [
           "SHA-256"
          ],
          [
           "BLAKE256"
          ],
          [
           "Scrypt"
          ],
          [
           "1GB AES Pattern Search"
          ],
          [
           "SHA-256"
          ],
          [
           "X11"
          ],
          [
           "Scrypt"
          ],
          [
           "SHA-256"
          ],
          [
           "SHA-256"
          ],
          [
           "NIST5"
          ],
          [
           "Scrypt"
          ],
          [
           "Scrypt"
          ],
          [
           "X11"
          ],
          [
           "Dagger"
          ],
          [
           "Scrypt"
          ],
          [
           "X11GOST"
          ],
          [
           "X11"
          ],
          [
           "Scrypt"
          ],
          [
           "SHA-256"
          ],
          [
           "Scrypt"
          ],
          [
           "PoS"
          ],
          [
           "Scrypt"
          ],
          [
           "X11"
          ],
          [
           "X11"
          ],
          [
           "SHA-256"
          ],
          [
           "SHA-256"
          ],
          [
           "NIST5"
          ],
          [
           "X11"
          ],
          [
           "Scrypt"
          ],
          [
           "POS 3.0"
          ],
          [
           "Scrypt"
          ],
          [
           "Scrypt"
          ],
          [
           "Scrypt"
          ],
          [
           "X13"
          ],
          [
           "X11"
          ],
          [
           "X11"
          ],
          [
           "Equihash"
          ],
          [
           "X11"
          ],
          [
           "Scrypt"
          ],
          [
           "CryptoNight"
          ],
          [
           "SHA-256"
          ],
          [
           "SHA-256"
          ],
          [
           "X11"
          ],
          [
           "Scrypt"
          ],
          [
           "Multiple"
          ],
          [
           "Scrypt"
          ],
          [
           "Scrypt"
          ],
          [
           "Scrypt"
          ],
          [
           "SHA-256"
          ],
          [
           "Scrypt"
          ],
          [
           "Scrypt"
          ],
          [
           "SHA-256D"
          ],
          [
           "PoS"
          ],
          [
           "Scrypt"
          ],
          [
           "X11"
          ],
          [
           "Lyra2Z"
          ],
          [
           "PoS"
          ],
          [
           "X13"
          ],
          [
           "X14"
          ],
          [
           "PoS"
          ],
          [
           "SHA-256D"
          ],
          [
           "Ethash"
          ],
          [
           "Equihash"
          ],
          [
           "DPoS"
          ],
          [
           "X11"
          ],
          [
           "Scrypt"
          ],
          [
           "X11"
          ],
          [
           "X13"
          ],
          [
           "X11"
          ],
          [
           "PoS"
          ],
          [
           "Scrypt"
          ],
          [
           "Scrypt"
          ],
          [
           "X11"
          ],
          [
           "PoS"
          ],
          [
           "X11"
          ],
          [
           "SHA-256"
          ],
          [
           "Scrypt"
          ],
          [
           "X11"
          ],
          [
           "Scrypt"
          ],
          [
           "Scrypt"
          ],
          [
           "X11"
          ],
          [
           "CryptoNight"
          ],
          [
           "Scrypt"
          ],
          [
           "Scrypt"
          ],
          [
           "Scrypt"
          ],
          [
           "Scrypt"
          ],
          [
           "Quark"
          ],
          [
           "QuBit"
          ],
          [
           "Scrypt"
          ],
          [
           "CryptoNight"
          ],
          [
           "Lyra2RE"
          ],
          [
           "Scrypt"
          ],
          [
           "SHA-256"
          ],
          [
           "X11"
          ],
          [
           "Scrypt"
          ],
          [
           "X11"
          ],
          [
           "Scrypt"
          ],
          [
           "CryptoNight-V7"
          ],
          [
           "Scrypt"
          ],
          [
           "Scrypt"
          ],
          [
           "Scrypt"
          ],
          [
           "X13"
          ],
          [
           "X11"
          ],
          [
           "Equihash"
          ],
          [
           "Scrypt"
          ],
          [
           "Scrypt"
          ],
          [
           "Lyra2RE"
          ],
          [
           "Scrypt"
          ],
          [
           "Dagger-Hashimoto"
          ],
          [
           "X11"
          ],
          [
           "Blake2S"
          ],
          [
           "X11"
          ],
          [
           "Scrypt"
          ],
          [
           "PoS"
          ],
          [
           "X11"
          ],
          [
           "NIST5"
          ],
          [
           "PoS"
          ],
          [
           "X11"
          ],
          [
           "Scrypt"
          ],
          [
           "Scrypt"
          ],
          [
           "Scrypt"
          ],
          [
           "SHA-256"
          ],
          [
           "X11"
          ],
          [
           "Scrypt"
          ],
          [
           "Scrypt"
          ],
          [
           "SHA-256"
          ],
          [
           "PoS"
          ],
          [
           "Scrypt"
          ],
          [
           "X15"
          ],
          [
           "SHA-256"
          ],
          [
           "Scrypt"
          ],
          [
           "POS 3.0"
          ],
          [
           "CryptoNight-V7"
          ],
          [
           "536"
          ],
          [
           "Argon2d"
          ],
          [
           "Blake2b"
          ],
          [
           "Cloverhash"
          ],
          [
           "CryptoNight"
          ],
          [
           "NIST5"
          ],
          [
           "X11"
          ],
          [
           "NIST5"
          ],
          [
           "Skein"
          ],
          [
           "Scrypt"
          ],
          [
           "X13"
          ],
          [
           "Scrypt"
          ],
          [
           "X11"
          ],
          [
           "X11"
          ],
          [
           "Scrypt"
          ],
          [
           "CryptoNight"
          ],
          [
           "X13"
          ],
          [
           "Time Travel"
          ],
          [
           "Scrypt"
          ],
          [
           "Keccak"
          ],
          [
           "SkunkHash v2 Raptor"
          ],
          [
           "X11"
          ],
          [
           "Skein"
          ],
          [
           "SHA-256"
          ],
          [
           "X11"
          ],
          [
           "Scrypt"
          ],
          [
           "VeChainThor Authority"
          ],
          [
           "Scrypt"
          ],
          [
           "PoS"
          ],
          [
           "Scrypt"
          ],
          [
           "Scrypt"
          ],
          [
           "Scrypt"
          ],
          [
           "Scrypt"
          ],
          [
           "Scrypt"
          ],
          [
           "Scrypt"
          ],
          [
           "Scrypt"
          ],
          [
           "CryptoNight"
          ],
          [
           "SHA-512"
          ],
          [
           "Ouroboros"
          ],
          [
           "X11"
          ],
          [
           "Equihash"
          ],
          [
           "NeoScrypt"
          ],
          [
           "X11"
          ],
          [
           "Scrypt"
          ],
          [
           "NeoScrypt"
          ],
          [
           "Lyra2REv2"
          ],
          [
           "Equihash"
          ],
          [
           "Scrypt"
          ],
          [
           "SHA-256"
          ],
          [
           "NIST5"
          ],
          [
           "PHI1612"
          ],
          [
           "Dagger"
          ],
          [
           "Scrypt"
          ],
          [
           "Quark"
          ],
          [
           "Scrypt"
          ],
          [
           "POS 2.0"
          ],
          [
           "Scrypt"
          ],
          [
           "SHA-256"
          ],
          [
           "X11"
          ],
          [
           "NeoScrypt"
          ],
          [
           "Ethash"
          ],
          [
           "NeoScrypt"
          ],
          [
           "X11"
          ],
          [
           "DPoS"
          ],
          [
           "NIST5"
          ],
          [
           "X13"
          ],
          [
           "Multiple"
          ],
          [
           "Scrypt"
          ],
          [
           "CryptoNight"
          ],
          [
           "CryptoNight"
          ],
          [
           "Ethash"
          ],
          [
           "NIST5"
          ],
          [
           "Quark"
          ],
          [
           "X11"
          ],
          [
           "CryptoNight-V7"
          ],
          [
           "Scrypt"
          ],
          [
           "Scrypt"
          ],
          [
           "Scrypt"
          ],
          [
           "X11"
          ],
          [
           "BLAKE256"
          ],
          [
           "X11"
          ],
          [
           "NeoScrypt"
          ],
          [
           "Quark"
          ],
          [
           "NeoScrypt"
          ],
          [
           "Scrypt"
          ],
          [
           "Scrypt"
          ],
          [
           "Scrypt"
          ],
          [
           "X11"
          ],
          [
           "X11"
          ],
          [
           "SHA-256"
          ],
          [
           "C11"
          ],
          [
           "POS 3.0"
          ],
          [
           "Ethash"
          ],
          [
           "Scrypt"
          ],
          [
           "CryptoNight"
          ],
          [
           "SkunkHash"
          ],
          [
           "Scrypt"
          ],
          [
           "CryptoNight"
          ],
          [
           "Scrypt"
          ],
          [
           "Dagger"
          ],
          [
           "Lyra2REv2"
          ],
          [
           "X13"
          ],
          [
           "Proof-of-BibleHash"
          ],
          [
           "SHA-256 + Hive"
          ],
          [
           "Scrypt"
          ],
          [
           "Scrypt"
          ],
          [
           "X11"
          ],
          [
           "C11"
          ],
          [
           "Proof-of-Authority"
          ],
          [
           "X11"
          ],
          [
           "XEVAN"
          ],
          [
           "Scrypt"
          ],
          [
           "VBFT"
          ],
          [
           "Ethash"
          ],
          [
           "CryptoNight"
          ],
          [
           "Scrypt"
          ],
          [
           "IMesh"
          ],
          [
           "NIST5"
          ],
          [
           "Scrypt"
          ],
          [
           "Scrypt"
          ],
          [
           "Equihash"
          ],
          [
           "Scrypt"
          ],
          [
           "Lyra2Z"
          ],
          [
           "Green Protocol"
          ],
          [
           "PoS"
          ],
          [
           "Scrypt"
          ],
          [
           "Semux BFT consensus"
          ],
          [
           "X11"
          ],
          [
           "Quark"
          ],
          [
           "PoS"
          ],
          [
           "CryptoNight"
          ],
          [
           "X16R"
          ],
          [
           "Scrypt"
          ],
          [
           "NIST5"
          ],
          [
           "Lyra2RE"
          ],
          [
           "XEVAN"
          ],
          [
           "Tribus"
          ],
          [
           "Scrypt"
          ],
          [
           "Lyra2Z"
          ],
          [
           "CryptoNight"
          ],
          [
           "CryptoNight Heavy"
          ],
          [
           "CryptoNight"
          ],
          [
           "Scrypt"
          ],
          [
           "Scrypt"
          ],
          [
           "Jump Consistent Hash"
          ],
          [
           "SHA-256D"
          ],
          [
           "CryptoNight"
          ],
          [
           "Scrypt"
          ],
          [
           "X15"
          ],
          [
           "Scrypt"
          ],
          [
           "Quark"
          ],
          [
           "SHA-256"
          ],
          [
           "DPoS"
          ],
          [
           "X16R"
          ],
          [
           "HMQ1725"
          ],
          [
           "X11"
          ],
          [
           "X16R"
          ],
          [
           "Quark"
          ],
          [
           "Quark"
          ],
          [
           "Scrypt"
          ],
          [
           "Lyra2REv2"
          ],
          [
           "Quark"
          ],
          [
           "Scrypt"
          ],
          [
           "Scrypt"
          ],
          [
           "CryptoNight-V7"
          ],
          [
           "Cryptonight-GPU"
          ],
          [
           "XEVAN"
          ],
          [
           "CryptoNight Heavy"
          ],
          [
           "X11"
          ],
          [
           "X11"
          ],
          [
           "Scrypt"
          ],
          [
           "PoS"
          ],
          [
           "SHA-256"
          ],
          [
           "Keccak"
          ],
          [
           "X11"
          ],
          [
           "X11"
          ],
          [
           "Scrypt"
          ],
          [
           "SHA-512"
          ],
          [
           "X16R"
          ],
          [
           "ECC 256K1"
          ],
          [
           "Equihash"
          ],
          [
           "XEVAN"
          ],
          [
           "Lyra2Z"
          ],
          [
           "SHA-256"
          ],
          [
           "XEVAN"
          ],
          [
           "X11"
          ],
          [
           "CryptoNight"
          ],
          [
           "Quark"
          ],
          [
           "Blake"
          ],
          [
           "Blake"
          ],
          [
           "Equihash"
          ],
          [
           "Exosis"
          ],
          [
           "Scrypt"
          ],
          [
           "Scrypt"
          ],
          [
           "Equihash"
          ],
          [
           "Quark"
          ],
          [
           "Equihash"
          ],
          [
           "Quark"
          ],
          [
           "Scrypt"
          ],
          [
           "QuBit"
          ],
          [
           "X11"
          ],
          [
           "Scrypt"
          ],
          [
           "XEVAN"
          ],
          [
           "SHA-256D"
          ],
          [
           "X11"
          ],
          [
           "SHA-256"
          ],
          [
           "X13"
          ],
          [
           "SHA-256"
          ],
          [
           "X11"
          ],
          [
           "DPoS"
          ],
          [
           "Scrypt"
          ],
          [
           "Scrypt"
          ],
          [
           "X11"
          ],
          [
           "NeoScrypt"
          ],
          [
           "Scrypt"
          ],
          [
           "Blake"
          ],
          [
           "Scrypt"
          ],
          [
           "SHA-256"
          ],
          [
           "Scrypt"
          ],
          [
           "X11"
          ],
          [
           "Scrypt"
          ],
          [
           "Scrypt"
          ],
          [
           "SHA-256"
          ],
          [
           "X11"
          ],
          [
           "SHA-256"
          ],
          [
           "Scrypt"
          ],
          [
           "Scrypt"
          ],
          [
           "Scrypt"
          ],
          [
           "Groestl"
          ],
          [
           "X11"
          ],
          [
           "Scrypt"
          ],
          [
           "PoS"
          ],
          [
           "Scrypt"
          ],
          [
           "Scrypt"
          ],
          [
           "X11"
          ],
          [
           "SHA-256"
          ],
          [
           "DPoS"
          ],
          [
           "Scrypt"
          ],
          [
           "Scrypt"
          ],
          [
           "NeoScrypt"
          ],
          [
           "Multiple"
          ],
          [
           "X13"
          ],
          [
           "Equihash+Scrypt"
          ],
          [
           "DPoS"
          ],
          [
           "Ethash"
          ],
          [
           "DPoS"
          ],
          [
           "SHA-256"
          ],
          [
           "Leased POS"
          ],
          [
           "PoS"
          ],
          [
           "PoS"
          ],
          [
           "SHA-256"
          ],
          [
           "Scrypt"
          ],
          [
           "CryptoNight"
          ],
          [
           "Equihash"
          ],
          [
           "Scrypt"
          ]
         ],
         "hovertemplate": "<b>%{hovertext}</b><br><br>PC 1=%{x}<br>PC 2=%{y}<br>PC 3=%{z}<br>Algorithm=%{customdata[0]}<br>class=%{marker.color}<extra></extra>",
         "hovertext": [
          "42 Coin",
          "404Coin",
          "EliteCoin",
          "Bitcoin",
          "Ethereum",
          "Litecoin",
          "Dash",
          "Monero",
          "Ethereum Classic",
          "ZCash",
          "Bitshares",
          "DigiByte",
          "BitcoinDark",
          "PayCoin",
          "ProsperCoin",
          "KoboCoin",
          "Spreadcoin",
          "Argentum",
          "Aurora Coin",
          "BlueCoin",
          "MyriadCoin",
          "MoonCoin",
          "ZetaCoin",
          "SexCoin",
          "Quatloo",
          "EnergyCoin",
          "QuarkCoin",
          "Riecoin",
          "Digitalcoin ",
          "BitBar",
          "Catcoin",
          "CryptoBullion",
          "CannaCoin",
          "CryptCoin",
          "CasinoCoin",
          "Diamond",
          "Verge",
          "DevCoin",
          "EarthCoin",
          "E-Gulden",
          "Einsteinium",
          "Emerald",
          "Exclusive Coin",
          "FlutterCoin",
          "Franko",
          "FeatherCoin",
          "GrandCoin",
          "GlobalCoin",
          "GoldCoin",
          "HoboNickels",
          "HyperStake",
          "Infinite Coin",
          "IOCoin",
          "IXcoin",
          "KrugerCoin",
          "LuckyCoin",
          "Litebar ",
          "MaxCoin",
          "MegaCoin",
          "MediterraneanCoin",
          "MintCoin",
          "MinCoin",
          "MazaCoin",
          "Nautilus Coin",
          "NavCoin",
          "NobleCoin",
          "Namecoin",
          "NyanCoin",
          "OpalCoin",
          "Orbitcoin",
          "PotCoin",
          "PhoenixCoin",
          "Reddcoin",
          "RonPaulCoin",
          "StableCoin",
          "SmartCoin",
          "SuperCoin",
          "SyncCoin",
          "SysCoin",
          "TeslaCoin",
          "TigerCoin",
          "TittieCoin",
          "TorCoin",
          "TerraCoin",
          "UnbreakableCoin",
          "Unobtanium",
          "UroCoin",
          "UnitaryStatus Dollar",
          "UltraCoin",
          "ViaCoin",
          "VeriCoin",
          "Vertcoin",
          "WorldCoin",
          "X11 Coin",
          "Crypti",
          "JouleCoin",
          "StealthCoin",
          "ZCC Coin",
          "ByteCoin",
          "DigitalNote ",
          "BurstCoin",
          "StorjCoin",
          "MonaCoin",
          "Neutron",
          "FairCoin",
          "Gulden",
          "RubyCoin",
          "PesetaCoin",
          "Kore",
          "Wild Beast Coin",
          "Dnotes",
          "Flo",
          "8BIT Coin",
          "Sativa Coin",
          "ArtByte",
          "Folding Coin",
          "Ucoin",
          "Unitus",
          "CypherPunkCoin",
          "OmniCron",
          "Vtorrent",
          "GreenCoin",
          "Cryptonite",
          "MasterCoin",
          "SoonCoin",
          "1Credit",
          "IslaCoin",
          "Nexus",
          "MarsCoin ",
          "Crypto",
          "Anarchists Prime",
          "Droidz",
          "BowsCoin",
          "Squall Coin",
          "Song Coin",
          "BitZeny",
          "Diggits",
          "Expanse",
          "Paycon",
          "Siacoin",
          "Emercoin",
          "EverGreenCoin",
          "MindCoin",
          "I0coin",
          "Decred",
          "Revolution VR",
          "HOdlcoin",
          "EDRCoin",
          "Hitcoin",
          "Gamecredits",
          "DubaiCoin",
          "CarpeDiemCoin",
          "PWR Coin",
          "BillaryCoin",
          "GPU Coin",
          "Adzcoin",
          "SoilCoin",
          "YoCoin",
          "SibCoin",
          "EuropeCoin",
          "ZeitCoin",
          "SwingCoin",
          "SafeExchangeCoin",
          "Nebuchadnezzar",
          "Francs",
          "BolivarCoin",
          "Ratecoin",
          "Revenu",
          "Clockcoin",
          "VIP Tokens",
          "BitSend",
          "Omni",
          "Let it Ride",
          "PutinCoin",
          "iBankCoin",
          "Frankywillcoin",
          "MudraCoin",
          "PizzaCoin",
          "Lutetium Coin",
          "Komodo",
          "GoldBlocks",
          "CarterCoin",
          "Karbo",
          "BitTokens",
          "ZayedCoin",
          "MustangCoin",
          "ZoneCoin",
          "Circuits of Value",
          "RootCoin",
          "DopeCoin",
          "BitCurrency",
          "DollarCoin",
          "Swiscoin",
          "Shilling",
          "BuzzCoin",
          "Opair",
          "PesoBit",
          "Halloween Coin",
          "ZCoin",
          "CoffeeCoin",
          "RoyalCoin",
          "GanjaCoin V2",
          "TeamUP",
          "LanaCoin",
          "Elementrem",
          "ZClassic",
          "ARK",
          "InsaneCoin",
          "KiloCoin",
          "ArtexCoin",
          "EmberCoin",
          "XenixCoin",
          "FreeCoin",
          "PLNCoin",
          "AquariusCoin",
          "Kurrent",
          "Creatio",
          "Eternity",
          "Eurocoin",
          "BitcoinFast",
          "Stakenet",
          "BitConnect Coin",
          "MoneyCoin",
          "Enigma",
          "Cannabis Industry Coin",
          "Russiacoin",
          "PandaCoin",
          "GameUnits",
          "GAKHcoin",
          "Allsafe",
          "LiteCreed",
          "OsmiumCoin",
          "Bikercoins",
          "HexxCoin",
          "Klingon Empire Darsek",
          "Internet of People",
          "KushCoin",
          "Printerium",
          "PacCoin",
          "Impeach",
          "Citadel",
          "Zilbercoin",
          "FirstCoin",
          "BeaverCoin",
          "FindCoin",
          "VaultCoin",
          "Zero",
          "OpenChat",
          "Canada eCoin",
          "Zoin",
          "RenosCoin",
          "DubaiCoin",
          "VirtacoinPlus",
          "TajCoin",
          "Impact",
          "EB3coin",
          "Atmos",
          "HappyCoin",
          "Coinonat",
          "MacronCoin",
          "Condensate",
          "Independent Money System",
          "ArgusCoin",
          "LomoCoin",
          "ProCurrency",
          "GoldReserve",
          "BenjiRolls",
          "GrowthCoin",
          "ILCoin",
          "Phreak",
          "Degas Coin",
          "HTML5 Coin",
          "Ultimate Secure Cash",
          "EquiTrader",
          "QTUM",
          "Quantum Resistant Ledger",
          "Espers",
          "Dynamic",
          "Nano",
          "ChanCoin",
          "Dinastycoin",
          "Denarius",
          "DigitalPrice",
          "Virta Unique Coin",
          "Bitcoin Planet",
          "Unify",
          "BritCoin",
          "SocialCoin",
          "ArcticCoin",
          "DAS",
          "Linda",
          "LeviarCoin",
          "DeepOnion",
          "Bitcore",
          "gCn Coin",
          "SmartCash",
          "Signatum",
          "Onix",
          "Cream",
          "Bitcoin Cash",
          "Monoeci",
          "Draftcoin",
          "Vechain",
          "Sojourn Coin",
          "Stakecoin",
          "NewYorkCoin",
          "FrazCoin",
          "Kronecoin",
          "AdCoin",
          "Linx",
          "CoinonatX",
          "Ethereum Dark",
          "Sumokoin",
          "Obsidian",
          "Cardano",
          "Regalcoin",
          "BitcoinZ",
          "TrezarCoin",
          "Elements",
          "TerraNovaCoin",
          "VIVO Coin",
          "Rupee",
          "Bitcoin Gold",
          "WomenCoin",
          "Theresa May Coin",
          "NamoCoin",
          "LUXCoin",
          "Pirl",
          "Xios",
          "Bitcloud 2.0",
          "eBoost",
          "KekCoin",
          "BlackholeCoin",
          "Infinity Economics",
          "Pura",
          "Innova",
          "Ellaism",
          "GoByte",
          "Magnet",
          "Lamden Tau",
          "Electra",
          "Bitcoin Diamond",
          "SHIELD",
          "Cash & Back Coin",
          "UltraNote",
          "BitCoal",
          "DaxxCoin",
          "Bulwark",
          "Kalkulus",
          "AC3",
          "Lethean",
          "GermanCoin",
          "LiteCoin Ultra",
          "PopularCoin",
          "PhantomX",
          "Photon",
          "Sucre",
          "SparksPay",
          "Digiwage",
          "GunCoin",
          "IrishCoin",
          "Trollcoin",
          "Litecoin Plus",
          "Monkey Project",
          "Pioneer Coin",
          "UnitedBitcoin",
          "Interzone",
          "TokenPay",
          "1717 Masonic Commemorative Token",
          "My Big Coin",
          "TurtleCoin",
          "MUNcoin",
          "Unified Society USDEX",
          "Niobio Cash",
          "ShareChain",
          "Travelflex",
          "KREDS",
          "Tokyo Coin",
          "BiblePay",
          "LitecoinCash",
          "BitFlip",
          "LottoCoin",
          "Crypto Improvement Fund",
          "Stipend",
          "Poa Network",
          "Pushi",
          "Ellerium",
          "Velox",
          "Ontology",
          "Callisto Network",
          "BitTube",
          "Poseidon",
          "Aidos Kuneen",
          "Bitspace",
          "Briacoin",
          "Ignition",
          "Bitrolium",
          "MedicCoin",
          "Alpenschillling",
          "Bitcoin Green",
          "Deviant Coin",
          "Abjcoin",
          "Semux",
          "FuturoCoin",
          "Carebit",
          "Zealium",
          "Monero Classic",
          "Proton",
          "iDealCash",
          "Jumpcoin",
          "Infinex",
          "Bitcoin Incognito",
          "KEYCO",
          "HollyWoodCoin",
          "GINcoin",
          "PlatinCoin",
          "Loki",
          "Newton Coin",
          "Swisscoin",
          "Xt3ch",
          "MassGrid",
          "TheVig",
          "PluraCoin",
          "EmaratCoin",
          "Dekado",
          "Lynx",
          "Poseidon Quark",
          "BitcoinWSpectrum",
          "Muse",
          "Motion",
          "PlusOneCoin",
          "Axe",
          "Trivechain",
          "Dystem",
          "Giant",
          "Peony Coin",
          "Absolute Coin",
          "Vitae",
          "HexCoin",
          "TPCash",
          "Webchain",
          "Ryo",
          "Urals Coin",
          "Qwertycoin",
          "ARENON",
          "EUNO",
          "MMOCoin",
          "Ketan",
          "Project Pai",
          "XDNA",
          "PAXEX",
          "Azart",
          "ThunderStake",
          "Kcash",
          "Xchange",
          "Acute Angle Cloud",
          "CrypticCoin",
          "Bettex coin",
          "Actinium",
          "Bitcoin SV",
          "BitMoney",
          "Junson Ming Chan Coin",
          "FREDEnergy",
          "HerbCoin",
          "Universal Molecule",
          "Lithium",
          "PirateCash",
          "Exosis",
          "Block-Logic",
          "Oduwa",
          "Beam",
          "Galilel",
          "Bithereum",
          "Crypto Sports",
          "Credit",
          "SLICE",
          "Dash Platinum",
          "Nasdacoin",
          "Beetle Coin",
          "Titan Coin",
          "Award",
          "BLAST",
          "Bitcoin Rhodium",
          "GlobalToken",
          "Insane Coin",
          "ALAX",
          "LiteDoge",
          "SolarCoin",
          "TruckCoin",
          "UFO Coin",
          "OrangeCoin",
          "BlakeCoin",
          "BitstarCoin",
          "NeosCoin",
          "HyperCoin",
          "PinkCoin",
          "Crypto Escudo",
          "AudioCoin",
          "IncaKoin",
          "Piggy Coin",
          "Crown Coin",
          "Genstake",
          "SmileyCoin",
          "XiaoMiCoin",
          "Groestlcoin",
          "CapriCoin",
          " ClubCoin",
          "Radium",
          "Bata",
          "Pakcoin",
          "Creditbit ",
          "OKCash",
          "Lisk",
          "HiCoin",
          "WhiteCoin",
          "FriendshipCoin",
          "JoinCoin",
          "Triangles Coin",
          "Vollar",
          "EOS",
          "Reality Clash",
          "Oxycoin",
          "TigerCash",
          "Waves",
          "Particl",
          "Nxt",
          "ZEPHYR",
          "Gapcoin",
          "Beldex",
          "Horizen",
          "BitcoinPlus"
         ],
         "legendgroup": "",
         "marker": {
          "color": [
           0,
           0,
           0,
           1,
           1,
           1,
           0,
           1,
           1,
           1,
           0,
           1,
           0,
           0,
           1,
           0,
           1,
           1,
           0,
           0,
           1,
           1,
           1,
           1,
           1,
           0,
           1,
           1,
           1,
           0,
           1,
           0,
           1,
           1,
           0,
           0,
           1,
           1,
           1,
           1,
           1,
           1,
           0,
           0,
           1,
           1,
           1,
           1,
           1,
           0,
           0,
           1,
           0,
           1,
           1,
           1,
           1,
           0,
           1,
           1,
           0,
           1,
           0,
           0,
           0,
           1,
           1,
           1,
           0,
           0,
           0,
           0,
           0,
           1,
           1,
           1,
           0,
           0,
           1,
           0,
           1,
           0,
           0,
           1,
           1,
           1,
           1,
           0,
           0,
           1,
           0,
           1,
           1,
           0,
           0,
           1,
           0,
           0,
           1,
           1,
           0,
           0,
           1,
           0,
           0,
           1,
           0,
           1,
           0,
           1,
           0,
           1,
           0,
           0,
           1,
           1,
           0,
           1,
           1,
           1,
           0,
           1,
           1,
           1,
           1,
           1,
           0,
           0,
           1,
           1,
           1,
           0,
           1,
           0,
           1,
           1,
           0,
           1,
           0,
           1,
           0,
           0,
           1,
           1,
           0,
           1,
           1,
           0,
           0,
           1,
           0,
           1,
           0,
           0,
           0,
           1,
           1,
           1,
           1,
           0,
           0,
           0,
           0,
           0,
           1,
           1,
           0,
           0,
           0,
           0,
           0,
           1,
           0,
           0,
           0,
           0,
           0,
           1,
           0,
           1,
           0,
           0,
           1,
           0,
           1,
           0,
           0,
           1,
           0,
           1,
           0,
           1,
           0,
           1,
           0,
           0,
           0,
           0,
           1,
           0,
           0,
           0,
           0,
           0,
           1,
           1,
           0,
           0,
           1,
           1,
           0,
           0,
           0,
           0,
           0,
           1,
           0,
           0,
           0,
           0,
           0,
           0,
           0,
           0,
           1,
           0,
           0,
           0,
           0,
           0,
           0,
           1,
           1,
           1,
           0,
           0,
           0,
           0,
           1,
           0,
           1,
           0,
           0,
           1,
           0,
           1,
           1,
           0,
           1,
           1,
           0,
           1,
           0,
           0,
           0,
           1,
           0,
           0,
           1,
           0,
           0,
           0,
           0,
           0,
           0,
           0,
           1,
           0,
           1,
           0,
           0,
           0,
           0,
           1,
           0,
           1,
           0,
           1,
           1,
           1,
           1,
           0,
           1,
           0,
           0,
           1,
           0,
           1,
           1,
           1,
           0,
           1,
           0,
           1,
           1,
           1,
           0,
           1,
           0,
           1,
           0,
           0,
           2,
           1,
           0,
           1,
           1,
           1,
           1,
           1,
           0,
           0,
           1,
           0,
           0,
           0,
           1,
           0,
           1,
           0,
           1,
           0,
           1,
           0,
           0,
           0,
           0,
           1,
           0,
           0,
           1,
           0,
           0,
           0,
           1,
           1,
           1,
           1,
           0,
           0,
           0,
           0,
           1,
           0,
           1,
           1,
           1,
           0,
           0,
           1,
           1,
           0,
           0,
           1,
           0,
           1,
           1,
           1,
           0,
           1,
           1,
           0,
           0,
           0,
           1,
           1,
           1,
           0,
           0,
           0,
           1,
           1,
           0,
           1,
           1,
           1,
           1,
           0,
           3,
           3,
           1,
           1,
           1,
           0,
           0,
           0,
           0,
           0,
           0,
           1,
           1,
           1,
           1,
           0,
           0,
           0,
           1,
           0,
           1,
           0,
           0,
           0,
           0,
           1,
           0,
           0,
           1,
           0,
           0,
           1,
           1,
           0,
           1,
           0,
           1,
           1,
           1,
           1,
           0,
           0,
           1,
           0,
           1,
           0,
           0,
           1,
           0,
           0,
           0,
           1,
           1,
           1,
           0,
           0,
           0,
           0,
           0,
           0,
           1,
           0,
           1,
           1,
           1,
           1,
           0,
           0,
           0,
           0,
           1,
           0,
           0,
           1,
           0,
           0,
           1,
           3,
           1,
           0,
           1,
           1,
           0,
           0,
           1,
           0,
           1,
           1,
           1,
           1,
           1,
           0,
           1,
           0,
           1,
           0,
           0,
           1,
           0,
           0,
           0,
           0,
           0,
           1,
           1,
           1,
           0,
           0,
           0,
           1,
           0,
           1,
           0,
           1,
           0,
           0,
           0,
           0,
           1,
           0,
           0,
           0,
           1,
           0,
           1,
           0,
           1,
           0,
           0,
           0,
           1,
           1,
           0,
           0,
           0,
           0,
           0,
           0,
           1,
           0,
           1,
           0,
           1,
           0,
           0,
           3,
           0,
           0,
           0,
           0,
           1,
           1,
           0
          ],
          "coloraxis": "coloraxis",
          "symbol": "circle"
         },
         "mode": "markers",
         "name": "",
         "scene": "scene",
         "showlegend": false,
         "type": "scatter3d",
         "x": [
          -0.5569133052937062,
          -0.5245382646828908,
          3.706674168241662,
          0.3665611913752629,
          0.644856469521429,
          0.5140797419881533,
          -0.9520930158628234,
          0.7711633291100679,
          0.6475659686070524,
          0.7730050081427962,
          -1.0917303700018917,
          0.9222187714879253,
          -0.7022541396507441,
          -0.7461674551949619,
          0.5119048709009253,
          -0.7549450408869581,
          0.11635418199095647,
          0.5125889762923433,
          -0.5562635550689742,
          -0.5413385799957307,
          0.7059335069788739,
          5.2116458091912925,
          0.37211487262904386,
          0.5177268744398381,
          0.5116990314664929,
          -0.5538969432539171,
          -0.10935989298665176,
          0.2758576798345416,
          0.5129157088596595,
          -0.5569061432084954,
          0.5119404518729123,
          -0.5568755973453755,
          0.5117825749163919,
          0.11617889353399197,
          1.9409048252352883,
          -0.7946700961266252,
          1.233150525647292,
          0.8285967699057815,
          0.9840865941157525,
          0.5122760170648407,
          0.5205406078513051,
          0.5123760057869383,
          -1.3814135768250184,
          -0.20723624634576895,
          0.5116719813182214,
          0.4663797723734691,
          0.5505652327398936,
          0.5139729312846452,
          0.513411815208891,
          -0.5547130659232564,
          -0.9555013045290566,
          3.8410169248900567,
          -0.9518817423795184,
          0.36663869868378873,
          0.5184672806374873,
          0.5122249481510025,
          0.5115500385811084,
          -1.2682460073324655,
          0.5129556588360474,
          0.659373123638865,
          -0.07904233228307418,
          0.511771111303372,
          -0.6333877716747891,
          -0.6003781402166535,
          -0.8546596490648419,
          0.5707245396997535,
          0.366482983034287,
          0.5238352878392317,
          -0.8559080003415611,
          -0.6111421577780423,
          -0.5463145399197346,
          -0.5539009935937047,
          0.1616337148633881,
          0.5117905489461575,
          0.5151599655581046,
          0.5127604536930145,
          -0.9954002348828346,
          -0.9525836175388795,
          0.3905416263999728,
          -0.4704265188865067,
          0.3675072880040221,
          -1.1895119579088431,
          -0.9524261633999554,
          0.36694098558206717,
          0.36689977860639483,
          0.365872728192118,
          0.11586568663286863,
          -0.5298547369827797,
          -0.5556697633606001,
          0.5123554112061175,
          -0.25918934688497064,
          0.29897121738052207,
          0.5176868404588917,
          -0.9523459687256112,
          -0.46995492766850067,
          0.3673762589001828,
          -0.8554683418724595,
          -0.5531635532073322,
          8.188466157826282,
          1.5894852873918568,
          1.007562767334181,
          -1.3057061565100636,
          0.5144646132324391,
          -0.7007637904119689,
          -0.7935008810478977,
          0.5422423187698142,
          -0.6003064540525607,
          0.5169136651441714,
          -0.8560830429290399,
          0.5115430718889777,
          -0.5905720835042547,
          0.5152509569875982,
          -0.5568773289292269,
          -0.8559831461450784,
          0.5310545412700556,
          0.739780499191803,
          -0.996332390260843,
          0.6416691857019666,
          0.39861766422024353,
          0.5117962515754472,
          -0.5563840672809596,
          0.6257334238902575,
          0.8214360163977314,
          0.5115292125881605,
          0.36642725094363426,
          1.6375836636670908,
          -0.9525465565827036,
          -1.4897515979000377,
          0.11702978826238018,
          0.692457279034459,
          0.3668842283897802,
          -1.3395206285844043,
          0.11648196822741258,
          -0.7682260813745626,
          0.5148779730944186,
          0.5164198022466091,
          -0.5985094501527146,
          0.6426812273824147,
          -0.8551027052498702,
          1.896812549224486,
          -0.7013771814252954,
          -0.7592015587852122,
          0.11642086304643515,
          0.36663644682736485,
          -0.004281138860074675,
          0.5192240960080402,
          0.6790230738545019,
          -0.7021957836863381,
          -0.35808490035598534,
          0.5142463381556606,
          -0.7023007739636432,
          1.1634326242019137,
          -0.6644238571258256,
          -0.5561786630002805,
          -0.5972749710893959,
          0.11796993864282902,
          0.709393876939392,
          0.5135826573787426,
          0.7533005519235555,
          -0.9476284291076118,
          1.5169752461473276,
          -0.7019581259884605,
          0.5497979359894742,
          -1.3808177764930238,
          0.5119123007873555,
          0.11647676522356303,
          -0.9483676179151144,
          -0.6997995642007577,
          -0.695720619191351,
          -0.9080867426274372,
          -0.9502845442782774,
          0.5115291012335008,
          -1.2888891066748427,
          -0.5125038978796904,
          -0.5562597255534846,
          -0.554449990240972,
          -0.8977684112775365,
          0.11617586699750489,
          -0.9724979002616959,
          0.5481424205239621,
          -0.9515901788584656,
          -0.5547536921832108,
          1.4192896698203261,
          -0.7022833761713426,
          0.36613695312455796,
          -0.9525308196183361,
          -0.5565929819021681,
          0.6647063747232473,
          -0.5568657586709221,
          0.5168184016806561,
          -0.5968157746734578,
          0.3662181684397144,
          -0.16791423490223215,
          0.5121461848325497,
          -0.2898166675455408,
          -1.378832409373959,
          -0.5560916334658161,
          -0.9459737872767513,
          0.732252977305685,
          -1.3774180309948434,
          -0.9002470730214356,
          -1.2629127344600473,
          -1.3774318173683648,
          -0.8960844924358488,
          0.64318011891971,
          0.7729616361882827,
          -1.7155413177344165,
          -0.9517668638340446,
          0.5175418546869412,
          0.1421529392613954,
          1.4138412106174,
          -0.9524420461224743,
          -1.379715255110464,
          -0.5560227001135108,
          -0.556339188074609,
          0.12013090088755116,
          -1.3808177764930238,
          -0.9517004941949171,
          -0.7020058712829506,
          -0.5560131920744456,
          -0.9640716425615022,
          -0.5562989913433516,
          -0.5486817447020069,
          -0.9525024906860832,
          1.4192565504908239,
          -0.5549454064881022,
          0.6257941413179103,
          -0.5566690620605916,
          -0.5567914492281524,
          -1.2307829199871363,
          -0.6682522630286346,
          0.5115615823074093,
          1.4195108845912219,
          0.6914835641819899,
          -0.5502059240741393,
          -0.7022360544728611,
          -0.9523304573666367,
          -0.5563787482975646,
          0.1412378830217729,
          -0.5566372903166842,
          0.7732749723684779,
          -0.6002279341966816,
          -0.24375433059891763,
          0.5116239299109582,
          -0.8998051557157983,
          0.11670326687780427,
          0.7729447390325215,
          -0.5322801408745815,
          0.5139659247441857,
          0.6920267885472511,
          -0.5996677671030576,
          0.6997051134887129,
          -0.9522487896124044,
          -1.2326940047451618,
          -0.9498597830773237,
          0.5620372747016146,
          -1.377478822160966,
          -0.9520439145831869,
          0.15802471131296372,
          -1.3668176660192601,
          -0.9434815720257043,
          -0.5565220749286812,
          -0.5565350980730044,
          -0.5567786519914689,
          0.17384595279025938,
          -0.9516731770432376,
          0.5124381968486841,
          -0.5692588777434074,
          0.4287636106117703,
          -1.380906409191269,
          -0.5551045928036591,
          1.3383238188087383,
          -0.7439119318940921,
          0.5127228681325874,
          -1.2877816940675055,
          0.7737190359520678,
          0.9845700239634633,
          0.7646378484713594,
          1.0929789872021878,
          0.694125286173055,
          1.487806855671248,
          -0.9110091278996744,
          0.11670961769689622,
          -0.9096787726827665,
          -1.2114539105009312,
          0.51218685183458,
          -0.8553909988241908,
          0.5125511084253639,
          0.11720880962674712,
          0.11613171846982764,
          0.2767821961141396,
          1.4199836102799896,
          -0.8555109787361294,
          0.6662184837757437,
          6.95610111817652,
          0.47570633228886544,
          -1.2806165396817353,
          0.11896046577641001,
          -1.2104605518705405,
          0.36656286827070195,
          -0.9521592078828595,
          -0.6003022678528195,
          21.77674012871859,
          0.640037774941439,
          -1.3807007674213478,
          4.016709536330862,
          0.5119890987627325,
          0.51296240659148,
          0.512318882678457,
          0.5123451041723598,
          -0.555843774671717,
          -0.5567589538436792,
          1.4202828210699832,
          -1.201267776586537,
          0.9779153378176149,
          -0.952075173038501,
          0.902876558626831,
          -0.601894656471926,
          0.18220755818470896,
          -0.5566927713997707,
          0.4575851006256223,
          -0.814908441273103,
          0.7732456868308998,
          0.9368641634984374,
          -0.700286533852615,
          -0.8973715374758742,
          -1.2124308624765257,
          0.7116331499227315,
          -0.5566035774653326,
          -1.1839641050466316,
          0.5139695178553328,
          -1.3101581924527863,
          -0.5563312406143034,
          -0.4158580548529279,
          0.12441475073457725,
          0.4578595710853848,
          0.6459568999668509,
          0.4576846956211233,
          -0.9498848295291195,
          -1.7065421332749975,
          0.1520495559732518,
          -0.8492105461068711,
          0.6599591587198845,
          -0.551622787347023,
          2.93198319030518,
          1.4192388343132356,
          0.6562084981000146,
          -0.9546292887044402,
          -1.2305639201332415,
          0.12453667677382783,
          0.7937906973808835,
          0.17546864202332807,
          -0.5566947008866244,
          0.6698717887476916,
          -0.9508644067015819,
          2.902743595806504,
          0.11618210249946324,
          0.45760189610352525,
          -1.2305429418243643,
          0.47062076176746354,
          0.513404627292326,
          -0.5314109346380893,
          -0.5568029601750997,
          -0.9962780545437736,
          0.11632541813899173,
          0.3666058585769021,
          0.3850006625143206,
          -1.2894378682695116,
          -0.4702027025296894,
          -0.24208046990708415,
          2.843873091834666,
          0.7393657939047376,
          -0.5483173773227958,
          1.4263709459208516,
          0.7578381059566823,
          0.7115297814661606,
          0.3125910854239766,
          -0.8849021941830296,
          -1.080582260235227,
          -3.297473839280169,
          0.5123011076312051,
          1.0919927610535693,
          0.1271351347445982,
          -0.6834801872728832,
          -2.699091560781909,
          -0.9522245248678413,
          -0.7037291645165846,
          -0.5988282727924003,
          -1.2190884252731748,
          0.7278458683383403,
          1.4210600003780076,
          0.5118632492210123,
          0.6613361416516479,
          -0.9102838229344664,
          -0.5568558597674919,
          -0.5568231316175721,
          0.7751727785765887,
          -0.5883011226929384,
          0.7361476586089069,
          -1.2106565797815492,
          -1.379939463565727,
          -0.5563039297631429,
          -1.73280454946384,
          0.11662781267512969,
          -1.1812917440697153,
          -1.3803021320809135,
          1.419593337160439,
          -0.7882004363427043,
          -0.45980392186591185,
          0.1579594467325741,
          0.6917617930140012,
          -0.519600001868595,
          0.7547030258310252,
          -0.599705794577633,
          0.7321052995288538,
          1.4263215768848452,
          2.799861947401116,
          4.683285984745209,
          -0.18205603676713103,
          -0.6002471919651259,
          0.7344336541987933,
          -1.0136552313705656,
          1.4328260719977524,
          -0.5553557349808063,
          -0.8020706650839534,
          5.388863598015437,
          -1.2232017750529163,
          -0.7439702734285982,
          -1.4606898190030266,
          0.32408941520316825,
          0.6972210453571416,
          0.1162155164202051,
          -0.7428843350311862,
          -1.2307936841186968,
          -1.1869567187462318,
          -0.39433693349411564,
          -0.7707616086039896,
          -1.229593046735462,
          0.5118117370587488,
          -0.5566584560335288,
          0.7925435044748987,
          0.7355555793182335,
          0.3668777433429333,
          7.497406168862911,
          -0.9954976110371789,
          -0.9512174374316602,
          -0.5951490057198218,
          -1.3787537868904853,
          0.4175943922251228,
          -0.7042476568949549,
          -0.9965204664387929,
          0.11626503629279097,
          -0.5297090252456589,
          -1.1951837336842008,
          0.3238713505651686,
          -1.547848852609879,
          0.9693964255942341,
          -0.7477549361482732,
          0.7331678941911491,
          0.36656279290009536,
          1.209925745153019,
          -0.5748146965495557,
          1.5636372482926617,
          -1.1856383721039088,
          0.7665553573812104,
          0.7659272237691552,
          -0.33829670869046147,
          0.6592208730990975,
          0.5123835417400521,
          -0.5562940589033062,
          0.7766583912483781,
          -1.1864841689104348,
          0.7735615129633485,
          -1.2310132487502274,
          1.1141964528116102,
          0.398790707183034,
          -0.9963844502370942,
          -0.5553815401968376,
          -0.6934777385222544,
          -0.9313119341291223,
          -0.9470649194340667,
          0.3679298622826434,
          0.21219464737203567,
          0.36999498661080665,
          -0.951633693228705,
          -1.6950902610689937,
          0.246962476261668,
          0.5248757762160434,
          -0.9466379813758766,
          0.5998582572913872,
          -0.5543786193291443,
          0.8514821259212302,
          -0.5557448682856095,
          -0.7462497728879841,
          -0.5566772387430904,
          -0.9357683237007107,
          0.5307524080812532,
          -0.40435536517606957,
          -0.2628263578547197,
          -0.940347041605581,
          0.36694224869749087,
          -0.5552590616534515,
          1.848630013358499,
          -0.5421072216122502,
          0.27669684006538237,
          -0.9451021557965839,
          -0.5543612152799487,
          -1.3813489695696872,
          0.5116914880797647,
          0.5154421359639071,
          -0.9314955924706245,
          -0.6994394475162642,
          -1.7148244448702474,
          -0.23335149429379062,
          -0.5470644734210277,
          -0.6105033257928975,
          0.6401891730952575,
          -0.8562745750844696,
          0.8214388943437424,
          -1.6947090985236328,
          0.6431169960815897,
          -1.6922129769600753,
          -0.721981303412905,
          -2.8987706212037776,
          -1.3812195725215115,
          -1.7584945982459135,
          -0.9314793598539463,
          -0.5534873488883792,
          1.460140193167044,
          0.7730028875019184,
          -0.6009573814096854
         ],
         "y": [
          0.8303531655100158,
          0.8416610358313604,
          3.271318676799302,
          -1.219971478112683,
          -1.816504444255313,
          -0.9802662077646459,
          0.9035350109016834,
          -2.0177922848589085,
          -1.815462663895971,
          -1.9257048804831316,
          1.0341494757143332,
          -1.5543039350594543,
          0.5914368994801235,
          0.34013735191261585,
          -0.9810415601321182,
          1.657418810258538,
          -0.9079990358613653,
          -0.9807843056519444,
          0.830583620984518,
          0.835645496032751,
          -1.6267660956804657,
          0.8373440797382741,
          -1.217998527957503,
          -0.9789311876052093,
          -0.981123036867291,
          0.8313781328388884,
          -0.5703939868494905,
          -1.164930331702942,
          -0.9806824109793514,
          0.8303558874797653,
          -0.9810294696289898,
          0.8303665553398618,
          -0.9810876486817166,
          -0.9080597525148801,
          1.6758740279117226,
          0.6458496674079846,
          -1.439224036817818,
          -1.062861657582987,
          -0.812821052687274,
          -0.980915443738853,
          -0.9779463636811038,
          -0.9808751247316582,
          1.0528953564125039,
          0.1417919327778558,
          -0.9811263266149813,
          -1.5121664035167885,
          -0.9670976590435357,
          -0.9803105746953606,
          -0.9804999484705038,
          0.8311013889170245,
          0.6659919651216185,
          0.2024267957346073,
          0.9036068021588676,
          -1.219945140935714,
          -0.9786707041115139,
          -0.9809333736823643,
          -0.981173463212112,
          1.2241981017863974,
          -0.9806723911874727,
          -1.9003019176846567,
          0.7563626997764137,
          -0.9810933545671197,
          0.6162200865666392,
          0.5792208198173371,
          1.5402221161817404,
          -0.9610089384728466,
          -1.219998053502243,
          -0.9768053693602133,
          1.5397979233007286,
          0.2960913098449661,
          0.8341968240340399,
          0.8314332632319963,
          1.0745172371755538,
          -0.9810804070178145,
          -0.9798034296528952,
          -0.9807334176710831,
          0.6524342089581947,
          0.9033556186242055,
          -1.211322955019087,
          -0.08942708767493782,
          -1.2196349936392865,
          1.1759061016108607,
          0.9034148873478639,
          -1.2198303145124247,
          -1.219822405981063,
          -1.2202173840521073,
          -0.9081765597851993,
          0.8395535005548445,
          0.8307763007389039,
          -0.9808873122132604,
          0.2129993523867718,
          -1.2293984918712844,
          -0.9789358996329905,
          0.9034395430026487,
          -0.08926741640054563,
          -1.2196806777548304,
          1.5399473203463738,
          0.8316331065987039,
          0.6148571485597994,
          -1.7337991236607175,
          2.658119426299579,
          0.9943138877811167,
          -0.9801232497824764,
          0.5919698474300564,
          0.646244444107394,
          -0.9697762417383526,
          0.5792358495819759,
          -0.9792557299089797,
          1.5397453625812332,
          -0.9811750936178852,
          0.5828319125354885,
          -0.9799160837059209,
          0.8303653903442771,
          1.539778154559733,
          -0.9745407969129521,
          -2.0262305175551796,
          0.6521289922144825,
          -1.649756470657272,
          -1.446946774595222,
          -0.9810886339208011,
          0.8305445338654157,
          -0.9423167822655498,
          -2.013152697363714,
          -0.9811809611548234,
          -1.2200169914058119,
          -0.5454980897936672,
          0.9033682114530578,
          0.8426572301540818,
          -0.9077619673754337,
          -1.9775883540051094,
          -1.2198428199430469,
          1.5951973042593954,
          -0.9079550371800623,
          0.7508322254729984,
          -0.9799221769751529,
          -0.9793753340002794,
          0.5798470525934015,
          -1.817233848753057,
          1.5401003945371476,
          -1.571013621492207,
          0.5917279728861125,
          1.6557857885764502,
          -0.9079786838684814,
          -1.2199459061221498,
          1.0550579784896916,
          -0.9784454919404397,
          -1.9723517394502832,
          0.5914567289825459,
          1.1206764718933369,
          -0.9802095979709273,
          0.5914144221348687,
          -0.9367349911029228,
          1.2457997122410691,
          0.8306270159323929,
          0.5803934138042218,
          -0.9074130953760874,
          -2.069596721003003,
          -0.9803864814751817,
          -2.0855796368662993,
          0.905260817492034,
          1.3557767659958346,
          0.5915478644449524,
          1.181346707639634,
          1.053109342834416,
          -0.9810396120372249,
          -0.9079544987774896,
          0.9048314701773936,
          0.5923867081951611,
          0.5939470353779788,
          1.163054349227877,
          0.9042169961529134,
          -0.9811810007405098,
          1.0446177186581027,
          0.8465967911534815,
          0.8306008160720314,
          0.8311907826907753,
          1.2893167553500693,
          -0.9080567447460589,
          0.6605953050382878,
          -1.723460722719329,
          0.9037220209452757,
          0.8311389013295145,
          -1.7916839134128606,
          0.5914263882383514,
          -1.2201221301415228,
          0.9033752887100505,
          0.8304741207545291,
          -1.6419226103123845,
          0.8303693219469404,
          -0.9792687188706806,
          0.5804219911513598,
          -1.2200940127104491,
          0.20840003523970893,
          -0.9809543716639681,
          1.881250365286441,
          1.0538151118886963,
          0.8306323716246569,
          0.9056074208663678,
          -2.014176728597496,
          1.054276116766548,
          1.2883606216557086,
          1.5513458084034006,
          1.054421924538007,
          1.6680350157561152,
          -1.8170589622863205,
          -1.9257196183815777,
          1.4648273296507706,
          0.9036504509680212,
          -0.9790805476394716,
          -0.8989557861676254,
          2.3115544820462497,
          0.9034059461930397,
          1.0535012803252946,
          0.830678017477987,
          0.8305724691112987,
          -0.9065957647435049,
          1.053109342834416,
          0.9036903015091697,
          0.5915201084932995,
          0.8306780539745657,
          0.3764785999298641,
          0.8305780556739982,
          0.833525440182794,
          0.9033860681501048,
          -1.7916888248539757,
          0.8311048926796757,
          1.0146159642959076,
          0.830443655734176,
          0.8303964843619948,
          0.9866316011036634,
          0.36516753576260164,
          -0.9811687539790535,
          -1.7916000950953048,
          -1.9779513926870338,
          0.8329206499068873,
          0.5914424682696594,
          0.9034470360139694,
          0.8305463412692552,
          -0.8989784250286923,
          0.8304596028035747,
          -2.016968072379229,
          0.5792942437738205,
          0.1291040429975121,
          -0.9811471957895924,
          1.2885177197063111,
          -0.9078861819358175,
          -1.9257276664735705,
          0.8387293422560805,
          -0.9803527408710087,
          -1.977760461100939,
          0.5794727272456662,
          -2.0362691543247213,
          0.9034699700121697,
          1.5258333152201293,
          0.9042817603982342,
          -0.9617121564457644,
          1.0542959890011143,
          0.903539587058679,
          -0.6492963078091437,
          1.0580857229781389,
          0.9067368153752411,
          0.8304983374299486,
          0.8304981719771354,
          0.8304046870048092,
          0.6959979278809374,
          0.9036880519641587,
          -0.9808519621942242,
          0.590939091675211,
          -1.1974055516442057,
          1.0530849912129148,
          0.8310283134084958,
          2.420408902220592,
          0.34101194523730727,
          -0.9807341960777506,
          1.044975280757613,
          -2.0168633063901344,
          2.439736690001274,
          -1.9093998312912515,
          -1.843962066575908,
          -1.9972113896042976,
          -1.767254170424915,
          1.1620151874896052,
          -0.9078892133032453,
          1.1624620561226466,
          1.451037269983332,
          -0.9809467359022588,
          1.5399908996793497,
          -0.9807908306579514,
          -0.9076855672939576,
          -0.9080752637803204,
          1.1424749320437873,
          -1.79142274035287,
          1.5399437289110054,
          -2.01362221891355,
          1.3240201211606972,
          -1.2127003024857281,
          1.070460997706894,
          -0.9071191801137561,
          1.4513748157263948,
          -1.2199709082994328,
          0.9035053153920899,
          0.5792473082837464,
          16.685486771313645,
          -0.9314594977507741,
          1.053173089310203,
          0.20988770823666358,
          -0.9810135158934239,
          -0.9806458811224638,
          -0.9809124098776726,
          -0.9809034997485685,
          0.8307444167200426,
          0.8304080362100197,
          -1.7913009508789788,
          0.9949050006223699,
          1.8280561942548295,
          0.9035439569332822,
          -1.881465226110364,
          0.29946209972894566,
          -0.8856276601829203,
          0.8304371752787807,
          -1.515333024049418,
          0.33028952652194826,
          -1.9256230972639308,
          1.3523574561073441,
          0.5920933882630858,
          1.1666492747692159,
          1.403198834297775,
          -2.0687629821073252,
          0.8304705203557085,
          1.2390196377576415,
          -0.9803515199228687,
          1.0437333625042444,
          0.8305594794234487,
          0.45755949506975063,
          -0.9050697567822247,
          -1.5152293795185996,
          -1.8159690675030487,
          -1.5152964137457268,
          0.9043557032181213,
          1.468101499651967,
          1.5405373888239435,
          1.5421948207778018,
          -1.6431609367699984,
          0.8322719824990256,
          -1.2286617230919858,
          -1.7916997459474373,
          -1.8125893366910244,
          0.9108309474245904,
          0.9867089007962087,
          -0.9049130061959977,
          -2.009527148508261,
          1.1080483333797706,
          0.8304280244082507,
          -0.9244931202382515,
          0.903968640136467,
          -0.0798398695096672,
          -0.9080576242220778,
          -1.515330776498497,
          0.9867050738956535,
          -1.510630742483609,
          -0.9805071454054375,
          0.8395378738763619,
          0.8303929674289039,
          0.6521480322258889,
          -0.9080070800928829,
          -1.21995678096966,
          -1.1693899217567592,
          1.0444263470058746,
          -0.2571816985594281,
          0.09963785240599234,
          -1.301846684680036,
          -2.1098878445983127,
          0.833407854258498,
          -1.7890897068154485,
          -0.8974272814287529,
          -2.0688876566843457,
          -1.2248130950318132,
          1.2940346874871436,
          4.316048135422294,
          -1.856600402650995,
          -0.9808959625194549,
          -0.7733249077125164,
          -0.9040588736424859,
          0.6421294267870551,
          2.8559693127501724,
          0.9034920536105986,
          1.4201569274922525,
          0.5798096375497096,
          0.9800768891385825,
          -1.784556545366349,
          -1.7910823506687745,
          -0.9810557032828834,
          -2.043426509721157,
          1.162284711890625,
          0.8303744154162486,
          0.8303866897214511,
          -1.9249400133223806,
          0.5836035906898529,
          -2.012692665665093,
          0.9287175791467652,
          1.0534470044969302,
          0.8305775307847578,
          1.5258803298669192,
          -0.9079170108539121,
          1.239927712690589,
          1.053319156037326,
          -1.7915758830602477,
          0.39019299123569484,
          0.8663044887612409,
          -0.6493341983543345,
          -1.9778474628017615,
          1.2675334456628797,
          -1.9822103477916357,
          0.5794549467471994,
          -2.0142331948046635,
          -1.7889542600844828,
          -1.0495081094431746,
          -0.5764813527191563,
          0.9636119118599922,
          0.5792813573462656,
          -2.0067078142905475,
          1.6237568090806282,
          -1.7870842101520383,
          0.8309308660891579,
          1.4048832741229758,
          2.4005872268434443,
          0.9895738334910236,
          0.3409345633689002,
          1.2403256039798511,
          -1.170083061656672,
          -2.002144491903684,
          -0.9080455781694919,
          0.6419853805324115,
          0.9866314030192892,
          1.2378903903980067,
          0.6589577992526369,
          0.5816793791738926,
          0.9870278506187884,
          -0.9810725699506323,
          0.8304455298914514,
          -2.00951819951348,
          -2.072617916612208,
          -0.39055560135960066,
          0.6530938004713519,
          0.6524328332465464,
          0.903848679412855,
          0.5811382791615197,
          1.053920245478176,
          -1.2026302690319828,
          0.5582703448664214,
          0.6520541280772858,
          -0.9080264447968615,
          0.8396549076831021,
          0.9833058099954004,
          -1.170169312794162,
          5.361318692493501,
          -1.8546005420982603,
          1.1688188787658809,
          -2.013829742453564,
          -1.2199709339105524,
          2.250246107374278,
          0.7953502251025968,
          -1.7379810913261404,
          1.2383665341669137,
          -2.0360973239991513,
          -2.036356830561308,
          -0.3650578407562987,
          -2.0555662115044018,
          -0.9808904385670862,
          0.8305756955359649,
          -1.9243240301265279,
          1.2380589700896714,
          -1.9255100784971058,
          0.9865523949583438,
          1.4413300444169859,
          -1.4468873975653025,
          0.6521111291248363,
          0.8309220974123134,
          1.423894091233341,
          1.6546196858395685,
          0.9054730570526651,
          -1.2194816065608045,
          -0.2718508384041293,
          -1.2187199058543075,
          0.9036957026722482,
          1.4717103408799395,
          1.123693130754223,
          -0.9760804790117253,
          0.9053759600622843,
          -1.4646974220548097,
          0.8313297779193978,
          -2.003263414601377,
          0.8307814873264356,
          0.34011428124705584,
          0.8304333814891596,
          0.9093577964163606,
          -0.9746434625249453,
          0.8882470246968573,
          0.7407434484225633,
          0.9075194030956384,
          -1.21982988530265,
          0.8309239305914856,
          -0.49800117404091176,
          0.8356149493194004,
          -1.1646330743806548,
          0.9060177700353262,
          0.8312209486442053,
          1.0529224995108062,
          -0.9811232937326649,
          -0.9797467561810492,
          0.3851325398431183,
          0.5924411966184765,
          1.4650910587569763,
          0.7096991465097697,
          0.8338728028695055,
          0.296340905666561,
          -1.65025776815929,
          1.5396734294796246,
          -2.0382510631855335,
          1.4718340948739495,
          -1.81708140194801,
          1.4726822832141613,
          0.3483544251842675,
          1.3761194648431947,
          1.0529662579963504,
          1.149757241397211,
          0.589353147009433,
          0.831661463794116,
          -1.7770012025127842,
          -1.9257056010821978,
          0.5790152394397017
         ],
         "z": [
          -0.5827279044837501,
          -0.5830538129166822,
          -0.7392293246211995,
          0.20699323760002397,
          0.44917377362696065,
          -0.011598297464149091,
          -0.538687914511209,
          0.40650156341507176,
          0.4491326225039172,
          0.4846751633862952,
          0.23966682768670453,
          0.3708826960541881,
          -0.364162418503696,
          -0.04563010779666353,
          -0.011574117841182572,
          -0.6617206009881422,
          0.032471024067805464,
          -0.011583667508857453,
          -0.5827349560874866,
          -0.5828632296370235,
          0.37261185323386004,
          -0.08460647311306348,
          0.20693250615279601,
          -0.011643905977481361,
          -0.011570652310594119,
          -0.5827541129466838,
          0.02217017509603375,
          0.06290662045530766,
          -0.011585178699598605,
          -0.5827280086358734,
          -0.011574426995952422,
          -0.5827283159677498,
          -0.011572396163270778,
          0.032472714812312474,
          -0.4123888435955355,
          -0.5082273964664641,
          0.36681052181356255,
          0.20296287015731243,
          -0.01680703567316142,
          -0.011577342643667232,
          -0.011672529047593139,
          -0.011579133794215015,
          -0.054242106931973164,
          -0.2994041055395243,
          -0.011571275571418406,
          0.22105882322774562,
          -0.012027388758237768,
          -0.011596195483033932,
          -0.011591508382683587,
          -0.5827471056990773,
          -0.22050649438904646,
          -0.04809522539476162,
          -0.5386897502172454,
          0.20699256415709544,
          -0.0116516322590224,
          -0.011576815065795006,
          -0.011569387094346323,
          -0.2805466784183946,
          -0.011585008784278792,
          0.26033654715670423,
          -0.2687300523951125,
          -0.011572033263371731,
          -0.36496179230129056,
          -0.26420164383573247,
          -0.6732540800165037,
          -0.012091812536390105,
          0.20699391713406812,
          -0.011704275680164218,
          -0.6732432333833165,
          -0.34999324126860015,
          -0.5828552125158287,
          -0.5827622952489253,
          -0.5889711920074912,
          -0.011573124524372001,
          -0.011621602704688358,
          -0.011584084130581403,
          -0.2201598218857272,
          -0.5386818071277734,
          0.20671217751869198,
          0.12070829343566067,
          0.2069828360318094,
          -0.2545735474831145,
          -0.5386840136460908,
          0.20698817676499354,
          0.20698534842730174,
          0.20700095942483424,
          0.03247694552981268,
          -0.582963848591347,
          -0.5827387931781004,
          -0.011578200184823452,
          -0.38084526691980275,
          0.2933806507460599,
          -0.011644851196271764,
          -0.5386843331049785,
          0.12070427974150655,
          0.20698414322065706,
          -0.6732470534732471,
          -0.5827613237216744,
          0.36610422343368015,
          0.438900805844448,
          -0.41836808091602246,
          -0.05798685002821562,
          -0.011603412474615264,
          -0.3641792249921431,
          -0.5082371882319761,
          -0.011976823298463567,
          -0.26420090997495294,
          -0.011629828991493783,
          -0.673242718702926,
          -0.011569433725221743,
          -0.26432741564442414,
          -0.01160151416330754,
          -0.5827282170704347,
          -0.6732434189788176,
          -0.011739582490377393,
          0.28182795699530033,
          -0.2201533996447162,
          0.37333793491153294,
          0.2047958168061642,
          -0.011571695874772133,
          -0.5827341799456258,
          -0.0125697719056771,
          0.42979916765646653,
          -0.011569144886428158,
          0.20699440137720995,
          -0.029067500304819426,
          -0.5386821290579288,
          0.4015024805744327,
          0.03246406380660454,
          0.3894215039364944,
          0.2069876838156403,
          -1.0015664637625121,
          0.0324698299110033,
          -0.2756040120808256,
          -0.011615818582926322,
          -0.011632549131941063,
          -0.26421660757485044,
          0.44919125616376604,
          -0.6732544230039481,
          0.35787258770605035,
          -0.3641690319654112,
          -0.6616564740407317,
          0.03247078009960814,
          0.20699258372295065,
          -0.4756976481692825,
          -0.01165356090713753,
          0.32011659879328547,
          -0.364162925545065,
          -0.5460735380366092,
          -0.011599744979405064,
          -0.3641610490111765,
          0.1982577618606071,
          -0.48579107485628015,
          -0.5827378093992385,
          -0.2642457855259894,
          0.03245161860782342,
          0.4165645761683339,
          -0.011601051435961665,
          0.4495788999135744,
          -0.5387570606837934,
          -0.2908988237057035,
          -0.3641664998331526,
          -0.39712783147547714,
          -0.054248960741880264,
          -0.011574098545746644,
          0.03246953971074408,
          -0.5387247277806875,
          -0.36420057692752833,
          -0.36426136428899003,
          -0.4836814915335097,
          -0.5387134385816047,
          -0.011569143664821832,
          -0.1308245694199939,
          -0.5832814714405277,
          -0.5827373007202212,
          -0.5827493915023441,
          -0.35474632687700625,
          0.032472154145275274,
          -0.2204139056868042,
          0.8128983100762723,
          -0.5386946314003296,
          -0.5827542155337961,
          0.4403871425628444,
          -0.36416208062239847,
          0.2069978682160547,
          -0.5386825173487032,
          -0.582732448587178,
          0.3731369316274321,
          -0.5827283176017112,
          -0.011631819870152552,
          -0.2642312396742186,
          0.20699708689563706,
          -0.2965337640089485,
          -0.0115769692295522,
          -0.6653970685156333,
          -0.05427073914116871,
          -0.5827350437951294,
          -0.5387400768378396,
          0.35389719191413993,
          -0.05428017736903745,
          -0.35470822960603704,
          -0.8471523711254612,
          -0.05430194295954218,
          -0.6590817020156046,
          0.4491861416599843,
          0.4846755402350923,
          0.7443491346123701,
          -0.5386914191860366,
          -0.011629720585975866,
          0.032206615727288064,
          -0.6930358292689549,
          -0.5386833602340564,
          -0.054261055852719994,
          -0.5827388743965244,
          -0.5827364146342945,
          0.03242076782462253,
          -0.054248960741880264,
          -0.5386945114159588,
          -0.36416440794568583,
          -0.5827384924696527,
          -0.3167677153526438,
          -0.5827355899665059,
          -0.5828539857106514,
          -0.5386829311961641,
          0.4403865079571229,
          -0.5827570777801833,
          -0.277580652560423,
          -0.5827311167285257,
          -0.5827292412946293,
          -0.23035888593717768,
          -0.3663832690935616,
          -0.011569601793184212,
          0.4403839626994761,
          0.3894346423447805,
          -0.5828281093451347,
          -0.36416249178960325,
          -0.5386847910451168,
          -0.5827342261610324,
          0.03217264044423966,
          -0.582732141863521,
          0.40646770322158654,
          -0.26420620407494416,
          -0.24485467942584507,
          -0.01157019766137674,
          -0.3547130776197609,
          0.0324688294704808,
          0.484676022458486,
          -0.5829427748224193,
          -0.011590348817752557,
          0.389429000022987,
          -0.26420934610091074,
          0.36927221200697957,
          -0.5386848001376952,
          -0.7824433827594504,
          -0.5387055576584765,
          -0.012343353664539883,
          -0.05428554313598413,
          -0.5386865802490571,
          0.08750107472855151,
          -0.054402468192588316,
          -0.5388028185885902,
          -0.5827330824681061,
          -0.582733588801373,
          -0.5827299129712074,
          -0.05991174065068926,
          -0.5386930717285863,
          -0.01157996935038453,
          -0.26463837910016,
          0.2062449062068012,
          -0.054249029152897185,
          -0.5827524244199194,
          -0.6874258566704354,
          -0.045665434820594306,
          -0.011585501679734206,
          -0.13083146628037542,
          0.40647055301558216,
          -0.6801237218628841,
          0.4189893398503416,
          0.36482837675834556,
          0.41895812343740735,
          0.43962494725632006,
          -0.4836493914503009,
          0.03246952895757499,
          -0.4836601959287252,
          -0.6719511567837104,
          -0.011576423414027193,
          -0.6732502410485629,
          -0.011584260855644339,
          0.03246024432806696,
          0.03247304923865798,
          -0.5941642896506605,
          0.4403774235885678,
          -0.6732482676620571,
          0.33685225849138767,
          -0.0843348730100933,
          0.06281685359439869,
          -0.18632325050355852,
          0.03244921719552163,
          -0.6719597878452458,
          0.2069932230298744,
          -0.5386862918440325,
          -0.2642024058664244,
          1.3426447535806199,
          -0.013566119738904925,
          -0.05425346564613627,
          -0.04202478753433204,
          -0.011574765825449135,
          -0.011588589197395294,
          -0.011576038053255102,
          -0.011576265885701905,
          -0.5827412434084663,
          -0.5827295977822974,
          0.44037189831320184,
          0.2409128245189076,
          -0.10623316536157305,
          -0.5386884888032821,
          0.48353089173848546,
          -0.3501068153240771,
          0.031899677955787055,
          -0.5827311399190078,
          0.22116114834396614,
          0.040771624602317216,
          0.4846730721852855,
          -0.5978032882973212,
          -0.36417775368000277,
          -0.4837678852938587,
          -0.5723365435675178,
          0.41653452857699735,
          -0.5827323565247999,
          -0.5489311578747134,
          -0.011590380037457753,
          -0.17080794026613594,
          -0.5827342019308032,
          -0.04925370889463303,
          0.0323733165097093,
          0.2211572541983735,
          0.44914073368710167,
          0.22115988049673482,
          -0.5387173308697994,
          0.7442394983017554,
          -0.4954007815821202,
          -0.6733190349188495,
          0.3731236752890838,
          -0.5827914814743487,
          0.4201171208986949,
          0.44038737463074673,
          0.44906675329871776,
          -0.16512191002226745,
          -0.23036120803578203,
          0.032355486725434736,
          0.40622115097696593,
          -0.5932839998006473,
          -0.5827298877349032,
          -0.013364154601878633,
          -0.5387009374653852,
          0.0719412332425062,
          0.03247253599678353,
          0.22116150552389527,
          -0.23035979712366844,
          0.22100822253387306,
          -0.011590754510225409,
          -0.583024955420944,
          -0.5827291986511471,
          -0.2201539556070805,
          0.03247102243424857,
          0.2069929194296843,
          0.28450123160080565,
          -0.13081908861655642,
          0.19656982920563545,
          -0.3468588962906431,
          0.4271715880062995,
          0.43045764587643204,
          -0.5828220461550939,
          0.44029827925814735,
          -0.013717598687650738,
          0.4165484494995065,
          0.2932685159351515,
          -0.35490842962959407,
          21.066249546170674,
          14.047491690497836,
          -0.011579153837496432,
          -0.018156067207568127,
          0.032337101929299734,
          -0.28665694003196673,
          0.4688576091073087,
          -0.5386870234160849,
          -0.4285961237308874,
          -0.2642241511936365,
          -0.21252933319446618,
          0.44790766017603145,
          0.44037176057338506,
          -0.011573756200110209,
          0.4205784940573368,
          -0.4836590475355067,
          -0.5827286551669356,
          -0.5827291072381731,
          0.4846522193870635,
          -0.2643471474934342,
          0.3538399907728458,
          -0.09651412473131295,
          -0.054262294133222956,
          -0.582735714761701,
          0.7684188640961918,
          0.03247023974233603,
          -0.5489543773961748,
          -0.05425847217515715,
          0.44038379971143876,
          -0.014991344552515416,
          -0.5840011510572783,
          0.08750392693161642,
          0.38943085976890124,
          -0.1655130742560722,
          0.2857389535325137,
          -0.2642083091167407,
          0.3538993890385669,
          0.4402765712462574,
          0.44740719790319894,
          0.3965991125512895,
          -0.5868402421522968,
          -0.26420511437683003,
          0.2586941035915058,
          -0.6574308481164417,
          0.4402695279203674,
          -0.582748481412375,
          -0.3431393743575062,
          -0.5726147894781747,
          -0.23047800274952696,
          -0.04565655763200271,
          0.2987200293168566,
          0.23763844842182325,
          0.23361168804546062,
          0.0324721450486327,
          -0.33353819549813013,
          -0.23035929552206907,
          -0.5488888172762493,
          -0.2674059526529036,
          -0.2777643082683166,
          -0.2303680505406259,
          -0.011573401301440656,
          -0.5827309573258619,
          0.4061690550793767,
          0.42959753147132757,
          0.14253130412944365,
          0.39112323926500436,
          -0.22016358766629582,
          -0.5386978700636816,
          -0.2642675233575967,
          -0.05428282614379205,
          0.20654982201634847,
          -0.5069844906623061,
          -0.22015017230690867,
          0.032471379374058404,
          -0.5829726613254635,
          0.880060415598884,
          0.2376421103739375,
          14.239831736070537,
          0.48233324994169646,
          -0.11006279399313605,
          0.35388399328026765,
          0.206993223684752,
          0.06787308765356644,
          -0.22381419156784596,
          0.43845625457551446,
          -0.5489043681685487,
          0.39991093717876225,
          0.39992309392123015,
          0.23203166342103457,
          0.3298194421258005,
          -0.01157659986076586,
          -0.5827350458594206,
          0.48462314458188954,
          -0.5488940874363482,
          0.4846694990849153,
          -0.2303567479855189,
          -0.6035199161531033,
          0.20479422942421907,
          -0.2201529221521246,
          -0.5827482571968696,
          -0.42872209085537205,
          -0.6585654859093326,
          -0.5387649755594855,
          0.20697773990219298,
          -0.10208164488161332,
          0.20695107591177353,
          -0.5386925762743774,
          0.7441810831276874,
          -0.5926474132563846,
          -0.011767316920534692,
          -0.5387334672903035,
          0.21959182611370726,
          -0.5827666981729168,
          0.39859487890161166,
          -0.582742606240302,
          -0.045630105299308624,
          -0.5827299556074105,
          -0.5388698372049249,
          -0.011736957325542913,
          -0.5849338907133576,
          -0.36797874315442963,
          -0.5387889663190878,
          0.20698816579007823,
          -0.5827435355972923,
          -0.027379449388525504,
          -0.5828900918839222,
          0.06289756829599273,
          -0.5387642529339212,
          -0.5827501628472821,
          -0.05424342295723181,
          -0.011570922175812357,
          -0.01161835248245773,
          -0.20772198704302525,
          -0.3641938344222996,
          0.7443399778939783,
          -0.2682285568168179,
          -0.5828386342800765,
          -0.3500035210272804,
          0.3733505596104416,
          -0.6732400583630811,
          0.4396363042294132,
          0.7441786098150696,
          0.44918683414336064,
          0.7441569215967807,
          -0.045840046000475476,
          11.735385791164237,
          -0.05424451657992619,
          0.26126304716294313,
          0.39923709365861715,
          -0.5827786348133117,
          0.4399156289620246,
          0.484675181812046,
          -0.264195338070899
         ]
        }
       ],
       "layout": {
        "autosize": true,
        "coloraxis": {
         "colorbar": {
          "title": {
           "text": "class"
          }
         },
         "colorscale": [
          [
           0,
           "#0d0887"
          ],
          [
           0.1111111111111111,
           "#46039f"
          ],
          [
           0.2222222222222222,
           "#7201a8"
          ],
          [
           0.3333333333333333,
           "#9c179e"
          ],
          [
           0.4444444444444444,
           "#bd3786"
          ],
          [
           0.5555555555555556,
           "#d8576b"
          ],
          [
           0.6666666666666666,
           "#ed7953"
          ],
          [
           0.7777777777777778,
           "#fb9f3a"
          ],
          [
           0.8888888888888888,
           "#fdca26"
          ],
          [
           1,
           "#f0f921"
          ]
         ]
        },
        "legend": {
         "tracegroupgap": 0
        },
        "margin": {
         "t": 60
        },
        "scene": {
         "aspectmode": "auto",
         "aspectratio": {
          "x": 1.1487215579591274,
          "y": 0.8610699437586012,
          "z": 1.0109898567523894
         },
         "domain": {
          "x": [
           0,
           1
          ],
          "y": [
           0,
           1
          ]
         },
         "xaxis": {
          "title": {
           "text": "PC 1"
          },
          "type": "linear"
         },
         "yaxis": {
          "title": {
           "text": "PC 2"
          },
          "type": "linear"
         },
         "zaxis": {
          "title": {
           "text": "PC 3"
          },
          "type": "linear"
         }
        },
        "template": {
         "data": {
          "bar": [
           {
            "error_x": {
             "color": "#2a3f5f"
            },
            "error_y": {
             "color": "#2a3f5f"
            },
            "marker": {
             "line": {
              "color": "#E5ECF6",
              "width": 0.5
             }
            },
            "type": "bar"
           }
          ],
          "barpolar": [
           {
            "marker": {
             "line": {
              "color": "#E5ECF6",
              "width": 0.5
             }
            },
            "type": "barpolar"
           }
          ],
          "carpet": [
           {
            "aaxis": {
             "endlinecolor": "#2a3f5f",
             "gridcolor": "white",
             "linecolor": "white",
             "minorgridcolor": "white",
             "startlinecolor": "#2a3f5f"
            },
            "baxis": {
             "endlinecolor": "#2a3f5f",
             "gridcolor": "white",
             "linecolor": "white",
             "minorgridcolor": "white",
             "startlinecolor": "#2a3f5f"
            },
            "type": "carpet"
           }
          ],
          "choropleth": [
           {
            "colorbar": {
             "outlinewidth": 0,
             "ticks": ""
            },
            "type": "choropleth"
           }
          ],
          "contour": [
           {
            "colorbar": {
             "outlinewidth": 0,
             "ticks": ""
            },
            "colorscale": [
             [
              0,
              "#0d0887"
             ],
             [
              0.1111111111111111,
              "#46039f"
             ],
             [
              0.2222222222222222,
              "#7201a8"
             ],
             [
              0.3333333333333333,
              "#9c179e"
             ],
             [
              0.4444444444444444,
              "#bd3786"
             ],
             [
              0.5555555555555556,
              "#d8576b"
             ],
             [
              0.6666666666666666,
              "#ed7953"
             ],
             [
              0.7777777777777778,
              "#fb9f3a"
             ],
             [
              0.8888888888888888,
              "#fdca26"
             ],
             [
              1,
              "#f0f921"
             ]
            ],
            "type": "contour"
           }
          ],
          "contourcarpet": [
           {
            "colorbar": {
             "outlinewidth": 0,
             "ticks": ""
            },
            "type": "contourcarpet"
           }
          ],
          "heatmap": [
           {
            "colorbar": {
             "outlinewidth": 0,
             "ticks": ""
            },
            "colorscale": [
             [
              0,
              "#0d0887"
             ],
             [
              0.1111111111111111,
              "#46039f"
             ],
             [
              0.2222222222222222,
              "#7201a8"
             ],
             [
              0.3333333333333333,
              "#9c179e"
             ],
             [
              0.4444444444444444,
              "#bd3786"
             ],
             [
              0.5555555555555556,
              "#d8576b"
             ],
             [
              0.6666666666666666,
              "#ed7953"
             ],
             [
              0.7777777777777778,
              "#fb9f3a"
             ],
             [
              0.8888888888888888,
              "#fdca26"
             ],
             [
              1,
              "#f0f921"
             ]
            ],
            "type": "heatmap"
           }
          ],
          "heatmapgl": [
           {
            "colorbar": {
             "outlinewidth": 0,
             "ticks": ""
            },
            "colorscale": [
             [
              0,
              "#0d0887"
             ],
             [
              0.1111111111111111,
              "#46039f"
             ],
             [
              0.2222222222222222,
              "#7201a8"
             ],
             [
              0.3333333333333333,
              "#9c179e"
             ],
             [
              0.4444444444444444,
              "#bd3786"
             ],
             [
              0.5555555555555556,
              "#d8576b"
             ],
             [
              0.6666666666666666,
              "#ed7953"
             ],
             [
              0.7777777777777778,
              "#fb9f3a"
             ],
             [
              0.8888888888888888,
              "#fdca26"
             ],
             [
              1,
              "#f0f921"
             ]
            ],
            "type": "heatmapgl"
           }
          ],
          "histogram": [
           {
            "marker": {
             "colorbar": {
              "outlinewidth": 0,
              "ticks": ""
             }
            },
            "type": "histogram"
           }
          ],
          "histogram2d": [
           {
            "colorbar": {
             "outlinewidth": 0,
             "ticks": ""
            },
            "colorscale": [
             [
              0,
              "#0d0887"
             ],
             [
              0.1111111111111111,
              "#46039f"
             ],
             [
              0.2222222222222222,
              "#7201a8"
             ],
             [
              0.3333333333333333,
              "#9c179e"
             ],
             [
              0.4444444444444444,
              "#bd3786"
             ],
             [
              0.5555555555555556,
              "#d8576b"
             ],
             [
              0.6666666666666666,
              "#ed7953"
             ],
             [
              0.7777777777777778,
              "#fb9f3a"
             ],
             [
              0.8888888888888888,
              "#fdca26"
             ],
             [
              1,
              "#f0f921"
             ]
            ],
            "type": "histogram2d"
           }
          ],
          "histogram2dcontour": [
           {
            "colorbar": {
             "outlinewidth": 0,
             "ticks": ""
            },
            "colorscale": [
             [
              0,
              "#0d0887"
             ],
             [
              0.1111111111111111,
              "#46039f"
             ],
             [
              0.2222222222222222,
              "#7201a8"
             ],
             [
              0.3333333333333333,
              "#9c179e"
             ],
             [
              0.4444444444444444,
              "#bd3786"
             ],
             [
              0.5555555555555556,
              "#d8576b"
             ],
             [
              0.6666666666666666,
              "#ed7953"
             ],
             [
              0.7777777777777778,
              "#fb9f3a"
             ],
             [
              0.8888888888888888,
              "#fdca26"
             ],
             [
              1,
              "#f0f921"
             ]
            ],
            "type": "histogram2dcontour"
           }
          ],
          "mesh3d": [
           {
            "colorbar": {
             "outlinewidth": 0,
             "ticks": ""
            },
            "type": "mesh3d"
           }
          ],
          "parcoords": [
           {
            "line": {
             "colorbar": {
              "outlinewidth": 0,
              "ticks": ""
             }
            },
            "type": "parcoords"
           }
          ],
          "pie": [
           {
            "automargin": true,
            "type": "pie"
           }
          ],
          "scatter": [
           {
            "marker": {
             "colorbar": {
              "outlinewidth": 0,
              "ticks": ""
             }
            },
            "type": "scatter"
           }
          ],
          "scatter3d": [
           {
            "line": {
             "colorbar": {
              "outlinewidth": 0,
              "ticks": ""
             }
            },
            "marker": {
             "colorbar": {
              "outlinewidth": 0,
              "ticks": ""
             }
            },
            "type": "scatter3d"
           }
          ],
          "scattercarpet": [
           {
            "marker": {
             "colorbar": {
              "outlinewidth": 0,
              "ticks": ""
             }
            },
            "type": "scattercarpet"
           }
          ],
          "scattergeo": [
           {
            "marker": {
             "colorbar": {
              "outlinewidth": 0,
              "ticks": ""
             }
            },
            "type": "scattergeo"
           }
          ],
          "scattergl": [
           {
            "marker": {
             "colorbar": {
              "outlinewidth": 0,
              "ticks": ""
             }
            },
            "type": "scattergl"
           }
          ],
          "scattermapbox": [
           {
            "marker": {
             "colorbar": {
              "outlinewidth": 0,
              "ticks": ""
             }
            },
            "type": "scattermapbox"
           }
          ],
          "scatterpolar": [
           {
            "marker": {
             "colorbar": {
              "outlinewidth": 0,
              "ticks": ""
             }
            },
            "type": "scatterpolar"
           }
          ],
          "scatterpolargl": [
           {
            "marker": {
             "colorbar": {
              "outlinewidth": 0,
              "ticks": ""
             }
            },
            "type": "scatterpolargl"
           }
          ],
          "scatterternary": [
           {
            "marker": {
             "colorbar": {
              "outlinewidth": 0,
              "ticks": ""
             }
            },
            "type": "scatterternary"
           }
          ],
          "surface": [
           {
            "colorbar": {
             "outlinewidth": 0,
             "ticks": ""
            },
            "colorscale": [
             [
              0,
              "#0d0887"
             ],
             [
              0.1111111111111111,
              "#46039f"
             ],
             [
              0.2222222222222222,
              "#7201a8"
             ],
             [
              0.3333333333333333,
              "#9c179e"
             ],
             [
              0.4444444444444444,
              "#bd3786"
             ],
             [
              0.5555555555555556,
              "#d8576b"
             ],
             [
              0.6666666666666666,
              "#ed7953"
             ],
             [
              0.7777777777777778,
              "#fb9f3a"
             ],
             [
              0.8888888888888888,
              "#fdca26"
             ],
             [
              1,
              "#f0f921"
             ]
            ],
            "type": "surface"
           }
          ],
          "table": [
           {
            "cells": {
             "fill": {
              "color": "#EBF0F8"
             },
             "line": {
              "color": "white"
             }
            },
            "header": {
             "fill": {
              "color": "#C8D4E3"
             },
             "line": {
              "color": "white"
             }
            },
            "type": "table"
           }
          ]
         },
         "layout": {
          "annotationdefaults": {
           "arrowcolor": "#2a3f5f",
           "arrowhead": 0,
           "arrowwidth": 1
          },
          "coloraxis": {
           "colorbar": {
            "outlinewidth": 0,
            "ticks": ""
           }
          },
          "colorscale": {
           "diverging": [
            [
             0,
             "#8e0152"
            ],
            [
             0.1,
             "#c51b7d"
            ],
            [
             0.2,
             "#de77ae"
            ],
            [
             0.3,
             "#f1b6da"
            ],
            [
             0.4,
             "#fde0ef"
            ],
            [
             0.5,
             "#f7f7f7"
            ],
            [
             0.6,
             "#e6f5d0"
            ],
            [
             0.7,
             "#b8e186"
            ],
            [
             0.8,
             "#7fbc41"
            ],
            [
             0.9,
             "#4d9221"
            ],
            [
             1,
             "#276419"
            ]
           ],
           "sequential": [
            [
             0,
             "#0d0887"
            ],
            [
             0.1111111111111111,
             "#46039f"
            ],
            [
             0.2222222222222222,
             "#7201a8"
            ],
            [
             0.3333333333333333,
             "#9c179e"
            ],
            [
             0.4444444444444444,
             "#bd3786"
            ],
            [
             0.5555555555555556,
             "#d8576b"
            ],
            [
             0.6666666666666666,
             "#ed7953"
            ],
            [
             0.7777777777777778,
             "#fb9f3a"
            ],
            [
             0.8888888888888888,
             "#fdca26"
            ],
            [
             1,
             "#f0f921"
            ]
           ],
           "sequentialminus": [
            [
             0,
             "#0d0887"
            ],
            [
             0.1111111111111111,
             "#46039f"
            ],
            [
             0.2222222222222222,
             "#7201a8"
            ],
            [
             0.3333333333333333,
             "#9c179e"
            ],
            [
             0.4444444444444444,
             "#bd3786"
            ],
            [
             0.5555555555555556,
             "#d8576b"
            ],
            [
             0.6666666666666666,
             "#ed7953"
            ],
            [
             0.7777777777777778,
             "#fb9f3a"
            ],
            [
             0.8888888888888888,
             "#fdca26"
            ],
            [
             1,
             "#f0f921"
            ]
           ]
          },
          "colorway": [
           "#636efa",
           "#EF553B",
           "#00cc96",
           "#ab63fa",
           "#FFA15A",
           "#19d3f3",
           "#FF6692",
           "#B6E880",
           "#FF97FF",
           "#FECB52"
          ],
          "font": {
           "color": "#2a3f5f"
          },
          "geo": {
           "bgcolor": "white",
           "lakecolor": "white",
           "landcolor": "#E5ECF6",
           "showlakes": true,
           "showland": true,
           "subunitcolor": "white"
          },
          "hoverlabel": {
           "align": "left"
          },
          "hovermode": "closest",
          "mapbox": {
           "style": "light"
          },
          "paper_bgcolor": "white",
          "plot_bgcolor": "#E5ECF6",
          "polar": {
           "angularaxis": {
            "gridcolor": "white",
            "linecolor": "white",
            "ticks": ""
           },
           "bgcolor": "#E5ECF6",
           "radialaxis": {
            "gridcolor": "white",
            "linecolor": "white",
            "ticks": ""
           }
          },
          "scene": {
           "xaxis": {
            "backgroundcolor": "#E5ECF6",
            "gridcolor": "white",
            "gridwidth": 2,
            "linecolor": "white",
            "showbackground": true,
            "ticks": "",
            "zerolinecolor": "white"
           },
           "yaxis": {
            "backgroundcolor": "#E5ECF6",
            "gridcolor": "white",
            "gridwidth": 2,
            "linecolor": "white",
            "showbackground": true,
            "ticks": "",
            "zerolinecolor": "white"
           },
           "zaxis": {
            "backgroundcolor": "#E5ECF6",
            "gridcolor": "white",
            "gridwidth": 2,
            "linecolor": "white",
            "showbackground": true,
            "ticks": "",
            "zerolinecolor": "white"
           }
          },
          "shapedefaults": {
           "line": {
            "color": "#2a3f5f"
           }
          },
          "ternary": {
           "aaxis": {
            "gridcolor": "white",
            "linecolor": "white",
            "ticks": ""
           },
           "baxis": {
            "gridcolor": "white",
            "linecolor": "white",
            "ticks": ""
           },
           "bgcolor": "#E5ECF6",
           "caxis": {
            "gridcolor": "white",
            "linecolor": "white",
            "ticks": ""
           }
          },
          "title": {
           "x": 0.05
          },
          "xaxis": {
           "automargin": true,
           "gridcolor": "white",
           "linecolor": "white",
           "ticks": "",
           "title": {
            "standoff": 15
           },
           "zerolinecolor": "white",
           "zerolinewidth": 2
          },
          "yaxis": {
           "automargin": true,
           "gridcolor": "white",
           "linecolor": "white",
           "ticks": "",
           "title": {
            "standoff": 15
           },
           "zerolinecolor": "white",
           "zerolinewidth": 2
          }
         }
        }
       }
      },
      "image/png": "[encoded data removed]",
      "text/html": [
       "<div>                            <div id=\"59a3ebe3-3878-45c0-b25b-adca5893174b\" class=\"plotly-graph-div\" style=\"height:525px; width:100%;\"></div>            <script type=\"text/javascript\">                require([\"plotly\"], function(Plotly) {                    window.PLOTLYENV=window.PLOTLYENV || {};                                    if (document.getElementById(\"59a3ebe3-3878-45c0-b25b-adca5893174b\")) {                    Plotly.newPlot(                        \"59a3ebe3-3878-45c0-b25b-adca5893174b\",                        [{\"customdata\": [[\"Scrypt\"], [\"Scrypt\"], [\"X13\"], [\"SHA-256\"], [\"Ethash\"], [\"Scrypt\"], [\"X11\"], [\"CryptoNight-V7\"], [\"Ethash\"], [\"Equihash\"], [\"SHA-512\"], [\"Multiple\"], [\"SHA-256\"], [\"SHA-256\"], [\"Scrypt\"], [\"X15\"], [\"X11\"], [\"Scrypt\"], [\"Scrypt\"], [\"Scrypt\"], [\"Multiple\"], [\"Scrypt\"], [\"SHA-256\"], [\"Scrypt\"], [\"Scrypt\"], [\"Scrypt\"], [\"Quark\"], [\"Groestl\"], [\"Scrypt\"], [\"Scrypt\"], [\"Scrypt\"], [\"Scrypt\"], [\"Scrypt\"], [\"X11\"], [\"Scrypt\"], [\"Groestl\"], [\"Multiple\"], [\"SHA-256\"], [\"Scrypt\"], [\"Scrypt\"], [\"Scrypt\"], [\"Scrypt\"], [\"PoS\"], [\"Scrypt\"], [\"Scrypt\"], [\"NeoScrypt\"], [\"Scrypt\"], [\"Scrypt\"], [\"Scrypt\"], [\"Scrypt\"], [\"X11\"], [\"Scrypt\"], [\"X11\"], [\"SHA-256\"], [\"Scrypt\"], [\"Scrypt\"], [\"Scrypt\"], [\"SHA3\"], [\"Scrypt\"], [\"HybridScryptHash256\"], [\"Scrypt\"], [\"Scrypt\"], [\"SHA-256\"], [\"Scrypt\"], [\"X13\"], [\"Scrypt\"], [\"SHA-256\"], [\"Scrypt\"], [\"X13\"], [\"NeoScrypt\"], [\"Scrypt\"], [\"Scrypt\"], [\"Scrypt\"], [\"Scrypt\"], [\"Scrypt\"], [\"Scrypt\"], [\"X11\"], [\"X11\"], [\"SHA-256\"], [\"Multiple\"], [\"SHA-256\"], [\"PHI1612\"], [\"X11\"], [\"SHA-256\"], [\"SHA-256\"], [\"SHA-256\"], [\"X11\"], [\"Scrypt\"], [\"Scrypt\"], [\"Scrypt\"], [\"Scrypt\"], [\"Lyra2REv2\"], [\"Scrypt\"], [\"X11\"], [\"Multiple\"], [\"SHA-256\"], [\"X13\"], [\"Scrypt\"], [\"CryptoNight\"], [\"CryptoNight\"], [\"Shabal256\"], [\"Counterparty\"], [\"Scrypt\"], [\"SHA-256\"], [\"Groestl\"], [\"Scrypt\"], [\"Scrypt\"], [\"Scrypt\"], [\"X13\"], [\"Scrypt\"], [\"Scrypt\"], [\"Scrypt\"], [\"Scrypt\"], [\"X13\"], [\"Scrypt\"], [\"Stanford Folding\"], [\"X11\"], [\"Multiple\"], [\"QuBit\"], [\"Scrypt\"], [\"Scrypt\"], [\"Scrypt\"], [\"M7 POW\"], [\"Scrypt\"], [\"SHA-256\"], [\"Scrypt\"], [\"X11\"], [\"SHA3\"], [\"X11\"], [\"Lyra2RE\"], [\"SHA-256\"], [\"QUAIT\"], [\"X11\"], [\"X11\"], [\"Scrypt\"], [\"Scrypt\"], [\"Scrypt\"], [\"Ethash\"], [\"X13\"], [\"Blake2b\"], [\"SHA-256\"], [\"X15\"], [\"X11\"], [\"SHA-256\"], [\"BLAKE256\"], [\"Scrypt\"], [\"1GB AES Pattern Search\"], [\"SHA-256\"], [\"X11\"], [\"Scrypt\"], [\"SHA-256\"], [\"SHA-256\"], [\"NIST5\"], [\"Scrypt\"], [\"Scrypt\"], [\"X11\"], [\"Dagger\"], [\"Scrypt\"], [\"X11GOST\"], [\"X11\"], [\"Scrypt\"], [\"SHA-256\"], [\"Scrypt\"], [\"PoS\"], [\"Scrypt\"], [\"X11\"], [\"X11\"], [\"SHA-256\"], [\"SHA-256\"], [\"NIST5\"], [\"X11\"], [\"Scrypt\"], [\"POS 3.0\"], [\"Scrypt\"], [\"Scrypt\"], [\"Scrypt\"], [\"X13\"], [\"X11\"], [\"X11\"], [\"Equihash\"], [\"X11\"], [\"Scrypt\"], [\"CryptoNight\"], [\"SHA-256\"], [\"SHA-256\"], [\"X11\"], [\"Scrypt\"], [\"Multiple\"], [\"Scrypt\"], [\"Scrypt\"], [\"Scrypt\"], [\"SHA-256\"], [\"Scrypt\"], [\"Scrypt\"], [\"SHA-256D\"], [\"PoS\"], [\"Scrypt\"], [\"X11\"], [\"Lyra2Z\"], [\"PoS\"], [\"X13\"], [\"X14\"], [\"PoS\"], [\"SHA-256D\"], [\"Ethash\"], [\"Equihash\"], [\"DPoS\"], [\"X11\"], [\"Scrypt\"], [\"X11\"], [\"X13\"], [\"X11\"], [\"PoS\"], [\"Scrypt\"], [\"Scrypt\"], [\"X11\"], [\"PoS\"], [\"X11\"], [\"SHA-256\"], [\"Scrypt\"], [\"X11\"], [\"Scrypt\"], [\"Scrypt\"], [\"X11\"], [\"CryptoNight\"], [\"Scrypt\"], [\"Scrypt\"], [\"Scrypt\"], [\"Scrypt\"], [\"Quark\"], [\"QuBit\"], [\"Scrypt\"], [\"CryptoNight\"], [\"Lyra2RE\"], [\"Scrypt\"], [\"SHA-256\"], [\"X11\"], [\"Scrypt\"], [\"X11\"], [\"Scrypt\"], [\"CryptoNight-V7\"], [\"Scrypt\"], [\"Scrypt\"], [\"Scrypt\"], [\"X13\"], [\"X11\"], [\"Equihash\"], [\"Scrypt\"], [\"Scrypt\"], [\"Lyra2RE\"], [\"Scrypt\"], [\"Dagger-Hashimoto\"], [\"X11\"], [\"Blake2S\"], [\"X11\"], [\"Scrypt\"], [\"PoS\"], [\"X11\"], [\"NIST5\"], [\"PoS\"], [\"X11\"], [\"Scrypt\"], [\"Scrypt\"], [\"Scrypt\"], [\"SHA-256\"], [\"X11\"], [\"Scrypt\"], [\"Scrypt\"], [\"SHA-256\"], [\"PoS\"], [\"Scrypt\"], [\"X15\"], [\"SHA-256\"], [\"Scrypt\"], [\"POS 3.0\"], [\"CryptoNight-V7\"], [\"536\"], [\"Argon2d\"], [\"Blake2b\"], [\"Cloverhash\"], [\"CryptoNight\"], [\"NIST5\"], [\"X11\"], [\"NIST5\"], [\"Skein\"], [\"Scrypt\"], [\"X13\"], [\"Scrypt\"], [\"X11\"], [\"X11\"], [\"Scrypt\"], [\"CryptoNight\"], [\"X13\"], [\"Time Travel\"], [\"Scrypt\"], [\"Keccak\"], [\"SkunkHash v2 Raptor\"], [\"X11\"], [\"Skein\"], [\"SHA-256\"], [\"X11\"], [\"Scrypt\"], [\"VeChainThor Authority\"], [\"Scrypt\"], [\"PoS\"], [\"Scrypt\"], [\"Scrypt\"], [\"Scrypt\"], [\"Scrypt\"], [\"Scrypt\"], [\"Scrypt\"], [\"Scrypt\"], [\"CryptoNight\"], [\"SHA-512\"], [\"Ouroboros\"], [\"X11\"], [\"Equihash\"], [\"NeoScrypt\"], [\"X11\"], [\"Scrypt\"], [\"NeoScrypt\"], [\"Lyra2REv2\"], [\"Equihash\"], [\"Scrypt\"], [\"SHA-256\"], [\"NIST5\"], [\"PHI1612\"], [\"Dagger\"], [\"Scrypt\"], [\"Quark\"], [\"Scrypt\"], [\"POS 2.0\"], [\"Scrypt\"], [\"SHA-256\"], [\"X11\"], [\"NeoScrypt\"], [\"Ethash\"], [\"NeoScrypt\"], [\"X11\"], [\"DPoS\"], [\"NIST5\"], [\"X13\"], [\"Multiple\"], [\"Scrypt\"], [\"CryptoNight\"], [\"CryptoNight\"], [\"Ethash\"], [\"NIST5\"], [\"Quark\"], [\"X11\"], [\"CryptoNight-V7\"], [\"Scrypt\"], [\"Scrypt\"], [\"Scrypt\"], [\"X11\"], [\"BLAKE256\"], [\"X11\"], [\"NeoScrypt\"], [\"Quark\"], [\"NeoScrypt\"], [\"Scrypt\"], [\"Scrypt\"], [\"Scrypt\"], [\"X11\"], [\"X11\"], [\"SHA-256\"], [\"C11\"], [\"POS 3.0\"], [\"Ethash\"], [\"Scrypt\"], [\"CryptoNight\"], [\"SkunkHash\"], [\"Scrypt\"], [\"CryptoNight\"], [\"Scrypt\"], [\"Dagger\"], [\"Lyra2REv2\"], [\"X13\"], [\"Proof-of-BibleHash\"], [\"SHA-256 + Hive\"], [\"Scrypt\"], [\"Scrypt\"], [\"X11\"], [\"C11\"], [\"Proof-of-Authority\"], [\"X11\"], [\"XEVAN\"], [\"Scrypt\"], [\"VBFT\"], [\"Ethash\"], [\"CryptoNight\"], [\"Scrypt\"], [\"IMesh\"], [\"NIST5\"], [\"Scrypt\"], [\"Scrypt\"], [\"Equihash\"], [\"Scrypt\"], [\"Lyra2Z\"], [\"Green Protocol\"], [\"PoS\"], [\"Scrypt\"], [\"Semux BFT consensus\"], [\"X11\"], [\"Quark\"], [\"PoS\"], [\"CryptoNight\"], [\"X16R\"], [\"Scrypt\"], [\"NIST5\"], [\"Lyra2RE\"], [\"XEVAN\"], [\"Tribus\"], [\"Scrypt\"], [\"Lyra2Z\"], [\"CryptoNight\"], [\"CryptoNight Heavy\"], [\"CryptoNight\"], [\"Scrypt\"], [\"Scrypt\"], [\"Jump Consistent Hash\"], [\"SHA-256D\"], [\"CryptoNight\"], [\"Scrypt\"], [\"X15\"], [\"Scrypt\"], [\"Quark\"], [\"SHA-256\"], [\"DPoS\"], [\"X16R\"], [\"HMQ1725\"], [\"X11\"], [\"X16R\"], [\"Quark\"], [\"Quark\"], [\"Scrypt\"], [\"Lyra2REv2\"], [\"Quark\"], [\"Scrypt\"], [\"Scrypt\"], [\"CryptoNight-V7\"], [\"Cryptonight-GPU\"], [\"XEVAN\"], [\"CryptoNight Heavy\"], [\"X11\"], [\"X11\"], [\"Scrypt\"], [\"PoS\"], [\"SHA-256\"], [\"Keccak\"], [\"X11\"], [\"X11\"], [\"Scrypt\"], [\"SHA-512\"], [\"X16R\"], [\"ECC 256K1\"], [\"Equihash\"], [\"XEVAN\"], [\"Lyra2Z\"], [\"SHA-256\"], [\"XEVAN\"], [\"X11\"], [\"CryptoNight\"], [\"Quark\"], [\"Blake\"], [\"Blake\"], [\"Equihash\"], [\"Exosis\"], [\"Scrypt\"], [\"Scrypt\"], [\"Equihash\"], [\"Quark\"], [\"Equihash\"], [\"Quark\"], [\"Scrypt\"], [\"QuBit\"], [\"X11\"], [\"Scrypt\"], [\"XEVAN\"], [\"SHA-256D\"], [\"X11\"], [\"SHA-256\"], [\"X13\"], [\"SHA-256\"], [\"X11\"], [\"DPoS\"], [\"Scrypt\"], [\"Scrypt\"], [\"X11\"], [\"NeoScrypt\"], [\"Scrypt\"], [\"Blake\"], [\"Scrypt\"], [\"SHA-256\"], [\"Scrypt\"], [\"X11\"], [\"Scrypt\"], [\"Scrypt\"], [\"SHA-256\"], [\"X11\"], [\"SHA-256\"], [\"Scrypt\"], [\"Scrypt\"], [\"Scrypt\"], [\"Groestl\"], [\"X11\"], [\"Scrypt\"], [\"PoS\"], [\"Scrypt\"], [\"Scrypt\"], [\"X11\"], [\"SHA-256\"], [\"DPoS\"], [\"Scrypt\"], [\"Scrypt\"], [\"NeoScrypt\"], [\"Multiple\"], [\"X13\"], [\"Equihash+Scrypt\"], [\"DPoS\"], [\"Ethash\"], [\"DPoS\"], [\"SHA-256\"], [\"Leased POS\"], [\"PoS\"], [\"PoS\"], [\"SHA-256\"], [\"Scrypt\"], [\"CryptoNight\"], [\"Equihash\"], [\"Scrypt\"]], \"hovertemplate\": \"<b>%{hovertext}</b><br><br>PC 1=%{x}<br>PC 2=%{y}<br>PC 3=%{z}<br>Algorithm=%{customdata[0]}<br>class=%{marker.color}<extra></extra>\", \"hovertext\": [\"42 Coin\", \"404Coin\", \"EliteCoin\", \"Bitcoin\", \"Ethereum\", \"Litecoin\", \"Dash\", \"Monero\", \"Ethereum Classic\", \"ZCash\", \"Bitshares\", \"DigiByte\", \"BitcoinDark\", \"PayCoin\", \"ProsperCoin\", \"KoboCoin\", \"Spreadcoin\", \"Argentum\", \"Aurora Coin\", \"BlueCoin\", \"MyriadCoin\", \"MoonCoin\", \"ZetaCoin\", \"SexCoin\", \"Quatloo\", \"EnergyCoin\", \"QuarkCoin\", \"Riecoin\", \"Digitalcoin \", \"BitBar\", \"Catcoin\", \"CryptoBullion\", \"CannaCoin\", \"CryptCoin\", \"CasinoCoin\", \"Diamond\", \"Verge\", \"DevCoin\", \"EarthCoin\", \"E-Gulden\", \"Einsteinium\", \"Emerald\", \"Exclusive Coin\", \"FlutterCoin\", \"Franko\", \"FeatherCoin\", \"GrandCoin\", \"GlobalCoin\", \"GoldCoin\", \"HoboNickels\", \"HyperStake\", \"Infinite Coin\", \"IOCoin\", \"IXcoin\", \"KrugerCoin\", \"LuckyCoin\", \"Litebar \", \"MaxCoin\", \"MegaCoin\", \"MediterraneanCoin\", \"MintCoin\", \"MinCoin\", \"MazaCoin\", \"Nautilus Coin\", \"NavCoin\", \"NobleCoin\", \"Namecoin\", \"NyanCoin\", \"OpalCoin\", \"Orbitcoin\", \"PotCoin\", \"PhoenixCoin\", \"Reddcoin\", \"RonPaulCoin\", \"StableCoin\", \"SmartCoin\", \"SuperCoin\", \"SyncCoin\", \"SysCoin\", \"TeslaCoin\", \"TigerCoin\", \"TittieCoin\", \"TorCoin\", \"TerraCoin\", \"UnbreakableCoin\", \"Unobtanium\", \"UroCoin\", \"UnitaryStatus Dollar\", \"UltraCoin\", \"ViaCoin\", \"VeriCoin\", \"Vertcoin\", \"WorldCoin\", \"X11 Coin\", \"Crypti\", \"JouleCoin\", \"StealthCoin\", \"ZCC Coin\", \"ByteCoin\", \"DigitalNote \", \"BurstCoin\", \"StorjCoin\", \"MonaCoin\", \"Neutron\", \"FairCoin\", \"Gulden\", \"RubyCoin\", \"PesetaCoin\", \"Kore\", \"Wild Beast Coin\", \"Dnotes\", \"Flo\", \"8BIT Coin\", \"Sativa Coin\", \"ArtByte\", \"Folding Coin\", \"Ucoin\", \"Unitus\", \"CypherPunkCoin\", \"OmniCron\", \"Vtorrent\", \"GreenCoin\", \"Cryptonite\", \"MasterCoin\", \"SoonCoin\", \"1Credit\", \"IslaCoin\", \"Nexus\", \"MarsCoin \", \"Crypto\", \"Anarchists Prime\", \"Droidz\", \"BowsCoin\", \"Squall Coin\", \"Song Coin\", \"BitZeny\", \"Diggits\", \"Expanse\", \"Paycon\", \"Siacoin\", \"Emercoin\", \"EverGreenCoin\", \"MindCoin\", \"I0coin\", \"Decred\", \"Revolution VR\", \"HOdlcoin\", \"EDRCoin\", \"Hitcoin\", \"Gamecredits\", \"DubaiCoin\", \"CarpeDiemCoin\", \"PWR Coin\", \"BillaryCoin\", \"GPU Coin\", \"Adzcoin\", \"SoilCoin\", \"YoCoin\", \"SibCoin\", \"EuropeCoin\", \"ZeitCoin\", \"SwingCoin\", \"SafeExchangeCoin\", \"Nebuchadnezzar\", \"Francs\", \"BolivarCoin\", \"Ratecoin\", \"Revenu\", \"Clockcoin\", \"VIP Tokens\", \"BitSend\", \"Omni\", \"Let it Ride\", \"PutinCoin\", \"iBankCoin\", \"Frankywillcoin\", \"MudraCoin\", \"PizzaCoin\", \"Lutetium Coin\", \"Komodo\", \"GoldBlocks\", \"CarterCoin\", \"Karbo\", \"BitTokens\", \"ZayedCoin\", \"MustangCoin\", \"ZoneCoin\", \"Circuits of Value\", \"RootCoin\", \"DopeCoin\", \"BitCurrency\", \"DollarCoin\", \"Swiscoin\", \"Shilling\", \"BuzzCoin\", \"Opair\", \"PesoBit\", \"Halloween Coin\", \"ZCoin\", \"CoffeeCoin\", \"RoyalCoin\", \"GanjaCoin V2\", \"TeamUP\", \"LanaCoin\", \"Elementrem\", \"ZClassic\", \"ARK\", \"InsaneCoin\", \"KiloCoin\", \"ArtexCoin\", \"EmberCoin\", \"XenixCoin\", \"FreeCoin\", \"PLNCoin\", \"AquariusCoin\", \"Kurrent\", \"Creatio\", \"Eternity\", \"Eurocoin\", \"BitcoinFast\", \"Stakenet\", \"BitConnect Coin\", \"MoneyCoin\", \"Enigma\", \"Cannabis Industry Coin\", \"Russiacoin\", \"PandaCoin\", \"GameUnits\", \"GAKHcoin\", \"Allsafe\", \"LiteCreed\", \"OsmiumCoin\", \"Bikercoins\", \"HexxCoin\", \"Klingon Empire Darsek\", \"Internet of People\", \"KushCoin\", \"Printerium\", \"PacCoin\", \"Impeach\", \"Citadel\", \"Zilbercoin\", \"FirstCoin\", \"BeaverCoin\", \"FindCoin\", \"VaultCoin\", \"Zero\", \"OpenChat\", \"Canada eCoin\", \"Zoin\", \"RenosCoin\", \"DubaiCoin\", \"VirtacoinPlus\", \"TajCoin\", \"Impact\", \"EB3coin\", \"Atmos\", \"HappyCoin\", \"Coinonat\", \"MacronCoin\", \"Condensate\", \"Independent Money System\", \"ArgusCoin\", \"LomoCoin\", \"ProCurrency\", \"GoldReserve\", \"BenjiRolls\", \"GrowthCoin\", \"ILCoin\", \"Phreak\", \"Degas Coin\", \"HTML5 Coin\", \"Ultimate Secure Cash\", \"EquiTrader\", \"QTUM\", \"Quantum Resistant Ledger\", \"Espers\", \"Dynamic\", \"Nano\", \"ChanCoin\", \"Dinastycoin\", \"Denarius\", \"DigitalPrice\", \"Virta Unique Coin\", \"Bitcoin Planet\", \"Unify\", \"BritCoin\", \"SocialCoin\", \"ArcticCoin\", \"DAS\", \"Linda\", \"LeviarCoin\", \"DeepOnion\", \"Bitcore\", \"gCn Coin\", \"SmartCash\", \"Signatum\", \"Onix\", \"Cream\", \"Bitcoin Cash\", \"Monoeci\", \"Draftcoin\", \"Vechain\", \"Sojourn Coin\", \"Stakecoin\", \"NewYorkCoin\", \"FrazCoin\", \"Kronecoin\", \"AdCoin\", \"Linx\", \"CoinonatX\", \"Ethereum Dark\", \"Sumokoin\", \"Obsidian\", \"Cardano\", \"Regalcoin\", \"BitcoinZ\", \"TrezarCoin\", \"Elements\", \"TerraNovaCoin\", \"VIVO Coin\", \"Rupee\", \"Bitcoin Gold\", \"WomenCoin\", \"Theresa May Coin\", \"NamoCoin\", \"LUXCoin\", \"Pirl\", \"Xios\", \"Bitcloud 2.0\", \"eBoost\", \"KekCoin\", \"BlackholeCoin\", \"Infinity Economics\", \"Pura\", \"Innova\", \"Ellaism\", \"GoByte\", \"Magnet\", \"Lamden Tau\", \"Electra\", \"Bitcoin Diamond\", \"SHIELD\", \"Cash & Back Coin\", \"UltraNote\", \"BitCoal\", \"DaxxCoin\", \"Bulwark\", \"Kalkulus\", \"AC3\", \"Lethean\", \"GermanCoin\", \"LiteCoin Ultra\", \"PopularCoin\", \"PhantomX\", \"Photon\", \"Sucre\", \"SparksPay\", \"Digiwage\", \"GunCoin\", \"IrishCoin\", \"Trollcoin\", \"Litecoin Plus\", \"Monkey Project\", \"Pioneer Coin\", \"UnitedBitcoin\", \"Interzone\", \"TokenPay\", \"1717 Masonic Commemorative Token\", \"My Big Coin\", \"TurtleCoin\", \"MUNcoin\", \"Unified Society USDEX\", \"Niobio Cash\", \"ShareChain\", \"Travelflex\", \"KREDS\", \"Tokyo Coin\", \"BiblePay\", \"LitecoinCash\", \"BitFlip\", \"LottoCoin\", \"Crypto Improvement Fund\", \"Stipend\", \"Poa Network\", \"Pushi\", \"Ellerium\", \"Velox\", \"Ontology\", \"Callisto Network\", \"BitTube\", \"Poseidon\", \"Aidos Kuneen\", \"Bitspace\", \"Briacoin\", \"Ignition\", \"Bitrolium\", \"MedicCoin\", \"Alpenschillling\", \"Bitcoin Green\", \"Deviant Coin\", \"Abjcoin\", \"Semux\", \"FuturoCoin\", \"Carebit\", \"Zealium\", \"Monero Classic\", \"Proton\", \"iDealCash\", \"Jumpcoin\", \"Infinex\", \"Bitcoin Incognito\", \"KEYCO\", \"HollyWoodCoin\", \"GINcoin\", \"PlatinCoin\", \"Loki\", \"Newton Coin\", \"Swisscoin\", \"Xt3ch\", \"MassGrid\", \"TheVig\", \"PluraCoin\", \"EmaratCoin\", \"Dekado\", \"Lynx\", \"Poseidon Quark\", \"BitcoinWSpectrum\", \"Muse\", \"Motion\", \"PlusOneCoin\", \"Axe\", \"Trivechain\", \"Dystem\", \"Giant\", \"Peony Coin\", \"Absolute Coin\", \"Vitae\", \"HexCoin\", \"TPCash\", \"Webchain\", \"Ryo\", \"Urals Coin\", \"Qwertycoin\", \"ARENON\", \"EUNO\", \"MMOCoin\", \"Ketan\", \"Project Pai\", \"XDNA\", \"PAXEX\", \"Azart\", \"ThunderStake\", \"Kcash\", \"Xchange\", \"Acute Angle Cloud\", \"CrypticCoin\", \"Bettex coin\", \"Actinium\", \"Bitcoin SV\", \"BitMoney\", \"Junson Ming Chan Coin\", \"FREDEnergy\", \"HerbCoin\", \"Universal Molecule\", \"Lithium\", \"PirateCash\", \"Exosis\", \"Block-Logic\", \"Oduwa\", \"Beam\", \"Galilel\", \"Bithereum\", \"Crypto Sports\", \"Credit\", \"SLICE\", \"Dash Platinum\", \"Nasdacoin\", \"Beetle Coin\", \"Titan Coin\", \"Award\", \"BLAST\", \"Bitcoin Rhodium\", \"GlobalToken\", \"Insane Coin\", \"ALAX\", \"LiteDoge\", \"SolarCoin\", \"TruckCoin\", \"UFO Coin\", \"OrangeCoin\", \"BlakeCoin\", \"BitstarCoin\", \"NeosCoin\", \"HyperCoin\", \"PinkCoin\", \"Crypto Escudo\", \"AudioCoin\", \"IncaKoin\", \"Piggy Coin\", \"Crown Coin\", \"Genstake\", \"SmileyCoin\", \"XiaoMiCoin\", \"Groestlcoin\", \"CapriCoin\", \" ClubCoin\", \"Radium\", \"Bata\", \"Pakcoin\", \"Creditbit \", \"OKCash\", \"Lisk\", \"HiCoin\", \"WhiteCoin\", \"FriendshipCoin\", \"JoinCoin\", \"Triangles Coin\", \"Vollar\", \"EOS\", \"Reality Clash\", \"Oxycoin\", \"TigerCash\", \"Waves\", \"Particl\", \"Nxt\", \"ZEPHYR\", \"Gapcoin\", \"Beldex\", \"Horizen\", \"BitcoinPlus\"], \"legendgroup\": \"\", \"marker\": {\"color\": [0, 0, 0, 1, 1, 1, 0, 1, 1, 1, 0, 1, 0, 0, 1, 0, 1, 1, 0, 0, 1, 1, 1, 1, 1, 0, 1, 1, 1, 0, 1, 0, 1, 1, 0, 0, 1, 1, 1, 1, 1, 1, 0, 0, 1, 1, 1, 1, 1, 0, 0, 1, 0, 1, 1, 1, 1, 0, 1, 1, 0, 1, 0, 0, 0, 1, 1, 1, 0, 0, 0, 0, 0, 1, 1, 1, 0, 0, 1, 0, 1, 0, 0, 1, 1, 1, 1, 0, 0, 1, 0, 1, 1, 0, 0, 1, 0, 0, 1, 1, 0, 0, 1, 0, 0, 1, 0, 1, 0, 1, 0, 1, 0, 0, 1, 1, 0, 1, 1, 1, 0, 1, 1, 1, 1, 1, 0, 0, 1, 1, 1, 0, 1, 0, 1, 1, 0, 1, 0, 1, 0, 0, 1, 1, 0, 1, 1, 0, 0, 1, 0, 1, 0, 0, 0, 1, 1, 1, 1, 0, 0, 0, 0, 0, 1, 1, 0, 0, 0, 0, 0, 1, 0, 0, 0, 0, 0, 1, 0, 1, 0, 0, 1, 0, 1, 0, 0, 1, 0, 1, 0, 1, 0, 1, 0, 0, 0, 0, 1, 0, 0, 0, 0, 0, 1, 1, 0, 0, 1, 1, 0, 0, 0, 0, 0, 1, 0, 0, 0, 0, 0, 0, 0, 0, 1, 0, 0, 0, 0, 0, 0, 1, 1, 1, 0, 0, 0, 0, 1, 0, 1, 0, 0, 1, 0, 1, 1, 0, 1, 1, 0, 1, 0, 0, 0, 1, 0, 0, 1, 0, 0, 0, 0, 0, 0, 0, 1, 0, 1, 0, 0, 0, 0, 1, 0, 1, 0, 1, 1, 1, 1, 0, 1, 0, 0, 1, 0, 1, 1, 1, 0, 1, 0, 1, 1, 1, 0, 1, 0, 1, 0, 0, 2, 1, 0, 1, 1, 1, 1, 1, 0, 0, 1, 0, 0, 0, 1, 0, 1, 0, 1, 0, 1, 0, 0, 0, 0, 1, 0, 0, 1, 0, 0, 0, 1, 1, 1, 1, 0, 0, 0, 0, 1, 0, 1, 1, 1, 0, 0, 1, 1, 0, 0, 1, 0, 1, 1, 1, 0, 1, 1, 0, 0, 0, 1, 1, 1, 0, 0, 0, 1, 1, 0, 1, 1, 1, 1, 0, 3, 3, 1, 1, 1, 0, 0, 0, 0, 0, 0, 1, 1, 1, 1, 0, 0, 0, 1, 0, 1, 0, 0, 0, 0, 1, 0, 0, 1, 0, 0, 1, 1, 0, 1, 0, 1, 1, 1, 1, 0, 0, 1, 0, 1, 0, 0, 1, 0, 0, 0, 1, 1, 1, 0, 0, 0, 0, 0, 0, 1, 0, 1, 1, 1, 1, 0, 0, 0, 0, 1, 0, 0, 1, 0, 0, 1, 3, 1, 0, 1, 1, 0, 0, 1, 0, 1, 1, 1, 1, 1, 0, 1, 0, 1, 0, 0, 1, 0, 0, 0, 0, 0, 1, 1, 1, 0, 0, 0, 1, 0, 1, 0, 1, 0, 0, 0, 0, 1, 0, 0, 0, 1, 0, 1, 0, 1, 0, 0, 0, 1, 1, 0, 0, 0, 0, 0, 0, 1, 0, 1, 0, 1, 0, 0, 3, 0, 0, 0, 0, 1, 1, 0], \"coloraxis\": \"coloraxis\", \"symbol\": \"circle\"}, \"mode\": \"markers\", \"name\": \"\", \"scene\": \"scene\", \"showlegend\": false, \"type\": \"scatter3d\", \"x\": [-0.5569133052937062, -0.5245382646828908, 3.706674168241662, 0.3665611913752629, 0.644856469521429, 0.5140797419881533, -0.9520930158628234, 0.7711633291100679, 0.6475659686070524, 0.7730050081427962, -1.0917303700018917, 0.9222187714879253, -0.7022541396507441, -0.7461674551949619, 0.5119048709009253, -0.7549450408869581, 0.11635418199095647, 0.5125889762923433, -0.5562635550689742, -0.5413385799957307, 0.7059335069788739, 5.2116458091912925, 0.37211487262904386, 0.5177268744398381, 0.5116990314664929, -0.5538969432539171, -0.10935989298665176, 0.2758576798345416, 0.5129157088596595, -0.5569061432084954, 0.5119404518729123, -0.5568755973453755, 0.5117825749163919, 0.11617889353399197, 1.9409048252352883, -0.7946700961266252, 1.233150525647292, 0.8285967699057815, 0.9840865941157525, 0.5122760170648407, 0.5205406078513051, 0.5123760057869383, -1.3814135768250184, -0.20723624634576895, 0.5116719813182214, 0.4663797723734691, 0.5505652327398936, 0.5139729312846452, 0.513411815208891, -0.5547130659232564, -0.9555013045290566, 3.8410169248900567, -0.9518817423795184, 0.36663869868378873, 0.5184672806374873, 0.5122249481510025, 0.5115500385811084, -1.2682460073324655, 0.5129556588360474, 0.659373123638865, -0.07904233228307418, 0.511771111303372, -0.6333877716747891, -0.6003781402166535, -0.8546596490648419, 0.5707245396997535, 0.366482983034287, 0.5238352878392317, -0.8559080003415611, -0.6111421577780423, -0.5463145399197346, -0.5539009935937047, 0.1616337148633881, 0.5117905489461575, 0.5151599655581046, 0.5127604536930145, -0.9954002348828346, -0.9525836175388795, 0.3905416263999728, -0.4704265188865067, 0.3675072880040221, -1.1895119579088431, -0.9524261633999554, 0.36694098558206717, 0.36689977860639483, 0.365872728192118, 0.11586568663286863, -0.5298547369827797, -0.5556697633606001, 0.5123554112061175, -0.25918934688497064, 0.29897121738052207, 0.5176868404588917, -0.9523459687256112, -0.46995492766850067, 0.3673762589001828, -0.8554683418724595, -0.5531635532073322, 8.188466157826282, 1.5894852873918568, 1.007562767334181, -1.3057061565100636, 0.5144646132324391, -0.7007637904119689, -0.7935008810478977, 0.5422423187698142, -0.6003064540525607, 0.5169136651441714, -0.8560830429290399, 0.5115430718889777, -0.5905720835042547, 0.5152509569875982, -0.5568773289292269, -0.8559831461450784, 0.5310545412700556, 0.739780499191803, -0.996332390260843, 0.6416691857019666, 0.39861766422024353, 0.5117962515754472, -0.5563840672809596, 0.6257334238902575, 0.8214360163977314, 0.5115292125881605, 0.36642725094363426, 1.6375836636670908, -0.9525465565827036, -1.4897515979000377, 0.11702978826238018, 0.692457279034459, 0.3668842283897802, -1.3395206285844043, 0.11648196822741258, -0.7682260813745626, 0.5148779730944186, 0.5164198022466091, -0.5985094501527146, 0.6426812273824147, -0.8551027052498702, 1.896812549224486, -0.7013771814252954, -0.7592015587852122, 0.11642086304643515, 0.36663644682736485, -0.004281138860074675, 0.5192240960080402, 0.6790230738545019, -0.7021957836863381, -0.35808490035598534, 0.5142463381556606, -0.7023007739636432, 1.1634326242019137, -0.6644238571258256, -0.5561786630002805, -0.5972749710893959, 0.11796993864282902, 0.709393876939392, 0.5135826573787426, 0.7533005519235555, -0.9476284291076118, 1.5169752461473276, -0.7019581259884605, 0.5497979359894742, -1.3808177764930238, 0.5119123007873555, 0.11647676522356303, -0.9483676179151144, -0.6997995642007577, -0.695720619191351, -0.9080867426274372, -0.9502845442782774, 0.5115291012335008, -1.2888891066748427, -0.5125038978796904, -0.5562597255534846, -0.554449990240972, -0.8977684112775365, 0.11617586699750489, -0.9724979002616959, 0.5481424205239621, -0.9515901788584656, -0.5547536921832108, 1.4192896698203261, -0.7022833761713426, 0.36613695312455796, -0.9525308196183361, -0.5565929819021681, 0.6647063747232473, -0.5568657586709221, 0.5168184016806561, -0.5968157746734578, 0.3662181684397144, -0.16791423490223215, 0.5121461848325497, -0.2898166675455408, -1.378832409373959, -0.5560916334658161, -0.9459737872767513, 0.732252977305685, -1.3774180309948434, -0.9002470730214356, -1.2629127344600473, -1.3774318173683648, -0.8960844924358488, 0.64318011891971, 0.7729616361882827, -1.7155413177344165, -0.9517668638340446, 0.5175418546869412, 0.1421529392613954, 1.4138412106174, -0.9524420461224743, -1.379715255110464, -0.5560227001135108, -0.556339188074609, 0.12013090088755116, -1.3808177764930238, -0.9517004941949171, -0.7020058712829506, -0.5560131920744456, -0.9640716425615022, -0.5562989913433516, -0.5486817447020069, -0.9525024906860832, 1.4192565504908239, -0.5549454064881022, 0.6257941413179103, -0.5566690620605916, -0.5567914492281524, -1.2307829199871363, -0.6682522630286346, 0.5115615823074093, 1.4195108845912219, 0.6914835641819899, -0.5502059240741393, -0.7022360544728611, -0.9523304573666367, -0.5563787482975646, 0.1412378830217729, -0.5566372903166842, 0.7732749723684779, -0.6002279341966816, -0.24375433059891763, 0.5116239299109582, -0.8998051557157983, 0.11670326687780427, 0.7729447390325215, -0.5322801408745815, 0.5139659247441857, 0.6920267885472511, -0.5996677671030576, 0.6997051134887129, -0.9522487896124044, -1.2326940047451618, -0.9498597830773237, 0.5620372747016146, -1.377478822160966, -0.9520439145831869, 0.15802471131296372, -1.3668176660192601, -0.9434815720257043, -0.5565220749286812, -0.5565350980730044, -0.5567786519914689, 0.17384595279025938, -0.9516731770432376, 0.5124381968486841, -0.5692588777434074, 0.4287636106117703, -1.380906409191269, -0.5551045928036591, 1.3383238188087383, -0.7439119318940921, 0.5127228681325874, -1.2877816940675055, 0.7737190359520678, 0.9845700239634633, 0.7646378484713594, 1.0929789872021878, 0.694125286173055, 1.487806855671248, -0.9110091278996744, 0.11670961769689622, -0.9096787726827665, -1.2114539105009312, 0.51218685183458, -0.8553909988241908, 0.5125511084253639, 0.11720880962674712, 0.11613171846982764, 0.2767821961141396, 1.4199836102799896, -0.8555109787361294, 0.6662184837757437, 6.95610111817652, 0.47570633228886544, -1.2806165396817353, 0.11896046577641001, -1.2104605518705405, 0.36656286827070195, -0.9521592078828595, -0.6003022678528195, 21.77674012871859, 0.640037774941439, -1.3807007674213478, 4.016709536330862, 0.5119890987627325, 0.51296240659148, 0.512318882678457, 0.5123451041723598, -0.555843774671717, -0.5567589538436792, 1.4202828210699832, -1.201267776586537, 0.9779153378176149, -0.952075173038501, 0.902876558626831, -0.601894656471926, 0.18220755818470896, -0.5566927713997707, 0.4575851006256223, -0.814908441273103, 0.7732456868308998, 0.9368641634984374, -0.700286533852615, -0.8973715374758742, -1.2124308624765257, 0.7116331499227315, -0.5566035774653326, -1.1839641050466316, 0.5139695178553328, -1.3101581924527863, -0.5563312406143034, -0.4158580548529279, 0.12441475073457725, 0.4578595710853848, 0.6459568999668509, 0.4576846956211233, -0.9498848295291195, -1.7065421332749975, 0.1520495559732518, -0.8492105461068711, 0.6599591587198845, -0.551622787347023, 2.93198319030518, 1.4192388343132356, 0.6562084981000146, -0.9546292887044402, -1.2305639201332415, 0.12453667677382783, 0.7937906973808835, 0.17546864202332807, -0.5566947008866244, 0.6698717887476916, -0.9508644067015819, 2.902743595806504, 0.11618210249946324, 0.45760189610352525, -1.2305429418243643, 0.47062076176746354, 0.513404627292326, -0.5314109346380893, -0.5568029601750997, -0.9962780545437736, 0.11632541813899173, 0.3666058585769021, 0.3850006625143206, -1.2894378682695116, -0.4702027025296894, -0.24208046990708415, 2.843873091834666, 0.7393657939047376, -0.5483173773227958, 1.4263709459208516, 0.7578381059566823, 0.7115297814661606, 0.3125910854239766, -0.8849021941830296, -1.080582260235227, -3.297473839280169, 0.5123011076312051, 1.0919927610535693, 0.1271351347445982, -0.6834801872728832, -2.699091560781909, -0.9522245248678413, -0.7037291645165846, -0.5988282727924003, -1.2190884252731748, 0.7278458683383403, 1.4210600003780076, 0.5118632492210123, 0.6613361416516479, -0.9102838229344664, -0.5568558597674919, -0.5568231316175721, 0.7751727785765887, -0.5883011226929384, 0.7361476586089069, -1.2106565797815492, -1.379939463565727, -0.5563039297631429, -1.73280454946384, 0.11662781267512969, -1.1812917440697153, -1.3803021320809135, 1.419593337160439, -0.7882004363427043, -0.45980392186591185, 0.1579594467325741, 0.6917617930140012, -0.519600001868595, 0.7547030258310252, -0.599705794577633, 0.7321052995288538, 1.4263215768848452, 2.799861947401116, 4.683285984745209, -0.18205603676713103, -0.6002471919651259, 0.7344336541987933, -1.0136552313705656, 1.4328260719977524, -0.5553557349808063, -0.8020706650839534, 5.388863598015437, -1.2232017750529163, -0.7439702734285982, -1.4606898190030266, 0.32408941520316825, 0.6972210453571416, 0.1162155164202051, -0.7428843350311862, -1.2307936841186968, -1.1869567187462318, -0.39433693349411564, -0.7707616086039896, -1.229593046735462, 0.5118117370587488, -0.5566584560335288, 0.7925435044748987, 0.7355555793182335, 0.3668777433429333, 7.497406168862911, -0.9954976110371789, -0.9512174374316602, -0.5951490057198218, -1.3787537868904853, 0.4175943922251228, -0.7042476568949549, -0.9965204664387929, 0.11626503629279097, -0.5297090252456589, -1.1951837336842008, 0.3238713505651686, -1.547848852609879, 0.9693964255942341, -0.7477549361482732, 0.7331678941911491, 0.36656279290009536, 1.209925745153019, -0.5748146965495557, 1.5636372482926617, -1.1856383721039088, 0.7665553573812104, 0.7659272237691552, -0.33829670869046147, 0.6592208730990975, 0.5123835417400521, -0.5562940589033062, 0.7766583912483781, -1.1864841689104348, 0.7735615129633485, -1.2310132487502274, 1.1141964528116102, 0.398790707183034, -0.9963844502370942, -0.5553815401968376, -0.6934777385222544, -0.9313119341291223, -0.9470649194340667, 0.3679298622826434, 0.21219464737203567, 0.36999498661080665, -0.951633693228705, -1.6950902610689937, 0.246962476261668, 0.5248757762160434, -0.9466379813758766, 0.5998582572913872, -0.5543786193291443, 0.8514821259212302, -0.5557448682856095, -0.7462497728879841, -0.5566772387430904, -0.9357683237007107, 0.5307524080812532, -0.40435536517606957, -0.2628263578547197, -0.940347041605581, 0.36694224869749087, -0.5552590616534515, 1.848630013358499, -0.5421072216122502, 0.27669684006538237, -0.9451021557965839, -0.5543612152799487, -1.3813489695696872, 0.5116914880797647, 0.5154421359639071, -0.9314955924706245, -0.6994394475162642, -1.7148244448702474, -0.23335149429379062, -0.5470644734210277, -0.6105033257928975, 0.6401891730952575, -0.8562745750844696, 0.8214388943437424, -1.6947090985236328, 0.6431169960815897, -1.6922129769600753, -0.721981303412905, -2.8987706212037776, -1.3812195725215115, -1.7584945982459135, -0.9314793598539463, -0.5534873488883792, 1.460140193167044, 0.7730028875019184, -0.6009573814096854], \"y\": [0.8303531655100158, 0.8416610358313604, 3.271318676799302, -1.219971478112683, -1.816504444255313, -0.9802662077646459, 0.9035350109016834, -2.0177922848589085, -1.815462663895971, -1.9257048804831316, 1.0341494757143332, -1.5543039350594543, 0.5914368994801235, 0.34013735191261585, -0.9810415601321182, 1.657418810258538, -0.9079990358613653, -0.9807843056519444, 0.830583620984518, 0.835645496032751, -1.6267660956804657, 0.8373440797382741, -1.217998527957503, -0.9789311876052093, -0.981123036867291, 0.8313781328388884, -0.5703939868494905, -1.164930331702942, -0.9806824109793514, 0.8303558874797653, -0.9810294696289898, 0.8303665553398618, -0.9810876486817166, -0.9080597525148801, 1.6758740279117226, 0.6458496674079846, -1.439224036817818, -1.062861657582987, -0.812821052687274, -0.980915443738853, -0.9779463636811038, -0.9808751247316582, 1.0528953564125039, 0.1417919327778558, -0.9811263266149813, -1.5121664035167885, -0.9670976590435357, -0.9803105746953606, -0.9804999484705038, 0.8311013889170245, 0.6659919651216185, 0.2024267957346073, 0.9036068021588676, -1.219945140935714, -0.9786707041115139, -0.9809333736823643, -0.981173463212112, 1.2241981017863974, -0.9806723911874727, -1.9003019176846567, 0.7563626997764137, -0.9810933545671197, 0.6162200865666392, 0.5792208198173371, 1.5402221161817404, -0.9610089384728466, -1.219998053502243, -0.9768053693602133, 1.5397979233007286, 0.2960913098449661, 0.8341968240340399, 0.8314332632319963, 1.0745172371755538, -0.9810804070178145, -0.9798034296528952, -0.9807334176710831, 0.6524342089581947, 0.9033556186242055, -1.211322955019087, -0.08942708767493782, -1.2196349936392865, 1.1759061016108607, 0.9034148873478639, -1.2198303145124247, -1.219822405981063, -1.2202173840521073, -0.9081765597851993, 0.8395535005548445, 0.8307763007389039, -0.9808873122132604, 0.2129993523867718, -1.2293984918712844, -0.9789358996329905, 0.9034395430026487, -0.08926741640054563, -1.2196806777548304, 1.5399473203463738, 0.8316331065987039, 0.6148571485597994, -1.7337991236607175, 2.658119426299579, 0.9943138877811167, -0.9801232497824764, 0.5919698474300564, 0.646244444107394, -0.9697762417383526, 0.5792358495819759, -0.9792557299089797, 1.5397453625812332, -0.9811750936178852, 0.5828319125354885, -0.9799160837059209, 0.8303653903442771, 1.539778154559733, -0.9745407969129521, -2.0262305175551796, 0.6521289922144825, -1.649756470657272, -1.446946774595222, -0.9810886339208011, 0.8305445338654157, -0.9423167822655498, -2.013152697363714, -0.9811809611548234, -1.2200169914058119, -0.5454980897936672, 0.9033682114530578, 0.8426572301540818, -0.9077619673754337, -1.9775883540051094, -1.2198428199430469, 1.5951973042593954, -0.9079550371800623, 0.7508322254729984, -0.9799221769751529, -0.9793753340002794, 0.5798470525934015, -1.817233848753057, 1.5401003945371476, -1.571013621492207, 0.5917279728861125, 1.6557857885764502, -0.9079786838684814, -1.2199459061221498, 1.0550579784896916, -0.9784454919404397, -1.9723517394502832, 0.5914567289825459, 1.1206764718933369, -0.9802095979709273, 0.5914144221348687, -0.9367349911029228, 1.2457997122410691, 0.8306270159323929, 0.5803934138042218, -0.9074130953760874, -2.069596721003003, -0.9803864814751817, -2.0855796368662993, 0.905260817492034, 1.3557767659958346, 0.5915478644449524, 1.181346707639634, 1.053109342834416, -0.9810396120372249, -0.9079544987774896, 0.9048314701773936, 0.5923867081951611, 0.5939470353779788, 1.163054349227877, 0.9042169961529134, -0.9811810007405098, 1.0446177186581027, 0.8465967911534815, 0.8306008160720314, 0.8311907826907753, 1.2893167553500693, -0.9080567447460589, 0.6605953050382878, -1.723460722719329, 0.9037220209452757, 0.8311389013295145, -1.7916839134128606, 0.5914263882383514, -1.2201221301415228, 0.9033752887100505, 0.8304741207545291, -1.6419226103123845, 0.8303693219469404, -0.9792687188706806, 0.5804219911513598, -1.2200940127104491, 0.20840003523970893, -0.9809543716639681, 1.881250365286441, 1.0538151118886963, 0.8306323716246569, 0.9056074208663678, -2.014176728597496, 1.054276116766548, 1.2883606216557086, 1.5513458084034006, 1.054421924538007, 1.6680350157561152, -1.8170589622863205, -1.9257196183815777, 1.4648273296507706, 0.9036504509680212, -0.9790805476394716, -0.8989557861676254, 2.3115544820462497, 0.9034059461930397, 1.0535012803252946, 0.830678017477987, 0.8305724691112987, -0.9065957647435049, 1.053109342834416, 0.9036903015091697, 0.5915201084932995, 0.8306780539745657, 0.3764785999298641, 0.8305780556739982, 0.833525440182794, 0.9033860681501048, -1.7916888248539757, 0.8311048926796757, 1.0146159642959076, 0.830443655734176, 0.8303964843619948, 0.9866316011036634, 0.36516753576260164, -0.9811687539790535, -1.7916000950953048, -1.9779513926870338, 0.8329206499068873, 0.5914424682696594, 0.9034470360139694, 0.8305463412692552, -0.8989784250286923, 0.8304596028035747, -2.016968072379229, 0.5792942437738205, 0.1291040429975121, -0.9811471957895924, 1.2885177197063111, -0.9078861819358175, -1.9257276664735705, 0.8387293422560805, -0.9803527408710087, -1.977760461100939, 0.5794727272456662, -2.0362691543247213, 0.9034699700121697, 1.5258333152201293, 0.9042817603982342, -0.9617121564457644, 1.0542959890011143, 0.903539587058679, -0.6492963078091437, 1.0580857229781389, 0.9067368153752411, 0.8304983374299486, 0.8304981719771354, 0.8304046870048092, 0.6959979278809374, 0.9036880519641587, -0.9808519621942242, 0.590939091675211, -1.1974055516442057, 1.0530849912129148, 0.8310283134084958, 2.420408902220592, 0.34101194523730727, -0.9807341960777506, 1.044975280757613, -2.0168633063901344, 2.439736690001274, -1.9093998312912515, -1.843962066575908, -1.9972113896042976, -1.767254170424915, 1.1620151874896052, -0.9078892133032453, 1.1624620561226466, 1.451037269983332, -0.9809467359022588, 1.5399908996793497, -0.9807908306579514, -0.9076855672939576, -0.9080752637803204, 1.1424749320437873, -1.79142274035287, 1.5399437289110054, -2.01362221891355, 1.3240201211606972, -1.2127003024857281, 1.070460997706894, -0.9071191801137561, 1.4513748157263948, -1.2199709082994328, 0.9035053153920899, 0.5792473082837464, 16.685486771313645, -0.9314594977507741, 1.053173089310203, 0.20988770823666358, -0.9810135158934239, -0.9806458811224638, -0.9809124098776726, -0.9809034997485685, 0.8307444167200426, 0.8304080362100197, -1.7913009508789788, 0.9949050006223699, 1.8280561942548295, 0.9035439569332822, -1.881465226110364, 0.29946209972894566, -0.8856276601829203, 0.8304371752787807, -1.515333024049418, 0.33028952652194826, -1.9256230972639308, 1.3523574561073441, 0.5920933882630858, 1.1666492747692159, 1.403198834297775, -2.0687629821073252, 0.8304705203557085, 1.2390196377576415, -0.9803515199228687, 1.0437333625042444, 0.8305594794234487, 0.45755949506975063, -0.9050697567822247, -1.5152293795185996, -1.8159690675030487, -1.5152964137457268, 0.9043557032181213, 1.468101499651967, 1.5405373888239435, 1.5421948207778018, -1.6431609367699984, 0.8322719824990256, -1.2286617230919858, -1.7916997459474373, -1.8125893366910244, 0.9108309474245904, 0.9867089007962087, -0.9049130061959977, -2.009527148508261, 1.1080483333797706, 0.8304280244082507, -0.9244931202382515, 0.903968640136467, -0.0798398695096672, -0.9080576242220778, -1.515330776498497, 0.9867050738956535, -1.510630742483609, -0.9805071454054375, 0.8395378738763619, 0.8303929674289039, 0.6521480322258889, -0.9080070800928829, -1.21995678096966, -1.1693899217567592, 1.0444263470058746, -0.2571816985594281, 0.09963785240599234, -1.301846684680036, -2.1098878445983127, 0.833407854258498, -1.7890897068154485, -0.8974272814287529, -2.0688876566843457, -1.2248130950318132, 1.2940346874871436, 4.316048135422294, -1.856600402650995, -0.9808959625194549, -0.7733249077125164, -0.9040588736424859, 0.6421294267870551, 2.8559693127501724, 0.9034920536105986, 1.4201569274922525, 0.5798096375497096, 0.9800768891385825, -1.784556545366349, -1.7910823506687745, -0.9810557032828834, -2.043426509721157, 1.162284711890625, 0.8303744154162486, 0.8303866897214511, -1.9249400133223806, 0.5836035906898529, -2.012692665665093, 0.9287175791467652, 1.0534470044969302, 0.8305775307847578, 1.5258803298669192, -0.9079170108539121, 1.239927712690589, 1.053319156037326, -1.7915758830602477, 0.39019299123569484, 0.8663044887612409, -0.6493341983543345, -1.9778474628017615, 1.2675334456628797, -1.9822103477916357, 0.5794549467471994, -2.0142331948046635, -1.7889542600844828, -1.0495081094431746, -0.5764813527191563, 0.9636119118599922, 0.5792813573462656, -2.0067078142905475, 1.6237568090806282, -1.7870842101520383, 0.8309308660891579, 1.4048832741229758, 2.4005872268434443, 0.9895738334910236, 0.3409345633689002, 1.2403256039798511, -1.170083061656672, -2.002144491903684, -0.9080455781694919, 0.6419853805324115, 0.9866314030192892, 1.2378903903980067, 0.6589577992526369, 0.5816793791738926, 0.9870278506187884, -0.9810725699506323, 0.8304455298914514, -2.00951819951348, -2.072617916612208, -0.39055560135960066, 0.6530938004713519, 0.6524328332465464, 0.903848679412855, 0.5811382791615197, 1.053920245478176, -1.2026302690319828, 0.5582703448664214, 0.6520541280772858, -0.9080264447968615, 0.8396549076831021, 0.9833058099954004, -1.170169312794162, 5.361318692493501, -1.8546005420982603, 1.1688188787658809, -2.013829742453564, -1.2199709339105524, 2.250246107374278, 0.7953502251025968, -1.7379810913261404, 1.2383665341669137, -2.0360973239991513, -2.036356830561308, -0.3650578407562987, -2.0555662115044018, -0.9808904385670862, 0.8305756955359649, -1.9243240301265279, 1.2380589700896714, -1.9255100784971058, 0.9865523949583438, 1.4413300444169859, -1.4468873975653025, 0.6521111291248363, 0.8309220974123134, 1.423894091233341, 1.6546196858395685, 0.9054730570526651, -1.2194816065608045, -0.2718508384041293, -1.2187199058543075, 0.9036957026722482, 1.4717103408799395, 1.123693130754223, -0.9760804790117253, 0.9053759600622843, -1.4646974220548097, 0.8313297779193978, -2.003263414601377, 0.8307814873264356, 0.34011428124705584, 0.8304333814891596, 0.9093577964163606, -0.9746434625249453, 0.8882470246968573, 0.7407434484225633, 0.9075194030956384, -1.21982988530265, 0.8309239305914856, -0.49800117404091176, 0.8356149493194004, -1.1646330743806548, 0.9060177700353262, 0.8312209486442053, 1.0529224995108062, -0.9811232937326649, -0.9797467561810492, 0.3851325398431183, 0.5924411966184765, 1.4650910587569763, 0.7096991465097697, 0.8338728028695055, 0.296340905666561, -1.65025776815929, 1.5396734294796246, -2.0382510631855335, 1.4718340948739495, -1.81708140194801, 1.4726822832141613, 0.3483544251842675, 1.3761194648431947, 1.0529662579963504, 1.149757241397211, 0.589353147009433, 0.831661463794116, -1.7770012025127842, -1.9257056010821978, 0.5790152394397017], \"z\": [-0.5827279044837501, -0.5830538129166822, -0.7392293246211995, 0.20699323760002397, 0.44917377362696065, -0.011598297464149091, -0.538687914511209, 0.40650156341507176, 0.4491326225039172, 0.4846751633862952, 0.23966682768670453, 0.3708826960541881, -0.364162418503696, -0.04563010779666353, -0.011574117841182572, -0.6617206009881422, 0.032471024067805464, -0.011583667508857453, -0.5827349560874866, -0.5828632296370235, 0.37261185323386004, -0.08460647311306348, 0.20693250615279601, -0.011643905977481361, -0.011570652310594119, -0.5827541129466838, 0.02217017509603375, 0.06290662045530766, -0.011585178699598605, -0.5827280086358734, -0.011574426995952422, -0.5827283159677498, -0.011572396163270778, 0.032472714812312474, -0.4123888435955355, -0.5082273964664641, 0.36681052181356255, 0.20296287015731243, -0.01680703567316142, -0.011577342643667232, -0.011672529047593139, -0.011579133794215015, -0.054242106931973164, -0.2994041055395243, -0.011571275571418406, 0.22105882322774562, -0.012027388758237768, -0.011596195483033932, -0.011591508382683587, -0.5827471056990773, -0.22050649438904646, -0.04809522539476162, -0.5386897502172454, 0.20699256415709544, -0.0116516322590224, -0.011576815065795006, -0.011569387094346323, -0.2805466784183946, -0.011585008784278792, 0.26033654715670423, -0.2687300523951125, -0.011572033263371731, -0.36496179230129056, -0.26420164383573247, -0.6732540800165037, -0.012091812536390105, 0.20699391713406812, -0.011704275680164218, -0.6732432333833165, -0.34999324126860015, -0.5828552125158287, -0.5827622952489253, -0.5889711920074912, -0.011573124524372001, -0.011621602704688358, -0.011584084130581403, -0.2201598218857272, -0.5386818071277734, 0.20671217751869198, 0.12070829343566067, 0.2069828360318094, -0.2545735474831145, -0.5386840136460908, 0.20698817676499354, 0.20698534842730174, 0.20700095942483424, 0.03247694552981268, -0.582963848591347, -0.5827387931781004, -0.011578200184823452, -0.38084526691980275, 0.2933806507460599, -0.011644851196271764, -0.5386843331049785, 0.12070427974150655, 0.20698414322065706, -0.6732470534732471, -0.5827613237216744, 0.36610422343368015, 0.438900805844448, -0.41836808091602246, -0.05798685002821562, -0.011603412474615264, -0.3641792249921431, -0.5082371882319761, -0.011976823298463567, -0.26420090997495294, -0.011629828991493783, -0.673242718702926, -0.011569433725221743, -0.26432741564442414, -0.01160151416330754, -0.5827282170704347, -0.6732434189788176, -0.011739582490377393, 0.28182795699530033, -0.2201533996447162, 0.37333793491153294, 0.2047958168061642, -0.011571695874772133, -0.5827341799456258, -0.0125697719056771, 0.42979916765646653, -0.011569144886428158, 0.20699440137720995, -0.029067500304819426, -0.5386821290579288, 0.4015024805744327, 0.03246406380660454, 0.3894215039364944, 0.2069876838156403, -1.0015664637625121, 0.0324698299110033, -0.2756040120808256, -0.011615818582926322, -0.011632549131941063, -0.26421660757485044, 0.44919125616376604, -0.6732544230039481, 0.35787258770605035, -0.3641690319654112, -0.6616564740407317, 0.03247078009960814, 0.20699258372295065, -0.4756976481692825, -0.01165356090713753, 0.32011659879328547, -0.364162925545065, -0.5460735380366092, -0.011599744979405064, -0.3641610490111765, 0.1982577618606071, -0.48579107485628015, -0.5827378093992385, -0.2642457855259894, 0.03245161860782342, 0.4165645761683339, -0.011601051435961665, 0.4495788999135744, -0.5387570606837934, -0.2908988237057035, -0.3641664998331526, -0.39712783147547714, -0.054248960741880264, -0.011574098545746644, 0.03246953971074408, -0.5387247277806875, -0.36420057692752833, -0.36426136428899003, -0.4836814915335097, -0.5387134385816047, -0.011569143664821832, -0.1308245694199939, -0.5832814714405277, -0.5827373007202212, -0.5827493915023441, -0.35474632687700625, 0.032472154145275274, -0.2204139056868042, 0.8128983100762723, -0.5386946314003296, -0.5827542155337961, 0.4403871425628444, -0.36416208062239847, 0.2069978682160547, -0.5386825173487032, -0.582732448587178, 0.3731369316274321, -0.5827283176017112, -0.011631819870152552, -0.2642312396742186, 0.20699708689563706, -0.2965337640089485, -0.0115769692295522, -0.6653970685156333, -0.05427073914116871, -0.5827350437951294, -0.5387400768378396, 0.35389719191413993, -0.05428017736903745, -0.35470822960603704, -0.8471523711254612, -0.05430194295954218, -0.6590817020156046, 0.4491861416599843, 0.4846755402350923, 0.7443491346123701, -0.5386914191860366, -0.011629720585975866, 0.032206615727288064, -0.6930358292689549, -0.5386833602340564, -0.054261055852719994, -0.5827388743965244, -0.5827364146342945, 0.03242076782462253, -0.054248960741880264, -0.5386945114159588, -0.36416440794568583, -0.5827384924696527, -0.3167677153526438, -0.5827355899665059, -0.5828539857106514, -0.5386829311961641, 0.4403865079571229, -0.5827570777801833, -0.277580652560423, -0.5827311167285257, -0.5827292412946293, -0.23035888593717768, -0.3663832690935616, -0.011569601793184212, 0.4403839626994761, 0.3894346423447805, -0.5828281093451347, -0.36416249178960325, -0.5386847910451168, -0.5827342261610324, 0.03217264044423966, -0.582732141863521, 0.40646770322158654, -0.26420620407494416, -0.24485467942584507, -0.01157019766137674, -0.3547130776197609, 0.0324688294704808, 0.484676022458486, -0.5829427748224193, -0.011590348817752557, 0.389429000022987, -0.26420934610091074, 0.36927221200697957, -0.5386848001376952, -0.7824433827594504, -0.5387055576584765, -0.012343353664539883, -0.05428554313598413, -0.5386865802490571, 0.08750107472855151, -0.054402468192588316, -0.5388028185885902, -0.5827330824681061, -0.582733588801373, -0.5827299129712074, -0.05991174065068926, -0.5386930717285863, -0.01157996935038453, -0.26463837910016, 0.2062449062068012, -0.054249029152897185, -0.5827524244199194, -0.6874258566704354, -0.045665434820594306, -0.011585501679734206, -0.13083146628037542, 0.40647055301558216, -0.6801237218628841, 0.4189893398503416, 0.36482837675834556, 0.41895812343740735, 0.43962494725632006, -0.4836493914503009, 0.03246952895757499, -0.4836601959287252, -0.6719511567837104, -0.011576423414027193, -0.6732502410485629, -0.011584260855644339, 0.03246024432806696, 0.03247304923865798, -0.5941642896506605, 0.4403774235885678, -0.6732482676620571, 0.33685225849138767, -0.0843348730100933, 0.06281685359439869, -0.18632325050355852, 0.03244921719552163, -0.6719597878452458, 0.2069932230298744, -0.5386862918440325, -0.2642024058664244, 1.3426447535806199, -0.013566119738904925, -0.05425346564613627, -0.04202478753433204, -0.011574765825449135, -0.011588589197395294, -0.011576038053255102, -0.011576265885701905, -0.5827412434084663, -0.5827295977822974, 0.44037189831320184, 0.2409128245189076, -0.10623316536157305, -0.5386884888032821, 0.48353089173848546, -0.3501068153240771, 0.031899677955787055, -0.5827311399190078, 0.22116114834396614, 0.040771624602317216, 0.4846730721852855, -0.5978032882973212, -0.36417775368000277, -0.4837678852938587, -0.5723365435675178, 0.41653452857699735, -0.5827323565247999, -0.5489311578747134, -0.011590380037457753, -0.17080794026613594, -0.5827342019308032, -0.04925370889463303, 0.0323733165097093, 0.2211572541983735, 0.44914073368710167, 0.22115988049673482, -0.5387173308697994, 0.7442394983017554, -0.4954007815821202, -0.6733190349188495, 0.3731236752890838, -0.5827914814743487, 0.4201171208986949, 0.44038737463074673, 0.44906675329871776, -0.16512191002226745, -0.23036120803578203, 0.032355486725434736, 0.40622115097696593, -0.5932839998006473, -0.5827298877349032, -0.013364154601878633, -0.5387009374653852, 0.0719412332425062, 0.03247253599678353, 0.22116150552389527, -0.23035979712366844, 0.22100822253387306, -0.011590754510225409, -0.583024955420944, -0.5827291986511471, -0.2201539556070805, 0.03247102243424857, 0.2069929194296843, 0.28450123160080565, -0.13081908861655642, 0.19656982920563545, -0.3468588962906431, 0.4271715880062995, 0.43045764587643204, -0.5828220461550939, 0.44029827925814735, -0.013717598687650738, 0.4165484494995065, 0.2932685159351515, -0.35490842962959407, 21.066249546170674, 14.047491690497836, -0.011579153837496432, -0.018156067207568127, 0.032337101929299734, -0.28665694003196673, 0.4688576091073087, -0.5386870234160849, -0.4285961237308874, -0.2642241511936365, -0.21252933319446618, 0.44790766017603145, 0.44037176057338506, -0.011573756200110209, 0.4205784940573368, -0.4836590475355067, -0.5827286551669356, -0.5827291072381731, 0.4846522193870635, -0.2643471474934342, 0.3538399907728458, -0.09651412473131295, -0.054262294133222956, -0.582735714761701, 0.7684188640961918, 0.03247023974233603, -0.5489543773961748, -0.05425847217515715, 0.44038379971143876, -0.014991344552515416, -0.5840011510572783, 0.08750392693161642, 0.38943085976890124, -0.1655130742560722, 0.2857389535325137, -0.2642083091167407, 0.3538993890385669, 0.4402765712462574, 0.44740719790319894, 0.3965991125512895, -0.5868402421522968, -0.26420511437683003, 0.2586941035915058, -0.6574308481164417, 0.4402695279203674, -0.582748481412375, -0.3431393743575062, -0.5726147894781747, -0.23047800274952696, -0.04565655763200271, 0.2987200293168566, 0.23763844842182325, 0.23361168804546062, 0.0324721450486327, -0.33353819549813013, -0.23035929552206907, -0.5488888172762493, -0.2674059526529036, -0.2777643082683166, -0.2303680505406259, -0.011573401301440656, -0.5827309573258619, 0.4061690550793767, 0.42959753147132757, 0.14253130412944365, 0.39112323926500436, -0.22016358766629582, -0.5386978700636816, -0.2642675233575967, -0.05428282614379205, 0.20654982201634847, -0.5069844906623061, -0.22015017230690867, 0.032471379374058404, -0.5829726613254635, 0.880060415598884, 0.2376421103739375, 14.239831736070537, 0.48233324994169646, -0.11006279399313605, 0.35388399328026765, 0.206993223684752, 0.06787308765356644, -0.22381419156784596, 0.43845625457551446, -0.5489043681685487, 0.39991093717876225, 0.39992309392123015, 0.23203166342103457, 0.3298194421258005, -0.01157659986076586, -0.5827350458594206, 0.48462314458188954, -0.5488940874363482, 0.4846694990849153, -0.2303567479855189, -0.6035199161531033, 0.20479422942421907, -0.2201529221521246, -0.5827482571968696, -0.42872209085537205, -0.6585654859093326, -0.5387649755594855, 0.20697773990219298, -0.10208164488161332, 0.20695107591177353, -0.5386925762743774, 0.7441810831276874, -0.5926474132563846, -0.011767316920534692, -0.5387334672903035, 0.21959182611370726, -0.5827666981729168, 0.39859487890161166, -0.582742606240302, -0.045630105299308624, -0.5827299556074105, -0.5388698372049249, -0.011736957325542913, -0.5849338907133576, -0.36797874315442963, -0.5387889663190878, 0.20698816579007823, -0.5827435355972923, -0.027379449388525504, -0.5828900918839222, 0.06289756829599273, -0.5387642529339212, -0.5827501628472821, -0.05424342295723181, -0.011570922175812357, -0.01161835248245773, -0.20772198704302525, -0.3641938344222996, 0.7443399778939783, -0.2682285568168179, -0.5828386342800765, -0.3500035210272804, 0.3733505596104416, -0.6732400583630811, 0.4396363042294132, 0.7441786098150696, 0.44918683414336064, 0.7441569215967807, -0.045840046000475476, 11.735385791164237, -0.05424451657992619, 0.26126304716294313, 0.39923709365861715, -0.5827786348133117, 0.4399156289620246, 0.484675181812046, -0.264195338070899]}],                        {\"coloraxis\": {\"colorbar\": {\"title\": {\"text\": \"class\"}}, \"colorscale\": [[0.0, \"#0d0887\"], [0.1111111111111111, \"#46039f\"], [0.2222222222222222, \"#7201a8\"], [0.3333333333333333, \"#9c179e\"], [0.4444444444444444, \"#bd3786\"], [0.5555555555555556, \"#d8576b\"], [0.6666666666666666, \"#ed7953\"], [0.7777777777777778, \"#fb9f3a\"], [0.8888888888888888, \"#fdca26\"], [1.0, \"#f0f921\"]]}, \"legend\": {\"tracegroupgap\": 0}, \"margin\": {\"t\": 60}, \"scene\": {\"domain\": {\"x\": [0.0, 1.0], \"y\": [0.0, 1.0]}, \"xaxis\": {\"title\": {\"text\": \"PC 1\"}}, \"yaxis\": {\"title\": {\"text\": \"PC 2\"}}, \"zaxis\": {\"title\": {\"text\": \"PC 3\"}}}, \"template\": {\"data\": {\"bar\": [{\"error_x\": {\"color\": \"#2a3f5f\"}, \"error_y\": {\"color\": \"#2a3f5f\"}, \"marker\": {\"line\": {\"color\": \"#E5ECF6\", \"width\": 0.5}}, \"type\": \"bar\"}], \"barpolar\": [{\"marker\": {\"line\": {\"color\": \"#E5ECF6\", \"width\": 0.5}}, \"type\": \"barpolar\"}], \"carpet\": [{\"aaxis\": {\"endlinecolor\": \"#2a3f5f\", \"gridcolor\": \"white\", \"linecolor\": \"white\", \"minorgridcolor\": \"white\", \"startlinecolor\": \"#2a3f5f\"}, \"baxis\": {\"endlinecolor\": \"#2a3f5f\", \"gridcolor\": \"white\", \"linecolor\": \"white\", \"minorgridcolor\": \"white\", \"startlinecolor\": \"#2a3f5f\"}, \"type\": \"carpet\"}], \"choropleth\": [{\"colorbar\": {\"outlinewidth\": 0, \"ticks\": \"\"}, \"type\": \"choropleth\"}], \"contour\": [{\"colorbar\": {\"outlinewidth\": 0, \"ticks\": \"\"}, \"colorscale\": [[0.0, \"#0d0887\"], [0.1111111111111111, \"#46039f\"], [0.2222222222222222, \"#7201a8\"], [0.3333333333333333, \"#9c179e\"], [0.4444444444444444, \"#bd3786\"], [0.5555555555555556, \"#d8576b\"], [0.6666666666666666, \"#ed7953\"], [0.7777777777777778, \"#fb9f3a\"], [0.8888888888888888, \"#fdca26\"], [1.0, \"#f0f921\"]], \"type\": \"contour\"}], \"contourcarpet\": [{\"colorbar\": {\"outlinewidth\": 0, \"ticks\": \"\"}, \"type\": \"contourcarpet\"}], \"heatmap\": [{\"colorbar\": {\"outlinewidth\": 0, \"ticks\": \"\"}, \"colorscale\": [[0.0, \"#0d0887\"], [0.1111111111111111, \"#46039f\"], [0.2222222222222222, \"#7201a8\"], [0.3333333333333333, \"#9c179e\"], [0.4444444444444444, \"#bd3786\"], [0.5555555555555556, \"#d8576b\"], [0.6666666666666666, \"#ed7953\"], [0.7777777777777778, \"#fb9f3a\"], [0.8888888888888888, \"#fdca26\"], [1.0, \"#f0f921\"]], \"type\": \"heatmap\"}], \"heatmapgl\": [{\"colorbar\": {\"outlinewidth\": 0, \"ticks\": \"\"}, \"colorscale\": [[0.0, \"#0d0887\"], [0.1111111111111111, \"#46039f\"], [0.2222222222222222, \"#7201a8\"], [0.3333333333333333, \"#9c179e\"], [0.4444444444444444, \"#bd3786\"], [0.5555555555555556, \"#d8576b\"], [0.6666666666666666, \"#ed7953\"], [0.7777777777777778, \"#fb9f3a\"], [0.8888888888888888, \"#fdca26\"], [1.0, \"#f0f921\"]], \"type\": \"heatmapgl\"}], \"histogram\": [{\"marker\": {\"colorbar\": {\"outlinewidth\": 0, \"ticks\": \"\"}}, \"type\": \"histogram\"}], \"histogram2d\": [{\"colorbar\": {\"outlinewidth\": 0, \"ticks\": \"\"}, \"colorscale\": [[0.0, \"#0d0887\"], [0.1111111111111111, \"#46039f\"], [0.2222222222222222, \"#7201a8\"], [0.3333333333333333, \"#9c179e\"], [0.4444444444444444, \"#bd3786\"], [0.5555555555555556, \"#d8576b\"], [0.6666666666666666, \"#ed7953\"], [0.7777777777777778, \"#fb9f3a\"], [0.8888888888888888, \"#fdca26\"], [1.0, \"#f0f921\"]], \"type\": \"histogram2d\"}], \"histogram2dcontour\": [{\"colorbar\": {\"outlinewidth\": 0, \"ticks\": \"\"}, \"colorscale\": [[0.0, \"#0d0887\"], [0.1111111111111111, \"#46039f\"], [0.2222222222222222, \"#7201a8\"], [0.3333333333333333, \"#9c179e\"], [0.4444444444444444, \"#bd3786\"], [0.5555555555555556, \"#d8576b\"], [0.6666666666666666, \"#ed7953\"], [0.7777777777777778, \"#fb9f3a\"], [0.8888888888888888, \"#fdca26\"], [1.0, \"#f0f921\"]], \"type\": \"histogram2dcontour\"}], \"mesh3d\": [{\"colorbar\": {\"outlinewidth\": 0, \"ticks\": \"\"}, \"type\": \"mesh3d\"}], \"parcoords\": [{\"line\": {\"colorbar\": {\"outlinewidth\": 0, \"ticks\": \"\"}}, \"type\": \"parcoords\"}], \"pie\": [{\"automargin\": true, \"type\": \"pie\"}], \"scatter\": [{\"marker\": {\"colorbar\": {\"outlinewidth\": 0, \"ticks\": \"\"}}, \"type\": \"scatter\"}], \"scatter3d\": [{\"line\": {\"colorbar\": {\"outlinewidth\": 0, \"ticks\": \"\"}}, \"marker\": {\"colorbar\": {\"outlinewidth\": 0, \"ticks\": \"\"}}, \"type\": \"scatter3d\"}], \"scattercarpet\": [{\"marker\": {\"colorbar\": {\"outlinewidth\": 0, \"ticks\": \"\"}}, \"type\": \"scattercarpet\"}], \"scattergeo\": [{\"marker\": {\"colorbar\": {\"outlinewidth\": 0, \"ticks\": \"\"}}, \"type\": \"scattergeo\"}], \"scattergl\": [{\"marker\": {\"colorbar\": {\"outlinewidth\": 0, \"ticks\": \"\"}}, \"type\": \"scattergl\"}], \"scattermapbox\": [{\"marker\": {\"colorbar\": {\"outlinewidth\": 0, \"ticks\": \"\"}}, \"type\": \"scattermapbox\"}], \"scatterpolar\": [{\"marker\": {\"colorbar\": {\"outlinewidth\": 0, \"ticks\": \"\"}}, \"type\": \"scatterpolar\"}], \"scatterpolargl\": [{\"marker\": {\"colorbar\": {\"outlinewidth\": 0, \"ticks\": \"\"}}, \"type\": \"scatterpolargl\"}], \"scatterternary\": [{\"marker\": {\"colorbar\": {\"outlinewidth\": 0, \"ticks\": \"\"}}, \"type\": \"scatterternary\"}], \"surface\": [{\"colorbar\": {\"outlinewidth\": 0, \"ticks\": \"\"}, \"colorscale\": [[0.0, \"#0d0887\"], [0.1111111111111111, \"#46039f\"], [0.2222222222222222, \"#7201a8\"], [0.3333333333333333, \"#9c179e\"], [0.4444444444444444, \"#bd3786\"], [0.5555555555555556, \"#d8576b\"], [0.6666666666666666, \"#ed7953\"], [0.7777777777777778, \"#fb9f3a\"], [0.8888888888888888, \"#fdca26\"], [1.0, \"#f0f921\"]], \"type\": \"surface\"}], \"table\": [{\"cells\": {\"fill\": {\"color\": \"#EBF0F8\"}, \"line\": {\"color\": \"white\"}}, \"header\": {\"fill\": {\"color\": \"#C8D4E3\"}, \"line\": {\"color\": \"white\"}}, \"type\": \"table\"}]}, \"layout\": {\"annotationdefaults\": {\"arrowcolor\": \"#2a3f5f\", \"arrowhead\": 0, \"arrowwidth\": 1}, \"coloraxis\": {\"colorbar\": {\"outlinewidth\": 0, \"ticks\": \"\"}}, \"colorscale\": {\"diverging\": [[0, \"#8e0152\"], [0.1, \"#c51b7d\"], [0.2, \"#de77ae\"], [0.3, \"#f1b6da\"], [0.4, \"#fde0ef\"], [0.5, \"#f7f7f7\"], [0.6, \"#e6f5d0\"], [0.7, \"#b8e186\"], [0.8, \"#7fbc41\"], [0.9, \"#4d9221\"], [1, \"#276419\"]], \"sequential\": [[0.0, \"#0d0887\"], [0.1111111111111111, \"#46039f\"], [0.2222222222222222, \"#7201a8\"], [0.3333333333333333, \"#9c179e\"], [0.4444444444444444, \"#bd3786\"], [0.5555555555555556, \"#d8576b\"], [0.6666666666666666, \"#ed7953\"], [0.7777777777777778, \"#fb9f3a\"], [0.8888888888888888, \"#fdca26\"], [1.0, \"#f0f921\"]], \"sequentialminus\": [[0.0, \"#0d0887\"], [0.1111111111111111, \"#46039f\"], [0.2222222222222222, \"#7201a8\"], [0.3333333333333333, \"#9c179e\"], [0.4444444444444444, \"#bd3786\"], [0.5555555555555556, \"#d8576b\"], [0.6666666666666666, \"#ed7953\"], [0.7777777777777778, \"#fb9f3a\"], [0.8888888888888888, \"#fdca26\"], [1.0, \"#f0f921\"]]}, \"colorway\": [\"#636efa\", \"#EF553B\", \"#00cc96\", \"#ab63fa\", \"#FFA15A\", \"#19d3f3\", \"#FF6692\", \"#B6E880\", \"#FF97FF\", \"#FECB52\"], \"font\": {\"color\": \"#2a3f5f\"}, \"geo\": {\"bgcolor\": \"white\", \"lakecolor\": \"white\", \"landcolor\": \"#E5ECF6\", \"showlakes\": true, \"showland\": true, \"subunitcolor\": \"white\"}, \"hoverlabel\": {\"align\": \"left\"}, \"hovermode\": \"closest\", \"mapbox\": {\"style\": \"light\"}, \"paper_bgcolor\": \"white\", \"plot_bgcolor\": \"#E5ECF6\", \"polar\": {\"angularaxis\": {\"gridcolor\": \"white\", \"linecolor\": \"white\", \"ticks\": \"\"}, \"bgcolor\": \"#E5ECF6\", \"radialaxis\": {\"gridcolor\": \"white\", \"linecolor\": \"white\", \"ticks\": \"\"}}, \"scene\": {\"xaxis\": {\"backgroundcolor\": \"#E5ECF6\", \"gridcolor\": \"white\", \"gridwidth\": 2, \"linecolor\": \"white\", \"showbackground\": true, \"ticks\": \"\", \"zerolinecolor\": \"white\"}, \"yaxis\": {\"backgroundcolor\": \"#E5ECF6\", \"gridcolor\": \"white\", \"gridwidth\": 2, \"linecolor\": \"white\", \"showbackground\": true, \"ticks\": \"\", \"zerolinecolor\": \"white\"}, \"zaxis\": {\"backgroundcolor\": \"#E5ECF6\", \"gridcolor\": \"white\", \"gridwidth\": 2, \"linecolor\": \"white\", \"showbackground\": true, \"ticks\": \"\", \"zerolinecolor\": \"white\"}}, \"shapedefaults\": {\"line\": {\"color\": \"#2a3f5f\"}}, \"ternary\": {\"aaxis\": {\"gridcolor\": \"white\", \"linecolor\": \"white\", \"ticks\": \"\"}, \"baxis\": {\"gridcolor\": \"white\", \"linecolor\": \"white\", \"ticks\": \"\"}, \"bgcolor\": \"#E5ECF6\", \"caxis\": {\"gridcolor\": \"white\", \"linecolor\": \"white\", \"ticks\": \"\"}}, \"title\": {\"x\": 0.05}, \"xaxis\": {\"automargin\": true, \"gridcolor\": \"white\", \"linecolor\": \"white\", \"ticks\": \"\", \"title\": {\"standoff\": 15}, \"zerolinecolor\": \"white\", \"zerolinewidth\": 2}, \"yaxis\": {\"automargin\": true, \"gridcolor\": \"white\", \"linecolor\": \"white\", \"ticks\": \"\", \"title\": {\"standoff\": 15}, \"zerolinecolor\": \"white\", \"zerolinewidth\": 2}}}},                        {\"responsive\": true}                    ).then(function(){\n",
       "                            \n",
       "var gd = document.getElementById('59a3ebe3-3878-45c0-b25b-adca5893174b');\n",
       "var x = new MutationObserver(function (mutations, observer) {{\n",
       "        var display = window.getComputedStyle(gd).display;\n",
       "        if (!display || display === 'none') {{\n",
       "            console.log([gd, 'removed!']);\n",
       "            Plotly.purge(gd);\n",
       "            observer.disconnect();\n",
       "        }}\n",
       "}});\n",
       "\n",
       "// Listen for the removal of the full notebook cells\n",
       "var notebookContainer = gd.closest('#notebook-container');\n",
       "if (notebookContainer) {{\n",
       "    x.observe(notebookContainer, {childList: true});\n",
       "}}\n",
       "\n",
       "// Listen for the clearing of the current output cell\n",
       "var outputEl = gd.closest('.output');\n",
       "if (outputEl) {{\n",
       "    x.observe(outputEl, {childList: true});\n",
       "}}\n",
       "\n",
       "                        })                };                });            </script>        </div>"
      ]
     },
     "metadata": {},
     "output_type": "display_data"
    }
   ],
   "source": [
    "# Create a 3D-Scatter with the PCA data and the clusters\n",
    "px.scatter_3d(\n",
    "    clustered_df,\n",
    "    x=\"PC 1\",\n",
    "    y=\"PC 2\",\n",
    "    z=\"PC 3\",\n",
    "    color = 'class',\n",
    "    hover_name=\"CoinName\",\n",
    "    hover_data=[\"Algorithm\"]\n",
    ")"
   ]
  },
  {
   "cell_type": "markdown",
   "metadata": {},
   "source": [
    "#### Table of Tradable Cryptocurrencies"
   ]
  },
  {
   "cell_type": "code",
   "execution_count": 121,
   "metadata": {},
   "outputs": [
    {
     "data": {
      "application/vnd.holoviews_exec.v0+json": "",
      "text/html": [
       "<div id='1663'>\n",
       "\n",
       "\n",
       "\n",
       "\n",
       "\n",
       "  <div class=\"bk-root\" id=\"de3a2502-11b5-49b9-814e-5e90e47438e8\" data-root-id=\"1663\"></div>\n",
       "</div>\n",
       "<script type=\"application/javascript\">(function(root) {\n",
       "  function embed_document(root) {\n",
       "    var docs_json = {\"d0b9dc54-ff24-428b-8e09-735a90adf0ab\":{\"roots\":{\"references\":[{\"attributes\":{},\"id\":\"1693\",\"type\":\"IntEditor\"},{\"attributes\":{},\"id\":\"1672\",\"type\":\"StringFormatter\"},{\"attributes\":{\"editor\":{\"id\":\"1693\"},\"field\":\"class\",\"formatter\":{\"id\":\"1692\"},\"title\":\"class\"},\"id\":\"1694\",\"type\":\"TableColumn\"},{\"attributes\":{\"editor\":{\"id\":\"1688\"},\"field\":\"TotalCoinsMined\",\"formatter\":{\"id\":\"1687\"},\"title\":\"TotalCoinsMined\"},\"id\":\"1689\",\"type\":\"TableColumn\"},{\"attributes\":{},\"id\":\"1699\",\"type\":\"UnionRenderers\"},{\"attributes\":{},\"id\":\"1667\",\"type\":\"StringFormatter\"},{\"attributes\":{},\"id\":\"1692\",\"type\":\"NumberFormatter\"},{\"attributes\":{\"editor\":{\"id\":\"1668\"},\"field\":\"CoinName\",\"formatter\":{\"id\":\"1667\"},\"title\":\"CoinName\"},\"id\":\"1669\",\"type\":\"TableColumn\"},{\"attributes\":{},\"id\":\"1683\",\"type\":\"NumberEditor\"},{\"attributes\":{},\"id\":\"1688\",\"type\":\"NumberEditor\"},{\"attributes\":{\"children\":[{\"id\":\"1664\"},{\"id\":\"1697\"},{\"id\":\"1703\"}],\"margin\":[0,0,0,0],\"name\":\"Row02729\",\"tags\":[\"embedded\"]},\"id\":\"1663\",\"type\":\"Row\"},{\"attributes\":{\"editor\":{\"id\":\"1683\"},\"field\":\"TotalCoinSupply\",\"formatter\":{\"id\":\"1682\"},\"title\":\"TotalCoinSupply\"},\"id\":\"1684\",\"type\":\"TableColumn\"},{\"attributes\":{\"data\":{\"Algorithm\":[\"Scrypt\",\"Scrypt\",\"X13\",\"SHA-256\",\"Ethash\",\"Scrypt\",\"X11\",\"CryptoNight-V7\",\"Ethash\",\"Equihash\",\"SHA-512\",\"Multiple\",\"SHA-256\",\"SHA-256\",\"Scrypt\",\"X15\",\"X11\",\"Scrypt\",\"Scrypt\",\"Scrypt\",\"Multiple\",\"Scrypt\",\"SHA-256\",\"Scrypt\",\"Scrypt\",\"Scrypt\",\"Quark\",\"Groestl\",\"Scrypt\",\"Scrypt\",\"Scrypt\",\"Scrypt\",\"Scrypt\",\"X11\",\"Scrypt\",\"Groestl\",\"Multiple\",\"SHA-256\",\"Scrypt\",\"Scrypt\",\"Scrypt\",\"Scrypt\",\"PoS\",\"Scrypt\",\"Scrypt\",\"NeoScrypt\",\"Scrypt\",\"Scrypt\",\"Scrypt\",\"Scrypt\",\"X11\",\"Scrypt\",\"X11\",\"SHA-256\",\"Scrypt\",\"Scrypt\",\"Scrypt\",\"SHA3\",\"Scrypt\",\"HybridScryptHash256\",\"Scrypt\",\"Scrypt\",\"SHA-256\",\"Scrypt\",\"X13\",\"Scrypt\",\"SHA-256\",\"Scrypt\",\"X13\",\"NeoScrypt\",\"Scrypt\",\"Scrypt\",\"Scrypt\",\"Scrypt\",\"Scrypt\",\"Scrypt\",\"X11\",\"X11\",\"SHA-256\",\"Multiple\",\"SHA-256\",\"PHI1612\",\"X11\",\"SHA-256\",\"SHA-256\",\"SHA-256\",\"X11\",\"Scrypt\",\"Scrypt\",\"Scrypt\",\"Scrypt\",\"Lyra2REv2\",\"Scrypt\",\"X11\",\"Multiple\",\"SHA-256\",\"X13\",\"Scrypt\",\"CryptoNight\",\"CryptoNight\",\"Shabal256\",\"Counterparty\",\"Scrypt\",\"SHA-256\",\"Groestl\",\"Scrypt\",\"Scrypt\",\"Scrypt\",\"X13\",\"Scrypt\",\"Scrypt\",\"Scrypt\",\"Scrypt\",\"X13\",\"Scrypt\",\"Stanford Folding\",\"X11\",\"Multiple\",\"QuBit\",\"Scrypt\",\"Scrypt\",\"Scrypt\",\"M7 POW\",\"Scrypt\",\"SHA-256\",\"Scrypt\",\"X11\",\"SHA3\",\"X11\",\"Lyra2RE\",\"SHA-256\",\"QUAIT\",\"X11\",\"X11\",\"Scrypt\",\"Scrypt\",\"Scrypt\",\"Ethash\",\"X13\",\"Blake2b\",\"SHA-256\",\"X15\",\"X11\",\"SHA-256\",\"BLAKE256\",\"Scrypt\",\"1GB AES Pattern Search\",\"SHA-256\",\"X11\",\"Scrypt\",\"SHA-256\",\"SHA-256\",\"NIST5\",\"Scrypt\",\"Scrypt\",\"X11\",\"Dagger\",\"Scrypt\",\"X11GOST\",\"X11\",\"Scrypt\",\"SHA-256\",\"Scrypt\",\"PoS\",\"Scrypt\",\"X11\",\"X11\",\"SHA-256\",\"SHA-256\",\"NIST5\",\"X11\",\"Scrypt\",\"POS 3.0\",\"Scrypt\",\"Scrypt\",\"Scrypt\",\"X13\",\"X11\",\"X11\",\"Equihash\",\"X11\",\"Scrypt\",\"CryptoNight\",\"SHA-256\",\"SHA-256\",\"X11\",\"Scrypt\",\"Multiple\",\"Scrypt\",\"Scrypt\",\"Scrypt\",\"SHA-256\",\"Scrypt\",\"Scrypt\",\"SHA-256D\",\"PoS\",\"Scrypt\",\"X11\",\"Lyra2Z\",\"PoS\",\"X13\",\"X14\",\"PoS\",\"SHA-256D\",\"Ethash\",\"Equihash\",\"DPoS\",\"X11\",\"Scrypt\",\"X11\",\"X13\",\"X11\",\"PoS\",\"Scrypt\",\"Scrypt\",\"X11\",\"PoS\",\"X11\",\"SHA-256\",\"Scrypt\",\"X11\",\"Scrypt\",\"Scrypt\",\"X11\",\"CryptoNight\",\"Scrypt\",\"Scrypt\",\"Scrypt\",\"Scrypt\",\"Quark\",\"QuBit\",\"Scrypt\",\"CryptoNight\",\"Lyra2RE\",\"Scrypt\",\"SHA-256\",\"X11\",\"Scrypt\",\"X11\",\"Scrypt\",\"CryptoNight-V7\",\"Scrypt\",\"Scrypt\",\"Scrypt\",\"X13\",\"X11\",\"Equihash\",\"Scrypt\",\"Scrypt\",\"Lyra2RE\",\"Scrypt\",\"Dagger-Hashimoto\",\"X11\",\"Blake2S\",\"X11\",\"Scrypt\",\"PoS\",\"X11\",\"NIST5\",\"PoS\",\"X11\",\"Scrypt\",\"Scrypt\",\"Scrypt\",\"SHA-256\",\"X11\",\"Scrypt\",\"Scrypt\",\"SHA-256\",\"PoS\",\"Scrypt\",\"X15\",\"SHA-256\",\"Scrypt\",\"POS 3.0\",\"CryptoNight-V7\",\"536\",\"Argon2d\",\"Blake2b\",\"Cloverhash\",\"CryptoNight\",\"NIST5\",\"X11\",\"NIST5\",\"Skein\",\"Scrypt\",\"X13\",\"Scrypt\",\"X11\",\"X11\",\"Scrypt\",\"CryptoNight\",\"X13\",\"Time Travel\",\"Scrypt\",\"Keccak\",\"SkunkHash v2 Raptor\",\"X11\",\"Skein\",\"SHA-256\",\"X11\",\"Scrypt\",\"VeChainThor Authority\",\"Scrypt\",\"PoS\",\"Scrypt\",\"Scrypt\",\"Scrypt\",\"Scrypt\",\"Scrypt\",\"Scrypt\",\"Scrypt\",\"CryptoNight\",\"SHA-512\",\"Ouroboros\",\"X11\",\"Equihash\",\"NeoScrypt\",\"X11\",\"Scrypt\",\"NeoScrypt\",\"Lyra2REv2\",\"Equihash\",\"Scrypt\",\"SHA-256\",\"NIST5\",\"PHI1612\",\"Dagger\",\"Scrypt\",\"Quark\",\"Scrypt\",\"POS 2.0\",\"Scrypt\",\"SHA-256\",\"X11\",\"NeoScrypt\",\"Ethash\",\"NeoScrypt\",\"X11\",\"DPoS\",\"NIST5\",\"X13\",\"Multiple\",\"Scrypt\",\"CryptoNight\",\"CryptoNight\",\"Ethash\",\"NIST5\",\"Quark\",\"X11\",\"CryptoNight-V7\",\"Scrypt\",\"Scrypt\",\"Scrypt\",\"X11\",\"BLAKE256\",\"X11\",\"NeoScrypt\",\"Quark\",\"NeoScrypt\",\"Scrypt\",\"Scrypt\",\"Scrypt\",\"X11\",\"X11\",\"SHA-256\",\"C11\",\"POS 3.0\",\"Ethash\",\"Scrypt\",\"CryptoNight\",\"SkunkHash\",\"Scrypt\",\"CryptoNight\",\"Scrypt\",\"Dagger\",\"Lyra2REv2\",\"X13\",\"Proof-of-BibleHash\",\"SHA-256 + Hive\",\"Scrypt\",\"Scrypt\",\"X11\",\"C11\",\"Proof-of-Authority\",\"X11\",\"XEVAN\",\"Scrypt\",\"VBFT\",\"Ethash\",\"CryptoNight\",\"Scrypt\",\"IMesh\",\"NIST5\",\"Scrypt\",\"Scrypt\",\"Equihash\",\"Scrypt\",\"Lyra2Z\",\"Green Protocol\",\"PoS\",\"Scrypt\",\"Semux BFT consensus\",\"X11\",\"Quark\",\"PoS\",\"CryptoNight\",\"X16R\",\"Scrypt\",\"NIST5\",\"Lyra2RE\",\"XEVAN\",\"Tribus\",\"Scrypt\",\"Lyra2Z\",\"CryptoNight\",\"CryptoNight Heavy\",\"CryptoNight\",\"Scrypt\",\"Scrypt\",\"Jump Consistent Hash\",\"SHA-256D\",\"CryptoNight\",\"Scrypt\",\"X15\",\"Scrypt\",\"Quark\",\"SHA-256\",\"DPoS\",\"X16R\",\"HMQ1725\",\"X11\",\"X16R\",\"Quark\",\"Quark\",\"Scrypt\",\"Lyra2REv2\",\"Quark\",\"Scrypt\",\"Scrypt\",\"CryptoNight-V7\",\"Cryptonight-GPU\",\"XEVAN\",\"CryptoNight Heavy\",\"X11\",\"X11\",\"Scrypt\",\"PoS\",\"SHA-256\",\"Keccak\",\"X11\",\"X11\",\"Scrypt\",\"SHA-512\",\"X16R\",\"ECC 256K1\",\"Equihash\",\"XEVAN\",\"Lyra2Z\",\"SHA-256\",\"XEVAN\",\"X11\",\"CryptoNight\",\"Quark\",\"Blake\",\"Blake\",\"Equihash\",\"Exosis\",\"Scrypt\",\"Scrypt\",\"Equihash\",\"Quark\",\"Equihash\",\"Quark\",\"Scrypt\",\"QuBit\",\"X11\",\"Scrypt\",\"XEVAN\",\"SHA-256D\",\"X11\",\"SHA-256\",\"X13\",\"SHA-256\",\"X11\",\"DPoS\",\"Scrypt\",\"Scrypt\",\"X11\",\"NeoScrypt\",\"Scrypt\",\"Blake\",\"Scrypt\",\"SHA-256\",\"Scrypt\",\"X11\",\"Scrypt\",\"Scrypt\",\"SHA-256\",\"X11\",\"SHA-256\",\"Scrypt\",\"Scrypt\",\"Scrypt\",\"Groestl\",\"X11\",\"Scrypt\",\"PoS\",\"Scrypt\",\"Scrypt\",\"X11\",\"SHA-256\",\"DPoS\",\"Scrypt\",\"Scrypt\",\"NeoScrypt\",\"Multiple\",\"X13\",\"Equihash+Scrypt\",\"DPoS\",\"Ethash\",\"DPoS\",\"SHA-256\",\"Leased POS\",\"PoS\",\"PoS\",\"SHA-256\",\"Scrypt\",\"CryptoNight\",\"Equihash\",\"Scrypt\"],\"CoinName\":[\"42 Coin\",\"404Coin\",\"EliteCoin\",\"Bitcoin\",\"Ethereum\",\"Litecoin\",\"Dash\",\"Monero\",\"Ethereum Classic\",\"ZCash\",\"Bitshares\",\"DigiByte\",\"BitcoinDark\",\"PayCoin\",\"ProsperCoin\",\"KoboCoin\",\"Spreadcoin\",\"Argentum\",\"Aurora Coin\",\"BlueCoin\",\"MyriadCoin\",\"MoonCoin\",\"ZetaCoin\",\"SexCoin\",\"Quatloo\",\"EnergyCoin\",\"QuarkCoin\",\"Riecoin\",\"Digitalcoin \",\"BitBar\",\"Catcoin\",\"CryptoBullion\",\"CannaCoin\",\"CryptCoin\",\"CasinoCoin\",\"Diamond\",\"Verge\",\"DevCoin\",\"EarthCoin\",\"E-Gulden\",\"Einsteinium\",\"Emerald\",\"Exclusive Coin\",\"FlutterCoin\",\"Franko\",\"FeatherCoin\",\"GrandCoin\",\"GlobalCoin\",\"GoldCoin\",\"HoboNickels\",\"HyperStake\",\"Infinite Coin\",\"IOCoin\",\"IXcoin\",\"KrugerCoin\",\"LuckyCoin\",\"Litebar \",\"MaxCoin\",\"MegaCoin\",\"MediterraneanCoin\",\"MintCoin\",\"MinCoin\",\"MazaCoin\",\"Nautilus Coin\",\"NavCoin\",\"NobleCoin\",\"Namecoin\",\"NyanCoin\",\"OpalCoin\",\"Orbitcoin\",\"PotCoin\",\"PhoenixCoin\",\"Reddcoin\",\"RonPaulCoin\",\"StableCoin\",\"SmartCoin\",\"SuperCoin\",\"SyncCoin\",\"SysCoin\",\"TeslaCoin\",\"TigerCoin\",\"TittieCoin\",\"TorCoin\",\"TerraCoin\",\"UnbreakableCoin\",\"Unobtanium\",\"UroCoin\",\"UnitaryStatus Dollar\",\"UltraCoin\",\"ViaCoin\",\"VeriCoin\",\"Vertcoin\",\"WorldCoin\",\"X11 Coin\",\"Crypti\",\"JouleCoin\",\"StealthCoin\",\"ZCC Coin\",\"ByteCoin\",\"DigitalNote \",\"BurstCoin\",\"StorjCoin\",\"MonaCoin\",\"Neutron\",\"FairCoin\",\"Gulden\",\"RubyCoin\",\"PesetaCoin\",\"Kore\",\"Wild Beast Coin\",\"Dnotes\",\"Flo\",\"8BIT Coin\",\"Sativa Coin\",\"ArtByte\",\"Folding Coin\",\"Ucoin\",\"Unitus\",\"CypherPunkCoin\",\"OmniCron\",\"Vtorrent\",\"GreenCoin\",\"Cryptonite\",\"MasterCoin\",\"SoonCoin\",\"1Credit\",\"IslaCoin\",\"Nexus\",\"MarsCoin \",\"Crypto\",\"Anarchists Prime\",\"Droidz\",\"BowsCoin\",\"Squall Coin\",\"Song Coin\",\"BitZeny\",\"Diggits\",\"Expanse\",\"Paycon\",\"Siacoin\",\"Emercoin\",\"EverGreenCoin\",\"MindCoin\",\"I0coin\",\"Decred\",\"Revolution VR\",\"HOdlcoin\",\"EDRCoin\",\"Hitcoin\",\"Gamecredits\",\"DubaiCoin\",\"CarpeDiemCoin\",\"PWR Coin\",\"BillaryCoin\",\"GPU Coin\",\"Adzcoin\",\"SoilCoin\",\"YoCoin\",\"SibCoin\",\"EuropeCoin\",\"ZeitCoin\",\"SwingCoin\",\"SafeExchangeCoin\",\"Nebuchadnezzar\",\"Francs\",\"BolivarCoin\",\"Ratecoin\",\"Revenu\",\"Clockcoin\",\"VIP Tokens\",\"BitSend\",\"Omni\",\"Let it Ride\",\"PutinCoin\",\"iBankCoin\",\"Frankywillcoin\",\"MudraCoin\",\"PizzaCoin\",\"Lutetium Coin\",\"Komodo\",\"GoldBlocks\",\"CarterCoin\",\"Karbo\",\"BitTokens\",\"ZayedCoin\",\"MustangCoin\",\"ZoneCoin\",\"Circuits of Value\",\"RootCoin\",\"DopeCoin\",\"BitCurrency\",\"DollarCoin\",\"Swiscoin\",\"Shilling\",\"BuzzCoin\",\"Opair\",\"PesoBit\",\"Halloween Coin\",\"ZCoin\",\"CoffeeCoin\",\"RoyalCoin\",\"GanjaCoin V2\",\"TeamUP\",\"LanaCoin\",\"Elementrem\",\"ZClassic\",\"ARK\",\"InsaneCoin\",\"KiloCoin\",\"ArtexCoin\",\"EmberCoin\",\"XenixCoin\",\"FreeCoin\",\"PLNCoin\",\"AquariusCoin\",\"Kurrent\",\"Creatio\",\"Eternity\",\"Eurocoin\",\"BitcoinFast\",\"Stakenet\",\"BitConnect Coin\",\"MoneyCoin\",\"Enigma\",\"Cannabis Industry Coin\",\"Russiacoin\",\"PandaCoin\",\"GameUnits\",\"GAKHcoin\",\"Allsafe\",\"LiteCreed\",\"OsmiumCoin\",\"Bikercoins\",\"HexxCoin\",\"Klingon Empire Darsek\",\"Internet of People\",\"KushCoin\",\"Printerium\",\"PacCoin\",\"Impeach\",\"Citadel\",\"Zilbercoin\",\"FirstCoin\",\"BeaverCoin\",\"FindCoin\",\"VaultCoin\",\"Zero\",\"OpenChat\",\"Canada eCoin\",\"Zoin\",\"RenosCoin\",\"DubaiCoin\",\"VirtacoinPlus\",\"TajCoin\",\"Impact\",\"EB3coin\",\"Atmos\",\"HappyCoin\",\"Coinonat\",\"MacronCoin\",\"Condensate\",\"Independent Money System\",\"ArgusCoin\",\"LomoCoin\",\"ProCurrency\",\"GoldReserve\",\"BenjiRolls\",\"GrowthCoin\",\"ILCoin\",\"Phreak\",\"Degas Coin\",\"HTML5 Coin\",\"Ultimate Secure Cash\",\"EquiTrader\",\"QTUM\",\"Quantum Resistant Ledger\",\"Espers\",\"Dynamic\",\"Nano\",\"ChanCoin\",\"Dinastycoin\",\"Denarius\",\"DigitalPrice\",\"Virta Unique Coin\",\"Bitcoin Planet\",\"Unify\",\"BritCoin\",\"SocialCoin\",\"ArcticCoin\",\"DAS\",\"Linda\",\"LeviarCoin\",\"DeepOnion\",\"Bitcore\",\"gCn Coin\",\"SmartCash\",\"Signatum\",\"Onix\",\"Cream\",\"Bitcoin Cash\",\"Monoeci\",\"Draftcoin\",\"Vechain\",\"Sojourn Coin\",\"Stakecoin\",\"NewYorkCoin\",\"FrazCoin\",\"Kronecoin\",\"AdCoin\",\"Linx\",\"CoinonatX\",\"Ethereum Dark\",\"Sumokoin\",\"Obsidian\",\"Cardano\",\"Regalcoin\",\"BitcoinZ\",\"TrezarCoin\",\"Elements\",\"TerraNovaCoin\",\"VIVO Coin\",\"Rupee\",\"Bitcoin Gold\",\"WomenCoin\",\"Theresa May Coin\",\"NamoCoin\",\"LUXCoin\",\"Pirl\",\"Xios\",\"Bitcloud 2.0\",\"eBoost\",\"KekCoin\",\"BlackholeCoin\",\"Infinity Economics\",\"Pura\",\"Innova\",\"Ellaism\",\"GoByte\",\"Magnet\",\"Lamden Tau\",\"Electra\",\"Bitcoin Diamond\",\"SHIELD\",\"Cash & Back Coin\",\"UltraNote\",\"BitCoal\",\"DaxxCoin\",\"Bulwark\",\"Kalkulus\",\"AC3\",\"Lethean\",\"GermanCoin\",\"LiteCoin Ultra\",\"PopularCoin\",\"PhantomX\",\"Photon\",\"Sucre\",\"SparksPay\",\"Digiwage\",\"GunCoin\",\"IrishCoin\",\"Trollcoin\",\"Litecoin Plus\",\"Monkey Project\",\"Pioneer Coin\",\"UnitedBitcoin\",\"Interzone\",\"TokenPay\",\"1717 Masonic Commemorative Token\",\"My Big Coin\",\"TurtleCoin\",\"MUNcoin\",\"Unified Society USDEX\",\"Niobio Cash\",\"ShareChain\",\"Travelflex\",\"KREDS\",\"Tokyo Coin\",\"BiblePay\",\"LitecoinCash\",\"BitFlip\",\"LottoCoin\",\"Crypto Improvement Fund\",\"Stipend\",\"Poa Network\",\"Pushi\",\"Ellerium\",\"Velox\",\"Ontology\",\"Callisto Network\",\"BitTube\",\"Poseidon\",\"Aidos Kuneen\",\"Bitspace\",\"Briacoin\",\"Ignition\",\"Bitrolium\",\"MedicCoin\",\"Alpenschillling\",\"Bitcoin Green\",\"Deviant Coin\",\"Abjcoin\",\"Semux\",\"FuturoCoin\",\"Carebit\",\"Zealium\",\"Monero Classic\",\"Proton\",\"iDealCash\",\"Jumpcoin\",\"Infinex\",\"Bitcoin Incognito\",\"KEYCO\",\"HollyWoodCoin\",\"GINcoin\",\"PlatinCoin\",\"Loki\",\"Newton Coin\",\"Swisscoin\",\"Xt3ch\",\"MassGrid\",\"TheVig\",\"PluraCoin\",\"EmaratCoin\",\"Dekado\",\"Lynx\",\"Poseidon Quark\",\"BitcoinWSpectrum\",\"Muse\",\"Motion\",\"PlusOneCoin\",\"Axe\",\"Trivechain\",\"Dystem\",\"Giant\",\"Peony Coin\",\"Absolute Coin\",\"Vitae\",\"HexCoin\",\"TPCash\",\"Webchain\",\"Ryo\",\"Urals Coin\",\"Qwertycoin\",\"ARENON\",\"EUNO\",\"MMOCoin\",\"Ketan\",\"Project Pai\",\"XDNA\",\"PAXEX\",\"Azart\",\"ThunderStake\",\"Kcash\",\"Xchange\",\"Acute Angle Cloud\",\"CrypticCoin\",\"Bettex coin\",\"Actinium\",\"Bitcoin SV\",\"BitMoney\",\"Junson Ming Chan Coin\",\"FREDEnergy\",\"HerbCoin\",\"Universal Molecule\",\"Lithium\",\"PirateCash\",\"Exosis\",\"Block-Logic\",\"Oduwa\",\"Beam\",\"Galilel\",\"Bithereum\",\"Crypto Sports\",\"Credit\",\"SLICE\",\"Dash Platinum\",\"Nasdacoin\",\"Beetle Coin\",\"Titan Coin\",\"Award\",\"BLAST\",\"Bitcoin Rhodium\",\"GlobalToken\",\"Insane Coin\",\"ALAX\",\"LiteDoge\",\"SolarCoin\",\"TruckCoin\",\"UFO Coin\",\"OrangeCoin\",\"BlakeCoin\",\"BitstarCoin\",\"NeosCoin\",\"HyperCoin\",\"PinkCoin\",\"Crypto Escudo\",\"AudioCoin\",\"IncaKoin\",\"Piggy Coin\",\"Crown Coin\",\"Genstake\",\"SmileyCoin\",\"XiaoMiCoin\",\"Groestlcoin\",\"CapriCoin\",\" ClubCoin\",\"Radium\",\"Bata\",\"Pakcoin\",\"Creditbit \",\"OKCash\",\"Lisk\",\"HiCoin\",\"WhiteCoin\",\"FriendshipCoin\",\"JoinCoin\",\"Triangles Coin\",\"Vollar\",\"EOS\",\"Reality Clash\",\"Oxycoin\",\"TigerCash\",\"Waves\",\"Particl\",\"Nxt\",\"ZEPHYR\",\"Gapcoin\",\"Beldex\",\"Horizen\",\"BitcoinPlus\"],\"ProofType\":[\"PoW/PoS\",\"PoW/PoS\",\"PoW/PoS\",\"PoW\",\"PoW\",\"PoW\",\"PoW/PoS\",\"PoW\",\"PoW\",\"PoW\",\"PoS\",\"PoW\",\"PoW/PoS\",\"PoS\",\"PoW\",\"PoW/PoS\",\"PoW\",\"PoW\",\"PoW/PoS\",\"PoW/PoS\",\"PoW\",\"PoW\",\"PoW\",\"PoW\",\"PoW\",\"PoW/PoS\",\"PoW\",\"PoW\",\"PoW\",\"PoW/PoS\",\"PoW\",\"PoW/PoS\",\"PoW\",\"PoW\",\"PoC\",\"PoW/PoS\",\"PoW\",\"PoW\",\"PoW\",\"PoW\",\"PoW\",\"PoW\",\"PoS\",\"PoS/PoW/PoT\",\"PoW\",\"PoW\",\"PoW\",\"PoW\",\"PoW\",\"PoW/PoS\",\"PoS\",\"PoW\",\"PoW/PoS\",\"PoW\",\"PoW\",\"PoW\",\"PoW\",\"PoW/PoS\",\"PoW\",\"PoW\",\"PoS\",\"PoW\",\"PoW/PoS\",\"PoS\",\"PoW/PoS\",\"PoW\",\"PoW\",\"PoW\",\"PoW/PoS\",\"PoW/PoS\",\"PoW/PoS\",\"PoW/PoS\",\"PoW/PoS\",\"PoW\",\"PoW\",\"PoW\",\"PoS\",\"PoW/PoS\",\"PoW\",\"PoS\",\"PoW\",\"PoS\",\"PoW/PoS\",\"PoW\",\"PoW\",\"PoW\",\"PoW\",\"PoW/PoS\",\"PoW/PoS\",\"PoW\",\"PoST\",\"PoW\",\"PoW\",\"PoW/PoS\",\"PoS\",\"PoW\",\"PoW/PoS\",\"PoW/PoS\",\"PoW\",\"PoW\",\"PoC\",\"PoS\",\"PoW\",\"PoW/PoS\",\"PoW/PoS\",\"PoW\",\"PoS\",\"PoW\",\"PoW/PoS\",\"PoW\",\"PoS\",\"PoW\",\"PoW/PoS\",\"PoW/PoS\",\"PoW\",\"PoW\",\"PoS\",\"PoW\",\"PoW\",\"PoW\",\"PoW/PoS\",\"PoW\",\"PoW\",\"PoW\",\"PoW\",\"PoW\",\"PoW/PoS\",\"PoW/nPoS\",\"PoW\",\"PoW\",\"PoW\",\"PoW/PoS\",\"PoW\",\"PoS/PoW\",\"PoW\",\"PoW\",\"PoS\",\"PoW\",\"PoW/PoS\",\"PoW\",\"PoW/PoS\",\"PoW/PoS\",\"PoW\",\"PoW\",\"PoW/PoS\",\"PoW\",\"PoW\",\"PoW/PoS\",\"PoW/PoS\",\"PoW\",\"PoW/PoS\",\"PoW\",\"PoW/PoS\",\"PoW/PoS\",\"PoS\",\"PoW\",\"PoW\",\"PoW\",\"PoW\",\"PoW/PoS\",\"PoS\",\"PoW/PoS\",\"PoC\",\"PoS\",\"PoW\",\"PoW\",\"PoW/PoS\",\"PoW/PoS\",\"PoW/PoS\",\"PoW/PoS\",\"PoW/PoS\",\"PoW\",\"PoS\",\"PoW/PoS\",\"PoW/PoS\",\"PoW/PoS\",\"PoS\",\"PoW\",\"PoS\",\"dPoW/PoW\",\"PoW/PoS\",\"PoW/PoS\",\"PoW\",\"PoW/PoS\",\"PoW\",\"PoW/PoS\",\"PoW/PoS\",\"PoW\",\"PoW/PoS\",\"PoW\",\"PoS\",\"PoW\",\"PoW/PoW\",\"PoW\",\"PoW/PoS\",\"PoS\",\"PoW/PoS\",\"PoW/PoS\",\"PoW\",\"PoS\",\"PoS\",\"PoW/PoS\",\"PoS\",\"PoW/PoS\",\"PoW\",\"PoW\",\"DPoS\",\"PoW/PoS\",\"PoW\",\"PoW\",\"PoW/PoS\",\"PoW/PoS\",\"PoS\",\"PoW/PoS\",\"PoW/PoS\",\"PoW\",\"PoS\",\"PoW/PoS\",\"PoW/PoS\",\"PoW/PoS\",\"TPoS\",\"PoW/PoS\",\"PoW/PoS\",\"PoW/PoS\",\"PoW\",\"PoW/PoS\",\"PoS\",\"PoW/PoS\",\"PoW/PoS\",\"PoS\",\"PoW/PoS\",\"PoW\",\"PoW\",\"PoW\",\"PoW/PoS\",\"PoW/PoS\",\"PoW/PoS\",\"PoW/PoS\",\"PoW\",\"PoW/PoS\",\"PoW\",\"PoS\",\"PoW/PoS \",\"PoW\",\"PoS\",\"PoW\",\"PoW\",\"PoW/PoS\",\"PoW\",\"PoW\",\"PoS\",\"PoW\",\"PoW/PoS\",\"PoW/PoS\",\"PoW/PoS\",\"PoW\",\"PoS\",\"PoW/PoS\",\"PoW\",\"PoS\",\"PoW/PoS\",\"PoW/PoS\",\"PoW/PoS\",\"PoW/PoS\",\"PoS\",\"PoW/PoS\",\"PoW\",\"PoS\",\"PoW\",\"PoS\",\"PoW/PoS\",\"PoW/PoS\",\"PoS\",\"PoW\",\"PoS\",\"PoW\",\"PoW/PoS\",\"PoW\",\"PoW\",\"PoW\",\"PoW\",\"PoW/PoS\",\"PoW\",\"PoW/PoS\",\"PoW/PoS\",\"PoW\",\"PoW/PoS\",\"PoW\",\"PoW\",\"PoW\",\"PoW/PoS\",\"PoW\",\"PoW/PoS\",\"PoW\",\"PoW\",\"PoW\",\"PoS\",\"PoW\",\"PoW/PoS\",\"PoW\",\"PoW/PoS\",\"PoS\",\"Proof of Authority\",\"PoW\",\"PoS\",\"PoW\",\"PoW\",\"PoW\",\"PoW\",\"PoW\",\"PoW/PoS\",\"PoW/PoS\",\"PoW\",\"PoS\",\"PoS\",\"PoW/PoS\",\"PoW\",\"PoW/PoS\",\"PoW\",\"PoW/PoS\",\"PoW\",\"PoS\",\"PoW\",\"PoW/PoS\",\"PoW/PoS\",\"PoW/PoS\",\"PoW/PoS\",\"PoW\",\"PoW/PoS\",\"PoW/PoS\",\"PoW\",\"PoS\",\"PoW/PoS\",\"PoS\",\"PoW\",\"PoW\",\"PoW\",\"PoW\",\"PoW/PoS\",\"DPoS\",\"PoW/PoS\",\"PoW/PoS\",\"PoW\",\"PoW/PoS\",\"PoW\",\"PoW\",\"PoW\",\"PoS\",\"PoS\",\"PoW\",\"PoW\",\"PoW/PoS\",\"PoW/PoS\",\"PoW\",\"PoW/PoS\",\"PoW\",\"PoW\",\"PoW\",\"PoS\",\"PoW\",\"PoW\",\"PoW/PoS\",\"PoW/PoS\",\"PoS\",\"PoW\",\"PoW\",\"PoW\",\"PoS\",\"PoS\",\"PoW and PoS\",\"PoW\",\"PoW\",\"PoW/PoS\",\"PoW\",\"PoW\",\"PoW\",\"PoW\",\"PoS\",\"POBh\",\"PoW + Hive\",\"PoW\",\"PoW\",\"PoW\",\"PoW/PoS\",\"PoA\",\"PoW/PoS\",\"PoW/PoS\",\"PoS\",\"PoS\",\"PoW\",\"PoW\",\"PoW\",\"PoW\",\"PoW/PoS\",\"PoW/PoS\",\"PoW/PoS\",\"PoW\",\"PoS\",\"PoW\",\"PoS\",\"PoS\",\"PoW/PoS\",\"DPoS\",\"PoW\",\"PoW/PoS\",\"PoS\",\"PoW\",\"PoS\",\"PoW/PoS\",\"PoW\",\"PoW\",\"PoS/PoW\",\"PoW\",\"PoS\",\"PoW\",\"PoW\",\"PoW\",\"PoW\",\"PoW/PoS\",\"PoS\",\"PoW\",\"PoW/PoS\",\"PoW\",\"PoW/PoS\",\"PoS\",\"HPoW\",\"PoS\",\"PoS\",\"PoS\",\"PoW\",\"PoW\",\"PoW\",\"PoW/PoS\",\"PoS\",\"PoW/PoS\",\"PoS\",\"PoW/PoS\",\"PoS\",\"PoW\",\"PoW/PoS\",\"PoW\",\"PoW\",\"PoW\",\"PoW\",\"PoS\",\"PoW/PoS\",\"PoS\",\"PoS\",\"PoW\",\"PoW/PoS\",\"PoS\",\"PoW\",\"PoW/PoS\",\"Zero-Knowledge Proof\",\"PoW\",\"DPOS\",\"PoW\",\"PoS\",\"PoW\",\"PoW\",\"Pos\",\"PoS\",\"PoW\",\"PoW/PoS\",\"PoW\",\"PoW\",\"PoS\",\"PoW\",\"PoW\",\"PoW/PoS\",\"PoW\",\"PoW/PoS\",\"PoW\",\"PoS\",\"PoW/PoS\",\"PoW\",\"PoS\",\"PoW/PoS\",\"PoW/PoS\",\"PoW/PoS\",\"PoW/PoS\",\"PoW\",\"PoW\",\"PoW\",\"PoW/PoS\",\"DPoS\",\"PoW/PoS\",\"PoW\",\"PoW/PoS\",\"PoW\",\"PoW/PoS\",\"PoW\",\"PoW/PoS\",\"PoS\",\"PoW/PoS\",\"PoW/PoS\",\"PoW\",\"PoW/PoS\",\"PoW/PoS\",\"PoW/PoS\",\"PoW\",\"PoW/PoS\",\"PoW\",\"PoW/PoS\",\"PoW\",\"PoW/PoS\",\"PoW/PoS\",\"PoS\",\"PoW\",\"PoW\",\"Proof of Trust\",\"PoW/PoS\",\"DPoS\",\"PoS\",\"PoW/PoS\",\"PoW/PoS\",\"PoW\",\"PoW/PoS\",\"PoW\",\"DPoS\",\"PoW\",\"DPoS\",\"PoS\",\"LPoS\",\"PoS\",\"PoS/LPoS\",\"DPoS\",\"PoW/PoS\",\"PoW\",\"PoW\",\"PoS\"],\"TotalCoinSupply\":{\"__ndarray__\":\"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\",\"dtype\":\"float64\",\"order\":\"little\",\"shape\":[531]},\"TotalCoinsMined\":{\"__ndarray__\":\"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\",\"dtype\":\"float64\",\"order\":\"little\",\"shape\":[531]},\"class\":{\"__ndarray__\":\"AAAAAAAAAAAAAAAAAQAAAAEAAAABAAAAAAAAAAEAAAABAAAAAQAAAAAAAAABAAAAAAAAAAAAAAABAAAAAAAAAAEAAAABAAAAAAAAAAAAAAABAAAAAQAAAAEAAAABAAAAAQAAAAAAAAABAAAAAQAAAAEAAAAAAAAAAQAAAAAAAAABAAAAAQAAAAAAAAAAAAAAAQAAAAEAAAABAAAAAQAAAAEAAAABAAAAAAAAAAAAAAABAAAAAQAAAAEAAAABAAAAAQAAAAAAAAAAAAAAAQAAAAAAAAABAAAAAQAAAAEAAAABAAAAAAAAAAEAAAABAAAAAAAAAAEAAAAAAAAAAAAAAAAAAAABAAAAAQAAAAEAAAAAAAAAAAAAAAAAAAAAAAAAAAAAAAEAAAABAAAAAQAAAAAAAAAAAAAAAQAAAAAAAAABAAAAAAAAAAAAAAABAAAAAQAAAAEAAAABAAAAAAAAAAAAAAABAAAAAAAAAAEAAAABAAAAAAAAAAAAAAABAAAAAAAAAAAAAAABAAAAAQAAAAAAAAAAAAAAAQAAAAAAAAAAAAAAAQAAAAAAAAABAAAAAAAAAAEAAAAAAAAAAQAAAAAAAAAAAAAAAQAAAAEAAAAAAAAAAQAAAAEAAAABAAAAAAAAAAEAAAABAAAAAQAAAAEAAAABAAAAAAAAAAAAAAABAAAAAQAAAAEAAAAAAAAAAQAAAAAAAAABAAAAAQAAAAAAAAABAAAAAAAAAAEAAAAAAAAAAAAAAAEAAAABAAAAAAAAAAEAAAABAAAAAAAAAAAAAAABAAAAAAAAAAEAAAAAAAAAAAAAAAAAAAABAAAAAQAAAAEAAAABAAAAAAAAAAAAAAAAAAAAAAAAAAAAAAABAAAAAQAAAAAAAAAAAAAAAAAAAAAAAAAAAAAAAQAAAAAAAAAAAAAAAAAAAAAAAAAAAAAAAQAAAAAAAAABAAAAAAAAAAAAAAABAAAAAAAAAAEAAAAAAAAAAAAAAAEAAAAAAAAAAQAAAAAAAAABAAAAAAAAAAEAAAAAAAAAAAAAAAAAAAAAAAAAAQAAAAAAAAAAAAAAAAAAAAAAAAAAAAAAAQAAAAEAAAAAAAAAAAAAAAEAAAABAAAAAAAAAAAAAAAAAAAAAAAAAAAAAAABAAAAAAAAAAAAAAAAAAAAAAAAAAAAAAAAAAAAAAAAAAAAAAABAAAAAAAAAAAAAAAAAAAAAAAAAAAAAAAAAAAAAQAAAAEAAAABAAAAAAAAAAAAAAAAAAAAAAAAAAEAAAAAAAAAAQAAAAAAAAAAAAAAAQAAAAAAAAABAAAAAQAAAAAAAAABAAAAAQAAAAAAAAABAAAAAAAAAAAAAAAAAAAAAQAAAAAAAAAAAAAAAQAAAAAAAAAAAAAAAAAAAAAAAAAAAAAAAAAAAAAAAAABAAAAAAAAAAEAAAAAAAAAAAAAAAAAAAAAAAAAAQAAAAAAAAABAAAAAAAAAAEAAAABAAAAAQAAAAEAAAAAAAAAAQAAAAAAAAAAAAAAAQAAAAAAAAABAAAAAQAAAAEAAAAAAAAAAQAAAAAAAAABAAAAAQAAAAEAAAAAAAAAAQAAAAAAAAABAAAAAAAAAAAAAAACAAAAAQAAAAAAAAABAAAAAQAAAAEAAAABAAAAAQAAAAAAAAAAAAAAAQAAAAAAAAAAAAAAAAAAAAEAAAAAAAAAAQAAAAAAAAABAAAAAAAAAAEAAAAAAAAAAAAAAAAAAAAAAAAAAQAAAAAAAAAAAAAAAQAAAAAAAAAAAAAAAAAAAAEAAAABAAAAAQAAAAEAAAAAAAAAAAAAAAAAAAAAAAAAAQAAAAAAAAABAAAAAQAAAAEAAAAAAAAAAAAAAAEAAAABAAAAAAAAAAAAAAABAAAAAAAAAAEAAAABAAAAAQAAAAAAAAABAAAAAQAAAAAAAAAAAAAAAAAAAAEAAAABAAAAAQAAAAAAAAAAAAAAAAAAAAEAAAABAAAAAAAAAAEAAAABAAAAAQAAAAEAAAAAAAAAAwAAAAMAAAABAAAAAQAAAAEAAAAAAAAAAAAAAAAAAAAAAAAAAAAAAAAAAAABAAAAAQAAAAEAAAABAAAAAAAAAAAAAAAAAAAAAQAAAAAAAAABAAAAAAAAAAAAAAAAAAAAAAAAAAEAAAAAAAAAAAAAAAEAAAAAAAAAAAAAAAEAAAABAAAAAAAAAAEAAAAAAAAAAQAAAAEAAAABAAAAAQAAAAAAAAAAAAAAAQAAAAAAAAABAAAAAAAAAAAAAAABAAAAAAAAAAAAAAAAAAAAAQAAAAEAAAABAAAAAAAAAAAAAAAAAAAAAAAAAAAAAAAAAAAAAQAAAAAAAAABAAAAAQAAAAEAAAABAAAAAAAAAAAAAAAAAAAAAAAAAAEAAAAAAAAAAAAAAAEAAAAAAAAAAAAAAAEAAAADAAAAAQAAAAAAAAABAAAAAQAAAAAAAAAAAAAAAQAAAAAAAAABAAAAAQAAAAEAAAABAAAAAQAAAAAAAAABAAAAAAAAAAEAAAAAAAAAAAAAAAEAAAAAAAAAAAAAAAAAAAAAAAAAAAAAAAEAAAABAAAAAQAAAAAAAAAAAAAAAAAAAAEAAAAAAAAAAQAAAAAAAAABAAAAAAAAAAAAAAAAAAAAAAAAAAEAAAAAAAAAAAAAAAAAAAABAAAAAAAAAAEAAAAAAAAAAQAAAAAAAAAAAAAAAAAAAAEAAAABAAAAAAAAAAAAAAAAAAAAAAAAAAAAAAAAAAAAAQAAAAAAAAABAAAAAAAAAAEAAAAAAAAAAAAAAAMAAAAAAAAAAAAAAAAAAAAAAAAAAQAAAAEAAAAAAAAA\",\"dtype\":\"int32\",\"order\":\"little\",\"shape\":[531]}},\"selected\":{\"id\":\"1666\"},\"selection_policy\":{\"id\":\"1699\"}},\"id\":\"1665\",\"type\":\"ColumnDataSource\"},{\"attributes\":{\"editor\":{\"id\":\"1673\"},\"field\":\"Algorithm\",\"formatter\":{\"id\":\"1672\"},\"title\":\"Algorithm\"},\"id\":\"1674\",\"type\":\"TableColumn\"},{\"attributes\":{\"format\":\"0,0.0[00000]\"},\"id\":\"1687\",\"type\":\"NumberFormatter\"},{\"attributes\":{\"editor\":{\"id\":\"1678\"},\"field\":\"ProofType\",\"formatter\":{\"id\":\"1677\"},\"title\":\"ProofType\"},\"id\":\"1679\",\"type\":\"TableColumn\"},{\"attributes\":{},\"id\":\"1678\",\"type\":\"StringEditor\"},{\"attributes\":{\"source\":{\"id\":\"1665\"}},\"id\":\"1698\",\"type\":\"CDSView\"},{\"attributes\":{},\"id\":\"1666\",\"type\":\"Selection\"},{\"attributes\":{\"columns\":[{\"id\":\"1669\"},{\"id\":\"1674\"},{\"id\":\"1679\"},{\"id\":\"1684\"},{\"id\":\"1689\"},{\"id\":\"1694\"}],\"height\":300,\"reorderable\":false,\"source\":{\"id\":\"1665\"},\"view\":{\"id\":\"1698\"},\"width\":700},\"id\":\"1697\",\"type\":\"DataTable\"},{\"attributes\":{},\"id\":\"1673\",\"type\":\"StringEditor\"},{\"attributes\":{\"format\":\"0,0.0[00000]\"},\"id\":\"1682\",\"type\":\"NumberFormatter\"},{\"attributes\":{},\"id\":\"1677\",\"type\":\"StringFormatter\"},{\"attributes\":{\"margin\":[5,5,5,5],\"name\":\"HSpacer02733\",\"sizing_mode\":\"stretch_width\"},\"id\":\"1664\",\"type\":\"Spacer\"},{\"attributes\":{\"margin\":[5,5,5,5],\"name\":\"HSpacer02734\",\"sizing_mode\":\"stretch_width\"},\"id\":\"1703\",\"type\":\"Spacer\"},{\"attributes\":{},\"id\":\"1668\",\"type\":\"StringEditor\"}],\"root_ids\":[\"1663\"]},\"title\":\"Bokeh Application\",\"version\":\"2.2.3\"}};\n",
       "    var render_items = [{\"docid\":\"d0b9dc54-ff24-428b-8e09-735a90adf0ab\",\"root_ids\":[\"1663\"],\"roots\":{\"1663\":\"de3a2502-11b5-49b9-814e-5e90e47438e8\"}}];\n",
       "    root.Bokeh.embed.embed_items_notebook(docs_json, render_items);\n",
       "  }\n",
       "  if (root.Bokeh !== undefined && root.Bokeh.Panel !== undefined) {\n",
       "    embed_document(root);\n",
       "  } else {\n",
       "    var attempts = 0;\n",
       "    var timer = setInterval(function(root) {\n",
       "      if (root.Bokeh !== undefined && root.Bokeh.Panel !== undefined) {\n",
       "        clearInterval(timer);\n",
       "        embed_document(root);\n",
       "      } else if (document.readyState == \"complete\") {\n",
       "        attempts++;\n",
       "        if (attempts > 100) {\n",
       "          clearInterval(timer);\n",
       "          console.log(\"Bokeh: ERROR: Unable to run BokehJS code because BokehJS library is missing\");\n",
       "        }\n",
       "      }\n",
       "    }, 10, root)\n",
       "  }\n",
       "})(window);</script>"
      ],
      "text/plain": [
       ":Table   [CoinName,Algorithm,ProofType,TotalCoinSupply,TotalCoinsMined,class]"
      ]
     },
     "execution_count": 121,
     "metadata": {
      "application/vnd.holoviews_exec.v0+json": {
       "id": "1663"
      }
     },
     "output_type": "execute_result"
    }
   ],
   "source": [
    "# Table with tradable cryptos\n",
    "clustered_df.hvplot.table(columns=[\"CoinName\", \"Algorithm\", \"ProofType\", \"TotalCoinSupply\", \"TotalCoinsMined\", \"class\"], sortable=True, selectable=True)"
   ]
  },
  {
   "cell_type": "code",
   "execution_count": 122,
   "metadata": {},
   "outputs": [
    {
     "name": "stdout",
     "output_type": "stream",
     "text": [
      "The number of tradeable cryptocurrencies is 531!\n"
     ]
    }
   ],
   "source": [
    "# Print the total number of tradable cryptocurrencies\n",
    "tradeable_crypto = (len(clustered_df))\n",
    "print(f'The number of tradeable cryptocurrencies is {tradeable_crypto}!')"
   ]
  },
  {
   "cell_type": "markdown",
   "metadata": {},
   "source": [
    "#### Scatter Plot with Tradable Cryptocurrencies"
   ]
  },
  {
   "cell_type": "code",
   "execution_count": 123,
   "metadata": {},
   "outputs": [
    {
     "data": {
      "text/html": [
       "<div>\n",
       "<style scoped>\n",
       "    .dataframe tbody tr th:only-of-type {\n",
       "        vertical-align: middle;\n",
       "    }\n",
       "\n",
       "    .dataframe tbody tr th {\n",
       "        vertical-align: top;\n",
       "    }\n",
       "\n",
       "    .dataframe thead th {\n",
       "        text-align: right;\n",
       "    }\n",
       "</style>\n",
       "<table border=\"1\" class=\"dataframe\">\n",
       "  <thead>\n",
       "    <tr style=\"text-align: right;\">\n",
       "      <th></th>\n",
       "      <th>TotalCoinsMined</th>\n",
       "      <th>TotalCoinSupply</th>\n",
       "      <th>CoinName</th>\n",
       "    </tr>\n",
       "  </thead>\n",
       "  <tbody>\n",
       "    <tr>\n",
       "      <th>0</th>\n",
       "      <td>0.000000</td>\n",
       "      <td>1.093750e-10</td>\n",
       "      <td>42</td>\n",
       "    </tr>\n",
       "    <tr>\n",
       "      <th>1</th>\n",
       "      <td>0.005733</td>\n",
       "      <td>1.385417e-03</td>\n",
       "      <td>404</td>\n",
       "    </tr>\n",
       "    <tr>\n",
       "      <th>2</th>\n",
       "      <td>0.159070</td>\n",
       "      <td>8.181231e-01</td>\n",
       "      <td>1337</td>\n",
       "    </tr>\n",
       "    <tr>\n",
       "      <th>3</th>\n",
       "      <td>0.000097</td>\n",
       "      <td>5.468750e-05</td>\n",
       "      <td>BTC</td>\n",
       "    </tr>\n",
       "    <tr>\n",
       "      <th>4</th>\n",
       "      <td>0.000585</td>\n",
       "      <td>0.000000e+00</td>\n",
       "      <td>ETH</td>\n",
       "    </tr>\n",
       "  </tbody>\n",
       "</table>\n",
       "</div>"
      ],
      "text/plain": [
       "   TotalCoinsMined  TotalCoinSupply CoinName\n",
       "0         0.000000     1.093750e-10       42\n",
       "1         0.005733     1.385417e-03      404\n",
       "2         0.159070     8.181231e-01     1337\n",
       "3         0.000097     5.468750e-05      BTC\n",
       "4         0.000585     0.000000e+00      ETH"
      ]
     },
     "execution_count": 123,
     "metadata": {},
     "output_type": "execute_result"
    }
   ],
   "source": [
    "# Scale data to create the scatter plot\n",
    "from sklearn import preprocessing\n",
    "\n",
    "scaler = preprocessing.MinMaxScaler()\n",
    "data_scaled = scaler.fit_transform(clustered_df[[\"TotalCoinsMined\", \"TotalCoinSupply\"]])\n",
    "\n",
    "scaled_data = pd.DataFrame(data_scaled, columns=[\"TotalCoinsMined\", \"TotalCoinSupply\"])\n",
    "scaled_data[\"CoinName\"] = clustered_df.index\n",
    "scaled_data.head()"
   ]
  },
  {
   "cell_type": "code",
   "execution_count": 124,
   "metadata": {},
   "outputs": [
    {
     "data": {
      "application/vnd.holoviews_exec.v0+json": "",
      "text/html": [
       "<div id='1715'>\n",
       "\n",
       "\n",
       "\n",
       "\n",
       "\n",
       "  <div class=\"bk-root\" id=\"8815f768-8992-4d4b-981e-76482859b1cc\" data-root-id=\"1715\"></div>\n",
       "</div>\n",
       "<script type=\"application/javascript\">(function(root) {\n",
       "  function embed_document(root) {\n",
       "    var docs_json = {\"a64838ed-28d8-49ca-bd42-9d526f280de8\":{\"roots\":{\"references\":[{\"attributes\":{\"active_drag\":\"auto\",\"active_inspect\":\"auto\",\"active_multi\":null,\"active_scroll\":\"auto\",\"active_tap\":\"auto\",\"tools\":[{\"id\":\"1719\"},{\"id\":\"1737\"},{\"id\":\"1738\"},{\"id\":\"1739\"},{\"id\":\"1740\"},{\"id\":\"1741\"}]},\"id\":\"1743\",\"type\":\"Toolbar\"},{\"attributes\":{\"axis_label\":\"TotalCoinSupply\",\"bounds\":\"auto\",\"formatter\":{\"id\":\"1760\"},\"major_label_orientation\":\"horizontal\",\"ticker\":{\"id\":\"1734\"}},\"id\":\"1733\",\"type\":\"LinearAxis\"},{\"attributes\":{},\"id\":\"1734\",\"type\":\"BasicTicker\"},{\"attributes\":{\"axis\":{\"id\":\"1733\"},\"dimension\":1,\"grid_line_color\":null,\"ticker\":null},\"id\":\"1736\",\"type\":\"Grid\"},{\"attributes\":{\"below\":[{\"id\":\"1729\"}],\"center\":[{\"id\":\"1732\"},{\"id\":\"1736\"}],\"left\":[{\"id\":\"1733\"}],\"margin\":[5,5,5,5],\"min_border_bottom\":10,\"min_border_left\":10,\"min_border_right\":10,\"min_border_top\":10,\"plot_height\":300,\"plot_width\":700,\"renderers\":[{\"id\":\"1756\"}],\"sizing_mode\":\"fixed\",\"title\":{\"id\":\"1721\"},\"toolbar\":{\"id\":\"1743\"},\"x_range\":{\"id\":\"1717\"},\"x_scale\":{\"id\":\"1725\"},\"y_range\":{\"id\":\"1718\"},\"y_scale\":{\"id\":\"1727\"}},\"id\":\"1720\",\"subtype\":\"Figure\",\"type\":\"Plot\"},{\"attributes\":{\"fill_alpha\":{\"value\":0.1},\"fill_color\":{\"value\":\"#1f77b3\"},\"line_alpha\":{\"value\":0.1},\"line_color\":{\"value\":\"#1f77b3\"},\"size\":{\"units\":\"screen\",\"value\":5.477225575051661},\"x\":{\"field\":\"TotalCoinsMined\"},\"y\":{\"field\":\"TotalCoinSupply\"}},\"id\":\"1754\",\"type\":\"Scatter\"},{\"attributes\":{\"bottom_units\":\"screen\",\"fill_alpha\":0.5,\"fill_color\":\"lightgrey\",\"left_units\":\"screen\",\"level\":\"overlay\",\"line_alpha\":1.0,\"line_color\":\"black\",\"line_dash\":[4,4],\"line_width\":2,\"right_units\":\"screen\",\"top_units\":\"screen\"},\"id\":\"1742\",\"type\":\"BoxAnnotation\"},{\"attributes\":{\"text\":\"\",\"text_color\":{\"value\":\"black\"},\"text_font_size\":{\"value\":\"12pt\"}},\"id\":\"1721\",\"type\":\"Title\"},{\"attributes\":{\"data_source\":{\"id\":\"1750\"},\"glyph\":{\"id\":\"1753\"},\"hover_glyph\":null,\"muted_glyph\":{\"id\":\"1755\"},\"nonselection_glyph\":{\"id\":\"1754\"},\"selection_glyph\":null,\"view\":{\"id\":\"1757\"}},\"id\":\"1756\",\"type\":\"GlyphRenderer\"},{\"attributes\":{},\"id\":\"1758\",\"type\":\"BasicTickFormatter\"},{\"attributes\":{\"fill_alpha\":{\"value\":0.2},\"fill_color\":{\"value\":\"#1f77b3\"},\"line_alpha\":{\"value\":0.2},\"line_color\":{\"value\":\"#1f77b3\"},\"size\":{\"units\":\"screen\",\"value\":5.477225575051661},\"x\":{\"field\":\"TotalCoinsMined\"},\"y\":{\"field\":\"TotalCoinSupply\"}},\"id\":\"1755\",\"type\":\"Scatter\"},{\"attributes\":{\"source\":{\"id\":\"1750\"}},\"id\":\"1757\",\"type\":\"CDSView\"},{\"attributes\":{\"callback\":null,\"renderers\":[{\"id\":\"1756\"}],\"tags\":[\"hv_created\"],\"tooltips\":[[\"TotalCoinsMined\",\"@{TotalCoinsMined}\"],[\"TotalCoinSupply\",\"@{TotalCoinSupply}\"],[\"CoinName\",\"@{CoinName}\"]]},\"id\":\"1719\",\"type\":\"HoverTool\"},{\"attributes\":{},\"id\":\"1737\",\"type\":\"SaveTool\"},{\"attributes\":{},\"id\":\"1738\",\"type\":\"PanTool\"},{\"attributes\":{},\"id\":\"1741\",\"type\":\"ResetTool\"},{\"attributes\":{},\"id\":\"1739\",\"type\":\"WheelZoomTool\"},{\"attributes\":{},\"id\":\"1760\",\"type\":\"BasicTickFormatter\"},{\"attributes\":{},\"id\":\"1751\",\"type\":\"Selection\"},{\"attributes\":{\"overlay\":{\"id\":\"1742\"}},\"id\":\"1740\",\"type\":\"BoxZoomTool\"},{\"attributes\":{\"margin\":[5,5,5,5],\"name\":\"HSpacer02855\",\"sizing_mode\":\"stretch_width\"},\"id\":\"1778\",\"type\":\"Spacer\"},{\"attributes\":{\"end\":1.042857142857143,\"reset_end\":1.042857142857143,\"reset_start\":-0.04285714285714286,\"start\":-0.04285714285714286,\"tags\":[[[\"TotalCoinsMined\",\"TotalCoinsMined\",null]]]},\"id\":\"1717\",\"type\":\"Range1d\"},{\"attributes\":{},\"id\":\"1767\",\"type\":\"UnionRenderers\"},{\"attributes\":{\"children\":[{\"id\":\"1716\"},{\"id\":\"1720\"},{\"id\":\"1778\"}],\"margin\":[0,0,0,0],\"name\":\"Row02850\",\"tags\":[\"embedded\"]},\"id\":\"1715\",\"type\":\"Row\"},{\"attributes\":{},\"id\":\"1725\",\"type\":\"LinearScale\"},{\"attributes\":{\"data\":{\"CoinName\":[\"42\",\"404\",\"1337\",\"BTC\",\"ETH\",\"LTC\",\"DASH\",\"XMR\",\"ETC\",\"ZEC\",\"BTS\",\"DGB\",\"BTCD\",\"XPY\",\"PRC\",\"KOBO\",\"SPR\",\"ARG\",\"AUR\",\"BLU\",\"XMY\",\"MOON\",\"ZET\",\"SXC\",\"QTL\",\"ENRG\",\"QRK\",\"RIC\",\"DGC\",\"BTB\",\"CAT\",\"CBX\",\"CCN\",\"CRYPT\",\"CSC\",\"DMD\",\"XVG\",\"DVC\",\"EAC\",\"EFL\",\"EMC2\",\"EMD\",\"EXCL\",\"FLT\",\"FRK\",\"FTC\",\"GDC\",\"GLC\",\"GLD\",\"HBN\",\"HYP\",\"IFC\",\"IOC\",\"IXC\",\"KGC\",\"LKY\",\"LTB\",\"MAX\",\"MEC\",\"MED\",\"MINT\",\"MINC\",\"MZC\",\"NAUT\",\"NAV\",\"NOBL\",\"NMC\",\"NYAN\",\"OPAL\",\"ORB\",\"POT\",\"PXC\",\"RDD\",\"RPC\",\"SBC\",\"SMC\",\"SUPER\",\"SYNC\",\"SYS\",\"TES\",\"TGC\",\"TIT\",\"TOR\",\"TRC\",\"UNB\",\"UNO\",\"URO\",\"USDE\",\"UTC\",\"VIA\",\"VRC\",\"VTC\",\"WDC\",\"XC\",\"XCR\",\"XJO\",\"XST\",\"ZCC\",\"BCN\",\"XDN\",\"BURST\",\"SJCX\",\"MONA\",\"NTRN\",\"FAIR\",\"NLG\",\"RBY\",\"PTC\",\"KORE\",\"WBB\",\"NOTE\",\"FLO\",\"8BIT\",\"STV\",\"ABY\",\"FLDC\",\"U\",\"UIS\",\"CYP\",\"OMC\",\"VTR\",\"GRE\",\"XCN\",\"MSC\",\"SOON\",\"1CR\",\"ISL\",\"NXS\",\"MARS\",\"CTO\",\"ACP\",\"DRZ\",\"BSC\",\"SQL\",\"SONG\",\"ZNY\",\"DIGS\",\"EXP\",\"CON\",\"SC\",\"EMC\",\"EGC\",\"MND\",\"I0C\",\"DCR\",\"RVR\",\"HODL\",\"EDRC\",\"HTC\",\"GAME\",\"DBIC\",\"DIEM\",\"PWR\",\"BLRY\",\"GPU\",\"ADZ\",\"SOIL\",\"YOC\",\"SIB\",\"ERC\",\"ZEIT\",\"SWING\",\"SAFEX\",\"NEBU\",\"FRN\",\"BOLI\",\"XRA\",\"REV\",\"CKC\",\"VIP\",\"BSD\",\"OMNI\",\"LIR\",\"PUT\",\"IBANK\",\"FRWC\",\"MUDRA\",\"PIZZA\",\"LC\",\"KMD\",\"GB\",\"CTC\",\"KRB\",\"BXT\",\"ZYD\",\"MST\",\"ZNE\",\"COVAL\",\"ROOT\",\"DOPE\",\"BTCR\",\"DLC\",\"SCN\",\"SH\",\"BUZZ\",\"XPO\",\"PSB\",\"HALLO\",\"XZC\",\"CFC\",\"ROYAL\",\"GNJ\",\"TEAM\",\"LANA\",\"ELE\",\"ZCL\",\"ARK\",\"INSANE\",\"KLC\",\"ATX\",\"EMB\",\"XEN\",\"FRE\",\"PLNC\",\"ARCO\",\"KURT\",\"XCRE\",\"ENT\",\"EUC\",\"BCF\",\"XSN\",\"BCCOIN\",\"MONEY\",\"XNG\",\"XCI\",\"RC\",\"PND\",\"UNITS\",\"GAKH\",\"ASAFE2\",\"LTCR\",\"OS76\",\"BIC\",\"HXX\",\"KED\",\"IOP\",\"KUSH\",\"PRX\",\"PAC\",\"IMPCH\",\"CTL\",\"ZBC\",\"FRST\",\"BVC\",\"FIND\",\"VLTC\",\"ZER\",\"CHAT\",\"CDN\",\"ZOI\",\"RNS\",\"DBIX\",\"XVP\",\"TAJ\",\"IMX\",\"EB3\",\"ATMOS\",\"HPC\",\"CXT\",\"MCRN\",\"RAIN\",\"IMS\",\"ARGUS\",\"LMC\",\"PROC\",\"XGR\",\"BENJI\",\"GRW\",\"ILC\",\"PHR\",\"DEA\",\"HTML5\",\"USC\",\"EQT\",\"QTUM\",\"QRL\",\"ESP\",\"DYN\",\"NANO\",\"CHAN\",\"DCY\",\"DNR\",\"DP\",\"VUC\",\"BTPL\",\"UNIFY\",\"BRIT\",\"SOCC\",\"ARC\",\"DAS\",\"LINDA\",\"XLC\",\"ONION\",\"BTX\",\"GCN\",\"SMART\",\"SIGT\",\"ONX\",\"CRM\",\"BCH\",\"XMCC\",\"DFT\",\"VET\",\"SOJ\",\"STCN\",\"NYC\",\"FRAZ\",\"KRONE\",\"ACC\",\"LINX\",\"XCXT\",\"ETHD\",\"SUMO\",\"ODN\",\"ADA\",\"REC\",\"BTCZ\",\"TZC\",\"ELM\",\"TER\",\"VIVO\",\"RUP\",\"BTG\",\"WOMEN\",\"MAY\",\"NAMO\",\"LUX\",\"PIRL\",\"XIOS\",\"BTDX\",\"EBST\",\"KEK\",\"BLHC\",\"XIN\",\"PURA\",\"INN\",\"ELLA\",\"GBX\",\"MAG\",\"TAU\",\"ECA\",\"BCD\",\"XSH\",\"CNBC\",\"XUN\",\"COAL\",\"DAXX\",\"BWK\",\"KLKS\",\"AC3\",\"LTHN\",\"GER\",\"LTCU\",\"POP\",\"PNX\",\"PHO\",\"SUCR\",\"SPK\",\"WAGE\",\"GUN\",\"IRL\",\"TROLL\",\"LCP\",\"MONK\",\"PCOIN\",\"UBTC\",\"ITZ\",\"TPAY\",\"MCT\",\"MBC\",\"TRTL\",\"MUN\",\"USX\",\"NBR\",\"SSS\",\"TRF\",\"KREDS\",\"TOKC\",\"BBP\",\"LCC\",\"FLIP\",\"LOT\",\"CIF\",\"SPD\",\"POA\",\"PUSHI\",\"ELP\",\"VLX\",\"ONT\",\"CLO\",\"TUBE\",\"PSD\",\"ADK\",\"BSX\",\"BRIA\",\"IC\",\"BTL\",\"MEDIC\",\"ALPS\",\"BITG\",\"DEV\",\"ABJ\",\"SEM\",\"FTO\",\"CARE\",\"NZL\",\"XMC\",\"PROTON\",\"DEAL\",\"JUMP\",\"INFX\",\"XBI\",\"KEC\",\"HWC\",\"GIN\",\"PLTC\",\"LOKI\",\"NCP\",\"SIC\",\"XT3\",\"MGD\",\"VIG\",\"PLURA\",\"EMAR\",\"DKD\",\"LYNX\",\"POSQ\",\"BWS\",\"MUSE\",\"XMN\",\"PLUS1\",\"AXE\",\"TRVC\",\"DTEM\",\"GIC\",\"PNY\",\"ABS\",\"VITAE\",\"HEX\",\"TPC\",\"WEBC\",\"RYO\",\"URALS\",\"QWC\",\"ARE\",\"EUNO\",\"MMO\",\"KETAN\",\"PPAI\",\"XDNA\",\"PAXEX\",\"AZART\",\"TSC\",\"KCASH\",\"XCG\",\"AAC\",\"CRYP\",\"BTXC\",\"ACM\",\"BSV\",\"BITM\",\"JMC\",\"FRED\",\"HERB\",\"UMO\",\"LIT\",\"PIRATE\",\"EXO\",\"BLTG\",\"OWC\",\"BEAM\",\"GALI\",\"BTH\",\"CSPN\",\"CREDIT\",\"SLC\",\"DASHP\",\"NSD\",\"BEET\",\"TTN\",\"AWR\",\"BLAST\",\"XRC\",\"GLT\",\"INSN\",\"ALX\",\"LDOGE\",\"SLR\",\"TRK\",\"UFO\",\"OC\",\"BLC\",\"BITS\",\"NEOS\",\"HYPER\",\"PINK\",\"CESC\",\"ADC\",\"NKA\",\"PIGGY\",\"CRW\",\"GEN\",\"SMLY\",\"MI\",\"GRS\",\"CPC\",\"CLUB\",\"RADS\",\"BTA\",\"PAK\",\"CRB\",\"OK\",\"LSK\",\"XHI\",\"XWC\",\"FSC\",\"J\",\"TRI\",\"VOLLAR\",\"EOS\",\"RCC\",\"OXY\",\"TCH\",\"WAVES\",\"PART\",\"NXT\",\"ZEPH\",\"GAP\",\"BDX\",\"ZEN\",\"XBC\"],\"TotalCoinSupply\":{\"__ndarray__\":\"hPdD1pQQ3j1/I5TR27JWPzMGx3cQLuo/eekmMQisDD8AAAAAAAAAAHnpJjEIrCw/o7dlrY4JDj8AAAAAAAAAAOtRuB6F60E/eekmMQisDD/F1tqa+jODP+tRuB6F60E/o7dlrY4JDj8REREREREBP3npJjEIrAw/3t3d3d3dTT9OG+i0gU4LP6Xi7MNn2CU/9HhcfwvlBj8AAAAAAAAAAFVVVVVVVXU/AAAAAAAA8D/CCvqAe/o8P1VVVVVVVUU/peLsw2fYxT4AAAAAAAAAAK2OCR7ME0U/eekmMQisLD9GR18uz3AgP6Xi7MNn2LU+eekmMQisDD+l4uzDZ9jFPsaKGkzD8AE/+n5qvHSTCD+qqqqqqqq6P7JjIxCv6+c+k18s+cUSpj/rUbgehetBPwAAAAAAAKI/eekmMQisDD/FLubwEJVJP6Xi7MNn2BU/AAAAAAAAAAAAAAAAAAAAAAyDtQ5nrv4+eekmMQisTD+r8goybE5uP+QXS36x5Cc/Y8Gz8+yoKD+l4uzDZ9jFPgAAAAAAAAAAMzMzMzMzzj+jt2WtjgkOP3npJjEIrAw/5TOPsjSmRj9OG+i0gU4LP5LLf0i/fc0+peLsw2fYxT556SYxCKwcPxEREREREUE/AAAAAAAAAABOG+i0gU77PiDSb18Hznk/4IyH5FEXBj8AAAAAAAAAABERERERETE/eekmMQisDD9b1uqY4MFMPwAAAAAAAAAAsUMPj9eW5D7rUbgehetRP4ZdAXKvuTA/AAAAAAAAAAB56SYxCKwMP1VVVVVVVUU/HoK9nOx5IT8AAAAAAAAAABGS8oCfXiY+i2zn+6nxYj+l4uzDZ9jFPs6CG+z3CyA/iIiIiIiIeD9OG+i0gU77PnnpJjEIrBw/ThvotIFOKz+l4uzDZ9ilPgAAAAAAAAAAThvotIFO+z6l4uzDZ9jFPs2FpCkVZw8/AAAAAAAAAAB56SYxCKwsP+Uzj7I0pkY/o7dlrY4J7j4AAAAAAAAAALgehetRuB4/AAAAAAAAAABOG+i0gU77PhxGsl2cvt4/ERERERERMT8Wp+yG/wZ3P1VVVVVVVVU/xooaTMPwMT/PsCtA7jUnPwAAAAAAAAAA61G4HoXrcT8AAAAAAAAAAM5sV+iDZTw//Knx0k1iAD9vRPesa7TcPlVVVVVVVVU/peLsw2fYxT4AAAAAAAAAAE4b6LSBTvs+ThvotIFO+z5OG+i0gU77Pk4b6LSBTgs/AAAAAAAAAAAAAAAAAAAAACc7Y4N4aeI+ThvotIFOCz8RERERERExP6DTBjptoHM/rtcZgL4Quz556SYxCKwMP6qqqqqqqs4/AAAAAAAAAAA5tMh2vp8qP7pJDAIrhxY/sY4+Qb10Jj/S+8bXnlkiP/KoC4tkous+eekmMQisDD8AAAAAAAAAAMaKGkzD8EE/VVVVVVVVRT+l4uzDZ9jFPjnrxss2FQc/ERERERERIT8AAAAAAAAAAE4b6LSBTvs+4qyImujzET+l4uzDZ9gFP3npJjEIrAw/eekmMQisDD/rUbgehetBP0frAyT1+Ss/o7dlrY4JDj8zMzMzM7OxP3npJjEIrCw/eekmMQis/D4S2nIuxdWsPwAAAAAAAAAAeekmMQisHD8Sfwvr99xCP3npJjEIrCw/exSuR+F6FD8bI35qYbs8P/yp8dJNYhA//Knx0k1iUD8AAAAAAIDQP04b6LSBThs/pvgF4A/odj9OG+i0gU4LP04b6LSBTgs/ERERERERET+ZmZmZmZkpP0l4VXqAAUM/ZmZmZmZmVj+4HoXrUbguPx8+w64AuTc/EeOcqtruuj5F/RuhjN4WP1VVVVVVVXU/BIJJvs9DHj+l4uzDZ9jFPhEREREREUE/ERERERERET/VeOkmMQhcPxEREREREUE/ERERERERIT+4HoXrUbguP04b6LSBTvs+eekmMQisDD8ZSgAR9ZX6Pvyp8dJNYuA+eekmMQisDD9OG+i0gU77PgAAAAAAAAAAERERERERQT8AAAAAAAAAAIf1R5W1DP0+kHvNhaQpFT97FK5H4XoUP6qqqqqqqqo/D+aJ+jdCKT8AAAAAAAAAAE4b6LSBTvs+idUMltc3DT+k8awkfU4bPxegJXjaTts+peLsw2fYxT58hl0Bcq9JP2q8dJMYBJQ/KrPx97/jET956SYxCKwMP1VVVVVVVTU/exSuR+F6FD8RERERERExP1VVVVVVVVU/IiIiIiIiYj92RMBfVwvlPhERERERESE/fEyRaVpPGj956SYxCKwcP9v5fmq8dEM/ThvotIFOCz97FK5H4XokP04b6LSBTgs/ukkMAiuHFj/pJjEIrBwqP1BGb8taHRM/DbeXwvDCWz9OG+i0gU7rPnnpJjEIrAw/+n5qvHSTOD87tlhlNq21PyZ4ME/UvwE/lgkQHM8b4j57FK5H4XoEPzZlXZK56Co/4FevmbGl3T4RERERERERP477F4eBTvs+VVVVVVVVVT956SYxCKwMP2n67IDrivk+ThvotIFOCz9VVVVVVVVlP1VgR2pB8g0/kl8s+cWSPz/Gkl8s+cUiP6Xi7MNn2MU+0vvG155Z4j7WY9q1zdQDP04b6LSBTvs+z7ArQO41Bz9OG+i0gU77PqXi7MNn2MU+eekmMQisDD/Y9b0XdIAXP+Ndh8ukY9g+peLsw2fYxT6NKO0NvjAZP6Xi7MNn2MU+VVVVVVVVhT+z150apdIyP6Xi7MNn2MU+w5j091J4ID8RERERERFRP1VVVVVVVVU/9Y0xdSz2DD9dtxtXNoYTP04b6LSBTvs+AAAAAAAAyT9OG+i0gU4bP35Yk8ujPxg/VVVVVVVVdT+qqqqqqqp6P3sUrkfhehQ/61G4HoXrMT8AAAAAAADOP2lre/LnEkE/+n5qvHSTKD+l4uzDZ9jFPutRuB6F6zE/qqqqqqqqwD8AAAAAAAAAAPeLjuyUCU0/exSuR+F6FD9VVVVVVVV1P04b6LSBTvs+peLsw2fYxT6l4uzDZ9jFPqXi7MNn2MU+3P+23bpRCj97FK5H4XoUP5mZmZmZmSk/exSuR+F6JD8g0m9fB84JP6qqqqqqqsA/O99PjZduIj+t1DQ0Zc0JP3npJjEIrAw/qqqqqqqq4D+qqqqqqqqKP3d3d3d3dzc/ThvotIFO+z6l4uzDZ9jFPnnpJjEIrAw/4R7fahD2+T5clLrHzMMHP6V9dGd658w/AAAAAAAAnD+idSXkrwYlPwAAAAAAAAAAThvotIFOCz956SYxCKwsP6Xi7MNn2MU+peLsw2fYxT7DmPT3UnggP8e6uI0G8OY+esXqwzpXLj+I7LYdsDEvPwAAAAAAAL4/O99PjZduEj/rUbgehetBPxEREREREVE/ThvotIFO+z5PlVvOMnsFPzvfT42XbhI//Knx0k1iED956SYxCKwMP6qqqqqqqrA/peLsw2fYxT5OG+i0gU77PnsUrkfheiQ/UuEWNiWtOj956SYxCKwMPxEREREREUE/peLsw2fYxT556SYxCKwMP+JHT4ngMAQ/AAAAAAAAmD/e3d3d3d1NP7gehetRuB4/5BdLfrHkRz+hZ7Pqc7UVP/p+arx0kzg/VVVVVVVVVT8AAAAAAAC0P+tRuB6F60E/KVyPwvUoXD/rUbgehetBP1VVVVVVVcw/ERERERERAT8RERERERExP5jsYEO+6xI/ThvotIFOCz93d3d3d3dXP5hurnCAUmU/qqqqqqqqwD+l4uzDZ9jFPprCk6qqqoo/ERERERERIT8AAAAAAADOP0YldQKaCAs/eekmMQisDD+l4uzDZ9jFPlVVVVVVVVU/peLsw2fYJT8zMzMzMzNjP6Xi7MNn2OU+eekmMQisDD/NhaQpFWcPP3mQniKHiAs/zYWkKRVnDz8RERERERERPxwD8CJZrNE+exSuR+F6FD+qqqqqqqqaP77ERdseqgY/Za2OCR7MQz956SYxCKxMPxERERERETE/peLsw2fYxT5OG+i0gU77PhEREREREWE/u7u7u7u7iz/rUbgehethP04b6LSBThs/4z3pcOqKqD9VVVVVVVVVPwQsew4HaAo/3DXXHxeLRT8RERERERERP3sUrkfheiQ/kHvNhaQpNT9OG+i0gU77PlVVVVVVVZE/ThvotIFO+z556SYxCKwMPxERERERERE/ERERERERIT/8qfHSTWLgPk4b6LSBTus+5BdLfrHkJz9VVVVVVVVVP5mZmZmZmUk/eekmMQisDD+jt2WtjgkuP3sUrkfhehQ/peLsw2fYxT6l4uzDZ9jFPhEREREREUE/ThvotIFOKz8Ka1AhRB8JP7gehetRuB4/1ecdtStRiz956SYxCKwMP8aKGkzD8BE/eekmMQisDD/6fmq8dJMIPyZ4ME/UvxE/eekmMQis/D6XGmYMm5lZP6Xi7MNn2MU+qqqqqqqq3j8zMzMzMzObP6O3Za2OCR4/eekmMQisPD+l4uzDZ9jFPk4b6LSBTvs+eekmMQisLD+4HoXrUbguP6qqqqqqqs4/u7u7u7u7Wz8DpKrHhRwxP92t65wMsAg/9DzcMgQkDj956SYxCKwMP3npJjEIrAw/O0YJYQctLD956SYxCKwMP5EMObaeIew+gU4b6LSBpj/rUbgeheshP6Xi7MNn2MU+8JR9c1kuDj9OG+i0gU77PqqqqqqqqnI/My7GBxAaLj/rUbgehetBPx6F61G4vt4/xpJfLPnFIj8REREREREhPzCW/GLJL0Y/61G4HoXrQT956SYxCKwMPwisHFpkO08/peLsw2fYxT4RERERERERPxERERERETE/ThvotIFO+z6l4uzDZ9jFPk4b6LSBTvs+RERERERElD8REREREREhP3npJjEIrCw/eekmMQisDD9VVVVVVVXHPwAAAAAAAAAAjCW/WPKLlT8730+Nl24iP8ASOlDD8DE/do/HZw05ET/rUbgehesxP3npJjEIrAw/peLsw2fYxT556SYxCKwMP3ctIR/0bEY/tsV5W5D9CT+Go74/uBUVP4LyUVknQQI/7+7u7u7uyD+l4uzDZ9jFPkGqOymm5Qo/eekmMQisLD9VVVVVVVVVP6qqqqqqqoo/61G4HoXrUT+l4uzDZ9glP8e6uI0G8NY+eekmMQisPD97FK5H4XoUP04b6LSBTvs+VVVVVVVVtz8hsHJoke1kPwAAAAAAAAAAVVVVVVVVhT8RERERERFBP6qqqqqqqpI/G6pI1viEIj956SYxCKwMPwAAAAAAAAAAVVVVVVVVVT9OG+i0gU77PgAAAAAAAJw/peLsw2fYxT5OG+i0gU77PnnpJjEIrBw/exSuR+F6BD+qqqqqqqrAPxEREREREVE/61G4HoXrMT8meDBP1L9BP6Xi7MNn2MU++n5qvHST+D5OG+i0gU7rPkPSlIqzDz8/h//gt66IBj/rUbgehesxPz+OrwbxSjs/wvhIzrKwmj+ZmZmZmZlJPyrztp6SiSQ/tKNLEl6V3j7waOOItfiUPnnpJjEIrAw/AAAAAAAAAABDiqsRlLcQPwAAAAAAAAAAThvotIFO+z6l4uzDZ9jFPswF6Ymzk/c+ThvotIFO+z5VVVVVVVV1P1VVVVVVVUU/VNIWGRXfbT956SYxCKwMP6Xi7MNn2MU+\",\"dtype\":\"float64\",\"order\":\"little\",\"shape\":[531]},\"TotalCoinsMined\":{\"__ndarray__\":\"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\",\"dtype\":\"float64\",\"order\":\"little\",\"shape\":[531]}},\"selected\":{\"id\":\"1751\"},\"selection_policy\":{\"id\":\"1767\"}},\"id\":\"1750\",\"type\":\"ColumnDataSource\"},{\"attributes\":{\"margin\":[5,5,5,5],\"name\":\"HSpacer02854\",\"sizing_mode\":\"stretch_width\"},\"id\":\"1716\",\"type\":\"Spacer\"},{\"attributes\":{\"axis_label\":\"TotalCoinsMined\",\"bounds\":\"auto\",\"formatter\":{\"id\":\"1758\"},\"major_label_orientation\":\"horizontal\",\"ticker\":{\"id\":\"1730\"}},\"id\":\"1729\",\"type\":\"LinearAxis\"},{\"attributes\":{},\"id\":\"1727\",\"type\":\"LinearScale\"},{\"attributes\":{},\"id\":\"1730\",\"type\":\"BasicTicker\"},{\"attributes\":{\"axis\":{\"id\":\"1729\"},\"grid_line_color\":null,\"ticker\":null},\"id\":\"1732\",\"type\":\"Grid\"},{\"attributes\":{\"end\":1.1,\"reset_end\":1.1,\"reset_start\":-0.1,\"start\":-0.1,\"tags\":[[[\"TotalCoinSupply\",\"TotalCoinSupply\",null]]]},\"id\":\"1718\",\"type\":\"Range1d\"},{\"attributes\":{\"fill_color\":{\"value\":\"#1f77b3\"},\"line_color\":{\"value\":\"#1f77b3\"},\"size\":{\"units\":\"screen\",\"value\":5.477225575051661},\"x\":{\"field\":\"TotalCoinsMined\"},\"y\":{\"field\":\"TotalCoinSupply\"}},\"id\":\"1753\",\"type\":\"Scatter\"}],\"root_ids\":[\"1715\"]},\"title\":\"Bokeh Application\",\"version\":\"2.2.3\"}};\n",
       "    var render_items = [{\"docid\":\"a64838ed-28d8-49ca-bd42-9d526f280de8\",\"root_ids\":[\"1715\"],\"roots\":{\"1715\":\"8815f768-8992-4d4b-981e-76482859b1cc\"}}];\n",
       "    root.Bokeh.embed.embed_items_notebook(docs_json, render_items);\n",
       "  }\n",
       "  if (root.Bokeh !== undefined && root.Bokeh.Panel !== undefined) {\n",
       "    embed_document(root);\n",
       "  } else {\n",
       "    var attempts = 0;\n",
       "    var timer = setInterval(function(root) {\n",
       "      if (root.Bokeh !== undefined && root.Bokeh.Panel !== undefined) {\n",
       "        clearInterval(timer);\n",
       "        embed_document(root);\n",
       "      } else if (document.readyState == \"complete\") {\n",
       "        attempts++;\n",
       "        if (attempts > 100) {\n",
       "          clearInterval(timer);\n",
       "          console.log(\"Bokeh: ERROR: Unable to run BokehJS code because BokehJS library is missing\");\n",
       "        }\n",
       "      }\n",
       "    }, 10, root)\n",
       "  }\n",
       "})(window);</script>"
      ],
      "text/plain": [
       ":Scatter   [TotalCoinsMined]   (TotalCoinSupply,CoinName)"
      ]
     },
     "execution_count": 124,
     "metadata": {
      "application/vnd.holoviews_exec.v0+json": {
       "id": "1715"
      }
     },
     "output_type": "execute_result"
    }
   ],
   "source": [
    "# Plot the scatter with x=\"TotalCoinsMined\" and y=\"TotalCoinSupply\"\n",
    "scaled_data.hvplot.scatter(\n",
    "    x=\"TotalCoinsMined\",\n",
    "    y=\"TotalCoinSupply\",\n",
    "    hover_cols=[\"CoinName\"]\n",
    ")"
   ]
  },
  {
   "cell_type": "code",
   "execution_count": null,
   "metadata": {},
   "outputs": [],
   "source": []
  }
 ],
 "metadata": {
  "file_extension": ".py",
  "kernelspec": {
   "display_name": "Python [conda env:pyvizenv] *",
   "language": "python",
   "name": "conda-env-pyvizenv-py"
  },
  "language_info": {
   "codemirror_mode": {
    "name": "ipython",
    "version": 3
   },
   "file_extension": ".py",
   "mimetype": "text/x-python",
   "name": "python",
   "nbconvert_exporter": "python",
   "pygments_lexer": "ipython3",
   "version": "3.7.7"
  },
  "mimetype": "text/x-python",
  "name": "python",
  "npconvert_exporter": "python",
  "pygments_lexer": "ipython3",
  "version": 3
 },
 "nbformat": 4,
 "nbformat_minor": 4
}
