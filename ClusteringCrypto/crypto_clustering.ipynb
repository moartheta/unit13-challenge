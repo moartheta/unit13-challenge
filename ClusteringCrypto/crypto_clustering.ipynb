{
 "cells": [
  {
   "cell_type": "markdown",
   "metadata": {},
   "source": [
    "# Clustering Crypto"
   ]
  },
  {
   "cell_type": "code",
   "execution_count": 175,
   "metadata": {
    "scrolled": true
   },
   "outputs": [],
   "source": [
    "# Initial imports\n",
    "import requests\n",
    "import numpy as np\n",
    "from pathlib import Path\n",
    "import pandas as pd\n",
    "import matplotlib.pyplot as plt\n",
    "import hvplot.pandas\n",
    "import plotly.express as px\n",
    "from sklearn.preprocessing import StandardScaler, MinMaxScaler\n",
    "from sklearn.decomposition import PCA\n",
    "from sklearn.cluster import KMeans"
   ]
  },
  {
   "cell_type": "markdown",
   "metadata": {},
   "source": [
    "### Fetching Cryptocurrency Data"
   ]
  },
  {
   "cell_type": "code",
   "execution_count": 176,
   "metadata": {},
   "outputs": [],
   "source": [
    "# Fetching coin data from CryptoCompare\n",
    "#url = \"https://min-api.cryptocompare.com/data/all/coinlist\"\n",
    "#response = requests.get(url)\n",
    "#data = response.json()"
   ]
  },
  {
   "cell_type": "code",
   "execution_count": 177,
   "metadata": {},
   "outputs": [],
   "source": [
    "# Creating a DataFrame from raw data\n",
    "#raw_data = data['Data']\n",
    "#crypto_df = pd.DataFrame.from_dict(raw_data).T"
   ]
  },
  {
   "cell_type": "code",
   "execution_count": 178,
   "metadata": {},
   "outputs": [],
   "source": [
    " # Reading in csv file:\n",
    "file_path = Path(\"Resources/crypto_data.csv\")\n",
    "\n",
    "# Create a DataFrame\n",
    "crypto_df = pd.read_csv(file_path, index_col=0)"
   ]
  },
  {
   "cell_type": "markdown",
   "metadata": {},
   "source": [
    "### Data Preprocessing"
   ]
  },
  {
   "cell_type": "code",
   "execution_count": 179,
   "metadata": {},
   "outputs": [],
   "source": [
    "# Selecting relevant columns\n",
    "crypto_df = crypto_df[['CoinName','Algorithm','IsTrading','ProofType','TotalCoinsMined','TotalCoinSupply']]\n",
    "# Further cleaning of data and changing dtypes\n",
    "crypto_df[\"TotalCoinSupply\"] = crypto_df[\"TotalCoinSupply\"].str.replace(\" \",\"\")\n",
    "crypto_df[\"TotalCoinSupply\"] = crypto_df[\"TotalCoinSupply\"].str.replace(\"10.500.000\",\"10500000\")\n",
    "crypto_df[\"TotalCoinSupply\"] = crypto_df[\"TotalCoinSupply\"].str.replace(\"1.000.000\",\"1000000\")\n",
    "crypto_df[\"TotalCoinSupply\"] = crypto_df[\"TotalCoinSupply\"].astype(float)"
   ]
  },
  {
   "cell_type": "code",
   "execution_count": 180,
   "metadata": {},
   "outputs": [
    {
     "data": {
      "text/html": [
       "<div>\n",
       "<style scoped>\n",
       "    .dataframe tbody tr th:only-of-type {\n",
       "        vertical-align: middle;\n",
       "    }\n",
       "\n",
       "    .dataframe tbody tr th {\n",
       "        vertical-align: top;\n",
       "    }\n",
       "\n",
       "    .dataframe thead th {\n",
       "        text-align: right;\n",
       "    }\n",
       "</style>\n",
       "<table border=\"1\" class=\"dataframe\">\n",
       "  <thead>\n",
       "    <tr style=\"text-align: right;\">\n",
       "      <th></th>\n",
       "      <th>CoinName</th>\n",
       "      <th>Algorithm</th>\n",
       "      <th>IsTrading</th>\n",
       "      <th>ProofType</th>\n",
       "      <th>TotalCoinsMined</th>\n",
       "      <th>TotalCoinSupply</th>\n",
       "    </tr>\n",
       "  </thead>\n",
       "  <tbody>\n",
       "    <tr>\n",
       "      <th>42</th>\n",
       "      <td>42 Coin</td>\n",
       "      <td>Scrypt</td>\n",
       "      <td>True</td>\n",
       "      <td>PoW/PoS</td>\n",
       "      <td>4.199995e+01</td>\n",
       "      <td>4.200000e+01</td>\n",
       "    </tr>\n",
       "    <tr>\n",
       "      <th>365</th>\n",
       "      <td>365Coin</td>\n",
       "      <td>X11</td>\n",
       "      <td>True</td>\n",
       "      <td>PoW/PoS</td>\n",
       "      <td>NaN</td>\n",
       "      <td>2.300000e+09</td>\n",
       "    </tr>\n",
       "    <tr>\n",
       "      <th>404</th>\n",
       "      <td>404Coin</td>\n",
       "      <td>Scrypt</td>\n",
       "      <td>True</td>\n",
       "      <td>PoW/PoS</td>\n",
       "      <td>1.055185e+09</td>\n",
       "      <td>5.320000e+08</td>\n",
       "    </tr>\n",
       "    <tr>\n",
       "      <th>611</th>\n",
       "      <td>SixEleven</td>\n",
       "      <td>SHA-256</td>\n",
       "      <td>True</td>\n",
       "      <td>PoW</td>\n",
       "      <td>NaN</td>\n",
       "      <td>6.110000e+05</td>\n",
       "    </tr>\n",
       "    <tr>\n",
       "      <th>808</th>\n",
       "      <td>808</td>\n",
       "      <td>SHA-256</td>\n",
       "      <td>True</td>\n",
       "      <td>PoW/PoS</td>\n",
       "      <td>0.000000e+00</td>\n",
       "      <td>0.000000e+00</td>\n",
       "    </tr>\n",
       "  </tbody>\n",
       "</table>\n",
       "</div>"
      ],
      "text/plain": [
       "      CoinName Algorithm  IsTrading ProofType  TotalCoinsMined  \\\n",
       "42     42 Coin    Scrypt       True   PoW/PoS     4.199995e+01   \n",
       "365    365Coin       X11       True   PoW/PoS              NaN   \n",
       "404    404Coin    Scrypt       True   PoW/PoS     1.055185e+09   \n",
       "611  SixEleven   SHA-256       True       PoW              NaN   \n",
       "808        808   SHA-256       True   PoW/PoS     0.000000e+00   \n",
       "\n",
       "     TotalCoinSupply  \n",
       "42      4.200000e+01  \n",
       "365     2.300000e+09  \n",
       "404     5.320000e+08  \n",
       "611     6.110000e+05  \n",
       "808     0.000000e+00  "
      ]
     },
     "execution_count": 180,
     "metadata": {},
     "output_type": "execute_result"
    }
   ],
   "source": [
    "# Selecting only cryptocurrencies that are trading\n",
    "crypto_df = crypto_df[crypto_df['IsTrading'] == True] \n",
    "crypto_df.head()"
   ]
  },
  {
   "cell_type": "code",
   "execution_count": 181,
   "metadata": {},
   "outputs": [
    {
     "data": {
      "text/html": [
       "<div>\n",
       "<style scoped>\n",
       "    .dataframe tbody tr th:only-of-type {\n",
       "        vertical-align: middle;\n",
       "    }\n",
       "\n",
       "    .dataframe tbody tr th {\n",
       "        vertical-align: top;\n",
       "    }\n",
       "\n",
       "    .dataframe thead th {\n",
       "        text-align: right;\n",
       "    }\n",
       "</style>\n",
       "<table border=\"1\" class=\"dataframe\">\n",
       "  <thead>\n",
       "    <tr style=\"text-align: right;\">\n",
       "      <th></th>\n",
       "      <th>CoinName</th>\n",
       "      <th>Algorithm</th>\n",
       "      <th>IsTrading</th>\n",
       "      <th>ProofType</th>\n",
       "      <th>TotalCoinsMined</th>\n",
       "      <th>TotalCoinSupply</th>\n",
       "    </tr>\n",
       "  </thead>\n",
       "  <tbody>\n",
       "    <tr>\n",
       "      <th>42</th>\n",
       "      <td>42 Coin</td>\n",
       "      <td>Scrypt</td>\n",
       "      <td>True</td>\n",
       "      <td>PoW/PoS</td>\n",
       "      <td>4.199995e+01</td>\n",
       "      <td>4.200000e+01</td>\n",
       "    </tr>\n",
       "    <tr>\n",
       "      <th>365</th>\n",
       "      <td>365Coin</td>\n",
       "      <td>X11</td>\n",
       "      <td>True</td>\n",
       "      <td>PoW/PoS</td>\n",
       "      <td>NaN</td>\n",
       "      <td>2.300000e+09</td>\n",
       "    </tr>\n",
       "    <tr>\n",
       "      <th>404</th>\n",
       "      <td>404Coin</td>\n",
       "      <td>Scrypt</td>\n",
       "      <td>True</td>\n",
       "      <td>PoW/PoS</td>\n",
       "      <td>1.055185e+09</td>\n",
       "      <td>5.320000e+08</td>\n",
       "    </tr>\n",
       "    <tr>\n",
       "      <th>611</th>\n",
       "      <td>SixEleven</td>\n",
       "      <td>SHA-256</td>\n",
       "      <td>True</td>\n",
       "      <td>PoW</td>\n",
       "      <td>NaN</td>\n",
       "      <td>6.110000e+05</td>\n",
       "    </tr>\n",
       "    <tr>\n",
       "      <th>808</th>\n",
       "      <td>808</td>\n",
       "      <td>SHA-256</td>\n",
       "      <td>True</td>\n",
       "      <td>PoW/PoS</td>\n",
       "      <td>0.000000e+00</td>\n",
       "      <td>0.000000e+00</td>\n",
       "    </tr>\n",
       "  </tbody>\n",
       "</table>\n",
       "</div>"
      ],
      "text/plain": [
       "      CoinName Algorithm  IsTrading ProofType  TotalCoinsMined  \\\n",
       "42     42 Coin    Scrypt       True   PoW/PoS     4.199995e+01   \n",
       "365    365Coin       X11       True   PoW/PoS              NaN   \n",
       "404    404Coin    Scrypt       True   PoW/PoS     1.055185e+09   \n",
       "611  SixEleven   SHA-256       True       PoW              NaN   \n",
       "808        808   SHA-256       True   PoW/PoS     0.000000e+00   \n",
       "\n",
       "     TotalCoinSupply  \n",
       "42      4.200000e+01  \n",
       "365     2.300000e+09  \n",
       "404     5.320000e+08  \n",
       "611     6.110000e+05  \n",
       "808     0.000000e+00  "
      ]
     },
     "execution_count": 181,
     "metadata": {},
     "output_type": "execute_result"
    }
   ],
   "source": [
    "# Selecting only cryptocurrencies with a working algorithm\n",
    "crypto_df = crypto_df[crypto_df['Algorithm'] != 'N/A']\n",
    "crypto_df.head()"
   ]
  },
  {
   "cell_type": "code",
   "execution_count": 182,
   "metadata": {},
   "outputs": [
    {
     "data": {
      "text/html": [
       "<div>\n",
       "<style scoped>\n",
       "    .dataframe tbody tr th:only-of-type {\n",
       "        vertical-align: middle;\n",
       "    }\n",
       "\n",
       "    .dataframe tbody tr th {\n",
       "        vertical-align: top;\n",
       "    }\n",
       "\n",
       "    .dataframe thead th {\n",
       "        text-align: right;\n",
       "    }\n",
       "</style>\n",
       "<table border=\"1\" class=\"dataframe\">\n",
       "  <thead>\n",
       "    <tr style=\"text-align: right;\">\n",
       "      <th></th>\n",
       "      <th>CoinName</th>\n",
       "      <th>Algorithm</th>\n",
       "      <th>ProofType</th>\n",
       "      <th>TotalCoinsMined</th>\n",
       "      <th>TotalCoinSupply</th>\n",
       "    </tr>\n",
       "  </thead>\n",
       "  <tbody>\n",
       "    <tr>\n",
       "      <th>42</th>\n",
       "      <td>42 Coin</td>\n",
       "      <td>Scrypt</td>\n",
       "      <td>PoW/PoS</td>\n",
       "      <td>4.199995e+01</td>\n",
       "      <td>4.200000e+01</td>\n",
       "    </tr>\n",
       "    <tr>\n",
       "      <th>365</th>\n",
       "      <td>365Coin</td>\n",
       "      <td>X11</td>\n",
       "      <td>PoW/PoS</td>\n",
       "      <td>NaN</td>\n",
       "      <td>2.300000e+09</td>\n",
       "    </tr>\n",
       "    <tr>\n",
       "      <th>404</th>\n",
       "      <td>404Coin</td>\n",
       "      <td>Scrypt</td>\n",
       "      <td>PoW/PoS</td>\n",
       "      <td>1.055185e+09</td>\n",
       "      <td>5.320000e+08</td>\n",
       "    </tr>\n",
       "    <tr>\n",
       "      <th>611</th>\n",
       "      <td>SixEleven</td>\n",
       "      <td>SHA-256</td>\n",
       "      <td>PoW</td>\n",
       "      <td>NaN</td>\n",
       "      <td>6.110000e+05</td>\n",
       "    </tr>\n",
       "    <tr>\n",
       "      <th>808</th>\n",
       "      <td>808</td>\n",
       "      <td>SHA-256</td>\n",
       "      <td>PoW/PoS</td>\n",
       "      <td>0.000000e+00</td>\n",
       "      <td>0.000000e+00</td>\n",
       "    </tr>\n",
       "  </tbody>\n",
       "</table>\n",
       "</div>"
      ],
      "text/plain": [
       "      CoinName Algorithm ProofType  TotalCoinsMined  TotalCoinSupply\n",
       "42     42 Coin    Scrypt   PoW/PoS     4.199995e+01     4.200000e+01\n",
       "365    365Coin       X11   PoW/PoS              NaN     2.300000e+09\n",
       "404    404Coin    Scrypt   PoW/PoS     1.055185e+09     5.320000e+08\n",
       "611  SixEleven   SHA-256       PoW              NaN     6.110000e+05\n",
       "808        808   SHA-256   PoW/PoS     0.000000e+00     0.000000e+00"
      ]
     },
     "execution_count": 182,
     "metadata": {},
     "output_type": "execute_result"
    }
   ],
   "source": [
    "# Removing the \"IsTrading\" column\n",
    "crypto_df = crypto_df.drop(\"IsTrading\", 1)\n",
    "crypto_df.head()"
   ]
  },
  {
   "cell_type": "code",
   "execution_count": 183,
   "metadata": {},
   "outputs": [
    {
     "data": {
      "text/html": [
       "<div>\n",
       "<style scoped>\n",
       "    .dataframe tbody tr th:only-of-type {\n",
       "        vertical-align: middle;\n",
       "    }\n",
       "\n",
       "    .dataframe tbody tr th {\n",
       "        vertical-align: top;\n",
       "    }\n",
       "\n",
       "    .dataframe thead th {\n",
       "        text-align: right;\n",
       "    }\n",
       "</style>\n",
       "<table border=\"1\" class=\"dataframe\">\n",
       "  <thead>\n",
       "    <tr style=\"text-align: right;\">\n",
       "      <th></th>\n",
       "      <th>CoinName</th>\n",
       "      <th>Algorithm</th>\n",
       "      <th>ProofType</th>\n",
       "      <th>TotalCoinsMined</th>\n",
       "      <th>TotalCoinSupply</th>\n",
       "    </tr>\n",
       "  </thead>\n",
       "  <tbody>\n",
       "    <tr>\n",
       "      <th>42</th>\n",
       "      <td>42 Coin</td>\n",
       "      <td>Scrypt</td>\n",
       "      <td>PoW/PoS</td>\n",
       "      <td>4.199995e+01</td>\n",
       "      <td>4.200000e+01</td>\n",
       "    </tr>\n",
       "    <tr>\n",
       "      <th>365</th>\n",
       "      <td>365Coin</td>\n",
       "      <td>X11</td>\n",
       "      <td>PoW/PoS</td>\n",
       "      <td>NaN</td>\n",
       "      <td>2.300000e+09</td>\n",
       "    </tr>\n",
       "    <tr>\n",
       "      <th>404</th>\n",
       "      <td>404Coin</td>\n",
       "      <td>Scrypt</td>\n",
       "      <td>PoW/PoS</td>\n",
       "      <td>1.055185e+09</td>\n",
       "      <td>5.320000e+08</td>\n",
       "    </tr>\n",
       "    <tr>\n",
       "      <th>611</th>\n",
       "      <td>SixEleven</td>\n",
       "      <td>SHA-256</td>\n",
       "      <td>PoW</td>\n",
       "      <td>NaN</td>\n",
       "      <td>6.110000e+05</td>\n",
       "    </tr>\n",
       "    <tr>\n",
       "      <th>808</th>\n",
       "      <td>808</td>\n",
       "      <td>SHA-256</td>\n",
       "      <td>PoW/PoS</td>\n",
       "      <td>0.000000e+00</td>\n",
       "      <td>0.000000e+00</td>\n",
       "    </tr>\n",
       "  </tbody>\n",
       "</table>\n",
       "</div>"
      ],
      "text/plain": [
       "      CoinName Algorithm ProofType  TotalCoinsMined  TotalCoinSupply\n",
       "42     42 Coin    Scrypt   PoW/PoS     4.199995e+01     4.200000e+01\n",
       "365    365Coin       X11   PoW/PoS              NaN     2.300000e+09\n",
       "404    404Coin    Scrypt   PoW/PoS     1.055185e+09     5.320000e+08\n",
       "611  SixEleven   SHA-256       PoW              NaN     6.110000e+05\n",
       "808        808   SHA-256   PoW/PoS     0.000000e+00     0.000000e+00"
      ]
     },
     "execution_count": 183,
     "metadata": {},
     "output_type": "execute_result"
    }
   ],
   "source": [
    "# Removing rows with at least 1 null value\n",
    "crypto_df = crypto_df.dropna(thresh=1)\n",
    "crypto_df.head()"
   ]
  },
  {
   "cell_type": "code",
   "execution_count": 184,
   "metadata": {},
   "outputs": [
    {
     "data": {
      "text/html": [
       "<div>\n",
       "<style scoped>\n",
       "    .dataframe tbody tr th:only-of-type {\n",
       "        vertical-align: middle;\n",
       "    }\n",
       "\n",
       "    .dataframe tbody tr th {\n",
       "        vertical-align: top;\n",
       "    }\n",
       "\n",
       "    .dataframe thead th {\n",
       "        text-align: right;\n",
       "    }\n",
       "</style>\n",
       "<table border=\"1\" class=\"dataframe\">\n",
       "  <thead>\n",
       "    <tr style=\"text-align: right;\">\n",
       "      <th></th>\n",
       "      <th>CoinName</th>\n",
       "      <th>Algorithm</th>\n",
       "      <th>ProofType</th>\n",
       "      <th>TotalCoinsMined</th>\n",
       "      <th>TotalCoinSupply</th>\n",
       "    </tr>\n",
       "  </thead>\n",
       "  <tbody>\n",
       "    <tr>\n",
       "      <th>42</th>\n",
       "      <td>42 Coin</td>\n",
       "      <td>Scrypt</td>\n",
       "      <td>PoW/PoS</td>\n",
       "      <td>4.199995e+01</td>\n",
       "      <td>4.200000e+01</td>\n",
       "    </tr>\n",
       "    <tr>\n",
       "      <th>404</th>\n",
       "      <td>404Coin</td>\n",
       "      <td>Scrypt</td>\n",
       "      <td>PoW/PoS</td>\n",
       "      <td>1.055185e+09</td>\n",
       "      <td>5.320000e+08</td>\n",
       "    </tr>\n",
       "    <tr>\n",
       "      <th>1337</th>\n",
       "      <td>EliteCoin</td>\n",
       "      <td>X13</td>\n",
       "      <td>PoW/PoS</td>\n",
       "      <td>2.927942e+10</td>\n",
       "      <td>3.141593e+11</td>\n",
       "    </tr>\n",
       "    <tr>\n",
       "      <th>BTC</th>\n",
       "      <td>Bitcoin</td>\n",
       "      <td>SHA-256</td>\n",
       "      <td>PoW</td>\n",
       "      <td>1.792718e+07</td>\n",
       "      <td>2.100000e+07</td>\n",
       "    </tr>\n",
       "    <tr>\n",
       "      <th>ETH</th>\n",
       "      <td>Ethereum</td>\n",
       "      <td>Ethash</td>\n",
       "      <td>PoW</td>\n",
       "      <td>1.076842e+08</td>\n",
       "      <td>0.000000e+00</td>\n",
       "    </tr>\n",
       "  </tbody>\n",
       "</table>\n",
       "</div>"
      ],
      "text/plain": [
       "       CoinName Algorithm ProofType  TotalCoinsMined  TotalCoinSupply\n",
       "42      42 Coin    Scrypt   PoW/PoS     4.199995e+01     4.200000e+01\n",
       "404     404Coin    Scrypt   PoW/PoS     1.055185e+09     5.320000e+08\n",
       "1337  EliteCoin       X13   PoW/PoS     2.927942e+10     3.141593e+11\n",
       "BTC     Bitcoin   SHA-256       PoW     1.792718e+07     2.100000e+07\n",
       "ETH    Ethereum    Ethash       PoW     1.076842e+08     0.000000e+00"
      ]
     },
     "execution_count": 184,
     "metadata": {},
     "output_type": "execute_result"
    }
   ],
   "source": [
    "# Removing rows with cryptocurrencies having no coins mined\n",
    "crypto_df = crypto_df[crypto_df['TotalCoinsMined'] > 0]\n",
    "crypto_df.head()"
   ]
  },
  {
   "cell_type": "code",
   "execution_count": 185,
   "metadata": {},
   "outputs": [],
   "source": [
    "# Dropping rows where there are 'N/A' text values\n",
    "crypto_df = crypto_df[(crypto_df != 'N/A').all(axis=1)]"
   ]
  },
  {
   "cell_type": "code",
   "execution_count": 186,
   "metadata": {},
   "outputs": [
    {
     "data": {
      "text/html": [
       "<div>\n",
       "<style scoped>\n",
       "    .dataframe tbody tr th:only-of-type {\n",
       "        vertical-align: middle;\n",
       "    }\n",
       "\n",
       "    .dataframe tbody tr th {\n",
       "        vertical-align: top;\n",
       "    }\n",
       "\n",
       "    .dataframe thead th {\n",
       "        text-align: right;\n",
       "    }\n",
       "</style>\n",
       "<table border=\"1\" class=\"dataframe\">\n",
       "  <thead>\n",
       "    <tr style=\"text-align: right;\">\n",
       "      <th></th>\n",
       "      <th>CoinName</th>\n",
       "    </tr>\n",
       "  </thead>\n",
       "  <tbody>\n",
       "    <tr>\n",
       "      <th>42</th>\n",
       "      <td>42 Coin</td>\n",
       "    </tr>\n",
       "    <tr>\n",
       "      <th>404</th>\n",
       "      <td>404Coin</td>\n",
       "    </tr>\n",
       "    <tr>\n",
       "      <th>1337</th>\n",
       "      <td>EliteCoin</td>\n",
       "    </tr>\n",
       "    <tr>\n",
       "      <th>BTC</th>\n",
       "      <td>Bitcoin</td>\n",
       "    </tr>\n",
       "    <tr>\n",
       "      <th>ETH</th>\n",
       "      <td>Ethereum</td>\n",
       "    </tr>\n",
       "  </tbody>\n",
       "</table>\n",
       "</div>"
      ],
      "text/plain": [
       "       CoinName\n",
       "42      42 Coin\n",
       "404     404Coin\n",
       "1337  EliteCoin\n",
       "BTC     Bitcoin\n",
       "ETH    Ethereum"
      ]
     },
     "execution_count": 186,
     "metadata": {},
     "output_type": "execute_result"
    }
   ],
   "source": [
    "# Storing the 'CoinName'column in its own DataFrame prior to dropping it from crypto_df\n",
    "coins_name = crypto_df[[\"CoinName\"]]\n",
    "coins_name.head()"
   ]
  },
  {
   "cell_type": "code",
   "execution_count": 187,
   "metadata": {},
   "outputs": [
    {
     "data": {
      "text/html": [
       "<div>\n",
       "<style scoped>\n",
       "    .dataframe tbody tr th:only-of-type {\n",
       "        vertical-align: middle;\n",
       "    }\n",
       "\n",
       "    .dataframe tbody tr th {\n",
       "        vertical-align: top;\n",
       "    }\n",
       "\n",
       "    .dataframe thead th {\n",
       "        text-align: right;\n",
       "    }\n",
       "</style>\n",
       "<table border=\"1\" class=\"dataframe\">\n",
       "  <thead>\n",
       "    <tr style=\"text-align: right;\">\n",
       "      <th></th>\n",
       "      <th>Algorithm</th>\n",
       "      <th>ProofType</th>\n",
       "      <th>TotalCoinsMined</th>\n",
       "      <th>TotalCoinSupply</th>\n",
       "    </tr>\n",
       "  </thead>\n",
       "  <tbody>\n",
       "    <tr>\n",
       "      <th>42</th>\n",
       "      <td>Scrypt</td>\n",
       "      <td>PoW/PoS</td>\n",
       "      <td>4.199995e+01</td>\n",
       "      <td>4.200000e+01</td>\n",
       "    </tr>\n",
       "    <tr>\n",
       "      <th>404</th>\n",
       "      <td>Scrypt</td>\n",
       "      <td>PoW/PoS</td>\n",
       "      <td>1.055185e+09</td>\n",
       "      <td>5.320000e+08</td>\n",
       "    </tr>\n",
       "    <tr>\n",
       "      <th>1337</th>\n",
       "      <td>X13</td>\n",
       "      <td>PoW/PoS</td>\n",
       "      <td>2.927942e+10</td>\n",
       "      <td>3.141593e+11</td>\n",
       "    </tr>\n",
       "    <tr>\n",
       "      <th>BTC</th>\n",
       "      <td>SHA-256</td>\n",
       "      <td>PoW</td>\n",
       "      <td>1.792718e+07</td>\n",
       "      <td>2.100000e+07</td>\n",
       "    </tr>\n",
       "    <tr>\n",
       "      <th>ETH</th>\n",
       "      <td>Ethash</td>\n",
       "      <td>PoW</td>\n",
       "      <td>1.076842e+08</td>\n",
       "      <td>0.000000e+00</td>\n",
       "    </tr>\n",
       "  </tbody>\n",
       "</table>\n",
       "</div>"
      ],
      "text/plain": [
       "     Algorithm ProofType  TotalCoinsMined  TotalCoinSupply\n",
       "42      Scrypt   PoW/PoS     4.199995e+01     4.200000e+01\n",
       "404     Scrypt   PoW/PoS     1.055185e+09     5.320000e+08\n",
       "1337       X13   PoW/PoS     2.927942e+10     3.141593e+11\n",
       "BTC    SHA-256       PoW     1.792718e+07     2.100000e+07\n",
       "ETH     Ethash       PoW     1.076842e+08     0.000000e+00"
      ]
     },
     "execution_count": 187,
     "metadata": {},
     "output_type": "execute_result"
    }
   ],
   "source": [
    "# Dropping the 'CoinName' column since it's not going to be used on the clustering algorithm\n",
    "crypto_df = crypto_df.drop(\"CoinName\", 1)\n",
    "crypto_df.head()"
   ]
  },
  {
   "cell_type": "code",
   "execution_count": 188,
   "metadata": {},
   "outputs": [
    {
     "data": {
      "text/html": [
       "<div>\n",
       "<style scoped>\n",
       "    .dataframe tbody tr th:only-of-type {\n",
       "        vertical-align: middle;\n",
       "    }\n",
       "\n",
       "    .dataframe tbody tr th {\n",
       "        vertical-align: top;\n",
       "    }\n",
       "\n",
       "    .dataframe thead th {\n",
       "        text-align: right;\n",
       "    }\n",
       "</style>\n",
       "<table border=\"1\" class=\"dataframe\">\n",
       "  <thead>\n",
       "    <tr style=\"text-align: right;\">\n",
       "      <th></th>\n",
       "      <th>TotalCoinsMined</th>\n",
       "      <th>TotalCoinSupply</th>\n",
       "      <th>Algorithm_1GB AES Pattern Search</th>\n",
       "      <th>Algorithm_536</th>\n",
       "      <th>Algorithm_Argon2d</th>\n",
       "      <th>Algorithm_BLAKE256</th>\n",
       "      <th>Algorithm_Blake</th>\n",
       "      <th>Algorithm_Blake2S</th>\n",
       "      <th>Algorithm_Blake2b</th>\n",
       "      <th>Algorithm_C11</th>\n",
       "      <th>...</th>\n",
       "      <th>ProofType_PoW/PoS</th>\n",
       "      <th>ProofType_PoW/PoS</th>\n",
       "      <th>ProofType_PoW/PoW</th>\n",
       "      <th>ProofType_PoW/nPoS</th>\n",
       "      <th>ProofType_Pos</th>\n",
       "      <th>ProofType_Proof of Authority</th>\n",
       "      <th>ProofType_Proof of Trust</th>\n",
       "      <th>ProofType_TPoS</th>\n",
       "      <th>ProofType_Zero-Knowledge Proof</th>\n",
       "      <th>ProofType_dPoW/PoW</th>\n",
       "    </tr>\n",
       "  </thead>\n",
       "  <tbody>\n",
       "    <tr>\n",
       "      <th>42</th>\n",
       "      <td>4.199995e+01</td>\n",
       "      <td>4.200000e+01</td>\n",
       "      <td>0</td>\n",
       "      <td>0</td>\n",
       "      <td>0</td>\n",
       "      <td>0</td>\n",
       "      <td>0</td>\n",
       "      <td>0</td>\n",
       "      <td>0</td>\n",
       "      <td>0</td>\n",
       "      <td>...</td>\n",
       "      <td>1</td>\n",
       "      <td>0</td>\n",
       "      <td>0</td>\n",
       "      <td>0</td>\n",
       "      <td>0</td>\n",
       "      <td>0</td>\n",
       "      <td>0</td>\n",
       "      <td>0</td>\n",
       "      <td>0</td>\n",
       "      <td>0</td>\n",
       "    </tr>\n",
       "    <tr>\n",
       "      <th>404</th>\n",
       "      <td>1.055185e+09</td>\n",
       "      <td>5.320000e+08</td>\n",
       "      <td>0</td>\n",
       "      <td>0</td>\n",
       "      <td>0</td>\n",
       "      <td>0</td>\n",
       "      <td>0</td>\n",
       "      <td>0</td>\n",
       "      <td>0</td>\n",
       "      <td>0</td>\n",
       "      <td>...</td>\n",
       "      <td>1</td>\n",
       "      <td>0</td>\n",
       "      <td>0</td>\n",
       "      <td>0</td>\n",
       "      <td>0</td>\n",
       "      <td>0</td>\n",
       "      <td>0</td>\n",
       "      <td>0</td>\n",
       "      <td>0</td>\n",
       "      <td>0</td>\n",
       "    </tr>\n",
       "    <tr>\n",
       "      <th>1337</th>\n",
       "      <td>2.927942e+10</td>\n",
       "      <td>3.141593e+11</td>\n",
       "      <td>0</td>\n",
       "      <td>0</td>\n",
       "      <td>0</td>\n",
       "      <td>0</td>\n",
       "      <td>0</td>\n",
       "      <td>0</td>\n",
       "      <td>0</td>\n",
       "      <td>0</td>\n",
       "      <td>...</td>\n",
       "      <td>1</td>\n",
       "      <td>0</td>\n",
       "      <td>0</td>\n",
       "      <td>0</td>\n",
       "      <td>0</td>\n",
       "      <td>0</td>\n",
       "      <td>0</td>\n",
       "      <td>0</td>\n",
       "      <td>0</td>\n",
       "      <td>0</td>\n",
       "    </tr>\n",
       "    <tr>\n",
       "      <th>BTC</th>\n",
       "      <td>1.792718e+07</td>\n",
       "      <td>2.100000e+07</td>\n",
       "      <td>0</td>\n",
       "      <td>0</td>\n",
       "      <td>0</td>\n",
       "      <td>0</td>\n",
       "      <td>0</td>\n",
       "      <td>0</td>\n",
       "      <td>0</td>\n",
       "      <td>0</td>\n",
       "      <td>...</td>\n",
       "      <td>0</td>\n",
       "      <td>0</td>\n",
       "      <td>0</td>\n",
       "      <td>0</td>\n",
       "      <td>0</td>\n",
       "      <td>0</td>\n",
       "      <td>0</td>\n",
       "      <td>0</td>\n",
       "      <td>0</td>\n",
       "      <td>0</td>\n",
       "    </tr>\n",
       "    <tr>\n",
       "      <th>ETH</th>\n",
       "      <td>1.076842e+08</td>\n",
       "      <td>0.000000e+00</td>\n",
       "      <td>0</td>\n",
       "      <td>0</td>\n",
       "      <td>0</td>\n",
       "      <td>0</td>\n",
       "      <td>0</td>\n",
       "      <td>0</td>\n",
       "      <td>0</td>\n",
       "      <td>0</td>\n",
       "      <td>...</td>\n",
       "      <td>0</td>\n",
       "      <td>0</td>\n",
       "      <td>0</td>\n",
       "      <td>0</td>\n",
       "      <td>0</td>\n",
       "      <td>0</td>\n",
       "      <td>0</td>\n",
       "      <td>0</td>\n",
       "      <td>0</td>\n",
       "      <td>0</td>\n",
       "    </tr>\n",
       "  </tbody>\n",
       "</table>\n",
       "<p>5 rows × 98 columns</p>\n",
       "</div>"
      ],
      "text/plain": [
       "      TotalCoinsMined  TotalCoinSupply  Algorithm_1GB AES Pattern Search  \\\n",
       "42       4.199995e+01     4.200000e+01                                 0   \n",
       "404      1.055185e+09     5.320000e+08                                 0   \n",
       "1337     2.927942e+10     3.141593e+11                                 0   \n",
       "BTC      1.792718e+07     2.100000e+07                                 0   \n",
       "ETH      1.076842e+08     0.000000e+00                                 0   \n",
       "\n",
       "      Algorithm_536  Algorithm_Argon2d  Algorithm_BLAKE256  Algorithm_Blake  \\\n",
       "42                0                  0                   0                0   \n",
       "404               0                  0                   0                0   \n",
       "1337              0                  0                   0                0   \n",
       "BTC               0                  0                   0                0   \n",
       "ETH               0                  0                   0                0   \n",
       "\n",
       "      Algorithm_Blake2S  Algorithm_Blake2b  Algorithm_C11  ...  \\\n",
       "42                    0                  0              0  ...   \n",
       "404                   0                  0              0  ...   \n",
       "1337                  0                  0              0  ...   \n",
       "BTC                   0                  0              0  ...   \n",
       "ETH                   0                  0              0  ...   \n",
       "\n",
       "      ProofType_PoW/PoS  ProofType_PoW/PoS   ProofType_PoW/PoW  \\\n",
       "42                    1                   0                  0   \n",
       "404                   1                   0                  0   \n",
       "1337                  1                   0                  0   \n",
       "BTC                   0                   0                  0   \n",
       "ETH                   0                   0                  0   \n",
       "\n",
       "      ProofType_PoW/nPoS  ProofType_Pos  ProofType_Proof of Authority  \\\n",
       "42                     0              0                             0   \n",
       "404                    0              0                             0   \n",
       "1337                   0              0                             0   \n",
       "BTC                    0              0                             0   \n",
       "ETH                    0              0                             0   \n",
       "\n",
       "      ProofType_Proof of Trust  ProofType_TPoS  \\\n",
       "42                           0               0   \n",
       "404                          0               0   \n",
       "1337                         0               0   \n",
       "BTC                          0               0   \n",
       "ETH                          0               0   \n",
       "\n",
       "      ProofType_Zero-Knowledge Proof  ProofType_dPoW/PoW  \n",
       "42                                 0                   0  \n",
       "404                                0                   0  \n",
       "1337                               0                   0  \n",
       "BTC                                0                   0  \n",
       "ETH                                0                   0  \n",
       "\n",
       "[5 rows x 98 columns]"
      ]
     },
     "execution_count": 188,
     "metadata": {},
     "output_type": "execute_result"
    }
   ],
   "source": [
    "# Creating dummy variables for text features\n",
    "X = pd.get_dummies(crypto_df)\n",
    "X.head()"
   ]
  },
  {
   "cell_type": "code",
   "execution_count": 189,
   "metadata": {},
   "outputs": [],
   "source": [
    "# Standardizing data\n",
    "from sklearn.preprocessing import StandardScaler\n",
    "\n",
    "X_scaled = StandardScaler().fit_transform(X)"
   ]
  },
  {
   "cell_type": "markdown",
   "metadata": {},
   "source": [
    "### Reducing Dimensions Using PCA"
   ]
  },
  {
   "cell_type": "code",
   "execution_count": 190,
   "metadata": {},
   "outputs": [],
   "source": [
    "# Using PCA to reduce dimensions to 3 principal components\n",
    "pca = PCA(n_components=3)\n",
    "crypto_pca = pca.fit_transform(X_scaled)"
   ]
  },
  {
   "cell_type": "code",
   "execution_count": 191,
   "metadata": {},
   "outputs": [
    {
     "data": {
      "text/html": [
       "<div>\n",
       "<style scoped>\n",
       "    .dataframe tbody tr th:only-of-type {\n",
       "        vertical-align: middle;\n",
       "    }\n",
       "\n",
       "    .dataframe tbody tr th {\n",
       "        vertical-align: top;\n",
       "    }\n",
       "\n",
       "    .dataframe thead th {\n",
       "        text-align: right;\n",
       "    }\n",
       "</style>\n",
       "<table border=\"1\" class=\"dataframe\">\n",
       "  <thead>\n",
       "    <tr style=\"text-align: right;\">\n",
       "      <th></th>\n",
       "      <th>PC 1</th>\n",
       "      <th>PC 2</th>\n",
       "      <th>PC 3</th>\n",
       "    </tr>\n",
       "  </thead>\n",
       "  <tbody>\n",
       "    <tr>\n",
       "      <th>42</th>\n",
       "      <td>-0.250545</td>\n",
       "      <td>1.100141</td>\n",
       "      <td>-0.594805</td>\n",
       "    </tr>\n",
       "    <tr>\n",
       "      <th>404</th>\n",
       "      <td>-0.232411</td>\n",
       "      <td>1.099579</td>\n",
       "      <td>-0.595088</td>\n",
       "    </tr>\n",
       "    <tr>\n",
       "      <th>1337</th>\n",
       "      <td>3.366886</td>\n",
       "      <td>1.733276</td>\n",
       "      <td>-0.700750</td>\n",
       "    </tr>\n",
       "    <tr>\n",
       "      <th>BTC</th>\n",
       "      <td>-0.209801</td>\n",
       "      <td>-1.335192</td>\n",
       "      <td>0.173602</td>\n",
       "    </tr>\n",
       "    <tr>\n",
       "      <th>ETH</th>\n",
       "      <td>-0.236727</td>\n",
       "      <td>-2.082653</td>\n",
       "      <td>0.418035</td>\n",
       "    </tr>\n",
       "    <tr>\n",
       "      <th>LTC</th>\n",
       "      <td>-0.198710</td>\n",
       "      <td>-1.090675</td>\n",
       "      <td>-0.000349</td>\n",
       "    </tr>\n",
       "    <tr>\n",
       "      <th>DASH</th>\n",
       "      <td>-0.322477</td>\n",
       "      <td>1.195642</td>\n",
       "      <td>-0.501852</td>\n",
       "    </tr>\n",
       "    <tr>\n",
       "      <th>XMR</th>\n",
       "      <td>-0.230761</td>\n",
       "      <td>-2.271381</td>\n",
       "      <td>0.439564</td>\n",
       "    </tr>\n",
       "    <tr>\n",
       "      <th>ETC</th>\n",
       "      <td>-0.234533</td>\n",
       "      <td>-2.082726</td>\n",
       "      <td>0.417999</td>\n",
       "    </tr>\n",
       "    <tr>\n",
       "      <th>ZEC</th>\n",
       "      <td>-0.245645</td>\n",
       "      <td>-1.952604</td>\n",
       "      <td>0.334344</td>\n",
       "    </tr>\n",
       "  </tbody>\n",
       "</table>\n",
       "</div>"
      ],
      "text/plain": [
       "          PC 1      PC 2      PC 3\n",
       "42   -0.250545  1.100141 -0.594805\n",
       "404  -0.232411  1.099579 -0.595088\n",
       "1337  3.366886  1.733276 -0.700750\n",
       "BTC  -0.209801 -1.335192  0.173602\n",
       "ETH  -0.236727 -2.082653  0.418035\n",
       "LTC  -0.198710 -1.090675 -0.000349\n",
       "DASH -0.322477  1.195642 -0.501852\n",
       "XMR  -0.230761 -2.271381  0.439564\n",
       "ETC  -0.234533 -2.082726  0.417999\n",
       "ZEC  -0.245645 -1.952604  0.334344"
      ]
     },
     "execution_count": 191,
     "metadata": {},
     "output_type": "execute_result"
    }
   ],
   "source": [
    "# Creating a DataFrame with the principal components data\n",
    "df_crypto_pca = pd.DataFrame(\n",
    "                        data=crypto_pca, \n",
    "                        columns=[\"PC 1\", \"PC 2\", \"PC 3\"],\n",
    "                        index = crypto_df.index\n",
    "                        )\n",
    "df_crypto_pca.head(10)"
   ]
  },
  {
   "cell_type": "markdown",
   "metadata": {},
   "source": [
    "### Clustering Crytocurrencies Using K-Means\n",
    "\n",
    "#### Find the Best Value for `k` Using the Elbow Curve"
   ]
  },
  {
   "cell_type": "code",
   "execution_count": 192,
   "metadata": {},
   "outputs": [
    {
     "data": {
      "application/vnd.holoviews_exec.v0+json": "",
      "text/html": [
       "<div id='2231'>\n",
       "\n",
       "\n",
       "\n",
       "\n",
       "\n",
       "  <div class=\"bk-root\" id=\"4b1e586e-b6f9-4865-96b6-6016571a5291\" data-root-id=\"2231\"></div>\n",
       "</div>\n",
       "<script type=\"application/javascript\">(function(root) {\n",
       "  function embed_document(root) {\n",
       "    var docs_json = {\"fb9ecfaf-d915-4484-a033-35995fb4d546\":{\"roots\":{\"references\":[{\"attributes\":{},\"id\":\"2253\",\"type\":\"SaveTool\"},{\"attributes\":{\"axis_label\":\"inertia\",\"bounds\":\"auto\",\"formatter\":{\"id\":\"2280\"},\"major_label_orientation\":\"horizontal\",\"ticker\":{\"id\":\"2250\"}},\"id\":\"2249\",\"type\":\"LinearAxis\"},{\"attributes\":{\"callback\":null,\"renderers\":[{\"id\":\"2272\"}],\"tags\":[\"hv_created\"],\"tooltips\":[[\"k\",\"@{k}\"],[\"inertia\",\"@{inertia}\"]]},\"id\":\"2235\",\"type\":\"HoverTool\"},{\"attributes\":{\"bottom_units\":\"screen\",\"fill_alpha\":0.5,\"fill_color\":\"lightgrey\",\"left_units\":\"screen\",\"level\":\"overlay\",\"line_alpha\":1.0,\"line_color\":\"black\",\"line_dash\":[4,4],\"line_width\":2,\"right_units\":\"screen\",\"top_units\":\"screen\"},\"id\":\"2258\",\"type\":\"BoxAnnotation\"},{\"attributes\":{},\"id\":\"2255\",\"type\":\"WheelZoomTool\"},{\"attributes\":{\"text\":\"Elbow Curve\",\"text_color\":{\"value\":\"black\"},\"text_font_size\":{\"value\":\"12pt\"}},\"id\":\"2237\",\"type\":\"Title\"},{\"attributes\":{\"axis\":{\"id\":\"2245\"},\"grid_line_color\":null,\"ticker\":null},\"id\":\"2248\",\"type\":\"Grid\"},{\"attributes\":{\"data_source\":{\"id\":\"2266\"},\"glyph\":{\"id\":\"2269\"},\"hover_glyph\":null,\"muted_glyph\":{\"id\":\"2271\"},\"nonselection_glyph\":{\"id\":\"2270\"},\"selection_glyph\":null,\"view\":{\"id\":\"2273\"}},\"id\":\"2272\",\"type\":\"GlyphRenderer\"},{\"attributes\":{},\"id\":\"2280\",\"type\":\"BasicTickFormatter\"},{\"attributes\":{\"line_alpha\":0.1,\"line_color\":\"#1f77b3\",\"line_width\":2,\"x\":{\"field\":\"k\"},\"y\":{\"field\":\"inertia\"}},\"id\":\"2270\",\"type\":\"Line\"},{\"attributes\":{\"margin\":[5,5,5,5],\"name\":\"HSpacer03768\",\"sizing_mode\":\"stretch_width\"},\"id\":\"2232\",\"type\":\"Spacer\"},{\"attributes\":{},\"id\":\"2267\",\"type\":\"Selection\"},{\"attributes\":{},\"id\":\"2257\",\"type\":\"ResetTool\"},{\"attributes\":{},\"id\":\"2250\",\"type\":\"BasicTicker\"},{\"attributes\":{\"below\":[{\"id\":\"2245\"}],\"center\":[{\"id\":\"2248\"},{\"id\":\"2252\"}],\"left\":[{\"id\":\"2249\"}],\"margin\":[5,5,5,5],\"min_border_bottom\":10,\"min_border_left\":10,\"min_border_right\":10,\"min_border_top\":10,\"plot_height\":300,\"plot_width\":700,\"renderers\":[{\"id\":\"2272\"}],\"sizing_mode\":\"fixed\",\"title\":{\"id\":\"2237\"},\"toolbar\":{\"id\":\"2259\"},\"x_range\":{\"id\":\"2233\"},\"x_scale\":{\"id\":\"2241\"},\"y_range\":{\"id\":\"2234\"},\"y_scale\":{\"id\":\"2243\"}},\"id\":\"2236\",\"subtype\":\"Figure\",\"type\":\"Plot\"},{\"attributes\":{},\"id\":\"2241\",\"type\":\"LinearScale\"},{\"attributes\":{\"children\":[{\"id\":\"2232\"},{\"id\":\"2236\"},{\"id\":\"2295\"}],\"margin\":[0,0,0,0],\"name\":\"Row03764\",\"tags\":[\"embedded\"]},\"id\":\"2231\",\"type\":\"Row\"},{\"attributes\":{\"margin\":[5,5,5,5],\"name\":\"HSpacer03769\",\"sizing_mode\":\"stretch_width\"},\"id\":\"2295\",\"type\":\"Spacer\"},{\"attributes\":{\"active_drag\":\"auto\",\"active_inspect\":\"auto\",\"active_multi\":null,\"active_scroll\":\"auto\",\"active_tap\":\"auto\",\"tools\":[{\"id\":\"2235\"},{\"id\":\"2253\"},{\"id\":\"2254\"},{\"id\":\"2255\"},{\"id\":\"2256\"},{\"id\":\"2257\"}]},\"id\":\"2259\",\"type\":\"Toolbar\"},{\"attributes\":{},\"id\":\"2276\",\"type\":\"BasicTickFormatter\"},{\"attributes\":{\"axis_label\":\"k\",\"bounds\":\"auto\",\"formatter\":{\"id\":\"2276\"},\"major_label_orientation\":\"horizontal\",\"ticker\":{\"id\":\"2274\"}},\"id\":\"2245\",\"type\":\"LinearAxis\"},{\"attributes\":{\"ticks\":[1,2,3,4,5,6,7,8,9,10]},\"id\":\"2274\",\"type\":\"FixedTicker\"},{\"attributes\":{\"axis\":{\"id\":\"2249\"},\"dimension\":1,\"grid_line_color\":null,\"ticker\":null},\"id\":\"2252\",\"type\":\"Grid\"},{\"attributes\":{\"end\":4122.199995040908,\"reset_end\":4122.199995040908,\"reset_start\":-276.3029074380063,\"start\":-276.3029074380063,\"tags\":[[[\"inertia\",\"inertia\",null]]]},\"id\":\"2234\",\"type\":\"Range1d\"},{\"attributes\":{\"line_color\":\"#1f77b3\",\"line_width\":2,\"x\":{\"field\":\"k\"},\"y\":{\"field\":\"inertia\"}},\"id\":\"2269\",\"type\":\"Line\"},{\"attributes\":{\"end\":10.0,\"reset_end\":10.0,\"reset_start\":1.0,\"start\":1.0,\"tags\":[[[\"k\",\"k\",null]]]},\"id\":\"2233\",\"type\":\"Range1d\"},{\"attributes\":{\"source\":{\"id\":\"2266\"}},\"id\":\"2273\",\"type\":\"CDSView\"},{\"attributes\":{\"overlay\":{\"id\":\"2258\"}},\"id\":\"2256\",\"type\":\"BoxZoomTool\"},{\"attributes\":{\"data\":{\"inertia\":{\"__ndarray__\":\"db+28FBXrUBltHAKFNSiQPL5cldbNZZAiFPHM4tHfEBZaGlVgSlyQGw9iyzgPWxAg44JbvyQZEBdVc4MBw9gQJZa466IWFlAehhHy0uPVkA=\",\"dtype\":\"float64\",\"order\":\"little\",\"shape\":[10]},\"k\":[1,2,3,4,5,6,7,8,9,10]},\"selected\":{\"id\":\"2267\"},\"selection_policy\":{\"id\":\"2285\"}},\"id\":\"2266\",\"type\":\"ColumnDataSource\"},{\"attributes\":{},\"id\":\"2254\",\"type\":\"PanTool\"},{\"attributes\":{},\"id\":\"2243\",\"type\":\"LinearScale\"},{\"attributes\":{},\"id\":\"2285\",\"type\":\"UnionRenderers\"},{\"attributes\":{\"line_alpha\":0.2,\"line_color\":\"#1f77b3\",\"line_width\":2,\"x\":{\"field\":\"k\"},\"y\":{\"field\":\"inertia\"}},\"id\":\"2271\",\"type\":\"Line\"}],\"root_ids\":[\"2231\"]},\"title\":\"Bokeh Application\",\"version\":\"2.2.3\"}};\n",
       "    var render_items = [{\"docid\":\"fb9ecfaf-d915-4484-a033-35995fb4d546\",\"root_ids\":[\"2231\"],\"roots\":{\"2231\":\"4b1e586e-b6f9-4865-96b6-6016571a5291\"}}];\n",
       "    root.Bokeh.embed.embed_items_notebook(docs_json, render_items);\n",
       "  }\n",
       "  if (root.Bokeh !== undefined && root.Bokeh.Panel !== undefined) {\n",
       "    embed_document(root);\n",
       "  } else {\n",
       "    var attempts = 0;\n",
       "    var timer = setInterval(function(root) {\n",
       "      if (root.Bokeh !== undefined && root.Bokeh.Panel !== undefined) {\n",
       "        clearInterval(timer);\n",
       "        embed_document(root);\n",
       "      } else if (document.readyState == \"complete\") {\n",
       "        attempts++;\n",
       "        if (attempts > 100) {\n",
       "          clearInterval(timer);\n",
       "          console.log(\"Bokeh: ERROR: Unable to run BokehJS code because BokehJS library is missing\");\n",
       "        }\n",
       "      }\n",
       "    }, 10, root)\n",
       "  }\n",
       "})(window);</script>"
      ],
      "text/plain": [
       ":Curve   [k]   (inertia)"
      ]
     },
     "execution_count": 192,
     "metadata": {
      "application/vnd.holoviews_exec.v0+json": {
       "id": "2231"
      }
     },
     "output_type": "execute_result"
    }
   ],
   "source": [
    "# Initializing inertia list and setting a range\n",
    "inertia = []\n",
    "k = list(range(1, 11))\n",
    "\n",
    "# Calculating the inertia for the range of k values\n",
    "for i in k:\n",
    "    km = KMeans(n_clusters=i, random_state=0)\n",
    "    km.fit(df_crypto_pca)\n",
    "    inertia.append(km.inertia_)\n",
    "\n",
    "# Creating the Elbow Curve using hvPlot\n",
    "elbow_data = {\"k\": k, \"inertia\": inertia}\n",
    "df_elbow = pd.DataFrame(elbow_data)\n",
    "df_elbow.hvplot.line(x=\"k\", y=\"inertia\", xticks=k, title=\"Elbow Curve\")"
   ]
  },
  {
   "cell_type": "markdown",
   "metadata": {},
   "source": [
    "Running K-Means with `k=<your best value for k here>`"
   ]
  },
  {
   "cell_type": "code",
   "execution_count": 193,
   "metadata": {},
   "outputs": [
    {
     "data": {
      "text/html": [
       "<div>\n",
       "<style scoped>\n",
       "    .dataframe tbody tr th:only-of-type {\n",
       "        vertical-align: middle;\n",
       "    }\n",
       "\n",
       "    .dataframe tbody tr th {\n",
       "        vertical-align: top;\n",
       "    }\n",
       "\n",
       "    .dataframe thead th {\n",
       "        text-align: right;\n",
       "    }\n",
       "</style>\n",
       "<table border=\"1\" class=\"dataframe\">\n",
       "  <thead>\n",
       "    <tr style=\"text-align: right;\">\n",
       "      <th></th>\n",
       "      <th>Algorithm</th>\n",
       "      <th>ProofType</th>\n",
       "      <th>TotalCoinsMined</th>\n",
       "      <th>TotalCoinSupply</th>\n",
       "      <th>PC 1</th>\n",
       "      <th>PC 2</th>\n",
       "      <th>PC 3</th>\n",
       "      <th>class</th>\n",
       "      <th>CoinName</th>\n",
       "    </tr>\n",
       "  </thead>\n",
       "  <tbody>\n",
       "    <tr>\n",
       "      <th>42</th>\n",
       "      <td>Scrypt</td>\n",
       "      <td>PoW/PoS</td>\n",
       "      <td>4.199995e+01</td>\n",
       "      <td>4.200000e+01</td>\n",
       "      <td>-0.250545</td>\n",
       "      <td>1.100141</td>\n",
       "      <td>-0.594805</td>\n",
       "      <td>0</td>\n",
       "      <td>42 Coin</td>\n",
       "    </tr>\n",
       "    <tr>\n",
       "      <th>404</th>\n",
       "      <td>Scrypt</td>\n",
       "      <td>PoW/PoS</td>\n",
       "      <td>1.055185e+09</td>\n",
       "      <td>5.320000e+08</td>\n",
       "      <td>-0.232411</td>\n",
       "      <td>1.099579</td>\n",
       "      <td>-0.595088</td>\n",
       "      <td>0</td>\n",
       "      <td>404Coin</td>\n",
       "    </tr>\n",
       "    <tr>\n",
       "      <th>1337</th>\n",
       "      <td>X13</td>\n",
       "      <td>PoW/PoS</td>\n",
       "      <td>2.927942e+10</td>\n",
       "      <td>3.141593e+11</td>\n",
       "      <td>3.366886</td>\n",
       "      <td>1.733276</td>\n",
       "      <td>-0.700750</td>\n",
       "      <td>0</td>\n",
       "      <td>EliteCoin</td>\n",
       "    </tr>\n",
       "    <tr>\n",
       "      <th>BTC</th>\n",
       "      <td>SHA-256</td>\n",
       "      <td>PoW</td>\n",
       "      <td>1.792718e+07</td>\n",
       "      <td>2.100000e+07</td>\n",
       "      <td>-0.209801</td>\n",
       "      <td>-1.335192</td>\n",
       "      <td>0.173602</td>\n",
       "      <td>2</td>\n",
       "      <td>Bitcoin</td>\n",
       "    </tr>\n",
       "    <tr>\n",
       "      <th>ETH</th>\n",
       "      <td>Ethash</td>\n",
       "      <td>PoW</td>\n",
       "      <td>1.076842e+08</td>\n",
       "      <td>0.000000e+00</td>\n",
       "      <td>-0.236727</td>\n",
       "      <td>-2.082653</td>\n",
       "      <td>0.418035</td>\n",
       "      <td>2</td>\n",
       "      <td>Ethereum</td>\n",
       "    </tr>\n",
       "  </tbody>\n",
       "</table>\n",
       "</div>"
      ],
      "text/plain": [
       "     Algorithm ProofType  TotalCoinsMined  TotalCoinSupply      PC 1  \\\n",
       "42      Scrypt   PoW/PoS     4.199995e+01     4.200000e+01 -0.250545   \n",
       "404     Scrypt   PoW/PoS     1.055185e+09     5.320000e+08 -0.232411   \n",
       "1337       X13   PoW/PoS     2.927942e+10     3.141593e+11  3.366886   \n",
       "BTC    SHA-256       PoW     1.792718e+07     2.100000e+07 -0.209801   \n",
       "ETH     Ethash       PoW     1.076842e+08     0.000000e+00 -0.236727   \n",
       "\n",
       "          PC 2      PC 3  class   CoinName  \n",
       "42    1.100141 -0.594805      0    42 Coin  \n",
       "404   1.099579 -0.595088      0    404Coin  \n",
       "1337  1.733276 -0.700750      0  EliteCoin  \n",
       "BTC  -1.335192  0.173602      2    Bitcoin  \n",
       "ETH  -2.082653  0.418035      2   Ethereum  "
      ]
     },
     "execution_count": 193,
     "metadata": {},
     "output_type": "execute_result"
    }
   ],
   "source": [
    "# Initializing the K-Means model\n",
    "model = KMeans(n_clusters=4, random_state=0)\n",
    "# Fitting the model\n",
    "model.fit(df_crypto_pca)\n",
    "# Predicting clusters\n",
    "predictions = model.predict(df_crypto_pca)\n",
    "# Creating a new DataFrame including predicted clusters and cryptocurrencies features\n",
    "df_crypto_pca[\"class\"] = model.labels_\n",
    "clustered_df = crypto_df.join(df_crypto_pca)\n",
    "clustered_df[\"CoinName\"] = coins_name\n",
    "clustered_df.head()"
   ]
  },
  {
   "cell_type": "markdown",
   "metadata": {},
   "source": [
    "### Visualizing Results\n",
    "\n",
    "#### 3D-Scatter with Clusters"
   ]
  },
  {
   "cell_type": "code",
   "execution_count": 194,
   "metadata": {},
   "outputs": [
    {
     "data": {
      "application/vnd.plotly.v1+json": {
       "config": {
        "plotlyServerURL": "https://plot.ly"
       },
       "data": [
        {
         "customdata": [
          [
           "Scrypt"
          ],
          [
           "Scrypt"
          ],
          [
           "X13"
          ],
          [
           "SHA-256"
          ],
          [
           "Ethash"
          ],
          [
           "Scrypt"
          ],
          [
           "X11"
          ],
          [
           "CryptoNight-V7"
          ],
          [
           "Ethash"
          ],
          [
           "Equihash"
          ],
          [
           "SHA-512"
          ],
          [
           "Multiple"
          ],
          [
           "SHA-256"
          ],
          [
           "SHA-256"
          ],
          [
           "Scrypt"
          ],
          [
           "X15"
          ],
          [
           "X11"
          ],
          [
           "Scrypt"
          ],
          [
           "Scrypt"
          ],
          [
           "Scrypt"
          ],
          [
           "Multiple"
          ],
          [
           "Scrypt"
          ],
          [
           "SHA-256"
          ],
          [
           "Scrypt"
          ],
          [
           "Scrypt"
          ],
          [
           "Scrypt"
          ],
          [
           "Quark"
          ],
          [
           "Groestl"
          ],
          [
           "Scrypt"
          ],
          [
           "Scrypt"
          ],
          [
           "Scrypt"
          ],
          [
           "Scrypt"
          ],
          [
           "Scrypt"
          ],
          [
           "X11"
          ],
          [
           "Scrypt"
          ],
          [
           "Groestl"
          ],
          [
           "Multiple"
          ],
          [
           "SHA-256"
          ],
          [
           "Scrypt"
          ],
          [
           "Scrypt"
          ],
          [
           "Scrypt"
          ],
          [
           "Scrypt"
          ],
          [
           "PoS"
          ],
          [
           "Scrypt"
          ],
          [
           "Scrypt"
          ],
          [
           "NeoScrypt"
          ],
          [
           "Scrypt"
          ],
          [
           "Scrypt"
          ],
          [
           "Scrypt"
          ],
          [
           "Scrypt"
          ],
          [
           "X11"
          ],
          [
           "Scrypt"
          ],
          [
           "X11"
          ],
          [
           "SHA-256"
          ],
          [
           "Scrypt"
          ],
          [
           "Scrypt"
          ],
          [
           "Scrypt"
          ],
          [
           "SHA3"
          ],
          [
           "Scrypt"
          ],
          [
           "HybridScryptHash256"
          ],
          [
           "Scrypt"
          ],
          [
           "Scrypt"
          ],
          [
           "SHA-256"
          ],
          [
           "Scrypt"
          ],
          [
           "X13"
          ],
          [
           "Scrypt"
          ],
          [
           "SHA-256"
          ],
          [
           "Scrypt"
          ],
          [
           "X13"
          ],
          [
           "NeoScrypt"
          ],
          [
           "Scrypt"
          ],
          [
           "Scrypt"
          ],
          [
           "Scrypt"
          ],
          [
           "Scrypt"
          ],
          [
           "Scrypt"
          ],
          [
           "Scrypt"
          ],
          [
           "X11"
          ],
          [
           "X11"
          ],
          [
           "SHA-256"
          ],
          [
           "Multiple"
          ],
          [
           "SHA-256"
          ],
          [
           "PHI1612"
          ],
          [
           "X11"
          ],
          [
           "SHA-256"
          ],
          [
           "SHA-256"
          ],
          [
           "SHA-256"
          ],
          [
           "X11"
          ],
          [
           "Scrypt"
          ],
          [
           "Scrypt"
          ],
          [
           "Scrypt"
          ],
          [
           "Scrypt"
          ],
          [
           "Lyra2REv2"
          ],
          [
           "Scrypt"
          ],
          [
           "X11"
          ],
          [
           "Multiple"
          ],
          [
           "SHA-256"
          ],
          [
           "X13"
          ],
          [
           "Scrypt"
          ],
          [
           "CryptoNight"
          ],
          [
           "CryptoNight"
          ],
          [
           "Shabal256"
          ],
          [
           "Counterparty"
          ],
          [
           "Scrypt"
          ],
          [
           "SHA-256"
          ],
          [
           "Groestl"
          ],
          [
           "Scrypt"
          ],
          [
           "Scrypt"
          ],
          [
           "Scrypt"
          ],
          [
           "X13"
          ],
          [
           "Scrypt"
          ],
          [
           "Scrypt"
          ],
          [
           "Scrypt"
          ],
          [
           "Scrypt"
          ],
          [
           "X13"
          ],
          [
           "Scrypt"
          ],
          [
           "Stanford Folding"
          ],
          [
           "X11"
          ],
          [
           "Multiple"
          ],
          [
           "QuBit"
          ],
          [
           "Scrypt"
          ],
          [
           "Scrypt"
          ],
          [
           "Scrypt"
          ],
          [
           "M7 POW"
          ],
          [
           "Scrypt"
          ],
          [
           "SHA-256"
          ],
          [
           "Scrypt"
          ],
          [
           "X11"
          ],
          [
           "SHA3"
          ],
          [
           "X11"
          ],
          [
           "Lyra2RE"
          ],
          [
           "SHA-256"
          ],
          [
           "QUAIT"
          ],
          [
           "X11"
          ],
          [
           "X11"
          ],
          [
           "Scrypt"
          ],
          [
           "Scrypt"
          ],
          [
           "Scrypt"
          ],
          [
           "Ethash"
          ],
          [
           "X13"
          ],
          [
           "Blake2b"
          ],
          [
           "SHA-256"
          ],
          [
           "X15"
          ],
          [
           "X11"
          ],
          [
           "SHA-256"
          ],
          [
           "BLAKE256"
          ],
          [
           "Scrypt"
          ],
          [
           "1GB AES Pattern Search"
          ],
          [
           "SHA-256"
          ],
          [
           "X11"
          ],
          [
           "Scrypt"
          ],
          [
           "SHA-256"
          ],
          [
           "SHA-256"
          ],
          [
           "NIST5"
          ],
          [
           "Scrypt"
          ],
          [
           "Scrypt"
          ],
          [
           "X11"
          ],
          [
           "Dagger"
          ],
          [
           "Scrypt"
          ],
          [
           "X11GOST"
          ],
          [
           "X11"
          ],
          [
           "Scrypt"
          ],
          [
           "SHA-256"
          ],
          [
           "Scrypt"
          ],
          [
           "PoS"
          ],
          [
           "Scrypt"
          ],
          [
           "X11"
          ],
          [
           "X11"
          ],
          [
           "SHA-256"
          ],
          [
           "SHA-256"
          ],
          [
           "NIST5"
          ],
          [
           "X11"
          ],
          [
           "Scrypt"
          ],
          [
           "POS 3.0"
          ],
          [
           "Scrypt"
          ],
          [
           "Scrypt"
          ],
          [
           "Scrypt"
          ],
          [
           "X13"
          ],
          [
           "X11"
          ],
          [
           "X11"
          ],
          [
           "Equihash"
          ],
          [
           "X11"
          ],
          [
           "Scrypt"
          ],
          [
           "CryptoNight"
          ],
          [
           "SHA-256"
          ],
          [
           "SHA-256"
          ],
          [
           "X11"
          ],
          [
           "Scrypt"
          ],
          [
           "Multiple"
          ],
          [
           "Scrypt"
          ],
          [
           "Scrypt"
          ],
          [
           "Scrypt"
          ],
          [
           "SHA-256"
          ],
          [
           "Scrypt"
          ],
          [
           "Scrypt"
          ],
          [
           "SHA-256D"
          ],
          [
           "PoS"
          ],
          [
           "Scrypt"
          ],
          [
           "X11"
          ],
          [
           "Lyra2Z"
          ],
          [
           "PoS"
          ],
          [
           "X13"
          ],
          [
           "X14"
          ],
          [
           "PoS"
          ],
          [
           "SHA-256D"
          ],
          [
           "Ethash"
          ],
          [
           "Equihash"
          ],
          [
           "DPoS"
          ],
          [
           "X11"
          ],
          [
           "Scrypt"
          ],
          [
           "X11"
          ],
          [
           "X13"
          ],
          [
           "X11"
          ],
          [
           "PoS"
          ],
          [
           "Scrypt"
          ],
          [
           "Scrypt"
          ],
          [
           "X11"
          ],
          [
           "PoS"
          ],
          [
           "X11"
          ],
          [
           "SHA-256"
          ],
          [
           "Scrypt"
          ],
          [
           "X11"
          ],
          [
           "Scrypt"
          ],
          [
           "Scrypt"
          ],
          [
           "X11"
          ],
          [
           "CryptoNight"
          ],
          [
           "Scrypt"
          ],
          [
           "Scrypt"
          ],
          [
           "Scrypt"
          ],
          [
           "Scrypt"
          ],
          [
           "Quark"
          ],
          [
           "QuBit"
          ],
          [
           "Scrypt"
          ],
          [
           "CryptoNight"
          ],
          [
           "Lyra2RE"
          ],
          [
           "Scrypt"
          ],
          [
           "SHA-256"
          ],
          [
           "X11"
          ],
          [
           "Scrypt"
          ],
          [
           "X11"
          ],
          [
           "Scrypt"
          ],
          [
           "CryptoNight-V7"
          ],
          [
           "Scrypt"
          ],
          [
           "Scrypt"
          ],
          [
           "Scrypt"
          ],
          [
           "X13"
          ],
          [
           "X11"
          ],
          [
           "Equihash"
          ],
          [
           "Scrypt"
          ],
          [
           "Scrypt"
          ],
          [
           "Lyra2RE"
          ],
          [
           "Scrypt"
          ],
          [
           "Dagger-Hashimoto"
          ],
          [
           "X11"
          ],
          [
           "Blake2S"
          ],
          [
           "X11"
          ],
          [
           "Scrypt"
          ],
          [
           "PoS"
          ],
          [
           "X11"
          ],
          [
           "NIST5"
          ],
          [
           "PoS"
          ],
          [
           "X11"
          ],
          [
           "Scrypt"
          ],
          [
           "Scrypt"
          ],
          [
           "Scrypt"
          ],
          [
           "SHA-256"
          ],
          [
           "X11"
          ],
          [
           "Scrypt"
          ],
          [
           "Scrypt"
          ],
          [
           "SHA-256"
          ],
          [
           "PoS"
          ],
          [
           "Scrypt"
          ],
          [
           "X15"
          ],
          [
           "SHA-256"
          ],
          [
           "Scrypt"
          ],
          [
           "POS 3.0"
          ],
          [
           "CryptoNight-V7"
          ],
          [
           "536"
          ],
          [
           "Argon2d"
          ],
          [
           "Blake2b"
          ],
          [
           "Cloverhash"
          ],
          [
           "CryptoNight"
          ],
          [
           "NIST5"
          ],
          [
           "X11"
          ],
          [
           "NIST5"
          ],
          [
           "Skein"
          ],
          [
           "Scrypt"
          ],
          [
           "X13"
          ],
          [
           "Scrypt"
          ],
          [
           "X11"
          ],
          [
           "X11"
          ],
          [
           "Scrypt"
          ],
          [
           "CryptoNight"
          ],
          [
           "X13"
          ],
          [
           "Time Travel"
          ],
          [
           "Scrypt"
          ],
          [
           "Keccak"
          ],
          [
           "SkunkHash v2 Raptor"
          ],
          [
           "X11"
          ],
          [
           "Skein"
          ],
          [
           "SHA-256"
          ],
          [
           "X11"
          ],
          [
           "Scrypt"
          ],
          [
           "VeChainThor Authority"
          ],
          [
           "Scrypt"
          ],
          [
           "PoS"
          ],
          [
           "Scrypt"
          ],
          [
           "Scrypt"
          ],
          [
           "Scrypt"
          ],
          [
           "Scrypt"
          ],
          [
           "Scrypt"
          ],
          [
           "Scrypt"
          ],
          [
           "Scrypt"
          ],
          [
           "CryptoNight"
          ],
          [
           "SHA-512"
          ],
          [
           "Ouroboros"
          ],
          [
           "X11"
          ],
          [
           "Equihash"
          ],
          [
           "NeoScrypt"
          ],
          [
           "X11"
          ],
          [
           "Scrypt"
          ],
          [
           "NeoScrypt"
          ],
          [
           "Lyra2REv2"
          ],
          [
           "Equihash"
          ],
          [
           "Scrypt"
          ],
          [
           "SHA-256"
          ],
          [
           "NIST5"
          ],
          [
           "PHI1612"
          ],
          [
           "Dagger"
          ],
          [
           "Scrypt"
          ],
          [
           "Quark"
          ],
          [
           "Scrypt"
          ],
          [
           "POS 2.0"
          ],
          [
           "Scrypt"
          ],
          [
           "SHA-256"
          ],
          [
           "X11"
          ],
          [
           "NeoScrypt"
          ],
          [
           "Ethash"
          ],
          [
           "NeoScrypt"
          ],
          [
           "X11"
          ],
          [
           "DPoS"
          ],
          [
           "NIST5"
          ],
          [
           "X13"
          ],
          [
           "Multiple"
          ],
          [
           "Scrypt"
          ],
          [
           "CryptoNight"
          ],
          [
           "CryptoNight"
          ],
          [
           "Ethash"
          ],
          [
           "NIST5"
          ],
          [
           "Quark"
          ],
          [
           "X11"
          ],
          [
           "CryptoNight-V7"
          ],
          [
           "Scrypt"
          ],
          [
           "Scrypt"
          ],
          [
           "Scrypt"
          ],
          [
           "X11"
          ],
          [
           "BLAKE256"
          ],
          [
           "X11"
          ],
          [
           "NeoScrypt"
          ],
          [
           "Quark"
          ],
          [
           "NeoScrypt"
          ],
          [
           "Scrypt"
          ],
          [
           "Scrypt"
          ],
          [
           "Scrypt"
          ],
          [
           "X11"
          ],
          [
           "X11"
          ],
          [
           "SHA-256"
          ],
          [
           "C11"
          ],
          [
           "POS 3.0"
          ],
          [
           "Ethash"
          ],
          [
           "Scrypt"
          ],
          [
           "CryptoNight"
          ],
          [
           "SkunkHash"
          ],
          [
           "Scrypt"
          ],
          [
           "CryptoNight"
          ],
          [
           "Scrypt"
          ],
          [
           "Dagger"
          ],
          [
           "Lyra2REv2"
          ],
          [
           "X13"
          ],
          [
           "Proof-of-BibleHash"
          ],
          [
           "SHA-256 + Hive"
          ],
          [
           "Scrypt"
          ],
          [
           "Scrypt"
          ],
          [
           "X11"
          ],
          [
           "C11"
          ],
          [
           "Proof-of-Authority"
          ],
          [
           "X11"
          ],
          [
           "XEVAN"
          ],
          [
           "Scrypt"
          ],
          [
           "VBFT"
          ],
          [
           "Ethash"
          ],
          [
           "CryptoNight"
          ],
          [
           "Scrypt"
          ],
          [
           "IMesh"
          ],
          [
           "NIST5"
          ],
          [
           "Scrypt"
          ],
          [
           "Scrypt"
          ],
          [
           "Equihash"
          ],
          [
           "Scrypt"
          ],
          [
           "Lyra2Z"
          ],
          [
           "Green Protocol"
          ],
          [
           "PoS"
          ],
          [
           "Scrypt"
          ],
          [
           "Semux BFT consensus"
          ],
          [
           "X11"
          ],
          [
           "Quark"
          ],
          [
           "PoS"
          ],
          [
           "CryptoNight"
          ],
          [
           "X16R"
          ],
          [
           "Scrypt"
          ],
          [
           "NIST5"
          ],
          [
           "Lyra2RE"
          ],
          [
           "XEVAN"
          ],
          [
           "Tribus"
          ],
          [
           "Scrypt"
          ],
          [
           "Lyra2Z"
          ],
          [
           "CryptoNight"
          ],
          [
           "CryptoNight Heavy"
          ],
          [
           "CryptoNight"
          ],
          [
           "Scrypt"
          ],
          [
           "Scrypt"
          ],
          [
           "Jump Consistent Hash"
          ],
          [
           "SHA-256D"
          ],
          [
           "CryptoNight"
          ],
          [
           "Scrypt"
          ],
          [
           "X15"
          ],
          [
           "Scrypt"
          ],
          [
           "Quark"
          ],
          [
           "SHA-256"
          ],
          [
           "DPoS"
          ],
          [
           "X16R"
          ],
          [
           "HMQ1725"
          ],
          [
           "X11"
          ],
          [
           "X16R"
          ],
          [
           "Quark"
          ],
          [
           "Quark"
          ],
          [
           "Scrypt"
          ],
          [
           "Lyra2REv2"
          ],
          [
           "Quark"
          ],
          [
           "Scrypt"
          ],
          [
           "Scrypt"
          ],
          [
           "CryptoNight-V7"
          ],
          [
           "Cryptonight-GPU"
          ],
          [
           "XEVAN"
          ],
          [
           "CryptoNight Heavy"
          ],
          [
           "X11"
          ],
          [
           "X11"
          ],
          [
           "Scrypt"
          ],
          [
           "PoS"
          ],
          [
           "SHA-256"
          ],
          [
           "Keccak"
          ],
          [
           "X11"
          ],
          [
           "X11"
          ],
          [
           "Scrypt"
          ],
          [
           "SHA-512"
          ],
          [
           "X16R"
          ],
          [
           "ECC 256K1"
          ],
          [
           "Equihash"
          ],
          [
           "XEVAN"
          ],
          [
           "Lyra2Z"
          ],
          [
           "SHA-256"
          ],
          [
           "XEVAN"
          ],
          [
           "X11"
          ],
          [
           "CryptoNight"
          ],
          [
           "Quark"
          ],
          [
           "Blake"
          ],
          [
           "Blake"
          ],
          [
           "Equihash"
          ],
          [
           "Exosis"
          ],
          [
           "Scrypt"
          ],
          [
           "Scrypt"
          ],
          [
           "Equihash"
          ],
          [
           "Quark"
          ],
          [
           "Equihash"
          ],
          [
           "Quark"
          ],
          [
           "Scrypt"
          ],
          [
           "QuBit"
          ],
          [
           "X11"
          ],
          [
           "Scrypt"
          ],
          [
           "XEVAN"
          ],
          [
           "SHA-256D"
          ],
          [
           "X11"
          ],
          [
           "SHA-256"
          ],
          [
           "X13"
          ],
          [
           "SHA-256"
          ],
          [
           "X11"
          ],
          [
           "DPoS"
          ],
          [
           "Scrypt"
          ],
          [
           "Scrypt"
          ],
          [
           "X11"
          ],
          [
           "NeoScrypt"
          ],
          [
           "Scrypt"
          ],
          [
           "Blake"
          ],
          [
           "Scrypt"
          ],
          [
           "SHA-256"
          ],
          [
           "Scrypt"
          ],
          [
           "X11"
          ],
          [
           "Scrypt"
          ],
          [
           "Scrypt"
          ],
          [
           "SHA-256"
          ],
          [
           "X11"
          ],
          [
           "SHA-256"
          ],
          [
           "Scrypt"
          ],
          [
           "Scrypt"
          ],
          [
           "Scrypt"
          ],
          [
           "Groestl"
          ],
          [
           "X11"
          ],
          [
           "Scrypt"
          ],
          [
           "PoS"
          ],
          [
           "Scrypt"
          ],
          [
           "Scrypt"
          ],
          [
           "X11"
          ],
          [
           "SHA-256"
          ],
          [
           "DPoS"
          ],
          [
           "Scrypt"
          ],
          [
           "Scrypt"
          ],
          [
           "NeoScrypt"
          ],
          [
           "Multiple"
          ],
          [
           "X13"
          ],
          [
           "Equihash+Scrypt"
          ],
          [
           "DPoS"
          ],
          [
           "Ethash"
          ],
          [
           "DPoS"
          ],
          [
           "SHA-256"
          ],
          [
           "Leased POS"
          ],
          [
           "PoS"
          ],
          [
           "TRC10"
          ],
          [
           "PoS"
          ],
          [
           "SHA-256"
          ],
          [
           "Scrypt"
          ],
          [
           "CryptoNight"
          ],
          [
           "Equihash"
          ],
          [
           "Scrypt"
          ]
         ],
         "hovertemplate": "<b>%{hovertext}</b><br><br>PC 1=%{x}<br>PC 2=%{y}<br>PC 3=%{z}<br>Algorithm=%{customdata[0]}<br>class=%{marker.color}<extra></extra>",
         "hovertext": [
          "42 Coin",
          "404Coin",
          "EliteCoin",
          "Bitcoin",
          "Ethereum",
          "Litecoin",
          "Dash",
          "Monero",
          "Ethereum Classic",
          "ZCash",
          "Bitshares",
          "DigiByte",
          "BitcoinDark",
          "PayCoin",
          "ProsperCoin",
          "KoboCoin",
          "Spreadcoin",
          "Argentum",
          "Aurora Coin",
          "BlueCoin",
          "MyriadCoin",
          "MoonCoin",
          "ZetaCoin",
          "SexCoin",
          "Quatloo",
          "EnergyCoin",
          "QuarkCoin",
          "Riecoin",
          "Digitalcoin ",
          "BitBar",
          "Catcoin",
          "CryptoBullion",
          "CannaCoin",
          "CryptCoin",
          "CasinoCoin",
          "Diamond",
          "Verge",
          "DevCoin",
          "EarthCoin",
          "E-Gulden",
          "Einsteinium",
          "Emerald",
          "Exclusive Coin",
          "FlutterCoin",
          "Franko",
          "FeatherCoin",
          "GrandCoin",
          "GlobalCoin",
          "GoldCoin",
          "HoboNickels",
          "HyperStake",
          "Infinite Coin",
          "IOCoin",
          "IXcoin",
          "KrugerCoin",
          "LuckyCoin",
          "Litebar ",
          "MaxCoin",
          "MegaCoin",
          "MediterraneanCoin",
          "MintCoin",
          "MinCoin",
          "MazaCoin",
          "Nautilus Coin",
          "NavCoin",
          "NobleCoin",
          "Namecoin",
          "NyanCoin",
          "OpalCoin",
          "Orbitcoin",
          "PotCoin",
          "PhoenixCoin",
          "Reddcoin",
          "RonPaulCoin",
          "StableCoin",
          "SmartCoin",
          "SuperCoin",
          "SyncCoin",
          "SysCoin",
          "TeslaCoin",
          "TigerCoin",
          "TittieCoin",
          "TorCoin",
          "TerraCoin",
          "UnbreakableCoin",
          "Unobtanium",
          "UroCoin",
          "UnitaryStatus Dollar",
          "UltraCoin",
          "ViaCoin",
          "VeriCoin",
          "Vertcoin",
          "WorldCoin",
          "X11 Coin",
          "Crypti",
          "JouleCoin",
          "StealthCoin",
          "ZCC Coin",
          "ByteCoin",
          "DigitalNote ",
          "BurstCoin",
          "StorjCoin",
          "MonaCoin",
          "Neutron",
          "FairCoin",
          "Gulden",
          "RubyCoin",
          "PesetaCoin",
          "Kore",
          "Wild Beast Coin",
          "Dnotes",
          "Flo",
          "8BIT Coin",
          "Sativa Coin",
          "ArtByte",
          "Folding Coin",
          "Ucoin",
          "Unitus",
          "CypherPunkCoin",
          "OmniCron",
          "Vtorrent",
          "GreenCoin",
          "Cryptonite",
          "MasterCoin",
          "SoonCoin",
          "1Credit",
          "IslaCoin",
          "Nexus",
          "MarsCoin ",
          "Crypto",
          "Anarchists Prime",
          "Droidz",
          "BowsCoin",
          "Squall Coin",
          "Song Coin",
          "BitZeny",
          "Diggits",
          "Expanse",
          "Paycon",
          "Siacoin",
          "Emercoin",
          "EverGreenCoin",
          "MindCoin",
          "I0coin",
          "Decred",
          "Revolution VR",
          "HOdlcoin",
          "EDRCoin",
          "Hitcoin",
          "Gamecredits",
          "DubaiCoin",
          "CarpeDiemCoin",
          "PWR Coin",
          "BillaryCoin",
          "GPU Coin",
          "Adzcoin",
          "SoilCoin",
          "YoCoin",
          "SibCoin",
          "EuropeCoin",
          "ZeitCoin",
          "SwingCoin",
          "SafeExchangeCoin",
          "Nebuchadnezzar",
          "Francs",
          "BolivarCoin",
          "Ratecoin",
          "Revenu",
          "Clockcoin",
          "VIP Tokens",
          "BitSend",
          "Omni",
          "Let it Ride",
          "PutinCoin",
          "iBankCoin",
          "Frankywillcoin",
          "MudraCoin",
          "PizzaCoin",
          "Lutetium Coin",
          "Komodo",
          "GoldBlocks",
          "CarterCoin",
          "Karbo",
          "BitTokens",
          "ZayedCoin",
          "MustangCoin",
          "ZoneCoin",
          "Circuits of Value",
          "RootCoin",
          "DopeCoin",
          "BitCurrency",
          "DollarCoin",
          "Swiscoin",
          "Shilling",
          "BuzzCoin",
          "Opair",
          "PesoBit",
          "Halloween Coin",
          "ZCoin",
          "CoffeeCoin",
          "RoyalCoin",
          "GanjaCoin V2",
          "TeamUP",
          "LanaCoin",
          "Elementrem",
          "ZClassic",
          "ARK",
          "InsaneCoin",
          "KiloCoin",
          "ArtexCoin",
          "EmberCoin",
          "XenixCoin",
          "FreeCoin",
          "PLNCoin",
          "AquariusCoin",
          "Kurrent",
          "Creatio",
          "Eternity",
          "Eurocoin",
          "BitcoinFast",
          "Stakenet",
          "BitConnect Coin",
          "MoneyCoin",
          "Enigma",
          "Cannabis Industry Coin",
          "Russiacoin",
          "PandaCoin",
          "GameUnits",
          "GAKHcoin",
          "Allsafe",
          "LiteCreed",
          "OsmiumCoin",
          "Bikercoins",
          "HexxCoin",
          "Klingon Empire Darsek",
          "Internet of People",
          "KushCoin",
          "Printerium",
          "PacCoin",
          "Impeach",
          "Citadel",
          "Zilbercoin",
          "FirstCoin",
          "BeaverCoin",
          "FindCoin",
          "VaultCoin",
          "Zero",
          "OpenChat",
          "Canada eCoin",
          "Zoin",
          "RenosCoin",
          "DubaiCoin",
          "VirtacoinPlus",
          "TajCoin",
          "Impact",
          "EB3coin",
          "Atmos",
          "HappyCoin",
          "Coinonat",
          "MacronCoin",
          "Condensate",
          "Independent Money System",
          "ArgusCoin",
          "LomoCoin",
          "ProCurrency",
          "GoldReserve",
          "BenjiRolls",
          "GrowthCoin",
          "ILCoin",
          "Phreak",
          "Degas Coin",
          "HTML5 Coin",
          "Ultimate Secure Cash",
          "EquiTrader",
          "QTUM",
          "Quantum Resistant Ledger",
          "Espers",
          "Dynamic",
          "Nano",
          "ChanCoin",
          "Dinastycoin",
          "Denarius",
          "DigitalPrice",
          "Virta Unique Coin",
          "Bitcoin Planet",
          "Unify",
          "BritCoin",
          "SocialCoin",
          "ArcticCoin",
          "DAS",
          "Linda",
          "LeviarCoin",
          "DeepOnion",
          "Bitcore",
          "gCn Coin",
          "SmartCash",
          "Signatum",
          "Onix",
          "Cream",
          "Bitcoin Cash",
          "Monoeci",
          "Draftcoin",
          "Vechain",
          "Sojourn Coin",
          "Stakecoin",
          "NewYorkCoin",
          "FrazCoin",
          "Kronecoin",
          "AdCoin",
          "Linx",
          "CoinonatX",
          "Ethereum Dark",
          "Sumokoin",
          "Obsidian",
          "Cardano",
          "Regalcoin",
          "BitcoinZ",
          "TrezarCoin",
          "Elements",
          "TerraNovaCoin",
          "VIVO Coin",
          "Rupee",
          "Bitcoin Gold",
          "WomenCoin",
          "Theresa May Coin",
          "NamoCoin",
          "LUXCoin",
          "Pirl",
          "Xios",
          "Bitcloud 2.0",
          "eBoost",
          "KekCoin",
          "BlackholeCoin",
          "Infinity Economics",
          "Pura",
          "Innova",
          "Ellaism",
          "GoByte",
          "Magnet",
          "Lamden Tau",
          "Electra",
          "Bitcoin Diamond",
          "SHIELD",
          "Cash & Back Coin",
          "UltraNote",
          "BitCoal",
          "DaxxCoin",
          "Bulwark",
          "Kalkulus",
          "AC3",
          "Lethean",
          "GermanCoin",
          "LiteCoin Ultra",
          "PopularCoin",
          "PhantomX",
          "Photon",
          "Sucre",
          "SparksPay",
          "Digiwage",
          "GunCoin",
          "IrishCoin",
          "Trollcoin",
          "Litecoin Plus",
          "Monkey Project",
          "Pioneer Coin",
          "UnitedBitcoin",
          "Interzone",
          "TokenPay",
          "1717 Masonic Commemorative Token",
          "My Big Coin",
          "TurtleCoin",
          "MUNcoin",
          "Unified Society USDEX",
          "Niobio Cash",
          "ShareChain",
          "Travelflex",
          "KREDS",
          "Tokyo Coin",
          "BiblePay",
          "LitecoinCash",
          "BitFlip",
          "LottoCoin",
          "Crypto Improvement Fund",
          "Stipend",
          "Poa Network",
          "Pushi",
          "Ellerium",
          "Velox",
          "Ontology",
          "Callisto Network",
          "BitTube",
          "Poseidon",
          "Aidos Kuneen",
          "Bitspace",
          "Briacoin",
          "Ignition",
          "Bitrolium",
          "MedicCoin",
          "Alpenschillling",
          "Bitcoin Green",
          "Deviant Coin",
          "Abjcoin",
          "Semux",
          "FuturoCoin",
          "Carebit",
          "Zealium",
          "Monero Classic",
          "Proton",
          "iDealCash",
          "Jumpcoin",
          "Infinex",
          "Bitcoin Incognito",
          "KEYCO",
          "HollyWoodCoin",
          "GINcoin",
          "PlatinCoin",
          "Loki",
          "Newton Coin",
          "Swisscoin",
          "Xt3ch",
          "MassGrid",
          "TheVig",
          "PluraCoin",
          "EmaratCoin",
          "Dekado",
          "Lynx",
          "Poseidon Quark",
          "BitcoinWSpectrum",
          "Muse",
          "Motion",
          "PlusOneCoin",
          "Axe",
          "Trivechain",
          "Dystem",
          "Giant",
          "Peony Coin",
          "Absolute Coin",
          "Vitae",
          "HexCoin",
          "TPCash",
          "Webchain",
          "Ryo",
          "Urals Coin",
          "Qwertycoin",
          "ARENON",
          "EUNO",
          "MMOCoin",
          "Ketan",
          "Project Pai",
          "XDNA",
          "PAXEX",
          "Azart",
          "ThunderStake",
          "Kcash",
          "Xchange",
          "Acute Angle Cloud",
          "CrypticCoin",
          "Bettex coin",
          "Actinium",
          "Bitcoin SV",
          "BitMoney",
          "Junson Ming Chan Coin",
          "FREDEnergy",
          "HerbCoin",
          "Universal Molecule",
          "Lithium",
          "PirateCash",
          "Exosis",
          "Block-Logic",
          "Oduwa",
          "Beam",
          "Galilel",
          "Bithereum",
          "Crypto Sports",
          "Credit",
          "SLICE",
          "Dash Platinum",
          "Nasdacoin",
          "Beetle Coin",
          "Titan Coin",
          "Award",
          "BLAST",
          "Bitcoin Rhodium",
          "GlobalToken",
          "Insane Coin",
          "ALAX",
          "LiteDoge",
          "SolarCoin",
          "TruckCoin",
          "UFO Coin",
          "OrangeCoin",
          "BlakeCoin",
          "BitstarCoin",
          "NeosCoin",
          "HyperCoin",
          "PinkCoin",
          "Crypto Escudo",
          "AudioCoin",
          "IncaKoin",
          "Piggy Coin",
          "Crown Coin",
          "Genstake",
          "SmileyCoin",
          "XiaoMiCoin",
          "Groestlcoin",
          "CapriCoin",
          " ClubCoin",
          "Radium",
          "Bata",
          "Pakcoin",
          "Creditbit ",
          "OKCash",
          "Lisk",
          "HiCoin",
          "WhiteCoin",
          "FriendshipCoin",
          "JoinCoin",
          "Triangles Coin",
          "Vollar",
          "EOS",
          "Reality Clash",
          "Oxycoin",
          "TigerCash",
          "Waves",
          "Particl",
          "BitTorrent",
          "Nxt",
          "ZEPHYR",
          "Gapcoin",
          "Beldex",
          "Horizen",
          "BitcoinPlus"
         ],
         "legendgroup": "",
         "marker": {
          "color": [
           0,
           0,
           0,
           2,
           2,
           2,
           0,
           2,
           2,
           2,
           0,
           2,
           0,
           0,
           2,
           0,
           2,
           2,
           0,
           0,
           2,
           2,
           2,
           2,
           2,
           0,
           2,
           2,
           2,
           0,
           2,
           0,
           2,
           2,
           0,
           0,
           2,
           2,
           2,
           2,
           2,
           2,
           0,
           0,
           2,
           2,
           2,
           2,
           2,
           0,
           0,
           2,
           0,
           2,
           2,
           2,
           2,
           0,
           2,
           2,
           0,
           2,
           0,
           0,
           0,
           2,
           2,
           2,
           0,
           0,
           0,
           0,
           0,
           2,
           2,
           2,
           0,
           0,
           2,
           0,
           2,
           0,
           0,
           2,
           2,
           2,
           2,
           0,
           0,
           2,
           0,
           2,
           2,
           0,
           0,
           2,
           0,
           0,
           2,
           2,
           0,
           0,
           2,
           0,
           0,
           2,
           0,
           2,
           0,
           2,
           0,
           2,
           0,
           0,
           2,
           2,
           0,
           2,
           2,
           2,
           0,
           2,
           2,
           2,
           2,
           2,
           0,
           0,
           2,
           2,
           2,
           0,
           2,
           0,
           2,
           2,
           0,
           2,
           0,
           2,
           0,
           0,
           2,
           2,
           0,
           2,
           2,
           0,
           0,
           2,
           0,
           2,
           0,
           0,
           0,
           2,
           2,
           2,
           2,
           0,
           0,
           0,
           0,
           0,
           2,
           2,
           0,
           0,
           0,
           0,
           0,
           2,
           0,
           0,
           0,
           0,
           0,
           2,
           0,
           2,
           0,
           0,
           2,
           0,
           2,
           0,
           0,
           2,
           0,
           2,
           0,
           2,
           0,
           2,
           0,
           0,
           0,
           0,
           2,
           0,
           0,
           0,
           0,
           0,
           2,
           2,
           0,
           0,
           2,
           2,
           0,
           0,
           0,
           0,
           0,
           2,
           0,
           0,
           0,
           0,
           0,
           0,
           0,
           0,
           2,
           0,
           0,
           0,
           0,
           0,
           0,
           2,
           2,
           2,
           0,
           0,
           0,
           0,
           2,
           0,
           2,
           0,
           0,
           2,
           0,
           2,
           2,
           0,
           2,
           2,
           0,
           2,
           0,
           0,
           0,
           2,
           0,
           0,
           2,
           0,
           0,
           0,
           0,
           0,
           0,
           0,
           2,
           0,
           2,
           0,
           0,
           0,
           0,
           2,
           0,
           2,
           0,
           2,
           2,
           2,
           2,
           0,
           2,
           0,
           0,
           2,
           0,
           2,
           2,
           2,
           0,
           2,
           0,
           2,
           2,
           2,
           0,
           2,
           0,
           2,
           0,
           0,
           0,
           2,
           0,
           2,
           2,
           2,
           2,
           2,
           0,
           0,
           2,
           0,
           0,
           0,
           2,
           0,
           2,
           0,
           2,
           0,
           2,
           0,
           0,
           0,
           0,
           2,
           0,
           0,
           2,
           0,
           0,
           0,
           2,
           2,
           2,
           2,
           0,
           0,
           0,
           0,
           2,
           0,
           2,
           2,
           2,
           0,
           0,
           2,
           2,
           0,
           0,
           2,
           0,
           2,
           2,
           2,
           0,
           2,
           2,
           0,
           0,
           0,
           2,
           2,
           2,
           0,
           2,
           0,
           2,
           2,
           0,
           2,
           2,
           2,
           2,
           0,
           3,
           3,
           2,
           2,
           2,
           0,
           3,
           0,
           0,
           0,
           0,
           2,
           2,
           2,
           2,
           0,
           0,
           0,
           2,
           0,
           2,
           0,
           0,
           0,
           0,
           2,
           0,
           0,
           2,
           0,
           0,
           2,
           2,
           0,
           2,
           0,
           2,
           2,
           2,
           2,
           0,
           0,
           2,
           0,
           2,
           0,
           0,
           0,
           0,
           0,
           0,
           2,
           2,
           2,
           0,
           0,
           0,
           0,
           0,
           0,
           2,
           0,
           2,
           2,
           2,
           2,
           0,
           0,
           0,
           0,
           2,
           0,
           0,
           2,
           0,
           0,
           2,
           3,
           2,
           0,
           2,
           2,
           0,
           0,
           2,
           0,
           2,
           2,
           0,
           2,
           2,
           0,
           2,
           0,
           2,
           0,
           0,
           2,
           0,
           0,
           0,
           0,
           0,
           2,
           2,
           2,
           0,
           0,
           0,
           2,
           0,
           2,
           0,
           2,
           0,
           0,
           0,
           0,
           2,
           0,
           0,
           0,
           2,
           0,
           2,
           0,
           2,
           0,
           0,
           0,
           2,
           2,
           0,
           0,
           0,
           0,
           0,
           0,
           2,
           0,
           2,
           0,
           2,
           0,
           0,
           3,
           0,
           1,
           0,
           0,
           0,
           2,
           2,
           0
          ],
          "coloraxis": "coloraxis",
          "symbol": "circle"
         },
         "mode": "markers",
         "name": "",
         "scene": "scene",
         "showlegend": false,
         "type": "scatter3d",
         "x": [
          -0.2505447839939197,
          -0.23241091364484373,
          3.3668862191348516,
          -0.20980124597001518,
          -0.23672748783660177,
          -0.19871011360989702,
          -0.32247666691222326,
          -0.2307605899261521,
          -0.23453304764083538,
          -0.24564537638406408,
          -0.192401056413375,
          -0.08359885915122076,
          -0.26021484771619197,
          -0.24496305144288574,
          -0.20003979997652485,
          -0.1283046833445981,
          -0.2722486117862643,
          -0.1995267273489364,
          -0.2501559320797971,
          -0.24286784221868682,
          -0.18288698336619505,
          3.6869853800711194,
          -0.2064552053220125,
          -0.1962334643651862,
          -0.200223060373784,
          -0.24905798835854298,
          -0.2668962960543757,
          -0.24695014386779762,
          -0.19943043859488638,
          -0.25053920889970566,
          -0.20002226175025528,
          -0.25052210752958726,
          -0.20013222833324276,
          -0.2723431932684792,
          0.8331192048385174,
          -0.29853756320841446,
          0.13651366607750903,
          0.01871384294373954,
          0.0878325460195604,
          -0.1998568582231569,
          -0.19464289506702442,
          -0.1997625827407307,
          -0.2903423768524306,
          -0.2286563089655033,
          -0.20019452918027583,
          -0.24758011049583512,
          -0.17525930560267403,
          -0.19882002172109212,
          -0.19908741667763674,
          -0.24945617359697703,
          -0.2873106521938072,
          1.8113819332973218,
          -0.32237252804394484,
          -0.2097630418221684,
          -0.19580543945821627,
          -0.199886120616294,
          -0.20029506899566427,
          -0.32469607983208115,
          -0.19943596578996747,
          -0.25684000790816314,
          0.021938698163326324,
          -0.2001507214700627,
          -0.21646535685746549,
          -0.23496689595605483,
          -0.16635385999079308,
          -0.1707238714349381,
          -0.20983979566395983,
          -0.19286673458894768,
          -0.16696918514725673,
          -0.3036481954663768,
          -0.2436027433585889,
          -0.24865916467813123,
          0.10363441671313564,
          -0.20009615044134732,
          -0.1974987200978762,
          -0.1994945563957889,
          -0.3069772444587532,
          -0.3228084654537138,
          -0.19443501223903284,
          -0.25755449649088985,
          -0.20922851624684696,
          -0.24753668216303043,
          -0.32268995876892387,
          -0.20952815147874101,
          -0.2093930427678296,
          -0.21022546406734677,
          -0.27257119618926773,
          -0.23716643812207988,
          -0.24992773958268963,
          -0.19980954403333395,
          -0.23656915936906583,
          -0.25836377028582785,
          -0.19619012643211572,
          -0.3226688349970543,
          -0.2573261343408378,
          -0.2093013307887972,
          -0.16675247297550194,
          -0.24865559286387912,
          4.091283416747386,
          0.08451493300477861,
          0.05167247589437408,
          -0.2981832746659476,
          -0.19843402579457192,
          -0.25929209921742513,
          -0.2979791593021471,
          -0.17830084828421336,
          -0.234997737332239,
          -0.1969762849479324,
          -0.16700638541866963,
          -0.20029327592796312,
          -0.22815456549645366,
          -0.19847227983005414,
          -0.25052705104641154,
          -0.16696532527133146,
          -0.19064572092840062,
          -0.23190106665647953,
          -0.30735491338409615,
          -0.2227435296299189,
          -0.23987182067471366,
          -0.2001654408127004,
          -0.2502021172900607,
          -0.1436094278463063,
          -0.1928701299156898,
          -0.20030832217731345,
          -0.20986726658343624,
          0.7310130663268624,
          -0.3227902018180494,
          -0.3519925840563647,
          -0.27186242850331194,
          -0.24330325161050498,
          -0.20950802926519815,
          -0.3188897458137486,
          -0.27218153463743805,
          -0.3058309564634898,
          -0.19780033553194568,
          -0.1968777336640657,
          -0.23410788566549345,
          -0.23773053982509496,
          -0.16636774686299627,
          0.2658969440027428,
          -0.25983166602287244,
          -0.1317267063265892,
          -0.2722321040151414,
          -0.20976415178531108,
          0.029312915125321245,
          -0.19565906854271,
          -0.23033523264168412,
          -0.2601860834624131,
          0.07881558608609703,
          -0.19862799664911057,
          -0.2602848692634193,
          0.27135048662230166,
          -0.15626990873988716,
          -0.25001089138180865,
          -0.23259938269858194,
          -0.27119042866179427,
          -0.25469271679621336,
          -0.1986101347828538,
          -0.25073425051899423,
          -0.318795445782623,
          1.213542278768725,
          -0.2599953195192864,
          -0.007388501998929095,
          -0.2899669007264881,
          -0.20004022771062055,
          -0.2721677392459472,
          -0.32042360995630564,
          -0.2581839967595101,
          -0.25493713773631,
          -0.27600574565857827,
          -0.321106722546833,
          -0.20030838945787227,
          -0.29849725376131714,
          -0.22047492872137248,
          -0.2500413046110784,
          -0.24932650089316163,
          -0.14984863583558136,
          -0.2723160550697717,
          -0.2930013177696587,
          -0.32453280091730485,
          -0.3221142933536044,
          -0.24911218857535267,
          0.00025566621639456664,
          -0.26023334869862935,
          -0.21005642713331932,
          -0.32277017490268367,
          -0.25030100344963,
          -0.21134736271067553,
          -0.2505213479473444,
          -0.1968857599806931,
          -0.2332771456404879,
          -0.21001270487088589,
          -0.22470972943625103,
          -0.1998840438506081,
          0.19335503478834695,
          -0.28876743282304734,
          -0.25013977368869017,
          -0.31950951635530656,
          -0.22683797150937568,
          -0.28820933166766183,
          -0.15187816841215185,
          -0.3131011956165666,
          -0.2871486363373736,
          -0.15658107553420758,
          -0.2374465975625634,
          -0.24566675486558176,
          3.2481436392511096,
          -0.3222831832188745,
          -0.1969381627061072,
          -0.25756893888941285,
          0.9552899971538491,
          -0.3227229274277778,
          -0.289300756580386,
          -0.24994816707897768,
          -0.2500900158384575,
          -0.2695363079952498,
          -0.2899669007264881,
          -0.3221277689014167,
          -0.26010065369240487,
          -0.24996613907654006,
          -0.34204400378187344,
          -0.2501274624762797,
          -0.24382616385758613,
          -0.32274803127848467,
          0.0002843313740629421,
          -0.24898582644975814,
          0.5023458846550983,
          -0.2503712241515247,
          -0.2504711584787855,
          -0.30725776618076406,
          -0.28900816685813624,
          -0.20028379904288224,
          0.0004260552679375426,
          -0.24401138315442386,
          -0.245193646436863,
          -0.26021002334777227,
          -0.3226454264237306,
          -0.2501994955085551,
          -0.2559749788153597,
          -0.25031902618864377,
          -0.2289630890378798,
          -0.23473408401394183,
          -0.23010159329907465,
          -0.20025042629805664,
          -0.15161116168478278,
          -0.2721174442765046,
          -0.24569144365256487,
          -0.2383619445929286,
          -0.1991056854114673,
          -0.2436986322703443,
          -0.23454211786250584,
          -0.22590103003046025,
          -0.3226393394209533,
          -0.3063668371567017,
          -0.32146177358078865,
          -0.15905490816121629,
          -0.287951809521037,
          -0.32253835441636397,
          -0.22709157205443564,
          -0.28151190206564464,
          -0.3162769772074694,
          -0.2502651850994796,
          -0.2502413879057299,
          -0.2504375121573217,
          0.5152199775887198,
          -0.3221961040244322,
          -0.1997175296872823,
          -0.21151406557560462,
          -0.1690019217266492,
          -0.2899696886793939,
          -0.24922380107197928,
          1.270157644392701,
          -0.24308406122345977,
          -0.1994280106757351,
          -0.29808432376607663,
          -0.22907140564974868,
          0.8628461844811124,
          -0.23884720883012858,
          -0.12892911333249393,
          -0.25240248899017487,
          0.04216759306323479,
          -0.2777734194622638,
          -0.2721511239049425,
          -0.2771544837344014,
          -0.3224147061007783,
          -0.1999078565706438,
          -0.16659164975205554,
          -0.19950040279412593,
          -0.2716637569984246,
          -0.2723627653405417,
          0.36489235352521837,
          0.000777676651433475,
          -0.16669619550989653,
          -0.22399661742019364,
          3.7942850532284087,
          -0.14547417872120086,
          -0.3000501501868398,
          -0.27100484777313594,
          -0.3219250694367493,
          -0.20980041941104713,
          -0.3225603889169964,
          -0.23492448379254433,
          4.44325981871015,
          -0.09402265213422392,
          -0.2897390818402351,
          1.5274285003481265,
          -0.2000023732003587,
          -0.19926085969443386,
          -0.19991752934970541,
          -0.19990460450624237,
          -0.2498202507990315,
          -0.2504515247460666,
          0.001067856320492668,
          -0.2607457257100047,
          0.8669488971075437,
          -0.3224474219941285,
          -0.18085734598413483,
          -0.2974694259193177,
          -0.2398297068029824,
          -0.2503717313924212,
          -0.25317890488642475,
          -0.29430355649841367,
          -0.24552674338854721,
          0.5880034955479004,
          -0.25933088465303433,
          -0.2710513111760749,
          -0.3049312237332035,
          -0.25307236145037254,
          -0.2503062261114588,
          -0.32035961674091246,
          -0.19910391433010585,
          -0.293223184636318,
          -0.250197394442239,
          -0.045391270627662836,
          -0.26692577427194275,
          -0.2529699955551458,
          -0.23503987399185552,
          -0.25311018148438574,
          -0.32088924903773136,
          3.254113180146759,
          0.36887825742729535,
          -0.16280904092905024,
          -0.21102881330885698,
          -0.24707813328362022,
          1.0934870442602949,
          0.00024083387664115371,
          -0.23072295630405296,
          -0.26226581023692264,
          -0.30712936889826453,
          -0.26604767540142243,
          -0.21551944710283805,
          0.3149538629053099,
          -0.2504329418084795,
          -0.10181216808499437,
          -0.3217565528086792,
          1.3538171214274688,
          -0.2723342495339944,
          -0.2531951662312223,
          -0.3071967385005818,
          -0.24481892307208883,
          -0.19912468459979682,
          -0.23429340269692064,
          -0.2504740339187471,
          -0.3073240407501181,
          -0.2722505197799927,
          -0.20978264010904402,
          -0.25994007862466084,
          -0.2988025089950814,
          -0.27299665046896293,
          -0.2180810389032772,
          0.7433065695211539,
          -0.2535424634383991,
          -0.24535888272817163,
          0.0050794403306994775,
          -0.0784936742295013,
          -0.25375851757339046,
          -0.25195305764433384,
          -0.14105274455697403,
          -0.12268102213007341,
          -0.2949207851495129,
          -0.19976678079941532,
          0.16109015745184743,
          -0.2649713688675527,
          -0.31020786811228845,
          -0.364856439359743,
          -0.32252921904639303,
          -0.20411434869567172,
          -0.23376196644799338,
          -0.29854013652487027,
          -0.16923615249853946,
          0.0011282803176596028,
          -0.20006031572972852,
          -0.23232235067628043,
          -0.27725230914602816,
          -0.2505041986721323,
          -0.25047988662839477,
          -0.2443764500215991,
          -0.22703518560506764,
          -0.2237787687405867,
          -0.29510551619671804,
          -0.2892558511769585,
          -0.2501217166713352,
          3.417117630407151,
          -0.27219144643975857,
          -0.3190423825882235,
          -0.289467334221236,
          0.0004397029764821744,
          -0.28618500904357275,
          -0.18172978489667024,
          -0.22723520235332942,
          -0.2438076560811599,
          -0.1874089133190136,
          -0.23198020115620638,
          -0.23459532607664196,
          -0.22695534441618892,
          0.006134868307011034,
          0.5654900551384758,
          2.361632301571225,
          -0.02405577525180121,
          -0.23478856638074858,
          -0.23749973590444295,
          -0.24522835971295814,
          0.006927897777423405,
          -0.24943348165744877,
          -0.1156608123187461,
          2.572174807812764,
          -0.3009237911640725,
          -0.2435210904611056,
          0.8027275995106375,
          -0.25136801557179833,
          -0.2365785034161609,
          -0.272312871467878,
          -0.30063064732976286,
          -0.3072385319234532,
          -0.3226316394247995,
          -0.06443402356728486,
          -0.30936253975813965,
          -0.3067285254622309,
          -0.20008118607600503,
          -0.2503782663360493,
          -0.21306457965715495,
          -0.22101893697647268,
          -0.15220007013363895,
          3.6354362771744406,
          -0.30680029208916343,
          -0.3219305652787855,
          -0.23139217775999998,
          -0.2881724388074178,
          -0.18464645750351,
          -0.26962632207915815,
          -0.3075253280885538,
          -0.2722721026089563,
          -0.23672651518788762,
          -0.2312625472745287,
          -0.2515617015118423,
          -0.3338353970614718,
          -0.11784391070483827,
          -0.18892002818273276,
          -0.22613096550059852,
          -0.20980045656199262,
          0.9202624682033549,
          -0.09966631603056542,
          0.10441238019643927,
          -0.32178202035722436,
          -0.22589288652551703,
          -0.22652925515311104,
          -0.27972550841769545,
          -0.24748603042996667,
          -0.19988565823463153,
          -0.25015366123556293,
          -0.2428556240238927,
          -0.32234192509586673,
          -0.24533063569288927,
          -0.3073779642942555,
          0.8790944692888637,
          -0.2397824360209952,
          -0.30738180128110754,
          -0.24944620131327666,
          -0.19726171500618436,
          -0.18419458653203646,
          -0.3183704460316852,
          -0.20895074397373098,
          -0.1168941933159803,
          -0.20750746285475194,
          -0.32221754206073633,
          3.2577538248184625,
          0.28884388698101754,
          -0.18971990630559019,
          -0.3198778044572908,
          -0.16680143032655817,
          -0.24847741116518135,
          -0.15583154203127134,
          -0.24974694197126798,
          -0.24496886166696275,
          -0.25042842454008474,
          -0.3124750379449156,
          -0.19079464547803632,
          -0.1324023953313852,
          -0.04370227413096335,
          -0.31673603566516634,
          -0.20952752887618484,
          -0.2496680404768838,
          0.6632599204889429,
          -0.24161071301141984,
          -0.2464506231486732,
          -0.3182700599812717,
          -0.24928274280375182,
          -0.2902737212608472,
          -0.20021041858103383,
          -0.1976377555021652,
          -0.3452227842044003,
          -0.2584879869612746,
          3.24863980954723,
          -0.01318572002867629,
          -0.24446319344279585,
          -0.3031026401339605,
          -0.22346159102969587,
          -0.1671493828001279,
          -0.2349073627449978,
          3.2579008037353256,
          -0.2374847364232266,
          3.2591311676723778,
          -0.23305167400388932,
          -0.35864336006234737,
          -0.29021143649566655,
          36.645143701201704,
          -0.25859443325845166,
          2.242421350086459,
          -0.24783359474897385,
          0.02607732081639818,
          -0.24564642166971773,
          -0.23531449610583807
         ],
         "y": [
          1.1001414392386528,
          1.099578913470427,
          1.7332760042090234,
          -1.335191683443152,
          -2.0826530646667973,
          -1.0906746346915488,
          1.195641620978907,
          -2.2713805238150924,
          -2.082725897073232,
          -1.9526037101561513,
          1.6230016200103976,
          -1.8053319008069055,
          0.8555788924373348,
          0.5828363229654114,
          -1.0906326027845106,
          1.8675672369450236,
          -0.9951233443351911,
          -1.0906494320780722,
          1.1001292015705568,
          1.0999106557950777,
          -1.802405613328138,
          -1.2200334314861776,
          -1.3352971348198668,
          -1.0907545127987932,
          -1.090626439974956,
          1.100096743340445,
          -0.45921913640414247,
          -1.2614276382209928,
          -1.0906518092028938,
          1.1001412553007557,
          -1.0906331300168894,
          1.1001407248597495,
          -1.0906295673265727,
          -0.9951204356708587,
          0.5239269666658795,
          0.9293808597245445,
          -1.8124831000110349,
          -1.3420674578980187,
          -1.0997271222176497,
          -1.090638102360944,
          -1.0908039556838653,
          -1.0906412959706786,
          1.4788199341946036,
          0.43627247930667346,
          -1.0906276322108486,
          -1.5786811766163378,
          -1.091423294519586,
          -1.090670873087197,
          -1.0906629080826844,
          1.1001086808619889,
          0.922300800825858,
          -1.1540601255535297,
          1.1956384903668118,
          -1.3351928319323603,
          -1.090767884033573,
          -1.0906371899951455,
          -1.0906242866980158,
          1.6759135454257772,
          -1.0906514415233628,
          -2.137060147909934,
          0.819665686433311,
          -1.090628908764079,
          0.8541853527026876,
          0.8273882275387118,
          1.84975948336913,
          -1.0915164771883263,
          -1.3351905245661542,
          -1.0908585664830783,
          1.8497779812115684,
          0.6122702746227427,
          1.099919021582905,
          1.1000815510384232,
          1.0894941400340477,
          -1.0906309087825532,
          -1.0907164768092965,
          -1.0906499808593906,
          0.9228920159276727,
          1.195652314459812,
          -1.3356819575073122,
          0.1168750645790282,
          -1.3352097509274385,
          1.6775835978718308,
          1.1956484251295165,
          -1.3352005795188233,
          -1.3352058830859397,
          -1.3351782524756226,
          -0.9951129931815084,
          1.0997389339363992,
          1.100122857030819,
          -1.0906395900807273,
          0.40964698958765894,
          -1.2705874028591762,
          -1.0907563196127839,
          1.1956479371809974,
          0.11686823226194089,
          -1.3352074962275091,
          1.8497714664322429,
          1.1000843197408603,
          -2.4173332188536945,
          -2.290856524616527,
          0.9764275617531747,
          1.5023282187034899,
          -1.090683624674153,
          0.855549649461177,
          0.9293642161931991,
          -1.0913403375512247,
          0.8273896834951855,
          -1.090729449470166,
          1.8497787073299057,
          -1.0906243823695307,
          0.8271676234055664,
          -1.0906790717620738,
          1.100140906153956,
          1.8497775383493293,
          -1.0909146471262354,
          -2.135858067272444,
          0.9229027157185176,
          -1.8011420844690742,
          -1.6129695302305949,
          -1.0906282496300623,
          1.10013048437425,
          -1.0923315888411718,
          -2.3293356730002417,
          -1.0906238644067792,
          -1.335189698738159,
          -1.1216279420460442,
          1.1956517654529313,
          1.3019579370955399,
          -0.995135378613024,
          -2.172540688628308,
          -1.3352015687793655,
          2.043221911402089,
          -0.9951253934843394,
          0.6762884661616764,
          -1.090706110212399,
          -1.090735144840481,
          0.8273629001819367,
          -2.082623463566441,
          1.8497582666996715,
          -2.295924875676358,
          0.8555677654605864,
          1.8676806889094635,
          -0.9951237098593162,
          -1.335192798564761,
          0.9465823286770825,
          -1.090770472919584,
          -2.2501398034884508,
          0.8555780277292557,
          1.1827110072010565,
          -1.0906771032832896,
          0.8555813732690817,
          -1.3503621369952863,
          1.636274828378661,
          1.100124016740904,
          0.8273103598037136,
          -0.9951572470220021,
          -2.182536525644421,
          -1.0906803970734742,
          -2.1265025701799143,
          1.1955191253438462,
          0.7806082327619763,
          0.8555717047142744,
          0.5504313466821746,
          1.4788079930153102,
          -1.0906325572433078,
          -0.9951259389308154,
          1.1955781700056327,
          0.8555112809661037,
          0.8554037950551255,
          1.639871373519507,
          1.19559661397398,
          -1.0906238622851692,
          1.428025857379423,
          1.099172116892838,
          1.1001248547606859,
          1.1001047826543204,
          1.5769723864488632,
          -0.9951214802755636,
          0.9224504005006209,
          -0.9602323105926784,
          1.195629812226031,
          1.1000954312585012,
          -2.2883205896416934,
          0.8555794812946965,
          -1.335183644074917,
          1.1956510653577215,
          1.1001334243972447,
          -1.8014850017100865,
          1.1001407347079695,
          -1.090733269418963,
          0.827337959242274,
          -1.3351849879386737,
          0.424843364764379,
          -1.0906375792537053,
          1.9791758057197812,
          1.4787701698668454,
          1.1001292638613105,
          1.195552814992282,
          -2.3163741175594663,
          1.4787545035017926,
          1.5770398528813117,
          2.028612452139395,
          1.4787140867972761,
          1.9901038872772723,
          -2.082632303331042,
          -1.9526030674784154,
          1.3873208255576108,
          1.1956355430301107,
          -1.0907284258231429,
          -0.9955803308707426,
          1.8160129592096121,
          1.1956496171198963,
          1.4787869869764385,
          1.1001222442114302,
          1.1001263953722942,
          -0.9952116793390781,
          1.4788079930153102,
          1.1956298904995417,
          0.855575524913583,
          1.1001229655459792,
          0.29295906535719407,
          1.1001279786471785,
          1.0999181994402278,
          1.1956503343129286,
          -2.2883218108805,
          1.1000898677070812,
          0.8041610589166124,
          1.1001357968264949,
          1.1001391175483062,
          1.4589724863801585,
          0.5777601050579072,
          -1.0906246700827489,
          -2.2883262021006385,
          -2.1725175775109866,
          1.09996423253355,
          0.855578780090365,
          1.195647107515699,
          1.1001304055585208,
          -0.9956445896888271,
          1.1001339356911508,
          -2.2714406064047163,
          0.827379960027152,
          0.34619494100975823,
          -1.0906256944344979,
          1.577031433151548,
          -0.9951269606525247,
          -1.9526021945557894,
          1.0997748731306616,
          -1.090660030387734,
          -2.172527338906117,
          0.8273748615603076,
          -2.2297488582820524,
          1.1956471975601488,
          1.9900364844636176,
          1.1956117976953062,
          -1.091994730924387,
          1.478744464625562,
          1.195644161759184,
          -0.5508527949494335,
          1.4785414002756547,
          1.1954396242033287,
          1.100132340696948,
          1.1001313838522606,
          1.1001378876179135,
          0.557532983585671,
          1.1956325984371596,
          -1.0906427654071928,
          0.8266183543287934,
          -1.336499209013436,
          1.4788077499994274,
          1.1000982963014934,
          1.8225967998826051,
          0.5827737061931367,
          -1.0906526611503211,
          1.4280145061076719,
          -2.271434735585394,
          2.0150447964670133,
          -2.2913586444000673,
          -2.284066776137273,
          -2.096692902188482,
          -2.289645580316322,
          1.6399271277664156,
          -0.9951256540346144,
          1.6399088155276818,
          2.146163430734208,
          -1.0906365129349591,
          1.8497656512996912,
          -1.090650582953913,
          -0.9951422334886607,
          -0.9951198767116473,
          1.0800060952360024,
          -2.2883377203054205,
          1.8497691569809076,
          -2.3722227159070486,
          -1.2172454458336996,
          -1.233487223683955,
          1.4510330110611327,
          -0.9951604074157541,
          2.1461487113264797,
          -1.3351917082910751,
          1.1956445461174867,
          0.8273869124831154,
          2.8695842051253333,
          -1.0941621615848651,
          1.4787997847477161,
          -1.142562893268721,
          -1.0906336952217555,
          -1.090658078218615,
          -1.0906356248176112,
          -1.0906360133629442,
          1.100118081390777,
          1.1001384984226186,
          -2.2883475839203977,
          1.6251708800685583,
          1.3689164144947041,
          1.1956405784076252,
          -1.95455753838542,
          0.6120715792115328,
          -0.9960975913413915,
          1.1001357227424056,
          -1.5785027672717262,
          0.6474656742867198,
          -1.9526072764892364,
          1.0741160183164564,
          0.8555530051661787,
          1.6397250484289636,
          1.9516665780209128,
          -2.1825893646480328,
          1.1001335814003748,
          1.731644688587571,
          -1.0906600836298022,
          1.4976861395093384,
          1.1001305127297114,
          0.5765430805312834,
          -0.9952941442289648,
          -1.578509635771525,
          -2.0827129487001574,
          -1.5785049901046466,
          1.1955899128938885,
          1.3871291138107038,
          1.6195073963538595,
          1.8496460560102115,
          -1.8015158216675178,
          1.100030361770158,
          -2.3239629034542895,
          -2.288320225460161,
          -2.0828368405550806,
          1.367175978575048,
          1.458968463100555,
          -0.9953270780889498,
          -2.2718713672632633,
          1.0815073410755762,
          1.1001380443688866,
          -1.093748239074226,
          1.1956190578660568,
          -1.2854306194313454,
          -0.9951207633653649,
          -1.5785020823286038,
          1.4589711093300828,
          -1.5787695431160556,
          -1.090661518246416,
          1.0996234774302756,
          1.1001391816276251,
          0.922901754945822,
          -0.9951233850253894,
          -1.3351922155132734,
          -1.115935237061248,
          1.4280353117342814,
          -0.1645920996843245,
          0.35314841922632234,
          -2.3109846107398453,
          -2.1148071951237526,
          1.099977958814861,
          -2.288476256011342,
          -1.0942890920214734,
          -2.182563661648282,
          -1.2707777025322444,
          1.576688355635022,
          2.700823928311243,
          3.1687100971424083,
          -1.0906414312306965,
          -1.1020897584715776,
          -0.9953577997715948,
          1.0748311077078914,
          3.255000696635962,
          1.1956431027477217,
          1.5132257569569367,
          0.8273484812209111,
          1.399781761538357,
          -2.0848944199201007,
          -2.288346822078293,
          -1.0906319860420193,
          -2.2770892243489693,
          1.6399101548927848,
          1.1001401211200856,
          1.1001393248884852,
          -1.9526434579442529,
          0.8271339727208145,
          -2.3164751884041404,
          1.3971315587759539,
          1.4787843950920017,
          1.1001277405519652,
          1.3798084753175273,
          -0.995124441862663,
          1.7316050900280848,
          1.4787910141354597,
          -2.288326396670822,
          0.6633382254240243,
          1.097905330501493,
          -0.5508475864809066,
          -2.1725242340080526,
          0.9938713623009496,
          -2.264212994139122,
          0.8273767364985327,
          -2.3163702328655726,
          -2.2885166124309055,
          -2.272063587007022,
          -2.3653213452468465,
          1.0929993860516236,
          0.827381957380281,
          -2.3058100818246676,
          1.9930140766362503,
          -2.2885211695900933,
          1.1001052860347698,
          1.5949112536747194,
          0.3331770009797307,
          1.458761321548619,
          0.5827901065744685,
          1.4492793018603098,
          -1.254678388250032,
          -2.288941428257643,
          -0.9951214452498648,
          0.9360556436187605,
          1.4589717120656416,
          1.7317193580952333,
          0.8217105303887035,
          0.9202018264620102,
          1.4589570339572167,
          -1.0906313947627697,
          1.1001361065760438,
          -2.271969694212897,
          -2.2421697513266734,
          -0.6775948672060704,
          -2.370380944669438,
          0.9228848988547652,
          1.1956242890112823,
          0.8272727960259997,
          1.4787478383693506,
          -1.335947884142482,
          0.9596515570881097,
          0.9229084596794538,
          -0.9951228015699827,
          1.0997227675744106,
          2.0086417400261145,
          -1.2546718768720837,
          3.8120584652911993,
          -1.9566933670679523,
          1.2404849316568427,
          -2.3163974174396604,
          -1.3351917071742474,
          1.2190630040352017,
          0.916659855825563,
          -2.291715487633961,
          1.731692220415595,
          -2.2801112687575267,
          -2.2800895272479016,
          -0.03461124405494011,
          -2.229899929136311,
          -1.0906365829238396,
          1.1001289950105506,
          -1.9526954780864718,
          1.7317101949331513,
          -1.952613494960104,
          1.458976153036461,
          1.0637376723291354,
          -1.612972249985692,
          0.9229035338245615,
          1.1001056684117727,
          1.5130053733882736,
          1.9910159047002716,
          1.1955051724670978,
          -1.3352186565041595,
          -0.3409825167283774,
          -1.335265443275981,
          1.1956335697322729,
          1.3870356836448454,
          1.0827824970839646,
          -1.0909742137771397,
          1.1955642132588873,
          -1.5812292865335107,
          1.1000727535469406,
          -2.2824427891115135,
          1.1001156813573885,
          0.5828362198287937,
          1.100137941253926,
          1.195325330690862,
          -1.0909101701715307,
          1.0962466863432545,
          0.8490707997486548,
          1.1954694388970994,
          -1.3352005982354385,
          1.100114592424786,
          -1.118218480278682,
          1.0998597910227486,
          -1.261443341098968,
          1.1955090834050883,
          1.1001034672030752,
          1.4788175761328368,
          -1.0906269507420638,
          -1.0907100747172012,
          0.4408304464841123,
          0.8555242670600472,
          1.3873047685087636,
          0.82039447731737,
          1.0999488102705426,
          0.6122520309497961,
          -1.801120589691681,
          1.849783394373207,
          -2.2700867276708165,
          1.3870315920065954,
          -2.082631100668832,
          1.3869946049307191,
          0.5824783260518143,
          4.192402171510807,
          1.4788157156918378,
          -0.03705438981174,
          1.566353943038639,
          0.5195547355290328,
          1.1000517650679387,
          -2.289142273837206,
          -1.9526036787328873,
          0.8273991731826033
         ],
         "z": [
          -0.5948045160408888,
          -0.5950875839147033,
          -0.7007497336570395,
          0.1736017311098763,
          0.4180345076845595,
          -0.0003485561860320355,
          -0.5018520879183532,
          0.43956403521811216,
          0.41799867570420474,
          0.33434372208906205,
          0.027405157905079247,
          0.31927685426147356,
          -0.42087688049991806,
          -0.08657344851574918,
          -0.0003275401133538087,
          -0.6199337179210753,
          0.09262937193529078,
          -0.0003358517837824056,
          -0.5948106440325821,
          -0.5949219133033551,
          0.32077580257505856,
          -0.06392694788195799,
          0.1735489514440558,
          -0.0003882272661291449,
          -0.0003245210716287516,
          -0.5948272524038501,
          0.026250267942273323,
          0.19694156114815517,
          -0.0003371527765992373,
          -0.5948046067105592,
          -0.00032780831126663575,
          -0.5948048736427005,
          -0.00032604156189133533,
          0.09263083995228434,
          -0.40055436154231816,
          -0.3975182271494452,
          0.3157338443191816,
          0.17010518787179968,
          -0.004875709049004994,
          -0.00033033769365976005,
          -0.00041308978033411157,
          -0.00033189849614103837,
          -0.10123952933120896,
          -0.30765497196761127,
          -0.00032506822414936164,
          0.2219417256647731,
          -0.0007216451543247292,
          -0.00034672383809678013,
          -0.0003426591029017704,
          -0.5948211741084074,
          -0.16785305260612865,
          -0.03206750541873966,
          -0.5018536804298593,
          0.1736011468847249,
          -0.0003949397034437264,
          -0.0003298793781105085,
          -0.0003234236923027243,
          -0.4648943779878965,
          -0.00033700147939144675,
          0.36633592054274583,
          -0.26443482310809496,
          -0.0003257247568846466,
          -0.421571866403664,
          -0.2605063488137749,
          -0.6433165834870181,
          -0.0007767004285904481,
          0.1736023206191638,
          -0.0004406541028804427,
          -0.6433071738169583,
          -0.3724468078134392,
          -0.5949152234162454,
          -0.5948344125763161,
          -0.6002206921641529,
          -0.0003266783912608869,
          -0.00036887873330694284,
          -0.00033620513141535083,
          -0.16755230731321552,
          -0.501846775754863,
          0.17335735860446672,
          0.06122630777785127,
          0.17359269112246495,
          -0.19239140761830287,
          -0.5018486962652662,
          0.17359732747854897,
          0.1735948498518368,
          0.1736084430449321,
          0.09263452154637698,
          -0.5950092085603225,
          -0.594813962831101,
          -0.0003310828901715219,
          -0.47959354131756526,
          0.19042518360986338,
          -0.0003890569966134473,
          -0.5018489705615807,
          0.06122282644957899,
          0.1735938264048485,
          -0.6433104878209649,
          -0.5948335142070967,
          0.35228812605017124,
          0.4155569913700459,
          -0.4107683903048301,
          -0.180597825365195,
          -0.00035300689136086826,
          -0.42089148950047545,
          -0.3975267189359376,
          -0.0006779423522697608,
          -0.26050570196132483,
          -0.0003759624194152279,
          -0.6433067348964812,
          -0.00032346495225228227,
          -0.2606157637711537,
          -0.0003512943427861349,
          -0.5948047872160624,
          -0.6433073411372474,
          -0.00047107704433383833,
          0.49194497684627425,
          -0.1675467485163829,
          0.32140695537427844,
          0.2366801540980198,
          -0.000325427881219424,
          -0.5948099727539097,
          -0.0011913396893927027,
          0.5913433765802704,
          -0.0003232131109735826,
          0.17360274070972206,
          -0.015561459138693437,
          -0.5018470550350453,
          0.0073020406255646896,
          0.09262332556398975,
          0.442952917600714,
          0.17359689241167833,
          -0.754313902945265,
          0.09262833534926004,
          -0.07304790562862049,
          -0.0003638357941149762,
          -0.0003783749767036224,
          -0.2605193205727547,
          0.4180496634608507,
          -0.6433169125979504,
          0.44200571998179417,
          -0.4208826102345164,
          -0.6198778821816371,
          0.09262916281302647,
          0.17360116385849397,
          -0.41564707213179525,
          -0.00039657785966830297,
          0.39383890866995924,
          -0.42087732036839226,
          -0.5082760090479342,
          -0.0003498119343085044,
          -0.42087568517853946,
          0.16600989379941353,
          -0.6792252626601885,
          -0.594813135264619,
          -0.26054477193402764,
          0.09261249691272615,
          0.45439306736216883,
          -0.00035099855812069993,
          0.35104770885963027,
          -0.5019123021110914,
          -0.28372916697111866,
          -0.4208804324969111,
          -0.3872912355421974,
          -0.1012454877726455,
          -0.00032752274292938035,
          0.09262808106976199,
          -0.501884057618198,
          -0.4209101103993313,
          -0.4209630354557304,
          -0.6773952139746879,
          -0.5018743044134214,
          -0.0003232120492931488,
          -0.050311009482133795,
          -0.5952860088879391,
          -0.5948126954483689,
          -0.5948231570882125,
          -0.30903458792808386,
          0.09263034914372617,
          -0.16777314479635164,
          0.10634474257778431,
          -0.5018579326282859,
          -0.5948273982127126,
          0.41684647485314186,
          -0.4208765867499212,
          0.17360575537178533,
          -0.5018473937787666,
          -0.5948084713972642,
          0.32123257471430416,
          -0.5948048744289447,
          -0.0003777107650937436,
          -0.2605320135787801,
          0.17360507699120467,
          -0.31244844185311754,
          -0.0003300194307368341,
          -0.8317729975496748,
          -0.10126441505476226,
          -0.594810709535538,
          -0.5018973321993614,
          0.4626723099957162,
          -0.10127258144262644,
          -0.30900141311585505,
          -0.6776786486740902,
          -0.10129162828168845,
          -0.8262864046428384,
          0.41804522065699473,
          0.33434404901289577,
          0.2332867383848968,
          -0.5018551333434864,
          -0.0003758264693076948,
          0.0923996894400608,
          -0.6604781810402384,
          -0.5018481255372405,
          -0.10125599945940492,
          -0.5948140569868251,
          -0.5948119252782843,
          0.09258564234458784,
          -0.1012454877726455,
          -0.5018578348519576,
          -0.42087860511792013,
          -0.5948137221605412,
          -0.03984707640506303,
          -0.5948112010250728,
          -0.5949143047423747,
          -0.5018477540621714,
          0.41684591737630394,
          -0.5948299153558934,
          -0.2721334198567051,
          -0.5948073109333891,
          -0.5948056778440177,
          -0.2338429770380639,
          -0.3578188324593521,
          -0.00032361080902106244,
          0.41684370678966276,
          0.44296435064813333,
          -0.5948917613765126,
          -0.4208769434456508,
          -0.5018493702665983,
          -0.5948100128466942,
          0.09236989958114127,
          -0.5948082058975573,
          0.43953454404543807,
          -0.26051032941713287,
          -0.22382045653550636,
          -0.0003241281441386414,
          -0.3090056264548109,
          0.09262747439095526,
          0.3343444698762825,
          -0.594990926646562,
          -0.00034160818340741716,
          0.4429594488779847,
          -0.26051304220009164,
          0.4983051118600045,
          -0.5018493728811282,
          -0.861491535639043,
          -0.5018673804433307,
          -0.0009973792362082481,
          -0.10127728072284033,
          -0.5018509171631462,
          -0.08289323154505199,
          -0.10137889841483569,
          -0.5019520712287573,
          -0.5948090214354805,
          -0.594809465353261,
          -0.5948062647562192,
          -0.09901038497930965,
          -0.5018565732695222,
          -0.00033262557999237056,
          -0.26088647762997086,
          0.17295097387103298,
          -0.10124555343306423,
          -0.5948258538545448,
          -0.642290130139371,
          -0.08660421382429304,
          -0.000337448013504809,
          -0.050316972130085354,
          0.4395370667984214,
          -0.7947739494505202,
          0.31008473942227965,
          0.44803979055146337,
          0.5419941518980642,
          0.4161839990749926,
          -0.6773673160139425,
          0.09262808689117451,
          -0.6773766834326557,
          -0.9495497359320916,
          -0.00032953915589069917,
          -0.643313272043462,
          -0.0003363734676736153,
          0.0926199950466276,
          0.09263112950566675,
          -0.604757370175997,
          0.4168380156746182,
          -0.6433115530833929,
          0.5300192195409592,
          -0.06357517938536995,
          0.11831413756618318,
          -0.15406305374680995,
          0.09261046035228551,
          -0.94955722354967,
          0.17360171846996791,
          -0.5018506723362647,
          -0.2605070106644029,
          3.519843103981209,
          -0.0020622562551038783,
          -0.10124942212668173,
          -0.02674408856471063,
          -0.00032810162134522394,
          -0.0003401340714956055,
          -0.00032919331052459923,
          -0.0003293909597045727,
          -0.5948161182825118,
          -0.5948059876623204,
          0.4168332003647136,
          0.028488300114311672,
          -0.12219747670105174,
          -0.5018525892844032,
          0.3333509243655821,
          -0.3725455856860673,
          0.09213372412994664,
          -0.5948073327770104,
          0.22203068979488377,
          -0.0697375412695926,
          0.33434190793059165,
          -0.607898492641219,
          -0.4208901708141733,
          -0.6774701117804017,
          -0.5260260238665979,
          0.4543669207478261,
          -0.5948083915313201,
          -0.5681811869690137,
          -0.00034163526712259446,
          -0.0496599449805647,
          -0.5948099885365876,
          -0.08972266791136457,
          0.09254440037245859,
          0.22202730018361602,
          0.418005668129468,
          0.22202958688218935,
          -0.501877684207109,
          0.23319138998570868,
          -0.687580811909453,
          -0.6433730657194418,
          0.32122066426456614,
          -0.5948598029074684,
          0.39920817789267105,
          0.4168466745985379,
          0.4179416022958733,
          -0.34306809070554917,
          -0.2338449946610458,
          0.09252880642991164,
          0.4393201409271413,
          -0.6039937012196887,
          -0.5948062371819732,
          -0.0018835756059518767,
          -0.5018634032651672,
          0.15837346974131544,
          0.09263068369000599,
          0.22203100344307736,
          -0.23384375867297033,
          0.22189772503124572,
          -0.000341999898449369,
          -0.5950627817631049,
          -0.5948056412818571,
          -0.16754723145604355,
          0.0926293686243977,
          0.1736014556172259,
          0.04800576870872486,
          -0.0503062494104967,
          0.1578761524040051,
          -0.3037409070154456,
          0.4053754121933406,
          0.42298070542802035,
          -0.5948863322635318,
          0.41676917838106964,
          -0.0021871022562323164,
          0.4543790954624081,
          0.19032795114322767,
          -0.3091755940406439,
          19.410574678269,
          16.06496954257661,
          -0.0003319209340867331,
          -0.00604911827224552,
          0.09251288881604074,
          -0.5464750222312998,
          10.951367666307924,
          -0.501851316769359,
          -0.4685874968103796,
          -0.26052594245586835,
          -0.02041334037350184,
          0.41693202595419365,
          0.41683313067129557,
          -0.00032722638252927823,
          0.4768011161345127,
          -0.6773757181099453,
          -0.5948051691672421,
          -0.5948055626105334,
          0.3343237867820626,
          -0.26063288154269143,
          0.46262251100149615,
          0.03147152618347478,
          -0.10125709767987509,
          -0.5948113105498872,
          0.14617190021221513,
          0.09262870351109422,
          -0.5682013303657827,
          -0.10125377700522376,
          0.4168435695605482,
          -0.050576389244772535,
          -0.5959123160036882,
          -0.08289073999932906,
          0.4429610589115605,
          -0.03978404374531673,
          0.44154611611522077,
          -0.26051213727651584,
          0.46267422292548815,
          0.4167501795985894,
          0.3583844314448527,
          0.3787433440601224,
          -0.5983784895244754,
          -0.26050937713859124,
          0.4408744384528185,
          -0.8248495185137953,
          0.41674444181110953,
          -0.5948224199608121,
          -0.2855876922719745,
          -0.3485185751110962,
          -0.2339467140861074,
          -0.0865964496739611,
          0.07458393990947229,
          0.2096044036193018,
          0.4660060645692169,
          0.0926303437772079,
          -0.38489245287955176,
          -0.2338433361486048,
          -0.5681443326591373,
          -0.26329679574209164,
          -0.4040441275464913,
          -0.23385091867636423,
          -0.0003269191985711215,
          -0.5948071707546574,
          0.4392744729348385,
          0.42603602684349895,
          0.12586653091796904,
          0.3094405316205659,
          -0.16755560892152252,
          -0.50186074223317,
          -0.2605636545209004,
          -0.1012749866199857,
          0.17321705927025055,
          -0.4749866557314092,
          -0.1675439367428837,
          0.09262967701428329,
          -0.5950169105949811,
          0.2898863682379749,
          0.20960759373964344,
          11.609811968609975,
          0.332307281344754,
          -0.1342831804811657,
          0.46266082040202217,
          0.1736017190380873,
          -0.12480987487542844,
          -0.17072254570806475,
          0.41516629692569024,
          -0.5681578542034904,
          0.49830851210337546,
          0.4983191087506204,
          0.07415099958366125,
          0.4809447121748242,
          -0.0003296806897161899,
          -0.5948107245826019,
          0.3342984421051909,
          -0.5681489133927677,
          0.33433880195440424,
          -0.2338411212935322,
          -0.6128892172769764,
          0.23667877638135482,
          -0.16754633409268616,
          -0.5948222254494008,
          -0.4686970535467177,
          -0.8258369949891096,
          -0.501919191148204,
          0.17358825940495046,
          -0.048823417690790176,
          0.17356506221283777,
          -0.5018561371406395,
          0.2331410229726741,
          -0.6034319809787009,
          -0.0004957501579835848,
          -0.5018915919728912,
          0.22066676358559115,
          -0.5948382965879667,
          0.49716245297471184,
          -0.5948173043563396,
          -0.08657345171486906,
          -0.5948062954314731,
          -0.5020102112116154,
          -0.00046879966161805407,
          -0.5967248811035522,
          -0.42418760479552675,
          -0.501939744796893,
          0.1735973179575915,
          -0.5948180858115899,
          -0.014070528887765296,
          -0.5949454693369143,
          0.196933694963626,
          -0.501918430431147,
          -0.5948238262452906,
          -0.10124067669055056,
          -0.0003247577100742207,
          -0.00036601617586439194,
          -0.1460551836163773,
          -0.4209041868280091,
          0.23327877270729916,
          -0.2640060837955108,
          -0.5949007657169405,
          -0.37245576130991775,
          0.32141790578422186,
          -0.6433044194994941,
          0.43691489898329705,
          0.23313888363727547,
          0.4180458224843312,
          0.23312006867647048,
          -0.08675557250568769,
          9.33764652817826,
          -0.10124162519904444,
          -0.4708030593774849,
          -0.06175960623512877,
          0.07146719610456846,
          -0.5948486834234639,
          0.41643654984665357,
          0.33434373807377293,
          -0.26050086885496704
         ]
        }
       ],
       "layout": {
        "autosize": true,
        "coloraxis": {
         "colorbar": {
          "title": {
           "text": "class"
          }
         },
         "colorscale": [
          [
           0,
           "#0d0887"
          ],
          [
           0.1111111111111111,
           "#46039f"
          ],
          [
           0.2222222222222222,
           "#7201a8"
          ],
          [
           0.3333333333333333,
           "#9c179e"
          ],
          [
           0.4444444444444444,
           "#bd3786"
          ],
          [
           0.5555555555555556,
           "#d8576b"
          ],
          [
           0.6666666666666666,
           "#ed7953"
          ],
          [
           0.7777777777777778,
           "#fb9f3a"
          ],
          [
           0.8888888888888888,
           "#fdca26"
          ],
          [
           1,
           "#f0f921"
          ]
         ]
        },
        "legend": {
         "tracegroupgap": 0
        },
        "margin": {
         "t": 60
        },
        "scene": {
         "aspectmode": "auto",
         "aspectratio": {
          "x": 1,
          "y": 1,
          "z": 1
         },
         "domain": {
          "x": [
           0,
           1
          ],
          "y": [
           0,
           1
          ]
         },
         "xaxis": {
          "title": {
           "text": "PC 1"
          },
          "type": "linear"
         },
         "yaxis": {
          "title": {
           "text": "PC 2"
          },
          "type": "linear"
         },
         "zaxis": {
          "title": {
           "text": "PC 3"
          },
          "type": "linear"
         }
        },
        "template": {
         "data": {
          "bar": [
           {
            "error_x": {
             "color": "#2a3f5f"
            },
            "error_y": {
             "color": "#2a3f5f"
            },
            "marker": {
             "line": {
              "color": "#E5ECF6",
              "width": 0.5
             }
            },
            "type": "bar"
           }
          ],
          "barpolar": [
           {
            "marker": {
             "line": {
              "color": "#E5ECF6",
              "width": 0.5
             }
            },
            "type": "barpolar"
           }
          ],
          "carpet": [
           {
            "aaxis": {
             "endlinecolor": "#2a3f5f",
             "gridcolor": "white",
             "linecolor": "white",
             "minorgridcolor": "white",
             "startlinecolor": "#2a3f5f"
            },
            "baxis": {
             "endlinecolor": "#2a3f5f",
             "gridcolor": "white",
             "linecolor": "white",
             "minorgridcolor": "white",
             "startlinecolor": "#2a3f5f"
            },
            "type": "carpet"
           }
          ],
          "choropleth": [
           {
            "colorbar": {
             "outlinewidth": 0,
             "ticks": ""
            },
            "type": "choropleth"
           }
          ],
          "contour": [
           {
            "colorbar": {
             "outlinewidth": 0,
             "ticks": ""
            },
            "colorscale": [
             [
              0,
              "#0d0887"
             ],
             [
              0.1111111111111111,
              "#46039f"
             ],
             [
              0.2222222222222222,
              "#7201a8"
             ],
             [
              0.3333333333333333,
              "#9c179e"
             ],
             [
              0.4444444444444444,
              "#bd3786"
             ],
             [
              0.5555555555555556,
              "#d8576b"
             ],
             [
              0.6666666666666666,
              "#ed7953"
             ],
             [
              0.7777777777777778,
              "#fb9f3a"
             ],
             [
              0.8888888888888888,
              "#fdca26"
             ],
             [
              1,
              "#f0f921"
             ]
            ],
            "type": "contour"
           }
          ],
          "contourcarpet": [
           {
            "colorbar": {
             "outlinewidth": 0,
             "ticks": ""
            },
            "type": "contourcarpet"
           }
          ],
          "heatmap": [
           {
            "colorbar": {
             "outlinewidth": 0,
             "ticks": ""
            },
            "colorscale": [
             [
              0,
              "#0d0887"
             ],
             [
              0.1111111111111111,
              "#46039f"
             ],
             [
              0.2222222222222222,
              "#7201a8"
             ],
             [
              0.3333333333333333,
              "#9c179e"
             ],
             [
              0.4444444444444444,
              "#bd3786"
             ],
             [
              0.5555555555555556,
              "#d8576b"
             ],
             [
              0.6666666666666666,
              "#ed7953"
             ],
             [
              0.7777777777777778,
              "#fb9f3a"
             ],
             [
              0.8888888888888888,
              "#fdca26"
             ],
             [
              1,
              "#f0f921"
             ]
            ],
            "type": "heatmap"
           }
          ],
          "heatmapgl": [
           {
            "colorbar": {
             "outlinewidth": 0,
             "ticks": ""
            },
            "colorscale": [
             [
              0,
              "#0d0887"
             ],
             [
              0.1111111111111111,
              "#46039f"
             ],
             [
              0.2222222222222222,
              "#7201a8"
             ],
             [
              0.3333333333333333,
              "#9c179e"
             ],
             [
              0.4444444444444444,
              "#bd3786"
             ],
             [
              0.5555555555555556,
              "#d8576b"
             ],
             [
              0.6666666666666666,
              "#ed7953"
             ],
             [
              0.7777777777777778,
              "#fb9f3a"
             ],
             [
              0.8888888888888888,
              "#fdca26"
             ],
             [
              1,
              "#f0f921"
             ]
            ],
            "type": "heatmapgl"
           }
          ],
          "histogram": [
           {
            "marker": {
             "colorbar": {
              "outlinewidth": 0,
              "ticks": ""
             }
            },
            "type": "histogram"
           }
          ],
          "histogram2d": [
           {
            "colorbar": {
             "outlinewidth": 0,
             "ticks": ""
            },
            "colorscale": [
             [
              0,
              "#0d0887"
             ],
             [
              0.1111111111111111,
              "#46039f"
             ],
             [
              0.2222222222222222,
              "#7201a8"
             ],
             [
              0.3333333333333333,
              "#9c179e"
             ],
             [
              0.4444444444444444,
              "#bd3786"
             ],
             [
              0.5555555555555556,
              "#d8576b"
             ],
             [
              0.6666666666666666,
              "#ed7953"
             ],
             [
              0.7777777777777778,
              "#fb9f3a"
             ],
             [
              0.8888888888888888,
              "#fdca26"
             ],
             [
              1,
              "#f0f921"
             ]
            ],
            "type": "histogram2d"
           }
          ],
          "histogram2dcontour": [
           {
            "colorbar": {
             "outlinewidth": 0,
             "ticks": ""
            },
            "colorscale": [
             [
              0,
              "#0d0887"
             ],
             [
              0.1111111111111111,
              "#46039f"
             ],
             [
              0.2222222222222222,
              "#7201a8"
             ],
             [
              0.3333333333333333,
              "#9c179e"
             ],
             [
              0.4444444444444444,
              "#bd3786"
             ],
             [
              0.5555555555555556,
              "#d8576b"
             ],
             [
              0.6666666666666666,
              "#ed7953"
             ],
             [
              0.7777777777777778,
              "#fb9f3a"
             ],
             [
              0.8888888888888888,
              "#fdca26"
             ],
             [
              1,
              "#f0f921"
             ]
            ],
            "type": "histogram2dcontour"
           }
          ],
          "mesh3d": [
           {
            "colorbar": {
             "outlinewidth": 0,
             "ticks": ""
            },
            "type": "mesh3d"
           }
          ],
          "parcoords": [
           {
            "line": {
             "colorbar": {
              "outlinewidth": 0,
              "ticks": ""
             }
            },
            "type": "parcoords"
           }
          ],
          "pie": [
           {
            "automargin": true,
            "type": "pie"
           }
          ],
          "scatter": [
           {
            "marker": {
             "colorbar": {
              "outlinewidth": 0,
              "ticks": ""
             }
            },
            "type": "scatter"
           }
          ],
          "scatter3d": [
           {
            "line": {
             "colorbar": {
              "outlinewidth": 0,
              "ticks": ""
             }
            },
            "marker": {
             "colorbar": {
              "outlinewidth": 0,
              "ticks": ""
             }
            },
            "type": "scatter3d"
           }
          ],
          "scattercarpet": [
           {
            "marker": {
             "colorbar": {
              "outlinewidth": 0,
              "ticks": ""
             }
            },
            "type": "scattercarpet"
           }
          ],
          "scattergeo": [
           {
            "marker": {
             "colorbar": {
              "outlinewidth": 0,
              "ticks": ""
             }
            },
            "type": "scattergeo"
           }
          ],
          "scattergl": [
           {
            "marker": {
             "colorbar": {
              "outlinewidth": 0,
              "ticks": ""
             }
            },
            "type": "scattergl"
           }
          ],
          "scattermapbox": [
           {
            "marker": {
             "colorbar": {
              "outlinewidth": 0,
              "ticks": ""
             }
            },
            "type": "scattermapbox"
           }
          ],
          "scatterpolar": [
           {
            "marker": {
             "colorbar": {
              "outlinewidth": 0,
              "ticks": ""
             }
            },
            "type": "scatterpolar"
           }
          ],
          "scatterpolargl": [
           {
            "marker": {
             "colorbar": {
              "outlinewidth": 0,
              "ticks": ""
             }
            },
            "type": "scatterpolargl"
           }
          ],
          "scatterternary": [
           {
            "marker": {
             "colorbar": {
              "outlinewidth": 0,
              "ticks": ""
             }
            },
            "type": "scatterternary"
           }
          ],
          "surface": [
           {
            "colorbar": {
             "outlinewidth": 0,
             "ticks": ""
            },
            "colorscale": [
             [
              0,
              "#0d0887"
             ],
             [
              0.1111111111111111,
              "#46039f"
             ],
             [
              0.2222222222222222,
              "#7201a8"
             ],
             [
              0.3333333333333333,
              "#9c179e"
             ],
             [
              0.4444444444444444,
              "#bd3786"
             ],
             [
              0.5555555555555556,
              "#d8576b"
             ],
             [
              0.6666666666666666,
              "#ed7953"
             ],
             [
              0.7777777777777778,
              "#fb9f3a"
             ],
             [
              0.8888888888888888,
              "#fdca26"
             ],
             [
              1,
              "#f0f921"
             ]
            ],
            "type": "surface"
           }
          ],
          "table": [
           {
            "cells": {
             "fill": {
              "color": "#EBF0F8"
             },
             "line": {
              "color": "white"
             }
            },
            "header": {
             "fill": {
              "color": "#C8D4E3"
             },
             "line": {
              "color": "white"
             }
            },
            "type": "table"
           }
          ]
         },
         "layout": {
          "annotationdefaults": {
           "arrowcolor": "#2a3f5f",
           "arrowhead": 0,
           "arrowwidth": 1
          },
          "coloraxis": {
           "colorbar": {
            "outlinewidth": 0,
            "ticks": ""
           }
          },
          "colorscale": {
           "diverging": [
            [
             0,
             "#8e0152"
            ],
            [
             0.1,
             "#c51b7d"
            ],
            [
             0.2,
             "#de77ae"
            ],
            [
             0.3,
             "#f1b6da"
            ],
            [
             0.4,
             "#fde0ef"
            ],
            [
             0.5,
             "#f7f7f7"
            ],
            [
             0.6,
             "#e6f5d0"
            ],
            [
             0.7,
             "#b8e186"
            ],
            [
             0.8,
             "#7fbc41"
            ],
            [
             0.9,
             "#4d9221"
            ],
            [
             1,
             "#276419"
            ]
           ],
           "sequential": [
            [
             0,
             "#0d0887"
            ],
            [
             0.1111111111111111,
             "#46039f"
            ],
            [
             0.2222222222222222,
             "#7201a8"
            ],
            [
             0.3333333333333333,
             "#9c179e"
            ],
            [
             0.4444444444444444,
             "#bd3786"
            ],
            [
             0.5555555555555556,
             "#d8576b"
            ],
            [
             0.6666666666666666,
             "#ed7953"
            ],
            [
             0.7777777777777778,
             "#fb9f3a"
            ],
            [
             0.8888888888888888,
             "#fdca26"
            ],
            [
             1,
             "#f0f921"
            ]
           ],
           "sequentialminus": [
            [
             0,
             "#0d0887"
            ],
            [
             0.1111111111111111,
             "#46039f"
            ],
            [
             0.2222222222222222,
             "#7201a8"
            ],
            [
             0.3333333333333333,
             "#9c179e"
            ],
            [
             0.4444444444444444,
             "#bd3786"
            ],
            [
             0.5555555555555556,
             "#d8576b"
            ],
            [
             0.6666666666666666,
             "#ed7953"
            ],
            [
             0.7777777777777778,
             "#fb9f3a"
            ],
            [
             0.8888888888888888,
             "#fdca26"
            ],
            [
             1,
             "#f0f921"
            ]
           ]
          },
          "colorway": [
           "#636efa",
           "#EF553B",
           "#00cc96",
           "#ab63fa",
           "#FFA15A",
           "#19d3f3",
           "#FF6692",
           "#B6E880",
           "#FF97FF",
           "#FECB52"
          ],
          "font": {
           "color": "#2a3f5f"
          },
          "geo": {
           "bgcolor": "white",
           "lakecolor": "white",
           "landcolor": "#E5ECF6",
           "showlakes": true,
           "showland": true,
           "subunitcolor": "white"
          },
          "hoverlabel": {
           "align": "left"
          },
          "hovermode": "closest",
          "mapbox": {
           "style": "light"
          },
          "paper_bgcolor": "white",
          "plot_bgcolor": "#E5ECF6",
          "polar": {
           "angularaxis": {
            "gridcolor": "white",
            "linecolor": "white",
            "ticks": ""
           },
           "bgcolor": "#E5ECF6",
           "radialaxis": {
            "gridcolor": "white",
            "linecolor": "white",
            "ticks": ""
           }
          },
          "scene": {
           "xaxis": {
            "backgroundcolor": "#E5ECF6",
            "gridcolor": "white",
            "gridwidth": 2,
            "linecolor": "white",
            "showbackground": true,
            "ticks": "",
            "zerolinecolor": "white"
           },
           "yaxis": {
            "backgroundcolor": "#E5ECF6",
            "gridcolor": "white",
            "gridwidth": 2,
            "linecolor": "white",
            "showbackground": true,
            "ticks": "",
            "zerolinecolor": "white"
           },
           "zaxis": {
            "backgroundcolor": "#E5ECF6",
            "gridcolor": "white",
            "gridwidth": 2,
            "linecolor": "white",
            "showbackground": true,
            "ticks": "",
            "zerolinecolor": "white"
           }
          },
          "shapedefaults": {
           "line": {
            "color": "#2a3f5f"
           }
          },
          "ternary": {
           "aaxis": {
            "gridcolor": "white",
            "linecolor": "white",
            "ticks": ""
           },
           "baxis": {
            "gridcolor": "white",
            "linecolor": "white",
            "ticks": ""
           },
           "bgcolor": "#E5ECF6",
           "caxis": {
            "gridcolor": "white",
            "linecolor": "white",
            "ticks": ""
           }
          },
          "title": {
           "x": 0.05
          },
          "xaxis": {
           "automargin": true,
           "gridcolor": "white",
           "linecolor": "white",
           "ticks": "",
           "title": {
            "standoff": 15
           },
           "zerolinecolor": "white",
           "zerolinewidth": 2
          },
          "yaxis": {
           "automargin": true,
           "gridcolor": "white",
           "linecolor": "white",
           "ticks": "",
           "title": {
            "standoff": 15
           },
           "zerolinecolor": "white",
           "zerolinewidth": 2
          }
         }
        }
       }
      },
      "image/png": "[encoded data removed]",
      "text/html": [
       "<div>                            <div id=\"39e82a45-cd83-4ae7-9b04-9ae64b5a6fb8\" class=\"plotly-graph-div\" style=\"height:525px; width:100%;\"></div>            <script type=\"text/javascript\">                require([\"plotly\"], function(Plotly) {                    window.PLOTLYENV=window.PLOTLYENV || {};                                    if (document.getElementById(\"39e82a45-cd83-4ae7-9b04-9ae64b5a6fb8\")) {                    Plotly.newPlot(                        \"39e82a45-cd83-4ae7-9b04-9ae64b5a6fb8\",                        [{\"customdata\": [[\"Scrypt\"], [\"Scrypt\"], [\"X13\"], [\"SHA-256\"], [\"Ethash\"], [\"Scrypt\"], [\"X11\"], [\"CryptoNight-V7\"], [\"Ethash\"], [\"Equihash\"], [\"SHA-512\"], [\"Multiple\"], [\"SHA-256\"], [\"SHA-256\"], [\"Scrypt\"], [\"X15\"], [\"X11\"], [\"Scrypt\"], [\"Scrypt\"], [\"Scrypt\"], [\"Multiple\"], [\"Scrypt\"], [\"SHA-256\"], [\"Scrypt\"], [\"Scrypt\"], [\"Scrypt\"], [\"Quark\"], [\"Groestl\"], [\"Scrypt\"], [\"Scrypt\"], [\"Scrypt\"], [\"Scrypt\"], [\"Scrypt\"], [\"X11\"], [\"Scrypt\"], [\"Groestl\"], [\"Multiple\"], [\"SHA-256\"], [\"Scrypt\"], [\"Scrypt\"], [\"Scrypt\"], [\"Scrypt\"], [\"PoS\"], [\"Scrypt\"], [\"Scrypt\"], [\"NeoScrypt\"], [\"Scrypt\"], [\"Scrypt\"], [\"Scrypt\"], [\"Scrypt\"], [\"X11\"], [\"Scrypt\"], [\"X11\"], [\"SHA-256\"], [\"Scrypt\"], [\"Scrypt\"], [\"Scrypt\"], [\"SHA3\"], [\"Scrypt\"], [\"HybridScryptHash256\"], [\"Scrypt\"], [\"Scrypt\"], [\"SHA-256\"], [\"Scrypt\"], [\"X13\"], [\"Scrypt\"], [\"SHA-256\"], [\"Scrypt\"], [\"X13\"], [\"NeoScrypt\"], [\"Scrypt\"], [\"Scrypt\"], [\"Scrypt\"], [\"Scrypt\"], [\"Scrypt\"], [\"Scrypt\"], [\"X11\"], [\"X11\"], [\"SHA-256\"], [\"Multiple\"], [\"SHA-256\"], [\"PHI1612\"], [\"X11\"], [\"SHA-256\"], [\"SHA-256\"], [\"SHA-256\"], [\"X11\"], [\"Scrypt\"], [\"Scrypt\"], [\"Scrypt\"], [\"Scrypt\"], [\"Lyra2REv2\"], [\"Scrypt\"], [\"X11\"], [\"Multiple\"], [\"SHA-256\"], [\"X13\"], [\"Scrypt\"], [\"CryptoNight\"], [\"CryptoNight\"], [\"Shabal256\"], [\"Counterparty\"], [\"Scrypt\"], [\"SHA-256\"], [\"Groestl\"], [\"Scrypt\"], [\"Scrypt\"], [\"Scrypt\"], [\"X13\"], [\"Scrypt\"], [\"Scrypt\"], [\"Scrypt\"], [\"Scrypt\"], [\"X13\"], [\"Scrypt\"], [\"Stanford Folding\"], [\"X11\"], [\"Multiple\"], [\"QuBit\"], [\"Scrypt\"], [\"Scrypt\"], [\"Scrypt\"], [\"M7 POW\"], [\"Scrypt\"], [\"SHA-256\"], [\"Scrypt\"], [\"X11\"], [\"SHA3\"], [\"X11\"], [\"Lyra2RE\"], [\"SHA-256\"], [\"QUAIT\"], [\"X11\"], [\"X11\"], [\"Scrypt\"], [\"Scrypt\"], [\"Scrypt\"], [\"Ethash\"], [\"X13\"], [\"Blake2b\"], [\"SHA-256\"], [\"X15\"], [\"X11\"], [\"SHA-256\"], [\"BLAKE256\"], [\"Scrypt\"], [\"1GB AES Pattern Search\"], [\"SHA-256\"], [\"X11\"], [\"Scrypt\"], [\"SHA-256\"], [\"SHA-256\"], [\"NIST5\"], [\"Scrypt\"], [\"Scrypt\"], [\"X11\"], [\"Dagger\"], [\"Scrypt\"], [\"X11GOST\"], [\"X11\"], [\"Scrypt\"], [\"SHA-256\"], [\"Scrypt\"], [\"PoS\"], [\"Scrypt\"], [\"X11\"], [\"X11\"], [\"SHA-256\"], [\"SHA-256\"], [\"NIST5\"], [\"X11\"], [\"Scrypt\"], [\"POS 3.0\"], [\"Scrypt\"], [\"Scrypt\"], [\"Scrypt\"], [\"X13\"], [\"X11\"], [\"X11\"], [\"Equihash\"], [\"X11\"], [\"Scrypt\"], [\"CryptoNight\"], [\"SHA-256\"], [\"SHA-256\"], [\"X11\"], [\"Scrypt\"], [\"Multiple\"], [\"Scrypt\"], [\"Scrypt\"], [\"Scrypt\"], [\"SHA-256\"], [\"Scrypt\"], [\"Scrypt\"], [\"SHA-256D\"], [\"PoS\"], [\"Scrypt\"], [\"X11\"], [\"Lyra2Z\"], [\"PoS\"], [\"X13\"], [\"X14\"], [\"PoS\"], [\"SHA-256D\"], [\"Ethash\"], [\"Equihash\"], [\"DPoS\"], [\"X11\"], [\"Scrypt\"], [\"X11\"], [\"X13\"], [\"X11\"], [\"PoS\"], [\"Scrypt\"], [\"Scrypt\"], [\"X11\"], [\"PoS\"], [\"X11\"], [\"SHA-256\"], [\"Scrypt\"], [\"X11\"], [\"Scrypt\"], [\"Scrypt\"], [\"X11\"], [\"CryptoNight\"], [\"Scrypt\"], [\"Scrypt\"], [\"Scrypt\"], [\"Scrypt\"], [\"Quark\"], [\"QuBit\"], [\"Scrypt\"], [\"CryptoNight\"], [\"Lyra2RE\"], [\"Scrypt\"], [\"SHA-256\"], [\"X11\"], [\"Scrypt\"], [\"X11\"], [\"Scrypt\"], [\"CryptoNight-V7\"], [\"Scrypt\"], [\"Scrypt\"], [\"Scrypt\"], [\"X13\"], [\"X11\"], [\"Equihash\"], [\"Scrypt\"], [\"Scrypt\"], [\"Lyra2RE\"], [\"Scrypt\"], [\"Dagger-Hashimoto\"], [\"X11\"], [\"Blake2S\"], [\"X11\"], [\"Scrypt\"], [\"PoS\"], [\"X11\"], [\"NIST5\"], [\"PoS\"], [\"X11\"], [\"Scrypt\"], [\"Scrypt\"], [\"Scrypt\"], [\"SHA-256\"], [\"X11\"], [\"Scrypt\"], [\"Scrypt\"], [\"SHA-256\"], [\"PoS\"], [\"Scrypt\"], [\"X15\"], [\"SHA-256\"], [\"Scrypt\"], [\"POS 3.0\"], [\"CryptoNight-V7\"], [\"536\"], [\"Argon2d\"], [\"Blake2b\"], [\"Cloverhash\"], [\"CryptoNight\"], [\"NIST5\"], [\"X11\"], [\"NIST5\"], [\"Skein\"], [\"Scrypt\"], [\"X13\"], [\"Scrypt\"], [\"X11\"], [\"X11\"], [\"Scrypt\"], [\"CryptoNight\"], [\"X13\"], [\"Time Travel\"], [\"Scrypt\"], [\"Keccak\"], [\"SkunkHash v2 Raptor\"], [\"X11\"], [\"Skein\"], [\"SHA-256\"], [\"X11\"], [\"Scrypt\"], [\"VeChainThor Authority\"], [\"Scrypt\"], [\"PoS\"], [\"Scrypt\"], [\"Scrypt\"], [\"Scrypt\"], [\"Scrypt\"], [\"Scrypt\"], [\"Scrypt\"], [\"Scrypt\"], [\"CryptoNight\"], [\"SHA-512\"], [\"Ouroboros\"], [\"X11\"], [\"Equihash\"], [\"NeoScrypt\"], [\"X11\"], [\"Scrypt\"], [\"NeoScrypt\"], [\"Lyra2REv2\"], [\"Equihash\"], [\"Scrypt\"], [\"SHA-256\"], [\"NIST5\"], [\"PHI1612\"], [\"Dagger\"], [\"Scrypt\"], [\"Quark\"], [\"Scrypt\"], [\"POS 2.0\"], [\"Scrypt\"], [\"SHA-256\"], [\"X11\"], [\"NeoScrypt\"], [\"Ethash\"], [\"NeoScrypt\"], [\"X11\"], [\"DPoS\"], [\"NIST5\"], [\"X13\"], [\"Multiple\"], [\"Scrypt\"], [\"CryptoNight\"], [\"CryptoNight\"], [\"Ethash\"], [\"NIST5\"], [\"Quark\"], [\"X11\"], [\"CryptoNight-V7\"], [\"Scrypt\"], [\"Scrypt\"], [\"Scrypt\"], [\"X11\"], [\"BLAKE256\"], [\"X11\"], [\"NeoScrypt\"], [\"Quark\"], [\"NeoScrypt\"], [\"Scrypt\"], [\"Scrypt\"], [\"Scrypt\"], [\"X11\"], [\"X11\"], [\"SHA-256\"], [\"C11\"], [\"POS 3.0\"], [\"Ethash\"], [\"Scrypt\"], [\"CryptoNight\"], [\"SkunkHash\"], [\"Scrypt\"], [\"CryptoNight\"], [\"Scrypt\"], [\"Dagger\"], [\"Lyra2REv2\"], [\"X13\"], [\"Proof-of-BibleHash\"], [\"SHA-256 + Hive\"], [\"Scrypt\"], [\"Scrypt\"], [\"X11\"], [\"C11\"], [\"Proof-of-Authority\"], [\"X11\"], [\"XEVAN\"], [\"Scrypt\"], [\"VBFT\"], [\"Ethash\"], [\"CryptoNight\"], [\"Scrypt\"], [\"IMesh\"], [\"NIST5\"], [\"Scrypt\"], [\"Scrypt\"], [\"Equihash\"], [\"Scrypt\"], [\"Lyra2Z\"], [\"Green Protocol\"], [\"PoS\"], [\"Scrypt\"], [\"Semux BFT consensus\"], [\"X11\"], [\"Quark\"], [\"PoS\"], [\"CryptoNight\"], [\"X16R\"], [\"Scrypt\"], [\"NIST5\"], [\"Lyra2RE\"], [\"XEVAN\"], [\"Tribus\"], [\"Scrypt\"], [\"Lyra2Z\"], [\"CryptoNight\"], [\"CryptoNight Heavy\"], [\"CryptoNight\"], [\"Scrypt\"], [\"Scrypt\"], [\"Jump Consistent Hash\"], [\"SHA-256D\"], [\"CryptoNight\"], [\"Scrypt\"], [\"X15\"], [\"Scrypt\"], [\"Quark\"], [\"SHA-256\"], [\"DPoS\"], [\"X16R\"], [\"HMQ1725\"], [\"X11\"], [\"X16R\"], [\"Quark\"], [\"Quark\"], [\"Scrypt\"], [\"Lyra2REv2\"], [\"Quark\"], [\"Scrypt\"], [\"Scrypt\"], [\"CryptoNight-V7\"], [\"Cryptonight-GPU\"], [\"XEVAN\"], [\"CryptoNight Heavy\"], [\"X11\"], [\"X11\"], [\"Scrypt\"], [\"PoS\"], [\"SHA-256\"], [\"Keccak\"], [\"X11\"], [\"X11\"], [\"Scrypt\"], [\"SHA-512\"], [\"X16R\"], [\"ECC 256K1\"], [\"Equihash\"], [\"XEVAN\"], [\"Lyra2Z\"], [\"SHA-256\"], [\"XEVAN\"], [\"X11\"], [\"CryptoNight\"], [\"Quark\"], [\"Blake\"], [\"Blake\"], [\"Equihash\"], [\"Exosis\"], [\"Scrypt\"], [\"Scrypt\"], [\"Equihash\"], [\"Quark\"], [\"Equihash\"], [\"Quark\"], [\"Scrypt\"], [\"QuBit\"], [\"X11\"], [\"Scrypt\"], [\"XEVAN\"], [\"SHA-256D\"], [\"X11\"], [\"SHA-256\"], [\"X13\"], [\"SHA-256\"], [\"X11\"], [\"DPoS\"], [\"Scrypt\"], [\"Scrypt\"], [\"X11\"], [\"NeoScrypt\"], [\"Scrypt\"], [\"Blake\"], [\"Scrypt\"], [\"SHA-256\"], [\"Scrypt\"], [\"X11\"], [\"Scrypt\"], [\"Scrypt\"], [\"SHA-256\"], [\"X11\"], [\"SHA-256\"], [\"Scrypt\"], [\"Scrypt\"], [\"Scrypt\"], [\"Groestl\"], [\"X11\"], [\"Scrypt\"], [\"PoS\"], [\"Scrypt\"], [\"Scrypt\"], [\"X11\"], [\"SHA-256\"], [\"DPoS\"], [\"Scrypt\"], [\"Scrypt\"], [\"NeoScrypt\"], [\"Multiple\"], [\"X13\"], [\"Equihash+Scrypt\"], [\"DPoS\"], [\"Ethash\"], [\"DPoS\"], [\"SHA-256\"], [\"Leased POS\"], [\"PoS\"], [\"TRC10\"], [\"PoS\"], [\"SHA-256\"], [\"Scrypt\"], [\"CryptoNight\"], [\"Equihash\"], [\"Scrypt\"]], \"hovertemplate\": \"<b>%{hovertext}</b><br><br>PC 1=%{x}<br>PC 2=%{y}<br>PC 3=%{z}<br>Algorithm=%{customdata[0]}<br>class=%{marker.color}<extra></extra>\", \"hovertext\": [\"42 Coin\", \"404Coin\", \"EliteCoin\", \"Bitcoin\", \"Ethereum\", \"Litecoin\", \"Dash\", \"Monero\", \"Ethereum Classic\", \"ZCash\", \"Bitshares\", \"DigiByte\", \"BitcoinDark\", \"PayCoin\", \"ProsperCoin\", \"KoboCoin\", \"Spreadcoin\", \"Argentum\", \"Aurora Coin\", \"BlueCoin\", \"MyriadCoin\", \"MoonCoin\", \"ZetaCoin\", \"SexCoin\", \"Quatloo\", \"EnergyCoin\", \"QuarkCoin\", \"Riecoin\", \"Digitalcoin \", \"BitBar\", \"Catcoin\", \"CryptoBullion\", \"CannaCoin\", \"CryptCoin\", \"CasinoCoin\", \"Diamond\", \"Verge\", \"DevCoin\", \"EarthCoin\", \"E-Gulden\", \"Einsteinium\", \"Emerald\", \"Exclusive Coin\", \"FlutterCoin\", \"Franko\", \"FeatherCoin\", \"GrandCoin\", \"GlobalCoin\", \"GoldCoin\", \"HoboNickels\", \"HyperStake\", \"Infinite Coin\", \"IOCoin\", \"IXcoin\", \"KrugerCoin\", \"LuckyCoin\", \"Litebar \", \"MaxCoin\", \"MegaCoin\", \"MediterraneanCoin\", \"MintCoin\", \"MinCoin\", \"MazaCoin\", \"Nautilus Coin\", \"NavCoin\", \"NobleCoin\", \"Namecoin\", \"NyanCoin\", \"OpalCoin\", \"Orbitcoin\", \"PotCoin\", \"PhoenixCoin\", \"Reddcoin\", \"RonPaulCoin\", \"StableCoin\", \"SmartCoin\", \"SuperCoin\", \"SyncCoin\", \"SysCoin\", \"TeslaCoin\", \"TigerCoin\", \"TittieCoin\", \"TorCoin\", \"TerraCoin\", \"UnbreakableCoin\", \"Unobtanium\", \"UroCoin\", \"UnitaryStatus Dollar\", \"UltraCoin\", \"ViaCoin\", \"VeriCoin\", \"Vertcoin\", \"WorldCoin\", \"X11 Coin\", \"Crypti\", \"JouleCoin\", \"StealthCoin\", \"ZCC Coin\", \"ByteCoin\", \"DigitalNote \", \"BurstCoin\", \"StorjCoin\", \"MonaCoin\", \"Neutron\", \"FairCoin\", \"Gulden\", \"RubyCoin\", \"PesetaCoin\", \"Kore\", \"Wild Beast Coin\", \"Dnotes\", \"Flo\", \"8BIT Coin\", \"Sativa Coin\", \"ArtByte\", \"Folding Coin\", \"Ucoin\", \"Unitus\", \"CypherPunkCoin\", \"OmniCron\", \"Vtorrent\", \"GreenCoin\", \"Cryptonite\", \"MasterCoin\", \"SoonCoin\", \"1Credit\", \"IslaCoin\", \"Nexus\", \"MarsCoin \", \"Crypto\", \"Anarchists Prime\", \"Droidz\", \"BowsCoin\", \"Squall Coin\", \"Song Coin\", \"BitZeny\", \"Diggits\", \"Expanse\", \"Paycon\", \"Siacoin\", \"Emercoin\", \"EverGreenCoin\", \"MindCoin\", \"I0coin\", \"Decred\", \"Revolution VR\", \"HOdlcoin\", \"EDRCoin\", \"Hitcoin\", \"Gamecredits\", \"DubaiCoin\", \"CarpeDiemCoin\", \"PWR Coin\", \"BillaryCoin\", \"GPU Coin\", \"Adzcoin\", \"SoilCoin\", \"YoCoin\", \"SibCoin\", \"EuropeCoin\", \"ZeitCoin\", \"SwingCoin\", \"SafeExchangeCoin\", \"Nebuchadnezzar\", \"Francs\", \"BolivarCoin\", \"Ratecoin\", \"Revenu\", \"Clockcoin\", \"VIP Tokens\", \"BitSend\", \"Omni\", \"Let it Ride\", \"PutinCoin\", \"iBankCoin\", \"Frankywillcoin\", \"MudraCoin\", \"PizzaCoin\", \"Lutetium Coin\", \"Komodo\", \"GoldBlocks\", \"CarterCoin\", \"Karbo\", \"BitTokens\", \"ZayedCoin\", \"MustangCoin\", \"ZoneCoin\", \"Circuits of Value\", \"RootCoin\", \"DopeCoin\", \"BitCurrency\", \"DollarCoin\", \"Swiscoin\", \"Shilling\", \"BuzzCoin\", \"Opair\", \"PesoBit\", \"Halloween Coin\", \"ZCoin\", \"CoffeeCoin\", \"RoyalCoin\", \"GanjaCoin V2\", \"TeamUP\", \"LanaCoin\", \"Elementrem\", \"ZClassic\", \"ARK\", \"InsaneCoin\", \"KiloCoin\", \"ArtexCoin\", \"EmberCoin\", \"XenixCoin\", \"FreeCoin\", \"PLNCoin\", \"AquariusCoin\", \"Kurrent\", \"Creatio\", \"Eternity\", \"Eurocoin\", \"BitcoinFast\", \"Stakenet\", \"BitConnect Coin\", \"MoneyCoin\", \"Enigma\", \"Cannabis Industry Coin\", \"Russiacoin\", \"PandaCoin\", \"GameUnits\", \"GAKHcoin\", \"Allsafe\", \"LiteCreed\", \"OsmiumCoin\", \"Bikercoins\", \"HexxCoin\", \"Klingon Empire Darsek\", \"Internet of People\", \"KushCoin\", \"Printerium\", \"PacCoin\", \"Impeach\", \"Citadel\", \"Zilbercoin\", \"FirstCoin\", \"BeaverCoin\", \"FindCoin\", \"VaultCoin\", \"Zero\", \"OpenChat\", \"Canada eCoin\", \"Zoin\", \"RenosCoin\", \"DubaiCoin\", \"VirtacoinPlus\", \"TajCoin\", \"Impact\", \"EB3coin\", \"Atmos\", \"HappyCoin\", \"Coinonat\", \"MacronCoin\", \"Condensate\", \"Independent Money System\", \"ArgusCoin\", \"LomoCoin\", \"ProCurrency\", \"GoldReserve\", \"BenjiRolls\", \"GrowthCoin\", \"ILCoin\", \"Phreak\", \"Degas Coin\", \"HTML5 Coin\", \"Ultimate Secure Cash\", \"EquiTrader\", \"QTUM\", \"Quantum Resistant Ledger\", \"Espers\", \"Dynamic\", \"Nano\", \"ChanCoin\", \"Dinastycoin\", \"Denarius\", \"DigitalPrice\", \"Virta Unique Coin\", \"Bitcoin Planet\", \"Unify\", \"BritCoin\", \"SocialCoin\", \"ArcticCoin\", \"DAS\", \"Linda\", \"LeviarCoin\", \"DeepOnion\", \"Bitcore\", \"gCn Coin\", \"SmartCash\", \"Signatum\", \"Onix\", \"Cream\", \"Bitcoin Cash\", \"Monoeci\", \"Draftcoin\", \"Vechain\", \"Sojourn Coin\", \"Stakecoin\", \"NewYorkCoin\", \"FrazCoin\", \"Kronecoin\", \"AdCoin\", \"Linx\", \"CoinonatX\", \"Ethereum Dark\", \"Sumokoin\", \"Obsidian\", \"Cardano\", \"Regalcoin\", \"BitcoinZ\", \"TrezarCoin\", \"Elements\", \"TerraNovaCoin\", \"VIVO Coin\", \"Rupee\", \"Bitcoin Gold\", \"WomenCoin\", \"Theresa May Coin\", \"NamoCoin\", \"LUXCoin\", \"Pirl\", \"Xios\", \"Bitcloud 2.0\", \"eBoost\", \"KekCoin\", \"BlackholeCoin\", \"Infinity Economics\", \"Pura\", \"Innova\", \"Ellaism\", \"GoByte\", \"Magnet\", \"Lamden Tau\", \"Electra\", \"Bitcoin Diamond\", \"SHIELD\", \"Cash & Back Coin\", \"UltraNote\", \"BitCoal\", \"DaxxCoin\", \"Bulwark\", \"Kalkulus\", \"AC3\", \"Lethean\", \"GermanCoin\", \"LiteCoin Ultra\", \"PopularCoin\", \"PhantomX\", \"Photon\", \"Sucre\", \"SparksPay\", \"Digiwage\", \"GunCoin\", \"IrishCoin\", \"Trollcoin\", \"Litecoin Plus\", \"Monkey Project\", \"Pioneer Coin\", \"UnitedBitcoin\", \"Interzone\", \"TokenPay\", \"1717 Masonic Commemorative Token\", \"My Big Coin\", \"TurtleCoin\", \"MUNcoin\", \"Unified Society USDEX\", \"Niobio Cash\", \"ShareChain\", \"Travelflex\", \"KREDS\", \"Tokyo Coin\", \"BiblePay\", \"LitecoinCash\", \"BitFlip\", \"LottoCoin\", \"Crypto Improvement Fund\", \"Stipend\", \"Poa Network\", \"Pushi\", \"Ellerium\", \"Velox\", \"Ontology\", \"Callisto Network\", \"BitTube\", \"Poseidon\", \"Aidos Kuneen\", \"Bitspace\", \"Briacoin\", \"Ignition\", \"Bitrolium\", \"MedicCoin\", \"Alpenschillling\", \"Bitcoin Green\", \"Deviant Coin\", \"Abjcoin\", \"Semux\", \"FuturoCoin\", \"Carebit\", \"Zealium\", \"Monero Classic\", \"Proton\", \"iDealCash\", \"Jumpcoin\", \"Infinex\", \"Bitcoin Incognito\", \"KEYCO\", \"HollyWoodCoin\", \"GINcoin\", \"PlatinCoin\", \"Loki\", \"Newton Coin\", \"Swisscoin\", \"Xt3ch\", \"MassGrid\", \"TheVig\", \"PluraCoin\", \"EmaratCoin\", \"Dekado\", \"Lynx\", \"Poseidon Quark\", \"BitcoinWSpectrum\", \"Muse\", \"Motion\", \"PlusOneCoin\", \"Axe\", \"Trivechain\", \"Dystem\", \"Giant\", \"Peony Coin\", \"Absolute Coin\", \"Vitae\", \"HexCoin\", \"TPCash\", \"Webchain\", \"Ryo\", \"Urals Coin\", \"Qwertycoin\", \"ARENON\", \"EUNO\", \"MMOCoin\", \"Ketan\", \"Project Pai\", \"XDNA\", \"PAXEX\", \"Azart\", \"ThunderStake\", \"Kcash\", \"Xchange\", \"Acute Angle Cloud\", \"CrypticCoin\", \"Bettex coin\", \"Actinium\", \"Bitcoin SV\", \"BitMoney\", \"Junson Ming Chan Coin\", \"FREDEnergy\", \"HerbCoin\", \"Universal Molecule\", \"Lithium\", \"PirateCash\", \"Exosis\", \"Block-Logic\", \"Oduwa\", \"Beam\", \"Galilel\", \"Bithereum\", \"Crypto Sports\", \"Credit\", \"SLICE\", \"Dash Platinum\", \"Nasdacoin\", \"Beetle Coin\", \"Titan Coin\", \"Award\", \"BLAST\", \"Bitcoin Rhodium\", \"GlobalToken\", \"Insane Coin\", \"ALAX\", \"LiteDoge\", \"SolarCoin\", \"TruckCoin\", \"UFO Coin\", \"OrangeCoin\", \"BlakeCoin\", \"BitstarCoin\", \"NeosCoin\", \"HyperCoin\", \"PinkCoin\", \"Crypto Escudo\", \"AudioCoin\", \"IncaKoin\", \"Piggy Coin\", \"Crown Coin\", \"Genstake\", \"SmileyCoin\", \"XiaoMiCoin\", \"Groestlcoin\", \"CapriCoin\", \" ClubCoin\", \"Radium\", \"Bata\", \"Pakcoin\", \"Creditbit \", \"OKCash\", \"Lisk\", \"HiCoin\", \"WhiteCoin\", \"FriendshipCoin\", \"JoinCoin\", \"Triangles Coin\", \"Vollar\", \"EOS\", \"Reality Clash\", \"Oxycoin\", \"TigerCash\", \"Waves\", \"Particl\", \"BitTorrent\", \"Nxt\", \"ZEPHYR\", \"Gapcoin\", \"Beldex\", \"Horizen\", \"BitcoinPlus\"], \"legendgroup\": \"\", \"marker\": {\"color\": [0, 0, 0, 2, 2, 2, 0, 2, 2, 2, 0, 2, 0, 0, 2, 0, 2, 2, 0, 0, 2, 2, 2, 2, 2, 0, 2, 2, 2, 0, 2, 0, 2, 2, 0, 0, 2, 2, 2, 2, 2, 2, 0, 0, 2, 2, 2, 2, 2, 0, 0, 2, 0, 2, 2, 2, 2, 0, 2, 2, 0, 2, 0, 0, 0, 2, 2, 2, 0, 0, 0, 0, 0, 2, 2, 2, 0, 0, 2, 0, 2, 0, 0, 2, 2, 2, 2, 0, 0, 2, 0, 2, 2, 0, 0, 2, 0, 0, 2, 2, 0, 0, 2, 0, 0, 2, 0, 2, 0, 2, 0, 2, 0, 0, 2, 2, 0, 2, 2, 2, 0, 2, 2, 2, 2, 2, 0, 0, 2, 2, 2, 0, 2, 0, 2, 2, 0, 2, 0, 2, 0, 0, 2, 2, 0, 2, 2, 0, 0, 2, 0, 2, 0, 0, 0, 2, 2, 2, 2, 0, 0, 0, 0, 0, 2, 2, 0, 0, 0, 0, 0, 2, 0, 0, 0, 0, 0, 2, 0, 2, 0, 0, 2, 0, 2, 0, 0, 2, 0, 2, 0, 2, 0, 2, 0, 0, 0, 0, 2, 0, 0, 0, 0, 0, 2, 2, 0, 0, 2, 2, 0, 0, 0, 0, 0, 2, 0, 0, 0, 0, 0, 0, 0, 0, 2, 0, 0, 0, 0, 0, 0, 2, 2, 2, 0, 0, 0, 0, 2, 0, 2, 0, 0, 2, 0, 2, 2, 0, 2, 2, 0, 2, 0, 0, 0, 2, 0, 0, 2, 0, 0, 0, 0, 0, 0, 0, 2, 0, 2, 0, 0, 0, 0, 2, 0, 2, 0, 2, 2, 2, 2, 0, 2, 0, 0, 2, 0, 2, 2, 2, 0, 2, 0, 2, 2, 2, 0, 2, 0, 2, 0, 0, 0, 2, 0, 2, 2, 2, 2, 2, 0, 0, 2, 0, 0, 0, 2, 0, 2, 0, 2, 0, 2, 0, 0, 0, 0, 2, 0, 0, 2, 0, 0, 0, 2, 2, 2, 2, 0, 0, 0, 0, 2, 0, 2, 2, 2, 0, 0, 2, 2, 0, 0, 2, 0, 2, 2, 2, 0, 2, 2, 0, 0, 0, 2, 2, 2, 0, 2, 0, 2, 2, 0, 2, 2, 2, 2, 0, 3, 3, 2, 2, 2, 0, 3, 0, 0, 0, 0, 2, 2, 2, 2, 0, 0, 0, 2, 0, 2, 0, 0, 0, 0, 2, 0, 0, 2, 0, 0, 2, 2, 0, 2, 0, 2, 2, 2, 2, 0, 0, 2, 0, 2, 0, 0, 0, 0, 0, 0, 2, 2, 2, 0, 0, 0, 0, 0, 0, 2, 0, 2, 2, 2, 2, 0, 0, 0, 0, 2, 0, 0, 2, 0, 0, 2, 3, 2, 0, 2, 2, 0, 0, 2, 0, 2, 2, 0, 2, 2, 0, 2, 0, 2, 0, 0, 2, 0, 0, 0, 0, 0, 2, 2, 2, 0, 0, 0, 2, 0, 2, 0, 2, 0, 0, 0, 0, 2, 0, 0, 0, 2, 0, 2, 0, 2, 0, 0, 0, 2, 2, 0, 0, 0, 0, 0, 0, 2, 0, 2, 0, 2, 0, 0, 3, 0, 1, 0, 0, 0, 2, 2, 0], \"coloraxis\": \"coloraxis\", \"symbol\": \"circle\"}, \"mode\": \"markers\", \"name\": \"\", \"scene\": \"scene\", \"showlegend\": false, \"type\": \"scatter3d\", \"x\": [-0.2505447839939197, -0.23241091364484373, 3.3668862191348516, -0.20980124597001518, -0.23672748783660177, -0.19871011360989702, -0.32247666691222326, -0.2307605899261521, -0.23453304764083538, -0.24564537638406408, -0.192401056413375, -0.08359885915122076, -0.26021484771619197, -0.24496305144288574, -0.20003979997652485, -0.1283046833445981, -0.2722486117862643, -0.1995267273489364, -0.2501559320797971, -0.24286784221868682, -0.18288698336619505, 3.6869853800711194, -0.2064552053220125, -0.1962334643651862, -0.200223060373784, -0.24905798835854298, -0.2668962960543757, -0.24695014386779762, -0.19943043859488638, -0.25053920889970566, -0.20002226175025528, -0.25052210752958726, -0.20013222833324276, -0.2723431932684792, 0.8331192048385174, -0.29853756320841446, 0.13651366607750903, 0.01871384294373954, 0.0878325460195604, -0.1998568582231569, -0.19464289506702442, -0.1997625827407307, -0.2903423768524306, -0.2286563089655033, -0.20019452918027583, -0.24758011049583512, -0.17525930560267403, -0.19882002172109212, -0.19908741667763674, -0.24945617359697703, -0.2873106521938072, 1.8113819332973218, -0.32237252804394484, -0.2097630418221684, -0.19580543945821627, -0.199886120616294, -0.20029506899566427, -0.32469607983208115, -0.19943596578996747, -0.25684000790816314, 0.021938698163326324, -0.2001507214700627, -0.21646535685746549, -0.23496689595605483, -0.16635385999079308, -0.1707238714349381, -0.20983979566395983, -0.19286673458894768, -0.16696918514725673, -0.3036481954663768, -0.2436027433585889, -0.24865916467813123, 0.10363441671313564, -0.20009615044134732, -0.1974987200978762, -0.1994945563957889, -0.3069772444587532, -0.3228084654537138, -0.19443501223903284, -0.25755449649088985, -0.20922851624684696, -0.24753668216303043, -0.32268995876892387, -0.20952815147874101, -0.2093930427678296, -0.21022546406734677, -0.27257119618926773, -0.23716643812207988, -0.24992773958268963, -0.19980954403333395, -0.23656915936906583, -0.25836377028582785, -0.19619012643211572, -0.3226688349970543, -0.2573261343408378, -0.2093013307887972, -0.16675247297550194, -0.24865559286387912, 4.091283416747386, 0.08451493300477861, 0.05167247589437408, -0.2981832746659476, -0.19843402579457192, -0.25929209921742513, -0.2979791593021471, -0.17830084828421336, -0.234997737332239, -0.1969762849479324, -0.16700638541866963, -0.20029327592796312, -0.22815456549645366, -0.19847227983005414, -0.25052705104641154, -0.16696532527133146, -0.19064572092840062, -0.23190106665647953, -0.30735491338409615, -0.2227435296299189, -0.23987182067471366, -0.2001654408127004, -0.2502021172900607, -0.1436094278463063, -0.1928701299156898, -0.20030832217731345, -0.20986726658343624, 0.7310130663268624, -0.3227902018180494, -0.3519925840563647, -0.27186242850331194, -0.24330325161050498, -0.20950802926519815, -0.3188897458137486, -0.27218153463743805, -0.3058309564634898, -0.19780033553194568, -0.1968777336640657, -0.23410788566549345, -0.23773053982509496, -0.16636774686299627, 0.2658969440027428, -0.25983166602287244, -0.1317267063265892, -0.2722321040151414, -0.20976415178531108, 0.029312915125321245, -0.19565906854271, -0.23033523264168412, -0.2601860834624131, 0.07881558608609703, -0.19862799664911057, -0.2602848692634193, 0.27135048662230166, -0.15626990873988716, -0.25001089138180865, -0.23259938269858194, -0.27119042866179427, -0.25469271679621336, -0.1986101347828538, -0.25073425051899423, -0.318795445782623, 1.213542278768725, -0.2599953195192864, -0.007388501998929095, -0.2899669007264881, -0.20004022771062055, -0.2721677392459472, -0.32042360995630564, -0.2581839967595101, -0.25493713773631, -0.27600574565857827, -0.321106722546833, -0.20030838945787227, -0.29849725376131714, -0.22047492872137248, -0.2500413046110784, -0.24932650089316163, -0.14984863583558136, -0.2723160550697717, -0.2930013177696587, -0.32453280091730485, -0.3221142933536044, -0.24911218857535267, 0.00025566621639456664, -0.26023334869862935, -0.21005642713331932, -0.32277017490268367, -0.25030100344963, -0.21134736271067553, -0.2505213479473444, -0.1968857599806931, -0.2332771456404879, -0.21001270487088589, -0.22470972943625103, -0.1998840438506081, 0.19335503478834695, -0.28876743282304734, -0.25013977368869017, -0.31950951635530656, -0.22683797150937568, -0.28820933166766183, -0.15187816841215185, -0.3131011956165666, -0.2871486363373736, -0.15658107553420758, -0.2374465975625634, -0.24566675486558176, 3.2481436392511096, -0.3222831832188745, -0.1969381627061072, -0.25756893888941285, 0.9552899971538491, -0.3227229274277778, -0.289300756580386, -0.24994816707897768, -0.2500900158384575, -0.2695363079952498, -0.2899669007264881, -0.3221277689014167, -0.26010065369240487, -0.24996613907654006, -0.34204400378187344, -0.2501274624762797, -0.24382616385758613, -0.32274803127848467, 0.0002843313740629421, -0.24898582644975814, 0.5023458846550983, -0.2503712241515247, -0.2504711584787855, -0.30725776618076406, -0.28900816685813624, -0.20028379904288224, 0.0004260552679375426, -0.24401138315442386, -0.245193646436863, -0.26021002334777227, -0.3226454264237306, -0.2501994955085551, -0.2559749788153597, -0.25031902618864377, -0.2289630890378798, -0.23473408401394183, -0.23010159329907465, -0.20025042629805664, -0.15161116168478278, -0.2721174442765046, -0.24569144365256487, -0.2383619445929286, -0.1991056854114673, -0.2436986322703443, -0.23454211786250584, -0.22590103003046025, -0.3226393394209533, -0.3063668371567017, -0.32146177358078865, -0.15905490816121629, -0.287951809521037, -0.32253835441636397, -0.22709157205443564, -0.28151190206564464, -0.3162769772074694, -0.2502651850994796, -0.2502413879057299, -0.2504375121573217, 0.5152199775887198, -0.3221961040244322, -0.1997175296872823, -0.21151406557560462, -0.1690019217266492, -0.2899696886793939, -0.24922380107197928, 1.270157644392701, -0.24308406122345977, -0.1994280106757351, -0.29808432376607663, -0.22907140564974868, 0.8628461844811124, -0.23884720883012858, -0.12892911333249393, -0.25240248899017487, 0.04216759306323479, -0.2777734194622638, -0.2721511239049425, -0.2771544837344014, -0.3224147061007783, -0.1999078565706438, -0.16659164975205554, -0.19950040279412593, -0.2716637569984246, -0.2723627653405417, 0.36489235352521837, 0.000777676651433475, -0.16669619550989653, -0.22399661742019364, 3.7942850532284087, -0.14547417872120086, -0.3000501501868398, -0.27100484777313594, -0.3219250694367493, -0.20980041941104713, -0.3225603889169964, -0.23492448379254433, 4.44325981871015, -0.09402265213422392, -0.2897390818402351, 1.5274285003481265, -0.2000023732003587, -0.19926085969443386, -0.19991752934970541, -0.19990460450624237, -0.2498202507990315, -0.2504515247460666, 0.001067856320492668, -0.2607457257100047, 0.8669488971075437, -0.3224474219941285, -0.18085734598413483, -0.2974694259193177, -0.2398297068029824, -0.2503717313924212, -0.25317890488642475, -0.29430355649841367, -0.24552674338854721, 0.5880034955479004, -0.25933088465303433, -0.2710513111760749, -0.3049312237332035, -0.25307236145037254, -0.2503062261114588, -0.32035961674091246, -0.19910391433010585, -0.293223184636318, -0.250197394442239, -0.045391270627662836, -0.26692577427194275, -0.2529699955551458, -0.23503987399185552, -0.25311018148438574, -0.32088924903773136, 3.254113180146759, 0.36887825742729535, -0.16280904092905024, -0.21102881330885698, -0.24707813328362022, 1.0934870442602949, 0.00024083387664115371, -0.23072295630405296, -0.26226581023692264, -0.30712936889826453, -0.26604767540142243, -0.21551944710283805, 0.3149538629053099, -0.2504329418084795, -0.10181216808499437, -0.3217565528086792, 1.3538171214274688, -0.2723342495339944, -0.2531951662312223, -0.3071967385005818, -0.24481892307208883, -0.19912468459979682, -0.23429340269692064, -0.2504740339187471, -0.3073240407501181, -0.2722505197799927, -0.20978264010904402, -0.25994007862466084, -0.2988025089950814, -0.27299665046896293, -0.2180810389032772, 0.7433065695211539, -0.2535424634383991, -0.24535888272817163, 0.0050794403306994775, -0.0784936742295013, -0.25375851757339046, -0.25195305764433384, -0.14105274455697403, -0.12268102213007341, -0.2949207851495129, -0.19976678079941532, 0.16109015745184743, -0.2649713688675527, -0.31020786811228845, -0.364856439359743, -0.32252921904639303, -0.20411434869567172, -0.23376196644799338, -0.29854013652487027, -0.16923615249853946, 0.0011282803176596028, -0.20006031572972852, -0.23232235067628043, -0.27725230914602816, -0.2505041986721323, -0.25047988662839477, -0.2443764500215991, -0.22703518560506764, -0.2237787687405867, -0.29510551619671804, -0.2892558511769585, -0.2501217166713352, 3.417117630407151, -0.27219144643975857, -0.3190423825882235, -0.289467334221236, 0.0004397029764821744, -0.28618500904357275, -0.18172978489667024, -0.22723520235332942, -0.2438076560811599, -0.1874089133190136, -0.23198020115620638, -0.23459532607664196, -0.22695534441618892, 0.006134868307011034, 0.5654900551384758, 2.361632301571225, -0.02405577525180121, -0.23478856638074858, -0.23749973590444295, -0.24522835971295814, 0.006927897777423405, -0.24943348165744877, -0.1156608123187461, 2.572174807812764, -0.3009237911640725, -0.2435210904611056, 0.8027275995106375, -0.25136801557179833, -0.2365785034161609, -0.272312871467878, -0.30063064732976286, -0.3072385319234532, -0.3226316394247995, -0.06443402356728486, -0.30936253975813965, -0.3067285254622309, -0.20008118607600503, -0.2503782663360493, -0.21306457965715495, -0.22101893697647268, -0.15220007013363895, 3.6354362771744406, -0.30680029208916343, -0.3219305652787855, -0.23139217775999998, -0.2881724388074178, -0.18464645750351, -0.26962632207915815, -0.3075253280885538, -0.2722721026089563, -0.23672651518788762, -0.2312625472745287, -0.2515617015118423, -0.3338353970614718, -0.11784391070483827, -0.18892002818273276, -0.22613096550059852, -0.20980045656199262, 0.9202624682033549, -0.09966631603056542, 0.10441238019643927, -0.32178202035722436, -0.22589288652551703, -0.22652925515311104, -0.27972550841769545, -0.24748603042996667, -0.19988565823463153, -0.25015366123556293, -0.2428556240238927, -0.32234192509586673, -0.24533063569288927, -0.3073779642942555, 0.8790944692888637, -0.2397824360209952, -0.30738180128110754, -0.24944620131327666, -0.19726171500618436, -0.18419458653203646, -0.3183704460316852, -0.20895074397373098, -0.1168941933159803, -0.20750746285475194, -0.32221754206073633, 3.2577538248184625, 0.28884388698101754, -0.18971990630559019, -0.3198778044572908, -0.16680143032655817, -0.24847741116518135, -0.15583154203127134, -0.24974694197126798, -0.24496886166696275, -0.25042842454008474, -0.3124750379449156, -0.19079464547803632, -0.1324023953313852, -0.04370227413096335, -0.31673603566516634, -0.20952752887618484, -0.2496680404768838, 0.6632599204889429, -0.24161071301141984, -0.2464506231486732, -0.3182700599812717, -0.24928274280375182, -0.2902737212608472, -0.20021041858103383, -0.1976377555021652, -0.3452227842044003, -0.2584879869612746, 3.24863980954723, -0.01318572002867629, -0.24446319344279585, -0.3031026401339605, -0.22346159102969587, -0.1671493828001279, -0.2349073627449978, 3.2579008037353256, -0.2374847364232266, 3.2591311676723778, -0.23305167400388932, -0.35864336006234737, -0.29021143649566655, 36.645143701201704, -0.25859443325845166, 2.242421350086459, -0.24783359474897385, 0.02607732081639818, -0.24564642166971773, -0.23531449610583807], \"y\": [1.1001414392386528, 1.099578913470427, 1.7332760042090234, -1.335191683443152, -2.0826530646667973, -1.0906746346915488, 1.195641620978907, -2.2713805238150924, -2.082725897073232, -1.9526037101561513, 1.6230016200103976, -1.8053319008069055, 0.8555788924373348, 0.5828363229654114, -1.0906326027845106, 1.8675672369450236, -0.9951233443351911, -1.0906494320780722, 1.1001292015705568, 1.0999106557950777, -1.802405613328138, -1.2200334314861776, -1.3352971348198668, -1.0907545127987932, -1.090626439974956, 1.100096743340445, -0.45921913640414247, -1.2614276382209928, -1.0906518092028938, 1.1001412553007557, -1.0906331300168894, 1.1001407248597495, -1.0906295673265727, -0.9951204356708587, 0.5239269666658795, 0.9293808597245445, -1.8124831000110349, -1.3420674578980187, -1.0997271222176497, -1.090638102360944, -1.0908039556838653, -1.0906412959706786, 1.4788199341946036, 0.43627247930667346, -1.0906276322108486, -1.5786811766163378, -1.091423294519586, -1.090670873087197, -1.0906629080826844, 1.1001086808619889, 0.922300800825858, -1.1540601255535297, 1.1956384903668118, -1.3351928319323603, -1.090767884033573, -1.0906371899951455, -1.0906242866980158, 1.6759135454257772, -1.0906514415233628, -2.137060147909934, 0.819665686433311, -1.090628908764079, 0.8541853527026876, 0.8273882275387118, 1.84975948336913, -1.0915164771883263, -1.3351905245661542, -1.0908585664830783, 1.8497779812115684, 0.6122702746227427, 1.099919021582905, 1.1000815510384232, 1.0894941400340477, -1.0906309087825532, -1.0907164768092965, -1.0906499808593906, 0.9228920159276727, 1.195652314459812, -1.3356819575073122, 0.1168750645790282, -1.3352097509274385, 1.6775835978718308, 1.1956484251295165, -1.3352005795188233, -1.3352058830859397, -1.3351782524756226, -0.9951129931815084, 1.0997389339363992, 1.100122857030819, -1.0906395900807273, 0.40964698958765894, -1.2705874028591762, -1.0907563196127839, 1.1956479371809974, 0.11686823226194089, -1.3352074962275091, 1.8497714664322429, 1.1000843197408603, -2.4173332188536945, -2.290856524616527, 0.9764275617531747, 1.5023282187034899, -1.090683624674153, 0.855549649461177, 0.9293642161931991, -1.0913403375512247, 0.8273896834951855, -1.090729449470166, 1.8497787073299057, -1.0906243823695307, 0.8271676234055664, -1.0906790717620738, 1.100140906153956, 1.8497775383493293, -1.0909146471262354, -2.135858067272444, 0.9229027157185176, -1.8011420844690742, -1.6129695302305949, -1.0906282496300623, 1.10013048437425, -1.0923315888411718, -2.3293356730002417, -1.0906238644067792, -1.335189698738159, -1.1216279420460442, 1.1956517654529313, 1.3019579370955399, -0.995135378613024, -2.172540688628308, -1.3352015687793655, 2.043221911402089, -0.9951253934843394, 0.6762884661616764, -1.090706110212399, -1.090735144840481, 0.8273629001819367, -2.082623463566441, 1.8497582666996715, -2.295924875676358, 0.8555677654605864, 1.8676806889094635, -0.9951237098593162, -1.335192798564761, 0.9465823286770825, -1.090770472919584, -2.2501398034884508, 0.8555780277292557, 1.1827110072010565, -1.0906771032832896, 0.8555813732690817, -1.3503621369952863, 1.636274828378661, 1.100124016740904, 0.8273103598037136, -0.9951572470220021, -2.182536525644421, -1.0906803970734742, -2.1265025701799143, 1.1955191253438462, 0.7806082327619763, 0.8555717047142744, 0.5504313466821746, 1.4788079930153102, -1.0906325572433078, -0.9951259389308154, 1.1955781700056327, 0.8555112809661037, 0.8554037950551255, 1.639871373519507, 1.19559661397398, -1.0906238622851692, 1.428025857379423, 1.099172116892838, 1.1001248547606859, 1.1001047826543204, 1.5769723864488632, -0.9951214802755636, 0.9224504005006209, -0.9602323105926784, 1.195629812226031, 1.1000954312585012, -2.2883205896416934, 0.8555794812946965, -1.335183644074917, 1.1956510653577215, 1.1001334243972447, -1.8014850017100865, 1.1001407347079695, -1.090733269418963, 0.827337959242274, -1.3351849879386737, 0.424843364764379, -1.0906375792537053, 1.9791758057197812, 1.4787701698668454, 1.1001292638613105, 1.195552814992282, -2.3163741175594663, 1.4787545035017926, 1.5770398528813117, 2.028612452139395, 1.4787140867972761, 1.9901038872772723, -2.082632303331042, -1.9526030674784154, 1.3873208255576108, 1.1956355430301107, -1.0907284258231429, -0.9955803308707426, 1.8160129592096121, 1.1956496171198963, 1.4787869869764385, 1.1001222442114302, 1.1001263953722942, -0.9952116793390781, 1.4788079930153102, 1.1956298904995417, 0.855575524913583, 1.1001229655459792, 0.29295906535719407, 1.1001279786471785, 1.0999181994402278, 1.1956503343129286, -2.2883218108805, 1.1000898677070812, 0.8041610589166124, 1.1001357968264949, 1.1001391175483062, 1.4589724863801585, 0.5777601050579072, -1.0906246700827489, -2.2883262021006385, -2.1725175775109866, 1.09996423253355, 0.855578780090365, 1.195647107515699, 1.1001304055585208, -0.9956445896888271, 1.1001339356911508, -2.2714406064047163, 0.827379960027152, 0.34619494100975823, -1.0906256944344979, 1.577031433151548, -0.9951269606525247, -1.9526021945557894, 1.0997748731306616, -1.090660030387734, -2.172527338906117, 0.8273748615603076, -2.2297488582820524, 1.1956471975601488, 1.9900364844636176, 1.1956117976953062, -1.091994730924387, 1.478744464625562, 1.195644161759184, -0.5508527949494335, 1.4785414002756547, 1.1954396242033287, 1.100132340696948, 1.1001313838522606, 1.1001378876179135, 0.557532983585671, 1.1956325984371596, -1.0906427654071928, 0.8266183543287934, -1.336499209013436, 1.4788077499994274, 1.1000982963014934, 1.8225967998826051, 0.5827737061931367, -1.0906526611503211, 1.4280145061076719, -2.271434735585394, 2.0150447964670133, -2.2913586444000673, -2.284066776137273, -2.096692902188482, -2.289645580316322, 1.6399271277664156, -0.9951256540346144, 1.6399088155276818, 2.146163430734208, -1.0906365129349591, 1.8497656512996912, -1.090650582953913, -0.9951422334886607, -0.9951198767116473, 1.0800060952360024, -2.2883377203054205, 1.8497691569809076, -2.3722227159070486, -1.2172454458336996, -1.233487223683955, 1.4510330110611327, -0.9951604074157541, 2.1461487113264797, -1.3351917082910751, 1.1956445461174867, 0.8273869124831154, 2.8695842051253333, -1.0941621615848651, 1.4787997847477161, -1.142562893268721, -1.0906336952217555, -1.090658078218615, -1.0906356248176112, -1.0906360133629442, 1.100118081390777, 1.1001384984226186, -2.2883475839203977, 1.6251708800685583, 1.3689164144947041, 1.1956405784076252, -1.95455753838542, 0.6120715792115328, -0.9960975913413915, 1.1001357227424056, -1.5785027672717262, 0.6474656742867198, -1.9526072764892364, 1.0741160183164564, 0.8555530051661787, 1.6397250484289636, 1.9516665780209128, -2.1825893646480328, 1.1001335814003748, 1.731644688587571, -1.0906600836298022, 1.4976861395093384, 1.1001305127297114, 0.5765430805312834, -0.9952941442289648, -1.578509635771525, -2.0827129487001574, -1.5785049901046466, 1.1955899128938885, 1.3871291138107038, 1.6195073963538595, 1.8496460560102115, -1.8015158216675178, 1.100030361770158, -2.3239629034542895, -2.288320225460161, -2.0828368405550806, 1.367175978575048, 1.458968463100555, -0.9953270780889498, -2.2718713672632633, 1.0815073410755762, 1.1001380443688866, -1.093748239074226, 1.1956190578660568, -1.2854306194313454, -0.9951207633653649, -1.5785020823286038, 1.4589711093300828, -1.5787695431160556, -1.090661518246416, 1.0996234774302756, 1.1001391816276251, 0.922901754945822, -0.9951233850253894, -1.3351922155132734, -1.115935237061248, 1.4280353117342814, -0.1645920996843245, 0.35314841922632234, -2.3109846107398453, -2.1148071951237526, 1.099977958814861, -2.288476256011342, -1.0942890920214734, -2.182563661648282, -1.2707777025322444, 1.576688355635022, 2.700823928311243, 3.1687100971424083, -1.0906414312306965, -1.1020897584715776, -0.9953577997715948, 1.0748311077078914, 3.255000696635962, 1.1956431027477217, 1.5132257569569367, 0.8273484812209111, 1.399781761538357, -2.0848944199201007, -2.288346822078293, -1.0906319860420193, -2.2770892243489693, 1.6399101548927848, 1.1001401211200856, 1.1001393248884852, -1.9526434579442529, 0.8271339727208145, -2.3164751884041404, 1.3971315587759539, 1.4787843950920017, 1.1001277405519652, 1.3798084753175273, -0.995124441862663, 1.7316050900280848, 1.4787910141354597, -2.288326396670822, 0.6633382254240243, 1.097905330501493, -0.5508475864809066, -2.1725242340080526, 0.9938713623009496, -2.264212994139122, 0.8273767364985327, -2.3163702328655726, -2.2885166124309055, -2.272063587007022, -2.3653213452468465, 1.0929993860516236, 0.827381957380281, -2.3058100818246676, 1.9930140766362503, -2.2885211695900933, 1.1001052860347698, 1.5949112536747194, 0.3331770009797307, 1.458761321548619, 0.5827901065744685, 1.4492793018603098, -1.254678388250032, -2.288941428257643, -0.9951214452498648, 0.9360556436187605, 1.4589717120656416, 1.7317193580952333, 0.8217105303887035, 0.9202018264620102, 1.4589570339572167, -1.0906313947627697, 1.1001361065760438, -2.271969694212897, -2.2421697513266734, -0.6775948672060704, -2.370380944669438, 0.9228848988547652, 1.1956242890112823, 0.8272727960259997, 1.4787478383693506, -1.335947884142482, 0.9596515570881097, 0.9229084596794538, -0.9951228015699827, 1.0997227675744106, 2.0086417400261145, -1.2546718768720837, 3.8120584652911993, -1.9566933670679523, 1.2404849316568427, -2.3163974174396604, -1.3351917071742474, 1.2190630040352017, 0.916659855825563, -2.291715487633961, 1.731692220415595, -2.2801112687575267, -2.2800895272479016, -0.03461124405494011, -2.229899929136311, -1.0906365829238396, 1.1001289950105506, -1.9526954780864718, 1.7317101949331513, -1.952613494960104, 1.458976153036461, 1.0637376723291354, -1.612972249985692, 0.9229035338245615, 1.1001056684117727, 1.5130053733882736, 1.9910159047002716, 1.1955051724670978, -1.3352186565041595, -0.3409825167283774, -1.335265443275981, 1.1956335697322729, 1.3870356836448454, 1.0827824970839646, -1.0909742137771397, 1.1955642132588873, -1.5812292865335107, 1.1000727535469406, -2.2824427891115135, 1.1001156813573885, 0.5828362198287937, 1.100137941253926, 1.195325330690862, -1.0909101701715307, 1.0962466863432545, 0.8490707997486548, 1.1954694388970994, -1.3352005982354385, 1.100114592424786, -1.118218480278682, 1.0998597910227486, -1.261443341098968, 1.1955090834050883, 1.1001034672030752, 1.4788175761328368, -1.0906269507420638, -1.0907100747172012, 0.4408304464841123, 0.8555242670600472, 1.3873047685087636, 0.82039447731737, 1.0999488102705426, 0.6122520309497961, -1.801120589691681, 1.849783394373207, -2.2700867276708165, 1.3870315920065954, -2.082631100668832, 1.3869946049307191, 0.5824783260518143, 4.192402171510807, 1.4788157156918378, -0.03705438981174, 1.566353943038639, 0.5195547355290328, 1.1000517650679387, -2.289142273837206, -1.9526036787328873, 0.8273991731826033], \"z\": [-0.5948045160408888, -0.5950875839147033, -0.7007497336570395, 0.1736017311098763, 0.4180345076845595, -0.0003485561860320355, -0.5018520879183532, 0.43956403521811216, 0.41799867570420474, 0.33434372208906205, 0.027405157905079247, 0.31927685426147356, -0.42087688049991806, -0.08657344851574918, -0.0003275401133538087, -0.6199337179210753, 0.09262937193529078, -0.0003358517837824056, -0.5948106440325821, -0.5949219133033551, 0.32077580257505856, -0.06392694788195799, 0.1735489514440558, -0.0003882272661291449, -0.0003245210716287516, -0.5948272524038501, 0.026250267942273323, 0.19694156114815517, -0.0003371527765992373, -0.5948046067105592, -0.00032780831126663575, -0.5948048736427005, -0.00032604156189133533, 0.09263083995228434, -0.40055436154231816, -0.3975182271494452, 0.3157338443191816, 0.17010518787179968, -0.004875709049004994, -0.00033033769365976005, -0.00041308978033411157, -0.00033189849614103837, -0.10123952933120896, -0.30765497196761127, -0.00032506822414936164, 0.2219417256647731, -0.0007216451543247292, -0.00034672383809678013, -0.0003426591029017704, -0.5948211741084074, -0.16785305260612865, -0.03206750541873966, -0.5018536804298593, 0.1736011468847249, -0.0003949397034437264, -0.0003298793781105085, -0.0003234236923027243, -0.4648943779878965, -0.00033700147939144675, 0.36633592054274583, -0.26443482310809496, -0.0003257247568846466, -0.421571866403664, -0.2605063488137749, -0.6433165834870181, -0.0007767004285904481, 0.1736023206191638, -0.0004406541028804427, -0.6433071738169583, -0.3724468078134392, -0.5949152234162454, -0.5948344125763161, -0.6002206921641529, -0.0003266783912608869, -0.00036887873330694284, -0.00033620513141535083, -0.16755230731321552, -0.501846775754863, 0.17335735860446672, 0.06122630777785127, 0.17359269112246495, -0.19239140761830287, -0.5018486962652662, 0.17359732747854897, 0.1735948498518368, 0.1736084430449321, 0.09263452154637698, -0.5950092085603225, -0.594813962831101, -0.0003310828901715219, -0.47959354131756526, 0.19042518360986338, -0.0003890569966134473, -0.5018489705615807, 0.06122282644957899, 0.1735938264048485, -0.6433104878209649, -0.5948335142070967, 0.35228812605017124, 0.4155569913700459, -0.4107683903048301, -0.180597825365195, -0.00035300689136086826, -0.42089148950047545, -0.3975267189359376, -0.0006779423522697608, -0.26050570196132483, -0.0003759624194152279, -0.6433067348964812, -0.00032346495225228227, -0.2606157637711537, -0.0003512943427861349, -0.5948047872160624, -0.6433073411372474, -0.00047107704433383833, 0.49194497684627425, -0.1675467485163829, 0.32140695537427844, 0.2366801540980198, -0.000325427881219424, -0.5948099727539097, -0.0011913396893927027, 0.5913433765802704, -0.0003232131109735826, 0.17360274070972206, -0.015561459138693437, -0.5018470550350453, 0.0073020406255646896, 0.09262332556398975, 0.442952917600714, 0.17359689241167833, -0.754313902945265, 0.09262833534926004, -0.07304790562862049, -0.0003638357941149762, -0.0003783749767036224, -0.2605193205727547, 0.4180496634608507, -0.6433169125979504, 0.44200571998179417, -0.4208826102345164, -0.6198778821816371, 0.09262916281302647, 0.17360116385849397, -0.41564707213179525, -0.00039657785966830297, 0.39383890866995924, -0.42087732036839226, -0.5082760090479342, -0.0003498119343085044, -0.42087568517853946, 0.16600989379941353, -0.6792252626601885, -0.594813135264619, -0.26054477193402764, 0.09261249691272615, 0.45439306736216883, -0.00035099855812069993, 0.35104770885963027, -0.5019123021110914, -0.28372916697111866, -0.4208804324969111, -0.3872912355421974, -0.1012454877726455, -0.00032752274292938035, 0.09262808106976199, -0.501884057618198, -0.4209101103993313, -0.4209630354557304, -0.6773952139746879, -0.5018743044134214, -0.0003232120492931488, -0.050311009482133795, -0.5952860088879391, -0.5948126954483689, -0.5948231570882125, -0.30903458792808386, 0.09263034914372617, -0.16777314479635164, 0.10634474257778431, -0.5018579326282859, -0.5948273982127126, 0.41684647485314186, -0.4208765867499212, 0.17360575537178533, -0.5018473937787666, -0.5948084713972642, 0.32123257471430416, -0.5948048744289447, -0.0003777107650937436, -0.2605320135787801, 0.17360507699120467, -0.31244844185311754, -0.0003300194307368341, -0.8317729975496748, -0.10126441505476226, -0.594810709535538, -0.5018973321993614, 0.4626723099957162, -0.10127258144262644, -0.30900141311585505, -0.6776786486740902, -0.10129162828168845, -0.8262864046428384, 0.41804522065699473, 0.33434404901289577, 0.2332867383848968, -0.5018551333434864, -0.0003758264693076948, 0.0923996894400608, -0.6604781810402384, -0.5018481255372405, -0.10125599945940492, -0.5948140569868251, -0.5948119252782843, 0.09258564234458784, -0.1012454877726455, -0.5018578348519576, -0.42087860511792013, -0.5948137221605412, -0.03984707640506303, -0.5948112010250728, -0.5949143047423747, -0.5018477540621714, 0.41684591737630394, -0.5948299153558934, -0.2721334198567051, -0.5948073109333891, -0.5948056778440177, -0.2338429770380639, -0.3578188324593521, -0.00032361080902106244, 0.41684370678966276, 0.44296435064813333, -0.5948917613765126, -0.4208769434456508, -0.5018493702665983, -0.5948100128466942, 0.09236989958114127, -0.5948082058975573, 0.43953454404543807, -0.26051032941713287, -0.22382045653550636, -0.0003241281441386414, -0.3090056264548109, 0.09262747439095526, 0.3343444698762825, -0.594990926646562, -0.00034160818340741716, 0.4429594488779847, -0.26051304220009164, 0.4983051118600045, -0.5018493728811282, -0.861491535639043, -0.5018673804433307, -0.0009973792362082481, -0.10127728072284033, -0.5018509171631462, -0.08289323154505199, -0.10137889841483569, -0.5019520712287573, -0.5948090214354805, -0.594809465353261, -0.5948062647562192, -0.09901038497930965, -0.5018565732695222, -0.00033262557999237056, -0.26088647762997086, 0.17295097387103298, -0.10124555343306423, -0.5948258538545448, -0.642290130139371, -0.08660421382429304, -0.000337448013504809, -0.050316972130085354, 0.4395370667984214, -0.7947739494505202, 0.31008473942227965, 0.44803979055146337, 0.5419941518980642, 0.4161839990749926, -0.6773673160139425, 0.09262808689117451, -0.6773766834326557, -0.9495497359320916, -0.00032953915589069917, -0.643313272043462, -0.0003363734676736153, 0.0926199950466276, 0.09263112950566675, -0.604757370175997, 0.4168380156746182, -0.6433115530833929, 0.5300192195409592, -0.06357517938536995, 0.11831413756618318, -0.15406305374680995, 0.09261046035228551, -0.94955722354967, 0.17360171846996791, -0.5018506723362647, -0.2605070106644029, 3.519843103981209, -0.0020622562551038783, -0.10124942212668173, -0.02674408856471063, -0.00032810162134522394, -0.0003401340714956055, -0.00032919331052459923, -0.0003293909597045727, -0.5948161182825118, -0.5948059876623204, 0.4168332003647136, 0.028488300114311672, -0.12219747670105174, -0.5018525892844032, 0.3333509243655821, -0.3725455856860673, 0.09213372412994664, -0.5948073327770104, 0.22203068979488377, -0.0697375412695926, 0.33434190793059165, -0.607898492641219, -0.4208901708141733, -0.6774701117804017, -0.5260260238665979, 0.4543669207478261, -0.5948083915313201, -0.5681811869690137, -0.00034163526712259446, -0.0496599449805647, -0.5948099885365876, -0.08972266791136457, 0.09254440037245859, 0.22202730018361602, 0.418005668129468, 0.22202958688218935, -0.501877684207109, 0.23319138998570868, -0.687580811909453, -0.6433730657194418, 0.32122066426456614, -0.5948598029074684, 0.39920817789267105, 0.4168466745985379, 0.4179416022958733, -0.34306809070554917, -0.2338449946610458, 0.09252880642991164, 0.4393201409271413, -0.6039937012196887, -0.5948062371819732, -0.0018835756059518767, -0.5018634032651672, 0.15837346974131544, 0.09263068369000599, 0.22203100344307736, -0.23384375867297033, 0.22189772503124572, -0.000341999898449369, -0.5950627817631049, -0.5948056412818571, -0.16754723145604355, 0.0926293686243977, 0.1736014556172259, 0.04800576870872486, -0.0503062494104967, 0.1578761524040051, -0.3037409070154456, 0.4053754121933406, 0.42298070542802035, -0.5948863322635318, 0.41676917838106964, -0.0021871022562323164, 0.4543790954624081, 0.19032795114322767, -0.3091755940406439, 19.410574678269, 16.06496954257661, -0.0003319209340867331, -0.00604911827224552, 0.09251288881604074, -0.5464750222312998, 10.951367666307924, -0.501851316769359, -0.4685874968103796, -0.26052594245586835, -0.02041334037350184, 0.41693202595419365, 0.41683313067129557, -0.00032722638252927823, 0.4768011161345127, -0.6773757181099453, -0.5948051691672421, -0.5948055626105334, 0.3343237867820626, -0.26063288154269143, 0.46262251100149615, 0.03147152618347478, -0.10125709767987509, -0.5948113105498872, 0.14617190021221513, 0.09262870351109422, -0.5682013303657827, -0.10125377700522376, 0.4168435695605482, -0.050576389244772535, -0.5959123160036882, -0.08289073999932906, 0.4429610589115605, -0.03978404374531673, 0.44154611611522077, -0.26051213727651584, 0.46267422292548815, 0.4167501795985894, 0.3583844314448527, 0.3787433440601224, -0.5983784895244754, -0.26050937713859124, 0.4408744384528185, -0.8248495185137953, 0.41674444181110953, -0.5948224199608121, -0.2855876922719745, -0.3485185751110962, -0.2339467140861074, -0.0865964496739611, 0.07458393990947229, 0.2096044036193018, 0.4660060645692169, 0.0926303437772079, -0.38489245287955176, -0.2338433361486048, -0.5681443326591373, -0.26329679574209164, -0.4040441275464913, -0.23385091867636423, -0.0003269191985711215, -0.5948071707546574, 0.4392744729348385, 0.42603602684349895, 0.12586653091796904, 0.3094405316205659, -0.16755560892152252, -0.50186074223317, -0.2605636545209004, -0.1012749866199857, 0.17321705927025055, -0.4749866557314092, -0.1675439367428837, 0.09262967701428329, -0.5950169105949811, 0.2898863682379749, 0.20960759373964344, 11.609811968609975, 0.332307281344754, -0.1342831804811657, 0.46266082040202217, 0.1736017190380873, -0.12480987487542844, -0.17072254570806475, 0.41516629692569024, -0.5681578542034904, 0.49830851210337546, 0.4983191087506204, 0.07415099958366125, 0.4809447121748242, -0.0003296806897161899, -0.5948107245826019, 0.3342984421051909, -0.5681489133927677, 0.33433880195440424, -0.2338411212935322, -0.6128892172769764, 0.23667877638135482, -0.16754633409268616, -0.5948222254494008, -0.4686970535467177, -0.8258369949891096, -0.501919191148204, 0.17358825940495046, -0.048823417690790176, 0.17356506221283777, -0.5018561371406395, 0.2331410229726741, -0.6034319809787009, -0.0004957501579835848, -0.5018915919728912, 0.22066676358559115, -0.5948382965879667, 0.49716245297471184, -0.5948173043563396, -0.08657345171486906, -0.5948062954314731, -0.5020102112116154, -0.00046879966161805407, -0.5967248811035522, -0.42418760479552675, -0.501939744796893, 0.1735973179575915, -0.5948180858115899, -0.014070528887765296, -0.5949454693369143, 0.196933694963626, -0.501918430431147, -0.5948238262452906, -0.10124067669055056, -0.0003247577100742207, -0.00036601617586439194, -0.1460551836163773, -0.4209041868280091, 0.23327877270729916, -0.2640060837955108, -0.5949007657169405, -0.37245576130991775, 0.32141790578422186, -0.6433044194994941, 0.43691489898329705, 0.23313888363727547, 0.4180458224843312, 0.23312006867647048, -0.08675557250568769, 9.33764652817826, -0.10124162519904444, -0.4708030593774849, -0.06175960623512877, 0.07146719610456846, -0.5948486834234639, 0.41643654984665357, 0.33434373807377293, -0.26050086885496704]}],                        {\"coloraxis\": {\"colorbar\": {\"title\": {\"text\": \"class\"}}, \"colorscale\": [[0.0, \"#0d0887\"], [0.1111111111111111, \"#46039f\"], [0.2222222222222222, \"#7201a8\"], [0.3333333333333333, \"#9c179e\"], [0.4444444444444444, \"#bd3786\"], [0.5555555555555556, \"#d8576b\"], [0.6666666666666666, \"#ed7953\"], [0.7777777777777778, \"#fb9f3a\"], [0.8888888888888888, \"#fdca26\"], [1.0, \"#f0f921\"]]}, \"legend\": {\"tracegroupgap\": 0}, \"margin\": {\"t\": 60}, \"scene\": {\"domain\": {\"x\": [0.0, 1.0], \"y\": [0.0, 1.0]}, \"xaxis\": {\"title\": {\"text\": \"PC 1\"}}, \"yaxis\": {\"title\": {\"text\": \"PC 2\"}}, \"zaxis\": {\"title\": {\"text\": \"PC 3\"}}}, \"template\": {\"data\": {\"bar\": [{\"error_x\": {\"color\": \"#2a3f5f\"}, \"error_y\": {\"color\": \"#2a3f5f\"}, \"marker\": {\"line\": {\"color\": \"#E5ECF6\", \"width\": 0.5}}, \"type\": \"bar\"}], \"barpolar\": [{\"marker\": {\"line\": {\"color\": \"#E5ECF6\", \"width\": 0.5}}, \"type\": \"barpolar\"}], \"carpet\": [{\"aaxis\": {\"endlinecolor\": \"#2a3f5f\", \"gridcolor\": \"white\", \"linecolor\": \"white\", \"minorgridcolor\": \"white\", \"startlinecolor\": \"#2a3f5f\"}, \"baxis\": {\"endlinecolor\": \"#2a3f5f\", \"gridcolor\": \"white\", \"linecolor\": \"white\", \"minorgridcolor\": \"white\", \"startlinecolor\": \"#2a3f5f\"}, \"type\": \"carpet\"}], \"choropleth\": [{\"colorbar\": {\"outlinewidth\": 0, \"ticks\": \"\"}, \"type\": \"choropleth\"}], \"contour\": [{\"colorbar\": {\"outlinewidth\": 0, \"ticks\": \"\"}, \"colorscale\": [[0.0, \"#0d0887\"], [0.1111111111111111, \"#46039f\"], [0.2222222222222222, \"#7201a8\"], [0.3333333333333333, \"#9c179e\"], [0.4444444444444444, \"#bd3786\"], [0.5555555555555556, \"#d8576b\"], [0.6666666666666666, \"#ed7953\"], [0.7777777777777778, \"#fb9f3a\"], [0.8888888888888888, \"#fdca26\"], [1.0, \"#f0f921\"]], \"type\": \"contour\"}], \"contourcarpet\": [{\"colorbar\": {\"outlinewidth\": 0, \"ticks\": \"\"}, \"type\": \"contourcarpet\"}], \"heatmap\": [{\"colorbar\": {\"outlinewidth\": 0, \"ticks\": \"\"}, \"colorscale\": [[0.0, \"#0d0887\"], [0.1111111111111111, \"#46039f\"], [0.2222222222222222, \"#7201a8\"], [0.3333333333333333, \"#9c179e\"], [0.4444444444444444, \"#bd3786\"], [0.5555555555555556, \"#d8576b\"], [0.6666666666666666, \"#ed7953\"], [0.7777777777777778, \"#fb9f3a\"], [0.8888888888888888, \"#fdca26\"], [1.0, \"#f0f921\"]], \"type\": \"heatmap\"}], \"heatmapgl\": [{\"colorbar\": {\"outlinewidth\": 0, \"ticks\": \"\"}, \"colorscale\": [[0.0, \"#0d0887\"], [0.1111111111111111, \"#46039f\"], [0.2222222222222222, \"#7201a8\"], [0.3333333333333333, \"#9c179e\"], [0.4444444444444444, \"#bd3786\"], [0.5555555555555556, \"#d8576b\"], [0.6666666666666666, \"#ed7953\"], [0.7777777777777778, \"#fb9f3a\"], [0.8888888888888888, \"#fdca26\"], [1.0, \"#f0f921\"]], \"type\": \"heatmapgl\"}], \"histogram\": [{\"marker\": {\"colorbar\": {\"outlinewidth\": 0, \"ticks\": \"\"}}, \"type\": \"histogram\"}], \"histogram2d\": [{\"colorbar\": {\"outlinewidth\": 0, \"ticks\": \"\"}, \"colorscale\": [[0.0, \"#0d0887\"], [0.1111111111111111, \"#46039f\"], [0.2222222222222222, \"#7201a8\"], [0.3333333333333333, \"#9c179e\"], [0.4444444444444444, \"#bd3786\"], [0.5555555555555556, \"#d8576b\"], [0.6666666666666666, \"#ed7953\"], [0.7777777777777778, \"#fb9f3a\"], [0.8888888888888888, \"#fdca26\"], [1.0, \"#f0f921\"]], \"type\": \"histogram2d\"}], \"histogram2dcontour\": [{\"colorbar\": {\"outlinewidth\": 0, \"ticks\": \"\"}, \"colorscale\": [[0.0, \"#0d0887\"], [0.1111111111111111, \"#46039f\"], [0.2222222222222222, \"#7201a8\"], [0.3333333333333333, \"#9c179e\"], [0.4444444444444444, \"#bd3786\"], [0.5555555555555556, \"#d8576b\"], [0.6666666666666666, \"#ed7953\"], [0.7777777777777778, \"#fb9f3a\"], [0.8888888888888888, \"#fdca26\"], [1.0, \"#f0f921\"]], \"type\": \"histogram2dcontour\"}], \"mesh3d\": [{\"colorbar\": {\"outlinewidth\": 0, \"ticks\": \"\"}, \"type\": \"mesh3d\"}], \"parcoords\": [{\"line\": {\"colorbar\": {\"outlinewidth\": 0, \"ticks\": \"\"}}, \"type\": \"parcoords\"}], \"pie\": [{\"automargin\": true, \"type\": \"pie\"}], \"scatter\": [{\"marker\": {\"colorbar\": {\"outlinewidth\": 0, \"ticks\": \"\"}}, \"type\": \"scatter\"}], \"scatter3d\": [{\"line\": {\"colorbar\": {\"outlinewidth\": 0, \"ticks\": \"\"}}, \"marker\": {\"colorbar\": {\"outlinewidth\": 0, \"ticks\": \"\"}}, \"type\": \"scatter3d\"}], \"scattercarpet\": [{\"marker\": {\"colorbar\": {\"outlinewidth\": 0, \"ticks\": \"\"}}, \"type\": \"scattercarpet\"}], \"scattergeo\": [{\"marker\": {\"colorbar\": {\"outlinewidth\": 0, \"ticks\": \"\"}}, \"type\": \"scattergeo\"}], \"scattergl\": [{\"marker\": {\"colorbar\": {\"outlinewidth\": 0, \"ticks\": \"\"}}, \"type\": \"scattergl\"}], \"scattermapbox\": [{\"marker\": {\"colorbar\": {\"outlinewidth\": 0, \"ticks\": \"\"}}, \"type\": \"scattermapbox\"}], \"scatterpolar\": [{\"marker\": {\"colorbar\": {\"outlinewidth\": 0, \"ticks\": \"\"}}, \"type\": \"scatterpolar\"}], \"scatterpolargl\": [{\"marker\": {\"colorbar\": {\"outlinewidth\": 0, \"ticks\": \"\"}}, \"type\": \"scatterpolargl\"}], \"scatterternary\": [{\"marker\": {\"colorbar\": {\"outlinewidth\": 0, \"ticks\": \"\"}}, \"type\": \"scatterternary\"}], \"surface\": [{\"colorbar\": {\"outlinewidth\": 0, \"ticks\": \"\"}, \"colorscale\": [[0.0, \"#0d0887\"], [0.1111111111111111, \"#46039f\"], [0.2222222222222222, \"#7201a8\"], [0.3333333333333333, \"#9c179e\"], [0.4444444444444444, \"#bd3786\"], [0.5555555555555556, \"#d8576b\"], [0.6666666666666666, \"#ed7953\"], [0.7777777777777778, \"#fb9f3a\"], [0.8888888888888888, \"#fdca26\"], [1.0, \"#f0f921\"]], \"type\": \"surface\"}], \"table\": [{\"cells\": {\"fill\": {\"color\": \"#EBF0F8\"}, \"line\": {\"color\": \"white\"}}, \"header\": {\"fill\": {\"color\": \"#C8D4E3\"}, \"line\": {\"color\": \"white\"}}, \"type\": \"table\"}]}, \"layout\": {\"annotationdefaults\": {\"arrowcolor\": \"#2a3f5f\", \"arrowhead\": 0, \"arrowwidth\": 1}, \"coloraxis\": {\"colorbar\": {\"outlinewidth\": 0, \"ticks\": \"\"}}, \"colorscale\": {\"diverging\": [[0, \"#8e0152\"], [0.1, \"#c51b7d\"], [0.2, \"#de77ae\"], [0.3, \"#f1b6da\"], [0.4, \"#fde0ef\"], [0.5, \"#f7f7f7\"], [0.6, \"#e6f5d0\"], [0.7, \"#b8e186\"], [0.8, \"#7fbc41\"], [0.9, \"#4d9221\"], [1, \"#276419\"]], \"sequential\": [[0.0, \"#0d0887\"], [0.1111111111111111, \"#46039f\"], [0.2222222222222222, \"#7201a8\"], [0.3333333333333333, \"#9c179e\"], [0.4444444444444444, \"#bd3786\"], [0.5555555555555556, \"#d8576b\"], [0.6666666666666666, \"#ed7953\"], [0.7777777777777778, \"#fb9f3a\"], [0.8888888888888888, \"#fdca26\"], [1.0, \"#f0f921\"]], \"sequentialminus\": [[0.0, \"#0d0887\"], [0.1111111111111111, \"#46039f\"], [0.2222222222222222, \"#7201a8\"], [0.3333333333333333, \"#9c179e\"], [0.4444444444444444, \"#bd3786\"], [0.5555555555555556, \"#d8576b\"], [0.6666666666666666, \"#ed7953\"], [0.7777777777777778, \"#fb9f3a\"], [0.8888888888888888, \"#fdca26\"], [1.0, \"#f0f921\"]]}, \"colorway\": [\"#636efa\", \"#EF553B\", \"#00cc96\", \"#ab63fa\", \"#FFA15A\", \"#19d3f3\", \"#FF6692\", \"#B6E880\", \"#FF97FF\", \"#FECB52\"], \"font\": {\"color\": \"#2a3f5f\"}, \"geo\": {\"bgcolor\": \"white\", \"lakecolor\": \"white\", \"landcolor\": \"#E5ECF6\", \"showlakes\": true, \"showland\": true, \"subunitcolor\": \"white\"}, \"hoverlabel\": {\"align\": \"left\"}, \"hovermode\": \"closest\", \"mapbox\": {\"style\": \"light\"}, \"paper_bgcolor\": \"white\", \"plot_bgcolor\": \"#E5ECF6\", \"polar\": {\"angularaxis\": {\"gridcolor\": \"white\", \"linecolor\": \"white\", \"ticks\": \"\"}, \"bgcolor\": \"#E5ECF6\", \"radialaxis\": {\"gridcolor\": \"white\", \"linecolor\": \"white\", \"ticks\": \"\"}}, \"scene\": {\"xaxis\": {\"backgroundcolor\": \"#E5ECF6\", \"gridcolor\": \"white\", \"gridwidth\": 2, \"linecolor\": \"white\", \"showbackground\": true, \"ticks\": \"\", \"zerolinecolor\": \"white\"}, \"yaxis\": {\"backgroundcolor\": \"#E5ECF6\", \"gridcolor\": \"white\", \"gridwidth\": 2, \"linecolor\": \"white\", \"showbackground\": true, \"ticks\": \"\", \"zerolinecolor\": \"white\"}, \"zaxis\": {\"backgroundcolor\": \"#E5ECF6\", \"gridcolor\": \"white\", \"gridwidth\": 2, \"linecolor\": \"white\", \"showbackground\": true, \"ticks\": \"\", \"zerolinecolor\": \"white\"}}, \"shapedefaults\": {\"line\": {\"color\": \"#2a3f5f\"}}, \"ternary\": {\"aaxis\": {\"gridcolor\": \"white\", \"linecolor\": \"white\", \"ticks\": \"\"}, \"baxis\": {\"gridcolor\": \"white\", \"linecolor\": \"white\", \"ticks\": \"\"}, \"bgcolor\": \"#E5ECF6\", \"caxis\": {\"gridcolor\": \"white\", \"linecolor\": \"white\", \"ticks\": \"\"}}, \"title\": {\"x\": 0.05}, \"xaxis\": {\"automargin\": true, \"gridcolor\": \"white\", \"linecolor\": \"white\", \"ticks\": \"\", \"title\": {\"standoff\": 15}, \"zerolinecolor\": \"white\", \"zerolinewidth\": 2}, \"yaxis\": {\"automargin\": true, \"gridcolor\": \"white\", \"linecolor\": \"white\", \"ticks\": \"\", \"title\": {\"standoff\": 15}, \"zerolinecolor\": \"white\", \"zerolinewidth\": 2}}}},                        {\"responsive\": true}                    ).then(function(){\n",
       "                            \n",
       "var gd = document.getElementById('39e82a45-cd83-4ae7-9b04-9ae64b5a6fb8');\n",
       "var x = new MutationObserver(function (mutations, observer) {{\n",
       "        var display = window.getComputedStyle(gd).display;\n",
       "        if (!display || display === 'none') {{\n",
       "            console.log([gd, 'removed!']);\n",
       "            Plotly.purge(gd);\n",
       "            observer.disconnect();\n",
       "        }}\n",
       "}});\n",
       "\n",
       "// Listen for the removal of the full notebook cells\n",
       "var notebookContainer = gd.closest('#notebook-container');\n",
       "if (notebookContainer) {{\n",
       "    x.observe(notebookContainer, {childList: true});\n",
       "}}\n",
       "\n",
       "// Listen for the clearing of the current output cell\n",
       "var outputEl = gd.closest('.output');\n",
       "if (outputEl) {{\n",
       "    x.observe(outputEl, {childList: true});\n",
       "}}\n",
       "\n",
       "                        })                };                });            </script>        </div>"
      ]
     },
     "metadata": {},
     "output_type": "display_data"
    }
   ],
   "source": [
    "# Creating a 3D-Scatter with the PCA data and the clusters\n",
    "px.scatter_3d(\n",
    "    clustered_df,\n",
    "    x=\"PC 1\",\n",
    "    y=\"PC 2\",\n",
    "    z=\"PC 3\",\n",
    "    color = 'class',\n",
    "    hover_name=\"CoinName\",\n",
    "    hover_data=[\"Algorithm\"]\n",
    ")"
   ]
  },
  {
   "cell_type": "markdown",
   "metadata": {},
   "source": [
    "#### Table of Tradable Cryptocurrencies"
   ]
  },
  {
   "cell_type": "code",
   "execution_count": 195,
   "metadata": {},
   "outputs": [
    {
     "data": {
      "application/vnd.holoviews_exec.v0+json": "",
      "text/html": [
       "<div id='2332'>\n",
       "\n",
       "\n",
       "\n",
       "\n",
       "\n",
       "  <div class=\"bk-root\" id=\"6110d811-dfc7-49e0-81b8-2dfe211c8697\" data-root-id=\"2332\"></div>\n",
       "</div>\n",
       "<script type=\"application/javascript\">(function(root) {\n",
       "  function embed_document(root) {\n",
       "    var docs_json = {\"f7eceedd-3c4b-4793-a2c0-abd564ca67d3\":{\"roots\":{\"references\":[{\"attributes\":{\"source\":{\"id\":\"2334\"}},\"id\":\"2367\",\"type\":\"CDSView\"},{\"attributes\":{},\"id\":\"2347\",\"type\":\"StringEditor\"},{\"attributes\":{},\"id\":\"2352\",\"type\":\"NumberEditor\"},{\"attributes\":{},\"id\":\"2362\",\"type\":\"IntEditor\"},{\"attributes\":{\"margin\":[5,5,5,5],\"name\":\"HSpacer03937\",\"sizing_mode\":\"stretch_width\"},\"id\":\"2333\",\"type\":\"Spacer\"},{\"attributes\":{\"data\":{\"Algorithm\":[\"Scrypt\",\"Scrypt\",\"X13\",\"SHA-256\",\"Ethash\",\"Scrypt\",\"X11\",\"CryptoNight-V7\",\"Ethash\",\"Equihash\",\"SHA-512\",\"Multiple\",\"SHA-256\",\"SHA-256\",\"Scrypt\",\"X15\",\"X11\",\"Scrypt\",\"Scrypt\",\"Scrypt\",\"Multiple\",\"Scrypt\",\"SHA-256\",\"Scrypt\",\"Scrypt\",\"Scrypt\",\"Quark\",\"Groestl\",\"Scrypt\",\"Scrypt\",\"Scrypt\",\"Scrypt\",\"Scrypt\",\"X11\",\"Scrypt\",\"Groestl\",\"Multiple\",\"SHA-256\",\"Scrypt\",\"Scrypt\",\"Scrypt\",\"Scrypt\",\"PoS\",\"Scrypt\",\"Scrypt\",\"NeoScrypt\",\"Scrypt\",\"Scrypt\",\"Scrypt\",\"Scrypt\",\"X11\",\"Scrypt\",\"X11\",\"SHA-256\",\"Scrypt\",\"Scrypt\",\"Scrypt\",\"SHA3\",\"Scrypt\",\"HybridScryptHash256\",\"Scrypt\",\"Scrypt\",\"SHA-256\",\"Scrypt\",\"X13\",\"Scrypt\",\"SHA-256\",\"Scrypt\",\"X13\",\"NeoScrypt\",\"Scrypt\",\"Scrypt\",\"Scrypt\",\"Scrypt\",\"Scrypt\",\"Scrypt\",\"X11\",\"X11\",\"SHA-256\",\"Multiple\",\"SHA-256\",\"PHI1612\",\"X11\",\"SHA-256\",\"SHA-256\",\"SHA-256\",\"X11\",\"Scrypt\",\"Scrypt\",\"Scrypt\",\"Scrypt\",\"Lyra2REv2\",\"Scrypt\",\"X11\",\"Multiple\",\"SHA-256\",\"X13\",\"Scrypt\",\"CryptoNight\",\"CryptoNight\",\"Shabal256\",\"Counterparty\",\"Scrypt\",\"SHA-256\",\"Groestl\",\"Scrypt\",\"Scrypt\",\"Scrypt\",\"X13\",\"Scrypt\",\"Scrypt\",\"Scrypt\",\"Scrypt\",\"X13\",\"Scrypt\",\"Stanford Folding\",\"X11\",\"Multiple\",\"QuBit\",\"Scrypt\",\"Scrypt\",\"Scrypt\",\"M7 POW\",\"Scrypt\",\"SHA-256\",\"Scrypt\",\"X11\",\"SHA3\",\"X11\",\"Lyra2RE\",\"SHA-256\",\"QUAIT\",\"X11\",\"X11\",\"Scrypt\",\"Scrypt\",\"Scrypt\",\"Ethash\",\"X13\",\"Blake2b\",\"SHA-256\",\"X15\",\"X11\",\"SHA-256\",\"BLAKE256\",\"Scrypt\",\"1GB AES Pattern Search\",\"SHA-256\",\"X11\",\"Scrypt\",\"SHA-256\",\"SHA-256\",\"NIST5\",\"Scrypt\",\"Scrypt\",\"X11\",\"Dagger\",\"Scrypt\",\"X11GOST\",\"X11\",\"Scrypt\",\"SHA-256\",\"Scrypt\",\"PoS\",\"Scrypt\",\"X11\",\"X11\",\"SHA-256\",\"SHA-256\",\"NIST5\",\"X11\",\"Scrypt\",\"POS 3.0\",\"Scrypt\",\"Scrypt\",\"Scrypt\",\"X13\",\"X11\",\"X11\",\"Equihash\",\"X11\",\"Scrypt\",\"CryptoNight\",\"SHA-256\",\"SHA-256\",\"X11\",\"Scrypt\",\"Multiple\",\"Scrypt\",\"Scrypt\",\"Scrypt\",\"SHA-256\",\"Scrypt\",\"Scrypt\",\"SHA-256D\",\"PoS\",\"Scrypt\",\"X11\",\"Lyra2Z\",\"PoS\",\"X13\",\"X14\",\"PoS\",\"SHA-256D\",\"Ethash\",\"Equihash\",\"DPoS\",\"X11\",\"Scrypt\",\"X11\",\"X13\",\"X11\",\"PoS\",\"Scrypt\",\"Scrypt\",\"X11\",\"PoS\",\"X11\",\"SHA-256\",\"Scrypt\",\"X11\",\"Scrypt\",\"Scrypt\",\"X11\",\"CryptoNight\",\"Scrypt\",\"Scrypt\",\"Scrypt\",\"Scrypt\",\"Quark\",\"QuBit\",\"Scrypt\",\"CryptoNight\",\"Lyra2RE\",\"Scrypt\",\"SHA-256\",\"X11\",\"Scrypt\",\"X11\",\"Scrypt\",\"CryptoNight-V7\",\"Scrypt\",\"Scrypt\",\"Scrypt\",\"X13\",\"X11\",\"Equihash\",\"Scrypt\",\"Scrypt\",\"Lyra2RE\",\"Scrypt\",\"Dagger-Hashimoto\",\"X11\",\"Blake2S\",\"X11\",\"Scrypt\",\"PoS\",\"X11\",\"NIST5\",\"PoS\",\"X11\",\"Scrypt\",\"Scrypt\",\"Scrypt\",\"SHA-256\",\"X11\",\"Scrypt\",\"Scrypt\",\"SHA-256\",\"PoS\",\"Scrypt\",\"X15\",\"SHA-256\",\"Scrypt\",\"POS 3.0\",\"CryptoNight-V7\",\"536\",\"Argon2d\",\"Blake2b\",\"Cloverhash\",\"CryptoNight\",\"NIST5\",\"X11\",\"NIST5\",\"Skein\",\"Scrypt\",\"X13\",\"Scrypt\",\"X11\",\"X11\",\"Scrypt\",\"CryptoNight\",\"X13\",\"Time Travel\",\"Scrypt\",\"Keccak\",\"SkunkHash v2 Raptor\",\"X11\",\"Skein\",\"SHA-256\",\"X11\",\"Scrypt\",\"VeChainThor Authority\",\"Scrypt\",\"PoS\",\"Scrypt\",\"Scrypt\",\"Scrypt\",\"Scrypt\",\"Scrypt\",\"Scrypt\",\"Scrypt\",\"CryptoNight\",\"SHA-512\",\"Ouroboros\",\"X11\",\"Equihash\",\"NeoScrypt\",\"X11\",\"Scrypt\",\"NeoScrypt\",\"Lyra2REv2\",\"Equihash\",\"Scrypt\",\"SHA-256\",\"NIST5\",\"PHI1612\",\"Dagger\",\"Scrypt\",\"Quark\",\"Scrypt\",\"POS 2.0\",\"Scrypt\",\"SHA-256\",\"X11\",\"NeoScrypt\",\"Ethash\",\"NeoScrypt\",\"X11\",\"DPoS\",\"NIST5\",\"X13\",\"Multiple\",\"Scrypt\",\"CryptoNight\",\"CryptoNight\",\"Ethash\",\"NIST5\",\"Quark\",\"X11\",\"CryptoNight-V7\",\"Scrypt\",\"Scrypt\",\"Scrypt\",\"X11\",\"BLAKE256\",\"X11\",\"NeoScrypt\",\"Quark\",\"NeoScrypt\",\"Scrypt\",\"Scrypt\",\"Scrypt\",\"X11\",\"X11\",\"SHA-256\",\"C11\",\"POS 3.0\",\"Ethash\",\"Scrypt\",\"CryptoNight\",\"SkunkHash\",\"Scrypt\",\"CryptoNight\",\"Scrypt\",\"Dagger\",\"Lyra2REv2\",\"X13\",\"Proof-of-BibleHash\",\"SHA-256 + Hive\",\"Scrypt\",\"Scrypt\",\"X11\",\"C11\",\"Proof-of-Authority\",\"X11\",\"XEVAN\",\"Scrypt\",\"VBFT\",\"Ethash\",\"CryptoNight\",\"Scrypt\",\"IMesh\",\"NIST5\",\"Scrypt\",\"Scrypt\",\"Equihash\",\"Scrypt\",\"Lyra2Z\",\"Green Protocol\",\"PoS\",\"Scrypt\",\"Semux BFT consensus\",\"X11\",\"Quark\",\"PoS\",\"CryptoNight\",\"X16R\",\"Scrypt\",\"NIST5\",\"Lyra2RE\",\"XEVAN\",\"Tribus\",\"Scrypt\",\"Lyra2Z\",\"CryptoNight\",\"CryptoNight Heavy\",\"CryptoNight\",\"Scrypt\",\"Scrypt\",\"Jump Consistent Hash\",\"SHA-256D\",\"CryptoNight\",\"Scrypt\",\"X15\",\"Scrypt\",\"Quark\",\"SHA-256\",\"DPoS\",\"X16R\",\"HMQ1725\",\"X11\",\"X16R\",\"Quark\",\"Quark\",\"Scrypt\",\"Lyra2REv2\",\"Quark\",\"Scrypt\",\"Scrypt\",\"CryptoNight-V7\",\"Cryptonight-GPU\",\"XEVAN\",\"CryptoNight Heavy\",\"X11\",\"X11\",\"Scrypt\",\"PoS\",\"SHA-256\",\"Keccak\",\"X11\",\"X11\",\"Scrypt\",\"SHA-512\",\"X16R\",\"ECC 256K1\",\"Equihash\",\"XEVAN\",\"Lyra2Z\",\"SHA-256\",\"XEVAN\",\"X11\",\"CryptoNight\",\"Quark\",\"Blake\",\"Blake\",\"Equihash\",\"Exosis\",\"Scrypt\",\"Scrypt\",\"Equihash\",\"Quark\",\"Equihash\",\"Quark\",\"Scrypt\",\"QuBit\",\"X11\",\"Scrypt\",\"XEVAN\",\"SHA-256D\",\"X11\",\"SHA-256\",\"X13\",\"SHA-256\",\"X11\",\"DPoS\",\"Scrypt\",\"Scrypt\",\"X11\",\"NeoScrypt\",\"Scrypt\",\"Blake\",\"Scrypt\",\"SHA-256\",\"Scrypt\",\"X11\",\"Scrypt\",\"Scrypt\",\"SHA-256\",\"X11\",\"SHA-256\",\"Scrypt\",\"Scrypt\",\"Scrypt\",\"Groestl\",\"X11\",\"Scrypt\",\"PoS\",\"Scrypt\",\"Scrypt\",\"X11\",\"SHA-256\",\"DPoS\",\"Scrypt\",\"Scrypt\",\"NeoScrypt\",\"Multiple\",\"X13\",\"Equihash+Scrypt\",\"DPoS\",\"Ethash\",\"DPoS\",\"SHA-256\",\"Leased POS\",\"PoS\",\"TRC10\",\"PoS\",\"SHA-256\",\"Scrypt\",\"CryptoNight\",\"Equihash\",\"Scrypt\"],\"CoinName\":[\"42 Coin\",\"404Coin\",\"EliteCoin\",\"Bitcoin\",\"Ethereum\",\"Litecoin\",\"Dash\",\"Monero\",\"Ethereum Classic\",\"ZCash\",\"Bitshares\",\"DigiByte\",\"BitcoinDark\",\"PayCoin\",\"ProsperCoin\",\"KoboCoin\",\"Spreadcoin\",\"Argentum\",\"Aurora Coin\",\"BlueCoin\",\"MyriadCoin\",\"MoonCoin\",\"ZetaCoin\",\"SexCoin\",\"Quatloo\",\"EnergyCoin\",\"QuarkCoin\",\"Riecoin\",\"Digitalcoin \",\"BitBar\",\"Catcoin\",\"CryptoBullion\",\"CannaCoin\",\"CryptCoin\",\"CasinoCoin\",\"Diamond\",\"Verge\",\"DevCoin\",\"EarthCoin\",\"E-Gulden\",\"Einsteinium\",\"Emerald\",\"Exclusive Coin\",\"FlutterCoin\",\"Franko\",\"FeatherCoin\",\"GrandCoin\",\"GlobalCoin\",\"GoldCoin\",\"HoboNickels\",\"HyperStake\",\"Infinite Coin\",\"IOCoin\",\"IXcoin\",\"KrugerCoin\",\"LuckyCoin\",\"Litebar \",\"MaxCoin\",\"MegaCoin\",\"MediterraneanCoin\",\"MintCoin\",\"MinCoin\",\"MazaCoin\",\"Nautilus Coin\",\"NavCoin\",\"NobleCoin\",\"Namecoin\",\"NyanCoin\",\"OpalCoin\",\"Orbitcoin\",\"PotCoin\",\"PhoenixCoin\",\"Reddcoin\",\"RonPaulCoin\",\"StableCoin\",\"SmartCoin\",\"SuperCoin\",\"SyncCoin\",\"SysCoin\",\"TeslaCoin\",\"TigerCoin\",\"TittieCoin\",\"TorCoin\",\"TerraCoin\",\"UnbreakableCoin\",\"Unobtanium\",\"UroCoin\",\"UnitaryStatus Dollar\",\"UltraCoin\",\"ViaCoin\",\"VeriCoin\",\"Vertcoin\",\"WorldCoin\",\"X11 Coin\",\"Crypti\",\"JouleCoin\",\"StealthCoin\",\"ZCC Coin\",\"ByteCoin\",\"DigitalNote \",\"BurstCoin\",\"StorjCoin\",\"MonaCoin\",\"Neutron\",\"FairCoin\",\"Gulden\",\"RubyCoin\",\"PesetaCoin\",\"Kore\",\"Wild Beast Coin\",\"Dnotes\",\"Flo\",\"8BIT Coin\",\"Sativa Coin\",\"ArtByte\",\"Folding Coin\",\"Ucoin\",\"Unitus\",\"CypherPunkCoin\",\"OmniCron\",\"Vtorrent\",\"GreenCoin\",\"Cryptonite\",\"MasterCoin\",\"SoonCoin\",\"1Credit\",\"IslaCoin\",\"Nexus\",\"MarsCoin \",\"Crypto\",\"Anarchists Prime\",\"Droidz\",\"BowsCoin\",\"Squall Coin\",\"Song Coin\",\"BitZeny\",\"Diggits\",\"Expanse\",\"Paycon\",\"Siacoin\",\"Emercoin\",\"EverGreenCoin\",\"MindCoin\",\"I0coin\",\"Decred\",\"Revolution VR\",\"HOdlcoin\",\"EDRCoin\",\"Hitcoin\",\"Gamecredits\",\"DubaiCoin\",\"CarpeDiemCoin\",\"PWR Coin\",\"BillaryCoin\",\"GPU Coin\",\"Adzcoin\",\"SoilCoin\",\"YoCoin\",\"SibCoin\",\"EuropeCoin\",\"ZeitCoin\",\"SwingCoin\",\"SafeExchangeCoin\",\"Nebuchadnezzar\",\"Francs\",\"BolivarCoin\",\"Ratecoin\",\"Revenu\",\"Clockcoin\",\"VIP Tokens\",\"BitSend\",\"Omni\",\"Let it Ride\",\"PutinCoin\",\"iBankCoin\",\"Frankywillcoin\",\"MudraCoin\",\"PizzaCoin\",\"Lutetium Coin\",\"Komodo\",\"GoldBlocks\",\"CarterCoin\",\"Karbo\",\"BitTokens\",\"ZayedCoin\",\"MustangCoin\",\"ZoneCoin\",\"Circuits of Value\",\"RootCoin\",\"DopeCoin\",\"BitCurrency\",\"DollarCoin\",\"Swiscoin\",\"Shilling\",\"BuzzCoin\",\"Opair\",\"PesoBit\",\"Halloween Coin\",\"ZCoin\",\"CoffeeCoin\",\"RoyalCoin\",\"GanjaCoin V2\",\"TeamUP\",\"LanaCoin\",\"Elementrem\",\"ZClassic\",\"ARK\",\"InsaneCoin\",\"KiloCoin\",\"ArtexCoin\",\"EmberCoin\",\"XenixCoin\",\"FreeCoin\",\"PLNCoin\",\"AquariusCoin\",\"Kurrent\",\"Creatio\",\"Eternity\",\"Eurocoin\",\"BitcoinFast\",\"Stakenet\",\"BitConnect Coin\",\"MoneyCoin\",\"Enigma\",\"Cannabis Industry Coin\",\"Russiacoin\",\"PandaCoin\",\"GameUnits\",\"GAKHcoin\",\"Allsafe\",\"LiteCreed\",\"OsmiumCoin\",\"Bikercoins\",\"HexxCoin\",\"Klingon Empire Darsek\",\"Internet of People\",\"KushCoin\",\"Printerium\",\"PacCoin\",\"Impeach\",\"Citadel\",\"Zilbercoin\",\"FirstCoin\",\"BeaverCoin\",\"FindCoin\",\"VaultCoin\",\"Zero\",\"OpenChat\",\"Canada eCoin\",\"Zoin\",\"RenosCoin\",\"DubaiCoin\",\"VirtacoinPlus\",\"TajCoin\",\"Impact\",\"EB3coin\",\"Atmos\",\"HappyCoin\",\"Coinonat\",\"MacronCoin\",\"Condensate\",\"Independent Money System\",\"ArgusCoin\",\"LomoCoin\",\"ProCurrency\",\"GoldReserve\",\"BenjiRolls\",\"GrowthCoin\",\"ILCoin\",\"Phreak\",\"Degas Coin\",\"HTML5 Coin\",\"Ultimate Secure Cash\",\"EquiTrader\",\"QTUM\",\"Quantum Resistant Ledger\",\"Espers\",\"Dynamic\",\"Nano\",\"ChanCoin\",\"Dinastycoin\",\"Denarius\",\"DigitalPrice\",\"Virta Unique Coin\",\"Bitcoin Planet\",\"Unify\",\"BritCoin\",\"SocialCoin\",\"ArcticCoin\",\"DAS\",\"Linda\",\"LeviarCoin\",\"DeepOnion\",\"Bitcore\",\"gCn Coin\",\"SmartCash\",\"Signatum\",\"Onix\",\"Cream\",\"Bitcoin Cash\",\"Monoeci\",\"Draftcoin\",\"Vechain\",\"Sojourn Coin\",\"Stakecoin\",\"NewYorkCoin\",\"FrazCoin\",\"Kronecoin\",\"AdCoin\",\"Linx\",\"CoinonatX\",\"Ethereum Dark\",\"Sumokoin\",\"Obsidian\",\"Cardano\",\"Regalcoin\",\"BitcoinZ\",\"TrezarCoin\",\"Elements\",\"TerraNovaCoin\",\"VIVO Coin\",\"Rupee\",\"Bitcoin Gold\",\"WomenCoin\",\"Theresa May Coin\",\"NamoCoin\",\"LUXCoin\",\"Pirl\",\"Xios\",\"Bitcloud 2.0\",\"eBoost\",\"KekCoin\",\"BlackholeCoin\",\"Infinity Economics\",\"Pura\",\"Innova\",\"Ellaism\",\"GoByte\",\"Magnet\",\"Lamden Tau\",\"Electra\",\"Bitcoin Diamond\",\"SHIELD\",\"Cash & Back Coin\",\"UltraNote\",\"BitCoal\",\"DaxxCoin\",\"Bulwark\",\"Kalkulus\",\"AC3\",\"Lethean\",\"GermanCoin\",\"LiteCoin Ultra\",\"PopularCoin\",\"PhantomX\",\"Photon\",\"Sucre\",\"SparksPay\",\"Digiwage\",\"GunCoin\",\"IrishCoin\",\"Trollcoin\",\"Litecoin Plus\",\"Monkey Project\",\"Pioneer Coin\",\"UnitedBitcoin\",\"Interzone\",\"TokenPay\",\"1717 Masonic Commemorative Token\",\"My Big Coin\",\"TurtleCoin\",\"MUNcoin\",\"Unified Society USDEX\",\"Niobio Cash\",\"ShareChain\",\"Travelflex\",\"KREDS\",\"Tokyo Coin\",\"BiblePay\",\"LitecoinCash\",\"BitFlip\",\"LottoCoin\",\"Crypto Improvement Fund\",\"Stipend\",\"Poa Network\",\"Pushi\",\"Ellerium\",\"Velox\",\"Ontology\",\"Callisto Network\",\"BitTube\",\"Poseidon\",\"Aidos Kuneen\",\"Bitspace\",\"Briacoin\",\"Ignition\",\"Bitrolium\",\"MedicCoin\",\"Alpenschillling\",\"Bitcoin Green\",\"Deviant Coin\",\"Abjcoin\",\"Semux\",\"FuturoCoin\",\"Carebit\",\"Zealium\",\"Monero Classic\",\"Proton\",\"iDealCash\",\"Jumpcoin\",\"Infinex\",\"Bitcoin Incognito\",\"KEYCO\",\"HollyWoodCoin\",\"GINcoin\",\"PlatinCoin\",\"Loki\",\"Newton Coin\",\"Swisscoin\",\"Xt3ch\",\"MassGrid\",\"TheVig\",\"PluraCoin\",\"EmaratCoin\",\"Dekado\",\"Lynx\",\"Poseidon Quark\",\"BitcoinWSpectrum\",\"Muse\",\"Motion\",\"PlusOneCoin\",\"Axe\",\"Trivechain\",\"Dystem\",\"Giant\",\"Peony Coin\",\"Absolute Coin\",\"Vitae\",\"HexCoin\",\"TPCash\",\"Webchain\",\"Ryo\",\"Urals Coin\",\"Qwertycoin\",\"ARENON\",\"EUNO\",\"MMOCoin\",\"Ketan\",\"Project Pai\",\"XDNA\",\"PAXEX\",\"Azart\",\"ThunderStake\",\"Kcash\",\"Xchange\",\"Acute Angle Cloud\",\"CrypticCoin\",\"Bettex coin\",\"Actinium\",\"Bitcoin SV\",\"BitMoney\",\"Junson Ming Chan Coin\",\"FREDEnergy\",\"HerbCoin\",\"Universal Molecule\",\"Lithium\",\"PirateCash\",\"Exosis\",\"Block-Logic\",\"Oduwa\",\"Beam\",\"Galilel\",\"Bithereum\",\"Crypto Sports\",\"Credit\",\"SLICE\",\"Dash Platinum\",\"Nasdacoin\",\"Beetle Coin\",\"Titan Coin\",\"Award\",\"BLAST\",\"Bitcoin Rhodium\",\"GlobalToken\",\"Insane Coin\",\"ALAX\",\"LiteDoge\",\"SolarCoin\",\"TruckCoin\",\"UFO Coin\",\"OrangeCoin\",\"BlakeCoin\",\"BitstarCoin\",\"NeosCoin\",\"HyperCoin\",\"PinkCoin\",\"Crypto Escudo\",\"AudioCoin\",\"IncaKoin\",\"Piggy Coin\",\"Crown Coin\",\"Genstake\",\"SmileyCoin\",\"XiaoMiCoin\",\"Groestlcoin\",\"CapriCoin\",\" ClubCoin\",\"Radium\",\"Bata\",\"Pakcoin\",\"Creditbit \",\"OKCash\",\"Lisk\",\"HiCoin\",\"WhiteCoin\",\"FriendshipCoin\",\"JoinCoin\",\"Triangles Coin\",\"Vollar\",\"EOS\",\"Reality Clash\",\"Oxycoin\",\"TigerCash\",\"Waves\",\"Particl\",\"BitTorrent\",\"Nxt\",\"ZEPHYR\",\"Gapcoin\",\"Beldex\",\"Horizen\",\"BitcoinPlus\"],\"ProofType\":[\"PoW/PoS\",\"PoW/PoS\",\"PoW/PoS\",\"PoW\",\"PoW\",\"PoW\",\"PoW/PoS\",\"PoW\",\"PoW\",\"PoW\",\"PoS\",\"PoW\",\"PoW/PoS\",\"PoS\",\"PoW\",\"PoW/PoS\",\"PoW\",\"PoW\",\"PoW/PoS\",\"PoW/PoS\",\"PoW\",\"PoW\",\"PoW\",\"PoW\",\"PoW\",\"PoW/PoS\",\"PoW\",\"PoW\",\"PoW\",\"PoW/PoS\",\"PoW\",\"PoW/PoS\",\"PoW\",\"PoW\",\"PoC\",\"PoW/PoS\",\"PoW\",\"PoW\",\"PoW\",\"PoW\",\"PoW\",\"PoW\",\"PoS\",\"PoS/PoW/PoT\",\"PoW\",\"PoW\",\"PoW\",\"PoW\",\"PoW\",\"PoW/PoS\",\"PoS\",\"PoW\",\"PoW/PoS\",\"PoW\",\"PoW\",\"PoW\",\"PoW\",\"PoW/PoS\",\"PoW\",\"PoW\",\"PoS\",\"PoW\",\"PoW/PoS\",\"PoS\",\"PoW/PoS\",\"PoW\",\"PoW\",\"PoW\",\"PoW/PoS\",\"PoW/PoS\",\"PoW/PoS\",\"PoW/PoS\",\"PoW/PoS\",\"PoW\",\"PoW\",\"PoW\",\"PoS\",\"PoW/PoS\",\"PoW\",\"PoS\",\"PoW\",\"PoS\",\"PoW/PoS\",\"PoW\",\"PoW\",\"PoW\",\"PoW\",\"PoW/PoS\",\"PoW/PoS\",\"PoW\",\"PoST\",\"PoW\",\"PoW\",\"PoW/PoS\",\"PoS\",\"PoW\",\"PoW/PoS\",\"PoW/PoS\",\"PoW\",\"PoW\",\"PoC\",\"PoS\",\"PoW\",\"PoW/PoS\",\"PoW/PoS\",\"PoW\",\"PoS\",\"PoW\",\"PoW/PoS\",\"PoW\",\"PoS\",\"PoW\",\"PoW/PoS\",\"PoW/PoS\",\"PoW\",\"PoW\",\"PoS\",\"PoW\",\"PoW\",\"PoW\",\"PoW/PoS\",\"PoW\",\"PoW\",\"PoW\",\"PoW\",\"PoW\",\"PoW/PoS\",\"PoW/nPoS\",\"PoW\",\"PoW\",\"PoW\",\"PoW/PoS\",\"PoW\",\"PoS/PoW\",\"PoW\",\"PoW\",\"PoS\",\"PoW\",\"PoW/PoS\",\"PoW\",\"PoW/PoS\",\"PoW/PoS\",\"PoW\",\"PoW\",\"PoW/PoS\",\"PoW\",\"PoW\",\"PoW/PoS\",\"PoW/PoS\",\"PoW\",\"PoW/PoS\",\"PoW\",\"PoW/PoS\",\"PoW/PoS\",\"PoS\",\"PoW\",\"PoW\",\"PoW\",\"PoW\",\"PoW/PoS\",\"PoS\",\"PoW/PoS\",\"PoC\",\"PoS\",\"PoW\",\"PoW\",\"PoW/PoS\",\"PoW/PoS\",\"PoW/PoS\",\"PoW/PoS\",\"PoW/PoS\",\"PoW\",\"PoS\",\"PoW/PoS\",\"PoW/PoS\",\"PoW/PoS\",\"PoS\",\"PoW\",\"PoS\",\"dPoW/PoW\",\"PoW/PoS\",\"PoW/PoS\",\"PoW\",\"PoW/PoS\",\"PoW\",\"PoW/PoS\",\"PoW/PoS\",\"PoW\",\"PoW/PoS\",\"PoW\",\"PoS\",\"PoW\",\"PoW/PoW\",\"PoW\",\"PoW/PoS\",\"PoS\",\"PoW/PoS\",\"PoW/PoS\",\"PoW\",\"PoS\",\"PoS\",\"PoW/PoS\",\"PoS\",\"PoW/PoS\",\"PoW\",\"PoW\",\"DPoS\",\"PoW/PoS\",\"PoW\",\"PoW\",\"PoW/PoS\",\"PoW/PoS\",\"PoS\",\"PoW/PoS\",\"PoW/PoS\",\"PoW\",\"PoS\",\"PoW/PoS\",\"PoW/PoS\",\"PoW/PoS\",\"TPoS\",\"PoW/PoS\",\"PoW/PoS\",\"PoW/PoS\",\"PoW\",\"PoW/PoS\",\"PoS\",\"PoW/PoS\",\"PoW/PoS\",\"PoS\",\"PoW/PoS\",\"PoW\",\"PoW\",\"PoW\",\"PoW/PoS\",\"PoW/PoS\",\"PoW/PoS\",\"PoW/PoS\",\"PoW\",\"PoW/PoS\",\"PoW\",\"PoS\",\"PoW/PoS \",\"PoW\",\"PoS\",\"PoW\",\"PoW\",\"PoW/PoS\",\"PoW\",\"PoW\",\"PoS\",\"PoW\",\"PoW/PoS\",\"PoW/PoS\",\"PoW/PoS\",\"PoW\",\"PoS\",\"PoW/PoS\",\"PoW\",\"PoS\",\"PoW/PoS\",\"PoW/PoS\",\"PoW/PoS\",\"PoW/PoS\",\"PoS\",\"PoW/PoS\",\"PoW\",\"PoS\",\"PoW\",\"PoS\",\"PoW/PoS\",\"PoW/PoS\",\"PoS\",\"PoW\",\"PoS\",\"PoW\",\"PoW/PoS\",\"PoW\",\"PoW\",\"PoW\",\"PoW\",\"PoW/PoS\",\"PoW\",\"PoW/PoS\",\"PoW/PoS\",\"PoW\",\"PoW/PoS\",\"PoW\",\"PoW\",\"PoW\",\"PoW/PoS\",\"PoW\",\"PoW/PoS\",\"PoW\",\"PoW\",\"PoW\",\"PoS\",\"PoW\",\"PoW/PoS\",\"PoW\",\"PoW/PoS\",\"PoS\",\"Proof of Authority\",\"PoW\",\"PoS\",\"PoW\",\"PoW\",\"PoW\",\"PoW\",\"PoW\",\"PoW/PoS\",\"PoW/PoS\",\"PoW\",\"PoS\",\"PoS\",\"PoW/PoS\",\"PoW\",\"PoW/PoS\",\"PoW\",\"PoW/PoS\",\"PoW\",\"PoS\",\"PoW\",\"PoW/PoS\",\"PoW/PoS\",\"PoW/PoS\",\"PoW/PoS\",\"PoW\",\"PoW/PoS\",\"PoW/PoS\",\"PoW\",\"PoS\",\"PoW/PoS\",\"PoS\",\"PoW\",\"PoW\",\"PoW\",\"PoW\",\"PoW/PoS\",\"DPoS\",\"PoW/PoS\",\"PoW/PoS\",\"PoW\",\"PoW/PoS\",\"PoW\",\"PoW\",\"PoW\",\"PoS\",\"PoS\",\"PoW\",\"PoW\",\"PoW/PoS\",\"PoW/PoS\",\"PoW\",\"PoW/PoS\",\"PoW\",\"PoW\",\"PoW\",\"PoS\",\"PoW\",\"PoW\",\"PoW/PoS\",\"PoW/PoS\",\"PoS\",\"PoW\",\"PoW\",\"PoW\",\"PoS\",\"PoS\",\"PoW and PoS\",\"PoW\",\"PoW\",\"PoW/PoS\",\"PoW\",\"PoW\",\"PoW\",\"PoW\",\"PoS\",\"POBh\",\"PoW + Hive\",\"PoW\",\"PoW\",\"PoW\",\"PoW/PoS\",\"PoA\",\"PoW/PoS\",\"PoW/PoS\",\"PoS\",\"PoS\",\"PoW\",\"PoW\",\"PoW\",\"PoW\",\"PoW/PoS\",\"PoW/PoS\",\"PoW/PoS\",\"PoW\",\"PoS\",\"PoW\",\"PoS\",\"PoS\",\"PoW/PoS\",\"DPoS\",\"PoW\",\"PoW/PoS\",\"PoS\",\"PoW\",\"PoS\",\"PoW/PoS\",\"PoW\",\"PoW\",\"PoS/PoW\",\"PoW\",\"PoS\",\"PoW\",\"PoW\",\"PoW\",\"PoW\",\"PoW/PoS\",\"PoS\",\"PoW\",\"PoW/PoS\",\"PoW\",\"PoW/PoS\",\"PoS\",\"HPoW\",\"PoS\",\"PoS\",\"PoS\",\"PoW\",\"PoW\",\"PoW\",\"PoW/PoS\",\"PoS\",\"PoW/PoS\",\"PoS\",\"PoW/PoS\",\"PoS\",\"PoW\",\"PoW/PoS\",\"PoW\",\"PoW\",\"PoW\",\"PoW\",\"PoS\",\"PoW/PoS\",\"PoS\",\"PoS\",\"PoW\",\"PoW/PoS\",\"PoS\",\"PoW\",\"PoW/PoS\",\"Zero-Knowledge Proof\",\"PoW\",\"DPOS\",\"PoW\",\"PoS\",\"PoW\",\"PoW\",\"Pos\",\"PoS\",\"PoW\",\"PoW/PoS\",\"PoW\",\"PoW\",\"PoS\",\"PoW\",\"PoW\",\"PoW/PoS\",\"PoW\",\"PoW/PoS\",\"PoW\",\"PoS\",\"PoW/PoS\",\"PoW\",\"PoS\",\"PoW/PoS\",\"PoW/PoS\",\"PoW/PoS\",\"PoW/PoS\",\"PoW\",\"PoW\",\"PoW\",\"PoW/PoS\",\"DPoS\",\"PoW/PoS\",\"PoW\",\"PoW/PoS\",\"PoW\",\"PoW/PoS\",\"PoW\",\"PoW/PoS\",\"PoS\",\"PoW/PoS\",\"PoW/PoS\",\"PoW\",\"PoW/PoS\",\"PoW/PoS\",\"PoW/PoS\",\"PoW\",\"PoW/PoS\",\"PoW\",\"PoW/PoS\",\"PoW\",\"PoW/PoS\",\"PoW/PoS\",\"PoS\",\"PoW\",\"PoW\",\"Proof of Trust\",\"PoW/PoS\",\"DPoS\",\"PoS\",\"PoW/PoS\",\"PoW/PoS\",\"PoW\",\"PoW/PoS\",\"PoW\",\"DPoS\",\"PoW\",\"DPoS\",\"PoS\",\"LPoS\",\"PoS\",\"DPoS\",\"PoS/LPoS\",\"DPoS\",\"PoW/PoS\",\"PoW\",\"PoW\",\"PoS\"],\"TotalCoinSupply\":{\"__ndarray__\":\"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\",\"dtype\":\"float64\",\"order\":\"little\",\"shape\":[532]},\"TotalCoinsMined\":{\"__ndarray__\":\"E66yfP7/REC4HgUDbHLPQcQCukHCRBtCAAAAcMAYcUHb+b76hayZQfdoZlo4D45BczEFzM85YUFmkFFyf2dwQQAAAFztBptBAAAAEAQqXEEAAAA6IW3kQQAAKLzoPgVCAAAAAJ6qM0Epu0/cGOFmQQAAAIAdAVZBuzNpefhbeEFogey/NERlQRASPW7cR2dB+ijjv4NLcUEAAABO5u/CQQAAgMotKNlBAAAAAAAAVkCRe4LLOUqkQWlwu1zuvZ5B7FG4slgRXEES3YNEKFedQbxc1FkO8a5BjF0hSWmgh0FQLIHFyuR/Qc7ixUJvyuRAZlhcKb2KW0HCR4pNGbYvQdDqKuGh8VFBQQ4rjd4PU0GutucKX6AiQqBfqd8TNklB/fZoycqrDUIAAHBTCXwRQnSTloARWwdCS2bm7Bjxc0He//+wcBeqQbTI9iT1l3JBAAAAQJaqVUHBNFQR94a7QaQ8LSbMbzFBMPUDShPgqEEAAAA1WFnKQQFaxIOwUI9BD/H/v0jdg0EMI73Wa0iVQftcscYLA9lBo6E6fO0XNUJq65YfTtVwQW3n+0/EHHRBmpmZw9ANokHNzEzyVm5yQeu2uDrY2TBBAAAAaLVMjUFC3vH/OTGCQTMzM4eHR4NB0/wVEd7UE0K3KNQ4KyRWQdb//9BLDNhBAAAAAGTcbkFGZKnBRYOPQWh5ONDpoOFBAAAAAIIbbEHurnvnQfOzQWC5lIqR6GxBEqW9I0SSSEECRgfUkYuqQQAAgKodopFB7loEOWBNG0KzdfRrHdkwQZqZmdvoF3dBqQYrknhoeEEnrP5t5i2IQQAAAAAAZJJASWWmrurJwEEmvO6+tSKTQQAAAACNwoRBsaedNq8s2EHonwEAK9k1QQAAAEB233VBAAAAAINhQUF75AdVfoYIQQAAAAAObDJBZmYm5Ctg0EHqsCJZOvSHQfL/r8ISFHZBBWSeRqeJfkHHd4jeymaIQQAAAHQ6hJxBqj02xuuDWkEAAAAAhNeXQWWO5dqisIJBhvyY1oWPf0HN5/S7TaShQQAAB3WebUVCcSCmnaK6+UEAAADwLATbQQAAAMC4ZohBcBN8y0VCkEEAAADwmKeCQQAAADhjXYlBAAAAZOS8uEGF80Sm1ux5QeDz06y0ZKBBm6kQ40DcPkGTMePy+TQGQRqL3sPG0aRB26a4ke4mokEAAAAAwWU2QQAAAICAEltBAAAAUZSex0EAAABPt3DFQQAAAACKhURBAAAAsGYMj0EAAABAGUhYQclLLY4xV2NBAAAAQF4iZkFxPQ5ywyzxQQAAAMx5HcVBAAAAAKznIkEAAACAQ8VnQQAAAABQifVAAAAAAOgYN0EAAAAgqFqOQbTMIm2Yun5BAAAAQFI2akFuowEAyCBsQb/Mf8ucV2BBAAAAsANCbkFIisgQwBcUQQAAAECDDn9BAAAAkCQHkkEAAAAAhNeXQQAAAMClBGRBAAAAwKL5dUEAAEizP9MeQnMvcJZSiIRBdN9gjbfOaUEAAADg5UNuQXci101WBnRBZImz3Q7FY0EAAAAAsQipQQAAAKBO1mVB0TYn7F3/S0EAAJj8c3sEQgAAABB1ppBBAAAAgM2QU0EAAGSVNj8UQs9mP8p8wQJCZta35+opYUEAAACQC02DQQAAAKChgoVBAAAAAGjAVUEVe6IeXWwjQQAAALCvdnBBh9M4uazZY0FWnZ2VUDchQsSzAmd+slBBAADA////30EAAAAA0BJzQfWeCOrNEFlBACv2TwgLakHGaE16SgqgQQAAAAAFPjJBAAAAgCTIb0EAAACMaOWTQWZvBMgIQndBAAAAAADQIkH8k1OFq2aCQZ+vSflmO8hBAAAAAD1EUUEAAAAAhNeXQQAAAADQElNBAAAAAH0GNUEAAAAgg5TDQQAAAEzcoZtBAAAAIIyvbUEAAADgOZWEQSqHXC4Y111BAAAAAMorIkEAAAAAgNFXQXUZ5bDIESRBAAAAAOmyQ0EAAAAAZc3NQQAAAACxmT1BAAAAsKrbm0EAAAAwvTekQQAAAECjXmFBAACA3BLTw0EAAAAATDVlQQAA7E21OxJCKwwuO6qmkUEAAADQUPh/Qd7Fk3RYja9BUc34T+beXEEAAAAgerqhQQAAAAAOE0NBAAAAAITXl0F4eqWiQ/5wQW1b4nIfINBBAAAAMNb9eEEAAACA+2lVQQAAAJAhzJlBAAAA0Dl+cUEAAADmiWanQQAAAACfjshBAADD1R53NUL1IXdjB2ZNQQAAAACE14dBAAAAAERMcEGnlim1VLBCQQAAAGjSQo1BAAAAANASc0H6EPGEOidXQQAAAEDFrmdBAWxAemNOc0EAAACEqwWSQW8KEEyCImVBAAAAQE7RZEEAAAAAntwoQQAAAADC2S1BAAAAQIT1X0G1VTeErn0fQgAAAIArf0pBAAAAgCZMSUG3QKeXoQ9kQQAAAGDS03xBAAAAAJRIK0EAAAAA5NhhQeiBj3GyoDxBAAAAwOvadkGII9U8v0VDQawzRD12llVBAAAAAFSMZkEAAAAd2QDAQQAAAABMzxJBBwq80BzsZEGMg2z7OkxGQQAAAADeOZpBAAAAAH3ER0FFR3JvNrRrQQAAAEBY+nxBHHiWeW1nWkEAAAAAZc3NQaJtQ0H1zZdBAAAA2MWvcUEAAADorTCBQQAAAIAiCUFBTeW+oh8baUEhj6B9UD1nQd7hZs9XYJpBAAAAoDmQjkEEVo5zMX+aQcubKKA6hnRBAAAAAPhOY0EAAABZNO23QTtUk67eAZ1BAAAAgBl7VEEAAAAApIUxQQAAAACAhB5BAAAARNP4l0EAAABgO2BwQYwpWDI4VnNBCaRc6miXsUEAAADLzqLTQWBHLT+iuWVBAAAAwIpedEEAAMDR7u4iQgAAACBZumNBckLXzXcUakEAAAAAhNeXQWUIVsOfdZBBAADce2Q8FUKonWsKIt5yQQAAAKTUxJ9BkdtqsfWNcUEAAMDBkfbaQQAAAAA7009BAAAA+GzBgEEAAADYWwOOQQAAAIDi9FlBAAAAsAxLcUEAAADAZ0h0QQAAAMCntlNBIBX6xf/VeEEAAAAA0wJEQX/w+Yv12ABCAAAAYPECa0Ga3cmg1eZ0QZKakZIo+nBBAABOq2v7QkJLH6e/YrLgQQAAAHgivplByhiP2VEznUGRw9HTzpGGQWq8WVp0KXFBI1gm0VX5Z0Hya5UVeMxxQQAAoDO40ilCAAAAAHidHUEAAAAAgIROQe/X1k3upUBCAAAAQE2CYkFw2XdWK6VwQQkyArFkIn9BAAAAcMkTgEEAAABAaKJyQQAAAACQBVBBAAAAoHsQYUEAAAAAhNd3QQAAKM1+JRhCzr66gjC0W0EDPqDeH2rzQQAAAICuxaVBy0qbvkkj5EGLprPq/mcxQVF7mcmnyE9BAAAAAGDjdkH5hGyRy2dwQQAAjLzRkCZCAAAAwFXylUEAAAAKwrTAQdlvVtQbr19BAAAAIM00gEEAAAAAnGZAQYpweOjvSX1BJ0/5xefWl0Hg88PJ5oRnQcl2vh+GNW9BAACwz4jDAEIAAADmKeOkQSlcj8LWUVhBAAAA4LFUaEEAAAC4nD9WQY52rBbqNoJBYW9+x+krsUEAAACS4nIaQsmUx5ED4aVB6fCQBqC2vEHPayxFf3WaQTj4lfsk9RFCAAAAAIgqUUEAAACELQy/Qb7tLlxZRGlBqtpuTpcrcEEAAAC8HCaTQRKDYLnxTLpBXI/WvvhL8kHLoUVKCQ9gQUjhGyQdie1BBOfcMG6KhUFZF6rN7wUcQv52QCDsIVBBqQRZVX7vXUEAAAAA9gh6QQAAAMGN3rFBm/K3SiGwhUEAAABOJZ3BQQndJR2TG0NBAAAAAPXPUEFs0d4KsytgQQAAAABXO3NBRN0Hg6W6ZkFWAY1Yqn9zQQAAAABxsDhB6KPo0IXtYUE9ipsSw74oQiP3U79oYVJB4XaQc/D+q0HFrxjPlu6fQQAAACBfoAJCJXMcSJ2WmUHVIcXjxS/DQQAAAFoqdKtB8dd4J/5n2kGWsBp+eAbDQRXGFoAyvWdBAACoqNr9CkJPPwDNSjCpQURLA8bRdWVBAAAAfjRgqEHNzMyMCYpAQVK4HoUtlxlBWiYo0q1ieEEAAIC4lGXDQQAAAEqIhK1BdXWf684Vk0GYUBwTog1PQQAAAACE13dBGcIW1FlMakEZtn+gi84pQQAAAIDJCTJBAAAAVDEDkUEAAKAYR92vQYN0bFrtEnpBfQaUa/WyYkFNBaat9tx0Qeux5ct22GJBAAAAACvJMkGJEf1SB1R+QXJuA5mDqKBBTNr5wtYfZUEAAAAAvIxuQQAAAACWzFBB5nRdlm/s1EGTQQkk4hd0QURRfW02clNBjX70YrDMZEEAAAAAbkYoQbN2u8vzdIJBBFMT7aemWkEAAAAAwJT0QAAAAAAuRHJBAACivbA6I0IAAAAwvf8CQkhQ/AAsG11Bg20UIDEyoEGcs497yrJ/QSXLM+AdscBB78nDukaZdEHP8+dFmuF8QVnmi1WJITJC6NT8eTS5REEY0gHIAZGLQQAAAIAfWnFBpq1XQWr/XkE4UF7FY31gQaKloawBDFNBrPn2hDebgUFNI9YPZgRbQasgKXHAlFZBluWQ57jML0GotR8+EW5pQSFAAa03f49BSGTlENedNUEZ8ryfJp1UQddG4emEt21BAAAAQESoUkFpyxQjRSBsQV3NAOrTLTdCcT0KX3hgckEXDZ5fe1h9Qf+yq29isZlBB1Ybc0PKYUEAAABA3UrfQXtmCXYA01FBAAAAwA8vUUHawOFXUiJTQRiaN9DOls9BAAAAAGXNzUFRV68zk5piQQAAAABlzc1BAAAAitWN70FyYIdLU+RZQQAAAECkAWpBP8xZKrQocUFhFLwwZtuoQXBOQWIqBxBCkCxSxj/S20GEJfPNkdaAQZO4O1ApFThBx93xJ6g5bkEAAAAACrRpQTMzM7MvyRhBzT1kaTfTgEEdRpysmS9sQQAAAABjBIFBoET6MztrcUEAAAA4VPx3QfT+3KxthT1BTx7ABmy1HEKNuYbNa6doQdWNf+IW1yVBJsJLAz6Yc0FvD7pAHLenQQAAAGixtspBrfE+UWlpbUHNuQVlhu+IQQAAAIB02zFB0v7/r18slEE4zCGFrax2QQAAAABlzc1B5x1IVZ2IDEL7Pxej2H6KQSibcjLG6qxBAACA+gF/7EEAAAAAf/xKQUgFZGJXRnZBAAAAQJGfc0FeS8aPUMFQQW94x/+7XmJBF4V9WDoCukEAAAAGiUDHQR9ofThlOs1BBFbV6ym1EEJuUAeag3W9QUrmXREL7HVBAAAAADicjEFprytpX40bQpijizthGbhBuqmMb8R5kUGs4drOJgGoQa4Pq9CTtJhBBonp3l4nTUGfQd76IkZTQZk6wZ0znZBBDFuTijkecEEqosuD3c2RQQAAALD1nJxBApot/nygAkKKmGJ4mQquQaD9SAGBGDFBAAAAQJ1tSUGoOuQGTi8BQQAAAACE15dB2T2JBSNqzkH4eoiBgFp3QRSu13KMudBBAAAAAGXNzUEAAAAAhNeXQdmqyTHItGFBxfR7nv3PbEIAAAAAZc3NQfOO0/5kzd1BlPryxIx6bEEAAIBBgTbNQQAAAGCG1VtBR9gB8W9U/0A=\",\"dtype\":\"float64\",\"order\":\"little\",\"shape\":[532]},\"class\":{\"__ndarray__\":\"AAAAAAAAAAAAAAAAAgAAAAIAAAACAAAAAAAAAAIAAAACAAAAAgAAAAAAAAACAAAAAAAAAAAAAAACAAAAAAAAAAIAAAACAAAAAAAAAAAAAAACAAAAAgAAAAIAAAACAAAAAgAAAAAAAAACAAAAAgAAAAIAAAAAAAAAAgAAAAAAAAACAAAAAgAAAAAAAAAAAAAAAgAAAAIAAAACAAAAAgAAAAIAAAACAAAAAAAAAAAAAAACAAAAAgAAAAIAAAACAAAAAgAAAAAAAAAAAAAAAgAAAAAAAAACAAAAAgAAAAIAAAACAAAAAAAAAAIAAAACAAAAAAAAAAIAAAAAAAAAAAAAAAAAAAACAAAAAgAAAAIAAAAAAAAAAAAAAAAAAAAAAAAAAAAAAAIAAAACAAAAAgAAAAAAAAAAAAAAAgAAAAAAAAACAAAAAAAAAAAAAAACAAAAAgAAAAIAAAACAAAAAAAAAAAAAAACAAAAAAAAAAIAAAACAAAAAAAAAAAAAAACAAAAAAAAAAAAAAACAAAAAgAAAAAAAAAAAAAAAgAAAAAAAAAAAAAAAgAAAAAAAAACAAAAAAAAAAIAAAAAAAAAAgAAAAAAAAAAAAAAAgAAAAIAAAAAAAAAAgAAAAIAAAACAAAAAAAAAAIAAAACAAAAAgAAAAIAAAACAAAAAAAAAAAAAAACAAAAAgAAAAIAAAAAAAAAAgAAAAAAAAACAAAAAgAAAAAAAAACAAAAAAAAAAIAAAAAAAAAAAAAAAIAAAACAAAAAAAAAAIAAAACAAAAAAAAAAAAAAACAAAAAAAAAAIAAAAAAAAAAAAAAAAAAAACAAAAAgAAAAIAAAACAAAAAAAAAAAAAAAAAAAAAAAAAAAAAAACAAAAAgAAAAAAAAAAAAAAAAAAAAAAAAAAAAAAAgAAAAAAAAAAAAAAAAAAAAAAAAAAAAAAAgAAAAAAAAACAAAAAAAAAAAAAAACAAAAAAAAAAIAAAAAAAAAAAAAAAIAAAAAAAAAAgAAAAAAAAACAAAAAAAAAAIAAAAAAAAAAAAAAAAAAAAAAAAAAgAAAAAAAAAAAAAAAAAAAAAAAAAAAAAAAgAAAAIAAAAAAAAAAAAAAAIAAAACAAAAAAAAAAAAAAAAAAAAAAAAAAAAAAACAAAAAAAAAAAAAAAAAAAAAAAAAAAAAAAAAAAAAAAAAAAAAAACAAAAAAAAAAAAAAAAAAAAAAAAAAAAAAAAAAAAAgAAAAIAAAACAAAAAAAAAAAAAAAAAAAAAAAAAAIAAAAAAAAAAgAAAAAAAAAAAAAAAgAAAAAAAAACAAAAAgAAAAAAAAACAAAAAgAAAAAAAAACAAAAAAAAAAAAAAAAAAAAAgAAAAAAAAAAAAAAAgAAAAAAAAAAAAAAAAAAAAAAAAAAAAAAAAAAAAAAAAACAAAAAAAAAAIAAAAAAAAAAAAAAAAAAAAAAAAAAgAAAAAAAAACAAAAAAAAAAIAAAACAAAAAgAAAAIAAAAAAAAAAgAAAAAAAAAAAAAAAgAAAAAAAAACAAAAAgAAAAIAAAAAAAAAAgAAAAAAAAACAAAAAgAAAAIAAAAAAAAAAgAAAAAAAAACAAAAAAAAAAAAAAAAAAAAAgAAAAAAAAACAAAAAgAAAAIAAAACAAAAAgAAAAAAAAAAAAAAAgAAAAAAAAAAAAAAAAAAAAIAAAAAAAAAAgAAAAAAAAACAAAAAAAAAAIAAAAAAAAAAAAAAAAAAAAAAAAAAgAAAAAAAAAAAAAAAgAAAAAAAAAAAAAAAAAAAAIAAAACAAAAAgAAAAIAAAAAAAAAAAAAAAAAAAAAAAAAAgAAAAAAAAACAAAAAgAAAAIAAAAAAAAAAAAAAAIAAAACAAAAAAAAAAAAAAACAAAAAAAAAAIAAAACAAAAAgAAAAAAAAACAAAAAgAAAAAAAAAAAAAAAAAAAAIAAAACAAAAAgAAAAAAAAACAAAAAAAAAAIAAAACAAAAAAAAAAIAAAACAAAAAgAAAAIAAAAAAAAAAwAAAAMAAAACAAAAAgAAAAIAAAAAAAAAAwAAAAAAAAAAAAAAAAAAAAAAAAACAAAAAgAAAAIAAAACAAAAAAAAAAAAAAAAAAAAAgAAAAAAAAACAAAAAAAAAAAAAAAAAAAAAAAAAAIAAAAAAAAAAAAAAAIAAAAAAAAAAAAAAAIAAAACAAAAAAAAAAIAAAAAAAAAAgAAAAIAAAACAAAAAgAAAAAAAAAAAAAAAgAAAAAAAAACAAAAAAAAAAAAAAAAAAAAAAAAAAAAAAAAAAAAAgAAAAIAAAACAAAAAAAAAAAAAAAAAAAAAAAAAAAAAAAAAAAAAgAAAAAAAAACAAAAAgAAAAIAAAACAAAAAAAAAAAAAAAAAAAAAAAAAAIAAAAAAAAAAAAAAAIAAAAAAAAAAAAAAAIAAAADAAAAAgAAAAAAAAACAAAAAgAAAAAAAAAAAAAAAgAAAAAAAAACAAAAAgAAAAAAAAACAAAAAgAAAAAAAAACAAAAAAAAAAIAAAAAAAAAAAAAAAIAAAAAAAAAAAAAAAAAAAAAAAAAAAAAAAIAAAACAAAAAgAAAAAAAAAAAAAAAAAAAAIAAAAAAAAAAgAAAAAAAAACAAAAAAAAAAAAAAAAAAAAAAAAAAIAAAAAAAAAAAAAAAAAAAACAAAAAAAAAAIAAAAAAAAAAgAAAAAAAAAAAAAAAAAAAAIAAAACAAAAAAAAAAAAAAAAAAAAAAAAAAAAAAAAAAAAAgAAAAAAAAACAAAAAAAAAAIAAAAAAAAAAAAAAAMAAAAAAAAAAQAAAAAAAAAAAAAAAAAAAAIAAAACAAAAAAAAAA==\",\"dtype\":\"int32\",\"order\":\"little\",\"shape\":[532]}},\"selected\":{\"id\":\"2335\"},\"selection_policy\":{\"id\":\"2368\"}},\"id\":\"2334\",\"type\":\"ColumnDataSource\"},{\"attributes\":{\"format\":\"0,0.0[00000]\"},\"id\":\"2356\",\"type\":\"NumberFormatter\"},{\"attributes\":{\"editor\":{\"id\":\"2342\"},\"field\":\"Algorithm\",\"formatter\":{\"id\":\"2341\"},\"title\":\"Algorithm\"},\"id\":\"2343\",\"type\":\"TableColumn\"},{\"attributes\":{},\"id\":\"2368\",\"type\":\"UnionRenderers\"},{\"attributes\":{\"editor\":{\"id\":\"2362\"},\"field\":\"class\",\"formatter\":{\"id\":\"2361\"},\"title\":\"class\"},\"id\":\"2363\",\"type\":\"TableColumn\"},{\"attributes\":{},\"id\":\"2335\",\"type\":\"Selection\"},{\"attributes\":{\"margin\":[5,5,5,5],\"name\":\"HSpacer03938\",\"sizing_mode\":\"stretch_width\"},\"id\":\"2372\",\"type\":\"Spacer\"},{\"attributes\":{\"format\":\"0,0.0[00000]\"},\"id\":\"2351\",\"type\":\"NumberFormatter\"},{\"attributes\":{},\"id\":\"2346\",\"type\":\"StringFormatter\"},{\"attributes\":{\"children\":[{\"id\":\"2333\"},{\"id\":\"2366\"},{\"id\":\"2372\"}],\"margin\":[0,0,0,0],\"name\":\"Row03933\",\"tags\":[\"embedded\"]},\"id\":\"2332\",\"type\":\"Row\"},{\"attributes\":{},\"id\":\"2361\",\"type\":\"NumberFormatter\"},{\"attributes\":{},\"id\":\"2341\",\"type\":\"StringFormatter\"},{\"attributes\":{},\"id\":\"2336\",\"type\":\"StringFormatter\"},{\"attributes\":{},\"id\":\"2342\",\"type\":\"StringEditor\"},{\"attributes\":{\"editor\":{\"id\":\"2352\"},\"field\":\"TotalCoinSupply\",\"formatter\":{\"id\":\"2351\"},\"title\":\"TotalCoinSupply\"},\"id\":\"2353\",\"type\":\"TableColumn\"},{\"attributes\":{},\"id\":\"2357\",\"type\":\"NumberEditor\"},{\"attributes\":{\"editor\":{\"id\":\"2347\"},\"field\":\"ProofType\",\"formatter\":{\"id\":\"2346\"},\"title\":\"ProofType\"},\"id\":\"2348\",\"type\":\"TableColumn\"},{\"attributes\":{\"columns\":[{\"id\":\"2338\"},{\"id\":\"2343\"},{\"id\":\"2348\"},{\"id\":\"2353\"},{\"id\":\"2358\"},{\"id\":\"2363\"}],\"height\":300,\"reorderable\":false,\"source\":{\"id\":\"2334\"},\"view\":{\"id\":\"2367\"},\"width\":700},\"id\":\"2366\",\"type\":\"DataTable\"},{\"attributes\":{\"editor\":{\"id\":\"2337\"},\"field\":\"CoinName\",\"formatter\":{\"id\":\"2336\"},\"title\":\"CoinName\"},\"id\":\"2338\",\"type\":\"TableColumn\"},{\"attributes\":{\"editor\":{\"id\":\"2357\"},\"field\":\"TotalCoinsMined\",\"formatter\":{\"id\":\"2356\"},\"title\":\"TotalCoinsMined\"},\"id\":\"2358\",\"type\":\"TableColumn\"},{\"attributes\":{},\"id\":\"2337\",\"type\":\"StringEditor\"}],\"root_ids\":[\"2332\"]},\"title\":\"Bokeh Application\",\"version\":\"2.2.3\"}};\n",
       "    var render_items = [{\"docid\":\"f7eceedd-3c4b-4793-a2c0-abd564ca67d3\",\"root_ids\":[\"2332\"],\"roots\":{\"2332\":\"6110d811-dfc7-49e0-81b8-2dfe211c8697\"}}];\n",
       "    root.Bokeh.embed.embed_items_notebook(docs_json, render_items);\n",
       "  }\n",
       "  if (root.Bokeh !== undefined && root.Bokeh.Panel !== undefined) {\n",
       "    embed_document(root);\n",
       "  } else {\n",
       "    var attempts = 0;\n",
       "    var timer = setInterval(function(root) {\n",
       "      if (root.Bokeh !== undefined && root.Bokeh.Panel !== undefined) {\n",
       "        clearInterval(timer);\n",
       "        embed_document(root);\n",
       "      } else if (document.readyState == \"complete\") {\n",
       "        attempts++;\n",
       "        if (attempts > 100) {\n",
       "          clearInterval(timer);\n",
       "          console.log(\"Bokeh: ERROR: Unable to run BokehJS code because BokehJS library is missing\");\n",
       "        }\n",
       "      }\n",
       "    }, 10, root)\n",
       "  }\n",
       "})(window);</script>"
      ],
      "text/plain": [
       ":Table   [CoinName,Algorithm,ProofType,TotalCoinSupply,TotalCoinsMined,class]"
      ]
     },
     "execution_count": 195,
     "metadata": {
      "application/vnd.holoviews_exec.v0+json": {
       "id": "2332"
      }
     },
     "output_type": "execute_result"
    }
   ],
   "source": [
    "# Creating a table with tradable cryptos\n",
    "clustered_df.hvplot.table(columns=[\"CoinName\", \"Algorithm\", \"ProofType\", \"TotalCoinSupply\", \"TotalCoinsMined\", \"class\"], sortable=True, selectable=True)"
   ]
  },
  {
   "cell_type": "code",
   "execution_count": 196,
   "metadata": {},
   "outputs": [
    {
     "name": "stdout",
     "output_type": "stream",
     "text": [
      "The number of tradeable cryptocurrencies is 532!\n"
     ]
    }
   ],
   "source": [
    "# Printing the total number of tradable cryptocurrencies\n",
    "tradeable_crypto = (len(clustered_df))\n",
    "print(f'The number of tradeable cryptocurrencies is {tradeable_crypto}!')"
   ]
  },
  {
   "cell_type": "markdown",
   "metadata": {},
   "source": [
    "#### Scatter Plot with Tradable Cryptocurrencies"
   ]
  },
  {
   "cell_type": "code",
   "execution_count": 197,
   "metadata": {},
   "outputs": [
    {
     "data": {
      "text/html": [
       "<div>\n",
       "<style scoped>\n",
       "    .dataframe tbody tr th:only-of-type {\n",
       "        vertical-align: middle;\n",
       "    }\n",
       "\n",
       "    .dataframe tbody tr th {\n",
       "        vertical-align: top;\n",
       "    }\n",
       "\n",
       "    .dataframe thead th {\n",
       "        text-align: right;\n",
       "    }\n",
       "</style>\n",
       "<table border=\"1\" class=\"dataframe\">\n",
       "  <thead>\n",
       "    <tr style=\"text-align: right;\">\n",
       "      <th></th>\n",
       "      <th>TotalCoinsMined</th>\n",
       "      <th>TotalCoinSupply</th>\n",
       "      <th>CoinName</th>\n",
       "    </tr>\n",
       "  </thead>\n",
       "  <tbody>\n",
       "    <tr>\n",
       "      <th>0</th>\n",
       "      <td>0.000000</td>\n",
       "      <td>4.242424e-11</td>\n",
       "      <td>42</td>\n",
       "    </tr>\n",
       "    <tr>\n",
       "      <th>1</th>\n",
       "      <td>0.001066</td>\n",
       "      <td>5.373737e-04</td>\n",
       "      <td>404</td>\n",
       "    </tr>\n",
       "    <tr>\n",
       "      <th>2</th>\n",
       "      <td>0.029576</td>\n",
       "      <td>3.173326e-01</td>\n",
       "      <td>1337</td>\n",
       "    </tr>\n",
       "    <tr>\n",
       "      <th>3</th>\n",
       "      <td>0.000018</td>\n",
       "      <td>2.121212e-05</td>\n",
       "      <td>BTC</td>\n",
       "    </tr>\n",
       "    <tr>\n",
       "      <th>4</th>\n",
       "      <td>0.000109</td>\n",
       "      <td>0.000000e+00</td>\n",
       "      <td>ETH</td>\n",
       "    </tr>\n",
       "  </tbody>\n",
       "</table>\n",
       "</div>"
      ],
      "text/plain": [
       "   TotalCoinsMined  TotalCoinSupply CoinName\n",
       "0         0.000000     4.242424e-11       42\n",
       "1         0.001066     5.373737e-04      404\n",
       "2         0.029576     3.173326e-01     1337\n",
       "3         0.000018     2.121212e-05      BTC\n",
       "4         0.000109     0.000000e+00      ETH"
      ]
     },
     "execution_count": 197,
     "metadata": {},
     "output_type": "execute_result"
    }
   ],
   "source": [
    "# Scaling data to create the scatter plot\n",
    "from sklearn import preprocessing\n",
    "\n",
    "scaler = preprocessing.MinMaxScaler()\n",
    "data_scaled = scaler.fit_transform(clustered_df[[\"TotalCoinsMined\", \"TotalCoinSupply\"]])\n",
    "\n",
    "# Creating dataframe for plotting\n",
    "scaled_data = pd.DataFrame(data_scaled, columns=[\"TotalCoinsMined\", \"TotalCoinSupply\"])\n",
    "scaled_data[\"CoinName\"] = clustered_df.index\n",
    "scaled_data.head()"
   ]
  },
  {
   "cell_type": "code",
   "execution_count": 198,
   "metadata": {},
   "outputs": [
    {
     "data": {
      "application/vnd.holoviews_exec.v0+json": "",
      "text/html": [
       "<div id='2384'>\n",
       "\n",
       "\n",
       "\n",
       "\n",
       "\n",
       "  <div class=\"bk-root\" id=\"b3472985-97c1-49c8-8ba8-5d31ba29f340\" data-root-id=\"2384\"></div>\n",
       "</div>\n",
       "<script type=\"application/javascript\">(function(root) {\n",
       "  function embed_document(root) {\n",
       "    var docs_json = {\"c0ea7251-8a9f-44f1-b0a1-ead581f15857\":{\"roots\":{\"references\":[{\"attributes\":{},\"id\":\"2428\",\"type\":\"BasicTickFormatter\"},{\"attributes\":{\"axis\":{\"id\":\"2402\"},\"dimension\":1,\"grid_line_color\":null,\"ticker\":null},\"id\":\"2405\",\"type\":\"Grid\"},{\"attributes\":{},\"id\":\"2406\",\"type\":\"SaveTool\"},{\"attributes\":{\"fill_alpha\":{\"value\":0.1},\"fill_color\":{\"value\":\"#1f77b3\"},\"line_alpha\":{\"value\":0.1},\"line_color\":{\"value\":\"#1f77b3\"},\"size\":{\"units\":\"screen\",\"value\":5.477225575051661},\"x\":{\"field\":\"TotalCoinsMined\"},\"y\":{\"field\":\"TotalCoinSupply\"}},\"id\":\"2423\",\"type\":\"Scatter\"},{\"attributes\":{},\"id\":\"2407\",\"type\":\"PanTool\"},{\"attributes\":{},\"id\":\"2430\",\"type\":\"BasicTickFormatter\"},{\"attributes\":{},\"id\":\"2410\",\"type\":\"ResetTool\"},{\"attributes\":{\"text\":\"\",\"text_color\":{\"value\":\"black\"},\"text_font_size\":{\"value\":\"12pt\"}},\"id\":\"2390\",\"type\":\"Title\"},{\"attributes\":{},\"id\":\"2408\",\"type\":\"WheelZoomTool\"},{\"attributes\":{\"margin\":[5,5,5,5],\"name\":\"HSpacer04058\",\"sizing_mode\":\"stretch_width\"},\"id\":\"2385\",\"type\":\"Spacer\"},{\"attributes\":{\"fill_alpha\":{\"value\":0.2},\"fill_color\":{\"value\":\"#1f77b3\"},\"line_alpha\":{\"value\":0.2},\"line_color\":{\"value\":\"#1f77b3\"},\"size\":{\"units\":\"screen\",\"value\":5.477225575051661},\"x\":{\"field\":\"TotalCoinsMined\"},\"y\":{\"field\":\"TotalCoinSupply\"}},\"id\":\"2424\",\"type\":\"Scatter\"},{\"attributes\":{},\"id\":\"2420\",\"type\":\"Selection\"},{\"attributes\":{\"overlay\":{\"id\":\"2411\"}},\"id\":\"2409\",\"type\":\"BoxZoomTool\"},{\"attributes\":{},\"id\":\"2436\",\"type\":\"UnionRenderers\"},{\"attributes\":{\"margin\":[5,5,5,5],\"name\":\"HSpacer04059\",\"sizing_mode\":\"stretch_width\"},\"id\":\"2447\",\"type\":\"Spacer\"},{\"attributes\":{},\"id\":\"2394\",\"type\":\"LinearScale\"},{\"attributes\":{\"callback\":null,\"renderers\":[{\"id\":\"2425\"}],\"tags\":[\"hv_created\"],\"tooltips\":[[\"TotalCoinsMined\",\"@{TotalCoinsMined}\"],[\"TotalCoinSupply\",\"@{TotalCoinSupply}\"],[\"CoinName\",\"@{CoinName}\"]]},\"id\":\"2388\",\"type\":\"HoverTool\"},{\"attributes\":{\"below\":[{\"id\":\"2398\"}],\"center\":[{\"id\":\"2401\"},{\"id\":\"2405\"}],\"left\":[{\"id\":\"2402\"}],\"margin\":[5,5,5,5],\"min_border_bottom\":10,\"min_border_left\":10,\"min_border_right\":10,\"min_border_top\":10,\"plot_height\":300,\"plot_width\":700,\"renderers\":[{\"id\":\"2425\"}],\"sizing_mode\":\"fixed\",\"title\":{\"id\":\"2390\"},\"toolbar\":{\"id\":\"2412\"},\"x_range\":{\"id\":\"2386\"},\"x_scale\":{\"id\":\"2394\"},\"y_range\":{\"id\":\"2387\"},\"y_scale\":{\"id\":\"2396\"}},\"id\":\"2389\",\"subtype\":\"Figure\",\"type\":\"Plot\"},{\"attributes\":{\"axis_label\":\"TotalCoinsMined\",\"bounds\":\"auto\",\"formatter\":{\"id\":\"2428\"},\"major_label_orientation\":\"horizontal\",\"ticker\":{\"id\":\"2399\"}},\"id\":\"2398\",\"type\":\"LinearAxis\"},{\"attributes\":{},\"id\":\"2396\",\"type\":\"LinearScale\"},{\"attributes\":{\"data\":{\"CoinName\":[\"42\",\"404\",\"1337\",\"BTC\",\"ETH\",\"LTC\",\"DASH\",\"XMR\",\"ETC\",\"ZEC\",\"BTS\",\"DGB\",\"BTCD\",\"XPY\",\"PRC\",\"KOBO\",\"SPR\",\"ARG\",\"AUR\",\"BLU\",\"XMY\",\"MOON\",\"ZET\",\"SXC\",\"QTL\",\"ENRG\",\"QRK\",\"RIC\",\"DGC\",\"BTB\",\"CAT\",\"CBX\",\"CCN\",\"CRYPT\",\"CSC\",\"DMD\",\"XVG\",\"DVC\",\"EAC\",\"EFL\",\"EMC2\",\"EMD\",\"EXCL\",\"FLT\",\"FRK\",\"FTC\",\"GDC\",\"GLC\",\"GLD\",\"HBN\",\"HYP\",\"IFC\",\"IOC\",\"IXC\",\"KGC\",\"LKY\",\"LTB\",\"MAX\",\"MEC\",\"MED\",\"MINT\",\"MINC\",\"MZC\",\"NAUT\",\"NAV\",\"NOBL\",\"NMC\",\"NYAN\",\"OPAL\",\"ORB\",\"POT\",\"PXC\",\"RDD\",\"RPC\",\"SBC\",\"SMC\",\"SUPER\",\"SYNC\",\"SYS\",\"TES\",\"TGC\",\"TIT\",\"TOR\",\"TRC\",\"UNB\",\"UNO\",\"URO\",\"USDE\",\"UTC\",\"VIA\",\"VRC\",\"VTC\",\"WDC\",\"XC\",\"XCR\",\"XJO\",\"XST\",\"ZCC\",\"BCN\",\"XDN\",\"BURST\",\"SJCX\",\"MONA\",\"NTRN\",\"FAIR\",\"NLG\",\"RBY\",\"PTC\",\"KORE\",\"WBB\",\"NOTE\",\"FLO\",\"8BIT\",\"STV\",\"ABY\",\"FLDC\",\"U\",\"UIS\",\"CYP\",\"OMC\",\"VTR\",\"GRE\",\"XCN\",\"MSC\",\"SOON\",\"1CR\",\"ISL\",\"NXS\",\"MARS\",\"CTO\",\"ACP\",\"DRZ\",\"BSC\",\"SQL\",\"SONG\",\"ZNY\",\"DIGS\",\"EXP\",\"CON\",\"SC\",\"EMC\",\"EGC\",\"MND\",\"I0C\",\"DCR\",\"RVR\",\"HODL\",\"EDRC\",\"HTC\",\"GAME\",\"DBIC\",\"DIEM\",\"PWR\",\"BLRY\",\"GPU\",\"ADZ\",\"SOIL\",\"YOC\",\"SIB\",\"ERC\",\"ZEIT\",\"SWING\",\"SAFEX\",\"NEBU\",\"FRN\",\"BOLI\",\"XRA\",\"REV\",\"CKC\",\"VIP\",\"BSD\",\"OMNI\",\"LIR\",\"PUT\",\"IBANK\",\"FRWC\",\"MUDRA\",\"PIZZA\",\"LC\",\"KMD\",\"GB\",\"CTC\",\"KRB\",\"BXT\",\"ZYD\",\"MST\",\"ZNE\",\"COVAL\",\"ROOT\",\"DOPE\",\"BTCR\",\"DLC\",\"SCN\",\"SH\",\"BUZZ\",\"XPO\",\"PSB\",\"HALLO\",\"XZC\",\"CFC\",\"ROYAL\",\"GNJ\",\"TEAM\",\"LANA\",\"ELE\",\"ZCL\",\"ARK\",\"INSANE\",\"KLC\",\"ATX\",\"EMB\",\"XEN\",\"FRE\",\"PLNC\",\"ARCO\",\"KURT\",\"XCRE\",\"ENT\",\"EUC\",\"BCF\",\"XSN\",\"BCCOIN\",\"MONEY\",\"XNG\",\"XCI\",\"RC\",\"PND\",\"UNITS\",\"GAKH\",\"ASAFE2\",\"LTCR\",\"OS76\",\"BIC\",\"HXX\",\"KED\",\"IOP\",\"KUSH\",\"PRX\",\"PAC\",\"IMPCH\",\"CTL\",\"ZBC\",\"FRST\",\"BVC\",\"FIND\",\"VLTC\",\"ZER\",\"CHAT\",\"CDN\",\"ZOI\",\"RNS\",\"DBIX\",\"XVP\",\"TAJ\",\"IMX\",\"EB3\",\"ATMOS\",\"HPC\",\"CXT\",\"MCRN\",\"RAIN\",\"IMS\",\"ARGUS\",\"LMC\",\"PROC\",\"XGR\",\"BENJI\",\"GRW\",\"ILC\",\"PHR\",\"DEA\",\"HTML5\",\"USC\",\"EQT\",\"QTUM\",\"QRL\",\"ESP\",\"DYN\",\"NANO\",\"CHAN\",\"DCY\",\"DNR\",\"DP\",\"VUC\",\"BTPL\",\"UNIFY\",\"BRIT\",\"SOCC\",\"ARC\",\"DAS\",\"LINDA\",\"XLC\",\"ONION\",\"BTX\",\"GCN\",\"SMART\",\"SIGT\",\"ONX\",\"CRM\",\"BCH\",\"XMCC\",\"DFT\",\"VET\",\"SOJ\",\"STCN\",\"NYC\",\"FRAZ\",\"KRONE\",\"ACC\",\"LINX\",\"XCXT\",\"ETHD\",\"SUMO\",\"ODN\",\"ADA\",\"REC\",\"BTCZ\",\"TZC\",\"ELM\",\"TER\",\"VIVO\",\"RUP\",\"BTG\",\"WOMEN\",\"MAY\",\"NAMO\",\"LUX\",\"PIRL\",\"XIOS\",\"BTDX\",\"EBST\",\"KEK\",\"BLHC\",\"XIN\",\"PURA\",\"INN\",\"ELLA\",\"GBX\",\"MAG\",\"TAU\",\"ECA\",\"BCD\",\"XSH\",\"CNBC\",\"XUN\",\"COAL\",\"DAXX\",\"BWK\",\"KLKS\",\"AC3\",\"LTHN\",\"GER\",\"LTCU\",\"POP\",\"PNX\",\"PHO\",\"SUCR\",\"SPK\",\"WAGE\",\"GUN\",\"IRL\",\"TROLL\",\"LCP\",\"MONK\",\"PCOIN\",\"UBTC\",\"ITZ\",\"TPAY\",\"MCT\",\"MBC\",\"TRTL\",\"MUN\",\"USX\",\"NBR\",\"SSS\",\"TRF\",\"KREDS\",\"TOKC\",\"BBP\",\"LCC\",\"FLIP\",\"LOT\",\"CIF\",\"SPD\",\"POA\",\"PUSHI\",\"ELP\",\"VLX\",\"ONT\",\"CLO\",\"TUBE\",\"PSD\",\"ADK\",\"BSX\",\"BRIA\",\"IC\",\"BTL\",\"MEDIC\",\"ALPS\",\"BITG\",\"DEV\",\"ABJ\",\"SEM\",\"FTO\",\"CARE\",\"NZL\",\"XMC\",\"PROTON\",\"DEAL\",\"JUMP\",\"INFX\",\"XBI\",\"KEC\",\"HWC\",\"GIN\",\"PLTC\",\"LOKI\",\"NCP\",\"SIC\",\"XT3\",\"MGD\",\"VIG\",\"PLURA\",\"EMAR\",\"DKD\",\"LYNX\",\"POSQ\",\"BWS\",\"MUSE\",\"XMN\",\"PLUS1\",\"AXE\",\"TRVC\",\"DTEM\",\"GIC\",\"PNY\",\"ABS\",\"VITAE\",\"HEX\",\"TPC\",\"WEBC\",\"RYO\",\"URALS\",\"QWC\",\"ARE\",\"EUNO\",\"MMO\",\"KETAN\",\"PPAI\",\"XDNA\",\"PAXEX\",\"AZART\",\"TSC\",\"KCASH\",\"XCG\",\"AAC\",\"CRYP\",\"BTXC\",\"ACM\",\"BSV\",\"BITM\",\"JMC\",\"FRED\",\"HERB\",\"UMO\",\"LIT\",\"PIRATE\",\"EXO\",\"BLTG\",\"OWC\",\"BEAM\",\"GALI\",\"BTH\",\"CSPN\",\"CREDIT\",\"SLC\",\"DASHP\",\"NSD\",\"BEET\",\"TTN\",\"AWR\",\"BLAST\",\"XRC\",\"GLT\",\"INSN\",\"ALX\",\"LDOGE\",\"SLR\",\"TRK\",\"UFO\",\"OC\",\"BLC\",\"BITS\",\"NEOS\",\"HYPER\",\"PINK\",\"CESC\",\"ADC\",\"NKA\",\"PIGGY\",\"CRW\",\"GEN\",\"SMLY\",\"MI\",\"GRS\",\"CPC\",\"CLUB\",\"RADS\",\"BTA\",\"PAK\",\"CRB\",\"OK\",\"LSK\",\"XHI\",\"XWC\",\"FSC\",\"J\",\"TRI\",\"VOLLAR\",\"EOS\",\"RCC\",\"OXY\",\"TCH\",\"WAVES\",\"PART\",\"BTT\",\"NXT\",\"ZEPH\",\"GAP\",\"BDX\",\"ZEN\",\"XBC\"],\"TotalCoinSupply\":{\"__ndarray__\":\"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\",\"dtype\":\"float64\",\"order\":\"little\",\"shape\":[532]},\"TotalCoinsMined\":{\"__ndarray__\":\"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\",\"dtype\":\"float64\",\"order\":\"little\",\"shape\":[532]}},\"selected\":{\"id\":\"2420\"},\"selection_policy\":{\"id\":\"2436\"}},\"id\":\"2419\",\"type\":\"ColumnDataSource\"},{\"attributes\":{},\"id\":\"2399\",\"type\":\"BasicTicker\"},{\"attributes\":{\"source\":{\"id\":\"2419\"}},\"id\":\"2426\",\"type\":\"CDSView\"},{\"attributes\":{\"axis\":{\"id\":\"2398\"},\"grid_line_color\":null,\"ticker\":null},\"id\":\"2401\",\"type\":\"Grid\"},{\"attributes\":{\"active_drag\":\"auto\",\"active_inspect\":\"auto\",\"active_multi\":null,\"active_scroll\":\"auto\",\"active_tap\":\"auto\",\"tools\":[{\"id\":\"2388\"},{\"id\":\"2406\"},{\"id\":\"2407\"},{\"id\":\"2408\"},{\"id\":\"2409\"},{\"id\":\"2410\"}]},\"id\":\"2412\",\"type\":\"Toolbar\"},{\"attributes\":{},\"id\":\"2403\",\"type\":\"BasicTicker\"},{\"attributes\":{\"axis_label\":\"TotalCoinSupply\",\"bounds\":\"auto\",\"formatter\":{\"id\":\"2430\"},\"major_label_orientation\":\"horizontal\",\"ticker\":{\"id\":\"2403\"}},\"id\":\"2402\",\"type\":\"LinearAxis\"},{\"attributes\":{\"data_source\":{\"id\":\"2419\"},\"glyph\":{\"id\":\"2422\"},\"hover_glyph\":null,\"muted_glyph\":{\"id\":\"2424\"},\"nonselection_glyph\":{\"id\":\"2423\"},\"selection_glyph\":null,\"view\":{\"id\":\"2426\"}},\"id\":\"2425\",\"type\":\"GlyphRenderer\"},{\"attributes\":{\"bottom_units\":\"screen\",\"fill_alpha\":0.5,\"fill_color\":\"lightgrey\",\"left_units\":\"screen\",\"level\":\"overlay\",\"line_alpha\":1.0,\"line_color\":\"black\",\"line_dash\":[4,4],\"line_width\":2,\"right_units\":\"screen\",\"top_units\":\"screen\"},\"id\":\"2411\",\"type\":\"BoxAnnotation\"},{\"attributes\":{\"end\":1.042857142857143,\"reset_end\":1.042857142857143,\"reset_start\":-0.04285714285714286,\"start\":-0.04285714285714286,\"tags\":[[[\"TotalCoinsMined\",\"TotalCoinsMined\",null]]]},\"id\":\"2386\",\"type\":\"Range1d\"},{\"attributes\":{\"fill_color\":{\"value\":\"#1f77b3\"},\"line_color\":{\"value\":\"#1f77b3\"},\"size\":{\"units\":\"screen\",\"value\":5.477225575051661},\"x\":{\"field\":\"TotalCoinsMined\"},\"y\":{\"field\":\"TotalCoinSupply\"}},\"id\":\"2422\",\"type\":\"Scatter\"},{\"attributes\":{\"end\":1.1,\"reset_end\":1.1,\"reset_start\":-0.1,\"start\":-0.1,\"tags\":[[[\"TotalCoinSupply\",\"TotalCoinSupply\",null]]]},\"id\":\"2387\",\"type\":\"Range1d\"},{\"attributes\":{\"children\":[{\"id\":\"2385\"},{\"id\":\"2389\"},{\"id\":\"2447\"}],\"margin\":[0,0,0,0],\"name\":\"Row04054\",\"tags\":[\"embedded\"]},\"id\":\"2384\",\"type\":\"Row\"}],\"root_ids\":[\"2384\"]},\"title\":\"Bokeh Application\",\"version\":\"2.2.3\"}};\n",
       "    var render_items = [{\"docid\":\"c0ea7251-8a9f-44f1-b0a1-ead581f15857\",\"root_ids\":[\"2384\"],\"roots\":{\"2384\":\"b3472985-97c1-49c8-8ba8-5d31ba29f340\"}}];\n",
       "    root.Bokeh.embed.embed_items_notebook(docs_json, render_items);\n",
       "  }\n",
       "  if (root.Bokeh !== undefined && root.Bokeh.Panel !== undefined) {\n",
       "    embed_document(root);\n",
       "  } else {\n",
       "    var attempts = 0;\n",
       "    var timer = setInterval(function(root) {\n",
       "      if (root.Bokeh !== undefined && root.Bokeh.Panel !== undefined) {\n",
       "        clearInterval(timer);\n",
       "        embed_document(root);\n",
       "      } else if (document.readyState == \"complete\") {\n",
       "        attempts++;\n",
       "        if (attempts > 100) {\n",
       "          clearInterval(timer);\n",
       "          console.log(\"Bokeh: ERROR: Unable to run BokehJS code because BokehJS library is missing\");\n",
       "        }\n",
       "      }\n",
       "    }, 10, root)\n",
       "  }\n",
       "})(window);</script>"
      ],
      "text/plain": [
       ":Scatter   [TotalCoinsMined]   (TotalCoinSupply,CoinName)"
      ]
     },
     "execution_count": 198,
     "metadata": {
      "application/vnd.holoviews_exec.v0+json": {
       "id": "2384"
      }
     },
     "output_type": "execute_result"
    }
   ],
   "source": [
    "# Plotting the scatter with x=\"TotalCoinsMined\" and y=\"TotalCoinSupply\"\n",
    "scaled_data.hvplot.scatter(\n",
    "    x=\"TotalCoinsMined\",\n",
    "    y=\"TotalCoinSupply\",\n",
    "    hover_cols=[\"CoinName\"]\n",
    ")"
   ]
  }
 ],
 "metadata": {
  "file_extension": ".py",
  "kernelspec": {
   "display_name": "Python [conda env:pyvizenv] *",
   "language": "python",
   "name": "conda-env-pyvizenv-py"
  },
  "language_info": {
   "codemirror_mode": {
    "name": "ipython",
    "version": 3
   },
   "file_extension": ".py",
   "mimetype": "text/x-python",
   "name": "python",
   "nbconvert_exporter": "python",
   "pygments_lexer": "ipython3",
   "version": "3.7.7"
  },
  "mimetype": "text/x-python",
  "name": "python",
  "npconvert_exporter": "python",
  "pygments_lexer": "ipython3",
  "version": 3
 },
 "nbformat": 4,
 "nbformat_minor": 4
}
